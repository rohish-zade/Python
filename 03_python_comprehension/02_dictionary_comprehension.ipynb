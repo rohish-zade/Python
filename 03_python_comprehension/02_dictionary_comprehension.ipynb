{
 "cells": [
  {
   "cell_type": "markdown",
   "metadata": {
    "application/vnd.databricks.v1+cell": {
     "cellMetadata": {},
     "inputWidgets": {},
     "nuid": "bc15d340-2579-455d-b11e-f0eb406f8afc",
     "showTitle": false,
     "title": ""
    }
   },
   "source": [
    "##Dictionary Comprehension\n",
    "- Dictionary comprehension is an elegant and concise way to create dictionaries.\n",
    "- Like List Comprehension, Python allows dictionary comprehensions. \n",
    "- We can create dictionaries using simple expressions. A dictionary comprehension takes the form {key: value for (key, value) in iterable}"
   ]
  },
  {
   "cell_type": "markdown",
   "metadata": {
    "application/vnd.databricks.v1+cell": {
     "cellMetadata": {},
     "inputWidgets": {},
     "nuid": "361a28f2-b8a0-4be5-8680-5ce86ff0c8d1",
     "showTitle": false,
     "title": ""
    }
   },
   "source": [
    "**Example:** Dictionary Comprehension"
   ]
  },
  {
   "cell_type": "code",
   "execution_count": 0,
   "metadata": {
    "application/vnd.databricks.v1+cell": {
     "cellMetadata": {
      "byteLimit": 2048000,
      "rowLimit": 10000
     },
     "inputWidgets": {},
     "nuid": "33600f02-3e5a-41e7-bbd0-8338bcd82696",
     "showTitle": false,
     "title": ""
    }
   },
   "outputs": [
    {
     "output_type": "stream",
     "name": "stdout",
     "output_type": "stream",
     "text": [
      "{1: 1, 2: 4, 3: 9, 4: 16, 5: 25, 6: 36, 7: 49, 8: 64, 9: 81, 10: 100}\n"
     ]
    }
   ],
   "source": [
    "# Consider the following code:\n",
    "\n",
    "square_dict = dict()\n",
    "for num in range(1, 11):\n",
    "    square_dict[num] = num*num\n",
    "print(square_dict)"
   ]
  },
  {
   "cell_type": "markdown",
   "metadata": {
    "application/vnd.databricks.v1+cell": {
     "cellMetadata": {},
     "inputWidgets": {},
     "nuid": "edbdfbdc-e6ad-4b6c-82a6-ca2d84299769",
     "showTitle": false,
     "title": ""
    }
   },
   "source": [
    "Now, let's create the dictionary in the above program using **dictionary comprehension.**"
   ]
  },
  {
   "cell_type": "code",
   "execution_count": 0,
   "metadata": {
    "application/vnd.databricks.v1+cell": {
     "cellMetadata": {
      "byteLimit": 2048000,
      "rowLimit": 10000
     },
     "inputWidgets": {},
     "nuid": "3c39f12b-c0ec-4c9c-a622-7d40698e854d",
     "showTitle": false,
     "title": ""
    }
   },
   "outputs": [
    {
     "output_type": "stream",
     "name": "stdout",
     "output_type": "stream",
     "text": [
      "{1: 1, 2: 4, 3: 9, 4: 16, 5: 25, 6: 36, 7: 49, 8: 64, 9: 81, 10: 100}\n"
     ]
    }
   ],
   "source": [
    "# dictionary comprehension example\n",
    "\n",
    "square_dict = {num: num*num for num in range(1, 11)}\n",
    "\n",
    "# The output of both programs will be the same.\n",
    "print(square_dict)"
   ]
  },
  {
   "cell_type": "markdown",
   "metadata": {
    "application/vnd.databricks.v1+cell": {
     "cellMetadata": {},
     "inputWidgets": {},
     "nuid": "5d1469a6-4bae-4fa5-b010-d194b45b2208",
     "showTitle": false,
     "title": ""
    }
   },
   "source": [
    "In both programs, we have created a dictionary square_dict with number-square key/value pair.\n",
    "\n",
    "However, using dictionary comprehension allowed us to create a dictionary in a single line.\n",
    "\n"
   ]
  },
  {
   "cell_type": "markdown",
   "metadata": {
    "application/vnd.databricks.v1+cell": {
     "cellMetadata": {},
     "inputWidgets": {},
     "nuid": "70a3ad62-b91b-4ca1-b4f8-627f74602737",
     "showTitle": false,
     "title": ""
    }
   },
   "source": [
    "###Syntax for dictionary comprehension\n",
    "\n",
    "`dictionary = {key: value for vars in iterable}`\n",
    "\n",
    "Let's compare this syntax with dictionary comprehension from the above example.\n",
    "\n",
    "<div style=\"text-align: center; line-height: 0; padding-top: 9px;\">\n",
    "  <img src=\"https://cdn.programiz.com/sites/tutorial2program/files/Python-dictionary-comprehension.png\" alt=\"dictionary comprehension\" style=\"width: 600px\">\n",
    "</div>"
   ]
  },
  {
   "cell_type": "markdown",
   "metadata": {
    "application/vnd.databricks.v1+cell": {
     "cellMetadata": {},
     "inputWidgets": {},
     "nuid": "6526bce5-87d6-4450-86a8-c4694f55ccc2",
     "showTitle": false,
     "title": ""
    }
   },
   "source": [
    "**Example 2:** How to use Dictionary Comprehension\n",
    "\n",
    "We can use dictionary comprehension using data from another dictionary."
   ]
  },
  {
   "cell_type": "code",
   "execution_count": 0,
   "metadata": {
    "application/vnd.databricks.v1+cell": {
     "cellMetadata": {
      "byteLimit": 2048000,
      "rowLimit": 10000
     },
     "inputWidgets": {},
     "nuid": "8572dadc-fe1e-4166-90ec-2c41757ee52e",
     "showTitle": false,
     "title": ""
    }
   },
   "outputs": [
    {
     "output_type": "stream",
     "name": "stdout",
     "output_type": "stream",
     "text": [
      "Old Prize:  {'milk': 1.02, 'coffee': 2.5, 'bread': 2.5}\nNew Prize:  {'milk': 0.7752, 'coffee': 1.9, 'bread': 1.9}\n"
     ]
    }
   ],
   "source": [
    "#item price in dollars\n",
    "old_price = {'milk': 1.02, 'coffee': 2.5, 'bread': 2.5}\n",
    "print(\"Old Prize: \", old_price)\n",
    "\n",
    "dollar_to_pound = 0.76\n",
    "new_price = {item: value*dollar_to_pound for (item, value) in old_price.items()}\n",
    "print(\"New Prize: \", new_price)\n"
   ]
  },
  {
   "cell_type": "markdown",
   "metadata": {
    "application/vnd.databricks.v1+cell": {
     "cellMetadata": {},
     "inputWidgets": {},
     "nuid": "265061ff-94c4-454a-866e-dd3665e0a4b0",
     "showTitle": false,
     "title": ""
    }
   },
   "source": [
    "#####Conditionals in Dictionary Comprehension"
   ]
  },
  {
   "cell_type": "code",
   "execution_count": 0,
   "metadata": {
    "application/vnd.databricks.v1+cell": {
     "cellMetadata": {
      "byteLimit": 2048000,
      "rowLimit": 10000
     },
     "inputWidgets": {},
     "nuid": "1c1aa86b-1545-42a2-ba4e-0163ebe6c03c",
     "showTitle": false,
     "title": ""
    }
   },
   "outputs": [
    {
     "output_type": "stream",
     "name": "stdout",
     "output_type": "stream",
     "text": [
      "{'jack': 38, 'michael': 48}\n"
     ]
    }
   ],
   "source": [
    "# only the items with even value have been added, because of the if clause in the dictionary comprehension.\n",
    "\n",
    "original_dict = {'jack': 38, 'michael': 48, 'guido': 57, 'john': 33}\n",
    "\n",
    "even_dict = {k: v for (k, v) in original_dict.items() if v % 2 == 0}\n",
    "print(even_dict)"
   ]
  },
  {
   "cell_type": "markdown",
   "metadata": {
    "application/vnd.databricks.v1+cell": {
     "cellMetadata": {},
     "inputWidgets": {},
     "nuid": "9fec684e-a847-4d61-9740-e9b02777cc4c",
     "showTitle": false,
     "title": ""
    }
   },
   "source": [
    "#####if-else Conditional Dictionary Comprehension"
   ]
  },
  {
   "cell_type": "code",
   "execution_count": 0,
   "metadata": {
    "application/vnd.databricks.v1+cell": {
     "cellMetadata": {
      "byteLimit": 2048000,
      "rowLimit": 10000
     },
     "inputWidgets": {},
     "nuid": "7e0b06ac-fd07-4597-8bd8-498508e84339",
     "showTitle": false,
     "title": ""
    }
   },
   "outputs": [
    {
     "output_type": "stream",
     "name": "stdout",
     "output_type": "stream",
     "text": [
      "{'jack': 'young', 'michael': 'old', 'guido': 'old', 'john': 'young'}\n"
     ]
    }
   ],
   "source": [
    "# The items with a value of 40 or more have the value of 'old' while others have the value of 'young'.\n",
    "original_dict = {'jack': 38, 'michael': 48, 'guido': 57, 'john': 33}\n",
    "\n",
    "new_dict_1 = {k: ('old' if v > 40 else 'young') for (k, v) in original_dict.items()}\n",
    "print(new_dict_1)"
   ]
  },
  {
   "cell_type": "markdown",
   "metadata": {
    "application/vnd.databricks.v1+cell": {
     "cellMetadata": {},
     "inputWidgets": {},
     "nuid": "cce8050c-61cb-4bf7-b539-af4707241235",
     "showTitle": false,
     "title": ""
    }
   },
   "source": [
    "#####Nested Dictionary with Two Dictionary Comprehensions"
   ]
  },
  {
   "cell_type": "code",
   "execution_count": 0,
   "metadata": {
    "application/vnd.databricks.v1+cell": {
     "cellMetadata": {
      "byteLimit": 2048000,
      "rowLimit": 10000
     },
     "inputWidgets": {},
     "nuid": "35711b13-2192-41bf-bd51-915e606147de",
     "showTitle": false,
     "title": ""
    }
   },
   "outputs": [
    {
     "output_type": "stream",
     "name": "stdout",
     "output_type": "stream",
     "text": [
      "{2: {1: 2, 2: 4, 3: 6, 4: 8, 5: 10}, 3: {1: 3, 2: 6, 3: 9, 4: 12, 5: 15}, 4: {1: 4, 2: 8, 3: 12, 4: 16, 5: 20}}\n"
     ]
    }
   ],
   "source": [
    "dictionary = {\n",
    "    k1: {k2: k1 * k2 for k2 in range(1, 6)} for k1 in range(2, 5)\n",
    "}\n",
    "print(dictionary)"
   ]
  },
  {
   "cell_type": "markdown",
   "metadata": {
    "application/vnd.databricks.v1+cell": {
     "cellMetadata": {},
     "inputWidgets": {},
     "nuid": "7e1c4e19-ee9c-41db-9e2c-fcb39bd587ff",
     "showTitle": false,
     "title": ""
    }
   },
   "source": [
    "- we have constructed a multiplication table in a nested dictionary, for numbers from 2 to 4.\n",
    "- Whenever nested dictionary comprehension is used, **Python first starts from the outer loop and then goes to the inner one**.\n"
   ]
  },
  {
   "cell_type": "code",
   "execution_count": 0,
   "metadata": {
    "application/vnd.databricks.v1+cell": {
     "cellMetadata": {
      "byteLimit": 2048000,
      "rowLimit": 10000
     },
     "inputWidgets": {},
     "nuid": "4ecb6c37-a7bb-490a-bb7d-696d6d426269",
     "showTitle": false,
     "title": ""
    }
   },
   "outputs": [
    {
     "output_type": "stream",
     "name": "stdout",
     "output_type": "stream",
     "text": [
      "{2: {1: 2, 2: 4, 3: 6, 4: 8, 5: 10}, 3: {1: 3, 2: 6, 3: 9, 4: 12, 5: 15}, 4: {1: 4, 2: 8, 3: 12, 4: 16, 5: 20}}\n"
     ]
    }
   ],
   "source": [
    "# So, the above code would be equivalent to:\n",
    "\n",
    "dictionary = dict()\n",
    "for k1 in range(2, 5):\n",
    "    dictionary[k1] = {k2: k1*k2 for k2 in range(1, 6)}\n",
    "print(dictionary)"
   ]
  },
  {
   "cell_type": "markdown",
   "metadata": {
    "application/vnd.databricks.v1+cell": {
     "cellMetadata": {},
     "inputWidgets": {},
     "nuid": "29dc7073-453b-4cdf-9f94-43f0b38e7891",
     "showTitle": false,
     "title": ""
    }
   },
   "source": [
    "####Using zip() function.\n",
    "we have two lists named `keys` and `value` and we are iterating over them with the help of zip() function."
   ]
  },
  {
   "cell_type": "code",
   "execution_count": 0,
   "metadata": {
    "application/vnd.databricks.v1+cell": {
     "cellMetadata": {
      "byteLimit": 2048000,
      "rowLimit": 10000
     },
     "inputWidgets": {},
     "nuid": "74d2a5a7-60f6-4a87-9d4d-674dab5105f7",
     "showTitle": false,
     "title": ""
    }
   },
   "outputs": [
    {
     "output_type": "stream",
     "name": "stdout",
     "output_type": "stream",
     "text": [
      "{'a': 1, 'b': 2, 'c': 3, 'd': 4, 'e': 5}\n"
     ]
    }
   ],
   "source": [
    "# Python code to demonstrate dictionary \n",
    "# comprehension\n",
    "\n",
    "# Lists to represent keys and values\n",
    "keys = ['a','b','c','d','e']\n",
    "values = [1,2,3,4,5]  \n",
    "\n",
    "# but this line shows dict comprehension here  \n",
    "myDict = { k:v for (k,v) in zip(keys, values)}  \n",
    "\n",
    "# We can use below too\n",
    "# myDict = dict(zip(keys, values))  \n",
    "\n",
    "print (myDict)"
   ]
  },
  {
   "cell_type": "markdown",
   "metadata": {
    "application/vnd.databricks.v1+cell": {
     "cellMetadata": {},
     "inputWidgets": {},
     "nuid": "e81458e2-6dd4-48e2-bd52-2a636fd1275a",
     "showTitle": false,
     "title": ""
    }
   },
   "source": [
    "####Using fromkeys() Method\n",
    "fromkeys() method that returns a dictionary with specific keys and values."
   ]
  },
  {
   "cell_type": "code",
   "execution_count": 0,
   "metadata": {
    "application/vnd.databricks.v1+cell": {
     "cellMetadata": {
      "byteLimit": 2048000,
      "rowLimit": 10000
     },
     "inputWidgets": {},
     "nuid": "4ef3bf31-acfa-4bb1-8fd5-cc049a991909",
     "showTitle": false,
     "title": ""
    }
   },
   "outputs": [
    {
     "output_type": "stream",
     "name": "stdout",
     "output_type": "stream",
     "text": [
      "{0: True, 1: True, 2: True, 3: True, 4: True}\n"
     ]
    }
   ],
   "source": [
    "dic=dict.fromkeys(range(5), True)\n",
    "\n",
    "print(dic)"
   ]
  },
  {
   "cell_type": "markdown",
   "metadata": {
    "application/vnd.databricks.v1+cell": {
     "cellMetadata": {},
     "inputWidgets": {},
     "nuid": "51b1a46d-d890-4dea-9068-5363f2235fab",
     "showTitle": false,
     "title": ""
    }
   },
   "source": [
    "**Advantages of Using Dictionary Comprehension**\n",
    "- Dictionary comprehension shortens the process of dictionary initialization by a lot. It makes the code more pythonic.\n",
    "- Using dictionary comprehension in our code can shorten the lines of code while keeping the logic intact."
   ]
  },
  {
   "cell_type": "markdown",
   "metadata": {
    "application/vnd.databricks.v1+cell": {
     "cellMetadata": {},
     "inputWidgets": {},
     "nuid": "c090641b-2357-4036-904b-d4f87a885945",
     "showTitle": false,
     "title": ""
    }
   },
   "source": [
    "**Warnings on Using Dictionary Comprehension**\n",
    "\n",
    "- Even though dictionary comprehensions are great for writing elegant code that is easy to read, they are not always the right choice.\n",
    "\n",
    "- We must be careful while using them as :\n",
    "  - They can sometimes make the code run slower and consume more memory.\n",
    "  - They can also decrease the readability of the code."
   ]
  }
 ],
 "metadata": {
  "application/vnd.databricks.v1+notebook": {
   "dashboards": [],
   "environmentMetadata": null,
   "language": "python",
   "notebookMetadata": {
    "pythonIndentUnit": 4
   },
   "notebookName": "Dictionary Comprehension",
   "widgets": {}
  }
 },
 "nbformat": 4,
 "nbformat_minor": 0
}
