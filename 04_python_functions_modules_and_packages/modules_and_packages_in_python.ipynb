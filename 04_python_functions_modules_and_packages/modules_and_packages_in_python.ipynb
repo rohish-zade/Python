{
 "cells": [
  {
   "cell_type": "markdown",
   "metadata": {
    "application/vnd.databricks.v1+cell": {
     "cellMetadata": {},
     "inputWidgets": {},
     "nuid": "33b34067-3cbb-4ffe-9846-6907df8e1119",
     "showTitle": false,
     "title": ""
    }
   },
   "source": [
    "##Modules and Packages in Python\n",
    "- In Python, modules and packages are ways to organize and manage your code. \n",
    "- They help in structuring your programs into manageable pieces, promoting code reuse and making it easier to maintain and understand"
   ]
  },
  {
   "cell_type": "markdown",
   "metadata": {
    "application/vnd.databricks.v1+cell": {
     "cellMetadata": {},
     "inputWidgets": {},
     "nuid": "5c431da1-7bc5-4caf-94b4-65e5d0568fd8",
     "showTitle": false,
     "title": ""
    }
   },
   "source": []
  },
  {
   "cell_type": "markdown",
   "metadata": {
    "application/vnd.databricks.v1+cell": {
     "cellMetadata": {},
     "inputWidgets": {},
     "nuid": "cc04bb90-394d-47d7-b8da-f89194961b69",
     "showTitle": false,
     "title": ""
    }
   },
   "source": [
    "###Modules\n",
    "- A module is a single file (or files) that contains Python code. \n",
    "- Modules are used to break down large programs into smaller, manageable, and organized files. \n",
    "- Each module can define functions, classes, and variables, and can also include runnable code."
   ]
  },
  {
   "cell_type": "markdown",
   "metadata": {
    "application/vnd.databricks.v1+cell": {
     "cellMetadata": {},
     "inputWidgets": {},
     "nuid": "1506d3ce-db57-4ae6-8653-9481c954fa95",
     "showTitle": false,
     "title": ""
    }
   },
   "source": [
    "#####Creating a Module\n",
    "To create a module, simply save a Python script with a .py extension. "
   ]
  },
  {
   "cell_type": "markdown",
   "metadata": {
    "application/vnd.databricks.v1+cell": {
     "cellMetadata": {},
     "inputWidgets": {},
     "nuid": "b3415cdc-6837-4cf1-bd2b-564cd740dc6c",
     "showTitle": false,
     "title": ""
    }
   },
   "source": [
    "#####Using a Module\n",
    "You can use the import statement to bring the module into another script.\n",
    "You can also import specific functions or variables from a module:"
   ]
  },
  {
   "cell_type": "markdown",
   "metadata": {
    "application/vnd.databricks.v1+cell": {
     "cellMetadata": {},
     "inputWidgets": {},
     "nuid": "e05e23e8-421d-4712-ba2b-d2e9ecc18054",
     "showTitle": false,
     "title": ""
    }
   },
   "source": []
  },
  {
   "cell_type": "markdown",
   "metadata": {
    "application/vnd.databricks.v1+cell": {
     "cellMetadata": {},
     "inputWidgets": {},
     "nuid": "d818d825-c978-433a-a76e-304c8f870633",
     "showTitle": false,
     "title": ""
    }
   },
   "source": [
    "###Packages\n",
    "- A package is a way of organizing related modules into a directory hierarchy. \n",
    "- A package is a directory that contains a special file named `__init__.py`, which indicates that the directory is a Python package. \n",
    "- The `__init__.py` file can be empty, or it can contain initialization code for the package."
   ]
  },
  {
   "cell_type": "markdown",
   "metadata": {
    "application/vnd.databricks.v1+cell": {
     "cellMetadata": {},
     "inputWidgets": {},
     "nuid": "9ecc4e7c-2690-49cc-8713-700cd38e244d",
     "showTitle": false,
     "title": ""
    }
   },
   "source": [
    "#####Creating a Package\n",
    "To create a package, follow these steps:\n",
    "\n",
    "- Create a directory with a descriptive name.\n",
    "- Inside this directory, create an `__init__.py` file.\n",
    "- Add your module files to the directory."
   ]
  },
  {
   "cell_type": "markdown",
   "metadata": {
    "application/vnd.databricks.v1+cell": {
     "cellMetadata": {},
     "inputWidgets": {},
     "nuid": "558d1d0e-8309-491a-87a4-60961819b43f",
     "showTitle": false,
     "title": ""
    }
   },
   "source": [
    "#####Using a Package\n",
    "You can import modules from a package using the dot notation.\n",
    "\n",
    "Example:\n",
    "- import mypackage.module1\n",
    "- import mypackage.module2\n",
    "\n",
    "You can also import specific functions or variables:\n",
    "- from mypackage.module1 import function1\n",
    "- from mypackage.module2 import function2"
   ]
  },
  {
   "cell_type": "markdown",
   "metadata": {
    "application/vnd.databricks.v1+cell": {
     "cellMetadata": {},
     "inputWidgets": {},
     "nuid": "f1814477-c978-4944-9cef-1f2ec8064ddd",
     "showTitle": false,
     "title": ""
    }
   },
   "source": []
  },
  {
   "cell_type": "markdown",
   "metadata": {
    "application/vnd.databricks.v1+cell": {
     "cellMetadata": {},
     "inputWidgets": {},
     "nuid": "e0a87af1-fcbf-4f6c-9d27-4e5971dd678b",
     "showTitle": false,
     "title": ""
    }
   },
   "source": [
    "###Namespaces\n",
    "- Both modules and packages create namespaces, which are a way to ensure that names defined in one module do not conflict with names in another module. \n",
    "- Each module has its own namespace, which is a dictionary where variable names are the keys and their values are the corresponding object references."
   ]
  },
  {
   "cell_type": "markdown",
   "metadata": {
    "application/vnd.databricks.v1+cell": {
     "cellMetadata": {},
     "inputWidgets": {},
     "nuid": "1480bd22-bc03-4540-a2d7-f2a89583f0eb",
     "showTitle": false,
     "title": ""
    }
   },
   "source": []
  },
  {
   "cell_type": "markdown",
   "metadata": {
    "application/vnd.databricks.v1+cell": {
     "cellMetadata": {},
     "inputWidgets": {},
     "nuid": "ec93eab0-b036-475d-a336-b9a790335621",
     "showTitle": false,
     "title": ""
    }
   },
   "source": [
    "###Importance of `__init__.py`\n",
    "**1. Package Initialization:** The` __init__.py` file is executed when the package is imported. It can contain initialization code for the package, such as setting up package-level variables or importing submodules.\n",
    "\n",
    "**2. Namespace Control:** It defines the package namespace, making it possible to control which submodules and subpackages are exposed when the package is imported. You can specify what should be available at the package level.\n",
    "\n",
    "**3. Package Structure:** It helps in organizing the package structure and makes it clear that the directory is intended to be a package. This can be useful for both the interpreter and other developers who work with the code."
   ]
  },
  {
   "cell_type": "markdown",
   "metadata": {
    "application/vnd.databricks.v1+cell": {
     "cellMetadata": {},
     "inputWidgets": {},
     "nuid": "b9fa77a8-86a9-4a5f-a8dd-41ccc830dcca",
     "showTitle": false,
     "title": ""
    }
   },
   "source": [
    "#####What Happens If `__init__.py` is Not Included\n",
    "\n",
    "- **Before Python 3.3**, the absence of an` __init__.py` file meant that the directory was not considered a package. This meant you could not import modules from that directory using the package syntax.\n",
    "- **Starting with Python 3.3**, implicit namespace packages were introduced. This means that a directory without an __init__.py file can still be considered a package, and you can import modules from it. \n",
    "- However, there are still reasons to include `__init__.py`:\n",
    "  - Compatibility: Including `__init__.py` ensures compatibility with older versions of Python that do not support implicit namespace packages.\n",
    "\n",
    "  - Initialization Code: If you need to run any initialization code when the package is imported, you need `__init__`.py.\n",
    "\n",
    "  - Controlled Import: You can control what gets imported when the package is imported by defining the __all__ list in `__init__.py`."
   ]
  }
 ],
 "metadata": {
  "application/vnd.databricks.v1+notebook": {
   "dashboards": [],
   "environmentMetadata": null,
   "language": "python",
   "notebookMetadata": {
    "pythonIndentUnit": 4
   },
   "notebookName": "Modules and Packages in Python",
   "widgets": {}
  }
 },
 "nbformat": 4,
 "nbformat_minor": 0
}
