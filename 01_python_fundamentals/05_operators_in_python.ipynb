{
 "cells": [
  {
   "cell_type": "markdown",
   "metadata": {
    "application/vnd.databricks.v1+cell": {
     "cellMetadata": {},
     "inputWidgets": {},
     "nuid": "f604e822-2a5b-42fe-ba65-4266975cf701",
     "showTitle": false,
     "title": ""
    }
   },
   "source": [
    "#Python Operators\n",
    "\n",
    "Operators are used to perform operations on variables and values.\n",
    "- **OPERATORS**: These are the special symbols. Eg- + , * , /, etc.\n",
    "- **OPERAND**: It is the value on which the operator is applied."
   ]
  },
  {
   "cell_type": "markdown",
   "metadata": {
    "application/vnd.databricks.v1+cell": {
     "cellMetadata": {},
     "inputWidgets": {},
     "nuid": "d91851c1-100d-4aa3-81e3-85c373de31d0",
     "showTitle": false,
     "title": ""
    }
   },
   "source": [
    "<div style=\"text-align: center; line-height: 0; padding-top: 9px;\">\n",
    "  <img src=\"https://media.geeksforgeeks.org/wp-content/uploads/20240430181610/Operators-in-python.webp\" alt=\"Python Operators\" style=\"width: 600px\">\n",
    "</div>"
   ]
  },
  {
   "cell_type": "markdown",
   "metadata": {
    "application/vnd.databricks.v1+cell": {
     "cellMetadata": {
      "byteLimit": 2048000,
      "rowLimit": 10000
     },
     "inputWidgets": {},
     "nuid": "e997bee8-c501-4ce8-9c16-a7ff5b53be7a",
     "showTitle": false,
     "title": ""
    }
   },
   "source": [
    "#####Python divides the operators in the following groups:\n",
    "\n",
    "- Arithmetic operators\n",
    "- Assignment operators\n",
    "- Comparison operators\n",
    "- Logical operators\n",
    "- Identity operators\n",
    "- Membership operators\n",
    "- Bitwise operators"
   ]
  },
  {
   "cell_type": "markdown",
   "metadata": {
    "application/vnd.databricks.v1+cell": {
     "cellMetadata": {},
     "inputWidgets": {},
     "nuid": "e61a1ccf-a8f4-46cd-b51e-3bf2c451092e",
     "showTitle": false,
     "title": ""
    }
   },
   "source": [
    "###Arithmetic operators\n",
    "Python Arithmetic operators are used to perform basic mathematical operations like `addition`, `subtraction`, `multiplication`, and `division`.\n"
   ]
  },
  {
   "cell_type": "code",
   "execution_count": 0,
   "metadata": {
    "application/vnd.databricks.v1+cell": {
     "cellMetadata": {
      "byteLimit": 2048000,
      "rowLimit": 10000
     },
     "inputWidgets": {},
     "nuid": "7625d33c-1a66-4f4d-a567-930e88722470",
     "showTitle": false,
     "title": ""
    }
   },
   "outputs": [
    {
     "output_type": "stream",
     "name": "stdout",
     "output_type": "stream",
     "text": [
      "13\n5\n36\n1\n2.25\n2\n6561\n"
     ]
    }
   ],
   "source": [
    "a = 9\n",
    "b = 4\n",
    "\n",
    "add = a + b\n",
    "\n",
    "sub = a - b\n",
    "\n",
    "mul = a * b\n",
    "\n",
    "mod = a % b\n",
    "\n",
    "div = a / b\n",
    "integer_div = a // b\n",
    "\n",
    "power = a ** b\n",
    "\n",
    "print(add)\n",
    "print(sub)\n",
    "print(mul)\n",
    "print(mod)\n",
    "print(div)\n",
    "print(integer_div)\n",
    "print(power)"
   ]
  },
  {
   "cell_type": "markdown",
   "metadata": {
    "application/vnd.databricks.v1+cell": {
     "cellMetadata": {},
     "inputWidgets": {},
     "nuid": "d2879592-4d9f-4b2e-b82d-ccdab4d7afda",
     "showTitle": false,
     "title": ""
    }
   },
   "source": [
    "####Differences between / and // \n"
   ]
  },
  {
   "cell_type": "code",
   "execution_count": 0,
   "metadata": {
    "application/vnd.databricks.v1+cell": {
     "cellMetadata": {
      "byteLimit": 2048000,
      "rowLimit": 10000
     },
     "inputWidgets": {},
     "nuid": "6502ee59-707f-4cdf-9cd6-91a49ff72a99",
     "showTitle": false,
     "title": ""
    }
   },
   "outputs": [
    {
     "output_type": "stream",
     "name": "stdout",
     "output_type": "stream",
     "text": [
      "3.3333333333333335\n"
     ]
    }
   ],
   "source": [
    "# Division operator\n",
    "\n",
    "result = 10 / 3\n",
    "\n",
    "print(result)"
   ]
  },
  {
   "cell_type": "code",
   "execution_count": 0,
   "metadata": {
    "application/vnd.databricks.v1+cell": {
     "cellMetadata": {
      "byteLimit": 2048000,
      "rowLimit": 10000
     },
     "inputWidgets": {},
     "nuid": "9ede5075-cf5a-48e5-8343-3e4881929cfc",
     "showTitle": false,
     "title": ""
    }
   },
   "outputs": [
    {
     "output_type": "stream",
     "name": "stdout",
     "output_type": "stream",
     "text": [
      "3\n"
     ]
    }
   ],
   "source": [
    "# Floor Division or Integer Divisionoperator\n",
    "result1 = 10 // 3 # Result: 3\n",
    "\n",
    "print(result1)"
   ]
  },
  {
   "cell_type": "markdown",
   "metadata": {
    "application/vnd.databricks.v1+cell": {
     "cellMetadata": {},
     "inputWidgets": {},
     "nuid": "b15072f8-1dbf-42e8-8646-703d6978108e",
     "showTitle": false,
     "title": ""
    }
   },
   "source": [
    "###Assignment Operators\n",
    "\n",
    "Assignment operators are used to assign values to variables:"
   ]
  },
  {
   "cell_type": "code",
   "execution_count": 0,
   "metadata": {
    "application/vnd.databricks.v1+cell": {
     "cellMetadata": {
      "byteLimit": 2048000,
      "rowLimit": 10000
     },
     "inputWidgets": {},
     "nuid": "c0f4455f-a097-4407-9efa-0289277e207d",
     "showTitle": false,
     "title": ""
    }
   },
   "outputs": [
    {
     "output_type": "stream",
     "name": "stdout",
     "output_type": "stream",
     "text": [
      "8\n"
     ]
    }
   ],
   "source": [
    "# Assigning values using \n",
    "# Assignment Operator \n",
    "a = 3\n",
    "b = 5\n",
    "\n",
    "c = a + b \n",
    "\n",
    "# Output \n",
    "print(c)"
   ]
  },
  {
   "cell_type": "code",
   "execution_count": 0,
   "metadata": {
    "application/vnd.databricks.v1+cell": {
     "cellMetadata": {
      "byteLimit": 2048000,
      "rowLimit": 10000
     },
     "inputWidgets": {},
     "nuid": "ddbc4f75-f0d1-4a5c-8bec-0a73e251e961",
     "showTitle": false,
     "title": ""
    }
   },
   "outputs": [
    {
     "output_type": "stream",
     "name": "stdout",
     "output_type": "stream",
     "text": [
      "8\n"
     ]
    }
   ],
   "source": [
    "#Addition Assignment Operator\n",
    "# a = a + b\n",
    "a += b\n",
    "\n",
    "# Output\n",
    "print(a)"
   ]
  },
  {
   "cell_type": "code",
   "execution_count": 0,
   "metadata": {
    "application/vnd.databricks.v1+cell": {
     "cellMetadata": {
      "byteLimit": 2048000,
      "rowLimit": 10000
     },
     "inputWidgets": {},
     "nuid": "2562f46c-d951-40fc-87bc-80cc0e51a111",
     "showTitle": false,
     "title": ""
    }
   },
   "outputs": [
    {
     "output_type": "stream",
     "name": "stdout",
     "output_type": "stream",
     "text": [
      "3\n"
     ]
    }
   ],
   "source": [
    "#Subtraction Assignment Operator\n",
    "# a = a - b\n",
    "a -= b\n",
    "\n",
    "# Output\n",
    "print(a)"
   ]
  },
  {
   "cell_type": "code",
   "execution_count": 0,
   "metadata": {
    "application/vnd.databricks.v1+cell": {
     "cellMetadata": {
      "byteLimit": 2048000,
      "rowLimit": 10000
     },
     "inputWidgets": {},
     "nuid": "2ac37f7b-303a-4a52-8fe6-983db6419354",
     "showTitle": false,
     "title": ""
    }
   },
   "outputs": [
    {
     "output_type": "stream",
     "name": "stdout",
     "output_type": "stream",
     "text": [
      "15\n"
     ]
    }
   ],
   "source": [
    "#Multiplication Assignment Operator\n",
    "# a = a * b\n",
    "a *= b\n",
    "\n",
    "# Output\n",
    "print(a)"
   ]
  },
  {
   "cell_type": "code",
   "execution_count": 0,
   "metadata": {
    "application/vnd.databricks.v1+cell": {
     "cellMetadata": {
      "byteLimit": 2048000,
      "rowLimit": 10000
     },
     "inputWidgets": {},
     "nuid": "cbf3710a-8337-4b98-8531-aa29f09e930e",
     "showTitle": false,
     "title": ""
    }
   },
   "outputs": [
    {
     "output_type": "stream",
     "name": "stdout",
     "output_type": "stream",
     "text": [
      "3.0\n"
     ]
    }
   ],
   "source": [
    "#Division Assignment Operator\n",
    "# a = a / b\n",
    "a /= b\n",
    "\n",
    "# Output\n",
    "print(a)"
   ]
  },
  {
   "cell_type": "code",
   "execution_count": 0,
   "metadata": {
    "application/vnd.databricks.v1+cell": {
     "cellMetadata": {
      "byteLimit": 2048000,
      "rowLimit": 10000
     },
     "inputWidgets": {},
     "nuid": "8182d38d-9e6e-4df0-8d3e-7494194685fd",
     "showTitle": false,
     "title": ""
    }
   },
   "outputs": [
    {
     "output_type": "stream",
     "name": "stdout",
     "output_type": "stream",
     "text": [
      "3.0\n"
     ]
    }
   ],
   "source": [
    "#Modulus Assignment Operator\n",
    "# a = a % b\n",
    "a %= b\n",
    "\n",
    "# Output\n",
    "print(a)"
   ]
  },
  {
   "cell_type": "code",
   "execution_count": 0,
   "metadata": {
    "application/vnd.databricks.v1+cell": {
     "cellMetadata": {
      "byteLimit": 2048000,
      "rowLimit": 10000
     },
     "inputWidgets": {},
     "nuid": "092cefee-907f-4586-9e88-93893b64dda7",
     "showTitle": false,
     "title": ""
    }
   },
   "outputs": [
    {
     "output_type": "stream",
     "name": "stdout",
     "output_type": "stream",
     "text": [
      "0.0\n"
     ]
    }
   ],
   "source": [
    "#Floor Division Assignment Operator\n",
    "# a = a // b\n",
    "a //= b\n",
    "\n",
    "# Output\n",
    "print(a)"
   ]
  },
  {
   "cell_type": "code",
   "execution_count": 0,
   "metadata": {
    "application/vnd.databricks.v1+cell": {
     "cellMetadata": {
      "byteLimit": 2048000,
      "rowLimit": 10000
     },
     "inputWidgets": {},
     "nuid": "300e770f-e979-40d8-a188-a491fd12d06a",
     "showTitle": false,
     "title": ""
    }
   },
   "outputs": [
    {
     "output_type": "stream",
     "name": "stdout",
     "output_type": "stream",
     "text": [
      "0.0\n"
     ]
    }
   ],
   "source": [
    "#Exponentiation Assignment Operator\n",
    "# a = a ** b\n",
    "a **= b\n",
    "\n",
    "# Output\n",
    "print(a)"
   ]
  },
  {
   "cell_type": "code",
   "execution_count": 0,
   "metadata": {
    "application/vnd.databricks.v1+cell": {
     "cellMetadata": {
      "byteLimit": 2048000,
      "rowLimit": 10000
     },
     "inputWidgets": {},
     "nuid": "794785a5-88d6-4d0e-97f2-6a2d99ffb284",
     "showTitle": false,
     "title": ""
    }
   },
   "outputs": [
    {
     "output_type": "stream",
     "name": "stdout",
     "output_type": "stream",
     "text": [
      "1\n5\n0\n0\n0\n5\n4\n3\n"
     ]
    }
   ],
   "source": [
    "#Bitwise Assignment Operator\n",
    "a = 3\n",
    "b = 5\n",
    "\n",
    "#AND\n",
    "# a = a & b\n",
    "a &= b\n",
    "\n",
    "# Output\n",
    "print(a)\n",
    "\n",
    "#OR\n",
    "# a = a | b\n",
    "a |= b\n",
    "\n",
    "# Output\n",
    "print(a)\n",
    "\n",
    "#XOR\n",
    "# a = a ^ b\n",
    "a ^= b\n",
    "\n",
    "# Output\n",
    "print(a)\n",
    "\n",
    "#Right Shift\n",
    "# a = a >> b\n",
    "a >>= b\n",
    "\n",
    "# Output\n",
    "print(a)\n",
    "\n",
    "\n",
    "# Left Shift\n",
    "# a = a << b\n",
    "a <<= b\n",
    "\n",
    "# Output\n",
    "print(a)\n",
    "\n",
    "\n",
    "# Walrus Operator\n",
    "# a list\n",
    "a = [1, 2, 3, 4, 5]\n",
    "\n",
    "# walrus operator\n",
    "while(x := len(a)) > 2:\n",
    "    a.pop()\n",
    "    print(x)"
   ]
  },
  {
   "cell_type": "markdown",
   "metadata": {
    "application/vnd.databricks.v1+cell": {
     "cellMetadata": {},
     "inputWidgets": {},
     "nuid": "4869ce42-8b15-4de6-ac59-39e0aa2db7a4",
     "showTitle": false,
     "title": ""
    }
   },
   "source": [
    "###Comparison Operators\n",
    "\n",
    "Comparison operators are used to compare two values:\n",
    "\n",
    "- The Python operators can be used with various data types, including numbers, strings, booleans, and more. \n",
    "- In Python, comparison operators are used to compare the values of two operands (elements being compared). \n",
    "- When comparing strings, the comparison is based on the alphabetical order of their characters (lexicographic order)."
   ]
  },
  {
   "cell_type": "code",
   "execution_count": 0,
   "metadata": {
    "application/vnd.databricks.v1+cell": {
     "cellMetadata": {
      "byteLimit": 2048000,
      "rowLimit": 10000
     },
     "inputWidgets": {},
     "nuid": "afbf5fb8-3d77-406c-8ef5-496ec50fe350",
     "showTitle": false,
     "title": ""
    }
   },
   "outputs": [
    {
     "output_type": "stream",
     "name": "stdout",
     "output_type": "stream",
     "text": [
      "False\nTrue\n"
     ]
    }
   ],
   "source": [
    "# Equality Operators\n",
    "#Equal to: True if both operands are equal\n",
    "\n",
    "a = 9\n",
    "b = 5\n",
    "c = 9\n",
    "\n",
    "print(a == b)\n",
    "print(a == c)"
   ]
  },
  {
   "cell_type": "code",
   "execution_count": 0,
   "metadata": {
    "application/vnd.databricks.v1+cell": {
     "cellMetadata": {
      "byteLimit": 2048000,
      "rowLimit": 10000
     },
     "inputWidgets": {},
     "nuid": "e53d5465-919a-4eb4-8d47-112001fbf76f",
     "showTitle": false,
     "title": ""
    }
   },
   "outputs": [
    {
     "output_type": "stream",
     "name": "stdout",
     "output_type": "stream",
     "text": [
      "True\nFalse\n"
     ]
    }
   ],
   "source": [
    "# Inequality Operators\n",
    "# Not equal to: True if operands are not equal\n",
    "\n",
    "print(a != b)\n",
    "print(a != c)"
   ]
  },
  {
   "cell_type": "code",
   "execution_count": 0,
   "metadata": {
    "application/vnd.databricks.v1+cell": {
     "cellMetadata": {
      "byteLimit": 2048000,
      "rowLimit": 10000
     },
     "inputWidgets": {},
     "nuid": "09faf686-7486-494d-8b73-e9044ad4fcee",
     "showTitle": false,
     "title": ""
    }
   },
   "outputs": [
    {
     "output_type": "stream",
     "name": "stdout",
     "output_type": "stream",
     "text": [
      "True\nFalse\n"
     ]
    }
   ],
   "source": [
    "# Greater than Sign\n",
    "# Greater than: True if the left operand is greater than the right\n",
    "\n",
    "print(a > b)\n",
    "print(a > c)"
   ]
  },
  {
   "cell_type": "code",
   "execution_count": 0,
   "metadata": {
    "application/vnd.databricks.v1+cell": {
     "cellMetadata": {
      "byteLimit": 2048000,
      "rowLimit": 10000
     },
     "inputWidgets": {},
     "nuid": "42d7a49c-3687-4c17-aa1b-1c2e02b8af16",
     "showTitle": false,
     "title": ""
    }
   },
   "outputs": [
    {
     "output_type": "stream",
     "name": "stdout",
     "output_type": "stream",
     "text": [
      "False\nFalse\nTrue\n"
     ]
    }
   ],
   "source": [
    "# Less than Sign\n",
    "# Less than: True if the left operand is less than the right\n",
    "\n",
    "print(a < b)\n",
    "print(a < c)\n",
    "print(b < a)"
   ]
  },
  {
   "cell_type": "code",
   "execution_count": 0,
   "metadata": {
    "application/vnd.databricks.v1+cell": {
     "cellMetadata": {
      "byteLimit": 2048000,
      "rowLimit": 10000
     },
     "inputWidgets": {},
     "nuid": "70c91cb9-5fb9-41b8-ab9b-5d9aa62b52fa",
     "showTitle": false,
     "title": ""
    }
   },
   "outputs": [
    {
     "output_type": "stream",
     "name": "stdout",
     "output_type": "stream",
     "text": [
      "True\nTrue\nFalse\n"
     ]
    }
   ],
   "source": [
    "# Greater than or Equal to Sign\n",
    "# Greater than or equal to: True if left operand is greater than or equal to the right\n",
    "\n",
    "print(a >= b)\n",
    "print(a >= c)\n",
    "print(b >= a)"
   ]
  },
  {
   "cell_type": "code",
   "execution_count": 0,
   "metadata": {
    "application/vnd.databricks.v1+cell": {
     "cellMetadata": {
      "byteLimit": 2048000,
      "rowLimit": 10000
     },
     "inputWidgets": {},
     "nuid": "ce05a490-a2b3-4396-a72f-862b6a6dea99",
     "showTitle": false,
     "title": ""
    }
   },
   "outputs": [
    {
     "output_type": "stream",
     "name": "stdout",
     "output_type": "stream",
     "text": [
      "False\nTrue\nTrue\n"
     ]
    }
   ],
   "source": [
    "# Less than or Equal to Sign\n",
    "# Less than or equal to: True if left operand is less than or equal to the right\n",
    "\n",
    "print(a <= b)\n",
    "print(a <= c)\n",
    "print(b <= a)"
   ]
  },
  {
   "cell_type": "code",
   "execution_count": 0,
   "metadata": {
    "application/vnd.databricks.v1+cell": {
     "cellMetadata": {
      "byteLimit": 2048000,
      "rowLimit": 10000
     },
     "inputWidgets": {},
     "nuid": "52602faa-de18-4410-b466-6540f38420a3",
     "showTitle": false,
     "title": ""
    }
   },
   "outputs": [
    {
     "output_type": "stream",
     "name": "stdout",
     "output_type": "stream",
     "text": [
      "True\nTrue\nFalse\nTrue\n"
     ]
    }
   ],
   "source": [
    "# Chaining Comparision Operators\n",
    "# In Python, we can use the chaining comparison operators to check multiple conditions in a single expression.\n",
    "\n",
    "a = 5\n",
    "\n",
    "# chaining comparison operators\n",
    "print(1 < a < 10)\n",
    "print(10 > a <= 9)\n",
    "print(5 != a > 4)\n",
    "print(a < 10 < a*10 == 50)"
   ]
  },
  {
   "cell_type": "markdown",
   "metadata": {
    "application/vnd.databricks.v1+cell": {
     "cellMetadata": {},
     "inputWidgets": {},
     "nuid": "eada3bd4-feac-48e4-8c46-90f76a12bb72",
     "showTitle": false,
     "title": ""
    }
   },
   "source": [
    "###Logical operators\n",
    "\n",
    "Logical operators are used on conditional statements (either True or False). \n"
   ]
  },
  {
   "cell_type": "code",
   "execution_count": 0,
   "metadata": {
    "application/vnd.databricks.v1+cell": {
     "cellMetadata": {
      "byteLimit": 2048000,
      "rowLimit": 10000
     },
     "inputWidgets": {},
     "nuid": "b48e7abb-cb2c-4fc0-9202-7dc77131d623",
     "showTitle": false,
     "title": ""
    }
   },
   "outputs": [
    {
     "output_type": "stream",
     "name": "stdout",
     "output_type": "stream",
     "text": [
      "True\nFalse\n"
     ]
    }
   ],
   "source": [
    "# AND Operator \n",
    "# Returns True if both statements are true\n",
    "\n",
    "x = 2\n",
    "\n",
    "print(x < 5 and  x < 10)\n",
    "print(x > 5 and  x < 10)"
   ]
  },
  {
   "cell_type": "code",
   "execution_count": 0,
   "metadata": {
    "application/vnd.databricks.v1+cell": {
     "cellMetadata": {
      "byteLimit": 2048000,
      "rowLimit": 10000
     },
     "inputWidgets": {},
     "nuid": "fba4eb9b-c36f-47f5-9782-1adc675227da",
     "showTitle": false,
     "title": ""
    }
   },
   "outputs": [
    {
     "output_type": "stream",
     "name": "stdout",
     "output_type": "stream",
     "text": [
      "True\nFalse\n"
     ]
    }
   ],
   "source": [
    "# OR Operator\n",
    "# The Boolean OR operator returns True if either of the operands is True.\n",
    "\n",
    "print(x < 5 and  x < 10)\n",
    "print(x > 5 and  x < 10)"
   ]
  },
  {
   "cell_type": "code",
   "execution_count": 0,
   "metadata": {
    "application/vnd.databricks.v1+cell": {
     "cellMetadata": {
      "byteLimit": 2048000,
      "rowLimit": 10000
     },
     "inputWidgets": {},
     "nuid": "519ed794-1452-4e06-a856-b6d54553cc48",
     "showTitle": false,
     "title": ""
    }
   },
   "outputs": [
    {
     "output_type": "stream",
     "name": "stdout",
     "output_type": "stream",
     "text": [
      "False\nTrue\n"
     ]
    }
   ],
   "source": [
    "# NOT Operator\n",
    "# Reverse the result, returns False if the result is true\n",
    "\n",
    "print(not(x < 5 and x < 10))\n",
    "print(not(x > 5 and  x < 10))"
   ]
  },
  {
   "cell_type": "markdown",
   "metadata": {
    "application/vnd.databricks.v1+cell": {
     "cellMetadata": {},
     "inputWidgets": {},
     "nuid": "ebdf72ad-9907-42ad-8227-4c87e30b2498",
     "showTitle": false,
     "title": ""
    }
   },
   "source": [
    "###Identity Operators\n",
    "- The Python Identity Operators are used to compare the objects if both the objects are actually of the same **data type** and **share the same memory location.**"
   ]
  },
  {
   "cell_type": "markdown",
   "metadata": {
    "application/vnd.databricks.v1+cell": {
     "cellMetadata": {},
     "inputWidgets": {},
     "nuid": "8c23ddc9-cbf3-4471-b39d-d725ef48393f",
     "showTitle": false,
     "title": ""
    }
   },
   "source": [
    "#####is Operator\n",
    "\n",
    "Returns True if both objects refers to same memory location, else returns False"
   ]
  },
  {
   "cell_type": "code",
   "execution_count": 0,
   "metadata": {
    "application/vnd.databricks.v1+cell": {
     "cellMetadata": {
      "byteLimit": 2048000,
      "rowLimit": 10000
     },
     "inputWidgets": {},
     "nuid": "47c48eef-de1d-4d32-af68-4937f2d1e3b2",
     "showTitle": false,
     "title": ""
    }
   },
   "outputs": [
    {
     "output_type": "stream",
     "name": "stdout",
     "output_type": "stream",
     "text": [
      "True\nFalse\nTrue\nFalse\n"
     ]
    }
   ],
   "source": [
    "# Python program to illustrate the use\n",
    "# of 'is' identity operator\n",
    "num1 = 5\n",
    "num2 = 5\n",
    "\n",
    "lst1 = [1, 2, 3]\n",
    "lst2 = [1, 2, 3]\n",
    "lst3 = lst1\n",
    "\n",
    "str1 = \"hello world\"\n",
    "str2 = \"hello world\"\n",
    "\n",
    "# using 'is' identity operator on different datatypes\n",
    "print(num1 is num2)\n",
    "print(lst1 is lst2)\n",
    "print(lst1 is lst3)\n",
    "print(str1 is str2)\n",
    "\n",
    "#We can see here that even though both the lists, i.e., ‘lst1’ and ‘lst2’ have same data, the output is still False. This is because both the lists refers to different objects in the memory. Where as when we assign ‘lst3’ the value of ‘lst1’, it returns True. This is because we are directly giving the reference of ‘lst1’ to ‘lst3’."
   ]
  },
  {
   "cell_type": "markdown",
   "metadata": {
    "application/vnd.databricks.v1+cell": {
     "cellMetadata": {},
     "inputWidgets": {},
     "nuid": "bfa2c9e7-03b4-4e7a-84ea-d83262c98e2c",
     "showTitle": false,
     "title": ""
    }
   },
   "source": [
    "#####is not Operator\n",
    "Returns False if both object refers to same memory location, else returns True"
   ]
  },
  {
   "cell_type": "code",
   "execution_count": 0,
   "metadata": {
    "application/vnd.databricks.v1+cell": {
     "cellMetadata": {
      "byteLimit": 2048000,
      "rowLimit": 10000
     },
     "inputWidgets": {},
     "nuid": "a2ba0848-dce0-4e04-9cce-513ae0b90dcd",
     "showTitle": false,
     "title": ""
    }
   },
   "outputs": [
    {
     "output_type": "stream",
     "name": "stdout",
     "output_type": "stream",
     "text": [
      "False\nTrue\nFalse\nTrue\n"
     ]
    }
   ],
   "source": [
    "# Python program to illustrate the use\n",
    "# of 'is' identity operator\n",
    "num1 = 5\n",
    "num2 = 5\n",
    "\n",
    "lst1 = [1, 2, 3]\n",
    "lst2 = [1, 2, 3]\n",
    "lst3 = lst1\n",
    "\n",
    "str1 = \"hello world\"\n",
    "str2 = \"hello world\"\n",
    "\n",
    "# using 'is not' identity operator on different datatypes\n",
    "print(num1 is not num2)\n",
    "print(lst1 is not lst2)\n",
    "print(lst1 is not lst3)\n",
    "print(str1 is not str2)"
   ]
  },
  {
   "cell_type": "markdown",
   "metadata": {
    "application/vnd.databricks.v1+cell": {
     "cellMetadata": {},
     "inputWidgets": {},
     "nuid": "0628d374-00df-4608-8391-441e808aac25",
     "showTitle": false,
     "title": ""
    }
   },
   "source": [
    "####Difference between ‘==’ and ‘is’ Operator\n",
    "\n",
    "- The equality operator is used to compare the value of two variables, \n",
    "- whereas the identities operator is used to compare the memory location of two variables."
   ]
  },
  {
   "cell_type": "code",
   "execution_count": 0,
   "metadata": {
    "application/vnd.databricks.v1+cell": {
     "cellMetadata": {
      "byteLimit": 2048000,
      "rowLimit": 10000
     },
     "inputWidgets": {},
     "nuid": "468159b0-3d7c-4715-b276-1a501fd5cd0b",
     "showTitle": false,
     "title": ""
    }
   },
   "outputs": [
    {
     "output_type": "stream",
     "name": "stdout",
     "output_type": "stream",
     "text": [
      "False\nTrue\n"
     ]
    }
   ],
   "source": [
    "# Python program to illustrate the use\n",
    "# of 'is' and '==' operators\n",
    "lst1 = [1, 2, 3]\n",
    "lst2 = [1, 2, 3]\n",
    "\n",
    "# using 'is' and '==' operators\n",
    "print(lst1 is lst2)\n",
    "print(lst1 == lst2)\n"
   ]
  },
  {
   "cell_type": "markdown",
   "metadata": {
    "application/vnd.databricks.v1+cell": {
     "cellMetadata": {},
     "inputWidgets": {},
     "nuid": "7c57bdf8-78a3-47be-8dbc-5ee73ce62da3",
     "showTitle": false,
     "title": ""
    }
   },
   "source": [
    "###Membership operators\n",
    "\n",
    "- The Python membership operators test for the membership of an object in a sequence, such as strings, lists, or tuples\n",
    "- Python offers two membership operators to check or validate the membership of a value. (`in` and `not in`)"
   ]
  },
  {
   "cell_type": "markdown",
   "metadata": {
    "application/vnd.databricks.v1+cell": {
     "cellMetadata": {},
     "inputWidgets": {},
     "nuid": "1f305fe8-4718-4bf4-a8e1-4e1c181242c1",
     "showTitle": false,
     "title": ""
    }
   },
   "source": [
    "#####in Operator\n",
    "Returns True if the value exists in a sequence, else returns False"
   ]
  },
  {
   "cell_type": "code",
   "execution_count": 0,
   "metadata": {
    "application/vnd.databricks.v1+cell": {
     "cellMetadata": {
      "byteLimit": 2048000,
      "rowLimit": 10000
     },
     "inputWidgets": {},
     "nuid": "9cc290dc-e4bd-4a80-bb84-2f7962095cf5",
     "showTitle": false,
     "title": ""
    }
   },
   "outputs": [
    {
     "output_type": "stream",
     "name": "stdout",
     "output_type": "stream",
     "text": [
      "False\nTrue\nTrue\n"
     ]
    }
   ],
   "source": [
    "# Example 1: Checking 'g' in string since Python is case-sensitive, returns False\n",
    "print('g' in 'GeeksforGeeks')\n",
    "\n",
    "# Example 2: Checking 'Geeks' in list of strings, returns True\n",
    "print('Geeks' in ['Geeks', 'For','Geeks'])\n",
    "\n",
    "# Example 3: Checking 3 in keys of dictionary, returns True\n",
    "dict1={1:'Geeks',2:'For',3:'Geeks'}    \n",
    "print(3 in dict1)"
   ]
  },
  {
   "cell_type": "code",
   "execution_count": 0,
   "metadata": {
    "application/vnd.databricks.v1+cell": {
     "cellMetadata": {
      "byteLimit": 2048000,
      "rowLimit": 10000
     },
     "inputWidgets": {},
     "nuid": "a22035f9-2ea7-4836-a2fd-1b8fb01bc479",
     "showTitle": false,
     "title": ""
    }
   },
   "outputs": [
    {
     "output_type": "stream",
     "name": "stdout",
     "output_type": "stream",
     "text": [
      "True\nFalse\nFalse\nTrue\nFalse\n"
     ]
    }
   ],
   "source": [
    "# initialized some sequences\n",
    "list1 = [1, 2, 3, 4, 5]\n",
    "str1 = \"Hello World\"\n",
    "set1 = {1, 2, 3, 4, 5}\n",
    "dict1 = {1: \"Geeks\", 2:\"for\", 3:\"geeks\"}\n",
    "tup1 = (1, 2, 3, 4, 5)\n",
    "\n",
    "# using membership 'in' operator\n",
    "# checking an integer in a list\n",
    "print(2 in list1)\n",
    "\n",
    "# checking a character in a string\n",
    "print('O' in str1)\n",
    "\n",
    "# checking an integer in aset\n",
    "print(6 in set1)\n",
    "\n",
    "# checking for a key in a dictionary\n",
    "print(3 in dict1)\n",
    "\n",
    "# checking for an integer in a tuple\n",
    "print(9 in tup1)"
   ]
  },
  {
   "cell_type": "markdown",
   "metadata": {
    "application/vnd.databricks.v1+cell": {
     "cellMetadata": {},
     "inputWidgets": {},
     "nuid": "2a8150fd-177e-4968-8c06-9b2672b29992",
     "showTitle": false,
     "title": ""
    }
   },
   "source": [
    "####not in Operator\n",
    "\n",
    "Returns False if the value exists in a sequence, else returns True"
   ]
  },
  {
   "cell_type": "code",
   "execution_count": 0,
   "metadata": {
    "application/vnd.databricks.v1+cell": {
     "cellMetadata": {
      "byteLimit": 2048000,
      "rowLimit": 10000
     },
     "inputWidgets": {},
     "nuid": "5617151c-8905-4dad-9c2b-9a88033a105e",
     "showTitle": false,
     "title": ""
    }
   },
   "outputs": [
    {
     "output_type": "stream",
     "name": "stdout",
     "output_type": "stream",
     "text": [
      "False\nTrue\nTrue\nFalse\nTrue\n"
     ]
    }
   ],
   "source": [
    "# initialized some sequences\n",
    "list1 = [1, 2, 3, 4, 5]\n",
    "str1 = \"Hello World\"\n",
    "set1 = {1, 2, 3, 4, 5}\n",
    "dict1 = {1: \"Geeks\", 2:\"for\", 3:\"geeks\"}\n",
    "tup1 = (1, 2, 3, 4, 5)\n",
    "\n",
    "# using membership 'not in' operator\n",
    "# checking an integer in a list\n",
    "print(2 not in list1)\n",
    "\n",
    "# checking a character in a string\n",
    "print('O' not in str1)\n",
    "\n",
    "# checking an integer in aset\n",
    "print(6 not in set1)\n",
    "\n",
    "# checking for a key in a dictionary\n",
    "print(3 not in dict1)\n",
    "\n",
    "# checking for an integer in a tuple\n",
    "print(9 not in tup1)"
   ]
  },
  {
   "cell_type": "markdown",
   "metadata": {
    "application/vnd.databricks.v1+cell": {
     "cellMetadata": {},
     "inputWidgets": {},
     "nuid": "cc484c61-4221-4c67-a494-ab7c707186c3",
     "showTitle": false,
     "title": ""
    }
   },
   "source": [
    "###Bitwise Operators\n",
    "- Python bitwise operators are used to perform bitwise calculations on integers. \n",
    "- The integers are first converted into binary and then operations are performed on each bit or corresponding pair of bits, hence the name bitwise operators. \n",
    "-The result is then returned in decimal format.\n",
    "\n",
    "**NOTE:** ***Python bitwise operators work only on integers.***"
   ]
  },
  {
   "cell_type": "markdown",
   "metadata": {
    "application/vnd.databricks.v1+cell": {
     "cellMetadata": {
      "byteLimit": 2048000,
      "rowLimit": 10000
     },
     "inputWidgets": {},
     "nuid": "e53250ff-93a3-4252-a171-cace4583e215",
     "showTitle": false,
     "title": ""
    }
   },
   "source": [
    "#####Bitwise AND\n",
    "Result bit 1, if both operand bits are 1; otherwise results bit 0.  x & y"
   ]
  },
  {
   "cell_type": "code",
   "execution_count": 0,
   "metadata": {
    "application/vnd.databricks.v1+cell": {
     "cellMetadata": {
      "byteLimit": 2048000,
      "rowLimit": 10000
     },
     "inputWidgets": {},
     "nuid": "d8d71974-25a4-45d8-9643-9d5d3a060325",
     "showTitle": false,
     "title": ""
    }
   },
   "outputs": [
    {
     "output_type": "stream",
     "name": "stdout",
     "output_type": "stream",
     "text": [
      "a & b = 0\n"
     ]
    }
   ],
   "source": [
    "a = 10\n",
    "b = 4\n",
    "\n",
    "# Print bitwise AND operation\n",
    "print(\"a & b =\", a & b)"
   ]
  },
  {
   "cell_type": "markdown",
   "metadata": {
    "application/vnd.databricks.v1+cell": {
     "cellMetadata": {},
     "inputWidgets": {},
     "nuid": "f7dec1e1-af11-478f-a59f-38bc870dd172",
     "showTitle": false,
     "title": ""
    }
   },
   "source": [
    "#####Bitwise OR\n",
    "Result bit 1, if any of the operand bit is 1; otherwise results bit 0.\tx | y"
   ]
  },
  {
   "cell_type": "code",
   "execution_count": 0,
   "metadata": {
    "application/vnd.databricks.v1+cell": {
     "cellMetadata": {
      "byteLimit": 2048000,
      "rowLimit": 10000
     },
     "inputWidgets": {},
     "nuid": "9331d9cd-9710-4d9d-98d8-f7f67ce38c74",
     "showTitle": false,
     "title": ""
    }
   },
   "outputs": [
    {
     "output_type": "stream",
     "name": "stdout",
     "output_type": "stream",
     "text": [
      "a | b = 14\n"
     ]
    }
   ],
   "source": [
    "a = 10\n",
    "b = 4\n",
    "\n",
    "# Print bitwise OR operation\n",
    "print(\"a | b =\", a | b)"
   ]
  },
  {
   "cell_type": "markdown",
   "metadata": {
    "application/vnd.databricks.v1+cell": {
     "cellMetadata": {},
     "inputWidgets": {},
     "nuid": "92cc8f80-dc6b-4281-a662-7f52a37ce995",
     "showTitle": false,
     "title": ""
    }
   },
   "source": [
    "#####Bitwise XOR\n",
    "Result bit 1, if any of the operand bit is 1 but not both, otherwise results bit 0.\t x ^ y"
   ]
  },
  {
   "cell_type": "code",
   "execution_count": 0,
   "metadata": {
    "application/vnd.databricks.v1+cell": {
     "cellMetadata": {
      "byteLimit": 2048000,
      "rowLimit": 10000
     },
     "inputWidgets": {},
     "nuid": "b9f42c6c-23f9-443f-b02b-6cafd1a58092",
     "showTitle": false,
     "title": ""
    }
   },
   "outputs": [
    {
     "output_type": "stream",
     "name": "stdout",
     "output_type": "stream",
     "text": [
      "a ^ b = 14\n"
     ]
    }
   ],
   "source": [
    "a = 10\n",
    "b = 4\n",
    "\n",
    "# print bitwise XOR operation\n",
    "print(\"a ^ b =\", a ^ b)"
   ]
  },
  {
   "cell_type": "markdown",
   "metadata": {
    "application/vnd.databricks.v1+cell": {
     "cellMetadata": {
      "byteLimit": 2048000,
      "rowLimit": 10000
     },
     "inputWidgets": {},
     "nuid": "1781abc5-71e3-4e1c-9f21-f43db6af6085",
     "showTitle": false,
     "title": ""
    }
   },
   "source": [
    "####Bitwise NOT\t\n",
    "Inverts individual bits. ~x"
   ]
  },
  {
   "cell_type": "code",
   "execution_count": 0,
   "metadata": {
    "application/vnd.databricks.v1+cell": {
     "cellMetadata": {
      "byteLimit": 2048000,
      "rowLimit": 10000
     },
     "inputWidgets": {},
     "nuid": "35317891-4e9f-45d7-8388-89c1e6346bc4",
     "showTitle": false,
     "title": ""
    }
   },
   "outputs": [
    {
     "output_type": "stream",
     "name": "stdout",
     "output_type": "stream",
     "text": [
      "~a = -11\n"
     ]
    }
   ],
   "source": [
    "a = 10\n",
    "b = 4\n",
    "\n",
    "# Print bitwise NOT operation\n",
    "print(\"~a =\", ~a)"
   ]
  },
  {
   "cell_type": "markdown",
   "metadata": {
    "application/vnd.databricks.v1+cell": {
     "cellMetadata": {},
     "inputWidgets": {},
     "nuid": "b8ad28a7-306d-46da-99e4-c72c81ff2402",
     "showTitle": false,
     "title": ""
    }
   },
   "source": [
    "#####Bitwise right shift\n",
    "The left operand’s value is moved toward right by the number of bits \n",
    "\n",
    "specified by the right operand. \n",
    "\n",
    "x>>"
   ]
  },
  {
   "cell_type": "code",
   "execution_count": 0,
   "metadata": {
    "application/vnd.databricks.v1+cell": {
     "cellMetadata": {
      "byteLimit": 2048000,
      "rowLimit": 10000
     },
     "inputWidgets": {},
     "nuid": "fd6d7a41-b4fd-4f19-8adf-e641ce587230",
     "showTitle": false,
     "title": ""
    }
   },
   "outputs": [
    {
     "output_type": "stream",
     "name": "stdout",
     "output_type": "stream",
     "text": [
      "a >> 1 = 5\nb >> 1 = -5\n"
     ]
    }
   ],
   "source": [
    "a = 10\n",
    "b = -10\n",
    "\n",
    "# print bitwise right shift operator\n",
    "print(\"a >> 1 =\", a >> 1)\n",
    "print(\"b >> 1 =\", b >> 1)"
   ]
  },
  {
   "cell_type": "markdown",
   "metadata": {
    "application/vnd.databricks.v1+cell": {
     "cellMetadata": {
      "byteLimit": 2048000,
      "rowLimit": 10000
     },
     "inputWidgets": {},
     "nuid": "3a999b0b-c113-46ea-9c96-9620a886af6a",
     "showTitle": false,
     "title": ""
    }
   },
   "source": [
    "#####Bitwise left shift\t\n",
    "The left operand’s value is moved toward left by the number of bits \n",
    "\n",
    "specified by the right operand.\n",
    "\n",
    "x<<"
   ]
  },
  {
   "cell_type": "code",
   "execution_count": 0,
   "metadata": {
    "application/vnd.databricks.v1+cell": {
     "cellMetadata": {
      "byteLimit": 2048000,
      "rowLimit": 10000
     },
     "inputWidgets": {},
     "nuid": "f67e48f1-88cb-4398-91a2-683c228dc90f",
     "showTitle": false,
     "title": ""
    }
   },
   "outputs": [
    {
     "output_type": "stream",
     "name": "stdout",
     "output_type": "stream",
     "text": [
      "a << 1 = 10\nb << 1 = -20\n"
     ]
    }
   ],
   "source": [
    "a = 5\n",
    "b = -10\n",
    "\n",
    "# print bitwise left shift operator\n",
    "print(\"a << 1 =\", a << 1)\n",
    "print(\"b << 1 =\", b << 1)"
   ]
  }
 ],
 "metadata": {
  "application/vnd.databricks.v1+notebook": {
   "dashboards": [],
   "environmentMetadata": null,
   "language": "python",
   "notebookMetadata": {
    "pythonIndentUnit": 4
   },
   "notebookName": "Operators in Python",
   "widgets": {}
  }
 },
 "nbformat": 4,
 "nbformat_minor": 0
}
