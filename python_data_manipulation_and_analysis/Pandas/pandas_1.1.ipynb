{
 "cells": [
  {
   "cell_type": "markdown",
   "id": "86058c1e-521c-4df4-85cf-deeeab2189df",
   "metadata": {},
   "source": [
    "### What is Pandas?\n",
    "- [Pandas](https://pandas.pydata.org/docs/getting_started/index.html) is an open-source Python library providing high-performance, powerful and widely-used library for data manipulation and analysis.\n",
    "- It provides two main data structures: Series, which is a one-dimensional labeled array, and DataFrame, which is a two-dimensional table with labeled axes (rows and columns).\n",
    "- These structures allow for efficient handling and analysis of structured data, such as CSV files, Excel sheets, and SQL databases.\n",
    "- [Pandas](https://www.geeksforgeeks.org/introduction-to-pandas-in-python/) simplifies tasks such as data cleaning, filtering, aggregation, merging datasets, and handling time series data. \n",
    "- It's highly optimized and integrates well with other Python libraries, making it a go-to tool for data scientists and analysts."
   ]
  },
  {
   "cell_type": "markdown",
   "id": "e7d3f4ea-afca-465f-a4d8-a267ff8e20ed",
   "metadata": {},
   "source": [
    "#"
   ]
  },
  {
   "cell_type": "markdown",
   "id": "a7d2533f-085e-4886-a69d-a3a017a3ed9e",
   "metadata": {},
   "source": [
    "### Why Use Pandas?\n",
    "- Ease of Use: Simplifies data handling with intuitive structures like Series and DataFrames.\n",
    "- Efficient Data Manipulation: Provides powerful functions for filtering, aggregating, and transforming data with minimal code.\n",
    "- Handling Missing Data: Built-in methods for detecting and handling missing values, ensuring clean datasets.\n",
    "- Integration with Other Libraries: Seamlessly works with NumPy, Matplotlib, Scikit-learn, and other Python libraries.\n",
    "- Performance: Fast operations on large datasets due to its NumPy foundation and support for vectorized operations.\n",
    "- Rich I/O Capabilities: Supports various data formats like CSV, Excel, SQL, and JSON.\n",
    "- Community Support: Extensive documentation and an active community provide ample resources for learning and troubleshooting."
   ]
  },
  {
   "cell_type": "markdown",
   "id": "401d86ad-c7fe-47d6-a356-4f6e950f8a5d",
   "metadata": {},
   "source": [
    "#"
   ]
  },
  {
   "cell_type": "markdown",
   "id": "2162fd75-ee41-4278-a9bc-66c7c4057b31",
   "metadata": {},
   "source": [
    "### Installation\n",
    "To install Pandas, you can use pip:"
   ]
  },
  {
   "cell_type": "code",
   "execution_count": 3,
   "id": "0be8bd1a-09f4-4b5e-9072-cb8667a181a9",
   "metadata": {},
   "outputs": [
    {
     "name": "stdout",
     "output_type": "stream",
     "text": [
      "Defaulting to user installation because normal site-packages is not writeable\n",
      "Requirement already satisfied: pandas in c:\\users\\demon slayer\\appdata\\roaming\\python\\python312\\site-packages (2.2.2)\n",
      "Requirement already satisfied: numpy>=1.26.0 in c:\\users\\demon slayer\\appdata\\roaming\\python\\python312\\site-packages (from pandas) (2.0.1)\n",
      "Requirement already satisfied: python-dateutil>=2.8.2 in c:\\users\\demon slayer\\appdata\\roaming\\python\\python312\\site-packages (from pandas) (2.9.0.post0)\n",
      "Requirement already satisfied: pytz>=2020.1 in c:\\users\\demon slayer\\appdata\\roaming\\python\\python312\\site-packages (from pandas) (2024.1)\n",
      "Requirement already satisfied: tzdata>=2022.7 in c:\\users\\demon slayer\\appdata\\roaming\\python\\python312\\site-packages (from pandas) (2024.1)\n",
      "Requirement already satisfied: six>=1.5 in c:\\users\\demon slayer\\appdata\\roaming\\python\\python312\\site-packages (from python-dateutil>=2.8.2->pandas) (1.16.0)\n",
      "Note: you may need to restart the kernel to use updated packages.\n"
     ]
    }
   ],
   "source": [
    "pip install pandas"
   ]
  },
  {
   "cell_type": "markdown",
   "id": "6374016f-86ff-4148-872f-34e8b4f0fef9",
   "metadata": {},
   "source": [
    "#"
   ]
  },
  {
   "cell_type": "code",
   "execution_count": 5,
   "id": "5cfc3f26-acbc-4138-b8ad-92c9e95b31d3",
   "metadata": {},
   "outputs": [],
   "source": [
    "# import pandas\n",
    "import pandas as pd"
   ]
  },
  {
   "cell_type": "code",
   "execution_count": 5,
   "id": "e3547378-e5d2-4fec-89bf-4cb2ecf0c75e",
   "metadata": {},
   "outputs": [
    {
     "name": "stdout",
     "output_type": "stream",
     "text": [
      "2.2.2\n"
     ]
    }
   ],
   "source": [
    "# Checking Pandas Version\n",
    "print(pd.__version__)"
   ]
  },
  {
   "cell_type": "markdown",
   "id": "03623269-e2e9-4ba3-8001-43e7f8b501f3",
   "metadata": {},
   "source": [
    "#"
   ]
  },
  {
   "cell_type": "markdown",
   "id": "429cc137-f754-4dfe-a09a-f00f6a0422a9",
   "metadata": {},
   "source": [
    "### Series in Pandas\n",
    "- A Pandas Series is like a column in a table.\n",
    "- It is a one-dimensional array holding data of any type."
   ]
  },
  {
   "cell_type": "markdown",
   "id": "0afc146f-22a6-4755-8f8d-a5008623fe6e",
   "metadata": {},
   "source": [
    "#### Creating a Series"
   ]
  },
  {
   "cell_type": "code",
   "execution_count": 6,
   "id": "1cca1dec-00f8-475c-b4de-7ed80c1abd0f",
   "metadata": {},
   "outputs": [
    {
     "name": "stdout",
     "output_type": "stream",
     "text": [
      "0    1\n",
      "1    2\n",
      "2    3\n",
      "3    4\n",
      "4    5\n",
      "dtype: int64\n",
      "<class 'pandas.core.series.Series'>\n"
     ]
    }
   ],
   "source": [
    "# Creating a Series from a list\n",
    "list_a = [1, 2, 3, 4, 5]\n",
    "\n",
    "s = pd.Series(list_a)\n",
    "print(s)\n",
    "print(type(s))"
   ]
  },
  {
   "cell_type": "markdown",
   "id": "646dfc11-dbc6-4945-a60f-26af5e7f3b1a",
   "metadata": {},
   "source": [
    "##### Labels\n",
    "- If nothing else is specified, the values are labeled with their index number. First value has index 0, second value has index 1 etc.\n",
    "- This label can be used to access a specified value."
   ]
  },
  {
   "cell_type": "code",
   "execution_count": 7,
   "id": "69a7cad0-fca8-43ec-932e-26b1dcfe6d64",
   "metadata": {},
   "outputs": [
    {
     "name": "stdout",
     "output_type": "stream",
     "text": [
      "1\n"
     ]
    }
   ],
   "source": [
    "# label can be used to access a specified value.\n",
    "print(s[0])"
   ]
  },
  {
   "cell_type": "code",
   "execution_count": 8,
   "id": "d66ac7b5-2b15-48c8-8ce7-991d8ab17d28",
   "metadata": {},
   "outputs": [
    {
     "name": "stdout",
     "output_type": "stream",
     "text": [
      "a    1\n",
      "b    2\n",
      "c    3\n",
      "d    4\n",
      "e    5\n",
      "dtype: int64\n"
     ]
    }
   ],
   "source": [
    "# Creating a Series with custom index\n",
    "si = pd.Series([1, 2, 3, 4, 5], index=['a', 'b', 'c', 'd', 'e'])\n",
    "print(si)"
   ]
  },
  {
   "cell_type": "code",
   "execution_count": 9,
   "id": "a1863cd1-7521-45b4-9ee6-dfb10042c04c",
   "metadata": {},
   "outputs": [
    {
     "name": "stdout",
     "output_type": "stream",
     "text": [
      "3\n",
      "c    3\n",
      "d    4\n",
      "e    5\n",
      "dtype: int64\n"
     ]
    }
   ],
   "source": [
    "# accessing the series values using customer index lables\n",
    "print(si['c'])\n",
    "print(si['c':])"
   ]
  },
  {
   "cell_type": "markdown",
   "id": "3deba693-dc63-4f0c-a10b-77b43d26762c",
   "metadata": {},
   "source": [
    "# "
   ]
  },
  {
   "cell_type": "markdown",
   "id": "04e03af8-a97e-4a70-93ce-9b28fc644f7f",
   "metadata": {},
   "source": [
    "### DataFrame in Panadas\n",
    "- A DataFrame is a two-dimensional, size-mutable, and potentially heterogeneous tabular data structure with labeled axes (rows and columns).\n",
    "- A Data frame is a two-dimensional data structure, i.e., data is aligned in a tabular fashion in rows and columns.\n",
    "- Pandas DataFrame consists of three principal components, the data, rows, and columns."
   ]
  },
  {
   "cell_type": "markdown",
   "id": "8d34f2a5-3ac9-4591-85ce-78a4d6fd6a2f",
   "metadata": {},
   "source": [
    "##### Creating a DataFrame:"
   ]
  },
  {
   "cell_type": "code",
   "execution_count": 6,
   "id": "5a20daaf-4033-44b8-84ef-20d1f27bdeea",
   "metadata": {},
   "outputs": [
    {
     "data": {
      "text/plain": [
       "{'name': ['Rohish', 'Smit', 'Priya'],\n",
       " 'gender': ['Male', 'Male', 'Female'],\n",
       " 'email': ['rohish@gmail.com', 'smit@gmail.com', 'priya@gmail.com']}"
      ]
     },
     "execution_count": 6,
     "metadata": {},
     "output_type": "execute_result"
    }
   ],
   "source": [
    "# Creating a DataFrame from a dictionary\n",
    "emp= {\"name\":[\"Rohish\",\"Smit\",\"Priya\"],\"gender\":[\"Male\",\"Male\",\"Female\"], \"email\":[\"rohish@gmail.com\",\"smit@gmail.com\",\"priya@gmail.com\"] }\n",
    "emp"
   ]
  },
  {
   "cell_type": "code",
   "execution_count": 7,
   "id": "5df227d9-6fb2-4563-9b0c-f724e631bd1e",
   "metadata": {},
   "outputs": [],
   "source": [
    "df_emp = pd.DataFrame(emp)"
   ]
  },
  {
   "cell_type": "code",
   "execution_count": 16,
   "id": "b536fe95-3f31-4561-b773-3e2a89fea0d3",
   "metadata": {},
   "outputs": [
    {
     "data": {
      "text/html": [
       "<div>\n",
       "<style scoped>\n",
       "    .dataframe tbody tr th:only-of-type {\n",
       "        vertical-align: middle;\n",
       "    }\n",
       "\n",
       "    .dataframe tbody tr th {\n",
       "        vertical-align: top;\n",
       "    }\n",
       "\n",
       "    .dataframe thead th {\n",
       "        text-align: right;\n",
       "    }\n",
       "</style>\n",
       "<table border=\"1\" class=\"dataframe\">\n",
       "  <thead>\n",
       "    <tr style=\"text-align: right;\">\n",
       "      <th></th>\n",
       "      <th>name</th>\n",
       "      <th>gender</th>\n",
       "      <th>email</th>\n",
       "    </tr>\n",
       "  </thead>\n",
       "  <tbody>\n",
       "    <tr>\n",
       "      <th>0</th>\n",
       "      <td>Rohish</td>\n",
       "      <td>Male</td>\n",
       "      <td>rohish@gmail.com</td>\n",
       "    </tr>\n",
       "    <tr>\n",
       "      <th>1</th>\n",
       "      <td>Smit</td>\n",
       "      <td>Male</td>\n",
       "      <td>smit@gmail.com</td>\n",
       "    </tr>\n",
       "    <tr>\n",
       "      <th>2</th>\n",
       "      <td>Priya</td>\n",
       "      <td>Female</td>\n",
       "      <td>priya@gmail.com</td>\n",
       "    </tr>\n",
       "  </tbody>\n",
       "</table>\n",
       "</div>"
      ],
      "text/plain": [
       "     name  gender             email\n",
       "0  Rohish    Male  rohish@gmail.com\n",
       "1    Smit    Male    smit@gmail.com\n",
       "2   Priya  Female   priya@gmail.com"
      ]
     },
     "execution_count": 16,
     "metadata": {},
     "output_type": "execute_result"
    }
   ],
   "source": [
    "df_emp"
   ]
  },
  {
   "cell_type": "code",
   "execution_count": 15,
   "id": "339cff3f-6a93-4ecd-8157-76fb586af960",
   "metadata": {},
   "outputs": [
    {
     "name": "stdout",
     "output_type": "stream",
     "text": [
      "     name  gender             email\n",
      "0  Rohish    Male  rohish@gmail.com\n",
      "1    Smit    Male    smit@gmail.com\n",
      "2   Priya  Female   priya@gmail.com\n"
     ]
    }
   ],
   "source": [
    "print(df_emp)"
   ]
  },
  {
   "cell_type": "code",
   "execution_count": 17,
   "id": "facb1dbe-db3e-4c06-9ef1-e07a7bb96735",
   "metadata": {},
   "outputs": [
    {
     "data": {
      "text/plain": [
       "pandas.core.frame.DataFrame"
      ]
     },
     "execution_count": 17,
     "metadata": {},
     "output_type": "execute_result"
    }
   ],
   "source": [
    "type(df_emp)"
   ]
  },
  {
   "cell_type": "code",
   "execution_count": 24,
   "id": "22d7702e-d90e-41d8-8c7d-b63a1ec1f312",
   "metadata": {},
   "outputs": [
    {
     "data": {
      "text/plain": [
       "pandas.core.series.Series"
      ]
     },
     "execution_count": 24,
     "metadata": {},
     "output_type": "execute_result"
    }
   ],
   "source": [
    "# df_emp['name']\n",
    "type(df_emp['name'])"
   ]
  },
  {
   "cell_type": "markdown",
   "id": "f3baf6c1-8354-4d9c-94f1-aa5c0a58e721",
   "metadata": {},
   "source": [
    "# "
   ]
  },
  {
   "cell_type": "markdown",
   "id": "8427c996-45c9-4725-8c03-979a4fd8079a",
   "metadata": {},
   "source": [
    "#### Viewing Data"
   ]
  },
  {
   "cell_type": "code",
   "execution_count": 28,
   "id": "72552cfc-8864-4af1-a776-8951d608167d",
   "metadata": {},
   "outputs": [
    {
     "data": {
      "text/html": [
       "<div>\n",
       "<style scoped>\n",
       "    .dataframe tbody tr th:only-of-type {\n",
       "        vertical-align: middle;\n",
       "    }\n",
       "\n",
       "    .dataframe tbody tr th {\n",
       "        vertical-align: top;\n",
       "    }\n",
       "\n",
       "    .dataframe thead th {\n",
       "        text-align: right;\n",
       "    }\n",
       "</style>\n",
       "<table border=\"1\" class=\"dataframe\">\n",
       "  <thead>\n",
       "    <tr style=\"text-align: right;\">\n",
       "      <th></th>\n",
       "      <th>name</th>\n",
       "      <th>gender</th>\n",
       "      <th>email</th>\n",
       "    </tr>\n",
       "  </thead>\n",
       "  <tbody>\n",
       "    <tr>\n",
       "      <th>0</th>\n",
       "      <td>Rohish</td>\n",
       "      <td>Male</td>\n",
       "      <td>rohish@gmail.com</td>\n",
       "    </tr>\n",
       "  </tbody>\n",
       "</table>\n",
       "</div>"
      ],
      "text/plain": [
       "     name gender             email\n",
       "0  Rohish   Male  rohish@gmail.com"
      ]
     },
     "execution_count": 28,
     "metadata": {},
     "output_type": "execute_result"
    }
   ],
   "source": [
    "# Display the first few rows\n",
    "df_emp.head(1)"
   ]
  },
  {
   "cell_type": "code",
   "execution_count": 29,
   "id": "24a49f24-c313-4df0-80eb-199a6851c472",
   "metadata": {},
   "outputs": [
    {
     "data": {
      "text/html": [
       "<div>\n",
       "<style scoped>\n",
       "    .dataframe tbody tr th:only-of-type {\n",
       "        vertical-align: middle;\n",
       "    }\n",
       "\n",
       "    .dataframe tbody tr th {\n",
       "        vertical-align: top;\n",
       "    }\n",
       "\n",
       "    .dataframe thead th {\n",
       "        text-align: right;\n",
       "    }\n",
       "</style>\n",
       "<table border=\"1\" class=\"dataframe\">\n",
       "  <thead>\n",
       "    <tr style=\"text-align: right;\">\n",
       "      <th></th>\n",
       "      <th>name</th>\n",
       "      <th>gender</th>\n",
       "      <th>email</th>\n",
       "    </tr>\n",
       "  </thead>\n",
       "  <tbody>\n",
       "    <tr>\n",
       "      <th>1</th>\n",
       "      <td>Smit</td>\n",
       "      <td>Male</td>\n",
       "      <td>smit@gmail.com</td>\n",
       "    </tr>\n",
       "    <tr>\n",
       "      <th>2</th>\n",
       "      <td>Priya</td>\n",
       "      <td>Female</td>\n",
       "      <td>priya@gmail.com</td>\n",
       "    </tr>\n",
       "  </tbody>\n",
       "</table>\n",
       "</div>"
      ],
      "text/plain": [
       "    name  gender            email\n",
       "1   Smit    Male   smit@gmail.com\n",
       "2  Priya  Female  priya@gmail.com"
      ]
     },
     "execution_count": 29,
     "metadata": {},
     "output_type": "execute_result"
    }
   ],
   "source": [
    "# Display the last few rows\n",
    "df_emp.tail(2)"
   ]
  },
  {
   "cell_type": "code",
   "execution_count": 30,
   "id": "840ace31-a048-49b5-a4f2-9e14c7a3e0c5",
   "metadata": {},
   "outputs": [
    {
     "name": "stdout",
     "output_type": "stream",
     "text": [
      "<class 'pandas.core.frame.DataFrame'>\n",
      "RangeIndex: 3 entries, 0 to 2\n",
      "Data columns (total 3 columns):\n",
      " #   Column  Non-Null Count  Dtype \n",
      "---  ------  --------------  ----- \n",
      " 0   name    3 non-null      object\n",
      " 1   gender  3 non-null      object\n",
      " 2   email   3 non-null      object\n",
      "dtypes: object(3)\n",
      "memory usage: 204.0+ bytes\n"
     ]
    }
   ],
   "source": [
    "# Get the summary of the DataFrame\n",
    "df_emp.info()"
   ]
  },
  {
   "cell_type": "code",
   "execution_count": 33,
   "id": "e9f5e42c-9393-4e79-b154-ffc499f00a78",
   "metadata": {},
   "outputs": [
    {
     "data": {
      "text/html": [
       "<div>\n",
       "<style scoped>\n",
       "    .dataframe tbody tr th:only-of-type {\n",
       "        vertical-align: middle;\n",
       "    }\n",
       "\n",
       "    .dataframe tbody tr th {\n",
       "        vertical-align: top;\n",
       "    }\n",
       "\n",
       "    .dataframe thead th {\n",
       "        text-align: right;\n",
       "    }\n",
       "</style>\n",
       "<table border=\"1\" class=\"dataframe\">\n",
       "  <thead>\n",
       "    <tr style=\"text-align: right;\">\n",
       "      <th></th>\n",
       "      <th>name</th>\n",
       "      <th>gender</th>\n",
       "      <th>email</th>\n",
       "    </tr>\n",
       "  </thead>\n",
       "  <tbody>\n",
       "    <tr>\n",
       "      <th>count</th>\n",
       "      <td>3</td>\n",
       "      <td>3</td>\n",
       "      <td>3</td>\n",
       "    </tr>\n",
       "    <tr>\n",
       "      <th>unique</th>\n",
       "      <td>3</td>\n",
       "      <td>2</td>\n",
       "      <td>3</td>\n",
       "    </tr>\n",
       "    <tr>\n",
       "      <th>top</th>\n",
       "      <td>Rohish</td>\n",
       "      <td>Male</td>\n",
       "      <td>rohish@gmail.com</td>\n",
       "    </tr>\n",
       "    <tr>\n",
       "      <th>freq</th>\n",
       "      <td>1</td>\n",
       "      <td>2</td>\n",
       "      <td>1</td>\n",
       "    </tr>\n",
       "  </tbody>\n",
       "</table>\n",
       "</div>"
      ],
      "text/plain": [
       "          name gender             email\n",
       "count        3      3                 3\n",
       "unique       3      2                 3\n",
       "top     Rohish   Male  rohish@gmail.com\n",
       "freq         1      2                 1"
      ]
     },
     "execution_count": 33,
     "metadata": {},
     "output_type": "execute_result"
    }
   ],
   "source": [
    "# Get descriptive statistics\n",
    "df_emp.describe()"
   ]
  },
  {
   "cell_type": "markdown",
   "id": "9164d267-fe21-4fa6-a3e4-86ffe6c7e9cc",
   "metadata": {},
   "source": [
    "#"
   ]
  },
  {
   "cell_type": "markdown",
   "id": "b06ac0e5-88c7-42ca-8981-4d0e9cb07845",
   "metadata": {},
   "source": [
    "#### Indexing and Selecting Data\n",
    "- Indexing in pandas means simply selecting particular rows and columns of data from a DataFrame. \n",
    "- Indexing could mean selecting all the rows and some of the columns, some of the rows and all of the columns, or some of each of the rows and columns.\n",
    "- Indexing can also be known as Subset Selection."
   ]
  },
  {
   "cell_type": "code",
   "execution_count": 34,
   "id": "108eb19b-63ed-4c31-b92d-61b4342012e1",
   "metadata": {},
   "outputs": [
    {
     "data": {
      "text/plain": [
       "0    Rohish\n",
       "1      Smit\n",
       "2     Priya\n",
       "Name: name, dtype: object"
      ]
     },
     "execution_count": 34,
     "metadata": {},
     "output_type": "execute_result"
    }
   ],
   "source": [
    "# Selecting a column\n",
    "df_emp['name']"
   ]
  },
  {
   "cell_type": "code",
   "execution_count": 37,
   "id": "bad8adb4-7377-4660-ae12-a2d200279a48",
   "metadata": {},
   "outputs": [
    {
     "data": {
      "text/html": [
       "<div>\n",
       "<style scoped>\n",
       "    .dataframe tbody tr th:only-of-type {\n",
       "        vertical-align: middle;\n",
       "    }\n",
       "\n",
       "    .dataframe tbody tr th {\n",
       "        vertical-align: top;\n",
       "    }\n",
       "\n",
       "    .dataframe thead th {\n",
       "        text-align: right;\n",
       "    }\n",
       "</style>\n",
       "<table border=\"1\" class=\"dataframe\">\n",
       "  <thead>\n",
       "    <tr style=\"text-align: right;\">\n",
       "      <th></th>\n",
       "      <th>name</th>\n",
       "      <th>email</th>\n",
       "    </tr>\n",
       "  </thead>\n",
       "  <tbody>\n",
       "    <tr>\n",
       "      <th>0</th>\n",
       "      <td>Rohish</td>\n",
       "      <td>rohish@gmail.com</td>\n",
       "    </tr>\n",
       "    <tr>\n",
       "      <th>1</th>\n",
       "      <td>Smit</td>\n",
       "      <td>smit@gmail.com</td>\n",
       "    </tr>\n",
       "    <tr>\n",
       "      <th>2</th>\n",
       "      <td>Priya</td>\n",
       "      <td>priya@gmail.com</td>\n",
       "    </tr>\n",
       "  </tbody>\n",
       "</table>\n",
       "</div>"
      ],
      "text/plain": [
       "     name             email\n",
       "0  Rohish  rohish@gmail.com\n",
       "1    Smit    smit@gmail.com\n",
       "2   Priya   priya@gmail.com"
      ]
     },
     "execution_count": 37,
     "metadata": {},
     "output_type": "execute_result"
    }
   ],
   "source": [
    "# Selecting multiple columns\n",
    "df_emp[['name', 'email']]"
   ]
  },
  {
   "cell_type": "markdown",
   "id": "f69e811c-f48f-4481-ab0e-432d3b214e9b",
   "metadata": {},
   "source": [
    "##### Indexing a DataFrame using .loc[ ]\n",
    "- Label-Based Indexing\n",
    "- loc is used for accessing a group of rows and columns by labels or a boolean array.\n",
    "- It allows you to select data by specifying row and column labels.\n",
    "- It is inclusive of both the start and end labels when slicing."
   ]
  },
  {
   "cell_type": "code",
   "execution_count": 40,
   "id": "58d50730-acb5-4c48-8173-aa43d544b398",
   "metadata": {},
   "outputs": [
    {
     "data": {
      "text/plain": [
       "name                Rohish\n",
       "gender                Male\n",
       "email     rohish@gmail.com\n",
       "Name: 0, dtype: object"
      ]
     },
     "execution_count": 40,
     "metadata": {},
     "output_type": "execute_result"
    }
   ],
   "source": [
    "# # Selecting a single row by label\n",
    "df_emp.loc[0] "
   ]
  },
  {
   "cell_type": "code",
   "execution_count": 42,
   "id": "bdca5a56-a2a9-4299-9e72-b7c49193c61b",
   "metadata": {},
   "outputs": [
    {
     "data": {
      "text/html": [
       "<div>\n",
       "<style scoped>\n",
       "    .dataframe tbody tr th:only-of-type {\n",
       "        vertical-align: middle;\n",
       "    }\n",
       "\n",
       "    .dataframe tbody tr th {\n",
       "        vertical-align: top;\n",
       "    }\n",
       "\n",
       "    .dataframe thead th {\n",
       "        text-align: right;\n",
       "    }\n",
       "</style>\n",
       "<table border=\"1\" class=\"dataframe\">\n",
       "  <thead>\n",
       "    <tr style=\"text-align: right;\">\n",
       "      <th></th>\n",
       "      <th>name</th>\n",
       "      <th>gender</th>\n",
       "    </tr>\n",
       "  </thead>\n",
       "  <tbody>\n",
       "    <tr>\n",
       "      <th>0</th>\n",
       "      <td>Rohish</td>\n",
       "      <td>Male</td>\n",
       "    </tr>\n",
       "    <tr>\n",
       "      <th>1</th>\n",
       "      <td>Smit</td>\n",
       "      <td>Male</td>\n",
       "    </tr>\n",
       "  </tbody>\n",
       "</table>\n",
       "</div>"
      ],
      "text/plain": [
       "     name gender\n",
       "0  Rohish   Male\n",
       "1    Smit   Male"
      ]
     },
     "execution_count": 42,
     "metadata": {},
     "output_type": "execute_result"
    }
   ],
   "source": [
    "# Selecting multiple rows and columns\n",
    "df_emp.loc[[0,1],['name', 'gender']]"
   ]
  },
  {
   "cell_type": "code",
   "execution_count": 49,
   "id": "7f38fe29-2b72-4ee1-88ff-f9047c1d8b70",
   "metadata": {},
   "outputs": [
    {
     "data": {
      "text/html": [
       "<div>\n",
       "<style scoped>\n",
       "    .dataframe tbody tr th:only-of-type {\n",
       "        vertical-align: middle;\n",
       "    }\n",
       "\n",
       "    .dataframe tbody tr th {\n",
       "        vertical-align: top;\n",
       "    }\n",
       "\n",
       "    .dataframe thead th {\n",
       "        text-align: right;\n",
       "    }\n",
       "</style>\n",
       "<table border=\"1\" class=\"dataframe\">\n",
       "  <thead>\n",
       "    <tr style=\"text-align: right;\">\n",
       "      <th></th>\n",
       "      <th>name</th>\n",
       "      <th>gender</th>\n",
       "      <th>email</th>\n",
       "    </tr>\n",
       "  </thead>\n",
       "  <tbody>\n",
       "    <tr>\n",
       "      <th>0</th>\n",
       "      <td>Rohish</td>\n",
       "      <td>Male</td>\n",
       "      <td>rohish@gmail.com</td>\n",
       "    </tr>\n",
       "    <tr>\n",
       "      <th>1</th>\n",
       "      <td>Smit</td>\n",
       "      <td>Male</td>\n",
       "      <td>smit@gmail.com</td>\n",
       "    </tr>\n",
       "  </tbody>\n",
       "</table>\n",
       "</div>"
      ],
      "text/plain": [
       "     name gender             email\n",
       "0  Rohish   Male  rohish@gmail.com\n",
       "1    Smit   Male    smit@gmail.com"
      ]
     },
     "execution_count": 49,
     "metadata": {},
     "output_type": "execute_result"
    }
   ],
   "source": [
    "# Slicing rows and selecting specific columns\n",
    "df_emp.loc[7:4, 'name':'email'] # no result as index out of bounds\n",
    "df_emp.loc[0:, 'name':]\n",
    "df_emp.loc[0:1, 'name':'email']"
   ]
  },
  {
   "cell_type": "code",
   "execution_count": 53,
   "id": "45f6fef9-ec3d-4315-9f87-c9b176160f96",
   "metadata": {},
   "outputs": [
    {
     "data": {
      "text/html": [
       "<div>\n",
       "<style scoped>\n",
       "    .dataframe tbody tr th:only-of-type {\n",
       "        vertical-align: middle;\n",
       "    }\n",
       "\n",
       "    .dataframe tbody tr th {\n",
       "        vertical-align: top;\n",
       "    }\n",
       "\n",
       "    .dataframe thead th {\n",
       "        text-align: right;\n",
       "    }\n",
       "</style>\n",
       "<table border=\"1\" class=\"dataframe\">\n",
       "  <thead>\n",
       "    <tr style=\"text-align: right;\">\n",
       "      <th></th>\n",
       "      <th>name</th>\n",
       "      <th>gender</th>\n",
       "      <th>email</th>\n",
       "    </tr>\n",
       "  </thead>\n",
       "  <tbody>\n",
       "    <tr>\n",
       "      <th>0</th>\n",
       "      <td>Rohish</td>\n",
       "      <td>Male</td>\n",
       "      <td>rohish@gmail.com</td>\n",
       "    </tr>\n",
       "    <tr>\n",
       "      <th>1</th>\n",
       "      <td>Smit</td>\n",
       "      <td>Male</td>\n",
       "      <td>smit@gmail.com</td>\n",
       "    </tr>\n",
       "  </tbody>\n",
       "</table>\n",
       "</div>"
      ],
      "text/plain": [
       "     name gender             email\n",
       "0  Rohish   Male  rohish@gmail.com\n",
       "1    Smit   Male    smit@gmail.com"
      ]
     },
     "execution_count": 53,
     "metadata": {},
     "output_type": "execute_result"
    }
   ],
   "source": [
    "# Using a boolean condition to select rows\n",
    "df_emp.loc[df_emp['gender'] == 'Male']"
   ]
  },
  {
   "cell_type": "markdown",
   "id": "147b1dab-72d7-4baf-a468-1f3f3163b7da",
   "metadata": {},
   "source": [
    "#"
   ]
  },
  {
   "cell_type": "markdown",
   "id": "59318070-80f2-48e9-aeba-8b706cc41c6b",
   "metadata": {},
   "source": [
    "##### Indexing a DataFrame using .iloc[]\n",
    "- Integer-based indexing: Selects data based on the integer positions of rows and columns, starting from 0.\n",
    "- Exclusive: Excludes the end point in the selection.\n",
    "- Consistent: Works consistently regardless of the index type"
   ]
  },
  {
   "cell_type": "code",
   "execution_count": 54,
   "id": "23ea962f-bac3-4c1f-953b-b6c39c6c5bd0",
   "metadata": {},
   "outputs": [
    {
     "data": {
      "text/plain": [
       "name                Rohish\n",
       "gender                Male\n",
       "email     rohish@gmail.com\n",
       "Name: 0, dtype: object"
      ]
     },
     "execution_count": 54,
     "metadata": {},
     "output_type": "execute_result"
    }
   ],
   "source": [
    "# Selecting a single row by position\n",
    "df_emp.iloc[0]"
   ]
  },
  {
   "cell_type": "code",
   "execution_count": 61,
   "id": "2e8d4651-a5b0-4a09-9e9c-5d2d977386ba",
   "metadata": {},
   "outputs": [
    {
     "data": {
      "text/html": [
       "<div>\n",
       "<style scoped>\n",
       "    .dataframe tbody tr th:only-of-type {\n",
       "        vertical-align: middle;\n",
       "    }\n",
       "\n",
       "    .dataframe tbody tr th {\n",
       "        vertical-align: top;\n",
       "    }\n",
       "\n",
       "    .dataframe thead th {\n",
       "        text-align: right;\n",
       "    }\n",
       "</style>\n",
       "<table border=\"1\" class=\"dataframe\">\n",
       "  <thead>\n",
       "    <tr style=\"text-align: right;\">\n",
       "      <th></th>\n",
       "      <th>name</th>\n",
       "      <th>email</th>\n",
       "    </tr>\n",
       "  </thead>\n",
       "  <tbody>\n",
       "    <tr>\n",
       "      <th>0</th>\n",
       "      <td>Rohish</td>\n",
       "      <td>rohish@gmail.com</td>\n",
       "    </tr>\n",
       "    <tr>\n",
       "      <th>2</th>\n",
       "      <td>Priya</td>\n",
       "      <td>priya@gmail.com</td>\n",
       "    </tr>\n",
       "  </tbody>\n",
       "</table>\n",
       "</div>"
      ],
      "text/plain": [
       "     name             email\n",
       "0  Rohish  rohish@gmail.com\n",
       "2   Priya   priya@gmail.com"
      ]
     },
     "execution_count": 61,
     "metadata": {},
     "output_type": "execute_result"
    }
   ],
   "source": [
    "# Selecting multiple rows and columns by position\n",
    "df_emp.iloc[[0, 2], [0, 2]]"
   ]
  },
  {
   "cell_type": "code",
   "execution_count": 68,
   "id": "b860e78f-a0ce-4e65-95cf-0c1abc687d79",
   "metadata": {},
   "outputs": [
    {
     "data": {
      "text/html": [
       "<div>\n",
       "<style scoped>\n",
       "    .dataframe tbody tr th:only-of-type {\n",
       "        vertical-align: middle;\n",
       "    }\n",
       "\n",
       "    .dataframe tbody tr th {\n",
       "        vertical-align: top;\n",
       "    }\n",
       "\n",
       "    .dataframe thead th {\n",
       "        text-align: right;\n",
       "    }\n",
       "</style>\n",
       "<table border=\"1\" class=\"dataframe\">\n",
       "  <thead>\n",
       "    <tr style=\"text-align: right;\">\n",
       "      <th></th>\n",
       "      <th>name</th>\n",
       "      <th>gender</th>\n",
       "    </tr>\n",
       "  </thead>\n",
       "  <tbody>\n",
       "    <tr>\n",
       "      <th>0</th>\n",
       "      <td>Rohish</td>\n",
       "      <td>Male</td>\n",
       "    </tr>\n",
       "    <tr>\n",
       "      <th>1</th>\n",
       "      <td>Smit</td>\n",
       "      <td>Male</td>\n",
       "    </tr>\n",
       "    <tr>\n",
       "      <th>2</th>\n",
       "      <td>Priya</td>\n",
       "      <td>Female</td>\n",
       "    </tr>\n",
       "  </tbody>\n",
       "</table>\n",
       "</div>"
      ],
      "text/plain": [
       "     name  gender\n",
       "0  Rohish    Male\n",
       "1    Smit    Male\n",
       "2   Priya  Female"
      ]
     },
     "execution_count": 68,
     "metadata": {},
     "output_type": "execute_result"
    }
   ],
   "source": [
    "# Slicing rows and selecting specific columns by position\n",
    "df_emp.iloc[0:,0:2]"
   ]
  },
  {
   "cell_type": "code",
   "execution_count": 73,
   "id": "b878d950-fcfa-4cbd-9188-c34d35aefc7f",
   "metadata": {},
   "outputs": [
    {
     "data": {
      "text/html": [
       "<div>\n",
       "<style scoped>\n",
       "    .dataframe tbody tr th:only-of-type {\n",
       "        vertical-align: middle;\n",
       "    }\n",
       "\n",
       "    .dataframe tbody tr th {\n",
       "        vertical-align: top;\n",
       "    }\n",
       "\n",
       "    .dataframe thead th {\n",
       "        text-align: right;\n",
       "    }\n",
       "</style>\n",
       "<table border=\"1\" class=\"dataframe\">\n",
       "  <thead>\n",
       "    <tr style=\"text-align: right;\">\n",
       "      <th></th>\n",
       "      <th>name</th>\n",
       "      <th>gender</th>\n",
       "    </tr>\n",
       "  </thead>\n",
       "  <tbody>\n",
       "    <tr>\n",
       "      <th>1</th>\n",
       "      <td>Smit</td>\n",
       "      <td>Male</td>\n",
       "    </tr>\n",
       "    <tr>\n",
       "      <th>2</th>\n",
       "      <td>Priya</td>\n",
       "      <td>Female</td>\n",
       "    </tr>\n",
       "  </tbody>\n",
       "</table>\n",
       "</div>"
      ],
      "text/plain": [
       "    name  gender\n",
       "1   Smit    Male\n",
       "2  Priya  Female"
      ]
     },
     "execution_count": 73,
     "metadata": {},
     "output_type": "execute_result"
    }
   ],
   "source": [
    "# df_emp.iloc[1,2]\n",
    "# df_emp.iloc[1:3,0:2]\n",
    "df_emp.iloc[1:3,0:2]"
   ]
  },
  {
   "cell_type": "code",
   "execution_count": 75,
   "id": "234e6591-4746-4787-8158-592044114bfa",
   "metadata": {},
   "outputs": [
    {
     "data": {
      "text/html": [
       "<div>\n",
       "<style scoped>\n",
       "    .dataframe tbody tr th:only-of-type {\n",
       "        vertical-align: middle;\n",
       "    }\n",
       "\n",
       "    .dataframe tbody tr th {\n",
       "        vertical-align: top;\n",
       "    }\n",
       "\n",
       "    .dataframe thead th {\n",
       "        text-align: right;\n",
       "    }\n",
       "</style>\n",
       "<table border=\"1\" class=\"dataframe\">\n",
       "  <thead>\n",
       "    <tr style=\"text-align: right;\">\n",
       "      <th></th>\n",
       "      <th>gender</th>\n",
       "      <th>email</th>\n",
       "    </tr>\n",
       "  </thead>\n",
       "  <tbody>\n",
       "    <tr>\n",
       "      <th>0</th>\n",
       "      <td>Male</td>\n",
       "      <td>rohish@gmail.com</td>\n",
       "    </tr>\n",
       "    <tr>\n",
       "      <th>1</th>\n",
       "      <td>Male</td>\n",
       "      <td>smit@gmail.com</td>\n",
       "    </tr>\n",
       "  </tbody>\n",
       "</table>\n",
       "</div>"
      ],
      "text/plain": [
       "  gender             email\n",
       "0   Male  rohish@gmail.com\n",
       "1   Male    smit@gmail.com"
      ]
     },
     "execution_count": 75,
     "metadata": {},
     "output_type": "execute_result"
    }
   ],
   "source": [
    "# Selecting rows and columns with a list of positions\n",
    "df_emp.iloc[[0, 1], [1, 2]]\n"
   ]
  },
  {
   "cell_type": "markdown",
   "id": "4473cc86-7d68-4d47-bfed-6995e2ea7e25",
   "metadata": {},
   "source": [
    "#"
   ]
  },
  {
   "cell_type": "markdown",
   "id": "f2c2853b-7a1e-43d2-84d3-59087a6a2194",
   "metadata": {},
   "source": [
    "#### Setting a Custom Index\n",
    "You can set a specific column as the index using set_index()."
   ]
  },
  {
   "cell_type": "code",
   "execution_count": 76,
   "id": "b34c79bf-bd18-4045-a063-43b445031a65",
   "metadata": {},
   "outputs": [
    {
     "data": {
      "text/html": [
       "<div>\n",
       "<style scoped>\n",
       "    .dataframe tbody tr th:only-of-type {\n",
       "        vertical-align: middle;\n",
       "    }\n",
       "\n",
       "    .dataframe tbody tr th {\n",
       "        vertical-align: top;\n",
       "    }\n",
       "\n",
       "    .dataframe thead th {\n",
       "        text-align: right;\n",
       "    }\n",
       "</style>\n",
       "<table border=\"1\" class=\"dataframe\">\n",
       "  <thead>\n",
       "    <tr style=\"text-align: right;\">\n",
       "      <th></th>\n",
       "      <th>name</th>\n",
       "      <th>gender</th>\n",
       "      <th>email</th>\n",
       "    </tr>\n",
       "  </thead>\n",
       "  <tbody>\n",
       "    <tr>\n",
       "      <th>0</th>\n",
       "      <td>Rohish</td>\n",
       "      <td>Male</td>\n",
       "      <td>rohish@gmail.com</td>\n",
       "    </tr>\n",
       "    <tr>\n",
       "      <th>1</th>\n",
       "      <td>Smit</td>\n",
       "      <td>Male</td>\n",
       "      <td>smit@gmail.com</td>\n",
       "    </tr>\n",
       "    <tr>\n",
       "      <th>2</th>\n",
       "      <td>Priya</td>\n",
       "      <td>Female</td>\n",
       "      <td>priya@gmail.com</td>\n",
       "    </tr>\n",
       "  </tbody>\n",
       "</table>\n",
       "</div>"
      ],
      "text/plain": [
       "     name  gender             email\n",
       "0  Rohish    Male  rohish@gmail.com\n",
       "1    Smit    Male    smit@gmail.com\n",
       "2   Priya  Female   priya@gmail.com"
      ]
     },
     "execution_count": 76,
     "metadata": {},
     "output_type": "execute_result"
    }
   ],
   "source": [
    "# before setting up custmom index\n",
    "df_emp"
   ]
  },
  {
   "cell_type": "code",
   "execution_count": 90,
   "id": "d33686f4-0875-44c4-800e-df1f933643ea",
   "metadata": {},
   "outputs": [
    {
     "data": {
      "text/html": [
       "<div>\n",
       "<style scoped>\n",
       "    .dataframe tbody tr th:only-of-type {\n",
       "        vertical-align: middle;\n",
       "    }\n",
       "\n",
       "    .dataframe tbody tr th {\n",
       "        vertical-align: top;\n",
       "    }\n",
       "\n",
       "    .dataframe thead th {\n",
       "        text-align: right;\n",
       "    }\n",
       "</style>\n",
       "<table border=\"1\" class=\"dataframe\">\n",
       "  <thead>\n",
       "    <tr style=\"text-align: right;\">\n",
       "      <th></th>\n",
       "      <th>index</th>\n",
       "      <th>name</th>\n",
       "      <th>gender</th>\n",
       "    </tr>\n",
       "    <tr>\n",
       "      <th>email</th>\n",
       "      <th></th>\n",
       "      <th></th>\n",
       "      <th></th>\n",
       "    </tr>\n",
       "  </thead>\n",
       "  <tbody>\n",
       "    <tr>\n",
       "      <th>rohish@gmail.com</th>\n",
       "      <td>0</td>\n",
       "      <td>Rohish</td>\n",
       "      <td>Male</td>\n",
       "    </tr>\n",
       "    <tr>\n",
       "      <th>smit@gmail.com</th>\n",
       "      <td>1</td>\n",
       "      <td>Smit</td>\n",
       "      <td>Male</td>\n",
       "    </tr>\n",
       "    <tr>\n",
       "      <th>priya@gmail.com</th>\n",
       "      <td>2</td>\n",
       "      <td>Priya</td>\n",
       "      <td>Female</td>\n",
       "    </tr>\n",
       "  </tbody>\n",
       "</table>\n",
       "</div>"
      ],
      "text/plain": [
       "                  index    name  gender\n",
       "email                                  \n",
       "rohish@gmail.com      0  Rohish    Male\n",
       "smit@gmail.com        1    Smit    Male\n",
       "priya@gmail.com       2   Priya  Female"
      ]
     },
     "execution_count": 90,
     "metadata": {},
     "output_type": "execute_result"
    }
   ],
   "source": [
    "# setting up custom index\n",
    "df_emp.set_index('email') # this is temporary and will not change the original dataframe"
   ]
  },
  {
   "cell_type": "code",
   "execution_count": 94,
   "id": "c7198f45-abb4-4c12-8b37-75ac0d2a35b2",
   "metadata": {},
   "outputs": [],
   "source": [
    "df_emp.set_index('email',inplace=True) # changes the original dataframe"
   ]
  },
  {
   "cell_type": "code",
   "execution_count": 95,
   "id": "e58aefca-2e32-43c9-8bc0-de29854c57fb",
   "metadata": {},
   "outputs": [
    {
     "data": {
      "text/html": [
       "<div>\n",
       "<style scoped>\n",
       "    .dataframe tbody tr th:only-of-type {\n",
       "        vertical-align: middle;\n",
       "    }\n",
       "\n",
       "    .dataframe tbody tr th {\n",
       "        vertical-align: top;\n",
       "    }\n",
       "\n",
       "    .dataframe thead th {\n",
       "        text-align: right;\n",
       "    }\n",
       "</style>\n",
       "<table border=\"1\" class=\"dataframe\">\n",
       "  <thead>\n",
       "    <tr style=\"text-align: right;\">\n",
       "      <th></th>\n",
       "      <th>index</th>\n",
       "      <th>name</th>\n",
       "      <th>gender</th>\n",
       "    </tr>\n",
       "    <tr>\n",
       "      <th>email</th>\n",
       "      <th></th>\n",
       "      <th></th>\n",
       "      <th></th>\n",
       "    </tr>\n",
       "  </thead>\n",
       "  <tbody>\n",
       "    <tr>\n",
       "      <th>rohish@gmail.com</th>\n",
       "      <td>0</td>\n",
       "      <td>Rohish</td>\n",
       "      <td>Male</td>\n",
       "    </tr>\n",
       "    <tr>\n",
       "      <th>smit@gmail.com</th>\n",
       "      <td>1</td>\n",
       "      <td>Smit</td>\n",
       "      <td>Male</td>\n",
       "    </tr>\n",
       "    <tr>\n",
       "      <th>priya@gmail.com</th>\n",
       "      <td>2</td>\n",
       "      <td>Priya</td>\n",
       "      <td>Female</td>\n",
       "    </tr>\n",
       "  </tbody>\n",
       "</table>\n",
       "</div>"
      ],
      "text/plain": [
       "                  index    name  gender\n",
       "email                                  \n",
       "rohish@gmail.com      0  Rohish    Male\n",
       "smit@gmail.com        1    Smit    Male\n",
       "priya@gmail.com       2   Priya  Female"
      ]
     },
     "execution_count": 95,
     "metadata": {},
     "output_type": "execute_result"
    }
   ],
   "source": [
    "df_emp"
   ]
  },
  {
   "cell_type": "code",
   "execution_count": 96,
   "id": "6e42dd5e-66f9-485f-9ef1-d4cd4a298c45",
   "metadata": {},
   "outputs": [],
   "source": [
    "# resetting the index\n",
    "df_emp.reset_index(inplace=True)"
   ]
  },
  {
   "cell_type": "code",
   "execution_count": 97,
   "id": "09cf833a-742c-4add-9008-e5484c386081",
   "metadata": {},
   "outputs": [
    {
     "data": {
      "text/html": [
       "<div>\n",
       "<style scoped>\n",
       "    .dataframe tbody tr th:only-of-type {\n",
       "        vertical-align: middle;\n",
       "    }\n",
       "\n",
       "    .dataframe tbody tr th {\n",
       "        vertical-align: top;\n",
       "    }\n",
       "\n",
       "    .dataframe thead th {\n",
       "        text-align: right;\n",
       "    }\n",
       "</style>\n",
       "<table border=\"1\" class=\"dataframe\">\n",
       "  <thead>\n",
       "    <tr style=\"text-align: right;\">\n",
       "      <th></th>\n",
       "      <th>email</th>\n",
       "      <th>index</th>\n",
       "      <th>name</th>\n",
       "      <th>gender</th>\n",
       "    </tr>\n",
       "  </thead>\n",
       "  <tbody>\n",
       "    <tr>\n",
       "      <th>0</th>\n",
       "      <td>rohish@gmail.com</td>\n",
       "      <td>0</td>\n",
       "      <td>Rohish</td>\n",
       "      <td>Male</td>\n",
       "    </tr>\n",
       "    <tr>\n",
       "      <th>1</th>\n",
       "      <td>smit@gmail.com</td>\n",
       "      <td>1</td>\n",
       "      <td>Smit</td>\n",
       "      <td>Male</td>\n",
       "    </tr>\n",
       "    <tr>\n",
       "      <th>2</th>\n",
       "      <td>priya@gmail.com</td>\n",
       "      <td>2</td>\n",
       "      <td>Priya</td>\n",
       "      <td>Female</td>\n",
       "    </tr>\n",
       "  </tbody>\n",
       "</table>\n",
       "</div>"
      ],
      "text/plain": [
       "              email  index    name  gender\n",
       "0  rohish@gmail.com      0  Rohish    Male\n",
       "1    smit@gmail.com      1    Smit    Male\n",
       "2   priya@gmail.com      2   Priya  Female"
      ]
     },
     "execution_count": 97,
     "metadata": {},
     "output_type": "execute_result"
    }
   ],
   "source": [
    "df_emp"
   ]
  },
  {
   "cell_type": "code",
   "execution_count": 8,
   "id": "16008589-4831-43b6-9cea-cef2fe1b0585",
   "metadata": {},
   "outputs": [
    {
     "data": {
      "text/plain": [
       "0     True\n",
       "1     True\n",
       "2    False\n",
       "Name: gender, dtype: bool"
      ]
     },
     "execution_count": 8,
     "metadata": {},
     "output_type": "execute_result"
    }
   ],
   "source": [
    "fc = (df_emp['gender']=='Male')\n",
    "fc"
   ]
  },
  {
   "cell_type": "code",
   "execution_count": 9,
   "id": "f8b6c722-4686-4e0f-a751-3f5db53500fd",
   "metadata": {},
   "outputs": [
    {
     "data": {
      "text/html": [
       "<div>\n",
       "<style scoped>\n",
       "    .dataframe tbody tr th:only-of-type {\n",
       "        vertical-align: middle;\n",
       "    }\n",
       "\n",
       "    .dataframe tbody tr th {\n",
       "        vertical-align: top;\n",
       "    }\n",
       "\n",
       "    .dataframe thead th {\n",
       "        text-align: right;\n",
       "    }\n",
       "</style>\n",
       "<table border=\"1\" class=\"dataframe\">\n",
       "  <thead>\n",
       "    <tr style=\"text-align: right;\">\n",
       "      <th></th>\n",
       "      <th>name</th>\n",
       "      <th>gender</th>\n",
       "      <th>email</th>\n",
       "    </tr>\n",
       "  </thead>\n",
       "  <tbody>\n",
       "    <tr>\n",
       "      <th>0</th>\n",
       "      <td>Rohish</td>\n",
       "      <td>Male</td>\n",
       "      <td>rohish@gmail.com</td>\n",
       "    </tr>\n",
       "    <tr>\n",
       "      <th>1</th>\n",
       "      <td>Smit</td>\n",
       "      <td>Male</td>\n",
       "      <td>smit@gmail.com</td>\n",
       "    </tr>\n",
       "  </tbody>\n",
       "</table>\n",
       "</div>"
      ],
      "text/plain": [
       "     name gender             email\n",
       "0  Rohish   Male  rohish@gmail.com\n",
       "1    Smit   Male    smit@gmail.com"
      ]
     },
     "execution_count": 9,
     "metadata": {},
     "output_type": "execute_result"
    }
   ],
   "source": [
    "df_emp[fc]"
   ]
  },
  {
   "cell_type": "code",
   "execution_count": 10,
   "id": "a2b28ebc-8ff9-40f5-ae73-c09399928997",
   "metadata": {},
   "outputs": [
    {
     "data": {
      "text/plain": [
       "0    False\n",
       "1    False\n",
       "2     True\n",
       "Name: gender, dtype: bool"
      ]
     },
     "execution_count": 10,
     "metadata": {},
     "output_type": "execute_result"
    }
   ],
   "source": [
    "fci = ~(df_emp['gender']=='Male')\n",
    "fci"
   ]
  },
  {
   "cell_type": "code",
   "execution_count": 11,
   "id": "cf247452-0fe3-48a3-bd42-5e6a681622bc",
   "metadata": {},
   "outputs": [
    {
     "data": {
      "text/html": [
       "<div>\n",
       "<style scoped>\n",
       "    .dataframe tbody tr th:only-of-type {\n",
       "        vertical-align: middle;\n",
       "    }\n",
       "\n",
       "    .dataframe tbody tr th {\n",
       "        vertical-align: top;\n",
       "    }\n",
       "\n",
       "    .dataframe thead th {\n",
       "        text-align: right;\n",
       "    }\n",
       "</style>\n",
       "<table border=\"1\" class=\"dataframe\">\n",
       "  <thead>\n",
       "    <tr style=\"text-align: right;\">\n",
       "      <th></th>\n",
       "      <th>name</th>\n",
       "      <th>gender</th>\n",
       "      <th>email</th>\n",
       "    </tr>\n",
       "  </thead>\n",
       "  <tbody>\n",
       "    <tr>\n",
       "      <th>2</th>\n",
       "      <td>Priya</td>\n",
       "      <td>Female</td>\n",
       "      <td>priya@gmail.com</td>\n",
       "    </tr>\n",
       "  </tbody>\n",
       "</table>\n",
       "</div>"
      ],
      "text/plain": [
       "    name  gender            email\n",
       "2  Priya  Female  priya@gmail.com"
      ]
     },
     "execution_count": 11,
     "metadata": {},
     "output_type": "execute_result"
    }
   ],
   "source": [
    "df_emp[fci]"
   ]
  }
 ],
 "metadata": {
  "kernelspec": {
   "display_name": "Python 3 (ipykernel)",
   "language": "python",
   "name": "python3"
  },
  "language_info": {
   "codemirror_mode": {
    "name": "ipython",
    "version": 3
   },
   "file_extension": ".py",
   "mimetype": "text/x-python",
   "name": "python",
   "nbconvert_exporter": "python",
   "pygments_lexer": "ipython3",
   "version": "3.12.3"
  }
 },
 "nbformat": 4,
 "nbformat_minor": 5
}
