{
 "cells": [
  {
   "cell_type": "code",
   "execution_count": 0,
   "metadata": {
    "application/vnd.databricks.v1+cell": {
     "cellMetadata": {
      "byteLimit": 2048000,
      "rowLimit": 10000
     },
     "inputWidgets": {},
     "nuid": "2efcb24c-5b18-4351-aa82-b846ec6b6b14",
     "showTitle": false,
     "title": ""
    }
   },
   "outputs": [
    {
     "output_type": "display_data",
     "data": {
      "application/vnd.databricks.v1+bamboolib_hint": "{\"pd.DataFrames\": [], \"version\": \"0.0.1\"}",
      "text/plain": []
     },
     "metadata": {},
     "output_type": "display_data"
    }
   ],
   "source": [
    "import pandas as pd"
   ]
  },
  {
   "cell_type": "code",
   "execution_count": 0,
   "metadata": {
    "application/vnd.databricks.v1+cell": {
     "cellMetadata": {
      "byteLimit": 2048000,
      "rowLimit": 10000
     },
     "inputWidgets": {},
     "nuid": "66cfeb97-b7db-4c94-95f5-0d497c31de4c",
     "showTitle": false,
     "title": ""
    }
   },
   "outputs": [
    {
     "output_type": "display_data",
     "data": {
      "text/html": [
       "<style scoped>\n",
       "  .ansiout {\n",
       "    display: block;\n",
       "    unicode-bidi: embed;\n",
       "    white-space: pre-wrap;\n",
       "    word-wrap: break-word;\n",
       "    word-break: break-all;\n",
       "    font-family: \"Menlo\", \"Monaco\", \"Consolas\", \"Ubuntu Mono\", \"Source Code Pro\", monospace;\n",
       "    font-size: 13px;\n",
       "    color: #555;\n",
       "    margin-left: 4px;\n",
       "    line-height: 19px;\n",
       "  }\n",
       "</style>\n",
       "<div class=\"ansiout\">res0: Boolean = true\n",
       "</div>"
      ]
     },
     "metadata": {
      "application/vnd.databricks.v1+output": {
       "addedWidgets": {},
       "arguments": {},
       "data": "<div class=\"ansiout\">res0: Boolean = true\n</div>",
       "datasetInfos": [],
       "metadata": {
        "isDbfsCommandResult": false
       },
       "removedWidgets": [],
       "type": "html"
      }
     },
     "output_type": "display_data"
    }
   ],
   "source": [
    "%fs \n",
    "cp dbfs:/FileStore/shared_uploads/zaderohish5@gmail.com/orders.txt file:/databricks/driver/"
   ]
  },
  {
   "cell_type": "code",
   "execution_count": 0,
   "metadata": {
    "application/vnd.databricks.v1+cell": {
     "cellMetadata": {
      "byteLimit": 2048000,
      "rowLimit": 10000
     },
     "inputWidgets": {},
     "nuid": "59e89231-ce05-43e0-9965-c727c4ee0b41",
     "showTitle": false,
     "title": ""
    }
   },
   "outputs": [
    {
     "output_type": "display_data",
     "data": {
      "text/html": [
       "<div>\n",
       "<style scoped>\n",
       "    .dataframe tbody tr th:only-of-type {\n",
       "        vertical-align: middle;\n",
       "    }\n",
       "\n",
       "    .dataframe tbody tr th {\n",
       "        vertical-align: top;\n",
       "    }\n",
       "\n",
       "    .dataframe thead th {\n",
       "        text-align: right;\n",
       "    }\n",
       "</style>\n",
       "<table border=\"1\" class=\"dataframe\">\n",
       "  <thead>\n",
       "    <tr style=\"text-align: right;\">\n",
       "      <th></th>\n",
       "      <th>order_id</th>\n",
       "      <th>order_date</th>\n",
       "      <th>customer_name</th>\n",
       "      <th>city</th>\n",
       "      <th>category</th>\n",
       "      <th>product_id</th>\n",
       "      <th>sales</th>\n",
       "      <th>profit</th>\n",
       "    </tr>\n",
       "  </thead>\n",
       "  <tbody>\n",
       "    <tr>\n",
       "      <th>0</th>\n",
       "      <td>CA-2018-100006</td>\n",
       "      <td>2018-09-07</td>\n",
       "      <td>Dennis Kane</td>\n",
       "      <td>New York City</td>\n",
       "      <td>Technology</td>\n",
       "      <td>TEC-PH-10002075</td>\n",
       "      <td>377.970</td>\n",
       "      <td>109.6113</td>\n",
       "    </tr>\n",
       "    <tr>\n",
       "      <th>1</th>\n",
       "      <td>CA-2018-100090</td>\n",
       "      <td>2018-07-08</td>\n",
       "      <td>Ed Braxton</td>\n",
       "      <td>San Francisco</td>\n",
       "      <td>Furniture</td>\n",
       "      <td>FUR-TA-10003715</td>\n",
       "      <td>502.488</td>\n",
       "      <td>-87.9354</td>\n",
       "    </tr>\n",
       "    <tr>\n",
       "      <th>2</th>\n",
       "      <td>CA-2018-100293</td>\n",
       "      <td>2018-03-14</td>\n",
       "      <td>Neil Französisch</td>\n",
       "      <td>Jacksonville</td>\n",
       "      <td>Office Supplies</td>\n",
       "      <td>OFF-PA-10000176</td>\n",
       "      <td>91.056</td>\n",
       "      <td>31.8696</td>\n",
       "    </tr>\n",
       "    <tr>\n",
       "      <th>3</th>\n",
       "      <td>CA-2018-100328</td>\n",
       "      <td>2018-01-28</td>\n",
       "      <td>Jasper Cacioppo</td>\n",
       "      <td>New York City</td>\n",
       "      <td>Office Supplies</td>\n",
       "      <td>OFF-BI-10000343</td>\n",
       "      <td>3.928</td>\n",
       "      <td>1.3257</td>\n",
       "    </tr>\n",
       "    <tr>\n",
       "      <th>4</th>\n",
       "      <td>CA-2018-100363</td>\n",
       "      <td>2018-04-08</td>\n",
       "      <td>Jim Mitchum</td>\n",
       "      <td>Glendale</td>\n",
       "      <td>Office Supplies</td>\n",
       "      <td>OFF-FA-10000611</td>\n",
       "      <td>2.368</td>\n",
       "      <td>0.8288</td>\n",
       "    </tr>\n",
       "    <tr>\n",
       "      <th>...</th>\n",
       "      <td>...</td>\n",
       "      <td>...</td>\n",
       "      <td>...</td>\n",
       "      <td>...</td>\n",
       "      <td>...</td>\n",
       "      <td>...</td>\n",
       "      <td>...</td>\n",
       "      <td>...</td>\n",
       "    </tr>\n",
       "    <tr>\n",
       "      <th>5004</th>\n",
       "      <td>US-2021-168802</td>\n",
       "      <td>2021-11-03</td>\n",
       "      <td>Jack O'Briant</td>\n",
       "      <td>Seattle</td>\n",
       "      <td>Office Supplies</td>\n",
       "      <td>OFF-BI-10002393</td>\n",
       "      <td>18.368</td>\n",
       "      <td>5.9696</td>\n",
       "    </tr>\n",
       "    <tr>\n",
       "      <th>5005</th>\n",
       "      <td>US-2021-169320</td>\n",
       "      <td>2021-07-23</td>\n",
       "      <td>Lena Hernandez</td>\n",
       "      <td>Elkhart</td>\n",
       "      <td>Office Supplies</td>\n",
       "      <td>OFF-AR-10003602</td>\n",
       "      <td>11.680</td>\n",
       "      <td>5.4896</td>\n",
       "    </tr>\n",
       "    <tr>\n",
       "      <th>5006</th>\n",
       "      <td>US-2021-169488</td>\n",
       "      <td>2021-09-07</td>\n",
       "      <td>Allen Armold</td>\n",
       "      <td>Providence</td>\n",
       "      <td>Office Supplies</td>\n",
       "      <td>OFF-PA-10000157</td>\n",
       "      <td>39.960</td>\n",
       "      <td>18.7812</td>\n",
       "    </tr>\n",
       "    <tr>\n",
       "      <th>5007</th>\n",
       "      <td>US-2021-169502</td>\n",
       "      <td>2021-08-28</td>\n",
       "      <td>Matthew Grinstein</td>\n",
       "      <td>Milwaukee</td>\n",
       "      <td>Office Supplies</td>\n",
       "      <td>OFF-AP-10001947</td>\n",
       "      <td>91.600</td>\n",
       "      <td>26.5640</td>\n",
       "    </tr>\n",
       "    <tr>\n",
       "      <th>5008</th>\n",
       "      <td>US-2021-169551</td>\n",
       "      <td>2021-07-07</td>\n",
       "      <td>Rob Lucas</td>\n",
       "      <td>Philadelphia</td>\n",
       "      <td>Furniture</td>\n",
       "      <td>FUR-BO-10001519</td>\n",
       "      <td>87.210</td>\n",
       "      <td>-45.3492</td>\n",
       "    </tr>\n",
       "  </tbody>\n",
       "</table>\n",
       "<p>5009 rows × 8 columns</p>\n",
       "</div>"
      ]
     },
     "metadata": {
      "application/vnd.databricks.v1+output": {
       "addedWidgets": {},
       "arguments": {},
       "data": "<div>\n<style scoped>\n    .dataframe tbody tr th:only-of-type {\n        vertical-align: middle;\n    }\n\n    .dataframe tbody tr th {\n        vertical-align: top;\n    }\n\n    .dataframe thead th {\n        text-align: right;\n    }\n</style>\n<table border=\"1\" class=\"dataframe\">\n  <thead>\n    <tr style=\"text-align: right;\">\n      <th></th>\n      <th>order_id</th>\n      <th>order_date</th>\n      <th>customer_name</th>\n      <th>city</th>\n      <th>category</th>\n      <th>product_id</th>\n      <th>sales</th>\n      <th>profit</th>\n    </tr>\n  </thead>\n  <tbody>\n    <tr>\n      <th>0</th>\n      <td>CA-2018-100006</td>\n      <td>2018-09-07</td>\n      <td>Dennis Kane</td>\n      <td>New York City</td>\n      <td>Technology</td>\n      <td>TEC-PH-10002075</td>\n      <td>377.970</td>\n      <td>109.6113</td>\n    </tr>\n    <tr>\n      <th>1</th>\n      <td>CA-2018-100090</td>\n      <td>2018-07-08</td>\n      <td>Ed Braxton</td>\n      <td>San Francisco</td>\n      <td>Furniture</td>\n      <td>FUR-TA-10003715</td>\n      <td>502.488</td>\n      <td>-87.9354</td>\n    </tr>\n    <tr>\n      <th>2</th>\n      <td>CA-2018-100293</td>\n      <td>2018-03-14</td>\n      <td>Neil Französisch</td>\n      <td>Jacksonville</td>\n      <td>Office Supplies</td>\n      <td>OFF-PA-10000176</td>\n      <td>91.056</td>\n      <td>31.8696</td>\n    </tr>\n    <tr>\n      <th>3</th>\n      <td>CA-2018-100328</td>\n      <td>2018-01-28</td>\n      <td>Jasper Cacioppo</td>\n      <td>New York City</td>\n      <td>Office Supplies</td>\n      <td>OFF-BI-10000343</td>\n      <td>3.928</td>\n      <td>1.3257</td>\n    </tr>\n    <tr>\n      <th>4</th>\n      <td>CA-2018-100363</td>\n      <td>2018-04-08</td>\n      <td>Jim Mitchum</td>\n      <td>Glendale</td>\n      <td>Office Supplies</td>\n      <td>OFF-FA-10000611</td>\n      <td>2.368</td>\n      <td>0.8288</td>\n    </tr>\n    <tr>\n      <th>...</th>\n      <td>...</td>\n      <td>...</td>\n      <td>...</td>\n      <td>...</td>\n      <td>...</td>\n      <td>...</td>\n      <td>...</td>\n      <td>...</td>\n    </tr>\n    <tr>\n      <th>5004</th>\n      <td>US-2021-168802</td>\n      <td>2021-11-03</td>\n      <td>Jack O'Briant</td>\n      <td>Seattle</td>\n      <td>Office Supplies</td>\n      <td>OFF-BI-10002393</td>\n      <td>18.368</td>\n      <td>5.9696</td>\n    </tr>\n    <tr>\n      <th>5005</th>\n      <td>US-2021-169320</td>\n      <td>2021-07-23</td>\n      <td>Lena Hernandez</td>\n      <td>Elkhart</td>\n      <td>Office Supplies</td>\n      <td>OFF-AR-10003602</td>\n      <td>11.680</td>\n      <td>5.4896</td>\n    </tr>\n    <tr>\n      <th>5006</th>\n      <td>US-2021-169488</td>\n      <td>2021-09-07</td>\n      <td>Allen Armold</td>\n      <td>Providence</td>\n      <td>Office Supplies</td>\n      <td>OFF-PA-10000157</td>\n      <td>39.960</td>\n      <td>18.7812</td>\n    </tr>\n    <tr>\n      <th>5007</th>\n      <td>US-2021-169502</td>\n      <td>2021-08-28</td>\n      <td>Matthew Grinstein</td>\n      <td>Milwaukee</td>\n      <td>Office Supplies</td>\n      <td>OFF-AP-10001947</td>\n      <td>91.600</td>\n      <td>26.5640</td>\n    </tr>\n    <tr>\n      <th>5008</th>\n      <td>US-2021-169551</td>\n      <td>2021-07-07</td>\n      <td>Rob Lucas</td>\n      <td>Philadelphia</td>\n      <td>Furniture</td>\n      <td>FUR-BO-10001519</td>\n      <td>87.210</td>\n      <td>-45.3492</td>\n    </tr>\n  </tbody>\n</table>\n<p>5009 rows × 8 columns</p>\n</div>",
       "datasetInfos": [],
       "metadata": {},
       "removedWidgets": [],
       "textData": null,
       "type": "htmlSandbox"
      }
     },
     "output_type": "display_data"
    }
   ],
   "source": [
    "df = pd.read_csv('orders.txt')\n",
    "df"
   ]
  },
  {
   "cell_type": "markdown",
   "metadata": {
    "application/vnd.databricks.v1+cell": {
     "cellMetadata": {},
     "inputWidgets": {},
     "nuid": "bdb633f3-7d79-45c4-901c-8d7d90ca64ea",
     "showTitle": false,
     "title": ""
    }
   },
   "source": []
  },
  {
   "cell_type": "markdown",
   "metadata": {
    "application/vnd.databricks.v1+cell": {
     "cellMetadata": {},
     "inputWidgets": {},
     "nuid": "4fc27275-ee6e-419f-b824-b7a998c1d861",
     "showTitle": false,
     "title": ""
    }
   },
   "source": [
    "### Pandas data aggregations\n",
    "Aggregations in Python using Pandas allow you to compute summary statistics like mean, sum, count, etc., across rows or columns in a DataFrame."
   ]
  },
  {
   "cell_type": "markdown",
   "metadata": {
    "application/vnd.databricks.v1+cell": {
     "cellMetadata": {},
     "inputWidgets": {},
     "nuid": "3175c0fd-9543-4817-9a89-d02df142fc99",
     "showTitle": false,
     "title": ""
    }
   },
   "source": [
    "#### Basic Aggregations"
   ]
  },
  {
   "cell_type": "code",
   "execution_count": 0,
   "metadata": {
    "application/vnd.databricks.v1+cell": {
     "cellMetadata": {
      "byteLimit": 2048000,
      "rowLimit": 10000
     },
     "inputWidgets": {},
     "nuid": "23dcb7d4-1e00-4408-9058-885e4b6fa003",
     "showTitle": false,
     "title": ""
    }
   },
   "outputs": [
    {
     "output_type": "stream",
     "name": "stdout",
     "output_type": "stream",
     "text": [
      "Out[4]: 1107592.9048"
     ]
    }
   ],
   "source": [
    "# Sum: Computes the sum of values.\n",
    "df['sales'].sum()"
   ]
  },
  {
   "cell_type": "code",
   "execution_count": 0,
   "metadata": {
    "application/vnd.databricks.v1+cell": {
     "cellMetadata": {
      "byteLimit": 2048000,
      "rowLimit": 10000
     },
     "inputWidgets": {},
     "nuid": "29887b35-f426-460f-8b5c-734c0ef1c57b",
     "showTitle": false,
     "title": ""
    }
   },
   "outputs": [
    {
     "output_type": "stream",
     "name": "stdout",
     "output_type": "stream",
     "text": [
      "Out[5]: pandas.core.series.Series"
     ]
    }
   ],
   "source": [
    "type(df['sales'])"
   ]
  },
  {
   "cell_type": "code",
   "execution_count": 0,
   "metadata": {
    "application/vnd.databricks.v1+cell": {
     "cellMetadata": {
      "byteLimit": 2048000,
      "rowLimit": 10000
     },
     "inputWidgets": {},
     "nuid": "4605cff2-bacc-47c6-92cb-9b9979980ae3",
     "showTitle": false,
     "title": ""
    }
   },
   "outputs": [
    {
     "output_type": "stream",
     "name": "stdout",
     "output_type": "stream",
     "text": [
      "Out[7]: 221.12056394489917"
     ]
    }
   ],
   "source": [
    "# Mean: Computes the average of values.\n",
    "df['sales'].mean()"
   ]
  },
  {
   "cell_type": "code",
   "execution_count": 0,
   "metadata": {
    "application/vnd.databricks.v1+cell": {
     "cellMetadata": {
      "byteLimit": 2048000,
      "rowLimit": 10000
     },
     "inputWidgets": {},
     "nuid": "abf7cea5-d272-4219-a891-6f535f85aef4",
     "showTitle": false,
     "title": ""
    }
   },
   "outputs": [
    {
     "output_type": "stream",
     "name": "stdout",
     "output_type": "stream",
     "text": [
      "Out[8]: 56.52"
     ]
    }
   ],
   "source": [
    "# Median: Computes the median of values.\n",
    "df['sales'].median()"
   ]
  },
  {
   "cell_type": "code",
   "execution_count": 0,
   "metadata": {
    "application/vnd.databricks.v1+cell": {
     "cellMetadata": {
      "byteLimit": 2048000,
      "rowLimit": 10000
     },
     "inputWidgets": {},
     "nuid": "f68ddf49-949a-40c4-b49b-47c037789448",
     "showTitle": false,
     "title": ""
    }
   },
   "outputs": [
    {
     "output_type": "stream",
     "name": "stdout",
     "output_type": "stream",
     "text": [
      "Out[9]: 0.444"
     ]
    }
   ],
   "source": [
    "# Min: Finds the minimum value\n",
    "df['sales'].min()"
   ]
  },
  {
   "cell_type": "code",
   "execution_count": 0,
   "metadata": {
    "application/vnd.databricks.v1+cell": {
     "cellMetadata": {
      "byteLimit": 2048000,
      "rowLimit": 10000
     },
     "inputWidgets": {},
     "nuid": "3d13fb6f-f860-48ec-9224-a0e8ab7cf555",
     "showTitle": false,
     "title": ""
    }
   },
   "outputs": [
    {
     "output_type": "stream",
     "name": "stdout",
     "output_type": "stream",
     "text": [
      "Out[10]: 10499.97"
     ]
    }
   ],
   "source": [
    "# Max: Finds the maximum value\n",
    "df['sales'].max()"
   ]
  },
  {
   "cell_type": "code",
   "execution_count": 0,
   "metadata": {
    "application/vnd.databricks.v1+cell": {
     "cellMetadata": {
      "byteLimit": 2048000,
      "rowLimit": 10000
     },
     "inputWidgets": {},
     "nuid": "a947e6ce-bcc6-4086-8366-cd6d771225c9",
     "showTitle": false,
     "title": ""
    }
   },
   "outputs": [
    {
     "output_type": "stream",
     "name": "stdout",
     "output_type": "stream",
     "text": [
      "Out[12]: 5009"
     ]
    }
   ],
   "source": [
    "# Count: Counts the number of non-null values.\n",
    "df['sales'].count()"
   ]
  },
  {
   "cell_type": "code",
   "execution_count": 0,
   "metadata": {
    "application/vnd.databricks.v1+cell": {
     "cellMetadata": {
      "byteLimit": 2048000,
      "rowLimit": 10000
     },
     "inputWidgets": {},
     "nuid": "7252c61c-30d5-4448-ad21-f286d5953c3d",
     "showTitle": false,
     "title": ""
    }
   },
   "outputs": [
    {
     "output_type": "stream",
     "name": "stdout",
     "output_type": "stream",
     "text": [
      "Out[13]: 180636.84800000003"
     ]
    }
   ],
   "source": [
    "fc = (df['category'] == 'Technology')\n",
    "df.loc[fc ,'sales'].sum()"
   ]
  },
  {
   "cell_type": "markdown",
   "metadata": {
    "application/vnd.databricks.v1+cell": {
     "cellMetadata": {},
     "inputWidgets": {},
     "nuid": "d0b3c3c3-af58-499e-a87d-c78444dcf817",
     "showTitle": false,
     "title": ""
    }
   },
   "source": []
  },
  {
   "cell_type": "markdown",
   "metadata": {
    "application/vnd.databricks.v1+cell": {
     "cellMetadata": {},
     "inputWidgets": {},
     "nuid": "06199bbf-82c0-4aba-b373-f95c37673612",
     "showTitle": false,
     "title": ""
    }
   },
   "source": []
  },
  {
   "cell_type": "markdown",
   "metadata": {
    "application/vnd.databricks.v1+cell": {
     "cellMetadata": {},
     "inputWidgets": {},
     "nuid": "1de6266f-3196-4ca5-8e38-4b8a545c7abd",
     "showTitle": false,
     "title": ""
    }
   },
   "source": [
    "#### Grouped Aggregations\n",
    "You can also perform these operations grouped by a specific column."
   ]
  },
  {
   "cell_type": "code",
   "execution_count": 0,
   "metadata": {
    "application/vnd.databricks.v1+cell": {
     "cellMetadata": {
      "byteLimit": 2048000,
      "rowLimit": 10000
     },
     "inputWidgets": {},
     "nuid": "ae2bafe6-eb79-436b-8e8f-16f4e38b9f61",
     "showTitle": false,
     "title": ""
    }
   },
   "outputs": [
    {
     "output_type": "stream",
     "name": "stdout",
     "output_type": "stream",
     "text": [
      "Out[16]: category\nFurniture          628359.3048\nOffice Supplies    298596.7520\nTechnology         180636.8480\nName: sales, dtype: float64"
     ]
    }
   ],
   "source": [
    "df_category_sales = df.groupby('category')['sales'].sum()\n",
    "df_category_sales"
   ]
  },
  {
   "cell_type": "code",
   "execution_count": 0,
   "metadata": {
    "application/vnd.databricks.v1+cell": {
     "cellMetadata": {
      "byteLimit": 2048000,
      "rowLimit": 10000
     },
     "inputWidgets": {},
     "nuid": "a6fdb4aa-eb7c-4c1f-a0aa-71e67badb9c6",
     "showTitle": false,
     "title": ""
    }
   },
   "outputs": [
    {
     "output_type": "stream",
     "name": "stdout",
     "output_type": "stream",
     "text": [
      "Out[17]: pandas.core.series.Series"
     ]
    }
   ],
   "source": [
    "type(df_category_sales)"
   ]
  },
  {
   "cell_type": "code",
   "execution_count": 0,
   "metadata": {
    "application/vnd.databricks.v1+cell": {
     "cellMetadata": {
      "byteLimit": 2048000,
      "rowLimit": 10000
     },
     "inputWidgets": {},
     "nuid": "ca603817-03c0-4592-b08a-1c46f8c44547",
     "showTitle": false,
     "title": ""
    }
   },
   "outputs": [
    {
     "output_type": "display_data",
     "data": {
      "text/html": [
       "<div>\n",
       "<style scoped>\n",
       "    .dataframe tbody tr th:only-of-type {\n",
       "        vertical-align: middle;\n",
       "    }\n",
       "\n",
       "    .dataframe tbody tr th {\n",
       "        vertical-align: top;\n",
       "    }\n",
       "\n",
       "    .dataframe thead th {\n",
       "        text-align: right;\n",
       "    }\n",
       "</style>\n",
       "<table border=\"1\" class=\"dataframe\">\n",
       "  <thead>\n",
       "    <tr style=\"text-align: right;\">\n",
       "      <th></th>\n",
       "      <th>category</th>\n",
       "      <th>sales</th>\n",
       "    </tr>\n",
       "  </thead>\n",
       "  <tbody>\n",
       "    <tr>\n",
       "      <th>0</th>\n",
       "      <td>Furniture</td>\n",
       "      <td>628359.3048</td>\n",
       "    </tr>\n",
       "    <tr>\n",
       "      <th>1</th>\n",
       "      <td>Office Supplies</td>\n",
       "      <td>298596.7520</td>\n",
       "    </tr>\n",
       "    <tr>\n",
       "      <th>2</th>\n",
       "      <td>Technology</td>\n",
       "      <td>180636.8480</td>\n",
       "    </tr>\n",
       "  </tbody>\n",
       "</table>\n",
       "</div>"
      ]
     },
     "metadata": {
      "application/vnd.databricks.v1+output": {
       "addedWidgets": {},
       "arguments": {},
       "data": "<div>\n<style scoped>\n    .dataframe tbody tr th:only-of-type {\n        vertical-align: middle;\n    }\n\n    .dataframe tbody tr th {\n        vertical-align: top;\n    }\n\n    .dataframe thead th {\n        text-align: right;\n    }\n</style>\n<table border=\"1\" class=\"dataframe\">\n  <thead>\n    <tr style=\"text-align: right;\">\n      <th></th>\n      <th>category</th>\n      <th>sales</th>\n    </tr>\n  </thead>\n  <tbody>\n    <tr>\n      <th>0</th>\n      <td>Furniture</td>\n      <td>628359.3048</td>\n    </tr>\n    <tr>\n      <th>1</th>\n      <td>Office Supplies</td>\n      <td>298596.7520</td>\n    </tr>\n    <tr>\n      <th>2</th>\n      <td>Technology</td>\n      <td>180636.8480</td>\n    </tr>\n  </tbody>\n</table>\n</div>",
       "datasetInfos": [],
       "metadata": {},
       "removedWidgets": [],
       "textData": null,
       "type": "htmlSandbox"
      }
     },
     "output_type": "display_data"
    }
   ],
   "source": [
    "# series to dataframe\n",
    "pd.DataFrame({'category':df_category_sales.index, 'sales':df_category_sales.values})"
   ]
  },
  {
   "cell_type": "code",
   "execution_count": 0,
   "metadata": {
    "application/vnd.databricks.v1+cell": {
     "cellMetadata": {
      "byteLimit": 2048000,
      "rowLimit": 10000
     },
     "inputWidgets": {},
     "nuid": "bf600744-e5c0-403c-b2e3-6ed3e7a690a9",
     "showTitle": false,
     "title": ""
    }
   },
   "outputs": [
    {
     "output_type": "stream",
     "name": "stdout",
     "output_type": "stream",
     "text": [
      "Out[22]: category    city      \nFurniture   Akron          433.5960\n            Alexandria     204.6400\n            Allen          244.0060\n            Allentown       11.6480\n            Amarillo      3048.5828\n                            ...    \nTechnology  Wichita        224.7500\n            Wilmington     694.3560\n            Woodland       239.9840\n            Yonkers        216.4000\n            Yuma           785.5130\nName: sales, Length: 987, dtype: float64"
     ]
    }
   ],
   "source": [
    "cat_sales_df = df.groupby(['category', 'city'])['sales'].sum()\n",
    "cat_sales_df"
   ]
  },
  {
   "cell_type": "code",
   "execution_count": 0,
   "metadata": {
    "application/vnd.databricks.v1+cell": {
     "cellMetadata": {
      "byteLimit": 2048000,
      "rowLimit": 10000
     },
     "inputWidgets": {},
     "nuid": "e2384c24-d24d-49a2-aa6a-84d3cb412376",
     "showTitle": false,
     "title": ""
    }
   },
   "outputs": [
    {
     "output_type": "stream",
     "name": "stdout",
     "output_type": "stream",
     "text": [
      "Out[23]: MultiIndex([( 'Furniture',           'Akron'),\n            ( 'Furniture',      'Alexandria'),\n            ( 'Furniture',           'Allen'),\n            ( 'Furniture',       'Allentown'),\n            ( 'Furniture',        'Amarillo'),\n            ( 'Furniture',         'Anaheim'),\n            ( 'Furniture',         'Andover'),\n            ( 'Furniture',          'Apopka'),\n            ( 'Furniture',    'Apple Valley'),\n            ( 'Furniture',       'Arlington'),\n            ...\n            ('Technology',         'Visalia'),\n            ('Technology',         'Warwick'),\n            ('Technology', 'West Palm Beach'),\n            ('Technology',     'Westminster'),\n            ('Technology',        'Whittier'),\n            ('Technology',         'Wichita'),\n            ('Technology',      'Wilmington'),\n            ('Technology',        'Woodland'),\n            ('Technology',         'Yonkers'),\n            ('Technology',            'Yuma')],\n           names=['category', 'city'], length=987)"
     ]
    }
   ],
   "source": [
    "# here we have MultiIndex and each index is a tuple\n",
    "cat_sales_df.index"
   ]
  },
  {
   "cell_type": "markdown",
   "metadata": {
    "application/vnd.databricks.v1+cell": {
     "cellMetadata": {},
     "inputWidgets": {},
     "nuid": "b62ae37a-5785-4490-94a9-77425bd48264",
     "showTitle": false,
     "title": ""
    }
   },
   "source": []
  },
  {
   "cell_type": "markdown",
   "metadata": {
    "application/vnd.databricks.v1+cell": {
     "cellMetadata": {},
     "inputWidgets": {},
     "nuid": "142a833f-4788-4214-a500-a605ffc27836",
     "showTitle": false,
     "title": ""
    }
   },
   "source": []
  },
  {
   "cell_type": "markdown",
   "metadata": {
    "application/vnd.databricks.v1+cell": {
     "cellMetadata": {},
     "inputWidgets": {},
     "nuid": "9d5fafbc-6298-460d-a7cf-93423ccb6505",
     "showTitle": false,
     "title": ""
    }
   },
   "source": [
    "#### Multiple Aggregations\n",
    "You can apply multiple aggregations at once using the `agg` function."
   ]
  },
  {
   "cell_type": "code",
   "execution_count": 0,
   "metadata": {
    "application/vnd.databricks.v1+cell": {
     "cellMetadata": {
      "byteLimit": 2048000,
      "rowLimit": 10000
     },
     "inputWidgets": {},
     "nuid": "40644a95-327d-429b-b810-3372806b46fc",
     "showTitle": false,
     "title": ""
    }
   },
   "outputs": [
    {
     "output_type": "stream",
     "name": "stdout",
     "output_type": "stream",
     "text": [
      "Out[25]: sum     1.107593e+06\nmin     4.440000e-01\nmax     1.049997e+04\nmean    2.211206e+02\nName: sales, dtype: float64"
     ]
    }
   ],
   "source": [
    "df['sales'].agg(['sum', 'min', 'max', 'mean'])"
   ]
  },
  {
   "cell_type": "code",
   "execution_count": 0,
   "metadata": {
    "application/vnd.databricks.v1+cell": {
     "cellMetadata": {
      "byteLimit": 2048000,
      "rowLimit": 10000
     },
     "inputWidgets": {},
     "nuid": "73e57762-0a37-404b-acb0-7944a2396f09",
     "showTitle": false,
     "title": ""
    }
   },
   "outputs": [
    {
     "output_type": "display_data",
     "data": {
      "text/html": [
       "<div>\n",
       "<style scoped>\n",
       "    .dataframe tbody tr th:only-of-type {\n",
       "        vertical-align: middle;\n",
       "    }\n",
       "\n",
       "    .dataframe tbody tr th {\n",
       "        vertical-align: top;\n",
       "    }\n",
       "\n",
       "    .dataframe thead th {\n",
       "        text-align: right;\n",
       "    }\n",
       "</style>\n",
       "<table border=\"1\" class=\"dataframe\">\n",
       "  <thead>\n",
       "    <tr style=\"text-align: right;\">\n",
       "      <th></th>\n",
       "      <th>sum</th>\n",
       "      <th>min</th>\n",
       "      <th>max</th>\n",
       "    </tr>\n",
       "    <tr>\n",
       "      <th>category</th>\n",
       "      <th></th>\n",
       "      <th></th>\n",
       "      <th></th>\n",
       "    </tr>\n",
       "  </thead>\n",
       "  <tbody>\n",
       "    <tr>\n",
       "      <th>Furniture</th>\n",
       "      <td>628359.3048</td>\n",
       "      <td>1.892</td>\n",
       "      <td>4416.174</td>\n",
       "    </tr>\n",
       "    <tr>\n",
       "      <th>Office Supplies</th>\n",
       "      <td>298596.7520</td>\n",
       "      <td>0.444</td>\n",
       "      <td>9892.740</td>\n",
       "    </tr>\n",
       "    <tr>\n",
       "      <th>Technology</th>\n",
       "      <td>180636.8480</td>\n",
       "      <td>4.950</td>\n",
       "      <td>10499.970</td>\n",
       "    </tr>\n",
       "  </tbody>\n",
       "</table>\n",
       "</div>"
      ]
     },
     "metadata": {
      "application/vnd.databricks.v1+output": {
       "addedWidgets": {},
       "arguments": {},
       "data": "<div>\n<style scoped>\n    .dataframe tbody tr th:only-of-type {\n        vertical-align: middle;\n    }\n\n    .dataframe tbody tr th {\n        vertical-align: top;\n    }\n\n    .dataframe thead th {\n        text-align: right;\n    }\n</style>\n<table border=\"1\" class=\"dataframe\">\n  <thead>\n    <tr style=\"text-align: right;\">\n      <th></th>\n      <th>sum</th>\n      <th>min</th>\n      <th>max</th>\n    </tr>\n    <tr>\n      <th>category</th>\n      <th></th>\n      <th></th>\n      <th></th>\n    </tr>\n  </thead>\n  <tbody>\n    <tr>\n      <th>Furniture</th>\n      <td>628359.3048</td>\n      <td>1.892</td>\n      <td>4416.174</td>\n    </tr>\n    <tr>\n      <th>Office Supplies</th>\n      <td>298596.7520</td>\n      <td>0.444</td>\n      <td>9892.740</td>\n    </tr>\n    <tr>\n      <th>Technology</th>\n      <td>180636.8480</td>\n      <td>4.950</td>\n      <td>10499.970</td>\n    </tr>\n  </tbody>\n</table>\n</div>",
       "datasetInfos": [],
       "metadata": {},
       "removedWidgets": [],
       "textData": null,
       "type": "htmlSandbox"
      }
     },
     "output_type": "display_data"
    }
   ],
   "source": [
    "# For grouped data:\n",
    "df.groupby('category')['sales'].agg(['sum', 'min', 'max'])"
   ]
  },
  {
   "cell_type": "code",
   "execution_count": 0,
   "metadata": {
    "application/vnd.databricks.v1+cell": {
     "cellMetadata": {
      "byteLimit": 2048000,
      "rowLimit": 10000
     },
     "inputWidgets": {},
     "nuid": "4dfb6709-7404-452e-804b-a921a0193241",
     "showTitle": false,
     "title": ""
    }
   },
   "outputs": [
    {
     "output_type": "display_data",
     "data": {
      "text/html": [
       "<div>\n",
       "<style scoped>\n",
       "    .dataframe tbody tr th:only-of-type {\n",
       "        vertical-align: middle;\n",
       "    }\n",
       "\n",
       "    .dataframe tbody tr th {\n",
       "        vertical-align: top;\n",
       "    }\n",
       "\n",
       "    .dataframe thead th {\n",
       "        text-align: right;\n",
       "    }\n",
       "</style>\n",
       "<table border=\"1\" class=\"dataframe\">\n",
       "  <thead>\n",
       "    <tr style=\"text-align: right;\">\n",
       "      <th></th>\n",
       "      <th></th>\n",
       "      <th>sum</th>\n",
       "      <th>min</th>\n",
       "      <th>max</th>\n",
       "    </tr>\n",
       "    <tr>\n",
       "      <th>category</th>\n",
       "      <th>city</th>\n",
       "      <th></th>\n",
       "      <th></th>\n",
       "      <th></th>\n",
       "    </tr>\n",
       "  </thead>\n",
       "  <tbody>\n",
       "    <tr>\n",
       "      <th rowspan=\"5\" valign=\"top\">Furniture</th>\n",
       "      <th>Akron</th>\n",
       "      <td>433.5960</td>\n",
       "      <td>149.232</td>\n",
       "      <td>284.364</td>\n",
       "    </tr>\n",
       "    <tr>\n",
       "      <th>Alexandria</th>\n",
       "      <td>204.6400</td>\n",
       "      <td>12.420</td>\n",
       "      <td>192.220</td>\n",
       "    </tr>\n",
       "    <tr>\n",
       "      <th>Allen</th>\n",
       "      <td>244.0060</td>\n",
       "      <td>244.006</td>\n",
       "      <td>244.006</td>\n",
       "    </tr>\n",
       "    <tr>\n",
       "      <th>Allentown</th>\n",
       "      <td>11.6480</td>\n",
       "      <td>11.648</td>\n",
       "      <td>11.648</td>\n",
       "    </tr>\n",
       "    <tr>\n",
       "      <th>Amarillo</th>\n",
       "      <td>3048.5828</td>\n",
       "      <td>23.076</td>\n",
       "      <td>2453.430</td>\n",
       "    </tr>\n",
       "    <tr>\n",
       "      <th>...</th>\n",
       "      <th>...</th>\n",
       "      <td>...</td>\n",
       "      <td>...</td>\n",
       "      <td>...</td>\n",
       "    </tr>\n",
       "    <tr>\n",
       "      <th rowspan=\"5\" valign=\"top\">Technology</th>\n",
       "      <th>Wichita</th>\n",
       "      <td>224.7500</td>\n",
       "      <td>224.750</td>\n",
       "      <td>224.750</td>\n",
       "    </tr>\n",
       "    <tr>\n",
       "      <th>Wilmington</th>\n",
       "      <td>694.3560</td>\n",
       "      <td>302.376</td>\n",
       "      <td>391.980</td>\n",
       "    </tr>\n",
       "    <tr>\n",
       "      <th>Woodland</th>\n",
       "      <td>239.9840</td>\n",
       "      <td>239.984</td>\n",
       "      <td>239.984</td>\n",
       "    </tr>\n",
       "    <tr>\n",
       "      <th>Yonkers</th>\n",
       "      <td>216.4000</td>\n",
       "      <td>52.440</td>\n",
       "      <td>163.960</td>\n",
       "    </tr>\n",
       "    <tr>\n",
       "      <th>Yuma</th>\n",
       "      <td>785.5130</td>\n",
       "      <td>185.528</td>\n",
       "      <td>599.985</td>\n",
       "    </tr>\n",
       "  </tbody>\n",
       "</table>\n",
       "<p>987 rows × 3 columns</p>\n",
       "</div>"
      ]
     },
     "metadata": {
      "application/vnd.databricks.v1+output": {
       "addedWidgets": {},
       "arguments": {},
       "data": "<div>\n<style scoped>\n    .dataframe tbody tr th:only-of-type {\n        vertical-align: middle;\n    }\n\n    .dataframe tbody tr th {\n        vertical-align: top;\n    }\n\n    .dataframe thead th {\n        text-align: right;\n    }\n</style>\n<table border=\"1\" class=\"dataframe\">\n  <thead>\n    <tr style=\"text-align: right;\">\n      <th></th>\n      <th></th>\n      <th>sum</th>\n      <th>min</th>\n      <th>max</th>\n    </tr>\n    <tr>\n      <th>category</th>\n      <th>city</th>\n      <th></th>\n      <th></th>\n      <th></th>\n    </tr>\n  </thead>\n  <tbody>\n    <tr>\n      <th rowspan=\"5\" valign=\"top\">Furniture</th>\n      <th>Akron</th>\n      <td>433.5960</td>\n      <td>149.232</td>\n      <td>284.364</td>\n    </tr>\n    <tr>\n      <th>Alexandria</th>\n      <td>204.6400</td>\n      <td>12.420</td>\n      <td>192.220</td>\n    </tr>\n    <tr>\n      <th>Allen</th>\n      <td>244.0060</td>\n      <td>244.006</td>\n      <td>244.006</td>\n    </tr>\n    <tr>\n      <th>Allentown</th>\n      <td>11.6480</td>\n      <td>11.648</td>\n      <td>11.648</td>\n    </tr>\n    <tr>\n      <th>Amarillo</th>\n      <td>3048.5828</td>\n      <td>23.076</td>\n      <td>2453.430</td>\n    </tr>\n    <tr>\n      <th>...</th>\n      <th>...</th>\n      <td>...</td>\n      <td>...</td>\n      <td>...</td>\n    </tr>\n    <tr>\n      <th rowspan=\"5\" valign=\"top\">Technology</th>\n      <th>Wichita</th>\n      <td>224.7500</td>\n      <td>224.750</td>\n      <td>224.750</td>\n    </tr>\n    <tr>\n      <th>Wilmington</th>\n      <td>694.3560</td>\n      <td>302.376</td>\n      <td>391.980</td>\n    </tr>\n    <tr>\n      <th>Woodland</th>\n      <td>239.9840</td>\n      <td>239.984</td>\n      <td>239.984</td>\n    </tr>\n    <tr>\n      <th>Yonkers</th>\n      <td>216.4000</td>\n      <td>52.440</td>\n      <td>163.960</td>\n    </tr>\n    <tr>\n      <th>Yuma</th>\n      <td>785.5130</td>\n      <td>185.528</td>\n      <td>599.985</td>\n    </tr>\n  </tbody>\n</table>\n<p>987 rows × 3 columns</p>\n</div>",
       "datasetInfos": [],
       "metadata": {},
       "removedWidgets": [],
       "textData": null,
       "type": "htmlSandbox"
      }
     },
     "output_type": "display_data"
    }
   ],
   "source": [
    "df.groupby(['category', 'city'])['sales'].agg(['sum', 'min', 'max'])"
   ]
  },
  {
   "cell_type": "markdown",
   "metadata": {
    "application/vnd.databricks.v1+cell": {
     "cellMetadata": {},
     "inputWidgets": {},
     "nuid": "175d95bf-b305-4f66-9a8c-c2f64dadd220",
     "showTitle": false,
     "title": ""
    }
   },
   "source": []
  },
  {
   "cell_type": "markdown",
   "metadata": {
    "application/vnd.databricks.v1+cell": {
     "cellMetadata": {},
     "inputWidgets": {},
     "nuid": "4dd4be39-07ff-4ee3-b00e-2f5adfc083cc",
     "showTitle": false,
     "title": ""
    }
   },
   "source": []
  },
  {
   "cell_type": "markdown",
   "metadata": {
    "application/vnd.databricks.v1+cell": {
     "cellMetadata": {},
     "inputWidgets": {},
     "nuid": "300f195b-d059-429e-aae2-13909cc875a3",
     "showTitle": false,
     "title": ""
    }
   },
   "source": [
    "#### Aggregating Multiple Columns\n",
    "You can also aggregate multiple columns with different functions."
   ]
  },
  {
   "cell_type": "code",
   "execution_count": 0,
   "metadata": {
    "application/vnd.databricks.v1+cell": {
     "cellMetadata": {
      "byteLimit": 2048000,
      "rowLimit": 10000
     },
     "inputWidgets": {},
     "nuid": "6a521e2e-dd02-4d68-9800-c40b08b45af7",
     "showTitle": false,
     "title": ""
    }
   },
   "outputs": [],
   "source": [
    "#syntax\n",
    "# df.agg({\n",
    "#     'column_1': 'sum',\n",
    "#     'column_2': ['mean', 'min'],\n",
    "#     'column_3': 'count'\n",
    "# })"
   ]
  },
  {
   "cell_type": "code",
   "execution_count": 0,
   "metadata": {
    "application/vnd.databricks.v1+cell": {
     "cellMetadata": {
      "byteLimit": 2048000,
      "rowLimit": 10000
     },
     "inputWidgets": {},
     "nuid": "f4b5f49f-262f-4b6d-b73c-ef5aefad06b0",
     "showTitle": false,
     "title": ""
    }
   },
   "outputs": [
    {
     "output_type": "display_data",
     "data": {
      "text/html": [
       "<div>\n",
       "<style scoped>\n",
       "    .dataframe tbody tr th:only-of-type {\n",
       "        vertical-align: middle;\n",
       "    }\n",
       "\n",
       "    .dataframe tbody tr th {\n",
       "        vertical-align: top;\n",
       "    }\n",
       "\n",
       "    .dataframe thead th {\n",
       "        text-align: right;\n",
       "    }\n",
       "</style>\n",
       "<table border=\"1\" class=\"dataframe\">\n",
       "  <thead>\n",
       "    <tr style=\"text-align: right;\">\n",
       "      <th></th>\n",
       "      <th>sales</th>\n",
       "      <th>profit</th>\n",
       "    </tr>\n",
       "  </thead>\n",
       "  <tbody>\n",
       "    <tr>\n",
       "      <th>sum</th>\n",
       "      <td>1.107593e+06</td>\n",
       "      <td>NaN</td>\n",
       "    </tr>\n",
       "    <tr>\n",
       "      <th>count</th>\n",
       "      <td>5.009000e+03</td>\n",
       "      <td>NaN</td>\n",
       "    </tr>\n",
       "    <tr>\n",
       "      <th>mean</th>\n",
       "      <td>NaN</td>\n",
       "      <td>21.032394</td>\n",
       "    </tr>\n",
       "    <tr>\n",
       "      <th>min</th>\n",
       "      <td>NaN</td>\n",
       "      <td>-2929.484500</td>\n",
       "    </tr>\n",
       "  </tbody>\n",
       "</table>\n",
       "</div>"
      ]
     },
     "metadata": {
      "application/vnd.databricks.v1+output": {
       "addedWidgets": {},
       "arguments": {},
       "data": "<div>\n<style scoped>\n    .dataframe tbody tr th:only-of-type {\n        vertical-align: middle;\n    }\n\n    .dataframe tbody tr th {\n        vertical-align: top;\n    }\n\n    .dataframe thead th {\n        text-align: right;\n    }\n</style>\n<table border=\"1\" class=\"dataframe\">\n  <thead>\n    <tr style=\"text-align: right;\">\n      <th></th>\n      <th>sales</th>\n      <th>profit</th>\n    </tr>\n  </thead>\n  <tbody>\n    <tr>\n      <th>sum</th>\n      <td>1.107593e+06</td>\n      <td>NaN</td>\n    </tr>\n    <tr>\n      <th>count</th>\n      <td>5.009000e+03</td>\n      <td>NaN</td>\n    </tr>\n    <tr>\n      <th>mean</th>\n      <td>NaN</td>\n      <td>21.032394</td>\n    </tr>\n    <tr>\n      <th>min</th>\n      <td>NaN</td>\n      <td>-2929.484500</td>\n    </tr>\n  </tbody>\n</table>\n</div>",
       "datasetInfos": [],
       "metadata": {},
       "removedWidgets": [],
       "textData": null,
       "type": "htmlSandbox"
      }
     },
     "output_type": "display_data"
    }
   ],
   "source": [
    "df.agg({\n",
    "    'sales': ['sum','count'],\n",
    "    'profit': ['mean', 'min']\n",
    "})"
   ]
  },
  {
   "cell_type": "code",
   "execution_count": 0,
   "metadata": {
    "application/vnd.databricks.v1+cell": {
     "cellMetadata": {
      "byteLimit": 2048000,
      "rowLimit": 10000
     },
     "inputWidgets": {},
     "nuid": "2a40cee3-4d4a-4b3c-9793-f1f951457df4",
     "showTitle": false,
     "title": ""
    }
   },
   "outputs": [
    {
     "output_type": "display_data",
     "data": {
      "text/html": [
       "<div>\n",
       "<style scoped>\n",
       "    .dataframe tbody tr th:only-of-type {\n",
       "        vertical-align: middle;\n",
       "    }\n",
       "\n",
       "    .dataframe tbody tr th {\n",
       "        vertical-align: top;\n",
       "    }\n",
       "\n",
       "    .dataframe thead th {\n",
       "        text-align: right;\n",
       "    }\n",
       "</style>\n",
       "<table border=\"1\" class=\"dataframe\">\n",
       "  <thead>\n",
       "    <tr style=\"text-align: right;\">\n",
       "      <th></th>\n",
       "      <th>sales</th>\n",
       "      <th>profit</th>\n",
       "    </tr>\n",
       "    <tr>\n",
       "      <th>category</th>\n",
       "      <th></th>\n",
       "      <th></th>\n",
       "    </tr>\n",
       "  </thead>\n",
       "  <tbody>\n",
       "    <tr>\n",
       "      <th>Furniture</th>\n",
       "      <td>628359.3048</td>\n",
       "      <td>1013.1270</td>\n",
       "    </tr>\n",
       "    <tr>\n",
       "      <th>Office Supplies</th>\n",
       "      <td>298596.7520</td>\n",
       "      <td>4946.3700</td>\n",
       "    </tr>\n",
       "    <tr>\n",
       "      <th>Technology</th>\n",
       "      <td>180636.8480</td>\n",
       "      <td>5039.9856</td>\n",
       "    </tr>\n",
       "  </tbody>\n",
       "</table>\n",
       "</div>"
      ]
     },
     "metadata": {
      "application/vnd.databricks.v1+output": {
       "addedWidgets": {},
       "arguments": {},
       "data": "<div>\n<style scoped>\n    .dataframe tbody tr th:only-of-type {\n        vertical-align: middle;\n    }\n\n    .dataframe tbody tr th {\n        vertical-align: top;\n    }\n\n    .dataframe thead th {\n        text-align: right;\n    }\n</style>\n<table border=\"1\" class=\"dataframe\">\n  <thead>\n    <tr style=\"text-align: right;\">\n      <th></th>\n      <th>sales</th>\n      <th>profit</th>\n    </tr>\n    <tr>\n      <th>category</th>\n      <th></th>\n      <th></th>\n    </tr>\n  </thead>\n  <tbody>\n    <tr>\n      <th>Furniture</th>\n      <td>628359.3048</td>\n      <td>1013.1270</td>\n    </tr>\n    <tr>\n      <th>Office Supplies</th>\n      <td>298596.7520</td>\n      <td>4946.3700</td>\n    </tr>\n    <tr>\n      <th>Technology</th>\n      <td>180636.8480</td>\n      <td>5039.9856</td>\n    </tr>\n  </tbody>\n</table>\n</div>",
       "datasetInfos": [],
       "metadata": {},
       "removedWidgets": [],
       "textData": null,
       "type": "htmlSandbox"
      }
     },
     "output_type": "display_data"
    }
   ],
   "source": [
    "# here the groupby column will be treated as index in the result set by default\n",
    "df.groupby('category').agg({'sales':'sum', 'profit':'max'})"
   ]
  },
  {
   "cell_type": "code",
   "execution_count": 0,
   "metadata": {
    "application/vnd.databricks.v1+cell": {
     "cellMetadata": {
      "byteLimit": 2048000,
      "rowLimit": 10000
     },
     "inputWidgets": {},
     "nuid": "b5a6a59e-0556-44ed-950a-a1ec7cae5bc9",
     "showTitle": false,
     "title": ""
    }
   },
   "outputs": [
    {
     "output_type": "display_data",
     "data": {
      "text/html": [
       "<div>\n",
       "<style scoped>\n",
       "    .dataframe tbody tr th:only-of-type {\n",
       "        vertical-align: middle;\n",
       "    }\n",
       "\n",
       "    .dataframe tbody tr th {\n",
       "        vertical-align: top;\n",
       "    }\n",
       "\n",
       "    .dataframe thead th {\n",
       "        text-align: right;\n",
       "    }\n",
       "</style>\n",
       "<table border=\"1\" class=\"dataframe\">\n",
       "  <thead>\n",
       "    <tr style=\"text-align: right;\">\n",
       "      <th></th>\n",
       "      <th>category</th>\n",
       "      <th>sales</th>\n",
       "      <th>profit</th>\n",
       "    </tr>\n",
       "  </thead>\n",
       "  <tbody>\n",
       "    <tr>\n",
       "      <th>0</th>\n",
       "      <td>Furniture</td>\n",
       "      <td>628359.3048</td>\n",
       "      <td>1013.1270</td>\n",
       "    </tr>\n",
       "    <tr>\n",
       "      <th>1</th>\n",
       "      <td>Office Supplies</td>\n",
       "      <td>298596.7520</td>\n",
       "      <td>4946.3700</td>\n",
       "    </tr>\n",
       "    <tr>\n",
       "      <th>2</th>\n",
       "      <td>Technology</td>\n",
       "      <td>180636.8480</td>\n",
       "      <td>5039.9856</td>\n",
       "    </tr>\n",
       "  </tbody>\n",
       "</table>\n",
       "</div>"
      ]
     },
     "metadata": {
      "application/vnd.databricks.v1+output": {
       "addedWidgets": {},
       "arguments": {},
       "data": "<div>\n<style scoped>\n    .dataframe tbody tr th:only-of-type {\n        vertical-align: middle;\n    }\n\n    .dataframe tbody tr th {\n        vertical-align: top;\n    }\n\n    .dataframe thead th {\n        text-align: right;\n    }\n</style>\n<table border=\"1\" class=\"dataframe\">\n  <thead>\n    <tr style=\"text-align: right;\">\n      <th></th>\n      <th>category</th>\n      <th>sales</th>\n      <th>profit</th>\n    </tr>\n  </thead>\n  <tbody>\n    <tr>\n      <th>0</th>\n      <td>Furniture</td>\n      <td>628359.3048</td>\n      <td>1013.1270</td>\n    </tr>\n    <tr>\n      <th>1</th>\n      <td>Office Supplies</td>\n      <td>298596.7520</td>\n      <td>4946.3700</td>\n    </tr>\n    <tr>\n      <th>2</th>\n      <td>Technology</td>\n      <td>180636.8480</td>\n      <td>5039.9856</td>\n    </tr>\n  </tbody>\n</table>\n</div>",
       "datasetInfos": [],
       "metadata": {},
       "removedWidgets": [],
       "textData": null,
       "type": "htmlSandbox"
      }
     },
     "output_type": "display_data"
    }
   ],
   "source": [
    "# Here, group by column is not an index by default \n",
    "df.groupby('category', as_index=False).agg({'sales':'sum', 'profit':'max'})"
   ]
  },
  {
   "cell_type": "code",
   "execution_count": 0,
   "metadata": {
    "application/vnd.databricks.v1+cell": {
     "cellMetadata": {
      "byteLimit": 2048000,
      "rowLimit": 10000
     },
     "inputWidgets": {},
     "nuid": "29b9d9e9-f9a5-4265-9449-82aef68a3a0b",
     "showTitle": false,
     "title": ""
    }
   },
   "outputs": [
    {
     "output_type": "display_data",
     "data": {
      "text/html": [
       "<div>\n",
       "<style scoped>\n",
       "    .dataframe tbody tr th:only-of-type {\n",
       "        vertical-align: middle;\n",
       "    }\n",
       "\n",
       "    .dataframe tbody tr th {\n",
       "        vertical-align: top;\n",
       "    }\n",
       "\n",
       "    .dataframe thead th {\n",
       "        text-align: right;\n",
       "    }\n",
       "</style>\n",
       "<table border=\"1\" class=\"dataframe\">\n",
       "  <thead>\n",
       "    <tr style=\"text-align: right;\">\n",
       "      <th></th>\n",
       "      <th>category</th>\n",
       "      <th>city</th>\n",
       "      <th>sales</th>\n",
       "    </tr>\n",
       "  </thead>\n",
       "  <tbody>\n",
       "    <tr>\n",
       "      <th>0</th>\n",
       "      <td>Furniture</td>\n",
       "      <td>Akron</td>\n",
       "      <td>433.5960</td>\n",
       "    </tr>\n",
       "    <tr>\n",
       "      <th>1</th>\n",
       "      <td>Furniture</td>\n",
       "      <td>Alexandria</td>\n",
       "      <td>204.6400</td>\n",
       "    </tr>\n",
       "    <tr>\n",
       "      <th>2</th>\n",
       "      <td>Furniture</td>\n",
       "      <td>Allen</td>\n",
       "      <td>244.0060</td>\n",
       "    </tr>\n",
       "    <tr>\n",
       "      <th>3</th>\n",
       "      <td>Furniture</td>\n",
       "      <td>Allentown</td>\n",
       "      <td>11.6480</td>\n",
       "    </tr>\n",
       "    <tr>\n",
       "      <th>4</th>\n",
       "      <td>Furniture</td>\n",
       "      <td>Amarillo</td>\n",
       "      <td>3048.5828</td>\n",
       "    </tr>\n",
       "    <tr>\n",
       "      <th>...</th>\n",
       "      <td>...</td>\n",
       "      <td>...</td>\n",
       "      <td>...</td>\n",
       "    </tr>\n",
       "    <tr>\n",
       "      <th>982</th>\n",
       "      <td>Technology</td>\n",
       "      <td>Wichita</td>\n",
       "      <td>224.7500</td>\n",
       "    </tr>\n",
       "    <tr>\n",
       "      <th>983</th>\n",
       "      <td>Technology</td>\n",
       "      <td>Wilmington</td>\n",
       "      <td>694.3560</td>\n",
       "    </tr>\n",
       "    <tr>\n",
       "      <th>984</th>\n",
       "      <td>Technology</td>\n",
       "      <td>Woodland</td>\n",
       "      <td>239.9840</td>\n",
       "    </tr>\n",
       "    <tr>\n",
       "      <th>985</th>\n",
       "      <td>Technology</td>\n",
       "      <td>Yonkers</td>\n",
       "      <td>216.4000</td>\n",
       "    </tr>\n",
       "    <tr>\n",
       "      <th>986</th>\n",
       "      <td>Technology</td>\n",
       "      <td>Yuma</td>\n",
       "      <td>785.5130</td>\n",
       "    </tr>\n",
       "  </tbody>\n",
       "</table>\n",
       "<p>987 rows × 3 columns</p>\n",
       "</div>"
      ]
     },
     "metadata": {
      "application/vnd.databricks.v1+output": {
       "addedWidgets": {},
       "arguments": {},
       "data": "<div>\n<style scoped>\n    .dataframe tbody tr th:only-of-type {\n        vertical-align: middle;\n    }\n\n    .dataframe tbody tr th {\n        vertical-align: top;\n    }\n\n    .dataframe thead th {\n        text-align: right;\n    }\n</style>\n<table border=\"1\" class=\"dataframe\">\n  <thead>\n    <tr style=\"text-align: right;\">\n      <th></th>\n      <th>category</th>\n      <th>city</th>\n      <th>sales</th>\n    </tr>\n  </thead>\n  <tbody>\n    <tr>\n      <th>0</th>\n      <td>Furniture</td>\n      <td>Akron</td>\n      <td>433.5960</td>\n    </tr>\n    <tr>\n      <th>1</th>\n      <td>Furniture</td>\n      <td>Alexandria</td>\n      <td>204.6400</td>\n    </tr>\n    <tr>\n      <th>2</th>\n      <td>Furniture</td>\n      <td>Allen</td>\n      <td>244.0060</td>\n    </tr>\n    <tr>\n      <th>3</th>\n      <td>Furniture</td>\n      <td>Allentown</td>\n      <td>11.6480</td>\n    </tr>\n    <tr>\n      <th>4</th>\n      <td>Furniture</td>\n      <td>Amarillo</td>\n      <td>3048.5828</td>\n    </tr>\n    <tr>\n      <th>...</th>\n      <td>...</td>\n      <td>...</td>\n      <td>...</td>\n    </tr>\n    <tr>\n      <th>982</th>\n      <td>Technology</td>\n      <td>Wichita</td>\n      <td>224.7500</td>\n    </tr>\n    <tr>\n      <th>983</th>\n      <td>Technology</td>\n      <td>Wilmington</td>\n      <td>694.3560</td>\n    </tr>\n    <tr>\n      <th>984</th>\n      <td>Technology</td>\n      <td>Woodland</td>\n      <td>239.9840</td>\n    </tr>\n    <tr>\n      <th>985</th>\n      <td>Technology</td>\n      <td>Yonkers</td>\n      <td>216.4000</td>\n    </tr>\n    <tr>\n      <th>986</th>\n      <td>Technology</td>\n      <td>Yuma</td>\n      <td>785.5130</td>\n    </tr>\n  </tbody>\n</table>\n<p>987 rows × 3 columns</p>\n</div>",
       "datasetInfos": [],
       "metadata": {},
       "removedWidgets": [],
       "textData": null,
       "type": "htmlSandbox"
      }
     },
     "output_type": "display_data"
    }
   ],
   "source": [
    "df.groupby(['category','city'], as_index=False).agg({'sales':'sum'})"
   ]
  },
  {
   "cell_type": "markdown",
   "metadata": {
    "application/vnd.databricks.v1+cell": {
     "cellMetadata": {},
     "inputWidgets": {},
     "nuid": "f87a990f-343f-41ee-b2b2-fb2e5e01477a",
     "showTitle": false,
     "title": ""
    }
   },
   "source": []
  },
  {
   "cell_type": "markdown",
   "metadata": {
    "application/vnd.databricks.v1+cell": {
     "cellMetadata": {},
     "inputWidgets": {},
     "nuid": "28b72353-84f0-486a-b800-9267946d6665",
     "showTitle": false,
     "title": ""
    }
   },
   "source": []
  },
  {
   "cell_type": "markdown",
   "metadata": {
    "application/vnd.databricks.v1+cell": {
     "cellMetadata": {},
     "inputWidgets": {},
     "nuid": "719eae46-2f9b-4e8a-8dec-1f86ecb532bf",
     "showTitle": false,
     "title": ""
    }
   },
   "source": [
    "### Merge/Join Operation in Pandas\n",
    "In Pandas, you can combine data from different DataFrames using merges or joins, which are similar to SQL joins."
   ]
  },
  {
   "cell_type": "markdown",
   "metadata": {
    "application/vnd.databricks.v1+cell": {
     "cellMetadata": {},
     "inputWidgets": {},
     "nuid": "828f38e2-6e3e-4f33-8ed6-2ed2c991b27b",
     "showTitle": false,
     "title": ""
    }
   },
   "source": []
  },
  {
   "cell_type": "markdown",
   "metadata": {
    "application/vnd.databricks.v1+cell": {
     "cellMetadata": {},
     "inputWidgets": {},
     "nuid": "09ecd0dd-d66e-424e-a4bc-3e68ae7b5188",
     "showTitle": false,
     "title": ""
    }
   },
   "source": [
    "**Types of Joins in Pandas:**\n",
    "- `Inner Join`: Returns only the rows with matching keys in both DataFrames.\n",
    "- `Left Join`: Returns all rows from the left DataFrame and the matched rows from the right DataFrame. Missing values in the right DataFrame are filled with NaN.\n",
    "- `Right Join`: Returns all rows from the right DataFrame and the matched rows from the left DataFrame. Missing values in the left DataFrame are filled with NaN.\n",
    "- `Outer Join`: Returns all rows when there is a match in either the left or right DataFrame. Missing values are filled with NaN."
   ]
  },
  {
   "cell_type": "markdown",
   "metadata": {
    "application/vnd.databricks.v1+cell": {
     "cellMetadata": {},
     "inputWidgets": {},
     "nuid": "10e3cb8c-56b1-4d01-aa6b-b38d9b938dcc",
     "showTitle": false,
     "title": ""
    }
   },
   "source": []
  },
  {
   "cell_type": "markdown",
   "metadata": {
    "application/vnd.databricks.v1+cell": {
     "cellMetadata": {},
     "inputWidgets": {},
     "nuid": "ae4d959f-4361-456f-b953-31469365179d",
     "showTitle": false,
     "title": ""
    }
   },
   "source": [
    "**Basic Syntax**\n",
    "- The `merge()` function is used to perform these joins.\n",
    "\n",
    "**`pd.merge(left, right, how='type_of_join', on='column_name')`**\n"
   ]
  },
  {
   "cell_type": "markdown",
   "metadata": {
    "application/vnd.databricks.v1+cell": {
     "cellMetadata": {},
     "inputWidgets": {},
     "nuid": "7671070a-b460-4896-8d5c-923ce3485d07",
     "showTitle": false,
     "title": ""
    }
   },
   "source": []
  },
  {
   "cell_type": "code",
   "execution_count": 0,
   "metadata": {
    "application/vnd.databricks.v1+cell": {
     "cellMetadata": {
      "byteLimit": 2048000,
      "rowLimit": 10000
     },
     "inputWidgets": {},
     "nuid": "a72c117f-17f4-4abb-b39d-8da3110b434e",
     "showTitle": false,
     "title": ""
    }
   },
   "outputs": [
    {
     "output_type": "display_data",
     "data": {
      "text/html": [
       "<div>\n",
       "<style scoped>\n",
       "    .dataframe tbody tr th:only-of-type {\n",
       "        vertical-align: middle;\n",
       "    }\n",
       "\n",
       "    .dataframe tbody tr th {\n",
       "        vertical-align: top;\n",
       "    }\n",
       "\n",
       "    .dataframe thead th {\n",
       "        text-align: right;\n",
       "    }\n",
       "</style>\n",
       "<table border=\"1\" class=\"dataframe\">\n",
       "  <thead>\n",
       "    <tr style=\"text-align: right;\">\n",
       "      <th></th>\n",
       "      <th>order_id</th>\n",
       "      <th>order_date</th>\n",
       "      <th>customer_name</th>\n",
       "      <th>city</th>\n",
       "      <th>category</th>\n",
       "      <th>product_id</th>\n",
       "      <th>sales</th>\n",
       "      <th>profit</th>\n",
       "    </tr>\n",
       "  </thead>\n",
       "  <tbody>\n",
       "    <tr>\n",
       "      <th>0</th>\n",
       "      <td>CA-2018-100006</td>\n",
       "      <td>2018-09-07</td>\n",
       "      <td>Dennis Kane</td>\n",
       "      <td>New York City</td>\n",
       "      <td>Technology</td>\n",
       "      <td>TEC-PH-10002075</td>\n",
       "      <td>377.970</td>\n",
       "      <td>109.6113</td>\n",
       "    </tr>\n",
       "    <tr>\n",
       "      <th>1</th>\n",
       "      <td>CA-2018-100090</td>\n",
       "      <td>2018-07-08</td>\n",
       "      <td>Ed Braxton</td>\n",
       "      <td>San Francisco</td>\n",
       "      <td>Furniture</td>\n",
       "      <td>FUR-TA-10003715</td>\n",
       "      <td>502.488</td>\n",
       "      <td>-87.9354</td>\n",
       "    </tr>\n",
       "    <tr>\n",
       "      <th>2</th>\n",
       "      <td>CA-2018-100293</td>\n",
       "      <td>2018-03-14</td>\n",
       "      <td>Neil Französisch</td>\n",
       "      <td>Jacksonville</td>\n",
       "      <td>Office Supplies</td>\n",
       "      <td>OFF-PA-10000176</td>\n",
       "      <td>91.056</td>\n",
       "      <td>31.8696</td>\n",
       "    </tr>\n",
       "    <tr>\n",
       "      <th>3</th>\n",
       "      <td>CA-2018-100328</td>\n",
       "      <td>2018-01-28</td>\n",
       "      <td>Jasper Cacioppo</td>\n",
       "      <td>New York City</td>\n",
       "      <td>Office Supplies</td>\n",
       "      <td>OFF-BI-10000343</td>\n",
       "      <td>3.928</td>\n",
       "      <td>1.3257</td>\n",
       "    </tr>\n",
       "    <tr>\n",
       "      <th>4</th>\n",
       "      <td>CA-2018-100363</td>\n",
       "      <td>2018-04-08</td>\n",
       "      <td>Jim Mitchum</td>\n",
       "      <td>Glendale</td>\n",
       "      <td>Office Supplies</td>\n",
       "      <td>OFF-FA-10000611</td>\n",
       "      <td>2.368</td>\n",
       "      <td>0.8288</td>\n",
       "    </tr>\n",
       "    <tr>\n",
       "      <th>...</th>\n",
       "      <td>...</td>\n",
       "      <td>...</td>\n",
       "      <td>...</td>\n",
       "      <td>...</td>\n",
       "      <td>...</td>\n",
       "      <td>...</td>\n",
       "      <td>...</td>\n",
       "      <td>...</td>\n",
       "    </tr>\n",
       "    <tr>\n",
       "      <th>5004</th>\n",
       "      <td>US-2021-168802</td>\n",
       "      <td>2021-11-03</td>\n",
       "      <td>Jack O'Briant</td>\n",
       "      <td>Seattle</td>\n",
       "      <td>Office Supplies</td>\n",
       "      <td>OFF-BI-10002393</td>\n",
       "      <td>18.368</td>\n",
       "      <td>5.9696</td>\n",
       "    </tr>\n",
       "    <tr>\n",
       "      <th>5005</th>\n",
       "      <td>US-2021-169320</td>\n",
       "      <td>2021-07-23</td>\n",
       "      <td>Lena Hernandez</td>\n",
       "      <td>Elkhart</td>\n",
       "      <td>Office Supplies</td>\n",
       "      <td>OFF-AR-10003602</td>\n",
       "      <td>11.680</td>\n",
       "      <td>5.4896</td>\n",
       "    </tr>\n",
       "    <tr>\n",
       "      <th>5006</th>\n",
       "      <td>US-2021-169488</td>\n",
       "      <td>2021-09-07</td>\n",
       "      <td>Allen Armold</td>\n",
       "      <td>Providence</td>\n",
       "      <td>Office Supplies</td>\n",
       "      <td>OFF-PA-10000157</td>\n",
       "      <td>39.960</td>\n",
       "      <td>18.7812</td>\n",
       "    </tr>\n",
       "    <tr>\n",
       "      <th>5007</th>\n",
       "      <td>US-2021-169502</td>\n",
       "      <td>2021-08-28</td>\n",
       "      <td>Matthew Grinstein</td>\n",
       "      <td>Milwaukee</td>\n",
       "      <td>Office Supplies</td>\n",
       "      <td>OFF-AP-10001947</td>\n",
       "      <td>91.600</td>\n",
       "      <td>26.5640</td>\n",
       "    </tr>\n",
       "    <tr>\n",
       "      <th>5008</th>\n",
       "      <td>US-2021-169551</td>\n",
       "      <td>2021-07-07</td>\n",
       "      <td>Rob Lucas</td>\n",
       "      <td>Philadelphia</td>\n",
       "      <td>Furniture</td>\n",
       "      <td>FUR-BO-10001519</td>\n",
       "      <td>87.210</td>\n",
       "      <td>-45.3492</td>\n",
       "    </tr>\n",
       "  </tbody>\n",
       "</table>\n",
       "<p>5009 rows × 8 columns</p>\n",
       "</div>"
      ]
     },
     "metadata": {
      "application/vnd.databricks.v1+output": {
       "addedWidgets": {},
       "arguments": {},
       "data": "<div>\n<style scoped>\n    .dataframe tbody tr th:only-of-type {\n        vertical-align: middle;\n    }\n\n    .dataframe tbody tr th {\n        vertical-align: top;\n    }\n\n    .dataframe thead th {\n        text-align: right;\n    }\n</style>\n<table border=\"1\" class=\"dataframe\">\n  <thead>\n    <tr style=\"text-align: right;\">\n      <th></th>\n      <th>order_id</th>\n      <th>order_date</th>\n      <th>customer_name</th>\n      <th>city</th>\n      <th>category</th>\n      <th>product_id</th>\n      <th>sales</th>\n      <th>profit</th>\n    </tr>\n  </thead>\n  <tbody>\n    <tr>\n      <th>0</th>\n      <td>CA-2018-100006</td>\n      <td>2018-09-07</td>\n      <td>Dennis Kane</td>\n      <td>New York City</td>\n      <td>Technology</td>\n      <td>TEC-PH-10002075</td>\n      <td>377.970</td>\n      <td>109.6113</td>\n    </tr>\n    <tr>\n      <th>1</th>\n      <td>CA-2018-100090</td>\n      <td>2018-07-08</td>\n      <td>Ed Braxton</td>\n      <td>San Francisco</td>\n      <td>Furniture</td>\n      <td>FUR-TA-10003715</td>\n      <td>502.488</td>\n      <td>-87.9354</td>\n    </tr>\n    <tr>\n      <th>2</th>\n      <td>CA-2018-100293</td>\n      <td>2018-03-14</td>\n      <td>Neil Französisch</td>\n      <td>Jacksonville</td>\n      <td>Office Supplies</td>\n      <td>OFF-PA-10000176</td>\n      <td>91.056</td>\n      <td>31.8696</td>\n    </tr>\n    <tr>\n      <th>3</th>\n      <td>CA-2018-100328</td>\n      <td>2018-01-28</td>\n      <td>Jasper Cacioppo</td>\n      <td>New York City</td>\n      <td>Office Supplies</td>\n      <td>OFF-BI-10000343</td>\n      <td>3.928</td>\n      <td>1.3257</td>\n    </tr>\n    <tr>\n      <th>4</th>\n      <td>CA-2018-100363</td>\n      <td>2018-04-08</td>\n      <td>Jim Mitchum</td>\n      <td>Glendale</td>\n      <td>Office Supplies</td>\n      <td>OFF-FA-10000611</td>\n      <td>2.368</td>\n      <td>0.8288</td>\n    </tr>\n    <tr>\n      <th>...</th>\n      <td>...</td>\n      <td>...</td>\n      <td>...</td>\n      <td>...</td>\n      <td>...</td>\n      <td>...</td>\n      <td>...</td>\n      <td>...</td>\n    </tr>\n    <tr>\n      <th>5004</th>\n      <td>US-2021-168802</td>\n      <td>2021-11-03</td>\n      <td>Jack O'Briant</td>\n      <td>Seattle</td>\n      <td>Office Supplies</td>\n      <td>OFF-BI-10002393</td>\n      <td>18.368</td>\n      <td>5.9696</td>\n    </tr>\n    <tr>\n      <th>5005</th>\n      <td>US-2021-169320</td>\n      <td>2021-07-23</td>\n      <td>Lena Hernandez</td>\n      <td>Elkhart</td>\n      <td>Office Supplies</td>\n      <td>OFF-AR-10003602</td>\n      <td>11.680</td>\n      <td>5.4896</td>\n    </tr>\n    <tr>\n      <th>5006</th>\n      <td>US-2021-169488</td>\n      <td>2021-09-07</td>\n      <td>Allen Armold</td>\n      <td>Providence</td>\n      <td>Office Supplies</td>\n      <td>OFF-PA-10000157</td>\n      <td>39.960</td>\n      <td>18.7812</td>\n    </tr>\n    <tr>\n      <th>5007</th>\n      <td>US-2021-169502</td>\n      <td>2021-08-28</td>\n      <td>Matthew Grinstein</td>\n      <td>Milwaukee</td>\n      <td>Office Supplies</td>\n      <td>OFF-AP-10001947</td>\n      <td>91.600</td>\n      <td>26.5640</td>\n    </tr>\n    <tr>\n      <th>5008</th>\n      <td>US-2021-169551</td>\n      <td>2021-07-07</td>\n      <td>Rob Lucas</td>\n      <td>Philadelphia</td>\n      <td>Furniture</td>\n      <td>FUR-BO-10001519</td>\n      <td>87.210</td>\n      <td>-45.3492</td>\n    </tr>\n  </tbody>\n</table>\n<p>5009 rows × 8 columns</p>\n</div>",
       "datasetInfos": [],
       "metadata": {},
       "removedWidgets": [],
       "textData": null,
       "type": "htmlSandbox"
      }
     },
     "output_type": "display_data"
    }
   ],
   "source": [
    "# Let's create two dataframes\n",
    "\n",
    "#df1\n",
    "df1 = pd.read_csv('orders.txt')\n",
    "df1"
   ]
  },
  {
   "cell_type": "code",
   "execution_count": 0,
   "metadata": {
    "application/vnd.databricks.v1+cell": {
     "cellMetadata": {
      "byteLimit": 2048000,
      "rowLimit": 10000
     },
     "inputWidgets": {},
     "nuid": "8412145f-a823-4d6b-855e-73e3dd6bb3d4",
     "showTitle": false,
     "title": ""
    }
   },
   "outputs": [
    {
     "output_type": "display_data",
     "data": {
      "text/html": [
       "<div>\n",
       "<style scoped>\n",
       "    .dataframe tbody tr th:only-of-type {\n",
       "        vertical-align: middle;\n",
       "    }\n",
       "\n",
       "    .dataframe tbody tr th {\n",
       "        vertical-align: top;\n",
       "    }\n",
       "\n",
       "    .dataframe thead th {\n",
       "        text-align: right;\n",
       "    }\n",
       "</style>\n",
       "<table border=\"1\" class=\"dataframe\">\n",
       "  <thead>\n",
       "    <tr style=\"text-align: right;\">\n",
       "      <th></th>\n",
       "      <th>order_id</th>\n",
       "      <th>return_reason</th>\n",
       "    </tr>\n",
       "  </thead>\n",
       "  <tbody>\n",
       "    <tr>\n",
       "      <th>0</th>\n",
       "      <td>CA-2020-104689</td>\n",
       "      <td>Wrong Items</td>\n",
       "    </tr>\n",
       "    <tr>\n",
       "      <th>1</th>\n",
       "      <td>CA-2020-105081</td>\n",
       "      <td>Wrong Items</td>\n",
       "    </tr>\n",
       "    <tr>\n",
       "      <th>2</th>\n",
       "      <td>CA-2020-105291</td>\n",
       "      <td>Wrong Items</td>\n",
       "    </tr>\n",
       "    <tr>\n",
       "      <th>3</th>\n",
       "      <td>CA-2020-105585</td>\n",
       "      <td>Wrong Items</td>\n",
       "    </tr>\n",
       "    <tr>\n",
       "      <th>4</th>\n",
       "      <td>CA-2020-106950</td>\n",
       "      <td>Wrong Items</td>\n",
       "    </tr>\n",
       "    <tr>\n",
       "      <th>...</th>\n",
       "      <td>...</td>\n",
       "      <td>...</td>\n",
       "    </tr>\n",
       "    <tr>\n",
       "      <th>291</th>\n",
       "      <td>US-2021-136679</td>\n",
       "      <td>Others</td>\n",
       "    </tr>\n",
       "    <tr>\n",
       "      <th>292</th>\n",
       "      <td>US-2021-147886</td>\n",
       "      <td>Others</td>\n",
       "    </tr>\n",
       "    <tr>\n",
       "      <th>293</th>\n",
       "      <td>US-2021-147998</td>\n",
       "      <td>Wrong Items</td>\n",
       "    </tr>\n",
       "    <tr>\n",
       "      <th>294</th>\n",
       "      <td>US-2021-151127</td>\n",
       "      <td>Wrong Items</td>\n",
       "    </tr>\n",
       "    <tr>\n",
       "      <th>295</th>\n",
       "      <td>US-2021-155999</td>\n",
       "      <td>Wrong Items</td>\n",
       "    </tr>\n",
       "  </tbody>\n",
       "</table>\n",
       "<p>296 rows × 2 columns</p>\n",
       "</div>"
      ]
     },
     "metadata": {
      "application/vnd.databricks.v1+output": {
       "addedWidgets": {},
       "arguments": {},
       "data": "<div>\n<style scoped>\n    .dataframe tbody tr th:only-of-type {\n        vertical-align: middle;\n    }\n\n    .dataframe tbody tr th {\n        vertical-align: top;\n    }\n\n    .dataframe thead th {\n        text-align: right;\n    }\n</style>\n<table border=\"1\" class=\"dataframe\">\n  <thead>\n    <tr style=\"text-align: right;\">\n      <th></th>\n      <th>order_id</th>\n      <th>return_reason</th>\n    </tr>\n  </thead>\n  <tbody>\n    <tr>\n      <th>0</th>\n      <td>CA-2020-104689</td>\n      <td>Wrong Items</td>\n    </tr>\n    <tr>\n      <th>1</th>\n      <td>CA-2020-105081</td>\n      <td>Wrong Items</td>\n    </tr>\n    <tr>\n      <th>2</th>\n      <td>CA-2020-105291</td>\n      <td>Wrong Items</td>\n    </tr>\n    <tr>\n      <th>3</th>\n      <td>CA-2020-105585</td>\n      <td>Wrong Items</td>\n    </tr>\n    <tr>\n      <th>4</th>\n      <td>CA-2020-106950</td>\n      <td>Wrong Items</td>\n    </tr>\n    <tr>\n      <th>...</th>\n      <td>...</td>\n      <td>...</td>\n    </tr>\n    <tr>\n      <th>291</th>\n      <td>US-2021-136679</td>\n      <td>Others</td>\n    </tr>\n    <tr>\n      <th>292</th>\n      <td>US-2021-147886</td>\n      <td>Others</td>\n    </tr>\n    <tr>\n      <th>293</th>\n      <td>US-2021-147998</td>\n      <td>Wrong Items</td>\n    </tr>\n    <tr>\n      <th>294</th>\n      <td>US-2021-151127</td>\n      <td>Wrong Items</td>\n    </tr>\n    <tr>\n      <th>295</th>\n      <td>US-2021-155999</td>\n      <td>Wrong Items</td>\n    </tr>\n  </tbody>\n</table>\n<p>296 rows × 2 columns</p>\n</div>",
       "datasetInfos": [],
       "metadata": {},
       "removedWidgets": [],
       "textData": null,
       "type": "htmlSandbox"
      }
     },
     "output_type": "display_data"
    }
   ],
   "source": [
    "# df2\n",
    "df2 = pd.read_csv('returns.txt')\n",
    "df2"
   ]
  },
  {
   "cell_type": "code",
   "execution_count": 0,
   "metadata": {
    "application/vnd.databricks.v1+cell": {
     "cellMetadata": {
      "byteLimit": 2048000,
      "rowLimit": 10000
     },
     "inputWidgets": {},
     "nuid": "e677ca5a-163f-4b33-999c-70c45ce0749a",
     "showTitle": false,
     "title": ""
    }
   },
   "outputs": [
    {
     "output_type": "display_data",
     "data": {
      "text/html": [
       "<div>\n",
       "<style scoped>\n",
       "    .dataframe tbody tr th:only-of-type {\n",
       "        vertical-align: middle;\n",
       "    }\n",
       "\n",
       "    .dataframe tbody tr th {\n",
       "        vertical-align: top;\n",
       "    }\n",
       "\n",
       "    .dataframe thead th {\n",
       "        text-align: right;\n",
       "    }\n",
       "</style>\n",
       "<table border=\"1\" class=\"dataframe\">\n",
       "  <thead>\n",
       "    <tr style=\"text-align: right;\">\n",
       "      <th></th>\n",
       "      <th>order_id</th>\n",
       "      <th>order_date</th>\n",
       "      <th>customer_name</th>\n",
       "      <th>city</th>\n",
       "      <th>category</th>\n",
       "      <th>product_id</th>\n",
       "      <th>sales</th>\n",
       "      <th>profit</th>\n",
       "      <th>return_reason</th>\n",
       "    </tr>\n",
       "  </thead>\n",
       "  <tbody>\n",
       "    <tr>\n",
       "      <th>0</th>\n",
       "      <td>CA-2018-100762</td>\n",
       "      <td>2018-11-24</td>\n",
       "      <td>Nat Gilpin</td>\n",
       "      <td>Jackson</td>\n",
       "      <td>Office Supplies</td>\n",
       "      <td>OFF-AR-10000380</td>\n",
       "      <td>151.920</td>\n",
       "      <td>45.5760</td>\n",
       "      <td>Bad Quality</td>\n",
       "    </tr>\n",
       "    <tr>\n",
       "      <th>1</th>\n",
       "      <td>CA-2018-100867</td>\n",
       "      <td>2018-10-19</td>\n",
       "      <td>Eugene Hildebrand</td>\n",
       "      <td>Lakewood</td>\n",
       "      <td>Technology</td>\n",
       "      <td>TEC-PH-10004922</td>\n",
       "      <td>321.552</td>\n",
       "      <td>20.0970</td>\n",
       "      <td>Bad Quality</td>\n",
       "    </tr>\n",
       "    <tr>\n",
       "      <th>2</th>\n",
       "      <td>CA-2018-102652</td>\n",
       "      <td>2018-04-06</td>\n",
       "      <td>Andy Yotov</td>\n",
       "      <td>Los Angeles</td>\n",
       "      <td>Furniture</td>\n",
       "      <td>FUR-FU-10000747</td>\n",
       "      <td>91.960</td>\n",
       "      <td>15.6332</td>\n",
       "      <td>Bad Quality</td>\n",
       "    </tr>\n",
       "    <tr>\n",
       "      <th>3</th>\n",
       "      <td>CA-2018-103373</td>\n",
       "      <td>2018-05-18</td>\n",
       "      <td>Bruce Stewart</td>\n",
       "      <td>Cleveland</td>\n",
       "      <td>Technology</td>\n",
       "      <td>TEC-PH-10002885</td>\n",
       "      <td>779.796</td>\n",
       "      <td>-168.9558</td>\n",
       "      <td>Bad Quality</td>\n",
       "    </tr>\n",
       "    <tr>\n",
       "      <th>4</th>\n",
       "      <td>CA-2018-103744</td>\n",
       "      <td>2018-02-23</td>\n",
       "      <td>Michael Grace</td>\n",
       "      <td>El Paso</td>\n",
       "      <td>Office Supplies</td>\n",
       "      <td>OFF-BI-10000320</td>\n",
       "      <td>4.428</td>\n",
       "      <td>-6.8634</td>\n",
       "      <td>Bad Quality</td>\n",
       "    </tr>\n",
       "    <tr>\n",
       "      <th>...</th>\n",
       "      <td>...</td>\n",
       "      <td>...</td>\n",
       "      <td>...</td>\n",
       "      <td>...</td>\n",
       "      <td>...</td>\n",
       "      <td>...</td>\n",
       "      <td>...</td>\n",
       "      <td>...</td>\n",
       "      <td>...</td>\n",
       "    </tr>\n",
       "    <tr>\n",
       "      <th>291</th>\n",
       "      <td>US-2021-136679</td>\n",
       "      <td>2021-11-14</td>\n",
       "      <td>Xylona Preis</td>\n",
       "      <td>Pasadena</td>\n",
       "      <td>Office Supplies</td>\n",
       "      <td>OFF-AR-10003582</td>\n",
       "      <td>45.040</td>\n",
       "      <td>4.5040</td>\n",
       "      <td>Others</td>\n",
       "    </tr>\n",
       "    <tr>\n",
       "      <th>292</th>\n",
       "      <td>US-2021-147886</td>\n",
       "      <td>2021-03-28</td>\n",
       "      <td>Dave Hallsten</td>\n",
       "      <td>Fairfield</td>\n",
       "      <td>Furniture</td>\n",
       "      <td>FUR-FU-10001095</td>\n",
       "      <td>26.480</td>\n",
       "      <td>10.0624</td>\n",
       "      <td>Others</td>\n",
       "    </tr>\n",
       "    <tr>\n",
       "      <th>293</th>\n",
       "      <td>US-2021-147998</td>\n",
       "      <td>2021-05-19</td>\n",
       "      <td>Sue Ann Reed</td>\n",
       "      <td>San Jose</td>\n",
       "      <td>Office Supplies</td>\n",
       "      <td>OFF-BI-10002082</td>\n",
       "      <td>133.120</td>\n",
       "      <td>49.9200</td>\n",
       "      <td>Wrong Items</td>\n",
       "    </tr>\n",
       "    <tr>\n",
       "      <th>294</th>\n",
       "      <td>US-2021-151127</td>\n",
       "      <td>2021-05-22</td>\n",
       "      <td>Rob Lucas</td>\n",
       "      <td>Los Angeles</td>\n",
       "      <td>Office Supplies</td>\n",
       "      <td>OFF-AR-10002445</td>\n",
       "      <td>49.560</td>\n",
       "      <td>18.8328</td>\n",
       "      <td>Wrong Items</td>\n",
       "    </tr>\n",
       "    <tr>\n",
       "      <th>295</th>\n",
       "      <td>US-2021-155999</td>\n",
       "      <td>2021-08-07</td>\n",
       "      <td>Jay Kimmel</td>\n",
       "      <td>San Diego</td>\n",
       "      <td>Office Supplies</td>\n",
       "      <td>OFF-BI-10000404</td>\n",
       "      <td>13.760</td>\n",
       "      <td>4.6440</td>\n",
       "      <td>Wrong Items</td>\n",
       "    </tr>\n",
       "  </tbody>\n",
       "</table>\n",
       "<p>296 rows × 9 columns</p>\n",
       "</div>"
      ]
     },
     "metadata": {
      "application/vnd.databricks.v1+output": {
       "addedWidgets": {},
       "arguments": {},
       "data": "<div>\n<style scoped>\n    .dataframe tbody tr th:only-of-type {\n        vertical-align: middle;\n    }\n\n    .dataframe tbody tr th {\n        vertical-align: top;\n    }\n\n    .dataframe thead th {\n        text-align: right;\n    }\n</style>\n<table border=\"1\" class=\"dataframe\">\n  <thead>\n    <tr style=\"text-align: right;\">\n      <th></th>\n      <th>order_id</th>\n      <th>order_date</th>\n      <th>customer_name</th>\n      <th>city</th>\n      <th>category</th>\n      <th>product_id</th>\n      <th>sales</th>\n      <th>profit</th>\n      <th>return_reason</th>\n    </tr>\n  </thead>\n  <tbody>\n    <tr>\n      <th>0</th>\n      <td>CA-2018-100762</td>\n      <td>2018-11-24</td>\n      <td>Nat Gilpin</td>\n      <td>Jackson</td>\n      <td>Office Supplies</td>\n      <td>OFF-AR-10000380</td>\n      <td>151.920</td>\n      <td>45.5760</td>\n      <td>Bad Quality</td>\n    </tr>\n    <tr>\n      <th>1</th>\n      <td>CA-2018-100867</td>\n      <td>2018-10-19</td>\n      <td>Eugene Hildebrand</td>\n      <td>Lakewood</td>\n      <td>Technology</td>\n      <td>TEC-PH-10004922</td>\n      <td>321.552</td>\n      <td>20.0970</td>\n      <td>Bad Quality</td>\n    </tr>\n    <tr>\n      <th>2</th>\n      <td>CA-2018-102652</td>\n      <td>2018-04-06</td>\n      <td>Andy Yotov</td>\n      <td>Los Angeles</td>\n      <td>Furniture</td>\n      <td>FUR-FU-10000747</td>\n      <td>91.960</td>\n      <td>15.6332</td>\n      <td>Bad Quality</td>\n    </tr>\n    <tr>\n      <th>3</th>\n      <td>CA-2018-103373</td>\n      <td>2018-05-18</td>\n      <td>Bruce Stewart</td>\n      <td>Cleveland</td>\n      <td>Technology</td>\n      <td>TEC-PH-10002885</td>\n      <td>779.796</td>\n      <td>-168.9558</td>\n      <td>Bad Quality</td>\n    </tr>\n    <tr>\n      <th>4</th>\n      <td>CA-2018-103744</td>\n      <td>2018-02-23</td>\n      <td>Michael Grace</td>\n      <td>El Paso</td>\n      <td>Office Supplies</td>\n      <td>OFF-BI-10000320</td>\n      <td>4.428</td>\n      <td>-6.8634</td>\n      <td>Bad Quality</td>\n    </tr>\n    <tr>\n      <th>...</th>\n      <td>...</td>\n      <td>...</td>\n      <td>...</td>\n      <td>...</td>\n      <td>...</td>\n      <td>...</td>\n      <td>...</td>\n      <td>...</td>\n      <td>...</td>\n    </tr>\n    <tr>\n      <th>291</th>\n      <td>US-2021-136679</td>\n      <td>2021-11-14</td>\n      <td>Xylona Preis</td>\n      <td>Pasadena</td>\n      <td>Office Supplies</td>\n      <td>OFF-AR-10003582</td>\n      <td>45.040</td>\n      <td>4.5040</td>\n      <td>Others</td>\n    </tr>\n    <tr>\n      <th>292</th>\n      <td>US-2021-147886</td>\n      <td>2021-03-28</td>\n      <td>Dave Hallsten</td>\n      <td>Fairfield</td>\n      <td>Furniture</td>\n      <td>FUR-FU-10001095</td>\n      <td>26.480</td>\n      <td>10.0624</td>\n      <td>Others</td>\n    </tr>\n    <tr>\n      <th>293</th>\n      <td>US-2021-147998</td>\n      <td>2021-05-19</td>\n      <td>Sue Ann Reed</td>\n      <td>San Jose</td>\n      <td>Office Supplies</td>\n      <td>OFF-BI-10002082</td>\n      <td>133.120</td>\n      <td>49.9200</td>\n      <td>Wrong Items</td>\n    </tr>\n    <tr>\n      <th>294</th>\n      <td>US-2021-151127</td>\n      <td>2021-05-22</td>\n      <td>Rob Lucas</td>\n      <td>Los Angeles</td>\n      <td>Office Supplies</td>\n      <td>OFF-AR-10002445</td>\n      <td>49.560</td>\n      <td>18.8328</td>\n      <td>Wrong Items</td>\n    </tr>\n    <tr>\n      <th>295</th>\n      <td>US-2021-155999</td>\n      <td>2021-08-07</td>\n      <td>Jay Kimmel</td>\n      <td>San Diego</td>\n      <td>Office Supplies</td>\n      <td>OFF-BI-10000404</td>\n      <td>13.760</td>\n      <td>4.6440</td>\n      <td>Wrong Items</td>\n    </tr>\n  </tbody>\n</table>\n<p>296 rows × 9 columns</p>\n</div>",
       "datasetInfos": [],
       "metadata": {},
       "removedWidgets": [],
       "textData": null,
       "type": "htmlSandbox"
      }
     },
     "output_type": "display_data"
    }
   ],
   "source": [
    "# By default the pandas perform inner join\n",
    "pd.merge(df1, df2, on='order_id')"
   ]
  },
  {
   "cell_type": "markdown",
   "metadata": {
    "application/vnd.databricks.v1+cell": {
     "cellMetadata": {},
     "inputWidgets": {},
     "nuid": "01f51c49-8e57-4520-bb88-1348058a90f1",
     "showTitle": false,
     "title": ""
    }
   },
   "source": [
    "**If the columns to join on have different names in the two DataFrames, use left_on and right_on.**"
   ]
  },
  {
   "cell_type": "code",
   "execution_count": 0,
   "metadata": {
    "application/vnd.databricks.v1+cell": {
     "cellMetadata": {
      "byteLimit": 2048000,
      "rowLimit": 10000
     },
     "inputWidgets": {},
     "nuid": "508f89d5-bfc8-4a2b-bd8e-b9e0bcf9c516",
     "showTitle": false,
     "title": ""
    }
   },
   "outputs": [
    {
     "output_type": "display_data",
     "data": {
      "text/html": [
       "<div>\n",
       "<style scoped>\n",
       "    .dataframe tbody tr th:only-of-type {\n",
       "        vertical-align: middle;\n",
       "    }\n",
       "\n",
       "    .dataframe tbody tr th {\n",
       "        vertical-align: top;\n",
       "    }\n",
       "\n",
       "    .dataframe thead th {\n",
       "        text-align: right;\n",
       "    }\n",
       "</style>\n",
       "<table border=\"1\" class=\"dataframe\">\n",
       "  <thead>\n",
       "    <tr style=\"text-align: right;\">\n",
       "      <th></th>\n",
       "      <th>order_id</th>\n",
       "      <th>order_date</th>\n",
       "      <th>customer_name</th>\n",
       "      <th>city</th>\n",
       "      <th>category</th>\n",
       "      <th>product_id</th>\n",
       "      <th>sales</th>\n",
       "      <th>profit</th>\n",
       "      <th>return_reason</th>\n",
       "    </tr>\n",
       "  </thead>\n",
       "  <tbody>\n",
       "    <tr>\n",
       "      <th>0</th>\n",
       "      <td>CA-2018-100762</td>\n",
       "      <td>2018-11-24</td>\n",
       "      <td>Nat Gilpin</td>\n",
       "      <td>Jackson</td>\n",
       "      <td>Office Supplies</td>\n",
       "      <td>OFF-AR-10000380</td>\n",
       "      <td>151.920</td>\n",
       "      <td>45.5760</td>\n",
       "      <td>Bad Quality</td>\n",
       "    </tr>\n",
       "    <tr>\n",
       "      <th>1</th>\n",
       "      <td>CA-2018-100867</td>\n",
       "      <td>2018-10-19</td>\n",
       "      <td>Eugene Hildebrand</td>\n",
       "      <td>Lakewood</td>\n",
       "      <td>Technology</td>\n",
       "      <td>TEC-PH-10004922</td>\n",
       "      <td>321.552</td>\n",
       "      <td>20.0970</td>\n",
       "      <td>Bad Quality</td>\n",
       "    </tr>\n",
       "    <tr>\n",
       "      <th>2</th>\n",
       "      <td>CA-2018-102652</td>\n",
       "      <td>2018-04-06</td>\n",
       "      <td>Andy Yotov</td>\n",
       "      <td>Los Angeles</td>\n",
       "      <td>Furniture</td>\n",
       "      <td>FUR-FU-10000747</td>\n",
       "      <td>91.960</td>\n",
       "      <td>15.6332</td>\n",
       "      <td>Bad Quality</td>\n",
       "    </tr>\n",
       "    <tr>\n",
       "      <th>3</th>\n",
       "      <td>CA-2018-103373</td>\n",
       "      <td>2018-05-18</td>\n",
       "      <td>Bruce Stewart</td>\n",
       "      <td>Cleveland</td>\n",
       "      <td>Technology</td>\n",
       "      <td>TEC-PH-10002885</td>\n",
       "      <td>779.796</td>\n",
       "      <td>-168.9558</td>\n",
       "      <td>Bad Quality</td>\n",
       "    </tr>\n",
       "    <tr>\n",
       "      <th>4</th>\n",
       "      <td>CA-2018-103744</td>\n",
       "      <td>2018-02-23</td>\n",
       "      <td>Michael Grace</td>\n",
       "      <td>El Paso</td>\n",
       "      <td>Office Supplies</td>\n",
       "      <td>OFF-BI-10000320</td>\n",
       "      <td>4.428</td>\n",
       "      <td>-6.8634</td>\n",
       "      <td>Bad Quality</td>\n",
       "    </tr>\n",
       "    <tr>\n",
       "      <th>...</th>\n",
       "      <td>...</td>\n",
       "      <td>...</td>\n",
       "      <td>...</td>\n",
       "      <td>...</td>\n",
       "      <td>...</td>\n",
       "      <td>...</td>\n",
       "      <td>...</td>\n",
       "      <td>...</td>\n",
       "      <td>...</td>\n",
       "    </tr>\n",
       "    <tr>\n",
       "      <th>291</th>\n",
       "      <td>US-2021-136679</td>\n",
       "      <td>2021-11-14</td>\n",
       "      <td>Xylona Preis</td>\n",
       "      <td>Pasadena</td>\n",
       "      <td>Office Supplies</td>\n",
       "      <td>OFF-AR-10003582</td>\n",
       "      <td>45.040</td>\n",
       "      <td>4.5040</td>\n",
       "      <td>Others</td>\n",
       "    </tr>\n",
       "    <tr>\n",
       "      <th>292</th>\n",
       "      <td>US-2021-147886</td>\n",
       "      <td>2021-03-28</td>\n",
       "      <td>Dave Hallsten</td>\n",
       "      <td>Fairfield</td>\n",
       "      <td>Furniture</td>\n",
       "      <td>FUR-FU-10001095</td>\n",
       "      <td>26.480</td>\n",
       "      <td>10.0624</td>\n",
       "      <td>Others</td>\n",
       "    </tr>\n",
       "    <tr>\n",
       "      <th>293</th>\n",
       "      <td>US-2021-147998</td>\n",
       "      <td>2021-05-19</td>\n",
       "      <td>Sue Ann Reed</td>\n",
       "      <td>San Jose</td>\n",
       "      <td>Office Supplies</td>\n",
       "      <td>OFF-BI-10002082</td>\n",
       "      <td>133.120</td>\n",
       "      <td>49.9200</td>\n",
       "      <td>Wrong Items</td>\n",
       "    </tr>\n",
       "    <tr>\n",
       "      <th>294</th>\n",
       "      <td>US-2021-151127</td>\n",
       "      <td>2021-05-22</td>\n",
       "      <td>Rob Lucas</td>\n",
       "      <td>Los Angeles</td>\n",
       "      <td>Office Supplies</td>\n",
       "      <td>OFF-AR-10002445</td>\n",
       "      <td>49.560</td>\n",
       "      <td>18.8328</td>\n",
       "      <td>Wrong Items</td>\n",
       "    </tr>\n",
       "    <tr>\n",
       "      <th>295</th>\n",
       "      <td>US-2021-155999</td>\n",
       "      <td>2021-08-07</td>\n",
       "      <td>Jay Kimmel</td>\n",
       "      <td>San Diego</td>\n",
       "      <td>Office Supplies</td>\n",
       "      <td>OFF-BI-10000404</td>\n",
       "      <td>13.760</td>\n",
       "      <td>4.6440</td>\n",
       "      <td>Wrong Items</td>\n",
       "    </tr>\n",
       "  </tbody>\n",
       "</table>\n",
       "<p>296 rows × 9 columns</p>\n",
       "</div>"
      ]
     },
     "metadata": {
      "application/vnd.databricks.v1+output": {
       "addedWidgets": {},
       "arguments": {},
       "data": "<div>\n<style scoped>\n    .dataframe tbody tr th:only-of-type {\n        vertical-align: middle;\n    }\n\n    .dataframe tbody tr th {\n        vertical-align: top;\n    }\n\n    .dataframe thead th {\n        text-align: right;\n    }\n</style>\n<table border=\"1\" class=\"dataframe\">\n  <thead>\n    <tr style=\"text-align: right;\">\n      <th></th>\n      <th>order_id</th>\n      <th>order_date</th>\n      <th>customer_name</th>\n      <th>city</th>\n      <th>category</th>\n      <th>product_id</th>\n      <th>sales</th>\n      <th>profit</th>\n      <th>return_reason</th>\n    </tr>\n  </thead>\n  <tbody>\n    <tr>\n      <th>0</th>\n      <td>CA-2018-100762</td>\n      <td>2018-11-24</td>\n      <td>Nat Gilpin</td>\n      <td>Jackson</td>\n      <td>Office Supplies</td>\n      <td>OFF-AR-10000380</td>\n      <td>151.920</td>\n      <td>45.5760</td>\n      <td>Bad Quality</td>\n    </tr>\n    <tr>\n      <th>1</th>\n      <td>CA-2018-100867</td>\n      <td>2018-10-19</td>\n      <td>Eugene Hildebrand</td>\n      <td>Lakewood</td>\n      <td>Technology</td>\n      <td>TEC-PH-10004922</td>\n      <td>321.552</td>\n      <td>20.0970</td>\n      <td>Bad Quality</td>\n    </tr>\n    <tr>\n      <th>2</th>\n      <td>CA-2018-102652</td>\n      <td>2018-04-06</td>\n      <td>Andy Yotov</td>\n      <td>Los Angeles</td>\n      <td>Furniture</td>\n      <td>FUR-FU-10000747</td>\n      <td>91.960</td>\n      <td>15.6332</td>\n      <td>Bad Quality</td>\n    </tr>\n    <tr>\n      <th>3</th>\n      <td>CA-2018-103373</td>\n      <td>2018-05-18</td>\n      <td>Bruce Stewart</td>\n      <td>Cleveland</td>\n      <td>Technology</td>\n      <td>TEC-PH-10002885</td>\n      <td>779.796</td>\n      <td>-168.9558</td>\n      <td>Bad Quality</td>\n    </tr>\n    <tr>\n      <th>4</th>\n      <td>CA-2018-103744</td>\n      <td>2018-02-23</td>\n      <td>Michael Grace</td>\n      <td>El Paso</td>\n      <td>Office Supplies</td>\n      <td>OFF-BI-10000320</td>\n      <td>4.428</td>\n      <td>-6.8634</td>\n      <td>Bad Quality</td>\n    </tr>\n    <tr>\n      <th>...</th>\n      <td>...</td>\n      <td>...</td>\n      <td>...</td>\n      <td>...</td>\n      <td>...</td>\n      <td>...</td>\n      <td>...</td>\n      <td>...</td>\n      <td>...</td>\n    </tr>\n    <tr>\n      <th>291</th>\n      <td>US-2021-136679</td>\n      <td>2021-11-14</td>\n      <td>Xylona Preis</td>\n      <td>Pasadena</td>\n      <td>Office Supplies</td>\n      <td>OFF-AR-10003582</td>\n      <td>45.040</td>\n      <td>4.5040</td>\n      <td>Others</td>\n    </tr>\n    <tr>\n      <th>292</th>\n      <td>US-2021-147886</td>\n      <td>2021-03-28</td>\n      <td>Dave Hallsten</td>\n      <td>Fairfield</td>\n      <td>Furniture</td>\n      <td>FUR-FU-10001095</td>\n      <td>26.480</td>\n      <td>10.0624</td>\n      <td>Others</td>\n    </tr>\n    <tr>\n      <th>293</th>\n      <td>US-2021-147998</td>\n      <td>2021-05-19</td>\n      <td>Sue Ann Reed</td>\n      <td>San Jose</td>\n      <td>Office Supplies</td>\n      <td>OFF-BI-10002082</td>\n      <td>133.120</td>\n      <td>49.9200</td>\n      <td>Wrong Items</td>\n    </tr>\n    <tr>\n      <th>294</th>\n      <td>US-2021-151127</td>\n      <td>2021-05-22</td>\n      <td>Rob Lucas</td>\n      <td>Los Angeles</td>\n      <td>Office Supplies</td>\n      <td>OFF-AR-10002445</td>\n      <td>49.560</td>\n      <td>18.8328</td>\n      <td>Wrong Items</td>\n    </tr>\n    <tr>\n      <th>295</th>\n      <td>US-2021-155999</td>\n      <td>2021-08-07</td>\n      <td>Jay Kimmel</td>\n      <td>San Diego</td>\n      <td>Office Supplies</td>\n      <td>OFF-BI-10000404</td>\n      <td>13.760</td>\n      <td>4.6440</td>\n      <td>Wrong Items</td>\n    </tr>\n  </tbody>\n</table>\n<p>296 rows × 9 columns</p>\n</div>",
       "datasetInfos": [],
       "metadata": {},
       "removedWidgets": [],
       "textData": null,
       "type": "htmlSandbox"
      }
     },
     "output_type": "display_data"
    }
   ],
   "source": [
    "pd.merge(df1, df2, how='inner', left_on='order_id', right_on='order_id')"
   ]
  },
  {
   "cell_type": "code",
   "execution_count": 0,
   "metadata": {
    "application/vnd.databricks.v1+cell": {
     "cellMetadata": {
      "byteLimit": 2048000,
      "rowLimit": 10000
     },
     "inputWidgets": {},
     "nuid": "fb777cc5-6bbc-40d5-8c61-c8f5f7c641d0",
     "showTitle": false,
     "title": ""
    }
   },
   "outputs": [
    {
     "output_type": "display_data",
     "data": {
      "text/html": [
       "<div>\n",
       "<style scoped>\n",
       "    .dataframe tbody tr th:only-of-type {\n",
       "        vertical-align: middle;\n",
       "    }\n",
       "\n",
       "    .dataframe tbody tr th {\n",
       "        vertical-align: top;\n",
       "    }\n",
       "\n",
       "    .dataframe thead th {\n",
       "        text-align: right;\n",
       "    }\n",
       "</style>\n",
       "<table border=\"1\" class=\"dataframe\">\n",
       "  <thead>\n",
       "    <tr style=\"text-align: right;\">\n",
       "      <th></th>\n",
       "      <th>order_id</th>\n",
       "      <th>order_date</th>\n",
       "      <th>customer_name</th>\n",
       "      <th>city</th>\n",
       "      <th>category</th>\n",
       "      <th>product_id</th>\n",
       "      <th>sales</th>\n",
       "      <th>profit</th>\n",
       "      <th>return_reason</th>\n",
       "    </tr>\n",
       "  </thead>\n",
       "  <tbody>\n",
       "    <tr>\n",
       "      <th>0</th>\n",
       "      <td>CA-2018-100006</td>\n",
       "      <td>2018-09-07</td>\n",
       "      <td>Dennis Kane</td>\n",
       "      <td>New York City</td>\n",
       "      <td>Technology</td>\n",
       "      <td>TEC-PH-10002075</td>\n",
       "      <td>377.970</td>\n",
       "      <td>109.6113</td>\n",
       "      <td>NaN</td>\n",
       "    </tr>\n",
       "    <tr>\n",
       "      <th>1</th>\n",
       "      <td>CA-2018-100090</td>\n",
       "      <td>2018-07-08</td>\n",
       "      <td>Ed Braxton</td>\n",
       "      <td>San Francisco</td>\n",
       "      <td>Furniture</td>\n",
       "      <td>FUR-TA-10003715</td>\n",
       "      <td>502.488</td>\n",
       "      <td>-87.9354</td>\n",
       "      <td>NaN</td>\n",
       "    </tr>\n",
       "    <tr>\n",
       "      <th>2</th>\n",
       "      <td>CA-2018-100293</td>\n",
       "      <td>2018-03-14</td>\n",
       "      <td>Neil Französisch</td>\n",
       "      <td>Jacksonville</td>\n",
       "      <td>Office Supplies</td>\n",
       "      <td>OFF-PA-10000176</td>\n",
       "      <td>91.056</td>\n",
       "      <td>31.8696</td>\n",
       "      <td>NaN</td>\n",
       "    </tr>\n",
       "    <tr>\n",
       "      <th>3</th>\n",
       "      <td>CA-2018-100328</td>\n",
       "      <td>2018-01-28</td>\n",
       "      <td>Jasper Cacioppo</td>\n",
       "      <td>New York City</td>\n",
       "      <td>Office Supplies</td>\n",
       "      <td>OFF-BI-10000343</td>\n",
       "      <td>3.928</td>\n",
       "      <td>1.3257</td>\n",
       "      <td>NaN</td>\n",
       "    </tr>\n",
       "    <tr>\n",
       "      <th>4</th>\n",
       "      <td>CA-2018-100363</td>\n",
       "      <td>2018-04-08</td>\n",
       "      <td>Jim Mitchum</td>\n",
       "      <td>Glendale</td>\n",
       "      <td>Office Supplies</td>\n",
       "      <td>OFF-FA-10000611</td>\n",
       "      <td>2.368</td>\n",
       "      <td>0.8288</td>\n",
       "      <td>NaN</td>\n",
       "    </tr>\n",
       "    <tr>\n",
       "      <th>...</th>\n",
       "      <td>...</td>\n",
       "      <td>...</td>\n",
       "      <td>...</td>\n",
       "      <td>...</td>\n",
       "      <td>...</td>\n",
       "      <td>...</td>\n",
       "      <td>...</td>\n",
       "      <td>...</td>\n",
       "      <td>...</td>\n",
       "    </tr>\n",
       "    <tr>\n",
       "      <th>5004</th>\n",
       "      <td>US-2021-168802</td>\n",
       "      <td>2021-11-03</td>\n",
       "      <td>Jack O'Briant</td>\n",
       "      <td>Seattle</td>\n",
       "      <td>Office Supplies</td>\n",
       "      <td>OFF-BI-10002393</td>\n",
       "      <td>18.368</td>\n",
       "      <td>5.9696</td>\n",
       "      <td>NaN</td>\n",
       "    </tr>\n",
       "    <tr>\n",
       "      <th>5005</th>\n",
       "      <td>US-2021-169320</td>\n",
       "      <td>2021-07-23</td>\n",
       "      <td>Lena Hernandez</td>\n",
       "      <td>Elkhart</td>\n",
       "      <td>Office Supplies</td>\n",
       "      <td>OFF-AR-10003602</td>\n",
       "      <td>11.680</td>\n",
       "      <td>5.4896</td>\n",
       "      <td>NaN</td>\n",
       "    </tr>\n",
       "    <tr>\n",
       "      <th>5006</th>\n",
       "      <td>US-2021-169488</td>\n",
       "      <td>2021-09-07</td>\n",
       "      <td>Allen Armold</td>\n",
       "      <td>Providence</td>\n",
       "      <td>Office Supplies</td>\n",
       "      <td>OFF-PA-10000157</td>\n",
       "      <td>39.960</td>\n",
       "      <td>18.7812</td>\n",
       "      <td>NaN</td>\n",
       "    </tr>\n",
       "    <tr>\n",
       "      <th>5007</th>\n",
       "      <td>US-2021-169502</td>\n",
       "      <td>2021-08-28</td>\n",
       "      <td>Matthew Grinstein</td>\n",
       "      <td>Milwaukee</td>\n",
       "      <td>Office Supplies</td>\n",
       "      <td>OFF-AP-10001947</td>\n",
       "      <td>91.600</td>\n",
       "      <td>26.5640</td>\n",
       "      <td>NaN</td>\n",
       "    </tr>\n",
       "    <tr>\n",
       "      <th>5008</th>\n",
       "      <td>US-2021-169551</td>\n",
       "      <td>2021-07-07</td>\n",
       "      <td>Rob Lucas</td>\n",
       "      <td>Philadelphia</td>\n",
       "      <td>Furniture</td>\n",
       "      <td>FUR-BO-10001519</td>\n",
       "      <td>87.210</td>\n",
       "      <td>-45.3492</td>\n",
       "      <td>NaN</td>\n",
       "    </tr>\n",
       "  </tbody>\n",
       "</table>\n",
       "<p>5009 rows × 9 columns</p>\n",
       "</div>"
      ]
     },
     "metadata": {
      "application/vnd.databricks.v1+output": {
       "addedWidgets": {},
       "arguments": {},
       "data": "<div>\n<style scoped>\n    .dataframe tbody tr th:only-of-type {\n        vertical-align: middle;\n    }\n\n    .dataframe tbody tr th {\n        vertical-align: top;\n    }\n\n    .dataframe thead th {\n        text-align: right;\n    }\n</style>\n<table border=\"1\" class=\"dataframe\">\n  <thead>\n    <tr style=\"text-align: right;\">\n      <th></th>\n      <th>order_id</th>\n      <th>order_date</th>\n      <th>customer_name</th>\n      <th>city</th>\n      <th>category</th>\n      <th>product_id</th>\n      <th>sales</th>\n      <th>profit</th>\n      <th>return_reason</th>\n    </tr>\n  </thead>\n  <tbody>\n    <tr>\n      <th>0</th>\n      <td>CA-2018-100006</td>\n      <td>2018-09-07</td>\n      <td>Dennis Kane</td>\n      <td>New York City</td>\n      <td>Technology</td>\n      <td>TEC-PH-10002075</td>\n      <td>377.970</td>\n      <td>109.6113</td>\n      <td>NaN</td>\n    </tr>\n    <tr>\n      <th>1</th>\n      <td>CA-2018-100090</td>\n      <td>2018-07-08</td>\n      <td>Ed Braxton</td>\n      <td>San Francisco</td>\n      <td>Furniture</td>\n      <td>FUR-TA-10003715</td>\n      <td>502.488</td>\n      <td>-87.9354</td>\n      <td>NaN</td>\n    </tr>\n    <tr>\n      <th>2</th>\n      <td>CA-2018-100293</td>\n      <td>2018-03-14</td>\n      <td>Neil Französisch</td>\n      <td>Jacksonville</td>\n      <td>Office Supplies</td>\n      <td>OFF-PA-10000176</td>\n      <td>91.056</td>\n      <td>31.8696</td>\n      <td>NaN</td>\n    </tr>\n    <tr>\n      <th>3</th>\n      <td>CA-2018-100328</td>\n      <td>2018-01-28</td>\n      <td>Jasper Cacioppo</td>\n      <td>New York City</td>\n      <td>Office Supplies</td>\n      <td>OFF-BI-10000343</td>\n      <td>3.928</td>\n      <td>1.3257</td>\n      <td>NaN</td>\n    </tr>\n    <tr>\n      <th>4</th>\n      <td>CA-2018-100363</td>\n      <td>2018-04-08</td>\n      <td>Jim Mitchum</td>\n      <td>Glendale</td>\n      <td>Office Supplies</td>\n      <td>OFF-FA-10000611</td>\n      <td>2.368</td>\n      <td>0.8288</td>\n      <td>NaN</td>\n    </tr>\n    <tr>\n      <th>...</th>\n      <td>...</td>\n      <td>...</td>\n      <td>...</td>\n      <td>...</td>\n      <td>...</td>\n      <td>...</td>\n      <td>...</td>\n      <td>...</td>\n      <td>...</td>\n    </tr>\n    <tr>\n      <th>5004</th>\n      <td>US-2021-168802</td>\n      <td>2021-11-03</td>\n      <td>Jack O'Briant</td>\n      <td>Seattle</td>\n      <td>Office Supplies</td>\n      <td>OFF-BI-10002393</td>\n      <td>18.368</td>\n      <td>5.9696</td>\n      <td>NaN</td>\n    </tr>\n    <tr>\n      <th>5005</th>\n      <td>US-2021-169320</td>\n      <td>2021-07-23</td>\n      <td>Lena Hernandez</td>\n      <td>Elkhart</td>\n      <td>Office Supplies</td>\n      <td>OFF-AR-10003602</td>\n      <td>11.680</td>\n      <td>5.4896</td>\n      <td>NaN</td>\n    </tr>\n    <tr>\n      <th>5006</th>\n      <td>US-2021-169488</td>\n      <td>2021-09-07</td>\n      <td>Allen Armold</td>\n      <td>Providence</td>\n      <td>Office Supplies</td>\n      <td>OFF-PA-10000157</td>\n      <td>39.960</td>\n      <td>18.7812</td>\n      <td>NaN</td>\n    </tr>\n    <tr>\n      <th>5007</th>\n      <td>US-2021-169502</td>\n      <td>2021-08-28</td>\n      <td>Matthew Grinstein</td>\n      <td>Milwaukee</td>\n      <td>Office Supplies</td>\n      <td>OFF-AP-10001947</td>\n      <td>91.600</td>\n      <td>26.5640</td>\n      <td>NaN</td>\n    </tr>\n    <tr>\n      <th>5008</th>\n      <td>US-2021-169551</td>\n      <td>2021-07-07</td>\n      <td>Rob Lucas</td>\n      <td>Philadelphia</td>\n      <td>Furniture</td>\n      <td>FUR-BO-10001519</td>\n      <td>87.210</td>\n      <td>-45.3492</td>\n      <td>NaN</td>\n    </tr>\n  </tbody>\n</table>\n<p>5009 rows × 9 columns</p>\n</div>",
       "datasetInfos": [],
       "metadata": {},
       "removedWidgets": [],
       "textData": null,
       "type": "htmlSandbox"
      }
     },
     "output_type": "display_data"
    }
   ],
   "source": [
    "# another syntax\n",
    "# pd.merge(left=df1, right=df2, how='inner', left_on='order_id', right_on='order_id')\n",
    "# pd.merge(left=df1, right=df2, left_on='order_id', right_on='order_id')\n",
    "# pd.merge(left=df1, right=df2, on='order_id')\n",
    "# pd.merge(left=df1, right=df2, how='inner', on='order_id')\n",
    "pd.merge(right=df2, left=df1, how='left', on='order_id')"
   ]
  },
  {
   "cell_type": "markdown",
   "metadata": {
    "application/vnd.databricks.v1+cell": {
     "cellMetadata": {
      "byteLimit": 2048000,
      "rowLimit": 10000
     },
     "inputWidgets": {},
     "nuid": "c570cce9-a86c-47a2-9867-3b5032398bc2",
     "showTitle": false,
     "title": ""
    }
   },
   "source": [
    "##### Inner Join\n",
    "This will only return rows where the key column matches in both DataFrames."
   ]
  },
  {
   "cell_type": "code",
   "execution_count": 0,
   "metadata": {
    "application/vnd.databricks.v1+cell": {
     "cellMetadata": {
      "byteLimit": 2048000,
      "rowLimit": 10000
     },
     "inputWidgets": {},
     "nuid": "e417a4be-2df1-4db8-842b-d18908080299",
     "showTitle": false,
     "title": ""
    }
   },
   "outputs": [
    {
     "output_type": "display_data",
     "data": {
      "text/html": [
       "<div>\n",
       "<style scoped>\n",
       "    .dataframe tbody tr th:only-of-type {\n",
       "        vertical-align: middle;\n",
       "    }\n",
       "\n",
       "    .dataframe tbody tr th {\n",
       "        vertical-align: top;\n",
       "    }\n",
       "\n",
       "    .dataframe thead th {\n",
       "        text-align: right;\n",
       "    }\n",
       "</style>\n",
       "<table border=\"1\" class=\"dataframe\">\n",
       "  <thead>\n",
       "    <tr style=\"text-align: right;\">\n",
       "      <th></th>\n",
       "      <th>order_id</th>\n",
       "      <th>order_date</th>\n",
       "      <th>customer_name</th>\n",
       "      <th>city</th>\n",
       "      <th>category</th>\n",
       "      <th>product_id</th>\n",
       "      <th>sales</th>\n",
       "      <th>profit</th>\n",
       "      <th>return_reason</th>\n",
       "    </tr>\n",
       "  </thead>\n",
       "  <tbody>\n",
       "    <tr>\n",
       "      <th>0</th>\n",
       "      <td>CA-2018-100762</td>\n",
       "      <td>2018-11-24</td>\n",
       "      <td>Nat Gilpin</td>\n",
       "      <td>Jackson</td>\n",
       "      <td>Office Supplies</td>\n",
       "      <td>OFF-AR-10000380</td>\n",
       "      <td>151.920</td>\n",
       "      <td>45.5760</td>\n",
       "      <td>Bad Quality</td>\n",
       "    </tr>\n",
       "    <tr>\n",
       "      <th>1</th>\n",
       "      <td>CA-2018-100867</td>\n",
       "      <td>2018-10-19</td>\n",
       "      <td>Eugene Hildebrand</td>\n",
       "      <td>Lakewood</td>\n",
       "      <td>Technology</td>\n",
       "      <td>TEC-PH-10004922</td>\n",
       "      <td>321.552</td>\n",
       "      <td>20.0970</td>\n",
       "      <td>Bad Quality</td>\n",
       "    </tr>\n",
       "    <tr>\n",
       "      <th>2</th>\n",
       "      <td>CA-2018-102652</td>\n",
       "      <td>2018-04-06</td>\n",
       "      <td>Andy Yotov</td>\n",
       "      <td>Los Angeles</td>\n",
       "      <td>Furniture</td>\n",
       "      <td>FUR-FU-10000747</td>\n",
       "      <td>91.960</td>\n",
       "      <td>15.6332</td>\n",
       "      <td>Bad Quality</td>\n",
       "    </tr>\n",
       "    <tr>\n",
       "      <th>3</th>\n",
       "      <td>CA-2018-103373</td>\n",
       "      <td>2018-05-18</td>\n",
       "      <td>Bruce Stewart</td>\n",
       "      <td>Cleveland</td>\n",
       "      <td>Technology</td>\n",
       "      <td>TEC-PH-10002885</td>\n",
       "      <td>779.796</td>\n",
       "      <td>-168.9558</td>\n",
       "      <td>Bad Quality</td>\n",
       "    </tr>\n",
       "    <tr>\n",
       "      <th>4</th>\n",
       "      <td>CA-2018-103744</td>\n",
       "      <td>2018-02-23</td>\n",
       "      <td>Michael Grace</td>\n",
       "      <td>El Paso</td>\n",
       "      <td>Office Supplies</td>\n",
       "      <td>OFF-BI-10000320</td>\n",
       "      <td>4.428</td>\n",
       "      <td>-6.8634</td>\n",
       "      <td>Bad Quality</td>\n",
       "    </tr>\n",
       "    <tr>\n",
       "      <th>...</th>\n",
       "      <td>...</td>\n",
       "      <td>...</td>\n",
       "      <td>...</td>\n",
       "      <td>...</td>\n",
       "      <td>...</td>\n",
       "      <td>...</td>\n",
       "      <td>...</td>\n",
       "      <td>...</td>\n",
       "      <td>...</td>\n",
       "    </tr>\n",
       "    <tr>\n",
       "      <th>291</th>\n",
       "      <td>US-2021-136679</td>\n",
       "      <td>2021-11-14</td>\n",
       "      <td>Xylona Preis</td>\n",
       "      <td>Pasadena</td>\n",
       "      <td>Office Supplies</td>\n",
       "      <td>OFF-AR-10003582</td>\n",
       "      <td>45.040</td>\n",
       "      <td>4.5040</td>\n",
       "      <td>Others</td>\n",
       "    </tr>\n",
       "    <tr>\n",
       "      <th>292</th>\n",
       "      <td>US-2021-147886</td>\n",
       "      <td>2021-03-28</td>\n",
       "      <td>Dave Hallsten</td>\n",
       "      <td>Fairfield</td>\n",
       "      <td>Furniture</td>\n",
       "      <td>FUR-FU-10001095</td>\n",
       "      <td>26.480</td>\n",
       "      <td>10.0624</td>\n",
       "      <td>Others</td>\n",
       "    </tr>\n",
       "    <tr>\n",
       "      <th>293</th>\n",
       "      <td>US-2021-147998</td>\n",
       "      <td>2021-05-19</td>\n",
       "      <td>Sue Ann Reed</td>\n",
       "      <td>San Jose</td>\n",
       "      <td>Office Supplies</td>\n",
       "      <td>OFF-BI-10002082</td>\n",
       "      <td>133.120</td>\n",
       "      <td>49.9200</td>\n",
       "      <td>Wrong Items</td>\n",
       "    </tr>\n",
       "    <tr>\n",
       "      <th>294</th>\n",
       "      <td>US-2021-151127</td>\n",
       "      <td>2021-05-22</td>\n",
       "      <td>Rob Lucas</td>\n",
       "      <td>Los Angeles</td>\n",
       "      <td>Office Supplies</td>\n",
       "      <td>OFF-AR-10002445</td>\n",
       "      <td>49.560</td>\n",
       "      <td>18.8328</td>\n",
       "      <td>Wrong Items</td>\n",
       "    </tr>\n",
       "    <tr>\n",
       "      <th>295</th>\n",
       "      <td>US-2021-155999</td>\n",
       "      <td>2021-08-07</td>\n",
       "      <td>Jay Kimmel</td>\n",
       "      <td>San Diego</td>\n",
       "      <td>Office Supplies</td>\n",
       "      <td>OFF-BI-10000404</td>\n",
       "      <td>13.760</td>\n",
       "      <td>4.6440</td>\n",
       "      <td>Wrong Items</td>\n",
       "    </tr>\n",
       "  </tbody>\n",
       "</table>\n",
       "<p>296 rows × 9 columns</p>\n",
       "</div>"
      ]
     },
     "metadata": {
      "application/vnd.databricks.v1+output": {
       "addedWidgets": {},
       "arguments": {},
       "data": "<div>\n<style scoped>\n    .dataframe tbody tr th:only-of-type {\n        vertical-align: middle;\n    }\n\n    .dataframe tbody tr th {\n        vertical-align: top;\n    }\n\n    .dataframe thead th {\n        text-align: right;\n    }\n</style>\n<table border=\"1\" class=\"dataframe\">\n  <thead>\n    <tr style=\"text-align: right;\">\n      <th></th>\n      <th>order_id</th>\n      <th>order_date</th>\n      <th>customer_name</th>\n      <th>city</th>\n      <th>category</th>\n      <th>product_id</th>\n      <th>sales</th>\n      <th>profit</th>\n      <th>return_reason</th>\n    </tr>\n  </thead>\n  <tbody>\n    <tr>\n      <th>0</th>\n      <td>CA-2018-100762</td>\n      <td>2018-11-24</td>\n      <td>Nat Gilpin</td>\n      <td>Jackson</td>\n      <td>Office Supplies</td>\n      <td>OFF-AR-10000380</td>\n      <td>151.920</td>\n      <td>45.5760</td>\n      <td>Bad Quality</td>\n    </tr>\n    <tr>\n      <th>1</th>\n      <td>CA-2018-100867</td>\n      <td>2018-10-19</td>\n      <td>Eugene Hildebrand</td>\n      <td>Lakewood</td>\n      <td>Technology</td>\n      <td>TEC-PH-10004922</td>\n      <td>321.552</td>\n      <td>20.0970</td>\n      <td>Bad Quality</td>\n    </tr>\n    <tr>\n      <th>2</th>\n      <td>CA-2018-102652</td>\n      <td>2018-04-06</td>\n      <td>Andy Yotov</td>\n      <td>Los Angeles</td>\n      <td>Furniture</td>\n      <td>FUR-FU-10000747</td>\n      <td>91.960</td>\n      <td>15.6332</td>\n      <td>Bad Quality</td>\n    </tr>\n    <tr>\n      <th>3</th>\n      <td>CA-2018-103373</td>\n      <td>2018-05-18</td>\n      <td>Bruce Stewart</td>\n      <td>Cleveland</td>\n      <td>Technology</td>\n      <td>TEC-PH-10002885</td>\n      <td>779.796</td>\n      <td>-168.9558</td>\n      <td>Bad Quality</td>\n    </tr>\n    <tr>\n      <th>4</th>\n      <td>CA-2018-103744</td>\n      <td>2018-02-23</td>\n      <td>Michael Grace</td>\n      <td>El Paso</td>\n      <td>Office Supplies</td>\n      <td>OFF-BI-10000320</td>\n      <td>4.428</td>\n      <td>-6.8634</td>\n      <td>Bad Quality</td>\n    </tr>\n    <tr>\n      <th>...</th>\n      <td>...</td>\n      <td>...</td>\n      <td>...</td>\n      <td>...</td>\n      <td>...</td>\n      <td>...</td>\n      <td>...</td>\n      <td>...</td>\n      <td>...</td>\n    </tr>\n    <tr>\n      <th>291</th>\n      <td>US-2021-136679</td>\n      <td>2021-11-14</td>\n      <td>Xylona Preis</td>\n      <td>Pasadena</td>\n      <td>Office Supplies</td>\n      <td>OFF-AR-10003582</td>\n      <td>45.040</td>\n      <td>4.5040</td>\n      <td>Others</td>\n    </tr>\n    <tr>\n      <th>292</th>\n      <td>US-2021-147886</td>\n      <td>2021-03-28</td>\n      <td>Dave Hallsten</td>\n      <td>Fairfield</td>\n      <td>Furniture</td>\n      <td>FUR-FU-10001095</td>\n      <td>26.480</td>\n      <td>10.0624</td>\n      <td>Others</td>\n    </tr>\n    <tr>\n      <th>293</th>\n      <td>US-2021-147998</td>\n      <td>2021-05-19</td>\n      <td>Sue Ann Reed</td>\n      <td>San Jose</td>\n      <td>Office Supplies</td>\n      <td>OFF-BI-10002082</td>\n      <td>133.120</td>\n      <td>49.9200</td>\n      <td>Wrong Items</td>\n    </tr>\n    <tr>\n      <th>294</th>\n      <td>US-2021-151127</td>\n      <td>2021-05-22</td>\n      <td>Rob Lucas</td>\n      <td>Los Angeles</td>\n      <td>Office Supplies</td>\n      <td>OFF-AR-10002445</td>\n      <td>49.560</td>\n      <td>18.8328</td>\n      <td>Wrong Items</td>\n    </tr>\n    <tr>\n      <th>295</th>\n      <td>US-2021-155999</td>\n      <td>2021-08-07</td>\n      <td>Jay Kimmel</td>\n      <td>San Diego</td>\n      <td>Office Supplies</td>\n      <td>OFF-BI-10000404</td>\n      <td>13.760</td>\n      <td>4.6440</td>\n      <td>Wrong Items</td>\n    </tr>\n  </tbody>\n</table>\n<p>296 rows × 9 columns</p>\n</div>",
       "datasetInfos": [],
       "metadata": {},
       "removedWidgets": [],
       "textData": null,
       "type": "htmlSandbox"
      }
     },
     "output_type": "display_data"
    }
   ],
   "source": [
    "inner_df = pd.merge(df1, df2, how='inner', on='order_id')\n",
    "inner_df"
   ]
  },
  {
   "cell_type": "markdown",
   "metadata": {
    "application/vnd.databricks.v1+cell": {
     "cellMetadata": {},
     "inputWidgets": {},
     "nuid": "ce08fa5b-3530-41a6-8d55-cdcc4cef2252",
     "showTitle": false,
     "title": ""
    }
   },
   "source": []
  },
  {
   "cell_type": "markdown",
   "metadata": {
    "application/vnd.databricks.v1+cell": {
     "cellMetadata": {},
     "inputWidgets": {},
     "nuid": "ea24a5b9-42d1-481c-9b95-2769fdd8ec37",
     "showTitle": false,
     "title": ""
    }
   },
   "source": [
    "##### Left join\n",
    "This returns all rows from df1 and matched rows from df2. Non-matched rows in df2 will have NaN."
   ]
  },
  {
   "cell_type": "code",
   "execution_count": 0,
   "metadata": {
    "application/vnd.databricks.v1+cell": {
     "cellMetadata": {
      "byteLimit": 2048000,
      "rowLimit": 10000
     },
     "inputWidgets": {},
     "nuid": "9c33e08d-0948-45e8-8d30-17e118858f13",
     "showTitle": false,
     "title": ""
    }
   },
   "outputs": [
    {
     "output_type": "display_data",
     "data": {
      "text/html": [
       "<div>\n",
       "<style scoped>\n",
       "    .dataframe tbody tr th:only-of-type {\n",
       "        vertical-align: middle;\n",
       "    }\n",
       "\n",
       "    .dataframe tbody tr th {\n",
       "        vertical-align: top;\n",
       "    }\n",
       "\n",
       "    .dataframe thead th {\n",
       "        text-align: right;\n",
       "    }\n",
       "</style>\n",
       "<table border=\"1\" class=\"dataframe\">\n",
       "  <thead>\n",
       "    <tr style=\"text-align: right;\">\n",
       "      <th></th>\n",
       "      <th>order_id</th>\n",
       "      <th>order_date</th>\n",
       "      <th>customer_name</th>\n",
       "      <th>city</th>\n",
       "      <th>category</th>\n",
       "      <th>product_id</th>\n",
       "      <th>sales</th>\n",
       "      <th>profit</th>\n",
       "      <th>return_reason</th>\n",
       "    </tr>\n",
       "  </thead>\n",
       "  <tbody>\n",
       "    <tr>\n",
       "      <th>0</th>\n",
       "      <td>CA-2018-100006</td>\n",
       "      <td>2018-09-07</td>\n",
       "      <td>Dennis Kane</td>\n",
       "      <td>New York City</td>\n",
       "      <td>Technology</td>\n",
       "      <td>TEC-PH-10002075</td>\n",
       "      <td>377.970</td>\n",
       "      <td>109.6113</td>\n",
       "      <td>NaN</td>\n",
       "    </tr>\n",
       "    <tr>\n",
       "      <th>1</th>\n",
       "      <td>CA-2018-100090</td>\n",
       "      <td>2018-07-08</td>\n",
       "      <td>Ed Braxton</td>\n",
       "      <td>San Francisco</td>\n",
       "      <td>Furniture</td>\n",
       "      <td>FUR-TA-10003715</td>\n",
       "      <td>502.488</td>\n",
       "      <td>-87.9354</td>\n",
       "      <td>NaN</td>\n",
       "    </tr>\n",
       "    <tr>\n",
       "      <th>2</th>\n",
       "      <td>CA-2018-100293</td>\n",
       "      <td>2018-03-14</td>\n",
       "      <td>Neil Französisch</td>\n",
       "      <td>Jacksonville</td>\n",
       "      <td>Office Supplies</td>\n",
       "      <td>OFF-PA-10000176</td>\n",
       "      <td>91.056</td>\n",
       "      <td>31.8696</td>\n",
       "      <td>NaN</td>\n",
       "    </tr>\n",
       "    <tr>\n",
       "      <th>3</th>\n",
       "      <td>CA-2018-100328</td>\n",
       "      <td>2018-01-28</td>\n",
       "      <td>Jasper Cacioppo</td>\n",
       "      <td>New York City</td>\n",
       "      <td>Office Supplies</td>\n",
       "      <td>OFF-BI-10000343</td>\n",
       "      <td>3.928</td>\n",
       "      <td>1.3257</td>\n",
       "      <td>NaN</td>\n",
       "    </tr>\n",
       "    <tr>\n",
       "      <th>4</th>\n",
       "      <td>CA-2018-100363</td>\n",
       "      <td>2018-04-08</td>\n",
       "      <td>Jim Mitchum</td>\n",
       "      <td>Glendale</td>\n",
       "      <td>Office Supplies</td>\n",
       "      <td>OFF-FA-10000611</td>\n",
       "      <td>2.368</td>\n",
       "      <td>0.8288</td>\n",
       "      <td>NaN</td>\n",
       "    </tr>\n",
       "    <tr>\n",
       "      <th>...</th>\n",
       "      <td>...</td>\n",
       "      <td>...</td>\n",
       "      <td>...</td>\n",
       "      <td>...</td>\n",
       "      <td>...</td>\n",
       "      <td>...</td>\n",
       "      <td>...</td>\n",
       "      <td>...</td>\n",
       "      <td>...</td>\n",
       "    </tr>\n",
       "    <tr>\n",
       "      <th>5004</th>\n",
       "      <td>US-2021-168802</td>\n",
       "      <td>2021-11-03</td>\n",
       "      <td>Jack O'Briant</td>\n",
       "      <td>Seattle</td>\n",
       "      <td>Office Supplies</td>\n",
       "      <td>OFF-BI-10002393</td>\n",
       "      <td>18.368</td>\n",
       "      <td>5.9696</td>\n",
       "      <td>NaN</td>\n",
       "    </tr>\n",
       "    <tr>\n",
       "      <th>5005</th>\n",
       "      <td>US-2021-169320</td>\n",
       "      <td>2021-07-23</td>\n",
       "      <td>Lena Hernandez</td>\n",
       "      <td>Elkhart</td>\n",
       "      <td>Office Supplies</td>\n",
       "      <td>OFF-AR-10003602</td>\n",
       "      <td>11.680</td>\n",
       "      <td>5.4896</td>\n",
       "      <td>NaN</td>\n",
       "    </tr>\n",
       "    <tr>\n",
       "      <th>5006</th>\n",
       "      <td>US-2021-169488</td>\n",
       "      <td>2021-09-07</td>\n",
       "      <td>Allen Armold</td>\n",
       "      <td>Providence</td>\n",
       "      <td>Office Supplies</td>\n",
       "      <td>OFF-PA-10000157</td>\n",
       "      <td>39.960</td>\n",
       "      <td>18.7812</td>\n",
       "      <td>NaN</td>\n",
       "    </tr>\n",
       "    <tr>\n",
       "      <th>5007</th>\n",
       "      <td>US-2021-169502</td>\n",
       "      <td>2021-08-28</td>\n",
       "      <td>Matthew Grinstein</td>\n",
       "      <td>Milwaukee</td>\n",
       "      <td>Office Supplies</td>\n",
       "      <td>OFF-AP-10001947</td>\n",
       "      <td>91.600</td>\n",
       "      <td>26.5640</td>\n",
       "      <td>NaN</td>\n",
       "    </tr>\n",
       "    <tr>\n",
       "      <th>5008</th>\n",
       "      <td>US-2021-169551</td>\n",
       "      <td>2021-07-07</td>\n",
       "      <td>Rob Lucas</td>\n",
       "      <td>Philadelphia</td>\n",
       "      <td>Furniture</td>\n",
       "      <td>FUR-BO-10001519</td>\n",
       "      <td>87.210</td>\n",
       "      <td>-45.3492</td>\n",
       "      <td>NaN</td>\n",
       "    </tr>\n",
       "  </tbody>\n",
       "</table>\n",
       "<p>5009 rows × 9 columns</p>\n",
       "</div>"
      ]
     },
     "metadata": {
      "application/vnd.databricks.v1+output": {
       "addedWidgets": {},
       "arguments": {},
       "data": "<div>\n<style scoped>\n    .dataframe tbody tr th:only-of-type {\n        vertical-align: middle;\n    }\n\n    .dataframe tbody tr th {\n        vertical-align: top;\n    }\n\n    .dataframe thead th {\n        text-align: right;\n    }\n</style>\n<table border=\"1\" class=\"dataframe\">\n  <thead>\n    <tr style=\"text-align: right;\">\n      <th></th>\n      <th>order_id</th>\n      <th>order_date</th>\n      <th>customer_name</th>\n      <th>city</th>\n      <th>category</th>\n      <th>product_id</th>\n      <th>sales</th>\n      <th>profit</th>\n      <th>return_reason</th>\n    </tr>\n  </thead>\n  <tbody>\n    <tr>\n      <th>0</th>\n      <td>CA-2018-100006</td>\n      <td>2018-09-07</td>\n      <td>Dennis Kane</td>\n      <td>New York City</td>\n      <td>Technology</td>\n      <td>TEC-PH-10002075</td>\n      <td>377.970</td>\n      <td>109.6113</td>\n      <td>NaN</td>\n    </tr>\n    <tr>\n      <th>1</th>\n      <td>CA-2018-100090</td>\n      <td>2018-07-08</td>\n      <td>Ed Braxton</td>\n      <td>San Francisco</td>\n      <td>Furniture</td>\n      <td>FUR-TA-10003715</td>\n      <td>502.488</td>\n      <td>-87.9354</td>\n      <td>NaN</td>\n    </tr>\n    <tr>\n      <th>2</th>\n      <td>CA-2018-100293</td>\n      <td>2018-03-14</td>\n      <td>Neil Französisch</td>\n      <td>Jacksonville</td>\n      <td>Office Supplies</td>\n      <td>OFF-PA-10000176</td>\n      <td>91.056</td>\n      <td>31.8696</td>\n      <td>NaN</td>\n    </tr>\n    <tr>\n      <th>3</th>\n      <td>CA-2018-100328</td>\n      <td>2018-01-28</td>\n      <td>Jasper Cacioppo</td>\n      <td>New York City</td>\n      <td>Office Supplies</td>\n      <td>OFF-BI-10000343</td>\n      <td>3.928</td>\n      <td>1.3257</td>\n      <td>NaN</td>\n    </tr>\n    <tr>\n      <th>4</th>\n      <td>CA-2018-100363</td>\n      <td>2018-04-08</td>\n      <td>Jim Mitchum</td>\n      <td>Glendale</td>\n      <td>Office Supplies</td>\n      <td>OFF-FA-10000611</td>\n      <td>2.368</td>\n      <td>0.8288</td>\n      <td>NaN</td>\n    </tr>\n    <tr>\n      <th>...</th>\n      <td>...</td>\n      <td>...</td>\n      <td>...</td>\n      <td>...</td>\n      <td>...</td>\n      <td>...</td>\n      <td>...</td>\n      <td>...</td>\n      <td>...</td>\n    </tr>\n    <tr>\n      <th>5004</th>\n      <td>US-2021-168802</td>\n      <td>2021-11-03</td>\n      <td>Jack O'Briant</td>\n      <td>Seattle</td>\n      <td>Office Supplies</td>\n      <td>OFF-BI-10002393</td>\n      <td>18.368</td>\n      <td>5.9696</td>\n      <td>NaN</td>\n    </tr>\n    <tr>\n      <th>5005</th>\n      <td>US-2021-169320</td>\n      <td>2021-07-23</td>\n      <td>Lena Hernandez</td>\n      <td>Elkhart</td>\n      <td>Office Supplies</td>\n      <td>OFF-AR-10003602</td>\n      <td>11.680</td>\n      <td>5.4896</td>\n      <td>NaN</td>\n    </tr>\n    <tr>\n      <th>5006</th>\n      <td>US-2021-169488</td>\n      <td>2021-09-07</td>\n      <td>Allen Armold</td>\n      <td>Providence</td>\n      <td>Office Supplies</td>\n      <td>OFF-PA-10000157</td>\n      <td>39.960</td>\n      <td>18.7812</td>\n      <td>NaN</td>\n    </tr>\n    <tr>\n      <th>5007</th>\n      <td>US-2021-169502</td>\n      <td>2021-08-28</td>\n      <td>Matthew Grinstein</td>\n      <td>Milwaukee</td>\n      <td>Office Supplies</td>\n      <td>OFF-AP-10001947</td>\n      <td>91.600</td>\n      <td>26.5640</td>\n      <td>NaN</td>\n    </tr>\n    <tr>\n      <th>5008</th>\n      <td>US-2021-169551</td>\n      <td>2021-07-07</td>\n      <td>Rob Lucas</td>\n      <td>Philadelphia</td>\n      <td>Furniture</td>\n      <td>FUR-BO-10001519</td>\n      <td>87.210</td>\n      <td>-45.3492</td>\n      <td>NaN</td>\n    </tr>\n  </tbody>\n</table>\n<p>5009 rows × 9 columns</p>\n</div>",
       "datasetInfos": [],
       "metadata": {},
       "removedWidgets": [],
       "textData": null,
       "type": "htmlSandbox"
      }
     },
     "output_type": "display_data"
    }
   ],
   "source": [
    "left_df = pd.merge(df1, df2, how='left', on='order_id')\n",
    "left_df"
   ]
  },
  {
   "cell_type": "markdown",
   "metadata": {
    "application/vnd.databricks.v1+cell": {
     "cellMetadata": {},
     "inputWidgets": {},
     "nuid": "a57d0171-df99-419e-adc2-be57ccb7841a",
     "showTitle": false,
     "title": ""
    }
   },
   "source": []
  },
  {
   "cell_type": "markdown",
   "metadata": {
    "application/vnd.databricks.v1+cell": {
     "cellMetadata": {},
     "inputWidgets": {},
     "nuid": "2883acf4-99ac-40d0-8a38-3fb1c6166bdd",
     "showTitle": false,
     "title": ""
    }
   },
   "source": [
    "##### Right Join\n",
    "This returns all rows from df2 and matched rows from df1. Non-matched rows in df1 will have NaN."
   ]
  },
  {
   "cell_type": "code",
   "execution_count": 0,
   "metadata": {
    "application/vnd.databricks.v1+cell": {
     "cellMetadata": {
      "byteLimit": 2048000,
      "rowLimit": 10000
     },
     "inputWidgets": {},
     "nuid": "606c4e2c-4a77-411e-bd14-36b9f393bf83",
     "showTitle": false,
     "title": ""
    }
   },
   "outputs": [
    {
     "output_type": "display_data",
     "data": {
      "text/html": [
       "<div>\n",
       "<style scoped>\n",
       "    .dataframe tbody tr th:only-of-type {\n",
       "        vertical-align: middle;\n",
       "    }\n",
       "\n",
       "    .dataframe tbody tr th {\n",
       "        vertical-align: top;\n",
       "    }\n",
       "\n",
       "    .dataframe thead th {\n",
       "        text-align: right;\n",
       "    }\n",
       "</style>\n",
       "<table border=\"1\" class=\"dataframe\">\n",
       "  <thead>\n",
       "    <tr style=\"text-align: right;\">\n",
       "      <th></th>\n",
       "      <th>order_id</th>\n",
       "      <th>order_date</th>\n",
       "      <th>customer_name</th>\n",
       "      <th>city</th>\n",
       "      <th>category</th>\n",
       "      <th>product_id</th>\n",
       "      <th>sales</th>\n",
       "      <th>profit</th>\n",
       "      <th>return_reason</th>\n",
       "    </tr>\n",
       "  </thead>\n",
       "  <tbody>\n",
       "    <tr>\n",
       "      <th>0</th>\n",
       "      <td>CA-2020-104689</td>\n",
       "      <td>2020-12-01</td>\n",
       "      <td>Fred Hopkins</td>\n",
       "      <td>Los Angeles</td>\n",
       "      <td>Office Supplies</td>\n",
       "      <td>OFF-AR-10001149</td>\n",
       "      <td>23.040</td>\n",
       "      <td>6.9120</td>\n",
       "      <td>Wrong Items</td>\n",
       "    </tr>\n",
       "    <tr>\n",
       "      <th>1</th>\n",
       "      <td>CA-2020-105081</td>\n",
       "      <td>2020-12-25</td>\n",
       "      <td>Joe Elijah</td>\n",
       "      <td>Seattle</td>\n",
       "      <td>Furniture</td>\n",
       "      <td>FUR-CH-10000847</td>\n",
       "      <td>698.352</td>\n",
       "      <td>52.3764</td>\n",
       "      <td>Wrong Items</td>\n",
       "    </tr>\n",
       "    <tr>\n",
       "      <th>2</th>\n",
       "      <td>CA-2020-105291</td>\n",
       "      <td>2020-10-30</td>\n",
       "      <td>Susan Pistek</td>\n",
       "      <td>San Luis Obispo</td>\n",
       "      <td>Office Supplies</td>\n",
       "      <td>OFF-FA-10003059</td>\n",
       "      <td>3.620</td>\n",
       "      <td>1.1946</td>\n",
       "      <td>Wrong Items</td>\n",
       "    </tr>\n",
       "    <tr>\n",
       "      <th>3</th>\n",
       "      <td>CA-2020-105585</td>\n",
       "      <td>2020-08-26</td>\n",
       "      <td>Roland Fjeld</td>\n",
       "      <td>San Jose</td>\n",
       "      <td>Office Supplies</td>\n",
       "      <td>OFF-FA-10002983</td>\n",
       "      <td>10.230</td>\n",
       "      <td>4.9104</td>\n",
       "      <td>Wrong Items</td>\n",
       "    </tr>\n",
       "    <tr>\n",
       "      <th>4</th>\n",
       "      <td>CA-2020-106950</td>\n",
       "      <td>2020-09-02</td>\n",
       "      <td>Joe Elijah</td>\n",
       "      <td>Charlotte</td>\n",
       "      <td>Furniture</td>\n",
       "      <td>FUR-TA-10001768</td>\n",
       "      <td>472.518</td>\n",
       "      <td>-149.6307</td>\n",
       "      <td>Wrong Items</td>\n",
       "    </tr>\n",
       "    <tr>\n",
       "      <th>...</th>\n",
       "      <td>...</td>\n",
       "      <td>...</td>\n",
       "      <td>...</td>\n",
       "      <td>...</td>\n",
       "      <td>...</td>\n",
       "      <td>...</td>\n",
       "      <td>...</td>\n",
       "      <td>...</td>\n",
       "      <td>...</td>\n",
       "    </tr>\n",
       "    <tr>\n",
       "      <th>291</th>\n",
       "      <td>US-2021-136679</td>\n",
       "      <td>2021-11-14</td>\n",
       "      <td>Xylona Preis</td>\n",
       "      <td>Pasadena</td>\n",
       "      <td>Office Supplies</td>\n",
       "      <td>OFF-AR-10003582</td>\n",
       "      <td>45.040</td>\n",
       "      <td>4.5040</td>\n",
       "      <td>Others</td>\n",
       "    </tr>\n",
       "    <tr>\n",
       "      <th>292</th>\n",
       "      <td>US-2021-147886</td>\n",
       "      <td>2021-03-28</td>\n",
       "      <td>Dave Hallsten</td>\n",
       "      <td>Fairfield</td>\n",
       "      <td>Furniture</td>\n",
       "      <td>FUR-FU-10001095</td>\n",
       "      <td>26.480</td>\n",
       "      <td>10.0624</td>\n",
       "      <td>Others</td>\n",
       "    </tr>\n",
       "    <tr>\n",
       "      <th>293</th>\n",
       "      <td>US-2021-147998</td>\n",
       "      <td>2021-05-19</td>\n",
       "      <td>Sue Ann Reed</td>\n",
       "      <td>San Jose</td>\n",
       "      <td>Office Supplies</td>\n",
       "      <td>OFF-BI-10002082</td>\n",
       "      <td>133.120</td>\n",
       "      <td>49.9200</td>\n",
       "      <td>Wrong Items</td>\n",
       "    </tr>\n",
       "    <tr>\n",
       "      <th>294</th>\n",
       "      <td>US-2021-151127</td>\n",
       "      <td>2021-05-22</td>\n",
       "      <td>Rob Lucas</td>\n",
       "      <td>Los Angeles</td>\n",
       "      <td>Office Supplies</td>\n",
       "      <td>OFF-AR-10002445</td>\n",
       "      <td>49.560</td>\n",
       "      <td>18.8328</td>\n",
       "      <td>Wrong Items</td>\n",
       "    </tr>\n",
       "    <tr>\n",
       "      <th>295</th>\n",
       "      <td>US-2021-155999</td>\n",
       "      <td>2021-08-07</td>\n",
       "      <td>Jay Kimmel</td>\n",
       "      <td>San Diego</td>\n",
       "      <td>Office Supplies</td>\n",
       "      <td>OFF-BI-10000404</td>\n",
       "      <td>13.760</td>\n",
       "      <td>4.6440</td>\n",
       "      <td>Wrong Items</td>\n",
       "    </tr>\n",
       "  </tbody>\n",
       "</table>\n",
       "<p>296 rows × 9 columns</p>\n",
       "</div>"
      ]
     },
     "metadata": {
      "application/vnd.databricks.v1+output": {
       "addedWidgets": {},
       "arguments": {},
       "data": "<div>\n<style scoped>\n    .dataframe tbody tr th:only-of-type {\n        vertical-align: middle;\n    }\n\n    .dataframe tbody tr th {\n        vertical-align: top;\n    }\n\n    .dataframe thead th {\n        text-align: right;\n    }\n</style>\n<table border=\"1\" class=\"dataframe\">\n  <thead>\n    <tr style=\"text-align: right;\">\n      <th></th>\n      <th>order_id</th>\n      <th>order_date</th>\n      <th>customer_name</th>\n      <th>city</th>\n      <th>category</th>\n      <th>product_id</th>\n      <th>sales</th>\n      <th>profit</th>\n      <th>return_reason</th>\n    </tr>\n  </thead>\n  <tbody>\n    <tr>\n      <th>0</th>\n      <td>CA-2020-104689</td>\n      <td>2020-12-01</td>\n      <td>Fred Hopkins</td>\n      <td>Los Angeles</td>\n      <td>Office Supplies</td>\n      <td>OFF-AR-10001149</td>\n      <td>23.040</td>\n      <td>6.9120</td>\n      <td>Wrong Items</td>\n    </tr>\n    <tr>\n      <th>1</th>\n      <td>CA-2020-105081</td>\n      <td>2020-12-25</td>\n      <td>Joe Elijah</td>\n      <td>Seattle</td>\n      <td>Furniture</td>\n      <td>FUR-CH-10000847</td>\n      <td>698.352</td>\n      <td>52.3764</td>\n      <td>Wrong Items</td>\n    </tr>\n    <tr>\n      <th>2</th>\n      <td>CA-2020-105291</td>\n      <td>2020-10-30</td>\n      <td>Susan Pistek</td>\n      <td>San Luis Obispo</td>\n      <td>Office Supplies</td>\n      <td>OFF-FA-10003059</td>\n      <td>3.620</td>\n      <td>1.1946</td>\n      <td>Wrong Items</td>\n    </tr>\n    <tr>\n      <th>3</th>\n      <td>CA-2020-105585</td>\n      <td>2020-08-26</td>\n      <td>Roland Fjeld</td>\n      <td>San Jose</td>\n      <td>Office Supplies</td>\n      <td>OFF-FA-10002983</td>\n      <td>10.230</td>\n      <td>4.9104</td>\n      <td>Wrong Items</td>\n    </tr>\n    <tr>\n      <th>4</th>\n      <td>CA-2020-106950</td>\n      <td>2020-09-02</td>\n      <td>Joe Elijah</td>\n      <td>Charlotte</td>\n      <td>Furniture</td>\n      <td>FUR-TA-10001768</td>\n      <td>472.518</td>\n      <td>-149.6307</td>\n      <td>Wrong Items</td>\n    </tr>\n    <tr>\n      <th>...</th>\n      <td>...</td>\n      <td>...</td>\n      <td>...</td>\n      <td>...</td>\n      <td>...</td>\n      <td>...</td>\n      <td>...</td>\n      <td>...</td>\n      <td>...</td>\n    </tr>\n    <tr>\n      <th>291</th>\n      <td>US-2021-136679</td>\n      <td>2021-11-14</td>\n      <td>Xylona Preis</td>\n      <td>Pasadena</td>\n      <td>Office Supplies</td>\n      <td>OFF-AR-10003582</td>\n      <td>45.040</td>\n      <td>4.5040</td>\n      <td>Others</td>\n    </tr>\n    <tr>\n      <th>292</th>\n      <td>US-2021-147886</td>\n      <td>2021-03-28</td>\n      <td>Dave Hallsten</td>\n      <td>Fairfield</td>\n      <td>Furniture</td>\n      <td>FUR-FU-10001095</td>\n      <td>26.480</td>\n      <td>10.0624</td>\n      <td>Others</td>\n    </tr>\n    <tr>\n      <th>293</th>\n      <td>US-2021-147998</td>\n      <td>2021-05-19</td>\n      <td>Sue Ann Reed</td>\n      <td>San Jose</td>\n      <td>Office Supplies</td>\n      <td>OFF-BI-10002082</td>\n      <td>133.120</td>\n      <td>49.9200</td>\n      <td>Wrong Items</td>\n    </tr>\n    <tr>\n      <th>294</th>\n      <td>US-2021-151127</td>\n      <td>2021-05-22</td>\n      <td>Rob Lucas</td>\n      <td>Los Angeles</td>\n      <td>Office Supplies</td>\n      <td>OFF-AR-10002445</td>\n      <td>49.560</td>\n      <td>18.8328</td>\n      <td>Wrong Items</td>\n    </tr>\n    <tr>\n      <th>295</th>\n      <td>US-2021-155999</td>\n      <td>2021-08-07</td>\n      <td>Jay Kimmel</td>\n      <td>San Diego</td>\n      <td>Office Supplies</td>\n      <td>OFF-BI-10000404</td>\n      <td>13.760</td>\n      <td>4.6440</td>\n      <td>Wrong Items</td>\n    </tr>\n  </tbody>\n</table>\n<p>296 rows × 9 columns</p>\n</div>",
       "datasetInfos": [],
       "metadata": {},
       "removedWidgets": [],
       "textData": null,
       "type": "htmlSandbox"
      }
     },
     "output_type": "display_data"
    }
   ],
   "source": [
    "right_df = pd.merge(df1, df2, how='right', on='order_id')\n",
    "right_df"
   ]
  },
  {
   "cell_type": "markdown",
   "metadata": {
    "application/vnd.databricks.v1+cell": {
     "cellMetadata": {},
     "inputWidgets": {},
     "nuid": "32486234-54c8-474d-9c4a-643c87255863",
     "showTitle": false,
     "title": ""
    }
   },
   "source": []
  },
  {
   "cell_type": "markdown",
   "metadata": {
    "application/vnd.databricks.v1+cell": {
     "cellMetadata": {},
     "inputWidgets": {},
     "nuid": "21508268-bfb2-4077-bb01-fcac990f9eb7",
     "showTitle": false,
     "title": ""
    }
   },
   "source": [
    "##### Outer Join\n",
    "This returns all rows from both DataFrames. Non-matched rows in both DataFrames will have NaN."
   ]
  },
  {
   "cell_type": "code",
   "execution_count": 0,
   "metadata": {
    "application/vnd.databricks.v1+cell": {
     "cellMetadata": {
      "byteLimit": 2048000,
      "rowLimit": 10000
     },
     "inputWidgets": {},
     "nuid": "ee04a2b9-9c2e-418f-a547-d29eee34303e",
     "showTitle": false,
     "title": ""
    }
   },
   "outputs": [
    {
     "output_type": "display_data",
     "data": {
      "text/html": [
       "<div>\n",
       "<style scoped>\n",
       "    .dataframe tbody tr th:only-of-type {\n",
       "        vertical-align: middle;\n",
       "    }\n",
       "\n",
       "    .dataframe tbody tr th {\n",
       "        vertical-align: top;\n",
       "    }\n",
       "\n",
       "    .dataframe thead th {\n",
       "        text-align: right;\n",
       "    }\n",
       "</style>\n",
       "<table border=\"1\" class=\"dataframe\">\n",
       "  <thead>\n",
       "    <tr style=\"text-align: right;\">\n",
       "      <th></th>\n",
       "      <th>order_id</th>\n",
       "      <th>order_date</th>\n",
       "      <th>customer_name</th>\n",
       "      <th>city</th>\n",
       "      <th>category</th>\n",
       "      <th>product_id</th>\n",
       "      <th>sales</th>\n",
       "      <th>profit</th>\n",
       "      <th>return_reason</th>\n",
       "    </tr>\n",
       "  </thead>\n",
       "  <tbody>\n",
       "    <tr>\n",
       "      <th>0</th>\n",
       "      <td>CA-2018-100006</td>\n",
       "      <td>2018-09-07</td>\n",
       "      <td>Dennis Kane</td>\n",
       "      <td>New York City</td>\n",
       "      <td>Technology</td>\n",
       "      <td>TEC-PH-10002075</td>\n",
       "      <td>377.970</td>\n",
       "      <td>109.6113</td>\n",
       "      <td>NaN</td>\n",
       "    </tr>\n",
       "    <tr>\n",
       "      <th>1</th>\n",
       "      <td>CA-2018-100090</td>\n",
       "      <td>2018-07-08</td>\n",
       "      <td>Ed Braxton</td>\n",
       "      <td>San Francisco</td>\n",
       "      <td>Furniture</td>\n",
       "      <td>FUR-TA-10003715</td>\n",
       "      <td>502.488</td>\n",
       "      <td>-87.9354</td>\n",
       "      <td>NaN</td>\n",
       "    </tr>\n",
       "    <tr>\n",
       "      <th>2</th>\n",
       "      <td>CA-2018-100293</td>\n",
       "      <td>2018-03-14</td>\n",
       "      <td>Neil Französisch</td>\n",
       "      <td>Jacksonville</td>\n",
       "      <td>Office Supplies</td>\n",
       "      <td>OFF-PA-10000176</td>\n",
       "      <td>91.056</td>\n",
       "      <td>31.8696</td>\n",
       "      <td>NaN</td>\n",
       "    </tr>\n",
       "    <tr>\n",
       "      <th>3</th>\n",
       "      <td>CA-2018-100328</td>\n",
       "      <td>2018-01-28</td>\n",
       "      <td>Jasper Cacioppo</td>\n",
       "      <td>New York City</td>\n",
       "      <td>Office Supplies</td>\n",
       "      <td>OFF-BI-10000343</td>\n",
       "      <td>3.928</td>\n",
       "      <td>1.3257</td>\n",
       "      <td>NaN</td>\n",
       "    </tr>\n",
       "    <tr>\n",
       "      <th>4</th>\n",
       "      <td>CA-2018-100363</td>\n",
       "      <td>2018-04-08</td>\n",
       "      <td>Jim Mitchum</td>\n",
       "      <td>Glendale</td>\n",
       "      <td>Office Supplies</td>\n",
       "      <td>OFF-FA-10000611</td>\n",
       "      <td>2.368</td>\n",
       "      <td>0.8288</td>\n",
       "      <td>NaN</td>\n",
       "    </tr>\n",
       "    <tr>\n",
       "      <th>...</th>\n",
       "      <td>...</td>\n",
       "      <td>...</td>\n",
       "      <td>...</td>\n",
       "      <td>...</td>\n",
       "      <td>...</td>\n",
       "      <td>...</td>\n",
       "      <td>...</td>\n",
       "      <td>...</td>\n",
       "      <td>...</td>\n",
       "    </tr>\n",
       "    <tr>\n",
       "      <th>5004</th>\n",
       "      <td>US-2021-168802</td>\n",
       "      <td>2021-11-03</td>\n",
       "      <td>Jack O'Briant</td>\n",
       "      <td>Seattle</td>\n",
       "      <td>Office Supplies</td>\n",
       "      <td>OFF-BI-10002393</td>\n",
       "      <td>18.368</td>\n",
       "      <td>5.9696</td>\n",
       "      <td>NaN</td>\n",
       "    </tr>\n",
       "    <tr>\n",
       "      <th>5005</th>\n",
       "      <td>US-2021-169320</td>\n",
       "      <td>2021-07-23</td>\n",
       "      <td>Lena Hernandez</td>\n",
       "      <td>Elkhart</td>\n",
       "      <td>Office Supplies</td>\n",
       "      <td>OFF-AR-10003602</td>\n",
       "      <td>11.680</td>\n",
       "      <td>5.4896</td>\n",
       "      <td>NaN</td>\n",
       "    </tr>\n",
       "    <tr>\n",
       "      <th>5006</th>\n",
       "      <td>US-2021-169488</td>\n",
       "      <td>2021-09-07</td>\n",
       "      <td>Allen Armold</td>\n",
       "      <td>Providence</td>\n",
       "      <td>Office Supplies</td>\n",
       "      <td>OFF-PA-10000157</td>\n",
       "      <td>39.960</td>\n",
       "      <td>18.7812</td>\n",
       "      <td>NaN</td>\n",
       "    </tr>\n",
       "    <tr>\n",
       "      <th>5007</th>\n",
       "      <td>US-2021-169502</td>\n",
       "      <td>2021-08-28</td>\n",
       "      <td>Matthew Grinstein</td>\n",
       "      <td>Milwaukee</td>\n",
       "      <td>Office Supplies</td>\n",
       "      <td>OFF-AP-10001947</td>\n",
       "      <td>91.600</td>\n",
       "      <td>26.5640</td>\n",
       "      <td>NaN</td>\n",
       "    </tr>\n",
       "    <tr>\n",
       "      <th>5008</th>\n",
       "      <td>US-2021-169551</td>\n",
       "      <td>2021-07-07</td>\n",
       "      <td>Rob Lucas</td>\n",
       "      <td>Philadelphia</td>\n",
       "      <td>Furniture</td>\n",
       "      <td>FUR-BO-10001519</td>\n",
       "      <td>87.210</td>\n",
       "      <td>-45.3492</td>\n",
       "      <td>NaN</td>\n",
       "    </tr>\n",
       "  </tbody>\n",
       "</table>\n",
       "<p>5009 rows × 9 columns</p>\n",
       "</div>"
      ]
     },
     "metadata": {
      "application/vnd.databricks.v1+output": {
       "addedWidgets": {},
       "arguments": {},
       "data": "<div>\n<style scoped>\n    .dataframe tbody tr th:only-of-type {\n        vertical-align: middle;\n    }\n\n    .dataframe tbody tr th {\n        vertical-align: top;\n    }\n\n    .dataframe thead th {\n        text-align: right;\n    }\n</style>\n<table border=\"1\" class=\"dataframe\">\n  <thead>\n    <tr style=\"text-align: right;\">\n      <th></th>\n      <th>order_id</th>\n      <th>order_date</th>\n      <th>customer_name</th>\n      <th>city</th>\n      <th>category</th>\n      <th>product_id</th>\n      <th>sales</th>\n      <th>profit</th>\n      <th>return_reason</th>\n    </tr>\n  </thead>\n  <tbody>\n    <tr>\n      <th>0</th>\n      <td>CA-2018-100006</td>\n      <td>2018-09-07</td>\n      <td>Dennis Kane</td>\n      <td>New York City</td>\n      <td>Technology</td>\n      <td>TEC-PH-10002075</td>\n      <td>377.970</td>\n      <td>109.6113</td>\n      <td>NaN</td>\n    </tr>\n    <tr>\n      <th>1</th>\n      <td>CA-2018-100090</td>\n      <td>2018-07-08</td>\n      <td>Ed Braxton</td>\n      <td>San Francisco</td>\n      <td>Furniture</td>\n      <td>FUR-TA-10003715</td>\n      <td>502.488</td>\n      <td>-87.9354</td>\n      <td>NaN</td>\n    </tr>\n    <tr>\n      <th>2</th>\n      <td>CA-2018-100293</td>\n      <td>2018-03-14</td>\n      <td>Neil Französisch</td>\n      <td>Jacksonville</td>\n      <td>Office Supplies</td>\n      <td>OFF-PA-10000176</td>\n      <td>91.056</td>\n      <td>31.8696</td>\n      <td>NaN</td>\n    </tr>\n    <tr>\n      <th>3</th>\n      <td>CA-2018-100328</td>\n      <td>2018-01-28</td>\n      <td>Jasper Cacioppo</td>\n      <td>New York City</td>\n      <td>Office Supplies</td>\n      <td>OFF-BI-10000343</td>\n      <td>3.928</td>\n      <td>1.3257</td>\n      <td>NaN</td>\n    </tr>\n    <tr>\n      <th>4</th>\n      <td>CA-2018-100363</td>\n      <td>2018-04-08</td>\n      <td>Jim Mitchum</td>\n      <td>Glendale</td>\n      <td>Office Supplies</td>\n      <td>OFF-FA-10000611</td>\n      <td>2.368</td>\n      <td>0.8288</td>\n      <td>NaN</td>\n    </tr>\n    <tr>\n      <th>...</th>\n      <td>...</td>\n      <td>...</td>\n      <td>...</td>\n      <td>...</td>\n      <td>...</td>\n      <td>...</td>\n      <td>...</td>\n      <td>...</td>\n      <td>...</td>\n    </tr>\n    <tr>\n      <th>5004</th>\n      <td>US-2021-168802</td>\n      <td>2021-11-03</td>\n      <td>Jack O'Briant</td>\n      <td>Seattle</td>\n      <td>Office Supplies</td>\n      <td>OFF-BI-10002393</td>\n      <td>18.368</td>\n      <td>5.9696</td>\n      <td>NaN</td>\n    </tr>\n    <tr>\n      <th>5005</th>\n      <td>US-2021-169320</td>\n      <td>2021-07-23</td>\n      <td>Lena Hernandez</td>\n      <td>Elkhart</td>\n      <td>Office Supplies</td>\n      <td>OFF-AR-10003602</td>\n      <td>11.680</td>\n      <td>5.4896</td>\n      <td>NaN</td>\n    </tr>\n    <tr>\n      <th>5006</th>\n      <td>US-2021-169488</td>\n      <td>2021-09-07</td>\n      <td>Allen Armold</td>\n      <td>Providence</td>\n      <td>Office Supplies</td>\n      <td>OFF-PA-10000157</td>\n      <td>39.960</td>\n      <td>18.7812</td>\n      <td>NaN</td>\n    </tr>\n    <tr>\n      <th>5007</th>\n      <td>US-2021-169502</td>\n      <td>2021-08-28</td>\n      <td>Matthew Grinstein</td>\n      <td>Milwaukee</td>\n      <td>Office Supplies</td>\n      <td>OFF-AP-10001947</td>\n      <td>91.600</td>\n      <td>26.5640</td>\n      <td>NaN</td>\n    </tr>\n    <tr>\n      <th>5008</th>\n      <td>US-2021-169551</td>\n      <td>2021-07-07</td>\n      <td>Rob Lucas</td>\n      <td>Philadelphia</td>\n      <td>Furniture</td>\n      <td>FUR-BO-10001519</td>\n      <td>87.210</td>\n      <td>-45.3492</td>\n      <td>NaN</td>\n    </tr>\n  </tbody>\n</table>\n<p>5009 rows × 9 columns</p>\n</div>",
       "datasetInfos": [],
       "metadata": {},
       "removedWidgets": [],
       "textData": null,
       "type": "htmlSandbox"
      }
     },
     "output_type": "display_data"
    }
   ],
   "source": [
    "outer_df = pd.merge(df1, df2, how='outer', on='order_id')\n",
    "outer_df"
   ]
  },
  {
   "cell_type": "markdown",
   "metadata": {
    "application/vnd.databricks.v1+cell": {
     "cellMetadata": {},
     "inputWidgets": {},
     "nuid": "a00794e9-2850-45b3-9415-01cc9f314555",
     "showTitle": false,
     "title": ""
    }
   },
   "source": []
  },
  {
   "cell_type": "markdown",
   "metadata": {
    "application/vnd.databricks.v1+cell": {
     "cellMetadata": {},
     "inputWidgets": {},
     "nuid": "85c537ba-15ab-40cf-817a-c167a716abc5",
     "showTitle": false,
     "title": ""
    }
   },
   "source": [
    "##### Cross join\n",
    "for each record in the first dataframe, will have all the records from the second dataframe"
   ]
  },
  {
   "cell_type": "code",
   "execution_count": 0,
   "metadata": {
    "application/vnd.databricks.v1+cell": {
     "cellMetadata": {
      "byteLimit": 2048000,
      "rowLimit": 10000
     },
     "inputWidgets": {},
     "nuid": "46b10cc3-fafe-4a48-895c-0e2ff949d045",
     "showTitle": false,
     "title": ""
    }
   },
   "outputs": [
    {
     "output_type": "display_data",
     "data": {
      "text/html": [
       "<div>\n",
       "<style scoped>\n",
       "    .dataframe tbody tr th:only-of-type {\n",
       "        vertical-align: middle;\n",
       "    }\n",
       "\n",
       "    .dataframe tbody tr th {\n",
       "        vertical-align: top;\n",
       "    }\n",
       "\n",
       "    .dataframe thead th {\n",
       "        text-align: right;\n",
       "    }\n",
       "</style>\n",
       "<table border=\"1\" class=\"dataframe\">\n",
       "  <thead>\n",
       "    <tr style=\"text-align: right;\">\n",
       "      <th></th>\n",
       "      <th>order_id_x</th>\n",
       "      <th>order_date</th>\n",
       "      <th>customer_name</th>\n",
       "      <th>city</th>\n",
       "      <th>category</th>\n",
       "      <th>product_id</th>\n",
       "      <th>sales</th>\n",
       "      <th>profit</th>\n",
       "      <th>order_id_y</th>\n",
       "      <th>return_reason</th>\n",
       "    </tr>\n",
       "  </thead>\n",
       "  <tbody>\n",
       "    <tr>\n",
       "      <th>0</th>\n",
       "      <td>CA-2018-100006</td>\n",
       "      <td>2018-09-07</td>\n",
       "      <td>Dennis Kane</td>\n",
       "      <td>New York City</td>\n",
       "      <td>Technology</td>\n",
       "      <td>TEC-PH-10002075</td>\n",
       "      <td>377.97</td>\n",
       "      <td>109.6113</td>\n",
       "      <td>CA-2020-104689</td>\n",
       "      <td>Wrong Items</td>\n",
       "    </tr>\n",
       "    <tr>\n",
       "      <th>1</th>\n",
       "      <td>CA-2018-100006</td>\n",
       "      <td>2018-09-07</td>\n",
       "      <td>Dennis Kane</td>\n",
       "      <td>New York City</td>\n",
       "      <td>Technology</td>\n",
       "      <td>TEC-PH-10002075</td>\n",
       "      <td>377.97</td>\n",
       "      <td>109.6113</td>\n",
       "      <td>CA-2020-105081</td>\n",
       "      <td>Wrong Items</td>\n",
       "    </tr>\n",
       "    <tr>\n",
       "      <th>2</th>\n",
       "      <td>CA-2018-100006</td>\n",
       "      <td>2018-09-07</td>\n",
       "      <td>Dennis Kane</td>\n",
       "      <td>New York City</td>\n",
       "      <td>Technology</td>\n",
       "      <td>TEC-PH-10002075</td>\n",
       "      <td>377.97</td>\n",
       "      <td>109.6113</td>\n",
       "      <td>CA-2020-105291</td>\n",
       "      <td>Wrong Items</td>\n",
       "    </tr>\n",
       "    <tr>\n",
       "      <th>3</th>\n",
       "      <td>CA-2018-100006</td>\n",
       "      <td>2018-09-07</td>\n",
       "      <td>Dennis Kane</td>\n",
       "      <td>New York City</td>\n",
       "      <td>Technology</td>\n",
       "      <td>TEC-PH-10002075</td>\n",
       "      <td>377.97</td>\n",
       "      <td>109.6113</td>\n",
       "      <td>CA-2020-105585</td>\n",
       "      <td>Wrong Items</td>\n",
       "    </tr>\n",
       "    <tr>\n",
       "      <th>4</th>\n",
       "      <td>CA-2018-100006</td>\n",
       "      <td>2018-09-07</td>\n",
       "      <td>Dennis Kane</td>\n",
       "      <td>New York City</td>\n",
       "      <td>Technology</td>\n",
       "      <td>TEC-PH-10002075</td>\n",
       "      <td>377.97</td>\n",
       "      <td>109.6113</td>\n",
       "      <td>CA-2020-106950</td>\n",
       "      <td>Wrong Items</td>\n",
       "    </tr>\n",
       "    <tr>\n",
       "      <th>...</th>\n",
       "      <td>...</td>\n",
       "      <td>...</td>\n",
       "      <td>...</td>\n",
       "      <td>...</td>\n",
       "      <td>...</td>\n",
       "      <td>...</td>\n",
       "      <td>...</td>\n",
       "      <td>...</td>\n",
       "      <td>...</td>\n",
       "      <td>...</td>\n",
       "    </tr>\n",
       "    <tr>\n",
       "      <th>1482659</th>\n",
       "      <td>US-2021-169551</td>\n",
       "      <td>2021-07-07</td>\n",
       "      <td>Rob Lucas</td>\n",
       "      <td>Philadelphia</td>\n",
       "      <td>Furniture</td>\n",
       "      <td>FUR-BO-10001519</td>\n",
       "      <td>87.21</td>\n",
       "      <td>-45.3492</td>\n",
       "      <td>US-2021-136679</td>\n",
       "      <td>Others</td>\n",
       "    </tr>\n",
       "    <tr>\n",
       "      <th>1482660</th>\n",
       "      <td>US-2021-169551</td>\n",
       "      <td>2021-07-07</td>\n",
       "      <td>Rob Lucas</td>\n",
       "      <td>Philadelphia</td>\n",
       "      <td>Furniture</td>\n",
       "      <td>FUR-BO-10001519</td>\n",
       "      <td>87.21</td>\n",
       "      <td>-45.3492</td>\n",
       "      <td>US-2021-147886</td>\n",
       "      <td>Others</td>\n",
       "    </tr>\n",
       "    <tr>\n",
       "      <th>1482661</th>\n",
       "      <td>US-2021-169551</td>\n",
       "      <td>2021-07-07</td>\n",
       "      <td>Rob Lucas</td>\n",
       "      <td>Philadelphia</td>\n",
       "      <td>Furniture</td>\n",
       "      <td>FUR-BO-10001519</td>\n",
       "      <td>87.21</td>\n",
       "      <td>-45.3492</td>\n",
       "      <td>US-2021-147998</td>\n",
       "      <td>Wrong Items</td>\n",
       "    </tr>\n",
       "    <tr>\n",
       "      <th>1482662</th>\n",
       "      <td>US-2021-169551</td>\n",
       "      <td>2021-07-07</td>\n",
       "      <td>Rob Lucas</td>\n",
       "      <td>Philadelphia</td>\n",
       "      <td>Furniture</td>\n",
       "      <td>FUR-BO-10001519</td>\n",
       "      <td>87.21</td>\n",
       "      <td>-45.3492</td>\n",
       "      <td>US-2021-151127</td>\n",
       "      <td>Wrong Items</td>\n",
       "    </tr>\n",
       "    <tr>\n",
       "      <th>1482663</th>\n",
       "      <td>US-2021-169551</td>\n",
       "      <td>2021-07-07</td>\n",
       "      <td>Rob Lucas</td>\n",
       "      <td>Philadelphia</td>\n",
       "      <td>Furniture</td>\n",
       "      <td>FUR-BO-10001519</td>\n",
       "      <td>87.21</td>\n",
       "      <td>-45.3492</td>\n",
       "      <td>US-2021-155999</td>\n",
       "      <td>Wrong Items</td>\n",
       "    </tr>\n",
       "  </tbody>\n",
       "</table>\n",
       "<p>1482664 rows × 10 columns</p>\n",
       "</div>"
      ]
     },
     "metadata": {
      "application/vnd.databricks.v1+output": {
       "addedWidgets": {},
       "arguments": {},
       "data": "<div>\n<style scoped>\n    .dataframe tbody tr th:only-of-type {\n        vertical-align: middle;\n    }\n\n    .dataframe tbody tr th {\n        vertical-align: top;\n    }\n\n    .dataframe thead th {\n        text-align: right;\n    }\n</style>\n<table border=\"1\" class=\"dataframe\">\n  <thead>\n    <tr style=\"text-align: right;\">\n      <th></th>\n      <th>order_id_x</th>\n      <th>order_date</th>\n      <th>customer_name</th>\n      <th>city</th>\n      <th>category</th>\n      <th>product_id</th>\n      <th>sales</th>\n      <th>profit</th>\n      <th>order_id_y</th>\n      <th>return_reason</th>\n    </tr>\n  </thead>\n  <tbody>\n    <tr>\n      <th>0</th>\n      <td>CA-2018-100006</td>\n      <td>2018-09-07</td>\n      <td>Dennis Kane</td>\n      <td>New York City</td>\n      <td>Technology</td>\n      <td>TEC-PH-10002075</td>\n      <td>377.97</td>\n      <td>109.6113</td>\n      <td>CA-2020-104689</td>\n      <td>Wrong Items</td>\n    </tr>\n    <tr>\n      <th>1</th>\n      <td>CA-2018-100006</td>\n      <td>2018-09-07</td>\n      <td>Dennis Kane</td>\n      <td>New York City</td>\n      <td>Technology</td>\n      <td>TEC-PH-10002075</td>\n      <td>377.97</td>\n      <td>109.6113</td>\n      <td>CA-2020-105081</td>\n      <td>Wrong Items</td>\n    </tr>\n    <tr>\n      <th>2</th>\n      <td>CA-2018-100006</td>\n      <td>2018-09-07</td>\n      <td>Dennis Kane</td>\n      <td>New York City</td>\n      <td>Technology</td>\n      <td>TEC-PH-10002075</td>\n      <td>377.97</td>\n      <td>109.6113</td>\n      <td>CA-2020-105291</td>\n      <td>Wrong Items</td>\n    </tr>\n    <tr>\n      <th>3</th>\n      <td>CA-2018-100006</td>\n      <td>2018-09-07</td>\n      <td>Dennis Kane</td>\n      <td>New York City</td>\n      <td>Technology</td>\n      <td>TEC-PH-10002075</td>\n      <td>377.97</td>\n      <td>109.6113</td>\n      <td>CA-2020-105585</td>\n      <td>Wrong Items</td>\n    </tr>\n    <tr>\n      <th>4</th>\n      <td>CA-2018-100006</td>\n      <td>2018-09-07</td>\n      <td>Dennis Kane</td>\n      <td>New York City</td>\n      <td>Technology</td>\n      <td>TEC-PH-10002075</td>\n      <td>377.97</td>\n      <td>109.6113</td>\n      <td>CA-2020-106950</td>\n      <td>Wrong Items</td>\n    </tr>\n    <tr>\n      <th>...</th>\n      <td>...</td>\n      <td>...</td>\n      <td>...</td>\n      <td>...</td>\n      <td>...</td>\n      <td>...</td>\n      <td>...</td>\n      <td>...</td>\n      <td>...</td>\n      <td>...</td>\n    </tr>\n    <tr>\n      <th>1482659</th>\n      <td>US-2021-169551</td>\n      <td>2021-07-07</td>\n      <td>Rob Lucas</td>\n      <td>Philadelphia</td>\n      <td>Furniture</td>\n      <td>FUR-BO-10001519</td>\n      <td>87.21</td>\n      <td>-45.3492</td>\n      <td>US-2021-136679</td>\n      <td>Others</td>\n    </tr>\n    <tr>\n      <th>1482660</th>\n      <td>US-2021-169551</td>\n      <td>2021-07-07</td>\n      <td>Rob Lucas</td>\n      <td>Philadelphia</td>\n      <td>Furniture</td>\n      <td>FUR-BO-10001519</td>\n      <td>87.21</td>\n      <td>-45.3492</td>\n      <td>US-2021-147886</td>\n      <td>Others</td>\n    </tr>\n    <tr>\n      <th>1482661</th>\n      <td>US-2021-169551</td>\n      <td>2021-07-07</td>\n      <td>Rob Lucas</td>\n      <td>Philadelphia</td>\n      <td>Furniture</td>\n      <td>FUR-BO-10001519</td>\n      <td>87.21</td>\n      <td>-45.3492</td>\n      <td>US-2021-147998</td>\n      <td>Wrong Items</td>\n    </tr>\n    <tr>\n      <th>1482662</th>\n      <td>US-2021-169551</td>\n      <td>2021-07-07</td>\n      <td>Rob Lucas</td>\n      <td>Philadelphia</td>\n      <td>Furniture</td>\n      <td>FUR-BO-10001519</td>\n      <td>87.21</td>\n      <td>-45.3492</td>\n      <td>US-2021-151127</td>\n      <td>Wrong Items</td>\n    </tr>\n    <tr>\n      <th>1482663</th>\n      <td>US-2021-169551</td>\n      <td>2021-07-07</td>\n      <td>Rob Lucas</td>\n      <td>Philadelphia</td>\n      <td>Furniture</td>\n      <td>FUR-BO-10001519</td>\n      <td>87.21</td>\n      <td>-45.3492</td>\n      <td>US-2021-155999</td>\n      <td>Wrong Items</td>\n    </tr>\n  </tbody>\n</table>\n<p>1482664 rows × 10 columns</p>\n</div>",
       "datasetInfos": [],
       "metadata": {},
       "removedWidgets": [],
       "textData": null,
       "type": "htmlSandbox"
      }
     },
     "output_type": "display_data"
    }
   ],
   "source": [
    "cross_df = pd.merge(df1, df2, how='cross')\n",
    "cross_df"
   ]
  },
  {
   "cell_type": "markdown",
   "metadata": {
    "application/vnd.databricks.v1+cell": {
     "cellMetadata": {},
     "inputWidgets": {},
     "nuid": "1217d449-7957-4289-9446-342593f66f5d",
     "showTitle": false,
     "title": ""
    }
   },
   "source": []
  },
  {
   "cell_type": "markdown",
   "metadata": {
    "application/vnd.databricks.v1+cell": {
     "cellMetadata": {},
     "inputWidgets": {},
     "nuid": "ca3266e1-0af3-4f03-8634-494d9236c1fa",
     "showTitle": false,
     "title": ""
    }
   },
   "source": [
    "##### Joining on Multiple Columns\n",
    "If you want to join on multiple columns, you can pass a list to the on parameter."
   ]
  },
  {
   "cell_type": "code",
   "execution_count": 0,
   "metadata": {
    "application/vnd.databricks.v1+cell": {
     "cellMetadata": {
      "byteLimit": 2048000,
      "rowLimit": 10000
     },
     "inputWidgets": {},
     "nuid": "a8a2c281-3328-4306-a552-e5ec336ccdfc",
     "showTitle": false,
     "title": ""
    }
   },
   "outputs": [],
   "source": [
    "# result = pd.merge(df1, df2, how='inner', on=['column1', 'column2'])"
   ]
  },
  {
   "cell_type": "code",
   "execution_count": 0,
   "metadata": {
    "application/vnd.databricks.v1+cell": {
     "cellMetadata": {},
     "inputWidgets": {},
     "nuid": "5e057c02-68b2-41f4-bcd2-19b8ccecb0ba",
     "showTitle": false,
     "title": ""
    }
   },
   "outputs": [],
   "source": [
    "# We  dont have any common value column in both the dataframes other than order_id\n",
    "# pd.merge(left = df , right = dfr ,how = 'inner' ,  left_on=['column1', 'column2'] , right_on = ['column1', 'column2'])"
   ]
  }
 ],
 "metadata": {
  "application/vnd.databricks.v1+notebook": {
   "dashboards": [],
   "environmentMetadata": null,
   "language": "python",
   "notebookMetadata": {
    "mostRecentlyExecutedCommandWithImplicitDF": {
     "commandId": 3214408560656871,
     "dataframes": [
      "_sqldf"
     ]
    },
    "pythonIndentUnit": 4
   },
   "notebookName": "pandas_3.1",
   "widgets": {}
  }
 },
 "nbformat": 4,
 "nbformat_minor": 0
}
