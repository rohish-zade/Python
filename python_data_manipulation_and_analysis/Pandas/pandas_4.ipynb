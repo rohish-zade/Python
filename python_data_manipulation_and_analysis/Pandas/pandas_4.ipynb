{
 "cells": [
  {
   "cell_type": "code",
   "execution_count": null,
   "metadata": {
    "application/vnd.databricks.v1+cell": {
     "cellMetadata": {
      "byteLimit": 2048000,
      "rowLimit": 10000
     },
     "inputWidgets": {},
     "nuid": "740c5eea-00a5-46a5-bc99-9e6c68561bf0",
     "showTitle": false,
     "title": ""
    }
   },
   "outputs": [
    {
     "data": {
      "application/vnd.databricks.v1+bamboolib_hint": "{\"pd.DataFrames\": [], \"version\": \"0.0.1\"}",
      "text/plain": []
     },
     "metadata": {},
     "output_type": "display_data"
    }
   ],
   "source": [
    "import pandas as pd"
   ]
  },
  {
   "cell_type": "code",
   "execution_count": null,
   "metadata": {
    "application/vnd.databricks.v1+cell": {
     "cellMetadata": {
      "byteLimit": 2048000,
      "rowLimit": 10000
     },
     "inputWidgets": {},
     "nuid": "4a1a76b5-98de-4f25-932f-d85220416c64",
     "showTitle": false,
     "title": ""
    }
   },
   "outputs": [
    {
     "data": {
      "text/html": [
       "<style scoped>\n",
       "  .ansiout {\n",
       "    display: block;\n",
       "    unicode-bidi: embed;\n",
       "    white-space: pre-wrap;\n",
       "    word-wrap: break-word;\n",
       "    word-break: break-all;\n",
       "    font-family: \"Menlo\", \"Monaco\", \"Consolas\", \"Ubuntu Mono\", \"Source Code Pro\", monospace;\n",
       "    font-size: 13px;\n",
       "    color: #555;\n",
       "    margin-left: 4px;\n",
       "    line-height: 19px;\n",
       "  }\n",
       "</style>\n",
       "<div class=\"ansiout\">res0: Boolean = true\n",
       "</div>"
      ]
     },
     "metadata": {
      "application/vnd.databricks.v1+output": {
       "addedWidgets": {},
       "arguments": {},
       "data": "<div class=\"ansiout\">res0: Boolean = true\n</div>",
       "datasetInfos": [],
       "metadata": {
        "isDbfsCommandResult": false
       },
       "removedWidgets": [],
       "type": "html"
      }
     },
     "output_type": "display_data"
    }
   ],
   "source": [
    "%fs \n",
    "cp dbfs:/FileStore/shared_uploads/zaderohish5@gmail.com/returns.txt file:/databricks/driver/"
   ]
  },
  {
   "cell_type": "markdown",
   "metadata": {
    "application/vnd.databricks.v1+cell": {
     "cellMetadata": {},
     "inputWidgets": {},
     "nuid": "e92a3e59-01c0-439f-b970-85f49888019d",
     "showTitle": false,
     "title": ""
    }
   },
   "source": [
    "### Pandas Day 4: time series, TypeCasting and working with other file types"
   ]
  },
  {
   "cell_type": "code",
   "execution_count": null,
   "metadata": {
    "application/vnd.databricks.v1+cell": {
     "cellMetadata": {
      "byteLimit": 2048000,
      "rowLimit": 10000
     },
     "inputWidgets": {},
     "nuid": "13112fd0-526f-48e8-8337-3b95fb06b3ea",
     "showTitle": false,
     "title": ""
    }
   },
   "outputs": [
    {
     "data": {
      "text/html": [
       "<div>\n",
       "<style scoped>\n",
       "    .dataframe tbody tr th:only-of-type {\n",
       "        vertical-align: middle;\n",
       "    }\n",
       "\n",
       "    .dataframe tbody tr th {\n",
       "        vertical-align: top;\n",
       "    }\n",
       "\n",
       "    .dataframe thead th {\n",
       "        text-align: right;\n",
       "    }\n",
       "</style>\n",
       "<table border=\"1\" class=\"dataframe\">\n",
       "  <thead>\n",
       "    <tr style=\"text-align: right;\">\n",
       "      <th></th>\n",
       "      <th>order_id</th>\n",
       "      <th>order_date</th>\n",
       "      <th>customer_name</th>\n",
       "      <th>city</th>\n",
       "      <th>category</th>\n",
       "      <th>product_id</th>\n",
       "      <th>sales</th>\n",
       "      <th>profit</th>\n",
       "    </tr>\n",
       "  </thead>\n",
       "  <tbody>\n",
       "    <tr>\n",
       "      <th>0</th>\n",
       "      <td>CA-2018-100006</td>\n",
       "      <td>2018-09-07</td>\n",
       "      <td>Dennis Kane</td>\n",
       "      <td>New York City</td>\n",
       "      <td>Technology</td>\n",
       "      <td>TEC-PH-10002075</td>\n",
       "      <td>377.970</td>\n",
       "      <td>109.6113</td>\n",
       "    </tr>\n",
       "    <tr>\n",
       "      <th>1</th>\n",
       "      <td>CA-2018-100090</td>\n",
       "      <td>2018-07-08</td>\n",
       "      <td>Ed Braxton</td>\n",
       "      <td>San Francisco</td>\n",
       "      <td>Furniture</td>\n",
       "      <td>FUR-TA-10003715</td>\n",
       "      <td>502.488</td>\n",
       "      <td>-87.9354</td>\n",
       "    </tr>\n",
       "    <tr>\n",
       "      <th>2</th>\n",
       "      <td>CA-2018-100293</td>\n",
       "      <td>2018-03-14</td>\n",
       "      <td>Neil Französisch</td>\n",
       "      <td>Jacksonville</td>\n",
       "      <td>Office Supplies</td>\n",
       "      <td>OFF-PA-10000176</td>\n",
       "      <td>91.056</td>\n",
       "      <td>31.8696</td>\n",
       "    </tr>\n",
       "    <tr>\n",
       "      <th>3</th>\n",
       "      <td>CA-2018-100328</td>\n",
       "      <td>2018-01-28</td>\n",
       "      <td>Jasper Cacioppo</td>\n",
       "      <td>New York City</td>\n",
       "      <td>Office Supplies</td>\n",
       "      <td>OFF-BI-10000343</td>\n",
       "      <td>3.928</td>\n",
       "      <td>1.3257</td>\n",
       "    </tr>\n",
       "    <tr>\n",
       "      <th>4</th>\n",
       "      <td>CA-2018-100363</td>\n",
       "      <td>2018-04-08</td>\n",
       "      <td>Jim Mitchum</td>\n",
       "      <td>Glendale</td>\n",
       "      <td>Office Supplies</td>\n",
       "      <td>OFF-FA-10000611</td>\n",
       "      <td>2.368</td>\n",
       "      <td>0.8288</td>\n",
       "    </tr>\n",
       "    <tr>\n",
       "      <th>...</th>\n",
       "      <td>...</td>\n",
       "      <td>...</td>\n",
       "      <td>...</td>\n",
       "      <td>...</td>\n",
       "      <td>...</td>\n",
       "      <td>...</td>\n",
       "      <td>...</td>\n",
       "      <td>...</td>\n",
       "    </tr>\n",
       "    <tr>\n",
       "      <th>5004</th>\n",
       "      <td>US-2021-168802</td>\n",
       "      <td>2021-11-03</td>\n",
       "      <td>Jack O'Briant</td>\n",
       "      <td>Seattle</td>\n",
       "      <td>Office Supplies</td>\n",
       "      <td>OFF-BI-10002393</td>\n",
       "      <td>18.368</td>\n",
       "      <td>5.9696</td>\n",
       "    </tr>\n",
       "    <tr>\n",
       "      <th>5005</th>\n",
       "      <td>US-2021-169320</td>\n",
       "      <td>2021-07-23</td>\n",
       "      <td>Lena Hernandez</td>\n",
       "      <td>Elkhart</td>\n",
       "      <td>Office Supplies</td>\n",
       "      <td>OFF-AR-10003602</td>\n",
       "      <td>11.680</td>\n",
       "      <td>5.4896</td>\n",
       "    </tr>\n",
       "    <tr>\n",
       "      <th>5006</th>\n",
       "      <td>US-2021-169488</td>\n",
       "      <td>2021-09-07</td>\n",
       "      <td>Allen Armold</td>\n",
       "      <td>Providence</td>\n",
       "      <td>Office Supplies</td>\n",
       "      <td>OFF-PA-10000157</td>\n",
       "      <td>39.960</td>\n",
       "      <td>18.7812</td>\n",
       "    </tr>\n",
       "    <tr>\n",
       "      <th>5007</th>\n",
       "      <td>US-2021-169502</td>\n",
       "      <td>2021-08-28</td>\n",
       "      <td>Matthew Grinstein</td>\n",
       "      <td>Milwaukee</td>\n",
       "      <td>Office Supplies</td>\n",
       "      <td>OFF-AP-10001947</td>\n",
       "      <td>91.600</td>\n",
       "      <td>26.5640</td>\n",
       "    </tr>\n",
       "    <tr>\n",
       "      <th>5008</th>\n",
       "      <td>US-2021-169551</td>\n",
       "      <td>2021-07-07</td>\n",
       "      <td>Rob Lucas</td>\n",
       "      <td>Philadelphia</td>\n",
       "      <td>Furniture</td>\n",
       "      <td>FUR-BO-10001519</td>\n",
       "      <td>87.210</td>\n",
       "      <td>-45.3492</td>\n",
       "    </tr>\n",
       "  </tbody>\n",
       "</table>\n",
       "<p>5009 rows × 8 columns</p>\n",
       "</div>"
      ]
     },
     "metadata": {
      "application/vnd.databricks.v1+output": {
       "addedWidgets": {},
       "arguments": {},
       "data": "<div>\n<style scoped>\n    .dataframe tbody tr th:only-of-type {\n        vertical-align: middle;\n    }\n\n    .dataframe tbody tr th {\n        vertical-align: top;\n    }\n\n    .dataframe thead th {\n        text-align: right;\n    }\n</style>\n<table border=\"1\" class=\"dataframe\">\n  <thead>\n    <tr style=\"text-align: right;\">\n      <th></th>\n      <th>order_id</th>\n      <th>order_date</th>\n      <th>customer_name</th>\n      <th>city</th>\n      <th>category</th>\n      <th>product_id</th>\n      <th>sales</th>\n      <th>profit</th>\n    </tr>\n  </thead>\n  <tbody>\n    <tr>\n      <th>0</th>\n      <td>CA-2018-100006</td>\n      <td>2018-09-07</td>\n      <td>Dennis Kane</td>\n      <td>New York City</td>\n      <td>Technology</td>\n      <td>TEC-PH-10002075</td>\n      <td>377.970</td>\n      <td>109.6113</td>\n    </tr>\n    <tr>\n      <th>1</th>\n      <td>CA-2018-100090</td>\n      <td>2018-07-08</td>\n      <td>Ed Braxton</td>\n      <td>San Francisco</td>\n      <td>Furniture</td>\n      <td>FUR-TA-10003715</td>\n      <td>502.488</td>\n      <td>-87.9354</td>\n    </tr>\n    <tr>\n      <th>2</th>\n      <td>CA-2018-100293</td>\n      <td>2018-03-14</td>\n      <td>Neil Französisch</td>\n      <td>Jacksonville</td>\n      <td>Office Supplies</td>\n      <td>OFF-PA-10000176</td>\n      <td>91.056</td>\n      <td>31.8696</td>\n    </tr>\n    <tr>\n      <th>3</th>\n      <td>CA-2018-100328</td>\n      <td>2018-01-28</td>\n      <td>Jasper Cacioppo</td>\n      <td>New York City</td>\n      <td>Office Supplies</td>\n      <td>OFF-BI-10000343</td>\n      <td>3.928</td>\n      <td>1.3257</td>\n    </tr>\n    <tr>\n      <th>4</th>\n      <td>CA-2018-100363</td>\n      <td>2018-04-08</td>\n      <td>Jim Mitchum</td>\n      <td>Glendale</td>\n      <td>Office Supplies</td>\n      <td>OFF-FA-10000611</td>\n      <td>2.368</td>\n      <td>0.8288</td>\n    </tr>\n    <tr>\n      <th>...</th>\n      <td>...</td>\n      <td>...</td>\n      <td>...</td>\n      <td>...</td>\n      <td>...</td>\n      <td>...</td>\n      <td>...</td>\n      <td>...</td>\n    </tr>\n    <tr>\n      <th>5004</th>\n      <td>US-2021-168802</td>\n      <td>2021-11-03</td>\n      <td>Jack O'Briant</td>\n      <td>Seattle</td>\n      <td>Office Supplies</td>\n      <td>OFF-BI-10002393</td>\n      <td>18.368</td>\n      <td>5.9696</td>\n    </tr>\n    <tr>\n      <th>5005</th>\n      <td>US-2021-169320</td>\n      <td>2021-07-23</td>\n      <td>Lena Hernandez</td>\n      <td>Elkhart</td>\n      <td>Office Supplies</td>\n      <td>OFF-AR-10003602</td>\n      <td>11.680</td>\n      <td>5.4896</td>\n    </tr>\n    <tr>\n      <th>5006</th>\n      <td>US-2021-169488</td>\n      <td>2021-09-07</td>\n      <td>Allen Armold</td>\n      <td>Providence</td>\n      <td>Office Supplies</td>\n      <td>OFF-PA-10000157</td>\n      <td>39.960</td>\n      <td>18.7812</td>\n    </tr>\n    <tr>\n      <th>5007</th>\n      <td>US-2021-169502</td>\n      <td>2021-08-28</td>\n      <td>Matthew Grinstein</td>\n      <td>Milwaukee</td>\n      <td>Office Supplies</td>\n      <td>OFF-AP-10001947</td>\n      <td>91.600</td>\n      <td>26.5640</td>\n    </tr>\n    <tr>\n      <th>5008</th>\n      <td>US-2021-169551</td>\n      <td>2021-07-07</td>\n      <td>Rob Lucas</td>\n      <td>Philadelphia</td>\n      <td>Furniture</td>\n      <td>FUR-BO-10001519</td>\n      <td>87.210</td>\n      <td>-45.3492</td>\n    </tr>\n  </tbody>\n</table>\n<p>5009 rows × 8 columns</p>\n</div>",
       "datasetInfos": [],
       "metadata": {},
       "removedWidgets": [],
       "textData": null,
       "type": "htmlSandbox"
      }
     },
     "output_type": "display_data"
    }
   ],
   "source": [
    "df = pd.read_csv('orders.txt')\n",
    "df"
   ]
  },
  {
   "cell_type": "markdown",
   "metadata": {
    "application/vnd.databricks.v1+cell": {
     "cellMetadata": {},
     "inputWidgets": {},
     "nuid": "943451d0-cb5a-41a1-b751-e42ff36fe666",
     "showTitle": false,
     "title": ""
    }
   },
   "source": []
  },
  {
   "cell_type": "markdown",
   "metadata": {
    "application/vnd.databricks.v1+cell": {
     "cellMetadata": {},
     "inputWidgets": {},
     "nuid": "fdbc035f-ee68-474d-a078-024c9d2593b2",
     "showTitle": false,
     "title": ""
    }
   },
   "source": [
    "#### Time Series in Pandas\n",
    "- Time series data is a sequence of data points recorded over time, often at regular intervals. \n",
    "- Pandas, a powerful Python library for data analysis, offers extensive functionality for handling time series data."
   ]
  },
  {
   "cell_type": "markdown",
   "metadata": {
    "application/vnd.databricks.v1+cell": {
     "cellMetadata": {},
     "inputWidgets": {},
     "nuid": "9a21e513-8360-4ef8-988a-b5dd70b20041",
     "showTitle": false,
     "title": ""
    }
   },
   "source": [
    "##### Datetime Index: \n",
    "\n",
    "The index of the DataFrame is often converted to a datetime index for easy manipulation of time series data."
   ]
  },
  {
   "cell_type": "code",
   "execution_count": null,
   "metadata": {
    "application/vnd.databricks.v1+cell": {
     "cellMetadata": {
      "byteLimit": 2048000,
      "rowLimit": 10000
     },
     "inputWidgets": {},
     "nuid": "00f86483-e409-4c63-89cf-e9380c4408c6",
     "showTitle": false,
     "title": ""
    }
   },
   "outputs": [
    {
     "name": "stdout",
     "output_type": "stream",
     "text": [
      "Out[4]: order_id          object\n",
      "order_date        object\n",
      "customer_name     object\n",
      "city              object\n",
      "category          object\n",
      "product_id        object\n",
      "sales            float64\n",
      "profit           float64\n",
      "dtype: object"
     ]
    }
   ],
   "source": [
    "# order_date is representing date data but it stored as an object\n",
    "df.dtypes"
   ]
  },
  {
   "cell_type": "code",
   "execution_count": null,
   "metadata": {
    "application/vnd.databricks.v1+cell": {
     "cellMetadata": {
      "byteLimit": 2048000,
      "rowLimit": 10000
     },
     "inputWidgets": {},
     "nuid": "cb86ee3b-a9a8-420b-a862-85e199199d56",
     "showTitle": false,
     "title": ""
    }
   },
   "outputs": [
    {
     "name": "stdout",
     "output_type": "stream",
     "text": [
      "Out[8]: order_id                 object\n",
      "order_date       datetime64[ns]\n",
      "customer_name            object\n",
      "city                     object\n",
      "category                 object\n",
      "product_id               object\n",
      "sales                   float64\n",
      "profit                  float64\n",
      "dtype: object"
     ]
    }
   ],
   "source": [
    "# casting to date while reading using parse_dates\n",
    "pd.read_csv('orders.txt',parse_dates=['order_date']).dtypes\n"
   ]
  },
  {
   "cell_type": "code",
   "execution_count": null,
   "metadata": {
    "application/vnd.databricks.v1+cell": {
     "cellMetadata": {
      "byteLimit": 2048000,
      "rowLimit": 10000
     },
     "inputWidgets": {},
     "nuid": "6826f6ec-59b1-4385-bcdd-62f4fdfb9efa",
     "showTitle": false,
     "title": ""
    }
   },
   "outputs": [
    {
     "name": "stdout",
     "output_type": "stream",
     "text": [
      "Out[12]: order_id                 object\n",
      "order_date       datetime64[ns]\n",
      "customer_name            object\n",
      "city                     object\n",
      "category                 object\n",
      "product_id               object\n",
      "sales                   float64\n",
      "profit                  float64\n",
      "dtype: object"
     ]
    }
   ],
   "source": [
    "# using to_datetime\n",
    "df['order_date'] = pd.to_datetime(df['order_date'])\n",
    "df.dtypes"
   ]
  },
  {
   "cell_type": "code",
   "execution_count": null,
   "metadata": {
    "application/vnd.databricks.v1+cell": {
     "cellMetadata": {
      "byteLimit": 2048000,
      "rowLimit": 10000
     },
     "inputWidgets": {},
     "nuid": "37709df4-6284-4770-b845-6bb6ffa77581",
     "showTitle": false,
     "title": ""
    }
   },
   "outputs": [
    {
     "name": "stdout",
     "output_type": "stream",
     "text": [
      "Out[23]: Index(['2020/01/01', '2021-4-05'], dtype='object')"
     ]
    }
   ],
   "source": [
    "dates = ['2020/01/01', '2021-4-05']\n",
    "# pd.to_datetime(dates)\n",
    "# pd.to_datetime(dates, format='%Y-%m-%d')\n",
    "pd.to_datetime(dates, format='mixed', errors='ignore') # to ignore errors and save values as it is"
   ]
  },
  {
   "cell_type": "code",
   "execution_count": null,
   "metadata": {
    "application/vnd.databricks.v1+cell": {
     "cellMetadata": {
      "byteLimit": 2048000,
      "rowLimit": 10000
     },
     "inputWidgets": {},
     "nuid": "ce0c24b6-e162-4983-8400-7a20ebd927ce",
     "showTitle": false,
     "title": ""
    }
   },
   "outputs": [
    {
     "data": {
      "text/html": [
       "<div>\n",
       "<style scoped>\n",
       "    .dataframe tbody tr th:only-of-type {\n",
       "        vertical-align: middle;\n",
       "    }\n",
       "\n",
       "    .dataframe tbody tr th {\n",
       "        vertical-align: top;\n",
       "    }\n",
       "\n",
       "    .dataframe thead th {\n",
       "        text-align: right;\n",
       "    }\n",
       "</style>\n",
       "<table border=\"1\" class=\"dataframe\">\n",
       "  <thead>\n",
       "    <tr style=\"text-align: right;\">\n",
       "      <th></th>\n",
       "      <th>order_id</th>\n",
       "      <th>customer_name</th>\n",
       "      <th>city</th>\n",
       "      <th>category</th>\n",
       "      <th>product_id</th>\n",
       "      <th>sales</th>\n",
       "      <th>profit</th>\n",
       "    </tr>\n",
       "    <tr>\n",
       "      <th>order_date</th>\n",
       "      <th></th>\n",
       "      <th></th>\n",
       "      <th></th>\n",
       "      <th></th>\n",
       "      <th></th>\n",
       "      <th></th>\n",
       "      <th></th>\n",
       "    </tr>\n",
       "  </thead>\n",
       "  <tbody>\n",
       "    <tr>\n",
       "      <th>2018-09-07</th>\n",
       "      <td>CA-2018-100006</td>\n",
       "      <td>Dennis Kane</td>\n",
       "      <td>New York City</td>\n",
       "      <td>Technology</td>\n",
       "      <td>TEC-PH-10002075</td>\n",
       "      <td>377.970</td>\n",
       "      <td>109.6113</td>\n",
       "    </tr>\n",
       "    <tr>\n",
       "      <th>2018-07-08</th>\n",
       "      <td>CA-2018-100090</td>\n",
       "      <td>Ed Braxton</td>\n",
       "      <td>San Francisco</td>\n",
       "      <td>Furniture</td>\n",
       "      <td>FUR-TA-10003715</td>\n",
       "      <td>502.488</td>\n",
       "      <td>-87.9354</td>\n",
       "    </tr>\n",
       "    <tr>\n",
       "      <th>2018-03-14</th>\n",
       "      <td>CA-2018-100293</td>\n",
       "      <td>Neil Französisch</td>\n",
       "      <td>Jacksonville</td>\n",
       "      <td>Office Supplies</td>\n",
       "      <td>OFF-PA-10000176</td>\n",
       "      <td>91.056</td>\n",
       "      <td>31.8696</td>\n",
       "    </tr>\n",
       "    <tr>\n",
       "      <th>2018-01-28</th>\n",
       "      <td>CA-2018-100328</td>\n",
       "      <td>Jasper Cacioppo</td>\n",
       "      <td>New York City</td>\n",
       "      <td>Office Supplies</td>\n",
       "      <td>OFF-BI-10000343</td>\n",
       "      <td>3.928</td>\n",
       "      <td>1.3257</td>\n",
       "    </tr>\n",
       "    <tr>\n",
       "      <th>2018-04-08</th>\n",
       "      <td>CA-2018-100363</td>\n",
       "      <td>Jim Mitchum</td>\n",
       "      <td>Glendale</td>\n",
       "      <td>Office Supplies</td>\n",
       "      <td>OFF-FA-10000611</td>\n",
       "      <td>2.368</td>\n",
       "      <td>0.8288</td>\n",
       "    </tr>\n",
       "    <tr>\n",
       "      <th>...</th>\n",
       "      <td>...</td>\n",
       "      <td>...</td>\n",
       "      <td>...</td>\n",
       "      <td>...</td>\n",
       "      <td>...</td>\n",
       "      <td>...</td>\n",
       "      <td>...</td>\n",
       "    </tr>\n",
       "    <tr>\n",
       "      <th>2021-11-03</th>\n",
       "      <td>US-2021-168802</td>\n",
       "      <td>Jack O'Briant</td>\n",
       "      <td>Seattle</td>\n",
       "      <td>Office Supplies</td>\n",
       "      <td>OFF-BI-10002393</td>\n",
       "      <td>18.368</td>\n",
       "      <td>5.9696</td>\n",
       "    </tr>\n",
       "    <tr>\n",
       "      <th>2021-07-23</th>\n",
       "      <td>US-2021-169320</td>\n",
       "      <td>Lena Hernandez</td>\n",
       "      <td>Elkhart</td>\n",
       "      <td>Office Supplies</td>\n",
       "      <td>OFF-AR-10003602</td>\n",
       "      <td>11.680</td>\n",
       "      <td>5.4896</td>\n",
       "    </tr>\n",
       "    <tr>\n",
       "      <th>2021-09-07</th>\n",
       "      <td>US-2021-169488</td>\n",
       "      <td>Allen Armold</td>\n",
       "      <td>Providence</td>\n",
       "      <td>Office Supplies</td>\n",
       "      <td>OFF-PA-10000157</td>\n",
       "      <td>39.960</td>\n",
       "      <td>18.7812</td>\n",
       "    </tr>\n",
       "    <tr>\n",
       "      <th>2021-08-28</th>\n",
       "      <td>US-2021-169502</td>\n",
       "      <td>Matthew Grinstein</td>\n",
       "      <td>Milwaukee</td>\n",
       "      <td>Office Supplies</td>\n",
       "      <td>OFF-AP-10001947</td>\n",
       "      <td>91.600</td>\n",
       "      <td>26.5640</td>\n",
       "    </tr>\n",
       "    <tr>\n",
       "      <th>2021-07-07</th>\n",
       "      <td>US-2021-169551</td>\n",
       "      <td>Rob Lucas</td>\n",
       "      <td>Philadelphia</td>\n",
       "      <td>Furniture</td>\n",
       "      <td>FUR-BO-10001519</td>\n",
       "      <td>87.210</td>\n",
       "      <td>-45.3492</td>\n",
       "    </tr>\n",
       "  </tbody>\n",
       "</table>\n",
       "<p>5009 rows × 7 columns</p>\n",
       "</div>"
      ]
     },
     "metadata": {
      "application/vnd.databricks.v1+output": {
       "addedWidgets": {},
       "arguments": {},
       "data": "<div>\n<style scoped>\n    .dataframe tbody tr th:only-of-type {\n        vertical-align: middle;\n    }\n\n    .dataframe tbody tr th {\n        vertical-align: top;\n    }\n\n    .dataframe thead th {\n        text-align: right;\n    }\n</style>\n<table border=\"1\" class=\"dataframe\">\n  <thead>\n    <tr style=\"text-align: right;\">\n      <th></th>\n      <th>order_id</th>\n      <th>customer_name</th>\n      <th>city</th>\n      <th>category</th>\n      <th>product_id</th>\n      <th>sales</th>\n      <th>profit</th>\n    </tr>\n    <tr>\n      <th>order_date</th>\n      <th></th>\n      <th></th>\n      <th></th>\n      <th></th>\n      <th></th>\n      <th></th>\n      <th></th>\n    </tr>\n  </thead>\n  <tbody>\n    <tr>\n      <th>2018-09-07</th>\n      <td>CA-2018-100006</td>\n      <td>Dennis Kane</td>\n      <td>New York City</td>\n      <td>Technology</td>\n      <td>TEC-PH-10002075</td>\n      <td>377.970</td>\n      <td>109.6113</td>\n    </tr>\n    <tr>\n      <th>2018-07-08</th>\n      <td>CA-2018-100090</td>\n      <td>Ed Braxton</td>\n      <td>San Francisco</td>\n      <td>Furniture</td>\n      <td>FUR-TA-10003715</td>\n      <td>502.488</td>\n      <td>-87.9354</td>\n    </tr>\n    <tr>\n      <th>2018-03-14</th>\n      <td>CA-2018-100293</td>\n      <td>Neil Französisch</td>\n      <td>Jacksonville</td>\n      <td>Office Supplies</td>\n      <td>OFF-PA-10000176</td>\n      <td>91.056</td>\n      <td>31.8696</td>\n    </tr>\n    <tr>\n      <th>2018-01-28</th>\n      <td>CA-2018-100328</td>\n      <td>Jasper Cacioppo</td>\n      <td>New York City</td>\n      <td>Office Supplies</td>\n      <td>OFF-BI-10000343</td>\n      <td>3.928</td>\n      <td>1.3257</td>\n    </tr>\n    <tr>\n      <th>2018-04-08</th>\n      <td>CA-2018-100363</td>\n      <td>Jim Mitchum</td>\n      <td>Glendale</td>\n      <td>Office Supplies</td>\n      <td>OFF-FA-10000611</td>\n      <td>2.368</td>\n      <td>0.8288</td>\n    </tr>\n    <tr>\n      <th>...</th>\n      <td>...</td>\n      <td>...</td>\n      <td>...</td>\n      <td>...</td>\n      <td>...</td>\n      <td>...</td>\n      <td>...</td>\n    </tr>\n    <tr>\n      <th>2021-11-03</th>\n      <td>US-2021-168802</td>\n      <td>Jack O'Briant</td>\n      <td>Seattle</td>\n      <td>Office Supplies</td>\n      <td>OFF-BI-10002393</td>\n      <td>18.368</td>\n      <td>5.9696</td>\n    </tr>\n    <tr>\n      <th>2021-07-23</th>\n      <td>US-2021-169320</td>\n      <td>Lena Hernandez</td>\n      <td>Elkhart</td>\n      <td>Office Supplies</td>\n      <td>OFF-AR-10003602</td>\n      <td>11.680</td>\n      <td>5.4896</td>\n    </tr>\n    <tr>\n      <th>2021-09-07</th>\n      <td>US-2021-169488</td>\n      <td>Allen Armold</td>\n      <td>Providence</td>\n      <td>Office Supplies</td>\n      <td>OFF-PA-10000157</td>\n      <td>39.960</td>\n      <td>18.7812</td>\n    </tr>\n    <tr>\n      <th>2021-08-28</th>\n      <td>US-2021-169502</td>\n      <td>Matthew Grinstein</td>\n      <td>Milwaukee</td>\n      <td>Office Supplies</td>\n      <td>OFF-AP-10001947</td>\n      <td>91.600</td>\n      <td>26.5640</td>\n    </tr>\n    <tr>\n      <th>2021-07-07</th>\n      <td>US-2021-169551</td>\n      <td>Rob Lucas</td>\n      <td>Philadelphia</td>\n      <td>Furniture</td>\n      <td>FUR-BO-10001519</td>\n      <td>87.210</td>\n      <td>-45.3492</td>\n    </tr>\n  </tbody>\n</table>\n<p>5009 rows × 7 columns</p>\n</div>",
       "datasetInfos": [],
       "metadata": {},
       "removedWidgets": [],
       "textData": null,
       "type": "htmlSandbox"
      }
     },
     "output_type": "display_data"
    }
   ],
   "source": [
    "df = pd.read_csv('orders.txt',parse_dates=['order_date'],index_col='order_date')\n",
    "df"
   ]
  },
  {
   "cell_type": "code",
   "execution_count": null,
   "metadata": {
    "application/vnd.databricks.v1+cell": {
     "cellMetadata": {
      "byteLimit": 2048000,
      "rowLimit": 10000
     },
     "inputWidgets": {},
     "nuid": "6e14088b-74d2-430b-a527-bfc643219569",
     "showTitle": false,
     "title": ""
    }
   },
   "outputs": [
    {
     "name": "stderr",
     "output_type": "stream",
     "text": [
      "<command-940143815941544>:1: FutureWarning: Value based partial slicing on non-monotonic DatetimeIndexes with non-existing keys is deprecated and will raise a KeyError in a future Version.\n",
      "  df['2020-01-01':'2020-01-05']\n"
     ]
    },
    {
     "data": {
      "text/html": [
       "<div>\n",
       "<style scoped>\n",
       "    .dataframe tbody tr th:only-of-type {\n",
       "        vertical-align: middle;\n",
       "    }\n",
       "\n",
       "    .dataframe tbody tr th {\n",
       "        vertical-align: top;\n",
       "    }\n",
       "\n",
       "    .dataframe thead th {\n",
       "        text-align: right;\n",
       "    }\n",
       "</style>\n",
       "<table border=\"1\" class=\"dataframe\">\n",
       "  <thead>\n",
       "    <tr style=\"text-align: right;\">\n",
       "      <th></th>\n",
       "      <th>order_id</th>\n",
       "      <th>customer_name</th>\n",
       "      <th>city</th>\n",
       "      <th>category</th>\n",
       "      <th>product_id</th>\n",
       "      <th>sales</th>\n",
       "      <th>profit</th>\n",
       "    </tr>\n",
       "    <tr>\n",
       "      <th>order_date</th>\n",
       "      <th></th>\n",
       "      <th></th>\n",
       "      <th></th>\n",
       "      <th></th>\n",
       "      <th></th>\n",
       "      <th></th>\n",
       "      <th></th>\n",
       "    </tr>\n",
       "  </thead>\n",
       "  <tbody>\n",
       "    <tr>\n",
       "      <th>2020-01-03</th>\n",
       "      <td>CA-2020-105207</td>\n",
       "      <td>Bill Overfelt</td>\n",
       "      <td>Broken Arrow</td>\n",
       "      <td>Furniture</td>\n",
       "      <td>FUR-TA-10000617</td>\n",
       "      <td>1592.850</td>\n",
       "      <td>350.4270</td>\n",
       "    </tr>\n",
       "    <tr>\n",
       "      <th>2020-01-03</th>\n",
       "      <td>CA-2020-125206</td>\n",
       "      <td>Lena Radford</td>\n",
       "      <td>Los Angeles</td>\n",
       "      <td>Office Supplies</td>\n",
       "      <td>OFF-ST-10003692</td>\n",
       "      <td>114.460</td>\n",
       "      <td>28.6150</td>\n",
       "    </tr>\n",
       "    <tr>\n",
       "      <th>2020-01-05</th>\n",
       "      <td>CA-2020-134474</td>\n",
       "      <td>Anthony Johnson</td>\n",
       "      <td>Jacksonville</td>\n",
       "      <td>Office Supplies</td>\n",
       "      <td>OFF-AR-10003958</td>\n",
       "      <td>5.248</td>\n",
       "      <td>0.5904</td>\n",
       "    </tr>\n",
       "    <tr>\n",
       "      <th>2020-01-04</th>\n",
       "      <td>CA-2020-158211</td>\n",
       "      <td>Ben Peterman</td>\n",
       "      <td>Philadelphia</td>\n",
       "      <td>Office Supplies</td>\n",
       "      <td>OFF-AR-10004078</td>\n",
       "      <td>4.672</td>\n",
       "      <td>0.5840</td>\n",
       "    </tr>\n",
       "    <tr>\n",
       "      <th>2020-01-02</th>\n",
       "      <td>CA-2020-160304</td>\n",
       "      <td>Brendan Murry</td>\n",
       "      <td>Gaithersburg</td>\n",
       "      <td>Furniture</td>\n",
       "      <td>FUR-BO-10004709</td>\n",
       "      <td>173.940</td>\n",
       "      <td>38.2668</td>\n",
       "    </tr>\n",
       "    <tr>\n",
       "      <th>2020-01-03</th>\n",
       "      <td>US-2020-116365</td>\n",
       "      <td>Christine Abelman</td>\n",
       "      <td>San Antonio</td>\n",
       "      <td>Technology</td>\n",
       "      <td>TEC-AC-10002217</td>\n",
       "      <td>30.080</td>\n",
       "      <td>-5.2640</td>\n",
       "    </tr>\n",
       "    <tr>\n",
       "      <th>2020-01-04</th>\n",
       "      <td>US-2020-164630</td>\n",
       "      <td>Erica Bern</td>\n",
       "      <td>Charlotte</td>\n",
       "      <td>Technology</td>\n",
       "      <td>TEC-CO-10000971</td>\n",
       "      <td>959.968</td>\n",
       "      <td>119.9960</td>\n",
       "    </tr>\n",
       "  </tbody>\n",
       "</table>\n",
       "</div>"
      ]
     },
     "metadata": {
      "application/vnd.databricks.v1+output": {
       "addedWidgets": {},
       "arguments": {},
       "data": "<div>\n<style scoped>\n    .dataframe tbody tr th:only-of-type {\n        vertical-align: middle;\n    }\n\n    .dataframe tbody tr th {\n        vertical-align: top;\n    }\n\n    .dataframe thead th {\n        text-align: right;\n    }\n</style>\n<table border=\"1\" class=\"dataframe\">\n  <thead>\n    <tr style=\"text-align: right;\">\n      <th></th>\n      <th>order_id</th>\n      <th>customer_name</th>\n      <th>city</th>\n      <th>category</th>\n      <th>product_id</th>\n      <th>sales</th>\n      <th>profit</th>\n    </tr>\n    <tr>\n      <th>order_date</th>\n      <th></th>\n      <th></th>\n      <th></th>\n      <th></th>\n      <th></th>\n      <th></th>\n      <th></th>\n    </tr>\n  </thead>\n  <tbody>\n    <tr>\n      <th>2020-01-03</th>\n      <td>CA-2020-105207</td>\n      <td>Bill Overfelt</td>\n      <td>Broken Arrow</td>\n      <td>Furniture</td>\n      <td>FUR-TA-10000617</td>\n      <td>1592.850</td>\n      <td>350.4270</td>\n    </tr>\n    <tr>\n      <th>2020-01-03</th>\n      <td>CA-2020-125206</td>\n      <td>Lena Radford</td>\n      <td>Los Angeles</td>\n      <td>Office Supplies</td>\n      <td>OFF-ST-10003692</td>\n      <td>114.460</td>\n      <td>28.6150</td>\n    </tr>\n    <tr>\n      <th>2020-01-05</th>\n      <td>CA-2020-134474</td>\n      <td>Anthony Johnson</td>\n      <td>Jacksonville</td>\n      <td>Office Supplies</td>\n      <td>OFF-AR-10003958</td>\n      <td>5.248</td>\n      <td>0.5904</td>\n    </tr>\n    <tr>\n      <th>2020-01-04</th>\n      <td>CA-2020-158211</td>\n      <td>Ben Peterman</td>\n      <td>Philadelphia</td>\n      <td>Office Supplies</td>\n      <td>OFF-AR-10004078</td>\n      <td>4.672</td>\n      <td>0.5840</td>\n    </tr>\n    <tr>\n      <th>2020-01-02</th>\n      <td>CA-2020-160304</td>\n      <td>Brendan Murry</td>\n      <td>Gaithersburg</td>\n      <td>Furniture</td>\n      <td>FUR-BO-10004709</td>\n      <td>173.940</td>\n      <td>38.2668</td>\n    </tr>\n    <tr>\n      <th>2020-01-03</th>\n      <td>US-2020-116365</td>\n      <td>Christine Abelman</td>\n      <td>San Antonio</td>\n      <td>Technology</td>\n      <td>TEC-AC-10002217</td>\n      <td>30.080</td>\n      <td>-5.2640</td>\n    </tr>\n    <tr>\n      <th>2020-01-04</th>\n      <td>US-2020-164630</td>\n      <td>Erica Bern</td>\n      <td>Charlotte</td>\n      <td>Technology</td>\n      <td>TEC-CO-10000971</td>\n      <td>959.968</td>\n      <td>119.9960</td>\n    </tr>\n  </tbody>\n</table>\n</div>",
       "datasetInfos": [],
       "metadata": {},
       "removedWidgets": [],
       "textData": null,
       "type": "htmlSandbox"
      }
     },
     "output_type": "display_data"
    }
   ],
   "source": [
    "df['2020-01-01':'2020-01-05']"
   ]
  },
  {
   "cell_type": "code",
   "execution_count": null,
   "metadata": {
    "application/vnd.databricks.v1+cell": {
     "cellMetadata": {
      "byteLimit": 2048000,
      "rowLimit": 10000
     },
     "inputWidgets": {},
     "nuid": "aae81c51-f739-4865-93f4-a7cf916a27fd",
     "showTitle": false,
     "title": ""
    }
   },
   "outputs": [
    {
     "data": {
      "text/html": [
       "<div>\n",
       "<style scoped>\n",
       "    .dataframe tbody tr th:only-of-type {\n",
       "        vertical-align: middle;\n",
       "    }\n",
       "\n",
       "    .dataframe tbody tr th {\n",
       "        vertical-align: top;\n",
       "    }\n",
       "\n",
       "    .dataframe thead th {\n",
       "        text-align: right;\n",
       "    }\n",
       "</style>\n",
       "<table border=\"1\" class=\"dataframe\">\n",
       "  <thead>\n",
       "    <tr style=\"text-align: right;\">\n",
       "      <th></th>\n",
       "      <th>order_id</th>\n",
       "      <th>customer_name</th>\n",
       "      <th>city</th>\n",
       "      <th>category</th>\n",
       "      <th>product_id</th>\n",
       "      <th>sales</th>\n",
       "      <th>profit</th>\n",
       "    </tr>\n",
       "    <tr>\n",
       "      <th>order_date</th>\n",
       "      <th></th>\n",
       "      <th></th>\n",
       "      <th></th>\n",
       "      <th></th>\n",
       "      <th></th>\n",
       "      <th></th>\n",
       "      <th></th>\n",
       "    </tr>\n",
       "  </thead>\n",
       "  <tbody>\n",
       "    <tr>\n",
       "      <th>2020-01-02</th>\n",
       "      <td>CA-2020-160304</td>\n",
       "      <td>Brendan Murry</td>\n",
       "      <td>Gaithersburg</td>\n",
       "      <td>Furniture</td>\n",
       "      <td>FUR-BO-10004709</td>\n",
       "      <td>173.940</td>\n",
       "      <td>38.2668</td>\n",
       "    </tr>\n",
       "    <tr>\n",
       "      <th>2020-01-03</th>\n",
       "      <td>US-2020-116365</td>\n",
       "      <td>Christine Abelman</td>\n",
       "      <td>San Antonio</td>\n",
       "      <td>Technology</td>\n",
       "      <td>TEC-AC-10002217</td>\n",
       "      <td>30.080</td>\n",
       "      <td>-5.2640</td>\n",
       "    </tr>\n",
       "    <tr>\n",
       "      <th>2020-01-03</th>\n",
       "      <td>CA-2020-125206</td>\n",
       "      <td>Lena Radford</td>\n",
       "      <td>Los Angeles</td>\n",
       "      <td>Office Supplies</td>\n",
       "      <td>OFF-ST-10003692</td>\n",
       "      <td>114.460</td>\n",
       "      <td>28.6150</td>\n",
       "    </tr>\n",
       "    <tr>\n",
       "      <th>2020-01-03</th>\n",
       "      <td>CA-2020-105207</td>\n",
       "      <td>Bill Overfelt</td>\n",
       "      <td>Broken Arrow</td>\n",
       "      <td>Furniture</td>\n",
       "      <td>FUR-TA-10000617</td>\n",
       "      <td>1592.850</td>\n",
       "      <td>350.4270</td>\n",
       "    </tr>\n",
       "    <tr>\n",
       "      <th>2020-01-04</th>\n",
       "      <td>US-2020-164630</td>\n",
       "      <td>Erica Bern</td>\n",
       "      <td>Charlotte</td>\n",
       "      <td>Technology</td>\n",
       "      <td>TEC-CO-10000971</td>\n",
       "      <td>959.968</td>\n",
       "      <td>119.9960</td>\n",
       "    </tr>\n",
       "    <tr>\n",
       "      <th>...</th>\n",
       "      <td>...</td>\n",
       "      <td>...</td>\n",
       "      <td>...</td>\n",
       "      <td>...</td>\n",
       "      <td>...</td>\n",
       "      <td>...</td>\n",
       "      <td>...</td>\n",
       "    </tr>\n",
       "    <tr>\n",
       "      <th>2020-02-27</th>\n",
       "      <td>CA-2020-128706</td>\n",
       "      <td>Don Weiss</td>\n",
       "      <td>Houston</td>\n",
       "      <td>Furniture</td>\n",
       "      <td>FUR-FU-10004053</td>\n",
       "      <td>16.192</td>\n",
       "      <td>-6.8816</td>\n",
       "    </tr>\n",
       "    <tr>\n",
       "      <th>2020-02-28</th>\n",
       "      <td>CA-2020-101623</td>\n",
       "      <td>Rick Reed</td>\n",
       "      <td>New York City</td>\n",
       "      <td>Office Supplies</td>\n",
       "      <td>OFF-FA-10003495</td>\n",
       "      <td>36.480</td>\n",
       "      <td>18.2400</td>\n",
       "    </tr>\n",
       "    <tr>\n",
       "      <th>2020-02-28</th>\n",
       "      <td>CA-2020-111283</td>\n",
       "      <td>Lena Cacioppo</td>\n",
       "      <td>Newark</td>\n",
       "      <td>Office Supplies</td>\n",
       "      <td>OFF-AR-10001615</td>\n",
       "      <td>111.104</td>\n",
       "      <td>8.3328</td>\n",
       "    </tr>\n",
       "    <tr>\n",
       "      <th>2020-03-01</th>\n",
       "      <td>US-2020-143819</td>\n",
       "      <td>Karen Daniels</td>\n",
       "      <td>Yonkers</td>\n",
       "      <td>Furniture</td>\n",
       "      <td>FUR-TA-10001095</td>\n",
       "      <td>836.592</td>\n",
       "      <td>-264.9208</td>\n",
       "    </tr>\n",
       "    <tr>\n",
       "      <th>2020-03-01</th>\n",
       "      <td>US-2020-151862</td>\n",
       "      <td>Odella Nelson</td>\n",
       "      <td>Denver</td>\n",
       "      <td>Technology</td>\n",
       "      <td>TEC-PH-10003535</td>\n",
       "      <td>159.984</td>\n",
       "      <td>13.9986</td>\n",
       "    </tr>\n",
       "  </tbody>\n",
       "</table>\n",
       "<p>95 rows × 7 columns</p>\n",
       "</div>"
      ]
     },
     "metadata": {
      "application/vnd.databricks.v1+output": {
       "addedWidgets": {},
       "arguments": {},
       "data": "<div>\n<style scoped>\n    .dataframe tbody tr th:only-of-type {\n        vertical-align: middle;\n    }\n\n    .dataframe tbody tr th {\n        vertical-align: top;\n    }\n\n    .dataframe thead th {\n        text-align: right;\n    }\n</style>\n<table border=\"1\" class=\"dataframe\">\n  <thead>\n    <tr style=\"text-align: right;\">\n      <th></th>\n      <th>order_id</th>\n      <th>customer_name</th>\n      <th>city</th>\n      <th>category</th>\n      <th>product_id</th>\n      <th>sales</th>\n      <th>profit</th>\n    </tr>\n    <tr>\n      <th>order_date</th>\n      <th></th>\n      <th></th>\n      <th></th>\n      <th></th>\n      <th></th>\n      <th></th>\n      <th></th>\n    </tr>\n  </thead>\n  <tbody>\n    <tr>\n      <th>2020-01-02</th>\n      <td>CA-2020-160304</td>\n      <td>Brendan Murry</td>\n      <td>Gaithersburg</td>\n      <td>Furniture</td>\n      <td>FUR-BO-10004709</td>\n      <td>173.940</td>\n      <td>38.2668</td>\n    </tr>\n    <tr>\n      <th>2020-01-03</th>\n      <td>US-2020-116365</td>\n      <td>Christine Abelman</td>\n      <td>San Antonio</td>\n      <td>Technology</td>\n      <td>TEC-AC-10002217</td>\n      <td>30.080</td>\n      <td>-5.2640</td>\n    </tr>\n    <tr>\n      <th>2020-01-03</th>\n      <td>CA-2020-125206</td>\n      <td>Lena Radford</td>\n      <td>Los Angeles</td>\n      <td>Office Supplies</td>\n      <td>OFF-ST-10003692</td>\n      <td>114.460</td>\n      <td>28.6150</td>\n    </tr>\n    <tr>\n      <th>2020-01-03</th>\n      <td>CA-2020-105207</td>\n      <td>Bill Overfelt</td>\n      <td>Broken Arrow</td>\n      <td>Furniture</td>\n      <td>FUR-TA-10000617</td>\n      <td>1592.850</td>\n      <td>350.4270</td>\n    </tr>\n    <tr>\n      <th>2020-01-04</th>\n      <td>US-2020-164630</td>\n      <td>Erica Bern</td>\n      <td>Charlotte</td>\n      <td>Technology</td>\n      <td>TEC-CO-10000971</td>\n      <td>959.968</td>\n      <td>119.9960</td>\n    </tr>\n    <tr>\n      <th>...</th>\n      <td>...</td>\n      <td>...</td>\n      <td>...</td>\n      <td>...</td>\n      <td>...</td>\n      <td>...</td>\n      <td>...</td>\n    </tr>\n    <tr>\n      <th>2020-02-27</th>\n      <td>CA-2020-128706</td>\n      <td>Don Weiss</td>\n      <td>Houston</td>\n      <td>Furniture</td>\n      <td>FUR-FU-10004053</td>\n      <td>16.192</td>\n      <td>-6.8816</td>\n    </tr>\n    <tr>\n      <th>2020-02-28</th>\n      <td>CA-2020-101623</td>\n      <td>Rick Reed</td>\n      <td>New York City</td>\n      <td>Office Supplies</td>\n      <td>OFF-FA-10003495</td>\n      <td>36.480</td>\n      <td>18.2400</td>\n    </tr>\n    <tr>\n      <th>2020-02-28</th>\n      <td>CA-2020-111283</td>\n      <td>Lena Cacioppo</td>\n      <td>Newark</td>\n      <td>Office Supplies</td>\n      <td>OFF-AR-10001615</td>\n      <td>111.104</td>\n      <td>8.3328</td>\n    </tr>\n    <tr>\n      <th>2020-03-01</th>\n      <td>US-2020-143819</td>\n      <td>Karen Daniels</td>\n      <td>Yonkers</td>\n      <td>Furniture</td>\n      <td>FUR-TA-10001095</td>\n      <td>836.592</td>\n      <td>-264.9208</td>\n    </tr>\n    <tr>\n      <th>2020-03-01</th>\n      <td>US-2020-151862</td>\n      <td>Odella Nelson</td>\n      <td>Denver</td>\n      <td>Technology</td>\n      <td>TEC-PH-10003535</td>\n      <td>159.984</td>\n      <td>13.9986</td>\n    </tr>\n  </tbody>\n</table>\n<p>95 rows × 7 columns</p>\n</div>",
       "datasetInfos": [],
       "metadata": {},
       "removedWidgets": [],
       "textData": null,
       "type": "htmlSandbox"
      }
     },
     "output_type": "display_data"
    }
   ],
   "source": [
    "# after soring the index the warning has gone\n",
    "df.sort_index(inplace=True)\n",
    "df['2020-01-01' :'2020-03-01']"
   ]
  },
  {
   "cell_type": "code",
   "execution_count": null,
   "metadata": {
    "application/vnd.databricks.v1+cell": {
     "cellMetadata": {
      "byteLimit": 2048000,
      "rowLimit": 10000
     },
     "inputWidgets": {},
     "nuid": "841d9d7b-c319-4e33-8e55-ffa9e704729a",
     "showTitle": false,
     "title": ""
    }
   },
   "outputs": [
    {
     "data": {
      "text/html": [
       "<div>\n",
       "<style scoped>\n",
       "    .dataframe tbody tr th:only-of-type {\n",
       "        vertical-align: middle;\n",
       "    }\n",
       "\n",
       "    .dataframe tbody tr th {\n",
       "        vertical-align: top;\n",
       "    }\n",
       "\n",
       "    .dataframe thead th {\n",
       "        text-align: right;\n",
       "    }\n",
       "</style>\n",
       "<table border=\"1\" class=\"dataframe\">\n",
       "  <thead>\n",
       "    <tr style=\"text-align: right;\">\n",
       "      <th></th>\n",
       "      <th>order_id</th>\n",
       "      <th>customer_name</th>\n",
       "      <th>city</th>\n",
       "      <th>category</th>\n",
       "      <th>product_id</th>\n",
       "      <th>sales</th>\n",
       "      <th>profit</th>\n",
       "    </tr>\n",
       "    <tr>\n",
       "      <th>order_date</th>\n",
       "      <th></th>\n",
       "      <th></th>\n",
       "      <th></th>\n",
       "      <th></th>\n",
       "      <th></th>\n",
       "      <th></th>\n",
       "      <th></th>\n",
       "    </tr>\n",
       "  </thead>\n",
       "  <tbody>\n",
       "    <tr>\n",
       "      <th>2020-01-02</th>\n",
       "      <td>CA-2020-160304</td>\n",
       "      <td>Brendan Murry</td>\n",
       "      <td>Gaithersburg</td>\n",
       "      <td>Furniture</td>\n",
       "      <td>FUR-BO-10004709</td>\n",
       "      <td>173.940</td>\n",
       "      <td>38.2668</td>\n",
       "    </tr>\n",
       "    <tr>\n",
       "      <th>2020-01-03</th>\n",
       "      <td>US-2020-116365</td>\n",
       "      <td>Christine Abelman</td>\n",
       "      <td>San Antonio</td>\n",
       "      <td>Technology</td>\n",
       "      <td>TEC-AC-10002217</td>\n",
       "      <td>30.080</td>\n",
       "      <td>-5.2640</td>\n",
       "    </tr>\n",
       "    <tr>\n",
       "      <th>2020-01-03</th>\n",
       "      <td>CA-2020-125206</td>\n",
       "      <td>Lena Radford</td>\n",
       "      <td>Los Angeles</td>\n",
       "      <td>Office Supplies</td>\n",
       "      <td>OFF-ST-10003692</td>\n",
       "      <td>114.460</td>\n",
       "      <td>28.6150</td>\n",
       "    </tr>\n",
       "    <tr>\n",
       "      <th>2020-01-03</th>\n",
       "      <td>CA-2020-105207</td>\n",
       "      <td>Bill Overfelt</td>\n",
       "      <td>Broken Arrow</td>\n",
       "      <td>Furniture</td>\n",
       "      <td>FUR-TA-10000617</td>\n",
       "      <td>1592.850</td>\n",
       "      <td>350.4270</td>\n",
       "    </tr>\n",
       "    <tr>\n",
       "      <th>2020-01-04</th>\n",
       "      <td>US-2020-164630</td>\n",
       "      <td>Erica Bern</td>\n",
       "      <td>Charlotte</td>\n",
       "      <td>Technology</td>\n",
       "      <td>TEC-CO-10000971</td>\n",
       "      <td>959.968</td>\n",
       "      <td>119.9960</td>\n",
       "    </tr>\n",
       "    <tr>\n",
       "      <th>...</th>\n",
       "      <td>...</td>\n",
       "      <td>...</td>\n",
       "      <td>...</td>\n",
       "      <td>...</td>\n",
       "      <td>...</td>\n",
       "      <td>...</td>\n",
       "      <td>...</td>\n",
       "    </tr>\n",
       "    <tr>\n",
       "      <th>2020-02-27</th>\n",
       "      <td>CA-2020-128706</td>\n",
       "      <td>Don Weiss</td>\n",
       "      <td>Houston</td>\n",
       "      <td>Furniture</td>\n",
       "      <td>FUR-FU-10004053</td>\n",
       "      <td>16.192</td>\n",
       "      <td>-6.8816</td>\n",
       "    </tr>\n",
       "    <tr>\n",
       "      <th>2020-02-28</th>\n",
       "      <td>CA-2020-101623</td>\n",
       "      <td>Rick Reed</td>\n",
       "      <td>New York City</td>\n",
       "      <td>Office Supplies</td>\n",
       "      <td>OFF-FA-10003495</td>\n",
       "      <td>36.480</td>\n",
       "      <td>18.2400</td>\n",
       "    </tr>\n",
       "    <tr>\n",
       "      <th>2020-02-28</th>\n",
       "      <td>CA-2020-111283</td>\n",
       "      <td>Lena Cacioppo</td>\n",
       "      <td>Newark</td>\n",
       "      <td>Office Supplies</td>\n",
       "      <td>OFF-AR-10001615</td>\n",
       "      <td>111.104</td>\n",
       "      <td>8.3328</td>\n",
       "    </tr>\n",
       "    <tr>\n",
       "      <th>2020-03-01</th>\n",
       "      <td>US-2020-143819</td>\n",
       "      <td>Karen Daniels</td>\n",
       "      <td>Yonkers</td>\n",
       "      <td>Furniture</td>\n",
       "      <td>FUR-TA-10001095</td>\n",
       "      <td>836.592</td>\n",
       "      <td>-264.9208</td>\n",
       "    </tr>\n",
       "    <tr>\n",
       "      <th>2020-03-01</th>\n",
       "      <td>US-2020-151862</td>\n",
       "      <td>Odella Nelson</td>\n",
       "      <td>Denver</td>\n",
       "      <td>Technology</td>\n",
       "      <td>TEC-PH-10003535</td>\n",
       "      <td>159.984</td>\n",
       "      <td>13.9986</td>\n",
       "    </tr>\n",
       "  </tbody>\n",
       "</table>\n",
       "<p>95 rows × 7 columns</p>\n",
       "</div>"
      ]
     },
     "metadata": {
      "application/vnd.databricks.v1+output": {
       "addedWidgets": {},
       "arguments": {},
       "data": "<div>\n<style scoped>\n    .dataframe tbody tr th:only-of-type {\n        vertical-align: middle;\n    }\n\n    .dataframe tbody tr th {\n        vertical-align: top;\n    }\n\n    .dataframe thead th {\n        text-align: right;\n    }\n</style>\n<table border=\"1\" class=\"dataframe\">\n  <thead>\n    <tr style=\"text-align: right;\">\n      <th></th>\n      <th>order_id</th>\n      <th>customer_name</th>\n      <th>city</th>\n      <th>category</th>\n      <th>product_id</th>\n      <th>sales</th>\n      <th>profit</th>\n    </tr>\n    <tr>\n      <th>order_date</th>\n      <th></th>\n      <th></th>\n      <th></th>\n      <th></th>\n      <th></th>\n      <th></th>\n      <th></th>\n    </tr>\n  </thead>\n  <tbody>\n    <tr>\n      <th>2020-01-02</th>\n      <td>CA-2020-160304</td>\n      <td>Brendan Murry</td>\n      <td>Gaithersburg</td>\n      <td>Furniture</td>\n      <td>FUR-BO-10004709</td>\n      <td>173.940</td>\n      <td>38.2668</td>\n    </tr>\n    <tr>\n      <th>2020-01-03</th>\n      <td>US-2020-116365</td>\n      <td>Christine Abelman</td>\n      <td>San Antonio</td>\n      <td>Technology</td>\n      <td>TEC-AC-10002217</td>\n      <td>30.080</td>\n      <td>-5.2640</td>\n    </tr>\n    <tr>\n      <th>2020-01-03</th>\n      <td>CA-2020-125206</td>\n      <td>Lena Radford</td>\n      <td>Los Angeles</td>\n      <td>Office Supplies</td>\n      <td>OFF-ST-10003692</td>\n      <td>114.460</td>\n      <td>28.6150</td>\n    </tr>\n    <tr>\n      <th>2020-01-03</th>\n      <td>CA-2020-105207</td>\n      <td>Bill Overfelt</td>\n      <td>Broken Arrow</td>\n      <td>Furniture</td>\n      <td>FUR-TA-10000617</td>\n      <td>1592.850</td>\n      <td>350.4270</td>\n    </tr>\n    <tr>\n      <th>2020-01-04</th>\n      <td>US-2020-164630</td>\n      <td>Erica Bern</td>\n      <td>Charlotte</td>\n      <td>Technology</td>\n      <td>TEC-CO-10000971</td>\n      <td>959.968</td>\n      <td>119.9960</td>\n    </tr>\n    <tr>\n      <th>...</th>\n      <td>...</td>\n      <td>...</td>\n      <td>...</td>\n      <td>...</td>\n      <td>...</td>\n      <td>...</td>\n      <td>...</td>\n    </tr>\n    <tr>\n      <th>2020-02-27</th>\n      <td>CA-2020-128706</td>\n      <td>Don Weiss</td>\n      <td>Houston</td>\n      <td>Furniture</td>\n      <td>FUR-FU-10004053</td>\n      <td>16.192</td>\n      <td>-6.8816</td>\n    </tr>\n    <tr>\n      <th>2020-02-28</th>\n      <td>CA-2020-101623</td>\n      <td>Rick Reed</td>\n      <td>New York City</td>\n      <td>Office Supplies</td>\n      <td>OFF-FA-10003495</td>\n      <td>36.480</td>\n      <td>18.2400</td>\n    </tr>\n    <tr>\n      <th>2020-02-28</th>\n      <td>CA-2020-111283</td>\n      <td>Lena Cacioppo</td>\n      <td>Newark</td>\n      <td>Office Supplies</td>\n      <td>OFF-AR-10001615</td>\n      <td>111.104</td>\n      <td>8.3328</td>\n    </tr>\n    <tr>\n      <th>2020-03-01</th>\n      <td>US-2020-143819</td>\n      <td>Karen Daniels</td>\n      <td>Yonkers</td>\n      <td>Furniture</td>\n      <td>FUR-TA-10001095</td>\n      <td>836.592</td>\n      <td>-264.9208</td>\n    </tr>\n    <tr>\n      <th>2020-03-01</th>\n      <td>US-2020-151862</td>\n      <td>Odella Nelson</td>\n      <td>Denver</td>\n      <td>Technology</td>\n      <td>TEC-PH-10003535</td>\n      <td>159.984</td>\n      <td>13.9986</td>\n    </tr>\n  </tbody>\n</table>\n<p>95 rows × 7 columns</p>\n</div>",
       "datasetInfos": [],
       "metadata": {},
       "removedWidgets": [],
       "textData": null,
       "type": "htmlSandbox"
      }
     },
     "output_type": "display_data"
    }
   ],
   "source": [
    "# we can also do with loc as order date is an index\n",
    "df.loc['2020-01-01' :'2020-03-01']"
   ]
  },
  {
   "cell_type": "code",
   "execution_count": null,
   "metadata": {
    "application/vnd.databricks.v1+cell": {
     "cellMetadata": {
      "byteLimit": 2048000,
      "rowLimit": 10000
     },
     "inputWidgets": {},
     "nuid": "4e3021bb-6a27-4f9f-aff7-5c5d2601dd7c",
     "showTitle": false,
     "title": ""
    }
   },
   "outputs": [
    {
     "name": "stdout",
     "output_type": "stream",
     "text": [
      "Out[44]: Int64Index([ 1,  1,  1,  1,  1,  1,  1,  1,  1,  1,\n",
      "            ...\n",
      "            12, 12, 12, 12, 12, 12, 12, 12, 12, 12],\n",
      "           dtype='int64', name='order_date', length=5009)"
     ]
    }
   ],
   "source": [
    "# now order_date is type datetime64, we can access the other attributes of datetime64\n",
    "# df['order_date'].dt.day_name() # getting key_error(used to work for previous versions)\n",
    "df.index.year\n",
    "df.index.day_name\n",
    "df.index.month"
   ]
  },
  {
   "cell_type": "markdown",
   "metadata": {
    "application/vnd.databricks.v1+cell": {
     "cellMetadata": {},
     "inputWidgets": {},
     "nuid": "0ce22b81-e51a-41c7-9bcb-4b28359e40b6",
     "showTitle": false,
     "title": ""
    }
   },
   "source": []
  },
  {
   "cell_type": "markdown",
   "metadata": {
    "application/vnd.databricks.v1+cell": {
     "cellMetadata": {},
     "inputWidgets": {},
     "nuid": "cc1f94f4-bbc2-4b42-aeb2-e2b19b721aaf",
     "showTitle": false,
     "title": ""
    }
   },
   "source": [
    "#### Resampling: \n",
    "Aggregate data by a new time frequency (e.g., converting daily data to monthly data)."
   ]
  },
  {
   "cell_type": "code",
   "execution_count": null,
   "metadata": {
    "application/vnd.databricks.v1+cell": {
     "cellMetadata": {
      "byteLimit": 2048000,
      "rowLimit": 10000
     },
     "inputWidgets": {},
     "nuid": "edbc0171-0948-4063-bd0f-c750f1f26734",
     "showTitle": false,
     "title": ""
    }
   },
   "outputs": [
    {
     "data": {
      "text/html": [
       "<div>\n",
       "<style scoped>\n",
       "    .dataframe tbody tr th:only-of-type {\n",
       "        vertical-align: middle;\n",
       "    }\n",
       "\n",
       "    .dataframe tbody tr th {\n",
       "        vertical-align: top;\n",
       "    }\n",
       "\n",
       "    .dataframe thead th {\n",
       "        text-align: right;\n",
       "    }\n",
       "</style>\n",
       "<table border=\"1\" class=\"dataframe\">\n",
       "  <thead>\n",
       "    <tr style=\"text-align: right;\">\n",
       "      <th></th>\n",
       "      <th>sales</th>\n",
       "      <th>profit</th>\n",
       "    </tr>\n",
       "    <tr>\n",
       "      <th>order_date</th>\n",
       "      <th></th>\n",
       "      <th></th>\n",
       "    </tr>\n",
       "  </thead>\n",
       "  <tbody>\n",
       "    <tr>\n",
       "      <th>2018-01-31</th>\n",
       "      <td>196.901469</td>\n",
       "      <td>25.006862</td>\n",
       "    </tr>\n",
       "    <tr>\n",
       "      <th>2018-02-28</th>\n",
       "      <td>93.078214</td>\n",
       "      <td>14.039293</td>\n",
       "    </tr>\n",
       "    <tr>\n",
       "      <th>2018-03-31</th>\n",
       "      <td>210.697070</td>\n",
       "      <td>-7.325470</td>\n",
       "    </tr>\n",
       "    <tr>\n",
       "      <th>2018-04-30</th>\n",
       "      <td>184.639136</td>\n",
       "      <td>23.618500</td>\n",
       "    </tr>\n",
       "    <tr>\n",
       "      <th>2018-05-31</th>\n",
       "      <td>240.451667</td>\n",
       "      <td>23.901987</td>\n",
       "    </tr>\n",
       "    <tr>\n",
       "      <th>2018-06-30</th>\n",
       "      <td>243.669312</td>\n",
       "      <td>27.481809</td>\n",
       "    </tr>\n",
       "    <tr>\n",
       "      <th>2018-07-31</th>\n",
       "      <td>197.087615</td>\n",
       "      <td>10.743457</td>\n",
       "    </tr>\n",
       "    <tr>\n",
       "      <th>2018-08-31</th>\n",
       "      <td>190.887271</td>\n",
       "      <td>26.642651</td>\n",
       "    </tr>\n",
       "    <tr>\n",
       "      <th>2018-09-30</th>\n",
       "      <td>256.673529</td>\n",
       "      <td>16.594541</td>\n",
       "    </tr>\n",
       "    <tr>\n",
       "      <th>2018-10-31</th>\n",
       "      <td>235.724192</td>\n",
       "      <td>17.825173</td>\n",
       "    </tr>\n",
       "    <tr>\n",
       "      <th>2018-11-30</th>\n",
       "      <td>213.129495</td>\n",
       "      <td>19.757981</td>\n",
       "    </tr>\n",
       "    <tr>\n",
       "      <th>2018-12-31</th>\n",
       "      <td>294.166089</td>\n",
       "      <td>31.346323</td>\n",
       "    </tr>\n",
       "    <tr>\n",
       "      <th>2019-01-31</th>\n",
       "      <td>425.628676</td>\n",
       "      <td>-94.873614</td>\n",
       "    </tr>\n",
       "    <tr>\n",
       "      <th>2019-02-28</th>\n",
       "      <td>201.635167</td>\n",
       "      <td>60.290664</td>\n",
       "    </tr>\n",
       "    <tr>\n",
       "      <th>2019-03-31</th>\n",
       "      <td>203.352570</td>\n",
       "      <td>31.672772</td>\n",
       "    </tr>\n",
       "    <tr>\n",
       "      <th>2019-04-30</th>\n",
       "      <td>206.228035</td>\n",
       "      <td>0.006381</td>\n",
       "    </tr>\n",
       "    <tr>\n",
       "      <th>2019-05-31</th>\n",
       "      <td>190.282980</td>\n",
       "      <td>18.822312</td>\n",
       "    </tr>\n",
       "    <tr>\n",
       "      <th>2019-06-30</th>\n",
       "      <td>228.304221</td>\n",
       "      <td>24.066172</td>\n",
       "    </tr>\n",
       "    <tr>\n",
       "      <th>2019-07-31</th>\n",
       "      <td>225.412803</td>\n",
       "      <td>4.970905</td>\n",
       "    </tr>\n",
       "    <tr>\n",
       "      <th>2019-08-31</th>\n",
       "      <td>237.875444</td>\n",
       "      <td>18.559700</td>\n",
       "    </tr>\n",
       "    <tr>\n",
       "      <th>2019-09-30</th>\n",
       "      <td>220.296093</td>\n",
       "      <td>15.631314</td>\n",
       "    </tr>\n",
       "    <tr>\n",
       "      <th>2019-10-31</th>\n",
       "      <td>215.948649</td>\n",
       "      <td>4.319531</td>\n",
       "    </tr>\n",
       "    <tr>\n",
       "      <th>2019-11-30</th>\n",
       "      <td>265.600383</td>\n",
       "      <td>22.988238</td>\n",
       "    </tr>\n",
       "    <tr>\n",
       "      <th>2019-12-31</th>\n",
       "      <td>187.973088</td>\n",
       "      <td>19.320011</td>\n",
       "    </tr>\n",
       "    <tr>\n",
       "      <th>2020-01-31</th>\n",
       "      <td>219.959146</td>\n",
       "      <td>35.124058</td>\n",
       "    </tr>\n",
       "    <tr>\n",
       "      <th>2020-02-29</th>\n",
       "      <td>171.667022</td>\n",
       "      <td>29.256793</td>\n",
       "    </tr>\n",
       "    <tr>\n",
       "      <th>2020-03-31</th>\n",
       "      <td>218.027907</td>\n",
       "      <td>8.927815</td>\n",
       "    </tr>\n",
       "    <tr>\n",
       "      <th>2020-04-30</th>\n",
       "      <td>207.338539</td>\n",
       "      <td>24.320969</td>\n",
       "    </tr>\n",
       "    <tr>\n",
       "      <th>2020-05-31</th>\n",
       "      <td>241.984463</td>\n",
       "      <td>24.109511</td>\n",
       "    </tr>\n",
       "    <tr>\n",
       "      <th>2020-06-30</th>\n",
       "      <td>213.371320</td>\n",
       "      <td>16.191658</td>\n",
       "    </tr>\n",
       "    <tr>\n",
       "      <th>2020-07-31</th>\n",
       "      <td>209.900677</td>\n",
       "      <td>28.339363</td>\n",
       "    </tr>\n",
       "    <tr>\n",
       "      <th>2020-08-31</th>\n",
       "      <td>212.093537</td>\n",
       "      <td>7.842380</td>\n",
       "    </tr>\n",
       "    <tr>\n",
       "      <th>2020-09-30</th>\n",
       "      <td>204.653713</td>\n",
       "      <td>12.735927</td>\n",
       "    </tr>\n",
       "    <tr>\n",
       "      <th>2020-10-31</th>\n",
       "      <td>213.758819</td>\n",
       "      <td>28.294377</td>\n",
       "    </tr>\n",
       "    <tr>\n",
       "      <th>2020-11-30</th>\n",
       "      <td>225.528988</td>\n",
       "      <td>16.257591</td>\n",
       "    </tr>\n",
       "    <tr>\n",
       "      <th>2020-12-31</th>\n",
       "      <td>316.343472</td>\n",
       "      <td>65.731914</td>\n",
       "    </tr>\n",
       "    <tr>\n",
       "      <th>2021-01-31</th>\n",
       "      <td>186.915087</td>\n",
       "      <td>3.638313</td>\n",
       "    </tr>\n",
       "    <tr>\n",
       "      <th>2021-02-28</th>\n",
       "      <td>201.023215</td>\n",
       "      <td>25.335866</td>\n",
       "    </tr>\n",
       "    <tr>\n",
       "      <th>2021-03-31</th>\n",
       "      <td>160.849846</td>\n",
       "      <td>20.393983</td>\n",
       "    </tr>\n",
       "    <tr>\n",
       "      <th>2021-04-30</th>\n",
       "      <td>133.450962</td>\n",
       "      <td>13.534789</td>\n",
       "    </tr>\n",
       "    <tr>\n",
       "      <th>2021-05-31</th>\n",
       "      <td>211.773358</td>\n",
       "      <td>25.812606</td>\n",
       "    </tr>\n",
       "    <tr>\n",
       "      <th>2021-06-30</th>\n",
       "      <td>224.803156</td>\n",
       "      <td>22.151871</td>\n",
       "    </tr>\n",
       "    <tr>\n",
       "      <th>2021-07-31</th>\n",
       "      <td>177.158036</td>\n",
       "      <td>31.433438</td>\n",
       "    </tr>\n",
       "    <tr>\n",
       "      <th>2021-08-31</th>\n",
       "      <td>284.930162</td>\n",
       "      <td>39.654136</td>\n",
       "    </tr>\n",
       "    <tr>\n",
       "      <th>2021-09-30</th>\n",
       "      <td>189.568522</td>\n",
       "      <td>18.138919</td>\n",
       "    </tr>\n",
       "    <tr>\n",
       "      <th>2021-10-31</th>\n",
       "      <td>237.952763</td>\n",
       "      <td>14.893189</td>\n",
       "    </tr>\n",
       "    <tr>\n",
       "      <th>2021-11-30</th>\n",
       "      <td>247.942360</td>\n",
       "      <td>37.510684</td>\n",
       "    </tr>\n",
       "    <tr>\n",
       "      <th>2021-12-31</th>\n",
       "      <td>209.363347</td>\n",
       "      <td>5.413299</td>\n",
       "    </tr>\n",
       "  </tbody>\n",
       "</table>\n",
       "</div>"
      ]
     },
     "metadata": {
      "application/vnd.databricks.v1+output": {
       "addedWidgets": {},
       "arguments": {},
       "data": "<div>\n<style scoped>\n    .dataframe tbody tr th:only-of-type {\n        vertical-align: middle;\n    }\n\n    .dataframe tbody tr th {\n        vertical-align: top;\n    }\n\n    .dataframe thead th {\n        text-align: right;\n    }\n</style>\n<table border=\"1\" class=\"dataframe\">\n  <thead>\n    <tr style=\"text-align: right;\">\n      <th></th>\n      <th>sales</th>\n      <th>profit</th>\n    </tr>\n    <tr>\n      <th>order_date</th>\n      <th></th>\n      <th></th>\n    </tr>\n  </thead>\n  <tbody>\n    <tr>\n      <th>2018-01-31</th>\n      <td>196.901469</td>\n      <td>25.006862</td>\n    </tr>\n    <tr>\n      <th>2018-02-28</th>\n      <td>93.078214</td>\n      <td>14.039293</td>\n    </tr>\n    <tr>\n      <th>2018-03-31</th>\n      <td>210.697070</td>\n      <td>-7.325470</td>\n    </tr>\n    <tr>\n      <th>2018-04-30</th>\n      <td>184.639136</td>\n      <td>23.618500</td>\n    </tr>\n    <tr>\n      <th>2018-05-31</th>\n      <td>240.451667</td>\n      <td>23.901987</td>\n    </tr>\n    <tr>\n      <th>2018-06-30</th>\n      <td>243.669312</td>\n      <td>27.481809</td>\n    </tr>\n    <tr>\n      <th>2018-07-31</th>\n      <td>197.087615</td>\n      <td>10.743457</td>\n    </tr>\n    <tr>\n      <th>2018-08-31</th>\n      <td>190.887271</td>\n      <td>26.642651</td>\n    </tr>\n    <tr>\n      <th>2018-09-30</th>\n      <td>256.673529</td>\n      <td>16.594541</td>\n    </tr>\n    <tr>\n      <th>2018-10-31</th>\n      <td>235.724192</td>\n      <td>17.825173</td>\n    </tr>\n    <tr>\n      <th>2018-11-30</th>\n      <td>213.129495</td>\n      <td>19.757981</td>\n    </tr>\n    <tr>\n      <th>2018-12-31</th>\n      <td>294.166089</td>\n      <td>31.346323</td>\n    </tr>\n    <tr>\n      <th>2019-01-31</th>\n      <td>425.628676</td>\n      <td>-94.873614</td>\n    </tr>\n    <tr>\n      <th>2019-02-28</th>\n      <td>201.635167</td>\n      <td>60.290664</td>\n    </tr>\n    <tr>\n      <th>2019-03-31</th>\n      <td>203.352570</td>\n      <td>31.672772</td>\n    </tr>\n    <tr>\n      <th>2019-04-30</th>\n      <td>206.228035</td>\n      <td>0.006381</td>\n    </tr>\n    <tr>\n      <th>2019-05-31</th>\n      <td>190.282980</td>\n      <td>18.822312</td>\n    </tr>\n    <tr>\n      <th>2019-06-30</th>\n      <td>228.304221</td>\n      <td>24.066172</td>\n    </tr>\n    <tr>\n      <th>2019-07-31</th>\n      <td>225.412803</td>\n      <td>4.970905</td>\n    </tr>\n    <tr>\n      <th>2019-08-31</th>\n      <td>237.875444</td>\n      <td>18.559700</td>\n    </tr>\n    <tr>\n      <th>2019-09-30</th>\n      <td>220.296093</td>\n      <td>15.631314</td>\n    </tr>\n    <tr>\n      <th>2019-10-31</th>\n      <td>215.948649</td>\n      <td>4.319531</td>\n    </tr>\n    <tr>\n      <th>2019-11-30</th>\n      <td>265.600383</td>\n      <td>22.988238</td>\n    </tr>\n    <tr>\n      <th>2019-12-31</th>\n      <td>187.973088</td>\n      <td>19.320011</td>\n    </tr>\n    <tr>\n      <th>2020-01-31</th>\n      <td>219.959146</td>\n      <td>35.124058</td>\n    </tr>\n    <tr>\n      <th>2020-02-29</th>\n      <td>171.667022</td>\n      <td>29.256793</td>\n    </tr>\n    <tr>\n      <th>2020-03-31</th>\n      <td>218.027907</td>\n      <td>8.927815</td>\n    </tr>\n    <tr>\n      <th>2020-04-30</th>\n      <td>207.338539</td>\n      <td>24.320969</td>\n    </tr>\n    <tr>\n      <th>2020-05-31</th>\n      <td>241.984463</td>\n      <td>24.109511</td>\n    </tr>\n    <tr>\n      <th>2020-06-30</th>\n      <td>213.371320</td>\n      <td>16.191658</td>\n    </tr>\n    <tr>\n      <th>2020-07-31</th>\n      <td>209.900677</td>\n      <td>28.339363</td>\n    </tr>\n    <tr>\n      <th>2020-08-31</th>\n      <td>212.093537</td>\n      <td>7.842380</td>\n    </tr>\n    <tr>\n      <th>2020-09-30</th>\n      <td>204.653713</td>\n      <td>12.735927</td>\n    </tr>\n    <tr>\n      <th>2020-10-31</th>\n      <td>213.758819</td>\n      <td>28.294377</td>\n    </tr>\n    <tr>\n      <th>2020-11-30</th>\n      <td>225.528988</td>\n      <td>16.257591</td>\n    </tr>\n    <tr>\n      <th>2020-12-31</th>\n      <td>316.343472</td>\n      <td>65.731914</td>\n    </tr>\n    <tr>\n      <th>2021-01-31</th>\n      <td>186.915087</td>\n      <td>3.638313</td>\n    </tr>\n    <tr>\n      <th>2021-02-28</th>\n      <td>201.023215</td>\n      <td>25.335866</td>\n    </tr>\n    <tr>\n      <th>2021-03-31</th>\n      <td>160.849846</td>\n      <td>20.393983</td>\n    </tr>\n    <tr>\n      <th>2021-04-30</th>\n      <td>133.450962</td>\n      <td>13.534789</td>\n    </tr>\n    <tr>\n      <th>2021-05-31</th>\n      <td>211.773358</td>\n      <td>25.812606</td>\n    </tr>\n    <tr>\n      <th>2021-06-30</th>\n      <td>224.803156</td>\n      <td>22.151871</td>\n    </tr>\n    <tr>\n      <th>2021-07-31</th>\n      <td>177.158036</td>\n      <td>31.433438</td>\n    </tr>\n    <tr>\n      <th>2021-08-31</th>\n      <td>284.930162</td>\n      <td>39.654136</td>\n    </tr>\n    <tr>\n      <th>2021-09-30</th>\n      <td>189.568522</td>\n      <td>18.138919</td>\n    </tr>\n    <tr>\n      <th>2021-10-31</th>\n      <td>237.952763</td>\n      <td>14.893189</td>\n    </tr>\n    <tr>\n      <th>2021-11-30</th>\n      <td>247.942360</td>\n      <td>37.510684</td>\n    </tr>\n    <tr>\n      <th>2021-12-31</th>\n      <td>209.363347</td>\n      <td>5.413299</td>\n    </tr>\n  </tbody>\n</table>\n</div>",
       "datasetInfos": [],
       "metadata": {},
       "removedWidgets": [],
       "textData": null,
       "type": "htmlSandbox"
      }
     },
     "output_type": "display_data"
    }
   ],
   "source": [
    "df.resample('M').mean()  # Resample to monthly frequency, taking the mean"
   ]
  },
  {
   "cell_type": "code",
   "execution_count": null,
   "metadata": {
    "application/vnd.databricks.v1+cell": {
     "cellMetadata": {
      "byteLimit": 2048000,
      "rowLimit": 10000
     },
     "inputWidgets": {},
     "nuid": "22bc2cd7-be0c-433f-bf18-d2f575586395",
     "showTitle": false,
     "title": ""
    }
   },
   "outputs": [
    {
     "data": {
      "text/html": [
       "<div>\n",
       "<style scoped>\n",
       "    .dataframe tbody tr th:only-of-type {\n",
       "        vertical-align: middle;\n",
       "    }\n",
       "\n",
       "    .dataframe tbody tr th {\n",
       "        vertical-align: top;\n",
       "    }\n",
       "\n",
       "    .dataframe thead th {\n",
       "        text-align: right;\n",
       "    }\n",
       "</style>\n",
       "<table border=\"1\" class=\"dataframe\">\n",
       "  <thead>\n",
       "    <tr style=\"text-align: right;\">\n",
       "      <th></th>\n",
       "      <th>order_id</th>\n",
       "      <th>customer_name</th>\n",
       "      <th>city</th>\n",
       "      <th>category</th>\n",
       "      <th>product_id</th>\n",
       "      <th>sales</th>\n",
       "      <th>profit</th>\n",
       "    </tr>\n",
       "    <tr>\n",
       "      <th>order_date</th>\n",
       "      <th></th>\n",
       "      <th></th>\n",
       "      <th></th>\n",
       "      <th></th>\n",
       "      <th></th>\n",
       "      <th></th>\n",
       "      <th></th>\n",
       "    </tr>\n",
       "  </thead>\n",
       "  <tbody>\n",
       "    <tr>\n",
       "      <th>2018-12-31</th>\n",
       "      <td>CA-2018-100006</td>\n",
       "      <td>Aaron Bergman</td>\n",
       "      <td>Akron</td>\n",
       "      <td>Furniture</td>\n",
       "      <td>FUR-BO-10000330</td>\n",
       "      <td>0.852</td>\n",
       "      <td>-734.5264</td>\n",
       "    </tr>\n",
       "    <tr>\n",
       "      <th>2019-12-31</th>\n",
       "      <td>CA-2019-100146</td>\n",
       "      <td>Aaron Hawkins</td>\n",
       "      <td>Akron</td>\n",
       "      <td>Furniture</td>\n",
       "      <td>FUR-BO-10000330</td>\n",
       "      <td>1.080</td>\n",
       "      <td>-1862.3124</td>\n",
       "    </tr>\n",
       "    <tr>\n",
       "      <th>2020-12-31</th>\n",
       "      <td>CA-2020-100041</td>\n",
       "      <td>Aaron Bergman</td>\n",
       "      <td>Akron</td>\n",
       "      <td>Furniture</td>\n",
       "      <td>FUR-BO-10000362</td>\n",
       "      <td>0.836</td>\n",
       "      <td>-760.9800</td>\n",
       "    </tr>\n",
       "    <tr>\n",
       "      <th>2021-12-31</th>\n",
       "      <td>CA-2021-100013</td>\n",
       "      <td>Aaron Hawkins</td>\n",
       "      <td>Aberdeen</td>\n",
       "      <td>Furniture</td>\n",
       "      <td>FUR-BO-10000112</td>\n",
       "      <td>0.444</td>\n",
       "      <td>-2929.4845</td>\n",
       "    </tr>\n",
       "  </tbody>\n",
       "</table>\n",
       "</div>"
      ]
     },
     "metadata": {
      "application/vnd.databricks.v1+output": {
       "addedWidgets": {},
       "arguments": {},
       "data": "<div>\n<style scoped>\n    .dataframe tbody tr th:only-of-type {\n        vertical-align: middle;\n    }\n\n    .dataframe tbody tr th {\n        vertical-align: top;\n    }\n\n    .dataframe thead th {\n        text-align: right;\n    }\n</style>\n<table border=\"1\" class=\"dataframe\">\n  <thead>\n    <tr style=\"text-align: right;\">\n      <th></th>\n      <th>order_id</th>\n      <th>customer_name</th>\n      <th>city</th>\n      <th>category</th>\n      <th>product_id</th>\n      <th>sales</th>\n      <th>profit</th>\n    </tr>\n    <tr>\n      <th>order_date</th>\n      <th></th>\n      <th></th>\n      <th></th>\n      <th></th>\n      <th></th>\n      <th></th>\n      <th></th>\n    </tr>\n  </thead>\n  <tbody>\n    <tr>\n      <th>2018-12-31</th>\n      <td>CA-2018-100006</td>\n      <td>Aaron Bergman</td>\n      <td>Akron</td>\n      <td>Furniture</td>\n      <td>FUR-BO-10000330</td>\n      <td>0.852</td>\n      <td>-734.5264</td>\n    </tr>\n    <tr>\n      <th>2019-12-31</th>\n      <td>CA-2019-100146</td>\n      <td>Aaron Hawkins</td>\n      <td>Akron</td>\n      <td>Furniture</td>\n      <td>FUR-BO-10000330</td>\n      <td>1.080</td>\n      <td>-1862.3124</td>\n    </tr>\n    <tr>\n      <th>2020-12-31</th>\n      <td>CA-2020-100041</td>\n      <td>Aaron Bergman</td>\n      <td>Akron</td>\n      <td>Furniture</td>\n      <td>FUR-BO-10000362</td>\n      <td>0.836</td>\n      <td>-760.9800</td>\n    </tr>\n    <tr>\n      <th>2021-12-31</th>\n      <td>CA-2021-100013</td>\n      <td>Aaron Hawkins</td>\n      <td>Aberdeen</td>\n      <td>Furniture</td>\n      <td>FUR-BO-10000112</td>\n      <td>0.444</td>\n      <td>-2929.4845</td>\n    </tr>\n  </tbody>\n</table>\n</div>",
       "datasetInfos": [],
       "metadata": {},
       "removedWidgets": [],
       "textData": null,
       "type": "htmlSandbox"
      }
     },
     "output_type": "display_data"
    }
   ],
   "source": [
    "# we can used other aggregate functions as well\n",
    "df.resample('M').sum()\n",
    "df.resample('Y').max()\n",
    "df.resample('Y').min()"
   ]
  },
  {
   "cell_type": "markdown",
   "metadata": {
    "application/vnd.databricks.v1+cell": {
     "cellMetadata": {},
     "inputWidgets": {},
     "nuid": "3800154c-4705-4cc9-9ea6-28dc96677bb1",
     "showTitle": false,
     "title": ""
    }
   },
   "source": []
  },
  {
   "cell_type": "markdown",
   "metadata": {
    "application/vnd.databricks.v1+cell": {
     "cellMetadata": {},
     "inputWidgets": {},
     "nuid": "e300310d-e02b-4eba-b209-3d73ea48a6f6",
     "showTitle": false,
     "title": ""
    }
   },
   "source": [
    "#### Plotting\n",
    "\n",
    "Pandas provides easy-to-use interfaces for visualizing data through Matplotlib, a popular plotting library in Python."
   ]
  },
  {
   "cell_type": "code",
   "execution_count": null,
   "metadata": {
    "application/vnd.databricks.v1+cell": {
     "cellMetadata": {
      "byteLimit": 2048000,
      "rowLimit": 10000
     },
     "inputWidgets": {},
     "nuid": "163c945e-2454-470c-945e-59e593d6b662",
     "showTitle": false,
     "title": ""
    }
   },
   "outputs": [],
   "source": [
    "#pip install matplotlib\n",
    "%matplotlib inline"
   ]
  },
  {
   "cell_type": "code",
   "execution_count": null,
   "metadata": {
    "application/vnd.databricks.v1+cell": {
     "cellMetadata": {
      "byteLimit": 2048000,
      "rowLimit": 10000
     },
     "inputWidgets": {},
     "nuid": "9b215cfe-ed57-4523-97f7-e333c5598a41",
     "showTitle": false,
     "title": ""
    }
   },
   "outputs": [
    {
     "name": "stdout",
     "output_type": "stream",
     "text": [
      "Out[47]: <AxesSubplot:xlabel='order_date'>"
     ]
    },
    {
     "data": {
      "image/png": "[encoded data removed]"
     },
     "metadata": {
      "application/vnd.databricks.v1+output": {
       "addedWidgets": {},
       "arguments": {},
       "data": "data:image/png;base64,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\n",
       "datasetInfos": [],
       "metadata": {},
       "removedWidgets": [],
       "type": "image"
      }
     },
     "output_type": "display_data"
    }
   ],
   "source": [
    "# Line Plot: Default plot type when you call .plot() on a DataFrame or Series.\n",
    "df.plot()"
   ]
  },
  {
   "cell_type": "code",
   "execution_count": null,
   "metadata": {
    "application/vnd.databricks.v1+cell": {
     "cellMetadata": {
      "byteLimit": 2048000,
      "rowLimit": 10000
     },
     "inputWidgets": {},
     "nuid": "1515ee64-9ac0-4747-8255-fa1081dda9b5",
     "showTitle": false,
     "title": ""
    }
   },
   "outputs": [
    {
     "name": "stdout",
     "output_type": "stream",
     "text": [
      "Out[49]: <AxesSubplot:xlabel='order_date'>"
     ]
    },
    {
     "data": {
      "image/png": "[encoded data removed]"
     },
     "metadata": {
      "application/vnd.databricks.v1+output": {
       "addedWidgets": {},
       "arguments": {},
       "data": "data:image/png;base64,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\n",
       "datasetInfos": [],
       "metadata": {},
       "removedWidgets": [],
       "type": "image"
      }
     },
     "output_type": "display_data"
    }
   ],
   "source": [
    "# Bar Plot\n",
    "df.plot(kind='bar')"
   ]
  },
  {
   "cell_type": "code",
   "execution_count": null,
   "metadata": {
    "application/vnd.databricks.v1+cell": {
     "cellMetadata": {
      "byteLimit": 2048000,
      "rowLimit": 10000
     },
     "inputWidgets": {},
     "nuid": "0f3d9899-0270-410f-9dbd-12ebd4de4503",
     "showTitle": false,
     "title": ""
    }
   },
   "outputs": [
    {
     "name": "stdout",
     "output_type": "stream",
     "text": [
      "Out[50]: <AxesSubplot:title={'center':'my first pie chart'}, ylabel='sales'><Figure size 432x288 with 1 Axes>"
     ]
    }
   ],
   "source": [
    "# pie chart\n",
    "df.plot('category', 'sales', kind='pie', title='my first pie chart')"
   ]
  },
  {
   "cell_type": "code",
   "execution_count": null,
   "metadata": {
    "application/vnd.databricks.v1+cell": {
     "cellMetadata": {
      "byteLimit": 2048000,
      "rowLimit": 10000
     },
     "inputWidgets": {},
     "nuid": "4c5abe12-9b2b-4a44-b662-6be923ed7a86",
     "showTitle": false,
     "title": ""
    }
   },
   "outputs": [
    {
     "name": "stdout",
     "output_type": "stream",
     "text": [
      "Out[51]: <AxesSubplot:ylabel='Frequency'>"
     ]
    },
    {
     "data": {
      "image/png": "[encoded data removed]"
     },
     "metadata": {
      "application/vnd.databricks.v1+output": {
       "addedWidgets": {},
       "arguments": {},
       "data": "data:image/png;base64,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\n",
       "datasetInfos": [],
       "metadata": {},
       "removedWidgets": [],
       "type": "image"
      }
     },
     "output_type": "display_data"
    }
   ],
   "source": [
    "# Histogram\n",
    "df.groupby('category')['sales'].sum().plot(kind='hist', bins=10)"
   ]
  },
  {
   "cell_type": "code",
   "execution_count": null,
   "metadata": {
    "application/vnd.databricks.v1+cell": {
     "cellMetadata": {
      "byteLimit": 2048000,
      "rowLimit": 10000
     },
     "inputWidgets": {},
     "nuid": "21893fea-4bbe-4509-bc74-a52c221d2fa0",
     "showTitle": false,
     "title": ""
    }
   },
   "outputs": [
    {
     "data": {
      "image/png": "[encoded data removed]"
     },
     "metadata": {
      "application/vnd.databricks.v1+output": {
       "addedWidgets": {},
       "arguments": {},
       "data": "data:image/png;base64,iVBORw0KGgoAAAANSUhEUgAAAYkAAAEICAYAAACqMQjAAAAAOXRFWHRTb2Z0d2FyZQBNYXRwbG90bGliIHZlcnNpb24zLjUuMSwgaHR0cHM6Ly9tYXRwbG90bGliLm9yZy/YYfK9AAAACXBIWXMAAAsTAAALEwEAmpwYAAASe0lEQVR4nO3dbZCd5X3f8e/PCGwKtsSDQrFEvbRWk2BcMGgwnqTuBCYgIK6YqYPJuJGGMNZMjZN03JlaTtOS2KaVx21I8CTMqEFFip1iSuyiRNhYxTidvACzxBgMxGFLYJDCwyIJsONHyL8v9pLnsJxr90hCZ0F8PzNn9r7/93Xf/+u8Ob+9H85uqgpJkoZ53UJPQJL0ymVISJK6DAlJUpchIUnqMiQkSV2GhCSpy5CQXmGSXJ/kEws9DwkMCelFkjyS5HtJvpNkT5JtSU46CH2+muT7rc/TST6f5MT9OE4leevLPT9pL0NCeqn3VNXRwInAk8CnD1KfD7U+/xRYAlx9kPpI+82QkDqq6vvATcApe2tJFifZkmQ6yaNJfjPJ65Icm2RHkve0cUcnmUqyZoQ+u4E/AU4dtj3JB9qxdifZmuTNrf5/25BvtDOS9x3gW5ZewpCQOpL8A+B9wB0D5U8Di4F/DPwLYA1wWfug/xXgvyf5CWbOCu6pqi0j9Dke+FfA14dsOwf4L8AlzJzZPArcAFBV727DTquqo6vqc/vzPqW5LFroCUivQP87yfPAUcA0cD5AksOAS4HTq+rbwLeT/Dfgl4HrqurLSf4XcBtwLPDP5ulzTZL/Cvwd8FXgw0PGvB/YVFV/2ebwUWBPkomqeuTA3qY0P88kpJe6uKqWAG8APgT8eZJ/CBwPHM7Mb/N7PQosG1jfyMxlo+uratc8fX6tqpZU1bKqen9VTQ8Z8+bBflX1HWDXrJ7SQWNISB1V9UJVfR54AfhZ4GngR8BbBob9I2An/PhMYyOwBfjgy/TU0d8O9ktyFHDc3p7SwWZISB2ZsRo4Bniwql4AbgSuSvLGJG9h5hLRZ9ouvwEUM/cmPgVsacFxIP4ncFmS05O8HvjPwJ0Dl5qeZOb+iHRQGBLSS/1pku8AzwFXAWur6v627VeZuYfwMPAXwB8Dm5KcyUxgrGlh8klmAmP9gUykqv4P8B+ZefrpceCfMHNfZK/fAjYneSbJJQfSSxom/tMhSVKPZxKSpC5DQpLUZUhIkroMCUlS1yH3jevjjz++JiYmFnoakvSqcvfddz9dVUtn1w+5kJiYmGBycnKhpyFJrypJHh1W93KTJKnLkJAkdRkSkqQuQ0KS1GVISJK6DAlJUpchIUnqMiQkSV2H3JfppHGZWL9tLH0e2XDRWPpIwxgS0n7a1w/vifXb/MDXq46XmyRJXYaEJKnLkJAkdRkSkqQuQ0KS1GVISJK6DAlJUpchIUnqGikkkixJclOSv0ryYJJ3JTk2yfYkD7Wfx7SxSXJNkqkk9yY5Y+A4a9v4h5KsHaifmeS+ts81SdLqQ3tIksZj1DOJ3wO+VFU/BZwGPAisB26rqhXAbW0d4AJgRXutA66FmQ984ErgncBZwJUDH/rXAh8Y2G9Vq/d6SJLGYN6QSLIYeDdwHUBV/bCqngFWA5vbsM3AxW15NbClZtwBLElyInA+sL2qdlfVHmA7sKpte1NV3VFVBWyZdaxhPSRJYzDKmcTJwDTwP5J8PckfJjkKOKGqHm9jngBOaMvLgMcG9t/RanPVdwypM0ePF0myLslkksnp6ekR3pIkaRSjhMQi4Azg2qp6B/B3zLrs084A6uWf3mg9qmpjVa2sqpVLly49mNOQpNeUUUJiB7Cjqu5s6zcxExpPtktFtJ9Pte07gZMG9l/eanPVlw+pM0cPSdIYzBsSVfUE8FiSn2ylc4EHgK3A3ieU1gI3t+WtwJr2lNPZwLPtktGtwHlJjmk3rM8Dbm3bnktydnuqac2sYw3rIUkag1H/n8SvAp9NcgTwMHAZMwFzY5LLgUeBS9rYW4ALgSngu20sVbU7yceBu9q4j1XV7rb8QeB64Ejgi+0FsKHTQ5I0BiOFRFXdA6wcsuncIWMLuKJznE3ApiH1SeDUIfVdw3pIksbDb1xLkroMCUlSlyEhSeoyJCRJXYaEJKnLkJAkdRkSkqQuQ0KS1GVISJK6DAlJUpchIUnqMiQkSV2GhCSpy5CQJHUZEpKkLkNCktRlSEiSugwJSVKXISFJ6jIkJEldhoQkqcuQkCR1GRKSpC5DQpLUZUhIkroMCUlSlyEhSeoyJCRJXYaEJKnLkJAkdRkSkqQuQ0KS1GVISJK6DAlJUpchIUnqGikkkjyS5L4k9ySZbLVjk2xP8lD7eUyrJ8k1SaaS3JvkjIHjrG3jH0qydqB+Zjv+VNs3c/WQJI3HvpxJ/FxVnV5VK9v6euC2qloB3NbWAS4AVrTXOuBamPnAB64E3gmcBVw58KF/LfCBgf1WzdNDkjQGB3K5aTWwuS1vBi4eqG+pGXcAS5KcCJwPbK+q3VW1B9gOrGrb3lRVd1RVAVtmHWtYD0nSGIwaEgV8OcndSda12glV9XhbfgI4oS0vAx4b2HdHq81V3zGkPlePF0myLslkksnp6ekR35IkaT6LRhz3s1W1M8lPANuT/NXgxqqqJPXyT2+0HlW1EdgIsHLlyoM6D0l6LRnpTKKqdrafTwFfYOaewpPtUhHt51Nt+E7gpIHdl7faXPXlQ+rM0UOSNAbzhkSSo5K8ce8ycB7wTWArsPcJpbXAzW15K7CmPeV0NvBsu2R0K3BekmPaDevzgFvbtueSnN2ealoz61jDekiSxmCUy00nAF9oT6UuAv64qr6U5C7gxiSXA48Cl7TxtwAXAlPAd4HLAKpqd5KPA3e1cR+rqt1t+YPA9cCRwBfbC2BDp4ckaQzmDYmqehg4bUh9F3DukHoBV3SOtQnYNKQ+CZw6ag9J0nj4jWtJUpchIUnqMiQkSV2GhCSpy5CQJHUZEpKkLkNCktRlSEiSugwJSVKXISFJ6hr1T4VLh7TTfvvLPPu9Hx30PhPrtx3U4y8+8nC+ceV5B7WHXlsMCQl49ns/4pENFy30NA7YwQ4hvfZ4uUmS1GVISJK6DAlJUpchIUnqMiQkSV2GhCSpy5CQJHUZEpKkLkNCktRlSEiSugwJSVKXISFJ6jIkJEldhoQkqcuQkCR1GRKSpC5DQpLUZUhIkroMCUlSlyEhSeoyJCRJXYaEJKnLkJAkdY0cEkkOS/L1JH/W1k9OcmeSqSSfS3JEq7++rU+17RMDx/hoq38ryfkD9VWtNpVk/UB9aA9J0njsy5nErwMPDqx/Eri6qt4K7AEub/XLgT2tfnUbR5JTgEuBtwGrgD9owXMY8PvABcApwC+1sXP1kCSNwUghkWQ5cBHwh209wDnATW3IZuDitry6rdO2n9vGrwZuqKofVNXfAFPAWe01VVUPV9UPgRuA1fP0kCSNwahnEr8L/Hvg79v6ccAzVfV8W98BLGvLy4DHANr2Z9v4H9dn7dOrz9XjRZKsSzKZZHJ6enrEtyRJms+8IZHkF4CnquruMcxnv1TVxqpaWVUrly5dutDTkaRDxqIRxvwM8C+TXAi8AXgT8HvAkiSL2m/6y4GdbfxO4CRgR5JFwGJg10B9r8F9htV3zdFDkjQG855JVNVHq2p5VU0wc+P5K1X1fuB24L1t2Frg5ra8ta3Ttn+lqqrVL21PP50MrAC+BtwFrGhPMh3Remxt+/R6SJLG4EC+J/ER4MNJppi5f3Bdq18HHNfqHwbWA1TV/cCNwAPAl4ArquqFdpbwIeBWZp6eurGNnauHJGkMRrnc9GNV9VXgq235YWaeTJo95vvAL3b2vwq4akj9FuCWIfWhPSRJ4+E3riVJXYaEJKnLkJAkdRkSkqQuQ0KS1GVISJK6DAlJUpchIUnqMiQkSV2GhCSpy5CQJHUZEpKkLkNCktRlSEiSugwJSVKXISFJ6jIkJEldhoQkqcuQkCR1GRKSpC5DQpLUZUhIkroMCUlSlyEhSeoyJCRJXYaEJKnLkJAkdRkSkqQuQ0KS1GVISJK6DAlJUpchIUnqMiQkSV2GhCSpy5CQJHXNGxJJ3pDka0m+keT+JL/d6icnuTPJVJLPJTmi1V/f1qfa9omBY3201b+V5PyB+qpWm0qyfqA+tIckaTxGOZP4AXBOVZ0GnA6sSnI28Eng6qp6K7AHuLyNvxzY0+pXt3EkOQW4FHgbsAr4gySHJTkM+H3gAuAU4JfaWOboIUkag3lDomZ8p60e3l4FnAPc1OqbgYvb8uq2Ttt+bpK0+g1V9YOq+htgCjirvaaq6uGq+iFwA7C67dPrIUkag5HuSbTf+O8BngK2A/8PeKaqnm9DdgDL2vIy4DGAtv1Z4LjB+qx9evXj5ugxe37rkkwmmZyenh7lLUmSRrBolEFV9QJwepIlwBeAnzqYk9pXVbUR2AiwcuXKWuDp6FXojT+9nrdvXj//wFe4N/40wEULPQ0dQkYKib2q6pkktwPvApYkWdR+018O7GzDdgInATuSLAIWA7sG6nsN7jOsvmuOHtLL6tsPbuCRDa/+D9eJ9dsWego6xIzydNPSdgZBkiOBnwceBG4H3tuGrQVubstb2zpt+1eqqlr90vb008nACuBrwF3AivYk0xHM3Nze2vbp9ZAkjcEoZxInApvbU0ivA26sqj9L8gBwQ5JPAF8HrmvjrwP+KMkUsJuZD32q6v4kNwIPAM8DV7TLWCT5EHArcBiwqarub8f6SKeHJGkM5g2JqroXeMeQ+sPMPJk0u/594Bc7x7oKuGpI/RbgllF7SJLGw29cS5K6DAlJUpchIUnqMiQkSV2GhCSpy5CQJHUZEpKkLkNCktRlSEiSugwJSVKXISFJ6jIkJEldhoQkqcuQkCR1GRKSpC5DQpLUZUhIkroMCUlSlyEhSeoyJCRJXYaEJKlr0UJPQHqlmFi/baGncMAWH3n4Qk9BhxhDQgIe2XDRQe8xsX7bWPpILycvN0mSugwJSVKXISFJ6jIkJEldhoQkqcuQkCR1GRKSpC5DQpLUZUhIkroMCUlSlyEhSeoyJCRJXfOGRJKTktye5IEk9yf59VY/Nsn2JA+1n8e0epJck2Qqyb1Jzhg41to2/qEkawfqZya5r+1zTZLM1UOSNB6jnEk8D/y7qjoFOBu4IskpwHrgtqpaAdzW1gEuAFa01zrgWpj5wAeuBN4JnAVcOfChfy3wgYH9VrV6r4ckaQzmDYmqeryq/rItfxt4EFgGrAY2t2GbgYvb8mpgS824A1iS5ETgfGB7Ve2uqj3AdmBV2/amqrqjqgrYMutYw3pIksZgn+5JJJkA3gHcCZxQVY+3TU8AJ7TlZcBjA7vtaLW56juG1Jmjx+x5rUsymWRyenp6X96SJGkOI4dEkqOBPwH+bVU9N7itnQHUyzy3F5mrR1VtrKqVVbVy6dKlB3MakvSaMlJIJDmcmYD4bFV9vpWfbJeKaD+favWdwEkDuy9vtbnqy4fU5+ohSRqDUZ5uCnAd8GBV/c7Apq3A3ieU1gI3D9TXtKeczgaebZeMbgXOS3JMu2F9HnBr2/ZckrNbrzWzjjWshyRpDEb5H9c/A/wycF+Se1rtN4ANwI1JLgceBS5p224BLgSmgO8ClwFU1e4kHwfuauM+VlW72/IHgeuBI4Evthdz9JAkjcG8IVFVfwGks/ncIeMLuKJzrE3ApiH1SeDUIfVdw3pIksbDb1xLkroMCUlSlyEhSeoa5ca1pCEm1m8byz6PbLhon/eRXi6GhLSf/PDWa4GXmyRJXYaEJKnLkJAkdRkSkqQuQ0KS1GVISJK6DAlJUpchIUnqyswfbT10JJlm5s+KS680xwNPL/QkpI63VNVL/rXnIRcS0itVksmqWrnQ85D2hZebJEldhoQkqcuQkMZn40JPQNpX3pOQJHV5JiFJ6jIkJEldhoQ0BkmuT/LehZ6HtK8MCUlSlyEh7ackRyXZluQbSb6Z5H1J/lOSu9r6xiQZst+ZSf48yd1Jbk1yYqv/WpIHktyb5IbxvyPppfwf19L+WwX8bVVdBJBkMbC9qj7W1v8I+AXgT/fukORw4NPA6qqaTvI+4CrgV4D1wMlV9YMkS8b6TqQOzySk/Xcf8PNJPpnkn1fVs8DPJbkzyX3AOcDbZu3zk8CpwPYk9wC/CSxv2+4FPpvkXwPPj+UdSPPwTELaT1X110nOAC4EPpHkNuAKYGVVPZbkt4A3zNotwP1V9a4hh7wIeDfwHuA/JHl7VRkWWlCeSUj7Kcmbge9W1WeATwFntE1PJzkaGPY007eApUne1Y5xeJK3JXkdcFJV3Q58BFgMHH3Q34Q0D88kpP33duBTSf4e+BHwb4CLgW8CTwB3zd6hqn7YHoW9pt3DWAT8LvDXwGdaLcA1VfXMGN6DNCf/LIckqcvLTZKkLkNCktRlSEiSugwJSVKXISFJ6jIkJEldhoQkqev/A7FUjnFg+6aJAAAAAElFTkSuQmCC\n",
       "datasetInfos": [],
       "metadata": {},
       "removedWidgets": [],
       "type": "image"
      }
     },
     "output_type": "display_data"
    }
   ],
   "source": [
    "# Box Plot\n",
    "import matplotlib.pyplot as plt\n",
    "\n",
    "df.groupby('category')['sales'].sum().plot(kind='box')\n",
    "plt.title('Box Plot')\n",
    "plt.show()"
   ]
  },
  {
   "cell_type": "code",
   "execution_count": null,
   "metadata": {
    "application/vnd.databricks.v1+cell": {
     "cellMetadata": {
      "byteLimit": 2048000,
      "rowLimit": 10000
     },
     "inputWidgets": {},
     "nuid": "ededc448-280d-4be2-8c5a-82432c1d7995",
     "showTitle": false,
     "title": ""
    }
   },
   "outputs": [
    {
     "data": {
      "image/png": "[encoded data removed]"
     },
     "metadata": {
      "application/vnd.databricks.v1+output": {
       "addedWidgets": {},
       "arguments": {},
       "data": "data:image/png;base64,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\n",
       "datasetInfos": [],
       "metadata": {},
       "removedWidgets": [],
       "type": "image"
      }
     },
     "output_type": "display_data"
    }
   ],
   "source": [
    "# Scatter Plot: Shows the relationship between two variables\n",
    "df = pd.read_csv('orders.txt',parse_dates=['order_date'],index_col='order_date')\n",
    "df['sales2'] = df['sales'] * 2\n",
    "df.plot(kind='scatter', x='sales', y='sales2')\n",
    "plt.title('Scatter Plot')\n",
    "plt.show()"
   ]
  },
  {
   "cell_type": "code",
   "execution_count": null,
   "metadata": {
    "application/vnd.databricks.v1+cell": {
     "cellMetadata": {
      "byteLimit": 2048000,
      "rowLimit": 10000
     },
     "inputWidgets": {},
     "nuid": "b809e789-a307-48ff-8dc0-a253ff7cc9fe",
     "showTitle": false,
     "title": ""
    }
   },
   "outputs": [
    {
     "data": {
      "image/png": "[encoded data removed]"
     },
     "metadata": {
      "application/vnd.databricks.v1+output": {
       "addedWidgets": {},
       "arguments": {},
       "data": "data:image/png;base64,iVBORw0KGgoAAAANSUhEUgAAAYkAAAD4CAYAAAAZ1BptAAAAOXRFWHRTb2Z0d2FyZQBNYXRwbG90bGliIHZlcnNpb24zLjUuMSwgaHR0cHM6Ly9tYXRwbG90bGliLm9yZy/YYfK9AAAACXBIWXMAAAsTAAALEwEAmpwYAAAql0lEQVR4nO3deXgc9Zkn8O9rOzBJZhJM8LAEmJHzQDYLmZAQLxBIsgkEMOQw2c0BwwQP66w3T4CQMNkghnBDIIQ7nMaY2EAMhMsGAbZ8AMbYsuXb8infkm1ZvmT50vnuH/1rqbpV1V1nV5X6+3kePequrq56u7q63vod9StRVRAREdkZEHcARESUXEwSRETkiEmCiIgcMUkQEZEjJgkiInI0KO4A/DrmmGO0oqIi7jCIiFJjwYIFO1V1iJf3pDZJVFRUoLa2Nu4wiIhSQ0Q2eX0Pq5uIiMgRkwQRETlikiAiIkdMEkRE5IhJgoiIHDFJEBGRIyYJIiJyxCRBRJQAs+t34g9vr4w7jD5SezEdEVF/cvnYGgDAZWf8E4Ye88mYo+nFkgQRUYIsbdgbdwg5mCSIiMgRkwQRETlikiAiIkdMEkRE5KhokhCRcSKyQ0SWW6YdLSLVIrLW/B9spouIPCIi9SKyVEROt7xnpJl/rYiMtEz/qogsM+95REQk7A9JRET+uClJ/AXA8LxplQCmq+rJAKab5wBwEYCTzd9oAE8AmaQC4BYAZwI4A8At2cRi5vk/lvflr4uIiGJSNEmo6gcAdudNHgFgvHk8HsAllukTNGMugKNE5DgAFwKoVtXdqroHQDWA4ea1T6nqXFVVABMsyyIiopj5bZM4VlW3mcfbARxrHh8PYItlvgYzrdD0BpvpRESUAIEbrk0JQEOIpSgRGS0itSJS29zcXIpVEhGVNb9JoslUFcH832GmNwI40TLfCWZaoekn2Ey3papjVHWYqg4bMsTTvbyJKCFueG0pKiqr0N1dknNLCshvkpgMINtDaSSASZbpV5heTmcBaDHVUlMAXCAig02D9QUAppjX9onIWaZX0xWWZRFRPzRxXqbm+c2lW2OOhNwoOsCfiEwE8C0Ax4hIAzK9lO4B8LKIjAKwCcBPzOxvA7gYQD2AgwCuBABV3S0idwCYb+a7XVWzjeG/RKYH1ccBvGP+iKifO9TeFXcI5ELRJKGqlzm8dJ7NvArgKofljAMwzmZ6LYAvFouDiIhKj1dcE1Es2CKRDkwSRETkiEmCiIgcMUkQEZEjJgkiioWyUSIVmCSIiMgRkwQRETlikiCiWCg7waYCkwQRETlikiAiIkdMEkRE5IhJgohiwS6w6cAkQUREjpgkiIjIEZMEEcWCtU3pwCRBRESOmCSIiMgRkwQRETlikiCieLAPbCowSRARkSMmCSIicsQkQUSxYGVTOjBJEBGRIyYJIiJyxCRBRESOmCSIKBbsAZsOTBJEROSISYKIiBwxSRBRLJT1TakQKEmIyG9EpE5ElovIRBH5OxEZKiI1IlIvIi+JyBFm3iPN83rzeoVlOTeY6atF5MKAn4mIiELiO0mIyPEAfgVgmKp+EcBAAJcC+COAB1X1JAB7AIwybxkFYI+Z/qCZDyJyinnfqQCGA3hcRAb6jYuIiMITtLppEICPi8ggAJ8AsA3AuQBeMa+PB3CJeTzCPId5/TwRETP9RVVtU9UNAOoBnBEwLiIiCoHvJKGqjQDuA7AZmeTQAmABgL2q2mlmawBwvHl8PIAt5r2dZv7PWKfbvCeHiIwWkVoRqW1ubvYbOhElAFsk0iFIddNgZEoBQwF8FsAnkakuioyqjlHVYao6bMiQIVGuioiIEKy66TsANqhqs6p2AHgNwDkAjjLVTwBwAoBG87gRwIkAYF7/NIBd1uk27yEiohgFSRKbAZwlIp8wbQvnAVgBYCaAH5l5RgKYZB5PNs9hXp+hmT5wkwFcano/DQVwMoB5AeIiohRgD9h0GFR8FnuqWiMirwBYCKATwCIAYwBUAXhRRO40054xb3kGwHMiUg9gNzI9mqCqdSLyMjIJphPAVara5TcuIiIKj+8kAQCqeguAW/Imr4dN7yRVPQzgxw7LuQvAXUFiISKi8PGKayIicsQkQUSxYJNEOjBJEBGRIyYJIiJyxCRBRLHgKLDpwCRBRESOmCSIiMgRkwQRETlikiAiIkdMEkRE5IhJgoiIHDFJEFEsurvZBTYNmCQox+gJtfhrzea4wyCihGCSoBxTVzThP19fFncYRJQQTBJEROSISYKIYqEcBzYVmCSIiMgRkwQRETlikiCiWLAHbDowSRARkSMmCSIicsQkQUSx4D2H0oFJgoiIHDFJEBGRIyYJIiJyxCRBRLFgF9h0YJIgIiJHTBJEROSISYKIYsEB/tIhUJIQkaNE5BURWSUiK0XkayJytIhUi8ha83+wmVdE5BERqReRpSJyumU5I838a0VkZNAPRURE4QhakngYwLuq+gUApwFYCaASwHRVPRnAdPMcAC4CcLL5Gw3gCQAQkaMB3ALgTABnALglm1iIiChevpOEiHwawDcBPAMAqtquqnsBjAAw3sw2HsAl5vEIABM0Yy6Ao0TkOAAXAqhW1d2qugdANYDhfuMiIqLwBClJDAXQDOBZEVkkImNF5JMAjlXVbWae7QCONY+PB7DF8v4GM81peh8iMlpEakWktrm5OUDoRBS3bo7LkQpBksQgAKcDeEJVvwLgAHqrlgAAqqpAeK1TqjpGVYep6rAhQ4aEtVgiInIQJEk0AGhQ1Rrz/BVkkkaTqUaC+b/DvN4I4ETL+08w05ymExFRzHwnCVXdDmCLiPxXM+k8ACsATAaQ7aE0EsAk83gygCtML6ezALSYaqkpAC4QkcGmwfoCM42I+jPWNqXCoIDvvwbACyJyBID1AK5EJvG8LCKjAGwC8BMz79sALgZQD+CgmRequltE7gAw38x3u6ruDhgXERGFIFCSUNXFAIbZvHSezbwK4CqH5YwDMC5ILEREFD5ecU1ERI6YJIgoFuwCmw5MEkRE5IhJgoiIHDFJEFEsWNuUDkwSRETkiEmCiIgcMUkQEZEjJgkiigWbJNKBSYKIiBwxSRARlcjMVTuwtqk17jA8CTrAHxGRL93dcUdQelf+JTOO6cZ7vhtzJO6xJEFERI6YJIiIyBGTBBEROWKSIKJYKDvBpgKTBBEROWKSICIiR0wSRBQL3nQoHZgkiIjIEZNEGZtStx0H2jrjDoOIEoxJokyt3t6K//vcAvzw8dlxh0JECcYkUab2t3UAANY07Y85EipXbJFIByYJogLaOrtw3UuLsa3lUNyhUAL99Kk5GD2hNu4wIsUB/soUO5a4M3PVDry2qBHVK5qw7LYL4w6HEqZmw+64Q4gcSxLk2fLGFvzx3VXQMso0rWzgD193/9l/fjVxYdwhRIZJokwF+Xn+z8c/whPvrUPV0m2hxZNcEncA/Y70w006eUn//S0wSZSpIIWA7Jg7y7e2hBQNESVV4CQhIgNFZJGIvGWeDxWRGhGpF5GXROQIM/1I87zevF5hWcYNZvpqEWHFb0qUQ21TfzzrJfIijJLEtQBWWp7/EcCDqnoSgD0ARpnpowDsMdMfNPNBRE4BcCmAUwEMB/C4iAwMIS4qIEh7gpgqmDLIEaxsilAZ3pgulQIlCRE5AcB3AYw1zwXAuQBeMbOMB3CJeTzCPId5/Twz/wgAL6pqm6puAFAP4IwgcVFxBzu6/L/ZHDnLqeGawsPEmy5BSxIPAfgdek8KPgNgr6pmu4I0ADjePD4ewBYAMK+3mPl7ptu8hyJy5bPzAy+jH3VOcSSsb6Iy5ztJiMj3AOxQ1QUhxlNsnaNFpFZEapubm0u1WsqTPWyWw01jmCKiw4JoOgQpSZwD4AcishHAi8hUMz0M4CgRyV6kdwKARvO4EcCJAGBe/zSAXdbpNu/JoapjVHWYqg4bMmRIgNApCOmpboo3Dkonls7SxXeSUNUbVPUEVa1ApuF5hqpeDmAmgB+Z2UYCmGQeTzbPYV6foZlK7ckALjW9n4YCOBnAPL9xUQmVQZLg8YzKXRTXSVwP4DoRqUemzeEZM/0ZAJ8x068DUAkAqloH4GUAKwC8C+AqVQ3QqlpeptZtR0VlFRZu2lOydZZV7yYmCSpzoYzdpKrvAXjPPF4Pm95JqnoYwI8d3n8XgLvCiKXcvL0sc6XntS8uwqzrzy3JOoW9mygE5dCm1R/wiut+4mB76Qtf5XD7SWHTdei4RdOFSSLleg7TJfzl9fRu6v85gkc0KntMEimXPVCX8liW7Z1SDjmCotPNS65TgUki5eI8UJdDSSItBYn9bZ24dMwcbNx5IO5QimJngHRhkugnStn3vJyqm9LSp3/Gqh2Yu343Ln5kVtyhUD/DJJFy2R5GJT2UZXs3uSzH1KzfhTEfrIswIMqKowNDMRWVVfjh47PjDoN84u1LUy7e6iZ3a//pmLkAgHNOOganfvbTUYYUunSUI5If56LNe/tMK/W+W1FZhSMGDsCauy4q8ZrTjSWJtIuj4dr89zrA34YU1JfnS0ltU2riBOLtVtzexdZyr5gkyDO/9fQD0nQkSxlez0FRYZJIOY2jKNGzbm/SeBhLy8E3jfmXV+ynA5NEyvVeJ1H6o4TXH3laegqlUaq2bKqCJSaJlMsep/cd7sBH63aWZJ1+x24aEODg0N7Zjca9h/wvwKK7W3Hxw7Pw5pKtRedlXiuNyleX4mB7Z/EZqeSYJFIuW910sL0L//p0TUnW2XvTIY/vC3DEvemN5TjnnhnYuCt44/ehji6s2LYP10xcVHTetOSINCezmat34MX5W3Dxw7zGI4mYJMg3r1XKQUoS763ZAQB4YOpq/wsx0nxAdZa+D9VtTjMOtGVKEBt3HYwzHHLAJJFycbT99Yzd5DlJ+D+QDfC5zsBScuwNM/HtPdge3sJspGSTksEkkXJx9A/xe4/rIAeybJLo8npxhl0cHg5TqendFNJyFm7egy/fXo1nZ28IaYmUdkwSKRfGmfVjM+tx4YMfuJ5/14F2X+sO0iaRfaufHNHdrZgwZyMOd3TlLKs/Cavn2LKGFgDAbW+uCGV5BZXoDGfjzgM49eZ3S7OyfohJokwcaOvEmqZW29f+NGU1Vje1YvV2+9edHOrwNk5QkDaJbEnCz42O3ly6FTdPqsPlY+d6fm9/TCiFlOLahVJv09vfWoEDCRzTKi2YJCK2c38bKiqr8OiMtRGtwd2PetT4+bjgwQ+wvcW5G2nDHm8Nh/vbvHVZDNYmkfnvJ0m0Hs7EuWDTXgDeDlJ2s3Z3K5Y27PUcR5TCOu6GlSK27D6IjoQMgVEOd1CMEpNExNaYs/P7pq6JZPlu9/+563cDAF6o2RxJHG4EOZD1lCR8HHfyN5Hbdoaubu1zbca2lkO49c06/ODR2XhjUYP3YCIS1tl5GMfT5tY2fOPembjqhYXBF9bPff737+C3f1sSdxgFlV2SUFXU7/BWrZJksQ6NEXGbxOGOrp52hGzgXeonS/g78l338mJc93LvD/hwRxe+dvcMTJizCQDw8LSoSofehZYkQlhGtnfU1BVNhdfFE3y0d3bjlQXJOdmwU3ZJYuysDfjOAx/graXFr7btj8IcZM/6G6/f0Yo/Ty980PTaJvGFm97FGXdNM+/13wXW77Fo5bZ9Oc+TUn1iJ6xeWGG0SRRbQjbW52s24+Qb3w68PopW2SWJxVv2AgDuKEXvjRLwPn5SNHH89Km5uL96Dd5Y1Fhg3d5Xvs+0JwRpkwjrjDXRY08lKDQv27uji8WJfG8v24Zd+9tcDRtTCmWXJHrvqtY/xFndZF13e2fmLHv+xt2O88fVu8ltIm3YcxAVlVV4y+HHmaDjcChufH0ZXqjZlDMtjITq9foZyt1Hp9Q1YfRzC3DNxEV4Z9m2GKPKKLsk0d/uaeD5qucgR+o8YvOk0AEi2HUS2STh/b1u31K7cQ8A4GqHMZ2Suus8OmMtrnx2vuf3vVCzGTe+vjxnWv73d//U1aiorELr4Q7Xyy22TyZ1OxZz/gPv4/KnvXejduPmSXU5z7e3HAYATE5AaaLskkTP1cL95GQnzo8hNo8LtSsHK0lk/vvq3eRyIxUrpST1BOPVhc5VfF7lb4K/1WYaVe98a6XvZfQXa3fsx+x1u3y/v1CJ1qkEnoRtWX5JwsUZb38W5nHOugV7xnMquO4wxm7y/r25raIKY8iPtHPaAl6G8S7X31a+loMd2Lm/ree5l13X73D8USi/JGH+x7/pw+H9ng7RnA2Li4blUEoSEf5oii07oQWJPuYEOtsNvv4EHNcS4ct3TMWwO6eh28fJR8/vKeSY/Ci/JBHXaKIJEdVxzk01XqAEFaRNwnV1k/dlJ1GQ64BKUQpISa4NLLvfbd+XaV/wsmWz3YSTcLW47yQhIieKyEwRWSEidSJyrZl+tIhUi8ha83+wmS4i8oiI1IvIUhE53bKskWb+tSIyMvjHKhC3+Z+EYlwYSjlct5vlRnWQCdQF1mVMrG4K5+TJ6Tsq1POtHGzY6f6GWb3VTREF40GQkkQngP9Q1VMAnAXgKhE5BUAlgOmqejKA6eY5AFwE4GTzNxrAE0AmqQC4BcCZAM4AcEs2sUQiQRvfrcVb9mLYndWhJLZw2yR64xEXDctx3U8irIZrcsdpM/74yTmlDSQmH9XvxF1Vfa/D8jLWWfaXkoR90neSUNVtqrrQPG4FsBLA8QBGABhvZhsP4BLzeASACZoxF8BRInIcgAsBVKvqblXdA6AawHC/cRUTZw+Vuet3YdX2fcVnzPO7V5Zg5/52/GlK37uyJaeRsHjD9YAApyTBShLu+Kk77m9KccV1fx+R9V/H1uDpWcHux5GkavFQ2iREpALAVwDUADhWVbNXgGwHcKx5fDyALZa3NZhpTtPt1jNaRGpFpLa5udlfrOZ/HAfXS8fMxfCHvN/HN3vsWt7Y0ue1OKubrN1d3TRc+x06QlUt10nkLn/X/jbsK9KH3+028nrx74aE3G4zzLNNP4vKH66kUKKx24fLhZcE3K96N4nI3wN4FcCvVTXnNFkznzC0T6mqY1R1mKoOGzJkiK9lpKWHilveb/wT4rqty7WdGtJ61FqSyH3tq3dOw5dunVr4/S5jSsIP0o9Qk4TH+atXNOHkG9/B7Pqdrpbx/T9/6CuuqFRUVmHoDVUlWZe3husMaxfauARKEiLyMWQSxAuq+pqZ3GSqkWD+7zDTGwGcaHn7CWaa0/RIZM9mU3o8CCyqYTnctEkEWU8p2iTS2nAd5i1WvW7faWak11+/tNjVMpK4heM4Foydtb7g69mS84ptrbEPRhqkd5MAeAbASlV9wPLSZADZHkojAUyyTL/C9HI6C0CLqZaaAuACERlsGqwvMNMiUapeA8/P3YSZq3cUn9Gnldv24ey7p/c5Sy52Nux2WI7vPlK8Wsy6qp7kG0lJQl1VZwWxc38b7n5nVSTLjlpUnRHcyH4fbTl3KSztUbeisgrXv7K0pOsEehOkGy/P34L1zb29m+5+u/C+Vr9jf8/jZz8M1r4RVJCSxDkAfgbgXBFZbP4uBnAPgPNFZC2A75jnAPA2gPUA6gE8DeCXAKCquwHcAWC++bvdTItE7xXX0fr9G8t9jafj1vWvLsXWlsM9NxPKeuqDImcoLpdft3Uf3l2+HVt2O9e7Ww8oAyJMvrklCR8N1y7eM2lx/GPkJIHXzZud3XruEceZ+Uu1W4rPFLKfT6h1Pe/vXl2ac3MhL8k47tLXIL9vVNUP4XzMOc9mfgVwlcOyxgEY5zcWb4r3wgni0Rlrcc5Jx0S09F5OVSNFb6vp4bTzF88vwAAB1t/9XfsZrCWJABe7FaMacIC/Au/ZuvcQPnvUx31GFp8Hq9fgyI8NwC+/dVKscfSW7OxbpbID1aVNW2cXvnJ7Nd7/f9/GkH84MtCy5q73fwU8kOkNtr+tEx8bKDhy0MBAy/Kj7K647j3jiSZN3Dd1DX74+EeRLNuNgZYkMH1lEx7JuxGQ16ExCh2U7V6KpiShlpJKuF1ghz/0ge30Qx67ab65ZGtJu9A+PH0t7n23b5fooKyf4GB7Z8/Vwk5eM4MLikNJ4sbXl/mOpatbcdubdZ7vvV7MrLXNuM+mO7nVpEVbcbC9y3b/8LoPjrEp3efvKm2dzo15q7e34ou3TMFFD3vvGRmGsksSPTtz3GW4iAy0XIwwanwtHqhek9NDYtrK8NpJrD+WKAdOzPRuiqYkkb2pUb4rxtW4Xv6cdbtwzcRFuHxsDWrW78LIcfOwapv362ESwbKxbvNwYy5r1+qfPNV70VxHgMS5aPMePDt7I85/wD6R+/WzZ+bh0Zn1BZNPtoS060B7n9ec9qcVW/fh3Pvfc1xWvm2W+6cX68YNAOubD2C3TTxRK78kEXF1U9wG2nyj6yyNYO+t9n59idPZoF3vpihKEssbW3q7wPr45qyJq7tbcxoFnTTsOVR0nqwdrZmz7Tnrd+GnY+bi/TXNGP7wLCzctMdzrHGzbt2X5nuo53cooS4IMBRHNr8c6ojm4ru6rf4SudMe+PPx83Map7OcqoY3+ygh/eDR0nchLr8kEeFFKlVL47+L1KAQbyqUNWOVfenDrndTFL2PfvTkHMsVqH4arnsfV69swsUuem6F4cFpwaqDDrZ3ouWQ+5v9FPK5G6pyzvCd+P36nC7SDHJ1dSmHpKiorHJdreW0D251aH9xShJ+Pt62GNp4yi9JmP9R7H5X/XWhq/kqKqvw7OxourWFeee5Yuyrm9ypqKzCbyx964sJdNMhy2Mv90VY01S8xFFI0GtGvn3fezjttqmhtHV0KzBvQ+Gz+s27DqLT57oEmSuvrRfVBVXqcYtuybs7nBOvm8hp/rRcvFl+SSIhY6K4qe/dvOsgXlnQ4Gm5AyNIEp0ORzvrJvRzsdvri9xfM9k74Jn96wV/cJbX7D5KU5HGWb+6PO5kh9q7cq6tadqXaUtaU2To700hDA/S3NqGb/5pJp58f52v9wuA/3xtGS4f674tp6gS/0YLNR5beW1363Lx+0myMkwScUfg3ojHPsRv/7bEU0+bgRF8wObWdtuz2dzqpgw3Z39+zqCK3dXu4bxeXDnrszy2i+99l+001720pPhMRdZVyOjnanHls/P7xHPY1Ml3dSuumbgIyxoKj3/UtO8wKiqr8MEa9+1PxRpE31y6DTv3OydTEcHmAtfU+FHsjP1nz9SgojK8ITU+tJSCmludh8Pwuvv6LZ0lRfkliSLDcizeshdrm/zftCVMew5m6qO9VJEEGcDvsZn1BWKx6eWBvlnCTQKw/mYmzNmIGhf9yHt7N9kv/6FpBZKE2j/2qmqZfZvTuNkbbadbP+etk+tw2m2Fx5hqNL1d7n5nZc7B79/GzgOQuabjzSVb8f0ijZfLGzMNsleMm4d1O/bnfCcrA/S6urlAdUwUJ1/53/XaptaczzJrbXhVW1ZtnV24v3pNaMtzLv2GtopIlV+SKHKdxCWPzcb5D9p3uduy+yAmzNkIVUXr4Q50dHWjorKqYF1voTHk73xrBc78wzRUVFbho3XOO7yXE5Egw3Ev3LzXUwx2JYmaDbtx7YuLCq7H+uO/eVIdfjpmbtHYsrVoO1rbsMZjEs/p3RTBL3PJlr22060Nln/5aCNaDnW4Giq+cW9uz6rsPuT2QGyt5rr9rRXYsrt3eUGqg3budy5tRNEUZv2u5m/cjfMf/AB32NynIUxT67b3OXiras7otV53Iac2peQM819Y+SUJ89/r19PdrfjGvTNx86Q6/OL5hfiXW6f2tBcU6jVy/avOY8qM/XBDT73zyHHzHOfz0sMliuomwL6EkNsFNrPewx3djkNcjDNj0Pg5UFtLSG7GlbKyrq6UJX+7z7ljX/FRPe2+wd0H2l2XEq3rtY57lV2Of6U9qFnXttm0u4z7cGOk6xz93AJo3k7yyoIGfM8yeq3X/dfuWgsAOR9wV4EEHLfySxI+j6FPW0ZtrN2UKTnc8Frxq0mzVUbFdHi9mYGDYnX3ftmXJCy9mxzet9VyVpwdX8fpNzZ9ZRMqKqtyLjLKmrSkN/F0dCmWNbRgzrq+1VTPzd2EXXnDKxdrk4iKXWK9Ytw8XPVC4V5wdt/hhQ99gCfec9eobD1zFZGcfT7I3jFvg/N1H1HczMu6/YKUkL3K30dWbc8tuYa1B6WjHFGWSaK3TWL6yiZ84aZ30HKoeBZfmpKbpUTRuwmwP7jmVDc5rPbse2a4WhYAvGgu3rryL8UHRvz+ox/isqdzq6n2HmzHTW8sx7fue88xTtsSUUSJw6kLrFPbRiHNrW14bu4md+u1fJz31zTnHMDD7CJt3W5R9N+3br8gScjuZKLgevN2h/zrHMLaX5gkEspa3XTvu6txuKMbt04uXs9p3UmjHqOnce8hx0HBOru68fPxtY5Xi0aVJM6+Z0bBG9l7+RHbbT7r1b1e7gVsle3C2Jo31Ia17tfum7MbQdRtieNwgauBuzUz9tDVLq+fCUt+7DlJIuDusbapFX82Pcms32Nnt4beldj6OdzsX049ndx2bbVbr93z0H79PhYUxz1Pyi9JWHa2bANfc2vxnXugdQCz0KPKdc49M3CpQ2Pulj2HMG2l8zj2Ud7De1TeGb7fMyq7A/D1ry6NrLfHwbbeA3lXV98DxsLNe/t8FrexXP60c6N7tyqenb0Rb7m9Et+sM+hV1vkHEmtVTdA2q//1xEe4v3oN3lq6tc82y0/OQVmXfs3E3M4QTvveuuZgF0ACfffPviWJwKvILCclZYkyTBKZ/6raUyIY6KLC01pMj/NKyWJnglHW3eYPhmfXcJ310bqdtmd233ngfceSWN3WYFV6620OEIc7unKqacLujrjOZqyeYutyEtZeld8vP8ySxEFzzc7Vf12EKXXbc17zm3+u/mtvAnh1QUPPCK1Ov7PpK5vw6kL7CzHbO7vRaXod+r2O4o28jhd785J2WL9/r9VgcSm/JGF53NmTJEwf/AK/ausPreVQ3zMmr0NL27mrakXBnfqjdbswcd7mgsuIsiSRz64LbNa0FfbjPdXv2I+pDnf02msa+RWZ6wq8+v0by/tMy68Ociqu52+2MEbbdFNl1Xq4A2NnrQ/1xGN/XjK/xnIQFhHMWtucs59VVFa5Xr81AV3110UF5vTnP/62BI/OrEfLoQ7HJDtqfK1j6b+rW7HIdEn2ex1F/mgI+WOyhfVVPfl+4RuEJYXvmw6llfVgkD1gZAfFa7episgqVkwvdm2AGy/UFE4And1adMeasWoH7p+6BhvvcbhREIB/uTWcu8PmliRyX/vkkc43R1nh0J6S3f6dXYq/fLTRczyOXQ0t3J7dh3GVrJuxm26eVIfXFzWiad9hbNjpXCrxIv/CxzmW9q0BIphs00V54WbnnktuFbqOwqvtLYcLJtmOTvvXStF7LR2VROEpw5JEb++m7A41yDQ4FGrgKlaN876HIRCitMhcEFfo/tph1R3bDfCXVahk1dZp/1o2afs9q2530UDpNI5OFNwcsLLDP1R7uF+y1T3vrOwzrVCbhlN1UxKHjii0+TrV/nssxceIe2C+OQUuvI1C+SUJy2il2YNStpRQ6CBTrBrHaw8KOwdDqLLKairxkMKSV+FkN4xH1sR5he9T4Pc3aN1+FZVVWGxzJfTrJbyXtZsDbzZh+u2aaleyLLTaNofScgkHD3atUJJ1KvSXovdP3On0sqdDHETRhfJLEpbH2Z0w23DdkbfndXcrKiqrUFFZVdK6/rCF0V5ix/obzj/IFKi5K8rPjYXsXPLY7D7T3NxwKCz5+5Od7MnFpp3hDo7n5HBHt20HgaTt392qBW8K5DTOmJfqpjXb/Y3RVuohzONWhm0SvT+GbMkheze3/JJEs+XK3ajujhUVa53+v7u4OM2PnJ9K3kHGy6CEfZYb4m/wy7dXu5qv0KiffnW5uIq+rSOzz3kdVjyIFdv6Hhw3FOilFYen3l/Xp5eRG13d6vpaoY1+h1gvrxxRhiUJy/6T7dLZU91U4MwvqrPxqOQPJRCFbD/vnzw5p88gdwsC3Lozjjrfp2xuVu9GfvdIKy/VTXF72oyrlRR+hx33cqGr321fZjmiDEsSNqPXyABg4rzNBasHElYaTwRV56tc3fQ0KrTc/qBQkujs6sZJN75TwmjSxe2YZ/lumVznumOG64sc86jGc+VzXMovSdgc7AcNENvB+vZadlS/OxR5V8qqlygV6km1yGF4ccrw2x14bQnanBSKXQfCr55MqvKrbrKb5lBMKLcGKq+i2jpJa0T1q1C79Y+fdB5enpKtnEoRQDkmCZvjz/Nz7S9ic9M7pZy1RdSYn8TumH4UauOi9LrMxU2y+pMyTBLuj0D5wxsQ8Kcpq3oeh3mFrVWY14sQhW3LnkP42t19h8AvJae7IUahDJOE+3n3HQ42Gmd/9NhMdze+CSKMCxOJohR3lVMpa2TLL0l4uDfXPpuB/IiI4lbKi0ITkyREZLiIrBaRehGpjG497ubbse8wSxJElEjbQ77BUyGJ6AIrIgMBPAbgfAANAOaLyGRVLX7LOI827XLXte6MP0zHaSceFfbqiYhSJSkliTMA1KvqelVtB/AigBFhr2TPgfaig8tZlbJxiIgoiZKSJI4HYD16N5hpOURktIjUikhtc7P3obkHf/II3PS9/+Y/SiKiBPgfnx9SsnUlorrJLVUdA2AMAAwbNsxX94JRX/8cRn39c6HGRUTUXyWlJNEI4ETL8xPMNCIiilFSksR8ACeLyFAROQLApQAmxxwTEVHZS0R1k6p2isjVAKYAGAhgnKrWxRwWEVHZS0SSAABVfRvA23HHQUREvZJS3URERAnEJEFERI6YJIiIyBGTBBEROZI4bjofBhFpBrDJx1uPAbAz5HDCkNS4gGTGlsSYspIaG+PyJqlxAf5j+2dV9XS5dmqThF8iUquqw+KOI19S4wKSGVsSY8pKamyMy5ukxgWUNjZWNxERkSMmCSIiclSOSWJM3AE4SGpcQDJjS2JMWUmNjXF5k9S4gBLGVnZtEkRE5F45liSIiMglJgkiInKmqon+Q+Y+EzMBrABQB+BaM/1oANUA1pr/g830LwCYA6ANwG/zlvUbs4zlACYC+DuHdY40y10LYKRl+l3I3EFvf1LiAvAPABZb/nYCGBtibNeauOoA/LrA9zQcwGoA9QAqLdOvNtMUwIcJiWmWZXttRWb0YS/b63IASwEsA/ARgNOKrbNE+1gkcaHvPrbbxBhGXOMA7ACwvMhxwM3+9aUQt1fQuCLZx5z2iQDb7JhCn09VU5EkjgNwumVnXQPgFAD3Zj84gEoAfzSP/xHAf0fmx/Zby3KOB7ABwMfN85cB/LvN+o4GsN78H2weZ7+4s0w8+5MUV958CwBcElJsX0TmYPwJZEYMngbgJJt1DgSwDsDnABwBYAmAU8xrXwFQgcxB5dwkxJQ336sArvG4vc627BMXAajxuM6o9rHI4sqbbwmAUUHjMs+/CeB0FDgYF4ofvfvXRgCnhrG9wogrwn3Mdp8IsM3SnyRsPvwkAOcjkyGPs2y41Xnz3Yq+B+Mt5gcwCMBbAC6wWf5lAJ6yPH8KwGV58+xPaFyfN8uSkGL7MYBnLM9vAvA7m9i+BmCK5fkNAG7Imydnh0xITJ8CsAfAp/xsLzN9MIBGt+ssxT4WcVx99jG/cVmmVaDwwdjz/pWguELdx5z2ibC2md1fqtokRKQCmSxYA+BYVd1mXtoO4NhC71XVRgD3AdgMYBuAFlWdajNr9qCd1WCmpSGuSwG8pGYPCBobMmfs3xCRz4jIJwBcjNzbzHqJrUeCYroEwHRV3RcgtlEA3vGwTi/z9UhQXDn7WMC43Cr19gozrksQ7j7WI285fmJzJTE3HSpGRP4emWLbr1V1n4j0vKaqKiLq+ObM+wcDGAFgKIC9AP4mIv+mqs/3o7guBfCzsGJT1ZUi8kcAUwEcQKZ+tctHXD0SFtNlyLTf+IpNRL6NzA/46z7X70rC4urZxxIWl3U9SYorkn0sfzkRxN0jFSUJEfkYMhvkBVV9zUxuEpHjzOvHIdPIVMh3AGxQ1WZV7QDwGoCzReRMEVls/n4AoBG5Z6YnmGmJjktETgMwSFUXhBgbVPUZVf2qqn4TmWLzGhE50RLbL4rFZjEoKTGJyDEAzgBQZZ572l4i8iVkfvwjVHWXmWy7zlLuY1HGZd3HQorLVoD9K6ztFUpcEe1jtssJss2KKlYfFfcfAAEwAcBDedP/hNwGn3vzXr8VuXXZZyLTG+ATZpnjAVxjs76jkWlIHmz+NgA4Om+e/UmLC8A9AG4Lc5uZaf9o/v8TgFUAjrKJbRAyjZxD0dtIdmrePBsBvJSUmAD8AsB4P9vLrLcewNlet0OU+1jUcWX3sbDisryvAoXr/t3uX8ckKa6I9jHb5QTZZoWWo6qpSBJfR6ar1lL0dim7GMBnAExHpuvYtOzODOC/IFP/tg+Z6psGmEYjs4OvQqZe+zkARzqs83+bL6gewJWW6fea5XUjk/ETEZd5bT2AL0SwzWYh091uCYDzCnxPFyPT02IdgBst039lltdpYtodd0zmtfcADPe5vcYiU4LJzlvrZp0l2Mcii8u6j4W8vSYi0xbXYT73qAD7186kxBXVPua0nADbbCuAsYWOwRyWg4iIHKWiTYKIiOLBJEFERI6YJIiIyBGTBBEROWKSICIiR0wSRETkiEmCiIgc/X+PtKqKcBtQdgAAAABJRU5ErkJggg==\n",
       "datasetInfos": [],
       "metadata": {},
       "removedWidgets": [],
       "type": "image"
      }
     },
     "output_type": "display_data"
    },
    {
     "data": {
      "text/plain": [
       "\u001b[0;31m---------------------------------------------------------------------------\u001b[0m\n",
       "\u001b[0;31mValueError\u001b[0m                                Traceback (most recent call last)\n",
       "File \u001b[0;32m<command-940143815941562>:2\u001b[0m\n",
       "\u001b[1;32m      1\u001b[0m \u001b[38;5;66;03m# Area Plot: Similar to a line plot but filled with color.\u001b[39;00m\n",
       "\u001b[0;32m----> 2\u001b[0m df\u001b[38;5;241m.\u001b[39mplot(kind\u001b[38;5;241m=\u001b[39m\u001b[38;5;124m'\u001b[39m\u001b[38;5;124marea\u001b[39m\u001b[38;5;124m'\u001b[39m)\n",
       "\u001b[1;32m      3\u001b[0m plt\u001b[38;5;241m.\u001b[39mtitle(\u001b[38;5;124m'\u001b[39m\u001b[38;5;124mArea Plot\u001b[39m\u001b[38;5;124m'\u001b[39m)\n",
       "\u001b[1;32m      4\u001b[0m plt\u001b[38;5;241m.\u001b[39mshow()\n",
       "\n",
       "File \u001b[0;32m/databricks/python/lib/python3.9/site-packages/pandas/plotting/_core.py:972\u001b[0m, in \u001b[0;36mPlotAccessor.__call__\u001b[0;34m(self, *args, **kwargs)\u001b[0m\n",
       "\u001b[1;32m    969\u001b[0m             label_name \u001b[38;5;241m=\u001b[39m label_kw \u001b[38;5;129;01mor\u001b[39;00m data\u001b[38;5;241m.\u001b[39mcolumns\n",
       "\u001b[1;32m    970\u001b[0m             data\u001b[38;5;241m.\u001b[39mcolumns \u001b[38;5;241m=\u001b[39m label_name\n",
       "\u001b[0;32m--> 972\u001b[0m \u001b[38;5;28;01mreturn\u001b[39;00m \u001b[43mplot_backend\u001b[49m\u001b[38;5;241;43m.\u001b[39;49m\u001b[43mplot\u001b[49m\u001b[43m(\u001b[49m\u001b[43mdata\u001b[49m\u001b[43m,\u001b[49m\u001b[43m \u001b[49m\u001b[43mkind\u001b[49m\u001b[38;5;241;43m=\u001b[39;49m\u001b[43mkind\u001b[49m\u001b[43m,\u001b[49m\u001b[43m \u001b[49m\u001b[38;5;241;43m*\u001b[39;49m\u001b[38;5;241;43m*\u001b[39;49m\u001b[43mkwargs\u001b[49m\u001b[43m)\u001b[49m\n",
       "\n",
       "File \u001b[0;32m/databricks/python/lib/python3.9/site-packages/pandas/plotting/_matplotlib/__init__.py:71\u001b[0m, in \u001b[0;36mplot\u001b[0;34m(data, kind, **kwargs)\u001b[0m\n",
       "\u001b[1;32m     69\u001b[0m         kwargs[\u001b[38;5;124m\"\u001b[39m\u001b[38;5;124max\u001b[39m\u001b[38;5;124m\"\u001b[39m] \u001b[38;5;241m=\u001b[39m \u001b[38;5;28mgetattr\u001b[39m(ax, \u001b[38;5;124m\"\u001b[39m\u001b[38;5;124mleft_ax\u001b[39m\u001b[38;5;124m\"\u001b[39m, ax)\n",
       "\u001b[1;32m     70\u001b[0m plot_obj \u001b[38;5;241m=\u001b[39m PLOT_CLASSES[kind](data, \u001b[38;5;241m*\u001b[39m\u001b[38;5;241m*\u001b[39mkwargs)\n",
       "\u001b[0;32m---> 71\u001b[0m \u001b[43mplot_obj\u001b[49m\u001b[38;5;241;43m.\u001b[39;49m\u001b[43mgenerate\u001b[49m\u001b[43m(\u001b[49m\u001b[43m)\u001b[49m\n",
       "\u001b[1;32m     72\u001b[0m plot_obj\u001b[38;5;241m.\u001b[39mdraw()\n",
       "\u001b[1;32m     73\u001b[0m \u001b[38;5;28;01mreturn\u001b[39;00m plot_obj\u001b[38;5;241m.\u001b[39mresult\n",
       "\n",
       "File \u001b[0;32m/databricks/python/lib/python3.9/site-packages/pandas/plotting/_matplotlib/core.py:329\u001b[0m, in \u001b[0;36mMPLPlot.generate\u001b[0;34m(self)\u001b[0m\n",
       "\u001b[1;32m    327\u001b[0m \u001b[38;5;28mself\u001b[39m\u001b[38;5;241m.\u001b[39m_compute_plot_data()\n",
       "\u001b[1;32m    328\u001b[0m \u001b[38;5;28mself\u001b[39m\u001b[38;5;241m.\u001b[39m_setup_subplots()\n",
       "\u001b[0;32m--> 329\u001b[0m \u001b[38;5;28;43mself\u001b[39;49m\u001b[38;5;241;43m.\u001b[39;49m\u001b[43m_make_plot\u001b[49m\u001b[43m(\u001b[49m\u001b[43m)\u001b[49m\n",
       "\u001b[1;32m    330\u001b[0m \u001b[38;5;28mself\u001b[39m\u001b[38;5;241m.\u001b[39m_add_table()\n",
       "\u001b[1;32m    331\u001b[0m \u001b[38;5;28mself\u001b[39m\u001b[38;5;241m.\u001b[39m_make_legend()\n",
       "\n",
       "File \u001b[0;32m/databricks/python/lib/python3.9/site-packages/pandas/plotting/_matplotlib/core.py:1226\u001b[0m, in \u001b[0;36mLinePlot._make_plot\u001b[0;34m(self)\u001b[0m\n",
       "\u001b[1;32m   1223\u001b[0m label \u001b[38;5;241m=\u001b[39m \u001b[38;5;28mself\u001b[39m\u001b[38;5;241m.\u001b[39m_mark_right_label(label, index\u001b[38;5;241m=\u001b[39mi)\n",
       "\u001b[1;32m   1224\u001b[0m kwds[\u001b[38;5;124m\"\u001b[39m\u001b[38;5;124mlabel\u001b[39m\u001b[38;5;124m\"\u001b[39m] \u001b[38;5;241m=\u001b[39m label\n",
       "\u001b[0;32m-> 1226\u001b[0m newlines \u001b[38;5;241m=\u001b[39m \u001b[43mplotf\u001b[49m\u001b[43m(\u001b[49m\n",
       "\u001b[1;32m   1227\u001b[0m \u001b[43m    \u001b[49m\u001b[43max\u001b[49m\u001b[43m,\u001b[49m\n",
       "\u001b[1;32m   1228\u001b[0m \u001b[43m    \u001b[49m\u001b[43mx\u001b[49m\u001b[43m,\u001b[49m\n",
       "\u001b[1;32m   1229\u001b[0m \u001b[43m    \u001b[49m\u001b[43my\u001b[49m\u001b[43m,\u001b[49m\n",
       "\u001b[1;32m   1230\u001b[0m \u001b[43m    \u001b[49m\u001b[43mstyle\u001b[49m\u001b[38;5;241;43m=\u001b[39;49m\u001b[43mstyle\u001b[49m\u001b[43m,\u001b[49m\n",
       "\u001b[1;32m   1231\u001b[0m \u001b[43m    \u001b[49m\u001b[43mcolumn_num\u001b[49m\u001b[38;5;241;43m=\u001b[39;49m\u001b[43mi\u001b[49m\u001b[43m,\u001b[49m\n",
       "\u001b[1;32m   1232\u001b[0m \u001b[43m    \u001b[49m\u001b[43mstacking_id\u001b[49m\u001b[38;5;241;43m=\u001b[39;49m\u001b[43mstacking_id\u001b[49m\u001b[43m,\u001b[49m\n",
       "\u001b[1;32m   1233\u001b[0m \u001b[43m    \u001b[49m\u001b[43mis_errorbar\u001b[49m\u001b[38;5;241;43m=\u001b[39;49m\u001b[43mis_errorbar\u001b[49m\u001b[43m,\u001b[49m\n",
       "\u001b[1;32m   1234\u001b[0m \u001b[43m    \u001b[49m\u001b[38;5;241;43m*\u001b[39;49m\u001b[38;5;241;43m*\u001b[39;49m\u001b[43mkwds\u001b[49m\u001b[43m,\u001b[49m\n",
       "\u001b[1;32m   1235\u001b[0m \u001b[43m\u001b[49m\u001b[43m)\u001b[49m\n",
       "\u001b[1;32m   1236\u001b[0m \u001b[38;5;28mself\u001b[39m\u001b[38;5;241m.\u001b[39m_append_legend_handles_labels(newlines[\u001b[38;5;241m0\u001b[39m], label)\n",
       "\u001b[1;32m   1238\u001b[0m \u001b[38;5;28;01mif\u001b[39;00m \u001b[38;5;28mself\u001b[39m\u001b[38;5;241m.\u001b[39m_is_ts_plot():\n",
       "\u001b[1;32m   1239\u001b[0m \n",
       "\u001b[1;32m   1240\u001b[0m     \u001b[38;5;66;03m# reset of xlim should be used for ts data\u001b[39;00m\n",
       "\u001b[1;32m   1241\u001b[0m     \u001b[38;5;66;03m# TODO: GH28021, should find a way to change view limit on xaxis\u001b[39;00m\n",
       "\n",
       "File \u001b[0;32m/databricks/python/lib/python3.9/site-packages/pandas/plotting/_matplotlib/core.py:1398\u001b[0m, in \u001b[0;36mAreaPlot._plot\u001b[0;34m(cls, ax, x, y, style, column_num, stacking_id, is_errorbar, **kwds)\u001b[0m\n",
       "\u001b[1;32m   1396\u001b[0m \u001b[38;5;28;01mif\u001b[39;00m column_num \u001b[38;5;241m==\u001b[39m \u001b[38;5;241m0\u001b[39m:\n",
       "\u001b[1;32m   1397\u001b[0m     \u001b[38;5;28mcls\u001b[39m\u001b[38;5;241m.\u001b[39m_initialize_stacker(ax, stacking_id, \u001b[38;5;28mlen\u001b[39m(y))\n",
       "\u001b[0;32m-> 1398\u001b[0m y_values \u001b[38;5;241m=\u001b[39m \u001b[38;5;28;43mcls\u001b[39;49m\u001b[38;5;241;43m.\u001b[39;49m\u001b[43m_get_stacked_values\u001b[49m\u001b[43m(\u001b[49m\u001b[43max\u001b[49m\u001b[43m,\u001b[49m\u001b[43m \u001b[49m\u001b[43mstacking_id\u001b[49m\u001b[43m,\u001b[49m\u001b[43m \u001b[49m\u001b[43my\u001b[49m\u001b[43m,\u001b[49m\u001b[43m \u001b[49m\u001b[43mkwds\u001b[49m\u001b[43m[\u001b[49m\u001b[38;5;124;43m\"\u001b[39;49m\u001b[38;5;124;43mlabel\u001b[39;49m\u001b[38;5;124;43m\"\u001b[39;49m\u001b[43m]\u001b[49m\u001b[43m)\u001b[49m\n",
       "\u001b[1;32m   1400\u001b[0m \u001b[38;5;66;03m# need to remove label, because subplots uses mpl legend as it is\u001b[39;00m\n",
       "\u001b[1;32m   1401\u001b[0m line_kwds \u001b[38;5;241m=\u001b[39m kwds\u001b[38;5;241m.\u001b[39mcopy()\n",
       "\n",
       "File \u001b[0;32m/databricks/python/lib/python3.9/site-packages/pandas/plotting/_matplotlib/core.py:1311\u001b[0m, in \u001b[0;36mLinePlot._get_stacked_values\u001b[0;34m(cls, ax, stacking_id, values, label)\u001b[0m\n",
       "\u001b[1;32m   1308\u001b[0m \u001b[38;5;28;01melif\u001b[39;00m (values \u001b[38;5;241m<\u001b[39m\u001b[38;5;241m=\u001b[39m \u001b[38;5;241m0\u001b[39m)\u001b[38;5;241m.\u001b[39mall():\n",
       "\u001b[1;32m   1309\u001b[0m     \u001b[38;5;28;01mreturn\u001b[39;00m ax\u001b[38;5;241m.\u001b[39m_stacker_neg_prior[stacking_id] \u001b[38;5;241m+\u001b[39m values\n",
       "\u001b[0;32m-> 1311\u001b[0m \u001b[38;5;28;01mraise\u001b[39;00m \u001b[38;5;167;01mValueError\u001b[39;00m(\n",
       "\u001b[1;32m   1312\u001b[0m     \u001b[38;5;124m\"\u001b[39m\u001b[38;5;124mWhen stacked is True, each column must be either \u001b[39m\u001b[38;5;124m\"\u001b[39m\n",
       "\u001b[1;32m   1313\u001b[0m     \u001b[38;5;124m\"\u001b[39m\u001b[38;5;124mall positive or all negative. \u001b[39m\u001b[38;5;124m\"\u001b[39m\n",
       "\u001b[1;32m   1314\u001b[0m     \u001b[38;5;124mf\u001b[39m\u001b[38;5;124m\"\u001b[39m\u001b[38;5;124mColumn \u001b[39m\u001b[38;5;124m'\u001b[39m\u001b[38;5;132;01m{\u001b[39;00mlabel\u001b[38;5;132;01m}\u001b[39;00m\u001b[38;5;124m'\u001b[39m\u001b[38;5;124m contains both positive and negative values\u001b[39m\u001b[38;5;124m\"\u001b[39m\n",
       "\u001b[1;32m   1315\u001b[0m )\n",
       "\n",
       "\u001b[0;31mValueError\u001b[0m: When stacked is True, each column must be either all positive or all negative. Column 'profit' contains both positive and negative values"
      ]
     },
     "metadata": {
      "application/vnd.databricks.v1+output": {
       "arguments": {},
       "data": "\u001b[0;31m---------------------------------------------------------------------------\u001b[0m\n\u001b[0;31mValueError\u001b[0m                                Traceback (most recent call last)\nFile \u001b[0;32m<command-940143815941562>:2\u001b[0m\n\u001b[1;32m      1\u001b[0m \u001b[38;5;66;03m# Area Plot: Similar to a line plot but filled with color.\u001b[39;00m\n\u001b[0;32m----> 2\u001b[0m df\u001b[38;5;241m.\u001b[39mplot(kind\u001b[38;5;241m=\u001b[39m\u001b[38;5;124m'\u001b[39m\u001b[38;5;124marea\u001b[39m\u001b[38;5;124m'\u001b[39m)\n\u001b[1;32m      3\u001b[0m plt\u001b[38;5;241m.\u001b[39mtitle(\u001b[38;5;124m'\u001b[39m\u001b[38;5;124mArea Plot\u001b[39m\u001b[38;5;124m'\u001b[39m)\n\u001b[1;32m      4\u001b[0m plt\u001b[38;5;241m.\u001b[39mshow()\n\nFile \u001b[0;32m/databricks/python/lib/python3.9/site-packages/pandas/plotting/_core.py:972\u001b[0m, in \u001b[0;36mPlotAccessor.__call__\u001b[0;34m(self, *args, **kwargs)\u001b[0m\n\u001b[1;32m    969\u001b[0m             label_name \u001b[38;5;241m=\u001b[39m label_kw \u001b[38;5;129;01mor\u001b[39;00m data\u001b[38;5;241m.\u001b[39mcolumns\n\u001b[1;32m    970\u001b[0m             data\u001b[38;5;241m.\u001b[39mcolumns \u001b[38;5;241m=\u001b[39m label_name\n\u001b[0;32m--> 972\u001b[0m \u001b[38;5;28;01mreturn\u001b[39;00m \u001b[43mplot_backend\u001b[49m\u001b[38;5;241;43m.\u001b[39;49m\u001b[43mplot\u001b[49m\u001b[43m(\u001b[49m\u001b[43mdata\u001b[49m\u001b[43m,\u001b[49m\u001b[43m \u001b[49m\u001b[43mkind\u001b[49m\u001b[38;5;241;43m=\u001b[39;49m\u001b[43mkind\u001b[49m\u001b[43m,\u001b[49m\u001b[43m \u001b[49m\u001b[38;5;241;43m*\u001b[39;49m\u001b[38;5;241;43m*\u001b[39;49m\u001b[43mkwargs\u001b[49m\u001b[43m)\u001b[49m\n\nFile \u001b[0;32m/databricks/python/lib/python3.9/site-packages/pandas/plotting/_matplotlib/__init__.py:71\u001b[0m, in \u001b[0;36mplot\u001b[0;34m(data, kind, **kwargs)\u001b[0m\n\u001b[1;32m     69\u001b[0m         kwargs[\u001b[38;5;124m\"\u001b[39m\u001b[38;5;124max\u001b[39m\u001b[38;5;124m\"\u001b[39m] \u001b[38;5;241m=\u001b[39m \u001b[38;5;28mgetattr\u001b[39m(ax, \u001b[38;5;124m\"\u001b[39m\u001b[38;5;124mleft_ax\u001b[39m\u001b[38;5;124m\"\u001b[39m, ax)\n\u001b[1;32m     70\u001b[0m plot_obj \u001b[38;5;241m=\u001b[39m PLOT_CLASSES[kind](data, \u001b[38;5;241m*\u001b[39m\u001b[38;5;241m*\u001b[39mkwargs)\n\u001b[0;32m---> 71\u001b[0m \u001b[43mplot_obj\u001b[49m\u001b[38;5;241;43m.\u001b[39;49m\u001b[43mgenerate\u001b[49m\u001b[43m(\u001b[49m\u001b[43m)\u001b[49m\n\u001b[1;32m     72\u001b[0m plot_obj\u001b[38;5;241m.\u001b[39mdraw()\n\u001b[1;32m     73\u001b[0m \u001b[38;5;28;01mreturn\u001b[39;00m plot_obj\u001b[38;5;241m.\u001b[39mresult\n\nFile \u001b[0;32m/databricks/python/lib/python3.9/site-packages/pandas/plotting/_matplotlib/core.py:329\u001b[0m, in \u001b[0;36mMPLPlot.generate\u001b[0;34m(self)\u001b[0m\n\u001b[1;32m    327\u001b[0m \u001b[38;5;28mself\u001b[39m\u001b[38;5;241m.\u001b[39m_compute_plot_data()\n\u001b[1;32m    328\u001b[0m \u001b[38;5;28mself\u001b[39m\u001b[38;5;241m.\u001b[39m_setup_subplots()\n\u001b[0;32m--> 329\u001b[0m \u001b[38;5;28;43mself\u001b[39;49m\u001b[38;5;241;43m.\u001b[39;49m\u001b[43m_make_plot\u001b[49m\u001b[43m(\u001b[49m\u001b[43m)\u001b[49m\n\u001b[1;32m    330\u001b[0m \u001b[38;5;28mself\u001b[39m\u001b[38;5;241m.\u001b[39m_add_table()\n\u001b[1;32m    331\u001b[0m \u001b[38;5;28mself\u001b[39m\u001b[38;5;241m.\u001b[39m_make_legend()\n\nFile \u001b[0;32m/databricks/python/lib/python3.9/site-packages/pandas/plotting/_matplotlib/core.py:1226\u001b[0m, in \u001b[0;36mLinePlot._make_plot\u001b[0;34m(self)\u001b[0m\n\u001b[1;32m   1223\u001b[0m label \u001b[38;5;241m=\u001b[39m \u001b[38;5;28mself\u001b[39m\u001b[38;5;241m.\u001b[39m_mark_right_label(label, index\u001b[38;5;241m=\u001b[39mi)\n\u001b[1;32m   1224\u001b[0m kwds[\u001b[38;5;124m\"\u001b[39m\u001b[38;5;124mlabel\u001b[39m\u001b[38;5;124m\"\u001b[39m] \u001b[38;5;241m=\u001b[39m label\n\u001b[0;32m-> 1226\u001b[0m newlines \u001b[38;5;241m=\u001b[39m \u001b[43mplotf\u001b[49m\u001b[43m(\u001b[49m\n\u001b[1;32m   1227\u001b[0m \u001b[43m    \u001b[49m\u001b[43max\u001b[49m\u001b[43m,\u001b[49m\n\u001b[1;32m   1228\u001b[0m \u001b[43m    \u001b[49m\u001b[43mx\u001b[49m\u001b[43m,\u001b[49m\n\u001b[1;32m   1229\u001b[0m \u001b[43m    \u001b[49m\u001b[43my\u001b[49m\u001b[43m,\u001b[49m\n\u001b[1;32m   1230\u001b[0m \u001b[43m    \u001b[49m\u001b[43mstyle\u001b[49m\u001b[38;5;241;43m=\u001b[39;49m\u001b[43mstyle\u001b[49m\u001b[43m,\u001b[49m\n\u001b[1;32m   1231\u001b[0m \u001b[43m    \u001b[49m\u001b[43mcolumn_num\u001b[49m\u001b[38;5;241;43m=\u001b[39;49m\u001b[43mi\u001b[49m\u001b[43m,\u001b[49m\n\u001b[1;32m   1232\u001b[0m \u001b[43m    \u001b[49m\u001b[43mstacking_id\u001b[49m\u001b[38;5;241;43m=\u001b[39;49m\u001b[43mstacking_id\u001b[49m\u001b[43m,\u001b[49m\n\u001b[1;32m   1233\u001b[0m \u001b[43m    \u001b[49m\u001b[43mis_errorbar\u001b[49m\u001b[38;5;241;43m=\u001b[39;49m\u001b[43mis_errorbar\u001b[49m\u001b[43m,\u001b[49m\n\u001b[1;32m   1234\u001b[0m \u001b[43m    \u001b[49m\u001b[38;5;241;43m*\u001b[39;49m\u001b[38;5;241;43m*\u001b[39;49m\u001b[43mkwds\u001b[49m\u001b[43m,\u001b[49m\n\u001b[1;32m   1235\u001b[0m \u001b[43m\u001b[49m\u001b[43m)\u001b[49m\n\u001b[1;32m   1236\u001b[0m \u001b[38;5;28mself\u001b[39m\u001b[38;5;241m.\u001b[39m_append_legend_handles_labels(newlines[\u001b[38;5;241m0\u001b[39m], label)\n\u001b[1;32m   1238\u001b[0m \u001b[38;5;28;01mif\u001b[39;00m \u001b[38;5;28mself\u001b[39m\u001b[38;5;241m.\u001b[39m_is_ts_plot():\n\u001b[1;32m   1239\u001b[0m \n\u001b[1;32m   1240\u001b[0m     \u001b[38;5;66;03m# reset of xlim should be used for ts data\u001b[39;00m\n\u001b[1;32m   1241\u001b[0m     \u001b[38;5;66;03m# TODO: GH28021, should find a way to change view limit on xaxis\u001b[39;00m\n\nFile \u001b[0;32m/databricks/python/lib/python3.9/site-packages/pandas/plotting/_matplotlib/core.py:1398\u001b[0m, in \u001b[0;36mAreaPlot._plot\u001b[0;34m(cls, ax, x, y, style, column_num, stacking_id, is_errorbar, **kwds)\u001b[0m\n\u001b[1;32m   1396\u001b[0m \u001b[38;5;28;01mif\u001b[39;00m column_num \u001b[38;5;241m==\u001b[39m \u001b[38;5;241m0\u001b[39m:\n\u001b[1;32m   1397\u001b[0m     \u001b[38;5;28mcls\u001b[39m\u001b[38;5;241m.\u001b[39m_initialize_stacker(ax, stacking_id, \u001b[38;5;28mlen\u001b[39m(y))\n\u001b[0;32m-> 1398\u001b[0m y_values \u001b[38;5;241m=\u001b[39m \u001b[38;5;28;43mcls\u001b[39;49m\u001b[38;5;241;43m.\u001b[39;49m\u001b[43m_get_stacked_values\u001b[49m\u001b[43m(\u001b[49m\u001b[43max\u001b[49m\u001b[43m,\u001b[49m\u001b[43m \u001b[49m\u001b[43mstacking_id\u001b[49m\u001b[43m,\u001b[49m\u001b[43m \u001b[49m\u001b[43my\u001b[49m\u001b[43m,\u001b[49m\u001b[43m \u001b[49m\u001b[43mkwds\u001b[49m\u001b[43m[\u001b[49m\u001b[38;5;124;43m\"\u001b[39;49m\u001b[38;5;124;43mlabel\u001b[39;49m\u001b[38;5;124;43m\"\u001b[39;49m\u001b[43m]\u001b[49m\u001b[43m)\u001b[49m\n\u001b[1;32m   1400\u001b[0m \u001b[38;5;66;03m# need to remove label, because subplots uses mpl legend as it is\u001b[39;00m\n\u001b[1;32m   1401\u001b[0m line_kwds \u001b[38;5;241m=\u001b[39m kwds\u001b[38;5;241m.\u001b[39mcopy()\n\nFile \u001b[0;32m/databricks/python/lib/python3.9/site-packages/pandas/plotting/_matplotlib/core.py:1311\u001b[0m, in \u001b[0;36mLinePlot._get_stacked_values\u001b[0;34m(cls, ax, stacking_id, values, label)\u001b[0m\n\u001b[1;32m   1308\u001b[0m \u001b[38;5;28;01melif\u001b[39;00m (values \u001b[38;5;241m<\u001b[39m\u001b[38;5;241m=\u001b[39m \u001b[38;5;241m0\u001b[39m)\u001b[38;5;241m.\u001b[39mall():\n\u001b[1;32m   1309\u001b[0m     \u001b[38;5;28;01mreturn\u001b[39;00m ax\u001b[38;5;241m.\u001b[39m_stacker_neg_prior[stacking_id] \u001b[38;5;241m+\u001b[39m values\n\u001b[0;32m-> 1311\u001b[0m \u001b[38;5;28;01mraise\u001b[39;00m \u001b[38;5;167;01mValueError\u001b[39;00m(\n\u001b[1;32m   1312\u001b[0m     \u001b[38;5;124m\"\u001b[39m\u001b[38;5;124mWhen stacked is True, each column must be either \u001b[39m\u001b[38;5;124m\"\u001b[39m\n\u001b[1;32m   1313\u001b[0m     \u001b[38;5;124m\"\u001b[39m\u001b[38;5;124mall positive or all negative. \u001b[39m\u001b[38;5;124m\"\u001b[39m\n\u001b[1;32m   1314\u001b[0m     \u001b[38;5;124mf\u001b[39m\u001b[38;5;124m\"\u001b[39m\u001b[38;5;124mColumn \u001b[39m\u001b[38;5;124m'\u001b[39m\u001b[38;5;132;01m{\u001b[39;00mlabel\u001b[38;5;132;01m}\u001b[39;00m\u001b[38;5;124m'\u001b[39m\u001b[38;5;124m contains both positive and negative values\u001b[39m\u001b[38;5;124m\"\u001b[39m\n\u001b[1;32m   1315\u001b[0m )\n\n\u001b[0;31mValueError\u001b[0m: When stacked is True, each column must be either all positive or all negative. Column 'profit' contains both positive and negative values",
       "errorSummary": "<span class='ansi-red-fg'>ValueError</span>: When stacked is True, each column must be either all positive or all negative. Column 'profit' contains both positive and negative values",
       "errorTraceType": "ansi",
       "metadata": {},
       "type": "ipynbError"
      }
     },
     "output_type": "display_data"
    }
   ],
   "source": [
    "# Area Plot: Similar to a line plot but filled with color.\n",
    "df.plot(kind='area')\n",
    "plt.title('Area Plot')\n",
    "plt.show()"
   ]
  },
  {
   "cell_type": "code",
   "execution_count": null,
   "metadata": {
    "application/vnd.databricks.v1+cell": {
     "cellMetadata": {
      "byteLimit": 2048000,
      "rowLimit": 10000
     },
     "inputWidgets": {},
     "nuid": "4a9d8258-2fd2-401d-9be1-a5b74da261a9",
     "showTitle": false,
     "title": ""
    }
   },
   "outputs": [
    {
     "data": {
      "image/png": "[encoded data removed]"
     },
     "metadata": {
      "application/vnd.databricks.v1+output": {
       "addedWidgets": {},
       "arguments": {},
       "data": "data:image/png;base64,iVBORw0KGgoAAAANSUhEUgAAAQYAAAD3CAYAAAD/jPo0AAAAOXRFWHRTb2Z0d2FyZQBNYXRwbG90bGliIHZlcnNpb24zLjUuMSwgaHR0cHM6Ly9tYXRwbG90bGliLm9yZy/YYfK9AAAACXBIWXMAAAsTAAALEwEAmpwYAAAmEElEQVR4nO3deXxU1f3/8ddnJgsEkgDKjjACLqAoCm7gvrbGtdWqVRuXttpq1Vq1823707FVG7q47/uu1Wqtday7VXFDKcggWtzCJpAQIPs6c35/3BsYMoGEJDPnzszn+XjkkWRy77mfQPLOufeee44YY1BKqXg+2wUopbxHg0EplUCDQSmVQINBKZVAg0EplUCDQSmVQIPBA0SkTkTGJ6ltIyITk9G2ylwaDCkiIuUi0uiGwGoReVBEBgIYYwYaY77uYbsjReQ+EVkpIrUi8rmIXC0iA/r2O9hwvHIROTwZbSvv0GBIrWONMQOBPYHpwO9605iIDAHeB/oD+xljCoEjgEHAhN6VmnCsnL5sT3mbBoMFxpgVwL+BXWHT7r6I5IvIX0RkqduzuFNE+m+mqUuBWuAMY0y52/YyY8zFxpgFcdsdLiJfiMh6EblNRMQ91gQReUNEqkRkjYg8JiKD2ndyewe/FpEFQL2IPAGMBf7l9nyu6NN/GOUZGgwWiMh2wNHAvE6+XAbsCEwFJgKjgSs309ThwLPGmFgXhzwG2AvYDfgBcFR7KcAfgVHAJGA7INRh39OAEmCQMeY0YCluz8cY86cujqvSlAZDaj0nIuuB2cBbwHXxX3T/kv8U+KUxZq0xptbd5tTNtLcNsLIbxy0zxqw3xiwF3sQJHYwxXxpjXjXGNBtjKoHrgYM67Huz2wtp7NZ3qDKCnjem1gnGmNe28PWhQAEw1+3tg/NX3b+Z7auAkd047qq4jxuAgQAiMhy4CTgAKMT5Q7Guw77LutG+yjDaY/CWNUAjsIsxZpD7VuxesOzMa8CJItLT/8frAANMMcYUAWfgBFG8jo/f6uO4WUCDwUPcawX3ADeIyDAAERktIkdtZpfrgSLgIREZF7f99SKyWzcOWQjUAdUiMhq4vBv7rAaSMuZCeYcGg/f8GvgS+EBEanB6BTt1tqExZi0wA2gFPhSRWuB1oNptoytX49w6rQbCwLPd2OePwO/cOxyXdWN7lYZEJ2pRSnWkPQalVAINBqVUAg0GpVQCDQalVAINBqVUAg0GpVQCDQalVAINBqVUAg0GpVQCDQalVAINBqVUAg0GpVQCDQalVAINBqVUAg0GpVSCjAsGEYmKyPy4t0Aftfue+z4gIj/sizaV8qqMm6hFROq2MEfilvbLMca0dWO7g4HLjDHHbGX7fmNMdGvrUsqGrAgGESkHphtj1ojIdOAvxpiDRSSEs2LTeJz1Ev6Hs6DKePf9jcaYm+PbFZEPcNZg+AZ4CGdW5enGmAvd7V5w2/+PiNQBd+Gs/3ABEAAuAvKAD4Gfa1goL8q4Uwmgf9xpxD+6sf1k4HB3MRWAnXEWZNkbuEpEcjtsHwTeMcZMNcbc0EXbA4APjTG740z1fgow0xgzFYgCp3fvW1IqtTJxXYlG9xevu57vsJhK2BjTDDSLSAUwHFjew1qiwDPux4cB04CP3DUj+gMVPWxXqaTKxGDoTBsbe0f9OnytvsPnzXEfR+n63yi+7Y7tN8WdKgjwkDHm/7ouVym7MvFUojPlOH+tAb7fy7ZqcdZjiG97qoj43DUp997Mfq8DJ8WtFzGkfS0IpbwmW4LhauAmEfkYpxfQGwuAqIh8IiK/BN7FuRC5CLgZ+G9nOxljFuEse/+Ku3r0q3RveTmlUi7j7koopXovW3oMSqmtoMGglEqQLXcl0lIgGPYDw4BR7tvITj4uxLlu0tlbzH3fBqwCluBcLG1/X15eVhJ/q1YpQK8xeEYgGB6Hs8DsNPf9FJxffn+SD13JxrD4ApgDvF9eVrI6ycdVHqbBYEEgGM7FCYD93bcZwFCrRSVaAnwAvAO8WV5WsshyPSqFNBhSJBAMFwMnACcDh+KMfEwnK4E3ccZjPF9eVrLGcj0qiTQYksgNg+OBHwBH4Dw8lQlagZeBR3BCoslyPaqPaTD0sUAwXIQTBicDRwL5ditKuhqc50EeBf5TXlYSs1yP6gMaDH0kEAzvCVwOnEjmh8HmLAceBx4pLytZaLsY1XMaDL0UCIaPAH6N8/Sk2ugN4OryspK3bReitp4GQw+44wtOBq4A9rBcjte9Dfy+vKzkdduFqO7TYNgKgWC4P3A28CucWZ5U970H/KG8rOQl24WormkwdEMgGPYBPwOuwnvjDdLNHJyAeMF2IWrzNBi6EAiG9wFuxxmNqPrOHOD88rKSebYLUYk0GDYjEAwPAcqAH+PMvqT6XhtwA3CVPrPhLRoMHQSCYcG5jjAL2NZyOdniK+A8vUDpHRoMcQLB8O44pw0zbNeSpR4CLi0vK1lru5Bsp8EABILhHOAPOAOUkv00o9qyCuCS8rKSJ2wXks2yPhjcx52fAPazXYvaRBg4u7yspNJ2Idkoq4MhEAwfDzwADLZdi+rUMuCk8rKSObYLyTZZGQzuyMVZOAOVlLe1AL8sLyu53XYh2STrgiEQDG8DPImznqRKHw8DPy0vK2nuckvVa1kVDO5dh+dwFpdV6ec94MTyshJd2i/JsmaW6EAw/F2cH6yA5VJUz80A5gSC4V1tF5LpsiIYAsHwCTg9hQK7lag+MA54LxAMH2m7kEyW8cEQCIZPAZ4mc6ZVU86U+f/UcEiejA6GQDD8I+AxdP2MTNQPeC4QDOsEOUmQscEQCIZ/AjyIjmTMZP2BfwWC4UNsF5JpMjIYAsHwL4C70Kcis0F/4IVAMHyQ7UIyScYFQyAYvhxnOXoNhexRAIQDwfCBtgvJFBk1jiEQDJ8L3Gu7DmVNHfDd8rKS2bYLSXcZEwyBYHh/nFWS9O5DdqsFDtKZoXonI4LBfULyI3Q+RuVYAkwrLyupsl1Iukr7awyBYHgg8DwaCmqjccCT7sNyqgfS+v6+Ow3bI8ButmvpjuV3nIMvrz/4fIjPz8jSGwGomfsvav8bRsRH/wnTGXzIOZvs11q1nMrnZ234vG39KgbtfwZFex3Puv88QOPXc8kbtj3bHuM8LFr36ZvEGmoo2uv4lH1vHnQ4cC0QtF1IOkrrYACuwVlBOm0MP+06/AXFGz5vWrKAxi8+YNTZtyA5uUTr1yfsk7vNGEadfQsAJhZl+e2lFOy4H7HmelpWfcWoc26l6t8301JZTs6gkdRHXmXYyb9P1bfkZb8OBMNzystKnrVdSLpJ21OJQDB8GvAb23X0Vu28Fyna92QkJxcA/4BBW9y+ackn5A4aSU7xMEAwsTaMMcRamxGfn5o5z1K457GIP90zv888GAiGJ9kuIt2kZTAEguHdgPtt17HVRKh46kpWPngxtfOdBZla162gedmnrHz4UlY9HqR55eItNlH/2dsUTHJu1/vyC+g/YTorH7wI/8DBSP4AWlYupmBHnaUuTiHwD3cVctVNaXdXwp249UPScAGYtto15BRuS7R+Pav/9juGHHE+a1+5nX5jd2Pw4efRsnIxlc//idHn3YtI4vgsE21l+W2ljDr3NvwDEmejq/r3zQzc42haVn9F0zfzyB0WYNCMU1PxraWD54DvlZeVpNcPvCXp2GO4nDQMBYCcQmeZCv+AQRTsuB/N3y7GX7gtBTvOQETIH7UTIkKssabT/Ru/nkve8AmdhkLL6q8wxpA7ZAwNn89m6AlB2tatonXtiqR+T2nkBOAntotIF2kVDIFgeGec9SPTTqyliVhzw4aPm76ZR97QcRTssC9NSxcA0Lp2BSbahq9/573e+kVvMWBS56N+17/zKIMOOANibWBizosimDadCS1OWSAYHma7iHSQNleo3IVl7wfybdfSE9GG9VQ+e43zSSzGgMkH0X/8NEy0laoXb+Lb+36O+HPZpuSXiAhttVVUvXQzw0++2tmlpYmm8vls850LE9puWPw+eSMmklO4DQB5w8bz7X0XkDssQN4wXZQ7zmCcJfFOt12I16XNNYZAMHwJzn+qUr11ZHlZyau2i/CytAiGQDA8HoigU7OpvvElMKW8rKTJdiFe5flrDO7oxnvQUFB9ZyLwW9tFeJnngwE4BzjUdhEq41zhXsxWnfD0qUQgGO6P0+0bZbsWlZHeBg7WsQ2JvN5juAgNBZU8BwI6AqwTnu0xBILhQcDX6IKzKrk+B3YpLyuJ2S7ES7zcY7gCDQWVfDujvYYEnuwxBILhITiz8Ay0XYvKCtpr6MCrPYaL0VBQqbMzcIrtIrzEc8EQCIYLgV/YrkNlnStsF+AlngsG4OfotQWVelMDwfDhtovwCk8Fgzt558W261BZ63LbBXiFp4IBOAoYabsIlbWOdGcHy3peC4ZS2wWorHee7QK8wDO3K90BTatI0/kWVMaoBEaWl5VEbRdik5d6DKeioaDsGwocZrsI27wUDHoaobziNNsF2OaJU4lAMLwTzugzpbygGhheXlaStRNmeqXHoL0F5SXFwNG2i7DJejC4k7yeabsOpTrI6gerrAcDMAMYY7sIpTo41l1JPSt5IRh02jblRf2BrF0u3AvBcIjtApTajONsF2CL1WAIBMP5wL42a1BqC2baLsAW2z2GfYF+lmtQanNGB4LhsbaLsMF2MBxs+fhKdWWG7QJs0GBQass0GFIpEAz3A/azdXylukmDIcX2RR+aUt63eyAYzrrlEW0Gw4EWj61Ud+UAe9suItVsBsMki8dWamtk3emEzWCYYPHYSm2NfWwXkGo2g2G8xWMrtTWy7mfVSjAEguFiYBsbx1aqB7azXUCq2eoxZF0Cq7RWnG1PWtoKBr2+oNJNVvUatMegVPdoMKSA9hhUusmqyYS0x6BU92iPIQVGWzquUj2lwZACWXWFV2UEPZVIgQGWjqtUTw2zXUAqaTAo1T25tgtIpZQHQyAY9qOPW6v0o8GQZHkWjqlUb2kwJJlYOKZSvZVju4BUsvHNajAkwfG+dz/+be6jnDC2WGr8bG+7nszjq4ES20WkjAZDGsujtfnnOf+cc77/XyP7Set0gOsrmxb+ZMSwwYjov3Ofiq23XUEqaTCkoUHUrrsq9+FPjvO9N9kv5oD4r+3b1Lzr5JaW2Yvy8/e3VV+GarFdQCrZCIZGwKABsdUmyIols3LvWTJNFk8X2fzU+3euqpx80NjRa43IkBSWl+labReQSim/+FheVtIGVKX6uOnsQN8nC97Ju/jD1/Iu3266b/GBImxx1uLBsdiQn6yv+TRV9WUJ7TGkwGpgW0vHTgs+YtEz/a/MuSzn6aJCadxta/e/cH31/o8XFy6s8/l2TUZ9WUiDIQVWA7tYOranDaCx7rKcp+ae4X9tfK5Ee7wgj4Dcuaoi94yRw6OI+Puyxiy1wnYBqWQzGFSckVStujb3vs8P8c3fQ4SD+qLN3ZtbdprW1Pz23P79dA2P3vvGdgGppMFg2e7y5eJZufdU7iTL9t7SBcWeumV15dT9x42piIlk1UNASaDBkAIVlo7rGcf53p17Ze4jsq3U7AnsmKzjFBpTdPG69QtvGDJYg6F3vrZdQCppjyGFcmlr+bn/n3N+lvP88H7SOi1Vxz2nunbGg8VF89b5/Xuk6pgZSHsMKZBVweAOSFpwnO+9SX4xVgYe3b2qoujkUSNaEcmqh4H6iAGW2C4ilWwFw0pLx02p8fLtklm5dy+Z7gxI6pMLij21c0vrhAMam956p6C/1TrS1LeR0kiz7SJSyVYwLALaLB4/qQ70fRK5Juf++u2kcm8Rxtmup91fK9bstd+4MSuiIjrn5tbJqtMIsDSDU3lZSROQUSPzfMSiP/K//P6C/HMXPpw3a8pYX+W+IlbXBk3Q35iC31StW267jjSUdcFg8y/2x8DuFo/fJwpoqr8s56mPz/S/un1vBiSlyg9q6/a5a1DRRxU5OXvZriWNZF0w2PyL9rHFY/faSKpW3Zf75/8szD+n9Zyclw7KlehY2zV1130rK4ZjTJPtOtJIVt2qBPs9hrSzm3z1xazcuyt2lmV7JWNAUioE2trGfqe+4a2XBg7QC5Hd867tAlJNjDFWDhwIhvOAWtJkDshjfe99fGXuIzJUqlM2/iCZWqB5n8B2q9pEPHNx1KOWRkojWfdvZO1UoryspAWI2Dp+d+TS1nKR/9nZn+Wf9cUtebdOz5RQAMiD/Gsrqypt15EGXrddgA22bxd+DHjul20QteuuzH3kk+N971obkJQKR9c3TL+1tfX9Zbm5nr9oalFWBoPt22meus6wvXy79Om8q9+el39e3vf8sw/2ixluu6Zku3dVRQBj6mzX4WFv2C7ABts9hv9YPj4AB/gWLLw25/667aRibxHS5u5CXxjVFh35/dr6t54pGtjrC5HL71tO7fxacopy2OHaHTa8XvVqFVWvVyE+oXD3QkacMmKT/WItMb754zeYNoOJGor2KmL4iU4mL7tzGU3LmyicWsiIk5z9Kp6voN/ofhRNK+ptyV1ZFCmNZMUo3Y6sBkN5WcmXgWA4AkxJ9bGFWOwM/2tzLs95akCRNKT8+F7yu6q1M18YWPBls883sTftDN5/MNsctg3L79k4hqruszpq5tUw8Q8T8eX6aKtpS9hPcoXArwP4+/kxbYavr/uawimF+PJ9+PJ87HDNDnzz52+INkSJtcRo/KqRYcel5GHRrDyNAPs9BoBnSGEwuAOS5p7pfzWQK9F9U3VcL8uBnOsr1tRfMKJ3v2wDdhpAS+WmM6CtfWMtQ0uG4st1zlpzihJ/5EQEfz9nkikTdXoNCOB3ehMmZjBtBnxQ8WwFw05M2RPkGgwWPQuEkn2QEaxdfU3ufZ8d6ps31SfojEYdHNjYtPsOLS2zv8jL69OLrS2rWqhfXM/qZ1YjucKIU0ZQMD5xLlsTM3x11Ve0VLQw5LAhFExwtskpzOGrq75i0IxBtKxuwRhD/0D/vixxc6J45FTXBmvjGOIFguHFwA5dbtgDzoCke1bvLEv3FkmPMRO2rPH7Kg/ZbnQeIsU9baOlsoUlNy7ZcI3hi99+wYCdBzDyjJE0ftPIstuXseOfd9zsejjR+ihLb1nKyDNG0m9Mv02+tuSGJYw6axTr3llH07ImBu4ykCEHJ22G/DmR0sg+yWrc62zflWj3bF83eIzv/blz8n829/n8/7fDJN/S/TUUurZtNDa0tKb2k75sM3dwLkXTixARp6cgEK2NbnZ7/wA/AyYNoC6y6Y2Smv/W0C/Qj1hzjJbKFsZeMJaaj2uINcf6stx4/05Ww+nAK8HwTF80kktby4X+f8z+LP+sxbfm3TJtWAYNSEqVS9eu378gFvusr9or2rOI+s/qAWhe1YyJGvyFm05a3VbTRrTeCYtYS4y6T+vIG7kxx02boeqVKoYePZRYy8Yg2HDtoe/FgAeS0XC68MSpBEAgGF4KbNeTfYupW39l7iPzT/DNnpQNYw+S7aN++YvOGTFsZ0S26g/HsjuWUf95PW11beQU5TDshGEMmjmIFfetoGlpE5LjXGMYOHkgretaWfHACgKXBmha1sTye5ZjYgYMFO9dzLDjN15gXPPyGvwFfgYfMBhjDMvvXE7TiiYKdytkxA9GbKGiHnsxUhrJnhVsO+GlYLgRuHhr9tlevl06K/ee8r3kf9NEGJCcyrLTD0cOfyfSL/+ArrfMSMdHSiPP2y7CJq+cSgA80d0N9/dFIm/lXfLBG3mXjdnb978DNRT63h2rK6eIMWts12HBciBsuwjbPBMM5WUlH7KFIdLOgKRXP1iQ/+OFj+b9cco4X4XnZkjKJMWx2KCfra/+3HYdFtwbKY1s/upolvDCOIZ4twAPxb9QQFP9r3Ke/vhH/ld0QFKKnb++ZuajRYULavz+rV47M01FgXttF+EFXvuL+yTuYjTDWVtxb+5f3lqYf07ruTn/PihXoln3TLxtAnLXqsr+GJM4jjkzvRApjWTVGpWb46lgKC8raZkun//1xbzg7A/yLxx0uP+/B/mEQbbryma7trTssE9Tc7bMYHSX7QK8wjN3JTYIFQ8DyoGUjHtVXasTqZ05bkx9TCQp9wY9ohyYECmNJG3EVDrxVI8BgFB1BVk+uMRrBhpTeNna9Zk+U/LdGgobeS8YHH/GWZBGecSZNbX7bdMWnWu7jiRZA9xmuwgv8WYwhKrLcS5EKg+5d1XFEIxp6XrLtHNdpDRSY7sIL/FmMDiuArJqvUCvm9jauv0hDY3v266jjy0FbrddhNd4NxhC1V8Df7VdhtrUnyqr9vYbk0nL3F2VbQvWdod3g8FxHaD3lT2knzH9Q2vWfmu7jj7yKfCw7SK8yNvBEKquB66wXYba1Al19XuPbGubY7uOPnDxlu5EiMg2IjLffVslIiviPu9yfg8ROVhEXuiLQkXkLBG5tS/a6g5vBwNAqPpxYLbtMtSm7l1ZMQpjGmzX0QvPREojW5zT0RhTZYyZaoyZCtwJ3ND+ucnMi7AbeD8YHBfhTJ6hPGJsW9uYY+ob0rXX0ABc2pMdRWSaiLwlInNF5GURGem+PlFEXhORT0TkvyIywd1loIj8XUQ+F5HHxJ3TTkTKReRqd9uIiOzsvj5ERJ4TkQUi8oGIJDynIiIBEXnD3eZ1ERnrvj7B3SciIteISJ37+sMickLc/o+JyPFb+j7TIxhC1fNIo4dbllXHOOSheibfVscut9dx0wfOta1T/t7A1DvrmHpnHYEba5l6Z+frvLz0ZRs73VrHxJtrKZu98brY6c82sNsddfzm9Y0LVV/zdjPPfd6a3G9oM66urJqRa0w6Dnwqi5RGlvZgP8F50O8kY8w04H7gWvdrjwG3GWN2B2YA7etR7AFcAkwGxgMz49pbY4zZE7gDuMx97WpgnjFmN+A3dH4N5BbgIXebx4Cb3ddvAm4yxkzBeXy83X3AWQDizOc5gy4eLffa05Vb8lvgZGCw7UK6kuODvx7Zjz1H+qltNky7u54jJuTwt5M2zo78q5ebKO6XOCFqNGa44MVGXj1zAGOKhL3uqee4nXJoi0H/HGHBzwZyxCP1VDcZGloNH66I8rsD81P57W2QB3mzKtasu3T40O2tFNAzi3EG0PVEPrAr8Kr7h98PrBSRQmC0MeYfAMaYJqB9wts5xr2LIyLzgQAbT43b5zqdC3zP/Xh/4PtuO2+41zk6rqyzX9z2jwB/inv9BPfjx4G/uO28JSK3i8hQt+1nTBcPxqVHjwEgVL0GON92Gd0xstDHniOdeQ0L84VJQ32sqNn4TIoxhqcWtXLarom5PGdFlIlDfIwf7CPPL5y6Sy7//LyNXB80thlixtAaBb8PrnyzmasPthMK7Y5oaNwz0NL6ntUiuq8ZOCVSGmnqcsvOCfBp3HWGKcaYI7txzHZRNv1j3LyZ15PhYeAM4Gycns4WpU8wAISqnwLusV3G1ihfH2Peyij7jNk4Aeo7S6MMHyDssI0/YfsVtYbtijb+t4wpElbUxpg01M/QAh973lXPsTvm8OXaGDHDhgCy6d5VFRMwJh1GDv4yUhqZ34v9m4GhIrIfgIjkisguxphaYHn7ebyI5ItI4uIZ3fMOcLrbzsE4pxsd/23fA051Pz7d3QfgA9zeRtzX2z2Ic0qDMWZRV0Wk06lEu4txzpF2sV1IV+paDN9/qoEbv9OPovyNpw1PRFo5bdfcrW7vxu9sXGfh2CcauOuYflz7djOfrI5yxPgcfjLNzgz5w6PR4afW1r31ZFFhr9e/TKKnI6WRO3rZRgw4CbjZPVfPAW7EGQ9xJnCXiPweaMU57e2JEHC/iCzAuUha2sk2vwAeEJHLgUqcXgA4v/iPishvgZeA6vYdjDGrReQz4LnuFOG9x667I1S8C/ARHn40uzVqOOaJBo6akMOl+23s7rfFDKOvr2PuTwcwpiixw/b+sjZCbzXz8hnONJZ/fMfpbf7fARvb+OfnrcxbFeWHU3Ipm93C/cf356hH6/nHKQUU5Ha+kEuyRSG677gxXzb5fDtZKWDLvgb2yPTnIdxeSqMxxojIqcBpxpjj474WAfY0xlRvqR1It1OJdqHqT9nKGaVTyRjDuc83MWlb/yahAPDa11F23tbXaSgA7DXazxdVMb5ZF6Mlanjy01aO22ljx641arjxwxaumJlPY6tz0gsQjUGLxZkK/eC/sWKNs4act7QAP8j0UHBNA+a7vY2fA78CEJHDgc+AW7oTCpCuPYZ2oeIngVNsl9HR7KVtHPBAA1OG+fC5v7nXHZbP0TvkctZzjew7xs/50zd2+7+tjfHj55t48XTntPTFL1q55KVmosZwztQ8fht31+HGD5oZ1E84a2oexhh++GwjCytiHD0xh1lHbLqkmw0njxox+/P8vl3/spcujpRGbu56MxUv3YOhCJiHc39YecBan6/q4LGjfUbEC7eV/xEpjXyv681UR+l5KtEuVF2DczGo1nYpyjEkFtvm3OqahbbrwJmq7RzbRaSr9O4xtAsVHwa8CLpwrRfEIDZj3JjP6n0+W3eO6oFDIqWRjywdP+2ld4+hXaj6dZzBG/o8hQf4wHf7qgofxtj4/2gEjtVQ6J3MCAaAUPXTwAW2y1COPZtbJu3R3Jzqp2KbgRMjpZE3U3zcjJMZpxLxQsVX4jyIoiyr8Un1/mPHtBhnjH6ytQInZftitH0lc3oM7ULVvwdSNqGF2ryimCm+aF314hQcKgqcrqHQdzIvGBwXobNMe8KPq2tmFkej85N4iBhwVqQ08nQSj5F1MjMYQtUG+BEaDp5w96qKgRiTjEkjDHBepDTyaBLazmqZGQwAoepWnCfPdGpwyya3tE6c2diUjEezfxEpjaTNBD7pJPMuPnYmVBzCWadCWdIgUj9j3JjqqMioPmguClwSKY3otaQkydweQ7xQdQg4D132zpoCYwYEq9b1ZDq1jqqAozQUkis7egztQsVHAk8DHafKUily6HajPq7MyZnew93nAd+LlEbK+7Ak1Yns6DG0C1W/gjPJyxLbpWSr+1ZVDMWdE3ErPQ7M1FBIjewKBmify2FvnBluVIpt39o27oiGxg+2Ypco8KtIaeT0SGmkMVl1qU1l16lEvFCx4EyRNQuwP5FBFmkWmvYdt93qNpFxXWy6Bmfy1jdSUZfaKHuDoV2oeFecbuoU26Vkk/CAgo+Dw7bd0rWGeTjPPehpnwXZdyrRUah6IbAXzmIdWZ6SqVNS3zB9TGtbZ6cUBmc5uJkaCvZojyFeqPgonGm2R1iuJCusyPF/+50xo4oRGeC+9Bnw00hpRNcqtUx7DPFC1S/jnFL8zXYp2WB0W3TUiXX1H+FM2Pp7YKqGgjdoj2FzQsUzgBtw7mCoJGmB12aOG3PRR2d/+pntWtRGGgxb4ty5OA34IzDWcjWZZilwmTvBjvIYDYbuCBX3w1k2PQgUWq4m3dUCfwX+RKhaxyV4lAbD1ggVDwf+gDP7sP1FI9NLJc5y7bcRql5nuxi1ZRoMPREq3gFncNRZaA+iK0txlmO/j1B1g+1iVPdoMPSGs+DN2cCFwETL1XjNIpxRpY8TqtanWtOMBkNfCBX7gKNxppQ7wnI1NsWAt3FWgH7enUlLpSENhr4WKp6M04M4BRhiuZpU+Qh4AvgboepvbRejek+DIVlCxTnAocDJwAnAtlbr6XuLcMLgSULVX9ouRvUtDYZUCBX7gQNwTjdKgMl2C+qRKLAAeBl4glD1Asv1qCTSYLAhVBwAvoMzqnIaTlDk2CypE/XAh8Bs4F3gfULVunhwltBg8AJnANVuwJ44QTEN2IXULdLbAnwDRHBCYDYwX+8mZC8NBq8KFefhhMNoYHgnb8Pc90MAcfcyOBPetrrv2+I+Xw+siHtbDnwFfAksJVStCwKrDXocDCIyBrgNpxvsA14ALjfGtLhffwLnB/sB4N84i78Y4CTgEWPMjF4VLjIcuA/YDsgFyo0xR/emzU6OcTBwmTHmGBE5DphsjCnry2P0mnOR0we06S+36is9CgYREZzzzzuMMQ+IiB+4G1hrjLlcREYAs40xE93tg0COMeaaPitc5C5gkTHmJvfz3YwxfXpBLD4Y+rJdpbyup/MxHAo0GWMeADDGRIFfAueISAHwCjBaROaLyFXAJcDPRORNABGpa29IRH4tIhER+UREytzXJojISyIyV0TeEZGdO6lhJE53GLeGBe6+B4vIC3Ht3yoiZ7kfl4vIn9zjzRGR9uB6UETuFJGPRWSxiCQEgYicJSK3uh8PFZFnROQj922m+/pB7vc8X0TmiYgOl1ZpqadXwncB5sa/YIypEZGlOEODjwNeMMZMhQ09jDpjzF/i9xGR7wLHA/sYYxpEpH1A0N3A+caYL0RkH5xl5g7tUMNtwN9E5ELgNeABY0x3BtdUG2OmiMiPcEbotYdAAOcuwQTgzfbQ2IybgBuMMbNFZCzOLbxJwGXABcaYd0VkINCTadKVss72LbLDcX6hGwCMMWvdX6gZwNNOngCQ33FHY8zLIjIe57bfd4F5IrJrN475RNz7G+Jef8oYEwO+EJGvgc56KfF1T46rr8it+13gehF5DHjWGLN8cw0o5WU9DYZFOBcRNxCRIpzJTL7EuWLeUz5gfXtvY0uMMWtxZnh+3D19OBBYzaanSB2nhjfd+LizzzvWuK9JXDilTETCOAOZ3hWRo4wxn3fxbSjlOT29xvA6UOB2x3EvPv4VeLD9r383vQqc7V6XQESGGGNqgG9E5GT3NRGR3TvuKCKHxu1XiHMKsBRnlanJIpIvIoOAwzrsekrc+/fjXj9ZRHwiMgEYD/xvC3W/gvPYdXstU933E4wxEWPMLJznB7bU61DKs3oUDMa5lXEizi/TF8BinPPp32xlOy8BzwMfi8h8nHN0cJavP1dEPgE+xbkO0dE0d78FOL/g9xpjPjLGLAOeAha67+d12G+wu8/FOBdM2y0F5uDcWj2/k95AvIuA6SKyQEQWAee7r18iIgvd9lvdtpRKO1k1wElEyoHpxpg1HV5/EOdi6d9t1KWU1+j08UqpBFnVY1BKdY/2GJRSCTQYlFIJNBiUUgk0GJRSCTQYlFIJNBiUUgk0GJRSCTQYlFIJNBiUUgk0GJRSCTQYlFIJNBiUUgk0GJRSCTQYlFIJNBiUUgk0GJRSCTQYlFIJNBiUUgn+P6AzI8RQ1BD4AAAAAElFTkSuQmCC\n",
       "datasetInfos": [],
       "metadata": {},
       "removedWidgets": [],
       "type": "image"
      }
     },
     "output_type": "display_data"
    }
   ],
   "source": [
    "# Pie Chart: Best for showing proportions.\n",
    "df.groupby('category')['sales'].sum().plot(kind='pie', autopct='%1.1f%%')\n",
    "plt.title('Pie Chart')\n",
    "plt.ylabel('')  # Hide the y-label\n",
    "plt.show()"
   ]
  },
  {
   "cell_type": "markdown",
   "metadata": {
    "application/vnd.databricks.v1+cell": {
     "cellMetadata": {},
     "inputWidgets": {},
     "nuid": "356ce393-7929-475b-8b26-21776889df11",
     "showTitle": false,
     "title": ""
    }
   },
   "source": []
  },
  {
   "cell_type": "markdown",
   "metadata": {
    "application/vnd.databricks.v1+cell": {
     "cellMetadata": {},
     "inputWidgets": {},
     "nuid": "358ed4cf-a28a-448f-80df-bf002dd730ba",
     "showTitle": false,
     "title": ""
    }
   },
   "source": [
    "#### Type Casting"
   ]
  },
  {
   "cell_type": "code",
   "execution_count": null,
   "metadata": {
    "application/vnd.databricks.v1+cell": {
     "cellMetadata": {
      "byteLimit": 2048000,
      "rowLimit": 10000
     },
     "inputWidgets": {},
     "nuid": "22276215-6e69-45e9-8da1-aa98c2f7994b",
     "showTitle": false,
     "title": ""
    }
   },
   "outputs": [
    {
     "data": {
      "text/html": [
       "<div>\n",
       "<style scoped>\n",
       "    .dataframe tbody tr th:only-of-type {\n",
       "        vertical-align: middle;\n",
       "    }\n",
       "\n",
       "    .dataframe tbody tr th {\n",
       "        vertical-align: top;\n",
       "    }\n",
       "\n",
       "    .dataframe thead th {\n",
       "        text-align: right;\n",
       "    }\n",
       "</style>\n",
       "<table border=\"1\" class=\"dataframe\">\n",
       "  <thead>\n",
       "    <tr style=\"text-align: right;\">\n",
       "      <th></th>\n",
       "      <th>order_id</th>\n",
       "      <th>customer_name</th>\n",
       "      <th>city</th>\n",
       "      <th>category</th>\n",
       "      <th>product_id</th>\n",
       "      <th>sales</th>\n",
       "      <th>profit</th>\n",
       "      <th>sales2</th>\n",
       "      <th>sales_int</th>\n",
       "    </tr>\n",
       "    <tr>\n",
       "      <th>order_date</th>\n",
       "      <th></th>\n",
       "      <th></th>\n",
       "      <th></th>\n",
       "      <th></th>\n",
       "      <th></th>\n",
       "      <th></th>\n",
       "      <th></th>\n",
       "      <th></th>\n",
       "      <th></th>\n",
       "    </tr>\n",
       "  </thead>\n",
       "  <tbody>\n",
       "    <tr>\n",
       "      <th>2018-09-07</th>\n",
       "      <td>CA-2018-100006</td>\n",
       "      <td>Dennis Kane</td>\n",
       "      <td>New York City</td>\n",
       "      <td>Technology</td>\n",
       "      <td>TEC-PH-10002075</td>\n",
       "      <td>377.970</td>\n",
       "      <td>109.6113</td>\n",
       "      <td>755.940</td>\n",
       "      <td>377</td>\n",
       "    </tr>\n",
       "    <tr>\n",
       "      <th>2018-07-08</th>\n",
       "      <td>CA-2018-100090</td>\n",
       "      <td>Ed Braxton</td>\n",
       "      <td>San Francisco</td>\n",
       "      <td>Furniture</td>\n",
       "      <td>FUR-TA-10003715</td>\n",
       "      <td>502.488</td>\n",
       "      <td>-87.9354</td>\n",
       "      <td>1004.976</td>\n",
       "      <td>502</td>\n",
       "    </tr>\n",
       "    <tr>\n",
       "      <th>2018-03-14</th>\n",
       "      <td>CA-2018-100293</td>\n",
       "      <td>Neil Französisch</td>\n",
       "      <td>Jacksonville</td>\n",
       "      <td>Office Supplies</td>\n",
       "      <td>OFF-PA-10000176</td>\n",
       "      <td>91.056</td>\n",
       "      <td>31.8696</td>\n",
       "      <td>182.112</td>\n",
       "      <td>91</td>\n",
       "    </tr>\n",
       "    <tr>\n",
       "      <th>2018-01-28</th>\n",
       "      <td>CA-2018-100328</td>\n",
       "      <td>Jasper Cacioppo</td>\n",
       "      <td>New York City</td>\n",
       "      <td>Office Supplies</td>\n",
       "      <td>OFF-BI-10000343</td>\n",
       "      <td>3.928</td>\n",
       "      <td>1.3257</td>\n",
       "      <td>7.856</td>\n",
       "      <td>3</td>\n",
       "    </tr>\n",
       "    <tr>\n",
       "      <th>2018-04-08</th>\n",
       "      <td>CA-2018-100363</td>\n",
       "      <td>Jim Mitchum</td>\n",
       "      <td>Glendale</td>\n",
       "      <td>Office Supplies</td>\n",
       "      <td>OFF-FA-10000611</td>\n",
       "      <td>2.368</td>\n",
       "      <td>0.8288</td>\n",
       "      <td>4.736</td>\n",
       "      <td>2</td>\n",
       "    </tr>\n",
       "    <tr>\n",
       "      <th>...</th>\n",
       "      <td>...</td>\n",
       "      <td>...</td>\n",
       "      <td>...</td>\n",
       "      <td>...</td>\n",
       "      <td>...</td>\n",
       "      <td>...</td>\n",
       "      <td>...</td>\n",
       "      <td>...</td>\n",
       "      <td>...</td>\n",
       "    </tr>\n",
       "    <tr>\n",
       "      <th>2021-11-03</th>\n",
       "      <td>US-2021-168802</td>\n",
       "      <td>Jack O'Briant</td>\n",
       "      <td>Seattle</td>\n",
       "      <td>Office Supplies</td>\n",
       "      <td>OFF-BI-10002393</td>\n",
       "      <td>18.368</td>\n",
       "      <td>5.9696</td>\n",
       "      <td>36.736</td>\n",
       "      <td>18</td>\n",
       "    </tr>\n",
       "    <tr>\n",
       "      <th>2021-07-23</th>\n",
       "      <td>US-2021-169320</td>\n",
       "      <td>Lena Hernandez</td>\n",
       "      <td>Elkhart</td>\n",
       "      <td>Office Supplies</td>\n",
       "      <td>OFF-AR-10003602</td>\n",
       "      <td>11.680</td>\n",
       "      <td>5.4896</td>\n",
       "      <td>23.360</td>\n",
       "      <td>11</td>\n",
       "    </tr>\n",
       "    <tr>\n",
       "      <th>2021-09-07</th>\n",
       "      <td>US-2021-169488</td>\n",
       "      <td>Allen Armold</td>\n",
       "      <td>Providence</td>\n",
       "      <td>Office Supplies</td>\n",
       "      <td>OFF-PA-10000157</td>\n",
       "      <td>39.960</td>\n",
       "      <td>18.7812</td>\n",
       "      <td>79.920</td>\n",
       "      <td>39</td>\n",
       "    </tr>\n",
       "    <tr>\n",
       "      <th>2021-08-28</th>\n",
       "      <td>US-2021-169502</td>\n",
       "      <td>Matthew Grinstein</td>\n",
       "      <td>Milwaukee</td>\n",
       "      <td>Office Supplies</td>\n",
       "      <td>OFF-AP-10001947</td>\n",
       "      <td>91.600</td>\n",
       "      <td>26.5640</td>\n",
       "      <td>183.200</td>\n",
       "      <td>91</td>\n",
       "    </tr>\n",
       "    <tr>\n",
       "      <th>2021-07-07</th>\n",
       "      <td>US-2021-169551</td>\n",
       "      <td>Rob Lucas</td>\n",
       "      <td>Philadelphia</td>\n",
       "      <td>Furniture</td>\n",
       "      <td>FUR-BO-10001519</td>\n",
       "      <td>87.210</td>\n",
       "      <td>-45.3492</td>\n",
       "      <td>174.420</td>\n",
       "      <td>87</td>\n",
       "    </tr>\n",
       "  </tbody>\n",
       "</table>\n",
       "<p>5009 rows × 9 columns</p>\n",
       "</div>"
      ]
     },
     "metadata": {
      "application/vnd.databricks.v1+output": {
       "addedWidgets": {},
       "arguments": {},
       "data": "<div>\n<style scoped>\n    .dataframe tbody tr th:only-of-type {\n        vertical-align: middle;\n    }\n\n    .dataframe tbody tr th {\n        vertical-align: top;\n    }\n\n    .dataframe thead th {\n        text-align: right;\n    }\n</style>\n<table border=\"1\" class=\"dataframe\">\n  <thead>\n    <tr style=\"text-align: right;\">\n      <th></th>\n      <th>order_id</th>\n      <th>customer_name</th>\n      <th>city</th>\n      <th>category</th>\n      <th>product_id</th>\n      <th>sales</th>\n      <th>profit</th>\n      <th>sales2</th>\n      <th>sales_int</th>\n    </tr>\n    <tr>\n      <th>order_date</th>\n      <th></th>\n      <th></th>\n      <th></th>\n      <th></th>\n      <th></th>\n      <th></th>\n      <th></th>\n      <th></th>\n      <th></th>\n    </tr>\n  </thead>\n  <tbody>\n    <tr>\n      <th>2018-09-07</th>\n      <td>CA-2018-100006</td>\n      <td>Dennis Kane</td>\n      <td>New York City</td>\n      <td>Technology</td>\n      <td>TEC-PH-10002075</td>\n      <td>377.970</td>\n      <td>109.6113</td>\n      <td>755.940</td>\n      <td>377</td>\n    </tr>\n    <tr>\n      <th>2018-07-08</th>\n      <td>CA-2018-100090</td>\n      <td>Ed Braxton</td>\n      <td>San Francisco</td>\n      <td>Furniture</td>\n      <td>FUR-TA-10003715</td>\n      <td>502.488</td>\n      <td>-87.9354</td>\n      <td>1004.976</td>\n      <td>502</td>\n    </tr>\n    <tr>\n      <th>2018-03-14</th>\n      <td>CA-2018-100293</td>\n      <td>Neil Französisch</td>\n      <td>Jacksonville</td>\n      <td>Office Supplies</td>\n      <td>OFF-PA-10000176</td>\n      <td>91.056</td>\n      <td>31.8696</td>\n      <td>182.112</td>\n      <td>91</td>\n    </tr>\n    <tr>\n      <th>2018-01-28</th>\n      <td>CA-2018-100328</td>\n      <td>Jasper Cacioppo</td>\n      <td>New York City</td>\n      <td>Office Supplies</td>\n      <td>OFF-BI-10000343</td>\n      <td>3.928</td>\n      <td>1.3257</td>\n      <td>7.856</td>\n      <td>3</td>\n    </tr>\n    <tr>\n      <th>2018-04-08</th>\n      <td>CA-2018-100363</td>\n      <td>Jim Mitchum</td>\n      <td>Glendale</td>\n      <td>Office Supplies</td>\n      <td>OFF-FA-10000611</td>\n      <td>2.368</td>\n      <td>0.8288</td>\n      <td>4.736</td>\n      <td>2</td>\n    </tr>\n    <tr>\n      <th>...</th>\n      <td>...</td>\n      <td>...</td>\n      <td>...</td>\n      <td>...</td>\n      <td>...</td>\n      <td>...</td>\n      <td>...</td>\n      <td>...</td>\n      <td>...</td>\n    </tr>\n    <tr>\n      <th>2021-11-03</th>\n      <td>US-2021-168802</td>\n      <td>Jack O'Briant</td>\n      <td>Seattle</td>\n      <td>Office Supplies</td>\n      <td>OFF-BI-10002393</td>\n      <td>18.368</td>\n      <td>5.9696</td>\n      <td>36.736</td>\n      <td>18</td>\n    </tr>\n    <tr>\n      <th>2021-07-23</th>\n      <td>US-2021-169320</td>\n      <td>Lena Hernandez</td>\n      <td>Elkhart</td>\n      <td>Office Supplies</td>\n      <td>OFF-AR-10003602</td>\n      <td>11.680</td>\n      <td>5.4896</td>\n      <td>23.360</td>\n      <td>11</td>\n    </tr>\n    <tr>\n      <th>2021-09-07</th>\n      <td>US-2021-169488</td>\n      <td>Allen Armold</td>\n      <td>Providence</td>\n      <td>Office Supplies</td>\n      <td>OFF-PA-10000157</td>\n      <td>39.960</td>\n      <td>18.7812</td>\n      <td>79.920</td>\n      <td>39</td>\n    </tr>\n    <tr>\n      <th>2021-08-28</th>\n      <td>US-2021-169502</td>\n      <td>Matthew Grinstein</td>\n      <td>Milwaukee</td>\n      <td>Office Supplies</td>\n      <td>OFF-AP-10001947</td>\n      <td>91.600</td>\n      <td>26.5640</td>\n      <td>183.200</td>\n      <td>91</td>\n    </tr>\n    <tr>\n      <th>2021-07-07</th>\n      <td>US-2021-169551</td>\n      <td>Rob Lucas</td>\n      <td>Philadelphia</td>\n      <td>Furniture</td>\n      <td>FUR-BO-10001519</td>\n      <td>87.210</td>\n      <td>-45.3492</td>\n      <td>174.420</td>\n      <td>87</td>\n    </tr>\n  </tbody>\n</table>\n<p>5009 rows × 9 columns</p>\n</div>",
       "datasetInfos": [],
       "metadata": {},
       "removedWidgets": [],
       "textData": null,
       "type": "htmlSandbox"
      }
     },
     "output_type": "display_data"
    }
   ],
   "source": [
    "df['sales_int']= df['sales'].astype('int')\n",
    "df"
   ]
  },
  {
   "cell_type": "markdown",
   "metadata": {
    "application/vnd.databricks.v1+cell": {
     "cellMetadata": {},
     "inputWidgets": {},
     "nuid": "d856807b-649c-44b0-a589-6f801a06aaf6",
     "showTitle": false,
     "title": ""
    }
   },
   "source": [
    "**Note: If any value contains NaN, we cannot convert its data type**"
   ]
  },
  {
   "cell_type": "code",
   "execution_count": null,
   "metadata": {
    "application/vnd.databricks.v1+cell": {
     "cellMetadata": {
      "byteLimit": 2048000,
      "rowLimit": 10000
     },
     "inputWidgets": {},
     "nuid": "79f59aa3-bc59-4273-ac93-0bc9080dd3e4",
     "showTitle": false,
     "title": ""
    }
   },
   "outputs": [
    {
     "data": {
      "text/html": [
       "<div>\n",
       "<style scoped>\n",
       "    .dataframe tbody tr th:only-of-type {\n",
       "        vertical-align: middle;\n",
       "    }\n",
       "\n",
       "    .dataframe tbody tr th {\n",
       "        vertical-align: top;\n",
       "    }\n",
       "\n",
       "    .dataframe thead th {\n",
       "        text-align: right;\n",
       "    }\n",
       "</style>\n",
       "<table border=\"1\" class=\"dataframe\">\n",
       "  <thead>\n",
       "    <tr style=\"text-align: right;\">\n",
       "      <th></th>\n",
       "      <th>order_id</th>\n",
       "      <th>order_date</th>\n",
       "      <th>customer_name</th>\n",
       "      <th>city</th>\n",
       "      <th>category</th>\n",
       "      <th>product_id</th>\n",
       "      <th>sales</th>\n",
       "      <th>profit</th>\n",
       "    </tr>\n",
       "  </thead>\n",
       "  <tbody>\n",
       "    <tr>\n",
       "      <th>0</th>\n",
       "      <td>CA-2018-100006</td>\n",
       "      <td>2018-09-07</td>\n",
       "      <td>Dennis Kane</td>\n",
       "      <td>New York City</td>\n",
       "      <td>Technology</td>\n",
       "      <td>TEC-PH-10002075</td>\n",
       "      <td>377.970</td>\n",
       "      <td>109.6113</td>\n",
       "    </tr>\n",
       "    <tr>\n",
       "      <th>1</th>\n",
       "      <td>CA-2018-100090</td>\n",
       "      <td>2018-07-08</td>\n",
       "      <td>Ed Braxton</td>\n",
       "      <td>San Francisco</td>\n",
       "      <td>Furniture</td>\n",
       "      <td>FUR-TA-10003715</td>\n",
       "      <td>502.488</td>\n",
       "      <td>-87.9354</td>\n",
       "    </tr>\n",
       "    <tr>\n",
       "      <th>2</th>\n",
       "      <td>CA-2018-100293</td>\n",
       "      <td>2018-03-14</td>\n",
       "      <td>Neil Französisch</td>\n",
       "      <td>Jacksonville</td>\n",
       "      <td>Office Supplies</td>\n",
       "      <td>OFF-PA-10000176</td>\n",
       "      <td>91.056</td>\n",
       "      <td>31.8696</td>\n",
       "    </tr>\n",
       "    <tr>\n",
       "      <th>3</th>\n",
       "      <td>CA-2018-100328</td>\n",
       "      <td>2018-01-28</td>\n",
       "      <td>Jasper Cacioppo</td>\n",
       "      <td>New York City</td>\n",
       "      <td>Office Supplies</td>\n",
       "      <td>OFF-BI-10000343</td>\n",
       "      <td>3.928</td>\n",
       "      <td>1.3257</td>\n",
       "    </tr>\n",
       "    <tr>\n",
       "      <th>4</th>\n",
       "      <td>CA-2018-100363</td>\n",
       "      <td>2018-04-08</td>\n",
       "      <td>Jim Mitchum</td>\n",
       "      <td>Glendale</td>\n",
       "      <td>Office Supplies</td>\n",
       "      <td>OFF-FA-10000611</td>\n",
       "      <td>2.368</td>\n",
       "      <td>0.8288</td>\n",
       "    </tr>\n",
       "    <tr>\n",
       "      <th>...</th>\n",
       "      <td>...</td>\n",
       "      <td>...</td>\n",
       "      <td>...</td>\n",
       "      <td>...</td>\n",
       "      <td>...</td>\n",
       "      <td>...</td>\n",
       "      <td>...</td>\n",
       "      <td>...</td>\n",
       "    </tr>\n",
       "    <tr>\n",
       "      <th>5004</th>\n",
       "      <td>US-2021-168802</td>\n",
       "      <td>2021-11-03</td>\n",
       "      <td>Jack O'Briant</td>\n",
       "      <td>Seattle</td>\n",
       "      <td>Office Supplies</td>\n",
       "      <td>OFF-BI-10002393</td>\n",
       "      <td>18.368</td>\n",
       "      <td>5.9696</td>\n",
       "    </tr>\n",
       "    <tr>\n",
       "      <th>5005</th>\n",
       "      <td>US-2021-169320</td>\n",
       "      <td>2021-07-23</td>\n",
       "      <td>Lena Hernandez</td>\n",
       "      <td>Elkhart</td>\n",
       "      <td>Office Supplies</td>\n",
       "      <td>OFF-AR-10003602</td>\n",
       "      <td>11.680</td>\n",
       "      <td>5.4896</td>\n",
       "    </tr>\n",
       "    <tr>\n",
       "      <th>5006</th>\n",
       "      <td>US-2021-169488</td>\n",
       "      <td>2021-09-07</td>\n",
       "      <td>Allen Armold</td>\n",
       "      <td>Providence</td>\n",
       "      <td>Office Supplies</td>\n",
       "      <td>OFF-PA-10000157</td>\n",
       "      <td>39.960</td>\n",
       "      <td>18.7812</td>\n",
       "    </tr>\n",
       "    <tr>\n",
       "      <th>5007</th>\n",
       "      <td>US-2021-169502</td>\n",
       "      <td>2021-08-28</td>\n",
       "      <td>Matthew Grinstein</td>\n",
       "      <td>Milwaukee</td>\n",
       "      <td>Office Supplies</td>\n",
       "      <td>OFF-AP-10001947</td>\n",
       "      <td>91.600</td>\n",
       "      <td>26.5640</td>\n",
       "    </tr>\n",
       "    <tr>\n",
       "      <th>5008</th>\n",
       "      <td>US-2021-169551</td>\n",
       "      <td>2021-07-07</td>\n",
       "      <td>Rob Lucas</td>\n",
       "      <td>Philadelphia</td>\n",
       "      <td>Furniture</td>\n",
       "      <td>FUR-BO-10001519</td>\n",
       "      <td>87.210</td>\n",
       "      <td>-45.3492</td>\n",
       "    </tr>\n",
       "  </tbody>\n",
       "</table>\n",
       "<p>5009 rows × 8 columns</p>\n",
       "</div>"
      ]
     },
     "metadata": {
      "application/vnd.databricks.v1+output": {
       "addedWidgets": {},
       "arguments": {},
       "data": "<div>\n<style scoped>\n    .dataframe tbody tr th:only-of-type {\n        vertical-align: middle;\n    }\n\n    .dataframe tbody tr th {\n        vertical-align: top;\n    }\n\n    .dataframe thead th {\n        text-align: right;\n    }\n</style>\n<table border=\"1\" class=\"dataframe\">\n  <thead>\n    <tr style=\"text-align: right;\">\n      <th></th>\n      <th>order_id</th>\n      <th>order_date</th>\n      <th>customer_name</th>\n      <th>city</th>\n      <th>category</th>\n      <th>product_id</th>\n      <th>sales</th>\n      <th>profit</th>\n    </tr>\n  </thead>\n  <tbody>\n    <tr>\n      <th>0</th>\n      <td>CA-2018-100006</td>\n      <td>2018-09-07</td>\n      <td>Dennis Kane</td>\n      <td>New York City</td>\n      <td>Technology</td>\n      <td>TEC-PH-10002075</td>\n      <td>377.970</td>\n      <td>109.6113</td>\n    </tr>\n    <tr>\n      <th>1</th>\n      <td>CA-2018-100090</td>\n      <td>2018-07-08</td>\n      <td>Ed Braxton</td>\n      <td>San Francisco</td>\n      <td>Furniture</td>\n      <td>FUR-TA-10003715</td>\n      <td>502.488</td>\n      <td>-87.9354</td>\n    </tr>\n    <tr>\n      <th>2</th>\n      <td>CA-2018-100293</td>\n      <td>2018-03-14</td>\n      <td>Neil Französisch</td>\n      <td>Jacksonville</td>\n      <td>Office Supplies</td>\n      <td>OFF-PA-10000176</td>\n      <td>91.056</td>\n      <td>31.8696</td>\n    </tr>\n    <tr>\n      <th>3</th>\n      <td>CA-2018-100328</td>\n      <td>2018-01-28</td>\n      <td>Jasper Cacioppo</td>\n      <td>New York City</td>\n      <td>Office Supplies</td>\n      <td>OFF-BI-10000343</td>\n      <td>3.928</td>\n      <td>1.3257</td>\n    </tr>\n    <tr>\n      <th>4</th>\n      <td>CA-2018-100363</td>\n      <td>2018-04-08</td>\n      <td>Jim Mitchum</td>\n      <td>Glendale</td>\n      <td>Office Supplies</td>\n      <td>OFF-FA-10000611</td>\n      <td>2.368</td>\n      <td>0.8288</td>\n    </tr>\n    <tr>\n      <th>...</th>\n      <td>...</td>\n      <td>...</td>\n      <td>...</td>\n      <td>...</td>\n      <td>...</td>\n      <td>...</td>\n      <td>...</td>\n      <td>...</td>\n    </tr>\n    <tr>\n      <th>5004</th>\n      <td>US-2021-168802</td>\n      <td>2021-11-03</td>\n      <td>Jack O'Briant</td>\n      <td>Seattle</td>\n      <td>Office Supplies</td>\n      <td>OFF-BI-10002393</td>\n      <td>18.368</td>\n      <td>5.9696</td>\n    </tr>\n    <tr>\n      <th>5005</th>\n      <td>US-2021-169320</td>\n      <td>2021-07-23</td>\n      <td>Lena Hernandez</td>\n      <td>Elkhart</td>\n      <td>Office Supplies</td>\n      <td>OFF-AR-10003602</td>\n      <td>11.680</td>\n      <td>5.4896</td>\n    </tr>\n    <tr>\n      <th>5006</th>\n      <td>US-2021-169488</td>\n      <td>2021-09-07</td>\n      <td>Allen Armold</td>\n      <td>Providence</td>\n      <td>Office Supplies</td>\n      <td>OFF-PA-10000157</td>\n      <td>39.960</td>\n      <td>18.7812</td>\n    </tr>\n    <tr>\n      <th>5007</th>\n      <td>US-2021-169502</td>\n      <td>2021-08-28</td>\n      <td>Matthew Grinstein</td>\n      <td>Milwaukee</td>\n      <td>Office Supplies</td>\n      <td>OFF-AP-10001947</td>\n      <td>91.600</td>\n      <td>26.5640</td>\n    </tr>\n    <tr>\n      <th>5008</th>\n      <td>US-2021-169551</td>\n      <td>2021-07-07</td>\n      <td>Rob Lucas</td>\n      <td>Philadelphia</td>\n      <td>Furniture</td>\n      <td>FUR-BO-10001519</td>\n      <td>87.210</td>\n      <td>-45.3492</td>\n    </tr>\n  </tbody>\n</table>\n<p>5009 rows × 8 columns</p>\n</div>",
       "datasetInfos": [],
       "metadata": {},
       "removedWidgets": [],
       "textData": null,
       "type": "htmlSandbox"
      }
     },
     "output_type": "display_data"
    }
   ],
   "source": [
    "import numpy as np\n",
    "df = pd.read_csv('orders.txt')\n",
    "df.dtypes\n",
    "\n",
    "# need to handle nan values before converting \n",
    "df['sales'].fillna(0).astype('int')\n",
    "df"
   ]
  },
  {
   "cell_type": "markdown",
   "metadata": {
    "application/vnd.databricks.v1+cell": {
     "cellMetadata": {},
     "inputWidgets": {},
     "nuid": "32e12288-f542-4924-aac0-161a36c887f3",
     "showTitle": false,
     "title": ""
    }
   },
   "source": []
  },
  {
   "cell_type": "markdown",
   "metadata": {
    "application/vnd.databricks.v1+cell": {
     "cellMetadata": {},
     "inputWidgets": {},
     "nuid": "3d6e6530-73a1-48da-81e6-4063002da970",
     "showTitle": false,
     "title": ""
    }
   },
   "source": []
  },
  {
   "cell_type": "markdown",
   "metadata": {
    "application/vnd.databricks.v1+cell": {
     "cellMetadata": {},
     "inputWidgets": {},
     "nuid": "1b6e238d-de52-4a48-b6d9-117ba35fc2f7",
     "showTitle": false,
     "title": ""
    }
   },
   "source": [
    "#### Pivoting in pandas"
   ]
  },
  {
   "cell_type": "code",
   "execution_count": null,
   "metadata": {
    "application/vnd.databricks.v1+cell": {
     "cellMetadata": {
      "byteLimit": 2048000,
      "rowLimit": 10000
     },
     "inputWidgets": {},
     "nuid": "a810c352-9e0f-4c61-9679-228d2b8ba13f",
     "showTitle": false,
     "title": ""
    }
   },
   "outputs": [
    {
     "data": {
      "text/html": [
       "<div>\n",
       "<style scoped>\n",
       "    .dataframe tbody tr th:only-of-type {\n",
       "        vertical-align: middle;\n",
       "    }\n",
       "\n",
       "    .dataframe tbody tr th {\n",
       "        vertical-align: top;\n",
       "    }\n",
       "\n",
       "    .dataframe thead th {\n",
       "        text-align: right;\n",
       "    }\n",
       "</style>\n",
       "<table border=\"1\" class=\"dataframe\">\n",
       "  <thead>\n",
       "    <tr style=\"text-align: right;\">\n",
       "      <th>category</th>\n",
       "      <th>Furniture</th>\n",
       "      <th>Office Supplies</th>\n",
       "      <th>Technology</th>\n",
       "    </tr>\n",
       "    <tr>\n",
       "      <th>city</th>\n",
       "      <th></th>\n",
       "      <th></th>\n",
       "      <th></th>\n",
       "    </tr>\n",
       "  </thead>\n",
       "  <tbody>\n",
       "    <tr>\n",
       "      <th>Aberdeen</th>\n",
       "      <td>NaN</td>\n",
       "      <td>25.500</td>\n",
       "      <td>NaN</td>\n",
       "    </tr>\n",
       "    <tr>\n",
       "      <th>Abilene</th>\n",
       "      <td>NaN</td>\n",
       "      <td>1.392</td>\n",
       "      <td>NaN</td>\n",
       "    </tr>\n",
       "    <tr>\n",
       "      <th>Akron</th>\n",
       "      <td>433.596</td>\n",
       "      <td>373.358</td>\n",
       "      <td>279.960</td>\n",
       "    </tr>\n",
       "    <tr>\n",
       "      <th>Albuquerque</th>\n",
       "      <td>NaN</td>\n",
       "      <td>445.832</td>\n",
       "      <td>302.376</td>\n",
       "    </tr>\n",
       "    <tr>\n",
       "      <th>Alexandria</th>\n",
       "      <td>204.640</td>\n",
       "      <td>153.780</td>\n",
       "      <td>NaN</td>\n",
       "    </tr>\n",
       "    <tr>\n",
       "      <th>...</th>\n",
       "      <td>...</td>\n",
       "      <td>...</td>\n",
       "      <td>...</td>\n",
       "    </tr>\n",
       "    <tr>\n",
       "      <th>Woonsocket</th>\n",
       "      <td>52.960</td>\n",
       "      <td>97.230</td>\n",
       "      <td>NaN</td>\n",
       "    </tr>\n",
       "    <tr>\n",
       "      <th>Yonkers</th>\n",
       "      <td>851.482</td>\n",
       "      <td>70.416</td>\n",
       "      <td>216.400</td>\n",
       "    </tr>\n",
       "    <tr>\n",
       "      <th>York</th>\n",
       "      <td>422.058</td>\n",
       "      <td>37.896</td>\n",
       "      <td>NaN</td>\n",
       "    </tr>\n",
       "    <tr>\n",
       "      <th>Yucaipa</th>\n",
       "      <td>NaN</td>\n",
       "      <td>50.800</td>\n",
       "      <td>NaN</td>\n",
       "    </tr>\n",
       "    <tr>\n",
       "      <th>Yuma</th>\n",
       "      <td>NaN</td>\n",
       "      <td>55.352</td>\n",
       "      <td>785.513</td>\n",
       "    </tr>\n",
       "  </tbody>\n",
       "</table>\n",
       "<p>531 rows × 3 columns</p>\n",
       "</div>"
      ]
     },
     "metadata": {
      "application/vnd.databricks.v1+output": {
       "addedWidgets": {},
       "arguments": {},
       "data": "<div>\n<style scoped>\n    .dataframe tbody tr th:only-of-type {\n        vertical-align: middle;\n    }\n\n    .dataframe tbody tr th {\n        vertical-align: top;\n    }\n\n    .dataframe thead th {\n        text-align: right;\n    }\n</style>\n<table border=\"1\" class=\"dataframe\">\n  <thead>\n    <tr style=\"text-align: right;\">\n      <th>category</th>\n      <th>Furniture</th>\n      <th>Office Supplies</th>\n      <th>Technology</th>\n    </tr>\n    <tr>\n      <th>city</th>\n      <th></th>\n      <th></th>\n      <th></th>\n    </tr>\n  </thead>\n  <tbody>\n    <tr>\n      <th>Aberdeen</th>\n      <td>NaN</td>\n      <td>25.500</td>\n      <td>NaN</td>\n    </tr>\n    <tr>\n      <th>Abilene</th>\n      <td>NaN</td>\n      <td>1.392</td>\n      <td>NaN</td>\n    </tr>\n    <tr>\n      <th>Akron</th>\n      <td>433.596</td>\n      <td>373.358</td>\n      <td>279.960</td>\n    </tr>\n    <tr>\n      <th>Albuquerque</th>\n      <td>NaN</td>\n      <td>445.832</td>\n      <td>302.376</td>\n    </tr>\n    <tr>\n      <th>Alexandria</th>\n      <td>204.640</td>\n      <td>153.780</td>\n      <td>NaN</td>\n    </tr>\n    <tr>\n      <th>...</th>\n      <td>...</td>\n      <td>...</td>\n      <td>...</td>\n    </tr>\n    <tr>\n      <th>Woonsocket</th>\n      <td>52.960</td>\n      <td>97.230</td>\n      <td>NaN</td>\n    </tr>\n    <tr>\n      <th>Yonkers</th>\n      <td>851.482</td>\n      <td>70.416</td>\n      <td>216.400</td>\n    </tr>\n    <tr>\n      <th>York</th>\n      <td>422.058</td>\n      <td>37.896</td>\n      <td>NaN</td>\n    </tr>\n    <tr>\n      <th>Yucaipa</th>\n      <td>NaN</td>\n      <td>50.800</td>\n      <td>NaN</td>\n    </tr>\n    <tr>\n      <th>Yuma</th>\n      <td>NaN</td>\n      <td>55.352</td>\n      <td>785.513</td>\n    </tr>\n  </tbody>\n</table>\n<p>531 rows × 3 columns</p>\n</div>",
       "datasetInfos": [],
       "metadata": {},
       "removedWidgets": [],
       "textData": null,
       "type": "htmlSandbox"
      }
     },
     "output_type": "display_data"
    }
   ],
   "source": [
    "df.pivot_table(index = 'city' , columns ='category' , values='sales' , aggfunc='sum')"
   ]
  },
  {
   "cell_type": "markdown",
   "metadata": {
    "application/vnd.databricks.v1+cell": {
     "cellMetadata": {},
     "inputWidgets": {},
     "nuid": "2da46699-bf2c-423e-ba80-83c33798d3aa",
     "showTitle": false,
     "title": ""
    }
   },
   "source": []
  },
  {
   "cell_type": "markdown",
   "metadata": {
    "application/vnd.databricks.v1+cell": {
     "cellMetadata": {},
     "inputWidgets": {},
     "nuid": "f0060442-d6ed-4742-a1c2-1f47e0654e72",
     "showTitle": false,
     "title": ""
    }
   },
   "source": []
  },
  {
   "cell_type": "markdown",
   "metadata": {
    "application/vnd.databricks.v1+cell": {
     "cellMetadata": {},
     "inputWidgets": {},
     "nuid": "0582ceb3-2e8c-4f53-a258-d8b5bff9a3f1",
     "showTitle": false,
     "title": ""
    }
   },
   "source": [
    "#### Working with Excel files\n",
    "to work with xlsx file need to install openpyxl: pip install openpyxl"
   ]
  },
  {
   "cell_type": "code",
   "execution_count": null,
   "metadata": {
    "application/vnd.databricks.v1+cell": {
     "cellMetadata": {
      "byteLimit": 2048000,
      "rowLimit": 10000
     },
     "inputWidgets": {},
     "nuid": "e21372cd-3aa3-416d-99bb-b9d3ea492a87",
     "showTitle": false,
     "title": ""
    }
   },
   "outputs": [
    {
     "name": "stdout",
     "output_type": "stream",
     "text": [
      "Python interpreter will be restarted.\n",
      "Collecting openpyxl\n",
      "  Downloading openpyxl-3.1.5-py2.py3-none-any.whl (250 kB)\n",
      "Collecting et-xmlfile\n",
      "  Downloading et_xmlfile-1.1.0-py3-none-any.whl (4.7 kB)\n",
      "Installing collected packages: et-xmlfile, openpyxl\n",
      "Successfully installed et-xmlfile-1.1.0 openpyxl-3.1.5\n",
      "Python interpreter will be restarted.\n"
     ]
    }
   ],
   "source": [
    "pip install openpyxl"
   ]
  },
  {
   "cell_type": "code",
   "execution_count": null,
   "metadata": {
    "application/vnd.databricks.v1+cell": {
     "cellMetadata": {
      "byteLimit": 2048000,
      "rowLimit": 10000
     },
     "inputWidgets": {},
     "nuid": "61928a80-821f-4ba1-8cc5-fc7f5eb7e483",
     "showTitle": false,
     "title": ""
    }
   },
   "outputs": [
    {
     "data": {
      "text/html": [
       "<div>\n",
       "<style scoped>\n",
       "    .dataframe tbody tr th:only-of-type {\n",
       "        vertical-align: middle;\n",
       "    }\n",
       "\n",
       "    .dataframe tbody tr th {\n",
       "        vertical-align: top;\n",
       "    }\n",
       "\n",
       "    .dataframe thead th {\n",
       "        text-align: right;\n",
       "    }\n",
       "</style>\n",
       "<table border=\"1\" class=\"dataframe\">\n",
       "  <thead>\n",
       "    <tr style=\"text-align: right;\">\n",
       "      <th></th>\n",
       "      <th>Unnamed: 0</th>\n",
       "      <th>order_id</th>\n",
       "      <th>order_date</th>\n",
       "      <th>customer_name</th>\n",
       "      <th>city</th>\n",
       "      <th>category</th>\n",
       "      <th>product_id</th>\n",
       "      <th>sales</th>\n",
       "      <th>profit</th>\n",
       "    </tr>\n",
       "  </thead>\n",
       "  <tbody>\n",
       "    <tr>\n",
       "      <th>0</th>\n",
       "      <td>0</td>\n",
       "      <td>CA-2018-100006</td>\n",
       "      <td>2018-09-07</td>\n",
       "      <td>Dennis Kane</td>\n",
       "      <td>New York City</td>\n",
       "      <td>Technology</td>\n",
       "      <td>TEC-PH-10002075</td>\n",
       "      <td>377.970</td>\n",
       "      <td>109.6113</td>\n",
       "    </tr>\n",
       "    <tr>\n",
       "      <th>1</th>\n",
       "      <td>1</td>\n",
       "      <td>CA-2018-100090</td>\n",
       "      <td>2018-07-08</td>\n",
       "      <td>Ed Braxton</td>\n",
       "      <td>San Francisco</td>\n",
       "      <td>Furniture</td>\n",
       "      <td>FUR-TA-10003715</td>\n",
       "      <td>502.488</td>\n",
       "      <td>-87.9354</td>\n",
       "    </tr>\n",
       "    <tr>\n",
       "      <th>2</th>\n",
       "      <td>2</td>\n",
       "      <td>CA-2018-100293</td>\n",
       "      <td>2018-03-14</td>\n",
       "      <td>Neil Französisch</td>\n",
       "      <td>Jacksonville</td>\n",
       "      <td>Office Supplies</td>\n",
       "      <td>OFF-PA-10000176</td>\n",
       "      <td>91.056</td>\n",
       "      <td>31.8696</td>\n",
       "    </tr>\n",
       "    <tr>\n",
       "      <th>3</th>\n",
       "      <td>3</td>\n",
       "      <td>CA-2018-100328</td>\n",
       "      <td>2018-01-28</td>\n",
       "      <td>Jasper Cacioppo</td>\n",
       "      <td>New York City</td>\n",
       "      <td>Office Supplies</td>\n",
       "      <td>OFF-BI-10000343</td>\n",
       "      <td>3.928</td>\n",
       "      <td>1.3257</td>\n",
       "    </tr>\n",
       "    <tr>\n",
       "      <th>4</th>\n",
       "      <td>4</td>\n",
       "      <td>CA-2018-100363</td>\n",
       "      <td>2018-04-08</td>\n",
       "      <td>Jim Mitchum</td>\n",
       "      <td>Glendale</td>\n",
       "      <td>Office Supplies</td>\n",
       "      <td>OFF-FA-10000611</td>\n",
       "      <td>2.368</td>\n",
       "      <td>0.8288</td>\n",
       "    </tr>\n",
       "    <tr>\n",
       "      <th>...</th>\n",
       "      <td>...</td>\n",
       "      <td>...</td>\n",
       "      <td>...</td>\n",
       "      <td>...</td>\n",
       "      <td>...</td>\n",
       "      <td>...</td>\n",
       "      <td>...</td>\n",
       "      <td>...</td>\n",
       "      <td>...</td>\n",
       "    </tr>\n",
       "    <tr>\n",
       "      <th>5004</th>\n",
       "      <td>5004</td>\n",
       "      <td>US-2021-168802</td>\n",
       "      <td>2021-11-03</td>\n",
       "      <td>Jack O'Briant</td>\n",
       "      <td>Seattle</td>\n",
       "      <td>Office Supplies</td>\n",
       "      <td>OFF-BI-10002393</td>\n",
       "      <td>18.368</td>\n",
       "      <td>5.9696</td>\n",
       "    </tr>\n",
       "    <tr>\n",
       "      <th>5005</th>\n",
       "      <td>5005</td>\n",
       "      <td>US-2021-169320</td>\n",
       "      <td>2021-07-23</td>\n",
       "      <td>Lena Hernandez</td>\n",
       "      <td>Elkhart</td>\n",
       "      <td>Office Supplies</td>\n",
       "      <td>OFF-AR-10003602</td>\n",
       "      <td>11.680</td>\n",
       "      <td>5.4896</td>\n",
       "    </tr>\n",
       "    <tr>\n",
       "      <th>5006</th>\n",
       "      <td>5006</td>\n",
       "      <td>US-2021-169488</td>\n",
       "      <td>2021-09-07</td>\n",
       "      <td>Allen Armold</td>\n",
       "      <td>Providence</td>\n",
       "      <td>Office Supplies</td>\n",
       "      <td>OFF-PA-10000157</td>\n",
       "      <td>39.960</td>\n",
       "      <td>18.7812</td>\n",
       "    </tr>\n",
       "    <tr>\n",
       "      <th>5007</th>\n",
       "      <td>5007</td>\n",
       "      <td>US-2021-169502</td>\n",
       "      <td>2021-08-28</td>\n",
       "      <td>Matthew Grinstein</td>\n",
       "      <td>Milwaukee</td>\n",
       "      <td>Office Supplies</td>\n",
       "      <td>OFF-AP-10001947</td>\n",
       "      <td>91.600</td>\n",
       "      <td>26.5640</td>\n",
       "    </tr>\n",
       "    <tr>\n",
       "      <th>5008</th>\n",
       "      <td>5008</td>\n",
       "      <td>US-2021-169551</td>\n",
       "      <td>2021-07-07</td>\n",
       "      <td>Rob Lucas</td>\n",
       "      <td>Philadelphia</td>\n",
       "      <td>Furniture</td>\n",
       "      <td>FUR-BO-10001519</td>\n",
       "      <td>87.210</td>\n",
       "      <td>-45.3492</td>\n",
       "    </tr>\n",
       "  </tbody>\n",
       "</table>\n",
       "<p>5009 rows × 9 columns</p>\n",
       "</div>"
      ]
     },
     "metadata": {
      "application/vnd.databricks.v1+output": {
       "addedWidgets": {},
       "arguments": {},
       "data": "<div>\n<style scoped>\n    .dataframe tbody tr th:only-of-type {\n        vertical-align: middle;\n    }\n\n    .dataframe tbody tr th {\n        vertical-align: top;\n    }\n\n    .dataframe thead th {\n        text-align: right;\n    }\n</style>\n<table border=\"1\" class=\"dataframe\">\n  <thead>\n    <tr style=\"text-align: right;\">\n      <th></th>\n      <th>Unnamed: 0</th>\n      <th>order_id</th>\n      <th>order_date</th>\n      <th>customer_name</th>\n      <th>city</th>\n      <th>category</th>\n      <th>product_id</th>\n      <th>sales</th>\n      <th>profit</th>\n    </tr>\n  </thead>\n  <tbody>\n    <tr>\n      <th>0</th>\n      <td>0</td>\n      <td>CA-2018-100006</td>\n      <td>2018-09-07</td>\n      <td>Dennis Kane</td>\n      <td>New York City</td>\n      <td>Technology</td>\n      <td>TEC-PH-10002075</td>\n      <td>377.970</td>\n      <td>109.6113</td>\n    </tr>\n    <tr>\n      <th>1</th>\n      <td>1</td>\n      <td>CA-2018-100090</td>\n      <td>2018-07-08</td>\n      <td>Ed Braxton</td>\n      <td>San Francisco</td>\n      <td>Furniture</td>\n      <td>FUR-TA-10003715</td>\n      <td>502.488</td>\n      <td>-87.9354</td>\n    </tr>\n    <tr>\n      <th>2</th>\n      <td>2</td>\n      <td>CA-2018-100293</td>\n      <td>2018-03-14</td>\n      <td>Neil Französisch</td>\n      <td>Jacksonville</td>\n      <td>Office Supplies</td>\n      <td>OFF-PA-10000176</td>\n      <td>91.056</td>\n      <td>31.8696</td>\n    </tr>\n    <tr>\n      <th>3</th>\n      <td>3</td>\n      <td>CA-2018-100328</td>\n      <td>2018-01-28</td>\n      <td>Jasper Cacioppo</td>\n      <td>New York City</td>\n      <td>Office Supplies</td>\n      <td>OFF-BI-10000343</td>\n      <td>3.928</td>\n      <td>1.3257</td>\n    </tr>\n    <tr>\n      <th>4</th>\n      <td>4</td>\n      <td>CA-2018-100363</td>\n      <td>2018-04-08</td>\n      <td>Jim Mitchum</td>\n      <td>Glendale</td>\n      <td>Office Supplies</td>\n      <td>OFF-FA-10000611</td>\n      <td>2.368</td>\n      <td>0.8288</td>\n    </tr>\n    <tr>\n      <th>...</th>\n      <td>...</td>\n      <td>...</td>\n      <td>...</td>\n      <td>...</td>\n      <td>...</td>\n      <td>...</td>\n      <td>...</td>\n      <td>...</td>\n      <td>...</td>\n    </tr>\n    <tr>\n      <th>5004</th>\n      <td>5004</td>\n      <td>US-2021-168802</td>\n      <td>2021-11-03</td>\n      <td>Jack O'Briant</td>\n      <td>Seattle</td>\n      <td>Office Supplies</td>\n      <td>OFF-BI-10002393</td>\n      <td>18.368</td>\n      <td>5.9696</td>\n    </tr>\n    <tr>\n      <th>5005</th>\n      <td>5005</td>\n      <td>US-2021-169320</td>\n      <td>2021-07-23</td>\n      <td>Lena Hernandez</td>\n      <td>Elkhart</td>\n      <td>Office Supplies</td>\n      <td>OFF-AR-10003602</td>\n      <td>11.680</td>\n      <td>5.4896</td>\n    </tr>\n    <tr>\n      <th>5006</th>\n      <td>5006</td>\n      <td>US-2021-169488</td>\n      <td>2021-09-07</td>\n      <td>Allen Armold</td>\n      <td>Providence</td>\n      <td>Office Supplies</td>\n      <td>OFF-PA-10000157</td>\n      <td>39.960</td>\n      <td>18.7812</td>\n    </tr>\n    <tr>\n      <th>5007</th>\n      <td>5007</td>\n      <td>US-2021-169502</td>\n      <td>2021-08-28</td>\n      <td>Matthew Grinstein</td>\n      <td>Milwaukee</td>\n      <td>Office Supplies</td>\n      <td>OFF-AP-10001947</td>\n      <td>91.600</td>\n      <td>26.5640</td>\n    </tr>\n    <tr>\n      <th>5008</th>\n      <td>5008</td>\n      <td>US-2021-169551</td>\n      <td>2021-07-07</td>\n      <td>Rob Lucas</td>\n      <td>Philadelphia</td>\n      <td>Furniture</td>\n      <td>FUR-BO-10001519</td>\n      <td>87.210</td>\n      <td>-45.3492</td>\n    </tr>\n  </tbody>\n</table>\n<p>5009 rows × 9 columns</p>\n</div>",
       "datasetInfos": [],
       "metadata": {},
       "removedWidgets": [],
       "textData": null,
       "type": "htmlSandbox"
      }
     },
     "output_type": "display_data"
    }
   ],
   "source": [
    "# writing excel file to location\n",
    "# df.to_excel('orders.xlsx')\n",
    "\n",
    "# By default it will read data from sheet 1\n",
    "df = pd.read_excel('orders.xlsx')\n",
    "df\n",
    "\n",
    "# readind data from specific sheet. you can also index as sheet_name = 0\n",
    "df=pd.read_excel('orders.xlsx',sheet_name=0)\n",
    "df"
   ]
  },
  {
   "cell_type": "markdown",
   "metadata": {
    "application/vnd.databricks.v1+cell": {
     "cellMetadata": {},
     "inputWidgets": {},
     "nuid": "14f07b5a-5a1a-4bc5-bebf-08d023a40a90",
     "showTitle": false,
     "title": ""
    }
   },
   "source": []
  },
  {
   "cell_type": "markdown",
   "metadata": {
    "application/vnd.databricks.v1+cell": {
     "cellMetadata": {},
     "inputWidgets": {},
     "nuid": "35935b42-43c9-41c8-9662-e477c691c6fc",
     "showTitle": false,
     "title": ""
    }
   },
   "source": []
  },
  {
   "cell_type": "markdown",
   "metadata": {
    "application/vnd.databricks.v1+cell": {
     "cellMetadata": {},
     "inputWidgets": {},
     "nuid": "88bed251-41f7-4298-b8a7-22b446e34a37",
     "showTitle": false,
     "title": ""
    }
   },
   "source": [
    "#### Working with json files"
   ]
  },
  {
   "cell_type": "code",
   "execution_count": null,
   "metadata": {
    "application/vnd.databricks.v1+cell": {
     "cellMetadata": {},
     "inputWidgets": {},
     "nuid": "afea2303-8b7b-4dc2-bdb9-d8c85111c254",
     "showTitle": false,
     "title": ""
    }
   },
   "outputs": [],
   "source": [
    "import pyarrow"
   ]
  },
  {
   "cell_type": "code",
   "execution_count": null,
   "metadata": {
    "application/vnd.databricks.v1+cell": {
     "cellMetadata": {
      "byteLimit": 2048000,
      "rowLimit": 10000
     },
     "inputWidgets": {},
     "nuid": "e941525d-6b66-4def-9325-12a535d5b6f7",
     "showTitle": false,
     "title": ""
    }
   },
   "outputs": [
    {
     "data": {
      "text/html": [
       "<div>\n",
       "<style scoped>\n",
       "    .dataframe tbody tr th:only-of-type {\n",
       "        vertical-align: middle;\n",
       "    }\n",
       "\n",
       "    .dataframe tbody tr th {\n",
       "        vertical-align: top;\n",
       "    }\n",
       "\n",
       "    .dataframe thead th {\n",
       "        text-align: right;\n",
       "    }\n",
       "</style>\n",
       "<table border=\"1\" class=\"dataframe\">\n",
       "  <thead>\n",
       "    <tr style=\"text-align: right;\">\n",
       "      <th></th>\n",
       "      <th>order_id</th>\n",
       "      <th>return_reason</th>\n",
       "    </tr>\n",
       "  </thead>\n",
       "  <tbody>\n",
       "    <tr>\n",
       "      <th>0</th>\n",
       "      <td>CA-2020-104689</td>\n",
       "      <td>Wrong Items</td>\n",
       "    </tr>\n",
       "    <tr>\n",
       "      <th>1</th>\n",
       "      <td>CA-2020-105081</td>\n",
       "      <td>Wrong Items</td>\n",
       "    </tr>\n",
       "    <tr>\n",
       "      <th>2</th>\n",
       "      <td>CA-2020-105291</td>\n",
       "      <td>Wrong Items</td>\n",
       "    </tr>\n",
       "    <tr>\n",
       "      <th>3</th>\n",
       "      <td>CA-2020-105585</td>\n",
       "      <td>Wrong Items</td>\n",
       "    </tr>\n",
       "    <tr>\n",
       "      <th>4</th>\n",
       "      <td>CA-2020-106950</td>\n",
       "      <td>Wrong Items</td>\n",
       "    </tr>\n",
       "    <tr>\n",
       "      <th>...</th>\n",
       "      <td>...</td>\n",
       "      <td>...</td>\n",
       "    </tr>\n",
       "    <tr>\n",
       "      <th>291</th>\n",
       "      <td>US-2021-136679</td>\n",
       "      <td>Others</td>\n",
       "    </tr>\n",
       "    <tr>\n",
       "      <th>292</th>\n",
       "      <td>US-2021-147886</td>\n",
       "      <td>Others</td>\n",
       "    </tr>\n",
       "    <tr>\n",
       "      <th>293</th>\n",
       "      <td>US-2021-147998</td>\n",
       "      <td>Wrong Items</td>\n",
       "    </tr>\n",
       "    <tr>\n",
       "      <th>294</th>\n",
       "      <td>US-2021-151127</td>\n",
       "      <td>Wrong Items</td>\n",
       "    </tr>\n",
       "    <tr>\n",
       "      <th>295</th>\n",
       "      <td>US-2021-155999</td>\n",
       "      <td>Wrong Items</td>\n",
       "    </tr>\n",
       "  </tbody>\n",
       "</table>\n",
       "<p>296 rows × 2 columns</p>\n",
       "</div>"
      ]
     },
     "metadata": {
      "application/vnd.databricks.v1+output": {
       "addedWidgets": {},
       "arguments": {},
       "data": "<div>\n<style scoped>\n    .dataframe tbody tr th:only-of-type {\n        vertical-align: middle;\n    }\n\n    .dataframe tbody tr th {\n        vertical-align: top;\n    }\n\n    .dataframe thead th {\n        text-align: right;\n    }\n</style>\n<table border=\"1\" class=\"dataframe\">\n  <thead>\n    <tr style=\"text-align: right;\">\n      <th></th>\n      <th>order_id</th>\n      <th>return_reason</th>\n    </tr>\n  </thead>\n  <tbody>\n    <tr>\n      <th>0</th>\n      <td>CA-2020-104689</td>\n      <td>Wrong Items</td>\n    </tr>\n    <tr>\n      <th>1</th>\n      <td>CA-2020-105081</td>\n      <td>Wrong Items</td>\n    </tr>\n    <tr>\n      <th>2</th>\n      <td>CA-2020-105291</td>\n      <td>Wrong Items</td>\n    </tr>\n    <tr>\n      <th>3</th>\n      <td>CA-2020-105585</td>\n      <td>Wrong Items</td>\n    </tr>\n    <tr>\n      <th>4</th>\n      <td>CA-2020-106950</td>\n      <td>Wrong Items</td>\n    </tr>\n    <tr>\n      <th>...</th>\n      <td>...</td>\n      <td>...</td>\n    </tr>\n    <tr>\n      <th>291</th>\n      <td>US-2021-136679</td>\n      <td>Others</td>\n    </tr>\n    <tr>\n      <th>292</th>\n      <td>US-2021-147886</td>\n      <td>Others</td>\n    </tr>\n    <tr>\n      <th>293</th>\n      <td>US-2021-147998</td>\n      <td>Wrong Items</td>\n    </tr>\n    <tr>\n      <th>294</th>\n      <td>US-2021-151127</td>\n      <td>Wrong Items</td>\n    </tr>\n    <tr>\n      <th>295</th>\n      <td>US-2021-155999</td>\n      <td>Wrong Items</td>\n    </tr>\n  </tbody>\n</table>\n<p>296 rows × 2 columns</p>\n</div>",
       "datasetInfos": [],
       "metadata": {},
       "removedWidgets": [],
       "textData": null,
       "type": "htmlSandbox"
      }
     },
     "output_type": "display_data"
    }
   ],
   "source": [
    "df = pd.read_csv('returns.txt')\n",
    "df"
   ]
  },
  {
   "cell_type": "code",
   "execution_count": null,
   "metadata": {
    "application/vnd.databricks.v1+cell": {
     "cellMetadata": {
      "byteLimit": 2048000,
      "rowLimit": 10000
     },
     "inputWidgets": {},
     "nuid": "48482960-c6a2-487e-95aa-0f46b04c2b35",
     "showTitle": false,
     "title": ""
    }
   },
   "outputs": [],
   "source": [
    "#  writing json to a location\n",
    "df.to_json('returns.json')\n"
   ]
  },
  {
   "cell_type": "code",
   "execution_count": null,
   "metadata": {
    "application/vnd.databricks.v1+cell": {
     "cellMetadata": {
      "byteLimit": 2048000,
      "rowLimit": 10000
     },
     "inputWidgets": {},
     "nuid": "ceffe516-6c85-49f2-9b10-7eb326ebc107",
     "showTitle": false,
     "title": ""
    }
   },
   "outputs": [
    {
     "data": {
      "text/html": [
       "<style scoped>\n",
       "  .ansiout {\n",
       "    display: block;\n",
       "    unicode-bidi: embed;\n",
       "    white-space: pre-wrap;\n",
       "    word-wrap: break-word;\n",
       "    word-break: break-all;\n",
       "    font-family: \"Menlo\", \"Monaco\", \"Consolas\", \"Ubuntu Mono\", \"Source Code Pro\", monospace;\n",
       "    font-size: 13px;\n",
       "    color: #555;\n",
       "    margin-left: 4px;\n",
       "    line-height: 19px;\n",
       "  }\n",
       "</style>\n",
       "<div class=\"ansiout\">{&quot;order_id&quot;:{&quot;0&quot;:&quot;CA-2020-104689&quot;,&quot;1&quot;:&quot;CA-2020-105081&quot;,&quot;2&quot;:&quot;CA-2020-105291&quot;,&quot;3&quot;:&quot;CA-2020-105585&quot;,&quot;4&quot;:&quot;CA-2020-106950&quot;,&quot;5&quot;:&quot;CA-2020-109806&quot;,&quot;6&quot;:&quot;CA-2020-109869&quot;,&quot;7&quot;:&quot;CA-2020-111682&quot;,&quot;8&quot;:&quot;CA-2020-112123&quot;,&quot;9&quot;:&quot;CA-2020-112340&quot;,&quot;10&quot;:&quot;CA-2020-113341&quot;,&quot;11&quot;:&quot;CA-2020-114307&quot;,&quot;12&quot;:&quot;CA-2020-114727&quot;,&quot;13&quot;:&quot;CA-2020-115917&quot;,&quot;14&quot;:&quot;CA-2020-116547&quot;,&quot;15&quot;:&quot;CA-2020-116736&quot;,&quot;16&quot;:&quot;CA-2020-118311&quot;,&quot;17&quot;:&quot;CA-2020-118500&quot;,&quot;18&quot;:&quot;CA-2020-118899&quot;,&quot;19&quot;:&quot;CA-2020-120873&quot;,&quot;20&quot;:&quot;CA-2020-123526&quot;,&quot;21&quot;:&quot;CA-2020-124527&quot;,&quot;22&quot;:&quot;CA-2020-126529&quot;,&quot;23&quot;:&quot;CA-2020-126732&quot;,&quot;24&quot;:&quot;CA-2020-128671&quot;,&quot;25&quot;:&quot;CA-2020-130477&quot;,&quot;26&quot;:&quot;CA-2020-130638&quot;,&quot;27&quot;:&quot;CA-2020-130680&quot;,&quot;28&quot;:&quot;CA-2020-133319&quot;,&quot;29&quot;:&quot;CA-2020-133368&quot;,&quot;30&quot;:&quot;CA-2020-133802&quot;,&quot;31&quot;:&quot;CA-2020-134775&quot;,&quot;32&quot;:&quot;CA-2020-134803&quot;,&quot;33&quot;:&quot;CA-2020-136483&quot;,&quot;34&quot;:&quot;CA-2020-136924&quot;,&quot;35&quot;:&quot;CA-2020-138282&quot;,&quot;36&quot;:&quot;CA-2020-139269&quot;,&quot;37&quot;:&quot;CA-2020-142398&quot;,&quot;38&quot;:&quot;CA-2020-145261&quot;,&quot;39&quot;:&quot;CA-2020-145492&quot;,&quot;40&quot;:&quot;CA-2020-145583&quot;,&quot;41&quot;:&quot;CA-2020-145919&quot;,&quot;42&quot;:&quot;CA-2020-145982&quot;,&quot;43&quot;:&quot;CA-2020-147375&quot;,&quot;44&quot;:&quot;CA-2020-148796&quot;,&quot;45&quot;:&quot;CA-2020-150077&quot;,&quot;46&quot;:&quot;CA-2020-151323&quot;,&quot;47&quot;:&quot;CA-2020-151372&quot;,&quot;48&quot;:&quot;CA-2020-152814&quot;,&quot;49&quot;:&quot;CA-2020-157280&quot;,&quot;50&quot;:&quot;CA-2020-159023&quot;,&quot;51&quot;:&quot;CA-2020-159212&quot;,&quot;52&quot;:&quot;CA-2020-159345&quot;,&quot;53&quot;:&quot;CA-2020-161746&quot;,&quot;54&quot;:&quot;CA-2020-162138&quot;,&quot;55&quot;:&quot;CA-2020-162159&quot;,&quot;56&quot;:&quot;CA-2020-165330&quot;,&quot;57&quot;:&quot;CA-2020-166275&quot;,&quot;58&quot;:&quot;CA-2020-167759&quot;,&quot;59&quot;:&quot;CA-2020-168921&quot;,&quot;60&quot;:&quot;CA-2021-100111&quot;,&quot;61&quot;:&quot;CA-2021-101273&quot;,&quot;62&quot;:&quot;CA-2021-101574&quot;,&quot;63&quot;:&quot;CA-2021-101700&quot;,&quot;64&quot;:&quot;CA-2021-101805&quot;,&quot;65&quot;:&quot;CA-2021-102519&quot;,&quot;66&quot;:&quot;CA-2021-103380&quot;,&quot;67&quot;:&quot;CA-2021-107825&quot;,&quot;68&quot;:&quot;CA-2021-108294&quot;,&quot;69&quot;:&quot;CA-2021-108931&quot;,&quot;70&quot;:&quot;CA-2021-109085&quot;,&quot;71&quot;:&quot;CA-2021-111556&quot;,&quot;72&quot;:&quot;CA-2021-112725&quot;,&quot;73&quot;:&quot;CA-2021-112753&quot;,&quot;74&quot;:&quot;CA-2021-112865&quot;,&quot;75&quot;:&quot;CA-2021-113670&quot;,&quot;76&quot;:&quot;CA-2021-115427&quot;,&quot;77&quot;:&quot;CA-2021-115994&quot;,&quot;78&quot;:&quot;CA-2021-117212&quot;,&quot;79&quot;:&quot;CA-2021-117513&quot;,&quot;80&quot;:&quot;CA-2021-117926&quot;,&quot;81&quot;:&quot;CA-2021-118122&quot;,&quot;82&quot;:&quot;CA-2021-118542&quot;,&quot;83&quot;:&quot;CA-2021-119284&quot;,&quot;84&quot;:&quot;CA-2021-121258&quot;,&quot;85&quot;:&quot;CA-2021-121853&quot;,&quot;86&quot;:&quot;CA-2021-122007&quot;,&quot;87&quot;:&quot;CA-2021-122504&quot;,&quot;88&quot;:&quot;CA-2021-123085&quot;,&quot;89&quot;:&quot;CA-2021-123491&quot;,&quot;90&quot;:&quot;CA-2021-124401&quot;,&quot;91&quot;:&quot;CA-2021-127306&quot;,&quot;92&quot;:&quot;CA-2021-128965&quot;,&quot;93&quot;:&quot;CA-2021-129707&quot;,&quot;94&quot;:&quot;CA-2021-130631&quot;,&quot;95&quot;:&quot;CA-2021-131492&quot;,&quot;96&quot;:&quot;CA-2021-131618&quot;,&quot;97&quot;:&quot;CA-2021-131807&quot;,&quot;98&quot;:&quot;CA-2021-131828&quot;,&quot;99&quot;:&quot;CA-2021-132346&quot;,&quot;100&quot;:&quot;CA-2018-100762&quot;,&quot;101&quot;:&quot;CA-2018-100867&quot;,&quot;102&quot;:&quot;CA-2018-102652&quot;,&quot;103&quot;:&quot;CA-2018-103373&quot;,&quot;104&quot;:&quot;CA-2018-103744&quot;,&quot;105&quot;:&quot;CA-2018-103940&quot;,&quot;106&quot;:&quot;CA-2018-104829&quot;,&quot;107&quot;:&quot;CA-2018-105270&quot;,&quot;108&quot;:&quot;CA-2018-108609&quot;,&quot;109&quot;:&quot;CA-2018-108861&quot;,&quot;110&quot;:&quot;CA-2018-109918&quot;,&quot;111&quot;:&quot;CA-2018-110786&quot;,&quot;112&quot;:&quot;CA-2018-111871&quot;,&quot;113&quot;:&quot;CA-2018-116785&quot;,&quot;114&quot;:&quot;CA-2018-123225&quot;,&quot;115&quot;:&quot;CA-2018-123253&quot;,&quot;116&quot;:&quot;CA-2018-123498&quot;,&quot;117&quot;:&quot;CA-2018-124688&quot;,&quot;118&quot;:&quot;CA-2018-126361&quot;,&quot;119&quot;:&quot;CA-2018-126403&quot;,&quot;120&quot;:&quot;CA-2018-126522&quot;,&quot;121&quot;:&quot;CA-2018-127012&quot;,&quot;122&quot;:&quot;CA-2018-127131&quot;,&quot;123&quot;:&quot;CA-2018-133690&quot;,&quot;124&quot;:&quot;CA-2018-134726&quot;,&quot;125&quot;:&quot;CA-2018-135657&quot;,&quot;126&quot;:&quot;CA-2018-135699&quot;,&quot;127&quot;:&quot;CA-2018-140816&quot;,&quot;128&quot;:&quot;CA-2018-141726&quot;,&quot;129&quot;:&quot;CA-2018-142769&quot;,&quot;130&quot;:&quot;CA-2018-143336&quot;,&quot;131&quot;:&quot;CA-2018-143840&quot;,&quot;132&quot;:&quot;CA-2018-148614&quot;,&quot;133&quot;:&quot;CA-2018-148950&quot;,&quot;134&quot;:&quot;CA-2018-151162&quot;,&quot;135&quot;:&quot;CA-2018-152345&quot;,&quot;136&quot;:&quot;CA-2018-153150&quot;,&quot;137&quot;:&quot;CA-2018-156349&quot;,&quot;138&quot;:&quot;CA-2018-157924&quot;,&quot;139&quot;:&quot;CA-2018-159338&quot;,&quot;140&quot;:&quot;CA-2018-160766&quot;,&quot;141&quot;:&quot;CA-2018-160773&quot;,&quot;142&quot;:&quot;CA-2018-164721&quot;,&quot;143&quot;:&quot;CA-2018-164861&quot;,&quot;144&quot;:&quot;CA-2018-166744&quot;,&quot;145&quot;:&quot;CA-2018-169019&quot;,&quot;146&quot;:&quot;CA-2019-101910&quot;,&quot;147&quot;:&quot;CA-2019-103716&quot;,&quot;148&quot;:&quot;CA-2019-104129&quot;,&quot;149&quot;:&quot;CA-2019-105158&quot;,&quot;150&quot;:&quot;CA-2019-107678&quot;,&quot;151&quot;:&quot;CA-2019-109736&quot;,&quot;152&quot;:&quot;CA-2019-110814&quot;,&quot;153&quot;:&quot;CA-2019-111948&quot;,&quot;154&quot;:&quot;CA-2019-112144&quot;,&quot;155&quot;:&quot;CA-2019-113628&quot;,&quot;156&quot;:&quot;CA-2019-114048&quot;,&quot;157&quot;:&quot;CA-2019-116092&quot;,&quot;158&quot;:&quot;CA-2019-119214&quot;,&quot;159&quot;:&quot;CA-2019-119907&quot;,&quot;160&quot;:&quot;CA-2019-123568&quot;,&quot;161&quot;:&quot;CA-2019-124058&quot;,&quot;162&quot;:&quot;CA-2019-130456&quot;,&quot;163&quot;:&quot;CA-2019-130785&quot;,&quot;164&quot;:&quot;CA-2019-132374&quot;,&quot;165&quot;:&quot;CA-2019-132941&quot;,&quot;166&quot;:&quot;CA-2019-134075&quot;,&quot;167&quot;:&quot;CA-2019-134201&quot;,&quot;168&quot;:&quot;CA-2019-135580&quot;,&quot;169&quot;:&quot;CA-2019-138674&quot;,&quot;170&quot;:&quot;CA-2019-139731&quot;,&quot;171&quot;:&quot;CA-2019-140984&quot;,&quot;172&quot;:&quot;CA-2019-141593&quot;,&quot;173&quot;:&quot;CA-2019-142601&quot;,&quot;174&quot;:&quot;CA-2019-143238&quot;,&quot;175&quot;:&quot;CA-2019-143490&quot;,&quot;176&quot;:&quot;CA-2019-143602&quot;,&quot;177&quot;:&quot;CA-2019-144267&quot;,&quot;178&quot;:&quot;CA-2019-146255&quot;,&quot;179&quot;:&quot;CA-2019-146262&quot;,&quot;180&quot;:&quot;CA-2019-146486&quot;,&quot;181&quot;:&quot;CA-2019-148873&quot;,&quot;182&quot;:&quot;CA-2019-149342&quot;,&quot;183&quot;:&quot;CA-2019-149636&quot;,&quot;184&quot;:&quot;CA-2019-149650&quot;,&quot;185&quot;:&quot;CA-2019-150770&quot;,&quot;186&quot;:&quot;CA-2019-150875&quot;,&quot;187&quot;:&quot;CA-2019-151547&quot;,&quot;188&quot;:&quot;CA-2019-153220&quot;,&quot;189&quot;:&quot;CA-2019-154970&quot;,&quot;190&quot;:&quot;CA-2019-155761&quot;,&quot;191&quot;:&quot;CA-2019-156440&quot;,&quot;192&quot;:&quot;CA-2019-157770&quot;,&quot;193&quot;:&quot;CA-2019-157812&quot;,&quot;194&quot;:&quot;CA-2019-161627&quot;,&quot;195&quot;:&quot;CA-2019-162166&quot;,&quot;196&quot;:&quot;CA-2019-164882&quot;,&quot;197&quot;:&quot;CA-2019-168480&quot;,&quot;198&quot;:&quot;CA-2019-168564&quot;,&quot;199&quot;:&quot;CA-2019-169397&quot;,&quot;200&quot;:&quot;CA-2021-134194&quot;,&quot;201&quot;:&quot;CA-2021-135692&quot;,&quot;202&quot;:&quot;CA-2021-136308&quot;,&quot;203&quot;:&quot;CA-2021-136539&quot;,&quot;204&quot;:&quot;CA-2021-136651&quot;,&quot;205&quot;:&quot;CA-2021-137085&quot;,&quot;206&quot;:&quot;CA-2021-137099&quot;,&quot;207&quot;:&quot;CA-2021-137414&quot;,&quot;208&quot;:&quot;CA-2021-137428&quot;,&quot;209&quot;:&quot;CA-2021-138163&quot;,&quot;210&quot;:&quot;CA-2021-140053&quot;,&quot;211&quot;:&quot;CA-2021-140151&quot;,&quot;212&quot;:&quot;CA-2021-140186&quot;,&quot;213&quot;:&quot;CA-2021-140585&quot;,&quot;214&quot;:&quot;CA-2021-140963&quot;,&quot;215&quot;:&quot;CA-2021-141929&quot;,&quot;216&quot;:&quot;CA-2021-142328&quot;,&quot;217&quot;:&quot;CA-2021-142342&quot;,&quot;218&quot;:&quot;CA-2021-142867&quot;,&quot;219&quot;:&quot;CA-2021-142888&quot;,&quot;220&quot;:&quot;CA-2021-143084&quot;,&quot;221&quot;:&quot;CA-2021-144064&quot;,&quot;222&quot;:&quot;CA-2021-145128&quot;,&quot;223&quot;:&quot;CA-2021-145772&quot;,&quot;224&quot;:&quot;CA-2021-147452&quot;,&quot;225&quot;:&quot;CA-2021-150609&quot;,&quot;226&quot;:&quot;CA-2021-150910&quot;,&quot;227&quot;:&quot;CA-2021-152660&quot;,&quot;228&quot;:&quot;CA-2021-153822&quot;,&quot;229&quot;:&quot;CA-2021-154074&quot;,&quot;230&quot;:&quot;CA-2021-154214&quot;,&quot;231&quot;:&quot;CA-2021-154949&quot;,&quot;232&quot;:&quot;CA-2021-155712&quot;,&quot;233&quot;:&quot;CA-2021-156391&quot;,&quot;234&quot;:&quot;CA-2021-156958&quot;,&quot;235&quot;:&quot;CA-2021-157196&quot;,&quot;236&quot;:&quot;CA-2021-158729&quot;,&quot;237&quot;:&quot;CA-2021-159954&quot;,&quot;238&quot;:&quot;CA-2021-161459&quot;,&quot;239&quot;:&quot;CA-2021-161557&quot;,&quot;240&quot;:&quot;CA-2021-161956&quot;,&quot;241&quot;:&quot;CA-2021-162015&quot;,&quot;242&quot;:&quot;CA-2021-165008&quot;,&quot;243&quot;:&quot;CA-2021-165491&quot;,&quot;244&quot;:&quot;CA-2021-166093&quot;,&quot;245&quot;:&quot;CA-2021-166142&quot;,&quot;246&quot;:&quot;CA-2021-166898&quot;,&quot;247&quot;:&quot;CA-2021-167003&quot;,&quot;248&quot;:&quot;CA-2021-167395&quot;,&quot;249&quot;:&quot;CA-2021-168193&quot;,&quot;250&quot;:&quot;CA-2021-169327&quot;,&quot;251&quot;:&quot;CA-2021-169859&quot;,&quot;252&quot;:&quot;CA-2021-169894&quot;,&quot;253&quot;:&quot;US-2018-105137&quot;,&quot;254&quot;:&quot;US-2018-138758&quot;,&quot;255&quot;:&quot;US-2018-140452&quot;,&quot;256&quot;:&quot;US-2018-143287&quot;,&quot;257&quot;:&quot;US-2018-150574&quot;,&quot;258&quot;:&quot;US-2018-164406&quot;,&quot;259&quot;:&quot;US-2018-164763&quot;,&quot;260&quot;:&quot;US-2019-110569&quot;,&quot;261&quot;:&quot;US-2019-126214&quot;,&quot;262&quot;:&quot;US-2019-128090&quot;,&quot;263&quot;:&quot;US-2019-136749&quot;,&quot;264&quot;:&quot;US-2019-136987&quot;,&quot;265&quot;:&quot;US-2019-137008&quot;,&quot;266&quot;:&quot;US-2019-160857&quot;,&quot;267&quot;:&quot;US-2020-105578&quot;,&quot;268&quot;:&quot;US-2020-108455&quot;,&quot;269&quot;:&quot;US-2020-111528&quot;,&quot;270&quot;:&quot;US-2020-114230&quot;,&quot;271&quot;:&quot;US-2020-114293&quot;,&quot;272&quot;:&quot;US-2020-115952&quot;,&quot;273&quot;:&quot;US-2020-119046&quot;,&quot;274&quot;:&quot;US-2020-127425&quot;,&quot;275&quot;:&quot;US-2020-131149&quot;,&quot;276&quot;:&quot;US-2020-135720&quot;,&quot;277&quot;:&quot;US-2020-140172&quot;,&quot;278&quot;:&quot;US-2020-144057&quot;,&quot;279&quot;:&quot;US-2020-148957&quot;,&quot;280&quot;:&quot;US-2020-151827&quot;,&quot;281&quot;:&quot;US-2020-152051&quot;,&quot;282&quot;:&quot;US-2020-156986&quot;,&quot;283&quot;:&quot;US-2020-157490&quot;,&quot;284&quot;:&quot;US-2021-103247&quot;,&quot;285&quot;:&quot;US-2021-103828&quot;,&quot;286&quot;:&quot;US-2021-105046&quot;,&quot;287&quot;:&quot;US-2021-107888&quot;,&quot;288&quot;:&quot;US-2021-109253&quot;,&quot;289&quot;:&quot;US-2021-118087&quot;,&quot;290&quot;:&quot;US-2021-123834&quot;,&quot;291&quot;:&quot;US-2021-136679&quot;,&quot;292&quot;:&quot;US-2021-147886&quot;,&quot;293&quot;:&quot;US-2021-147998&quot;,&quot;294&quot;:&quot;US-2021-151127&quot;,&quot;295&quot;:&quot;US-2021-155999&quot;},&quot;return_reason&quot;:{&quot;0&quot;:&quot;Wrong Items&quot;,&quot;1&quot;:&quot;Wrong Items&quot;,&quot;2&quot;:&quot;Wrong Items&quot;,&quot;3&quot;:&quot;Wrong Items&quot;,&quot;4&quot;:&quot;Wrong Items&quot;,&quot;5&quot;:&quot;Wrong Items&quot;,&quot;6&quot;:&quot;Wrong Items&quot;,&quot;7&quot;:&quot;Wrong Items&quot;,&quot;8&quot;:&quot;Wrong Items&quot;,&quot;9&quot;:&quot;Wrong Items&quot;,&quot;10&quot;:&quot;Wrong Items&quot;,&quot;11&quot;:null,&quot;12&quot;:&quot;Wrong Items&quot;,&quot;13&quot;:&quot;Wrong Items&quot;,&quot;14&quot;:&quot;Wrong Items&quot;,&quot;15&quot;:&quot;Wrong Items&quot;,&quot;16&quot;:&quot;Wrong Items&quot;,&quot;17&quot;:&quot;Wrong Items&quot;,&quot;18&quot;:&quot;Wrong Items&quot;,&quot;19&quot;:&quot;Wrong Items&quot;,&quot;20&quot;:&quot;Wrong Items&quot;,&quot;21&quot;:&quot;Wrong Items&quot;,&quot;22&quot;:&quot;Wrong Items&quot;,&quot;23&quot;:&quot;Wrong Items&quot;,&quot;24&quot;:&quot;Wrong Items&quot;,&quot;25&quot;:&quot;Wrong Items&quot;,&quot;26&quot;:&quot;Wrong Items&quot;,&quot;27&quot;:&quot;Wrong Items&quot;,&quot;28&quot;:&quot;Wrong Items&quot;,&quot;29&quot;:null,&quot;30&quot;:&quot;Wrong Items&quot;,&quot;31&quot;:&quot;Wrong Items&quot;,&quot;32&quot;:&quot;Wrong Items&quot;,&quot;33&quot;:&quot;Wrong Items&quot;,&quot;34&quot;:&quot;Wrong Items&quot;,&quot;35&quot;:&quot;Wrong Items&quot;,&quot;36&quot;:&quot;Wrong Items&quot;,&quot;37&quot;:&quot;Wrong Items&quot;,&quot;38&quot;:&quot;Wrong Items&quot;,&quot;39&quot;:&quot;Wrong Items&quot;,&quot;40&quot;:&quot;Wrong Items&quot;,&quot;41&quot;:&quot;Wrong Items&quot;,&quot;42&quot;:&quot;Wrong Items&quot;,&quot;43&quot;:&quot;Wrong Items&quot;,&quot;44&quot;:&quot;Wrong Items&quot;,&quot;45&quot;:&quot;Wrong Items&quot;,&quot;46&quot;:&quot;Wrong Items&quot;,&quot;47&quot;:&quot;Wrong Items&quot;,&quot;48&quot;:&quot;Wrong Items&quot;,&quot;49&quot;:&quot;Wrong Items&quot;,&quot;50&quot;:&quot;Wrong Items&quot;,&quot;51&quot;:&quot;Wrong Items&quot;,&quot;52&quot;:&quot;Wrong Items&quot;,&quot;53&quot;:&quot;Wrong Items&quot;,&quot;54&quot;:&quot;Wrong Items&quot;,&quot;55&quot;:&quot;Wrong Items&quot;,&quot;56&quot;:&quot;Wrong Items&quot;,&quot;57&quot;:&quot;Wrong Items&quot;,&quot;58&quot;:&quot;Wrong Items&quot;,&quot;59&quot;:&quot;Wrong Items&quot;,&quot;60&quot;:&quot;Wrong Items&quot;,&quot;61&quot;:&quot;Wrong Items&quot;,&quot;62&quot;:&quot;Wrong Items&quot;,&quot;63&quot;:&quot;Wrong Items&quot;,&quot;64&quot;:&quot;Wrong Items&quot;,&quot;65&quot;:&quot;Wrong Items&quot;,&quot;66&quot;:&quot;Wrong Items&quot;,&quot;67&quot;:&quot;Wrong Items&quot;,&quot;68&quot;:&quot;Wrong Items&quot;,&quot;69&quot;:&quot;Wrong Items&quot;,&quot;70&quot;:&quot;Wrong Items&quot;,&quot;71&quot;:&quot;Wrong Items&quot;,&quot;72&quot;:&quot;Wrong Items&quot;,&quot;73&quot;:&quot;Wrong Items&quot;,&quot;74&quot;:&quot;Wrong Items&quot;,&quot;75&quot;:&quot;Wrong Items&quot;,&quot;76&quot;:&quot;Wrong Items&quot;,&quot;77&quot;:&quot;Wrong Items&quot;,&quot;78&quot;:&quot;Wrong Items&quot;,&quot;79&quot;:&quot;Wrong Items&quot;,&quot;80&quot;:&quot;Wrong Items&quot;,&quot;81&quot;:&quot;Wrong Items&quot;,&quot;82&quot;:&quot;Wrong Items&quot;,&quot;83&quot;:&quot;Wrong Items&quot;,&quot;84&quot;:&quot;Wrong Items&quot;,&quot;85&quot;:&quot;Wrong Items&quot;,&quot;86&quot;:&quot;Wrong Items&quot;,&quot;87&quot;:&quot;Wrong Items&quot;,&quot;88&quot;:&quot;Wrong Items&quot;,&quot;89&quot;:&quot;Wrong Items&quot;,&quot;90&quot;:&quot;Wrong Items&quot;,&quot;91&quot;:&quot;Wrong Items&quot;,&quot;92&quot;:&quot;Wrong Items&quot;,&quot;93&quot;:&quot;Wrong Items&quot;,&quot;94&quot;:&quot;Wrong Items&quot;,&quot;95&quot;:&quot;Wrong Items&quot;,&quot;96&quot;:&quot;Wrong Items&quot;,&quot;97&quot;:&quot;Wrong Items&quot;,&quot;98&quot;:&quot;Wrong Items&quot;,&quot;99&quot;:&quot;Wrong Items&quot;,&quot;100&quot;:&quot;Bad Quality&quot;,&quot;101&quot;:&quot;Bad Quality&quot;,&quot;102&quot;:&quot;Bad Quality&quot;,&quot;103&quot;:&quot;Bad Quality&quot;,&quot;104&quot;:&quot;Bad Quality&quot;,&quot;105&quot;:&quot;Bad Quality&quot;,&quot;106&quot;:&quot;Bad Quality&quot;,&quot;107&quot;:null,&quot;108&quot;:&quot;Bad Quality&quot;,&quot;109&quot;:&quot;Bad Quality&quot;,&quot;110&quot;:&quot;Bad Quality&quot;,&quot;111&quot;:&quot;Bad Quality&quot;,&quot;112&quot;:&quot;Bad Quality&quot;,&quot;113&quot;:&quot;Bad Quality&quot;,&quot;114&quot;:&quot;Bad Quality&quot;,&quot;115&quot;:&quot;Bad Quality&quot;,&quot;116&quot;:&quot;Bad Quality&quot;,&quot;117&quot;:&quot;Bad Quality&quot;,&quot;118&quot;:&quot;Bad Quality&quot;,&quot;119&quot;:&quot;Bad Quality&quot;,&quot;120&quot;:&quot;Bad Quality&quot;,&quot;121&quot;:&quot;Bad Quality&quot;,&quot;122&quot;:&quot;Bad Quality&quot;,&quot;123&quot;:&quot;Bad Quality&quot;,&quot;124&quot;:&quot;Bad Quality&quot;,&quot;125&quot;:&quot;Bad Quality&quot;,&quot;126&quot;:&quot;Bad Quality&quot;,&quot;127&quot;:&quot;Bad Quality&quot;,&quot;128&quot;:&quot;Bad Quality&quot;,&quot;129&quot;:&quot;Bad Quality&quot;,&quot;130&quot;:&quot;Bad Quality&quot;,&quot;131&quot;:&quot;Bad Quality&quot;,&quot;132&quot;:&quot;Bad Quality&quot;,&quot;133&quot;:&quot;Bad Quality&quot;,&quot;134&quot;:&quot;Bad Quality&quot;,&quot;135&quot;:&quot;Bad Quality&quot;,&quot;136&quot;:&quot;Bad Quality&quot;,&quot;137&quot;:&quot;Bad Quality&quot;,&quot;138&quot;:&quot;Others&quot;,&quot;139&quot;:&quot;Others&quot;,&quot;140&quot;:&quot;Others&quot;,&quot;141&quot;:&quot;Others&quot;,&quot;142&quot;:null,&quot;143&quot;:&quot;Bad Quality&quot;,&quot;144&quot;:&quot;Bad Quality&quot;,&quot;145&quot;:&quot;Bad Quality&quot;,&quot;146&quot;:&quot;Bad Quality&quot;,&quot;147&quot;:&quot;Bad Quality&quot;,&quot;148&quot;:&quot;Bad Quality&quot;,&quot;149&quot;:null,&quot;150&quot;:&quot;Bad Quality&quot;,&quot;151&quot;:&quot;Bad Quality&quot;,&quot;152&quot;:&quot;Bad Quality&quot;,&quot;153&quot;:&quot;Bad Quality&quot;,&quot;154&quot;:&quot;Bad Quality&quot;,&quot;155&quot;:&quot;Bad Quality&quot;,&quot;156&quot;:&quot;Bad Quality&quot;,&quot;157&quot;:&quot;Bad Quality&quot;,&quot;158&quot;:&quot;Bad Quality&quot;,&quot;159&quot;:&quot;Bad Quality&quot;,&quot;160&quot;:&quot;Bad Quality&quot;,&quot;161&quot;:&quot;Bad Quality&quot;,&quot;162&quot;:&quot;Bad Quality&quot;,&quot;163&quot;:&quot;Wrong Items&quot;,&quot;164&quot;:&quot;Wrong Items&quot;,&quot;165&quot;:&quot;Wrong Items&quot;,&quot;166&quot;:&quot;Wrong Items&quot;,&quot;167&quot;:&quot;Wrong Items&quot;,&quot;168&quot;:&quot;Wrong Items&quot;,&quot;169&quot;:&quot;Wrong Items&quot;,&quot;170&quot;:&quot;Wrong Items&quot;,&quot;171&quot;:&quot;Wrong Items&quot;,&quot;172&quot;:&quot;Wrong Items&quot;,&quot;173&quot;:&quot;Wrong Items&quot;,&quot;174&quot;:&quot;Wrong Items&quot;,&quot;175&quot;:&quot;Wrong Items&quot;,&quot;176&quot;:&quot;Wrong Items&quot;,&quot;177&quot;:&quot;Wrong Items&quot;,&quot;178&quot;:&quot;Wrong Items&quot;,&quot;179&quot;:&quot;Wrong Items&quot;,&quot;180&quot;:&quot;Wrong Items&quot;,&quot;181&quot;:&quot;Wrong Items&quot;,&quot;182&quot;:&quot;Wrong Items&quot;,&quot;183&quot;:&quot;Wrong Items&quot;,&quot;184&quot;:&quot;Wrong Items&quot;,&quot;185&quot;:&quot;Wrong Items&quot;,&quot;186&quot;:&quot;Wrong Items&quot;,&quot;187&quot;:&quot;Wrong Items&quot;,&quot;188&quot;:&quot;Wrong Items&quot;,&quot;189&quot;:&quot;Wrong Items&quot;,&quot;190&quot;:&quot;Wrong Items&quot;,&quot;191&quot;:&quot;Wrong Items&quot;,&quot;192&quot;:&quot;Wrong Items&quot;,&quot;193&quot;:&quot;Wrong Items&quot;,&quot;194&quot;:&quot;Wrong Items&quot;,&quot;195&quot;:&quot;Wrong Items&quot;,&quot;196&quot;:&quot;Wrong Items&quot;,&quot;197&quot;:&quot;Wrong Items&quot;,&quot;198&quot;:&quot;Wrong Items&quot;,&quot;199&quot;:&quot;Wrong Items&quot;,&quot;200&quot;:&quot;Wrong Items&quot;,&quot;201&quot;:&quot;Wrong Items&quot;,&quot;202&quot;:&quot;Wrong Items&quot;,&quot;203&quot;:&quot;Wrong Items&quot;,&quot;204&quot;:&quot;Wrong Items&quot;,&quot;205&quot;:&quot;Wrong Items&quot;,&quot;206&quot;:&quot;Wrong Items&quot;,&quot;207&quot;:&quot;Wrong Items&quot;,&quot;208&quot;:&quot;Wrong Items&quot;,&quot;209&quot;:&quot;Wrong Items&quot;,&quot;210&quot;:&quot;Wrong Items&quot;,&quot;211&quot;:&quot;Wrong Items&quot;,&quot;212&quot;:&quot;Wrong Items&quot;,&quot;213&quot;:&quot;Wrong Items&quot;,&quot;214&quot;:&quot;Wrong Items&quot;,&quot;215&quot;:&quot;Wrong Items&quot;,&quot;216&quot;:&quot;Wrong Items&quot;,&quot;217&quot;:&quot;Wrong Items&quot;,&quot;218&quot;:&quot;Wrong Items&quot;,&quot;219&quot;:&quot;Wrong Items&quot;,&quot;220&quot;:&quot;Wrong Items&quot;,&quot;221&quot;:&quot;Wrong Items&quot;,&quot;222&quot;:&quot;Wrong Items&quot;,&quot;223&quot;:&quot;Wrong Items&quot;,&quot;224&quot;:&quot;Wrong Items&quot;,&quot;225&quot;:&quot;Wrong Items&quot;,&quot;226&quot;:&quot;Wrong Items&quot;,&quot;227&quot;:&quot;Wrong Items&quot;,&quot;228&quot;:&quot;Wrong Items&quot;,&quot;229&quot;:&quot;Wrong Items&quot;,&quot;230&quot;:&quot;Wrong Items&quot;,&quot;231&quot;:&quot;Wrong Items&quot;,&quot;232&quot;:&quot;Wrong Items&quot;,&quot;233&quot;:&quot;Wrong Items&quot;,&quot;234&quot;:&quot;Wrong Items&quot;,&quot;235&quot;:&quot;Wrong Items&quot;,&quot;236&quot;:&quot;Wrong Items&quot;,&quot;237&quot;:&quot;Wrong Items&quot;,&quot;238&quot;:&quot;Wrong Items&quot;,&quot;239&quot;:&quot;Wrong Items&quot;,&quot;240&quot;:&quot;Wrong Items&quot;,&quot;241&quot;:&quot;Wrong Items&quot;,&quot;242&quot;:&quot;Wrong Items&quot;,&quot;243&quot;:&quot;Wrong Items&quot;,&quot;244&quot;:&quot;Wrong Items&quot;,&quot;245&quot;:&quot;Wrong Items&quot;,&quot;246&quot;:&quot;Wrong Items&quot;,&quot;247&quot;:&quot;Wrong Items&quot;,&quot;248&quot;:&quot;Wrong Items&quot;,&quot;249&quot;:&quot;Wrong Items&quot;,&quot;250&quot;:&quot;Wrong Items&quot;,&quot;251&quot;:&quot;Wrong Items&quot;,&quot;252&quot;:&quot;Wrong Items&quot;,&quot;253&quot;:&quot;Wrong Items&quot;,&quot;254&quot;:&quot;Wrong Items&quot;,&quot;255&quot;:&quot;Wrong Items&quot;,&quot;256&quot;:&quot;Wrong Items&quot;,&quot;257&quot;:&quot;Wrong Items&quot;,&quot;258&quot;:&quot;Wrong Items&quot;,&quot;259&quot;:&quot;Wrong Items&quot;,&quot;260&quot;:&quot;Wrong Items&quot;,&quot;261&quot;:&quot;Wrong Items&quot;,&quot;262&quot;:&quot;Wrong Items&quot;,&quot;263&quot;:&quot;Wrong Items&quot;,&quot;264&quot;:&quot;Wrong Items&quot;,&quot;265&quot;:&quot;Wrong Items&quot;,&quot;266&quot;:&quot;Wrong Items&quot;,&quot;267&quot;:&quot;Wrong Items&quot;,&quot;268&quot;:&quot;Wrong Items&quot;,&quot;269&quot;:&quot;Wrong Items&quot;,&quot;270&quot;:&quot;Wrong Items&quot;,&quot;271&quot;:&quot;Wrong Items&quot;,&quot;272&quot;:&quot;Wrong Items&quot;,&quot;273&quot;:&quot;Wrong Items&quot;,&quot;274&quot;:&quot;Wrong Items&quot;,&quot;275&quot;:&quot;Wrong Items&quot;,&quot;276&quot;:&quot;Wrong Items&quot;,&quot;277&quot;:&quot;Wrong Items&quot;,&quot;278&quot;:&quot;Wrong Items&quot;,&quot;279&quot;:&quot;Wrong Items&quot;,&quot;280&quot;:&quot;Wrong Items&quot;,&quot;281&quot;:&quot;Wrong Items&quot;,&quot;282&quot;:&quot;Wrong Items&quot;,&quot;283&quot;:&quot;Wrong Items&quot;,&quot;284&quot;:&quot;Wrong Items&quot;,&quot;285&quot;:&quot;Wrong Items&quot;,&quot;286&quot;:&quot;Wrong Items&quot;,&quot;287&quot;:&quot;Wrong Items&quot;,&quot;288&quot;:&quot;Wrong Items&quot;,&quot;289&quot;:&quot;Wrong Items&quot;,&quot;290&quot;:&quot;Others&quot;,&quot;291&quot;:&quot;Others&quot;,&quot;292&quot;:&quot;Others&quot;,&quot;293&quot;:&quot;Wrong Items&quot;,&quot;294&quot;:&quot;Wrong Items&quot;,&quot;295&quot;:&quot;Wrong Items&quot;}}\n",
       "</div>"
      ]
     },
     "metadata": {
      "application/vnd.databricks.v1+output": {
       "addedWidgets": {},
       "arguments": {},
       "data": "<div class=\"ansiout\">{&quot;order_id&quot;:{&quot;0&quot;:&quot;CA-2020-104689&quot;,&quot;1&quot;:&quot;CA-2020-105081&quot;,&quot;2&quot;:&quot;CA-2020-105291&quot;,&quot;3&quot;:&quot;CA-2020-105585&quot;,&quot;4&quot;:&quot;CA-2020-106950&quot;,&quot;5&quot;:&quot;CA-2020-109806&quot;,&quot;6&quot;:&quot;CA-2020-109869&quot;,&quot;7&quot;:&quot;CA-2020-111682&quot;,&quot;8&quot;:&quot;CA-2020-112123&quot;,&quot;9&quot;:&quot;CA-2020-112340&quot;,&quot;10&quot;:&quot;CA-2020-113341&quot;,&quot;11&quot;:&quot;CA-2020-114307&quot;,&quot;12&quot;:&quot;CA-2020-114727&quot;,&quot;13&quot;:&quot;CA-2020-115917&quot;,&quot;14&quot;:&quot;CA-2020-116547&quot;,&quot;15&quot;:&quot;CA-2020-116736&quot;,&quot;16&quot;:&quot;CA-2020-118311&quot;,&quot;17&quot;:&quot;CA-2020-118500&quot;,&quot;18&quot;:&quot;CA-2020-118899&quot;,&quot;19&quot;:&quot;CA-2020-120873&quot;,&quot;20&quot;:&quot;CA-2020-123526&quot;,&quot;21&quot;:&quot;CA-2020-124527&quot;,&quot;22&quot;:&quot;CA-2020-126529&quot;,&quot;23&quot;:&quot;CA-2020-126732&quot;,&quot;24&quot;:&quot;CA-2020-128671&quot;,&quot;25&quot;:&quot;CA-2020-130477&quot;,&quot;26&quot;:&quot;CA-2020-130638&quot;,&quot;27&quot;:&quot;CA-2020-130680&quot;,&quot;28&quot;:&quot;CA-2020-133319&quot;,&quot;29&quot;:&quot;CA-2020-133368&quot;,&quot;30&quot;:&quot;CA-2020-133802&quot;,&quot;31&quot;:&quot;CA-2020-134775&quot;,&quot;32&quot;:&quot;CA-2020-134803&quot;,&quot;33&quot;:&quot;CA-2020-136483&quot;,&quot;34&quot;:&quot;CA-2020-136924&quot;,&quot;35&quot;:&quot;CA-2020-138282&quot;,&quot;36&quot;:&quot;CA-2020-139269&quot;,&quot;37&quot;:&quot;CA-2020-142398&quot;,&quot;38&quot;:&quot;CA-2020-145261&quot;,&quot;39&quot;:&quot;CA-2020-145492&quot;,&quot;40&quot;:&quot;CA-2020-145583&quot;,&quot;41&quot;:&quot;CA-2020-145919&quot;,&quot;42&quot;:&quot;CA-2020-145982&quot;,&quot;43&quot;:&quot;CA-2020-147375&quot;,&quot;44&quot;:&quot;CA-2020-148796&quot;,&quot;45&quot;:&quot;CA-2020-150077&quot;,&quot;46&quot;:&quot;CA-2020-151323&quot;,&quot;47&quot;:&quot;CA-2020-151372&quot;,&quot;48&quot;:&quot;CA-2020-152814&quot;,&quot;49&quot;:&quot;CA-2020-157280&quot;,&quot;50&quot;:&quot;CA-2020-159023&quot;,&quot;51&quot;:&quot;CA-2020-159212&quot;,&quot;52&quot;:&quot;CA-2020-159345&quot;,&quot;53&quot;:&quot;CA-2020-161746&quot;,&quot;54&quot;:&quot;CA-2020-162138&quot;,&quot;55&quot;:&quot;CA-2020-162159&quot;,&quot;56&quot;:&quot;CA-2020-165330&quot;,&quot;57&quot;:&quot;CA-2020-166275&quot;,&quot;58&quot;:&quot;CA-2020-167759&quot;,&quot;59&quot;:&quot;CA-2020-168921&quot;,&quot;60&quot;:&quot;CA-2021-100111&quot;,&quot;61&quot;:&quot;CA-2021-101273&quot;,&quot;62&quot;:&quot;CA-2021-101574&quot;,&quot;63&quot;:&quot;CA-2021-101700&quot;,&quot;64&quot;:&quot;CA-2021-101805&quot;,&quot;65&quot;:&quot;CA-2021-102519&quot;,&quot;66&quot;:&quot;CA-2021-103380&quot;,&quot;67&quot;:&quot;CA-2021-107825&quot;,&quot;68&quot;:&quot;CA-2021-108294&quot;,&quot;69&quot;:&quot;CA-2021-108931&quot;,&quot;70&quot;:&quot;CA-2021-109085&quot;,&quot;71&quot;:&quot;CA-2021-111556&quot;,&quot;72&quot;:&quot;CA-2021-112725&quot;,&quot;73&quot;:&quot;CA-2021-112753&quot;,&quot;74&quot;:&quot;CA-2021-112865&quot;,&quot;75&quot;:&quot;CA-2021-113670&quot;,&quot;76&quot;:&quot;CA-2021-115427&quot;,&quot;77&quot;:&quot;CA-2021-115994&quot;,&quot;78&quot;:&quot;CA-2021-117212&quot;,&quot;79&quot;:&quot;CA-2021-117513&quot;,&quot;80&quot;:&quot;CA-2021-117926&quot;,&quot;81&quot;:&quot;CA-2021-118122&quot;,&quot;82&quot;:&quot;CA-2021-118542&quot;,&quot;83&quot;:&quot;CA-2021-119284&quot;,&quot;84&quot;:&quot;CA-2021-121258&quot;,&quot;85&quot;:&quot;CA-2021-121853&quot;,&quot;86&quot;:&quot;CA-2021-122007&quot;,&quot;87&quot;:&quot;CA-2021-122504&quot;,&quot;88&quot;:&quot;CA-2021-123085&quot;,&quot;89&quot;:&quot;CA-2021-123491&quot;,&quot;90&quot;:&quot;CA-2021-124401&quot;,&quot;91&quot;:&quot;CA-2021-127306&quot;,&quot;92&quot;:&quot;CA-2021-128965&quot;,&quot;93&quot;:&quot;CA-2021-129707&quot;,&quot;94&quot;:&quot;CA-2021-130631&quot;,&quot;95&quot;:&quot;CA-2021-131492&quot;,&quot;96&quot;:&quot;CA-2021-131618&quot;,&quot;97&quot;:&quot;CA-2021-131807&quot;,&quot;98&quot;:&quot;CA-2021-131828&quot;,&quot;99&quot;:&quot;CA-2021-132346&quot;,&quot;100&quot;:&quot;CA-2018-100762&quot;,&quot;101&quot;:&quot;CA-2018-100867&quot;,&quot;102&quot;:&quot;CA-2018-102652&quot;,&quot;103&quot;:&quot;CA-2018-103373&quot;,&quot;104&quot;:&quot;CA-2018-103744&quot;,&quot;105&quot;:&quot;CA-2018-103940&quot;,&quot;106&quot;:&quot;CA-2018-104829&quot;,&quot;107&quot;:&quot;CA-2018-105270&quot;,&quot;108&quot;:&quot;CA-2018-108609&quot;,&quot;109&quot;:&quot;CA-2018-108861&quot;,&quot;110&quot;:&quot;CA-2018-109918&quot;,&quot;111&quot;:&quot;CA-2018-110786&quot;,&quot;112&quot;:&quot;CA-2018-111871&quot;,&quot;113&quot;:&quot;CA-2018-116785&quot;,&quot;114&quot;:&quot;CA-2018-123225&quot;,&quot;115&quot;:&quot;CA-2018-123253&quot;,&quot;116&quot;:&quot;CA-2018-123498&quot;,&quot;117&quot;:&quot;CA-2018-124688&quot;,&quot;118&quot;:&quot;CA-2018-126361&quot;,&quot;119&quot;:&quot;CA-2018-126403&quot;,&quot;120&quot;:&quot;CA-2018-126522&quot;,&quot;121&quot;:&quot;CA-2018-127012&quot;,&quot;122&quot;:&quot;CA-2018-127131&quot;,&quot;123&quot;:&quot;CA-2018-133690&quot;,&quot;124&quot;:&quot;CA-2018-134726&quot;,&quot;125&quot;:&quot;CA-2018-135657&quot;,&quot;126&quot;:&quot;CA-2018-135699&quot;,&quot;127&quot;:&quot;CA-2018-140816&quot;,&quot;128&quot;:&quot;CA-2018-141726&quot;,&quot;129&quot;:&quot;CA-2018-142769&quot;,&quot;130&quot;:&quot;CA-2018-143336&quot;,&quot;131&quot;:&quot;CA-2018-143840&quot;,&quot;132&quot;:&quot;CA-2018-148614&quot;,&quot;133&quot;:&quot;CA-2018-148950&quot;,&quot;134&quot;:&quot;CA-2018-151162&quot;,&quot;135&quot;:&quot;CA-2018-152345&quot;,&quot;136&quot;:&quot;CA-2018-153150&quot;,&quot;137&quot;:&quot;CA-2018-156349&quot;,&quot;138&quot;:&quot;CA-2018-157924&quot;,&quot;139&quot;:&quot;CA-2018-159338&quot;,&quot;140&quot;:&quot;CA-2018-160766&quot;,&quot;141&quot;:&quot;CA-2018-160773&quot;,&quot;142&quot;:&quot;CA-2018-164721&quot;,&quot;143&quot;:&quot;CA-2018-164861&quot;,&quot;144&quot;:&quot;CA-2018-166744&quot;,&quot;145&quot;:&quot;CA-2018-169019&quot;,&quot;146&quot;:&quot;CA-2019-101910&quot;,&quot;147&quot;:&quot;CA-2019-103716&quot;,&quot;148&quot;:&quot;CA-2019-104129&quot;,&quot;149&quot;:&quot;CA-2019-105158&quot;,&quot;150&quot;:&quot;CA-2019-107678&quot;,&quot;151&quot;:&quot;CA-2019-109736&quot;,&quot;152&quot;:&quot;CA-2019-110814&quot;,&quot;153&quot;:&quot;CA-2019-111948&quot;,&quot;154&quot;:&quot;CA-2019-112144&quot;,&quot;155&quot;:&quot;CA-2019-113628&quot;,&quot;156&quot;:&quot;CA-2019-114048&quot;,&quot;157&quot;:&quot;CA-2019-116092&quot;,&quot;158&quot;:&quot;CA-2019-119214&quot;,&quot;159&quot;:&quot;CA-2019-119907&quot;,&quot;160&quot;:&quot;CA-2019-123568&quot;,&quot;161&quot;:&quot;CA-2019-124058&quot;,&quot;162&quot;:&quot;CA-2019-130456&quot;,&quot;163&quot;:&quot;CA-2019-130785&quot;,&quot;164&quot;:&quot;CA-2019-132374&quot;,&quot;165&quot;:&quot;CA-2019-132941&quot;,&quot;166&quot;:&quot;CA-2019-134075&quot;,&quot;167&quot;:&quot;CA-2019-134201&quot;,&quot;168&quot;:&quot;CA-2019-135580&quot;,&quot;169&quot;:&quot;CA-2019-138674&quot;,&quot;170&quot;:&quot;CA-2019-139731&quot;,&quot;171&quot;:&quot;CA-2019-140984&quot;,&quot;172&quot;:&quot;CA-2019-141593&quot;,&quot;173&quot;:&quot;CA-2019-142601&quot;,&quot;174&quot;:&quot;CA-2019-143238&quot;,&quot;175&quot;:&quot;CA-2019-143490&quot;,&quot;176&quot;:&quot;CA-2019-143602&quot;,&quot;177&quot;:&quot;CA-2019-144267&quot;,&quot;178&quot;:&quot;CA-2019-146255&quot;,&quot;179&quot;:&quot;CA-2019-146262&quot;,&quot;180&quot;:&quot;CA-2019-146486&quot;,&quot;181&quot;:&quot;CA-2019-148873&quot;,&quot;182&quot;:&quot;CA-2019-149342&quot;,&quot;183&quot;:&quot;CA-2019-149636&quot;,&quot;184&quot;:&quot;CA-2019-149650&quot;,&quot;185&quot;:&quot;CA-2019-150770&quot;,&quot;186&quot;:&quot;CA-2019-150875&quot;,&quot;187&quot;:&quot;CA-2019-151547&quot;,&quot;188&quot;:&quot;CA-2019-153220&quot;,&quot;189&quot;:&quot;CA-2019-154970&quot;,&quot;190&quot;:&quot;CA-2019-155761&quot;,&quot;191&quot;:&quot;CA-2019-156440&quot;,&quot;192&quot;:&quot;CA-2019-157770&quot;,&quot;193&quot;:&quot;CA-2019-157812&quot;,&quot;194&quot;:&quot;CA-2019-161627&quot;,&quot;195&quot;:&quot;CA-2019-162166&quot;,&quot;196&quot;:&quot;CA-2019-164882&quot;,&quot;197&quot;:&quot;CA-2019-168480&quot;,&quot;198&quot;:&quot;CA-2019-168564&quot;,&quot;199&quot;:&quot;CA-2019-169397&quot;,&quot;200&quot;:&quot;CA-2021-134194&quot;,&quot;201&quot;:&quot;CA-2021-135692&quot;,&quot;202&quot;:&quot;CA-2021-136308&quot;,&quot;203&quot;:&quot;CA-2021-136539&quot;,&quot;204&quot;:&quot;CA-2021-136651&quot;,&quot;205&quot;:&quot;CA-2021-137085&quot;,&quot;206&quot;:&quot;CA-2021-137099&quot;,&quot;207&quot;:&quot;CA-2021-137414&quot;,&quot;208&quot;:&quot;CA-2021-137428&quot;,&quot;209&quot;:&quot;CA-2021-138163&quot;,&quot;210&quot;:&quot;CA-2021-140053&quot;,&quot;211&quot;:&quot;CA-2021-140151&quot;,&quot;212&quot;:&quot;CA-2021-140186&quot;,&quot;213&quot;:&quot;CA-2021-140585&quot;,&quot;214&quot;:&quot;CA-2021-140963&quot;,&quot;215&quot;:&quot;CA-2021-141929&quot;,&quot;216&quot;:&quot;CA-2021-142328&quot;,&quot;217&quot;:&quot;CA-2021-142342&quot;,&quot;218&quot;:&quot;CA-2021-142867&quot;,&quot;219&quot;:&quot;CA-2021-142888&quot;,&quot;220&quot;:&quot;CA-2021-143084&quot;,&quot;221&quot;:&quot;CA-2021-144064&quot;,&quot;222&quot;:&quot;CA-2021-145128&quot;,&quot;223&quot;:&quot;CA-2021-145772&quot;,&quot;224&quot;:&quot;CA-2021-147452&quot;,&quot;225&quot;:&quot;CA-2021-150609&quot;,&quot;226&quot;:&quot;CA-2021-150910&quot;,&quot;227&quot;:&quot;CA-2021-152660&quot;,&quot;228&quot;:&quot;CA-2021-153822&quot;,&quot;229&quot;:&quot;CA-2021-154074&quot;,&quot;230&quot;:&quot;CA-2021-154214&quot;,&quot;231&quot;:&quot;CA-2021-154949&quot;,&quot;232&quot;:&quot;CA-2021-155712&quot;,&quot;233&quot;:&quot;CA-2021-156391&quot;,&quot;234&quot;:&quot;CA-2021-156958&quot;,&quot;235&quot;:&quot;CA-2021-157196&quot;,&quot;236&quot;:&quot;CA-2021-158729&quot;,&quot;237&quot;:&quot;CA-2021-159954&quot;,&quot;238&quot;:&quot;CA-2021-161459&quot;,&quot;239&quot;:&quot;CA-2021-161557&quot;,&quot;240&quot;:&quot;CA-2021-161956&quot;,&quot;241&quot;:&quot;CA-2021-162015&quot;,&quot;242&quot;:&quot;CA-2021-165008&quot;,&quot;243&quot;:&quot;CA-2021-165491&quot;,&quot;244&quot;:&quot;CA-2021-166093&quot;,&quot;245&quot;:&quot;CA-2021-166142&quot;,&quot;246&quot;:&quot;CA-2021-166898&quot;,&quot;247&quot;:&quot;CA-2021-167003&quot;,&quot;248&quot;:&quot;CA-2021-167395&quot;,&quot;249&quot;:&quot;CA-2021-168193&quot;,&quot;250&quot;:&quot;CA-2021-169327&quot;,&quot;251&quot;:&quot;CA-2021-169859&quot;,&quot;252&quot;:&quot;CA-2021-169894&quot;,&quot;253&quot;:&quot;US-2018-105137&quot;,&quot;254&quot;:&quot;US-2018-138758&quot;,&quot;255&quot;:&quot;US-2018-140452&quot;,&quot;256&quot;:&quot;US-2018-143287&quot;,&quot;257&quot;:&quot;US-2018-150574&quot;,&quot;258&quot;:&quot;US-2018-164406&quot;,&quot;259&quot;:&quot;US-2018-164763&quot;,&quot;260&quot;:&quot;US-2019-110569&quot;,&quot;261&quot;:&quot;US-2019-126214&quot;,&quot;262&quot;:&quot;US-2019-128090&quot;,&quot;263&quot;:&quot;US-2019-136749&quot;,&quot;264&quot;:&quot;US-2019-136987&quot;,&quot;265&quot;:&quot;US-2019-137008&quot;,&quot;266&quot;:&quot;US-2019-160857&quot;,&quot;267&quot;:&quot;US-2020-105578&quot;,&quot;268&quot;:&quot;US-2020-108455&quot;,&quot;269&quot;:&quot;US-2020-111528&quot;,&quot;270&quot;:&quot;US-2020-114230&quot;,&quot;271&quot;:&quot;US-2020-114293&quot;,&quot;272&quot;:&quot;US-2020-115952&quot;,&quot;273&quot;:&quot;US-2020-119046&quot;,&quot;274&quot;:&quot;US-2020-127425&quot;,&quot;275&quot;:&quot;US-2020-131149&quot;,&quot;276&quot;:&quot;US-2020-135720&quot;,&quot;277&quot;:&quot;US-2020-140172&quot;,&quot;278&quot;:&quot;US-2020-144057&quot;,&quot;279&quot;:&quot;US-2020-148957&quot;,&quot;280&quot;:&quot;US-2020-151827&quot;,&quot;281&quot;:&quot;US-2020-152051&quot;,&quot;282&quot;:&quot;US-2020-156986&quot;,&quot;283&quot;:&quot;US-2020-157490&quot;,&quot;284&quot;:&quot;US-2021-103247&quot;,&quot;285&quot;:&quot;US-2021-103828&quot;,&quot;286&quot;:&quot;US-2021-105046&quot;,&quot;287&quot;:&quot;US-2021-107888&quot;,&quot;288&quot;:&quot;US-2021-109253&quot;,&quot;289&quot;:&quot;US-2021-118087&quot;,&quot;290&quot;:&quot;US-2021-123834&quot;,&quot;291&quot;:&quot;US-2021-136679&quot;,&quot;292&quot;:&quot;US-2021-147886&quot;,&quot;293&quot;:&quot;US-2021-147998&quot;,&quot;294&quot;:&quot;US-2021-151127&quot;,&quot;295&quot;:&quot;US-2021-155999&quot;},&quot;return_reason&quot;:{&quot;0&quot;:&quot;Wrong Items&quot;,&quot;1&quot;:&quot;Wrong Items&quot;,&quot;2&quot;:&quot;Wrong Items&quot;,&quot;3&quot;:&quot;Wrong Items&quot;,&quot;4&quot;:&quot;Wrong Items&quot;,&quot;5&quot;:&quot;Wrong Items&quot;,&quot;6&quot;:&quot;Wrong Items&quot;,&quot;7&quot;:&quot;Wrong Items&quot;,&quot;8&quot;:&quot;Wrong Items&quot;,&quot;9&quot;:&quot;Wrong Items&quot;,&quot;10&quot;:&quot;Wrong Items&quot;,&quot;11&quot;:null,&quot;12&quot;:&quot;Wrong Items&quot;,&quot;13&quot;:&quot;Wrong Items&quot;,&quot;14&quot;:&quot;Wrong Items&quot;,&quot;15&quot;:&quot;Wrong Items&quot;,&quot;16&quot;:&quot;Wrong Items&quot;,&quot;17&quot;:&quot;Wrong Items&quot;,&quot;18&quot;:&quot;Wrong Items&quot;,&quot;19&quot;:&quot;Wrong Items&quot;,&quot;20&quot;:&quot;Wrong Items&quot;,&quot;21&quot;:&quot;Wrong Items&quot;,&quot;22&quot;:&quot;Wrong Items&quot;,&quot;23&quot;:&quot;Wrong Items&quot;,&quot;24&quot;:&quot;Wrong Items&quot;,&quot;25&quot;:&quot;Wrong Items&quot;,&quot;26&quot;:&quot;Wrong Items&quot;,&quot;27&quot;:&quot;Wrong Items&quot;,&quot;28&quot;:&quot;Wrong Items&quot;,&quot;29&quot;:null,&quot;30&quot;:&quot;Wrong Items&quot;,&quot;31&quot;:&quot;Wrong Items&quot;,&quot;32&quot;:&quot;Wrong Items&quot;,&quot;33&quot;:&quot;Wrong Items&quot;,&quot;34&quot;:&quot;Wrong Items&quot;,&quot;35&quot;:&quot;Wrong Items&quot;,&quot;36&quot;:&quot;Wrong Items&quot;,&quot;37&quot;:&quot;Wrong Items&quot;,&quot;38&quot;:&quot;Wrong Items&quot;,&quot;39&quot;:&quot;Wrong Items&quot;,&quot;40&quot;:&quot;Wrong Items&quot;,&quot;41&quot;:&quot;Wrong Items&quot;,&quot;42&quot;:&quot;Wrong Items&quot;,&quot;43&quot;:&quot;Wrong Items&quot;,&quot;44&quot;:&quot;Wrong Items&quot;,&quot;45&quot;:&quot;Wrong Items&quot;,&quot;46&quot;:&quot;Wrong Items&quot;,&quot;47&quot;:&quot;Wrong Items&quot;,&quot;48&quot;:&quot;Wrong Items&quot;,&quot;49&quot;:&quot;Wrong Items&quot;,&quot;50&quot;:&quot;Wrong Items&quot;,&quot;51&quot;:&quot;Wrong Items&quot;,&quot;52&quot;:&quot;Wrong Items&quot;,&quot;53&quot;:&quot;Wrong Items&quot;,&quot;54&quot;:&quot;Wrong Items&quot;,&quot;55&quot;:&quot;Wrong Items&quot;,&quot;56&quot;:&quot;Wrong Items&quot;,&quot;57&quot;:&quot;Wrong Items&quot;,&quot;58&quot;:&quot;Wrong Items&quot;,&quot;59&quot;:&quot;Wrong Items&quot;,&quot;60&quot;:&quot;Wrong Items&quot;,&quot;61&quot;:&quot;Wrong Items&quot;,&quot;62&quot;:&quot;Wrong Items&quot;,&quot;63&quot;:&quot;Wrong Items&quot;,&quot;64&quot;:&quot;Wrong Items&quot;,&quot;65&quot;:&quot;Wrong Items&quot;,&quot;66&quot;:&quot;Wrong Items&quot;,&quot;67&quot;:&quot;Wrong Items&quot;,&quot;68&quot;:&quot;Wrong Items&quot;,&quot;69&quot;:&quot;Wrong Items&quot;,&quot;70&quot;:&quot;Wrong Items&quot;,&quot;71&quot;:&quot;Wrong Items&quot;,&quot;72&quot;:&quot;Wrong Items&quot;,&quot;73&quot;:&quot;Wrong Items&quot;,&quot;74&quot;:&quot;Wrong Items&quot;,&quot;75&quot;:&quot;Wrong Items&quot;,&quot;76&quot;:&quot;Wrong Items&quot;,&quot;77&quot;:&quot;Wrong Items&quot;,&quot;78&quot;:&quot;Wrong Items&quot;,&quot;79&quot;:&quot;Wrong Items&quot;,&quot;80&quot;:&quot;Wrong Items&quot;,&quot;81&quot;:&quot;Wrong Items&quot;,&quot;82&quot;:&quot;Wrong Items&quot;,&quot;83&quot;:&quot;Wrong Items&quot;,&quot;84&quot;:&quot;Wrong Items&quot;,&quot;85&quot;:&quot;Wrong Items&quot;,&quot;86&quot;:&quot;Wrong Items&quot;,&quot;87&quot;:&quot;Wrong Items&quot;,&quot;88&quot;:&quot;Wrong Items&quot;,&quot;89&quot;:&quot;Wrong Items&quot;,&quot;90&quot;:&quot;Wrong Items&quot;,&quot;91&quot;:&quot;Wrong Items&quot;,&quot;92&quot;:&quot;Wrong Items&quot;,&quot;93&quot;:&quot;Wrong Items&quot;,&quot;94&quot;:&quot;Wrong Items&quot;,&quot;95&quot;:&quot;Wrong Items&quot;,&quot;96&quot;:&quot;Wrong Items&quot;,&quot;97&quot;:&quot;Wrong Items&quot;,&quot;98&quot;:&quot;Wrong Items&quot;,&quot;99&quot;:&quot;Wrong Items&quot;,&quot;100&quot;:&quot;Bad Quality&quot;,&quot;101&quot;:&quot;Bad Quality&quot;,&quot;102&quot;:&quot;Bad Quality&quot;,&quot;103&quot;:&quot;Bad Quality&quot;,&quot;104&quot;:&quot;Bad Quality&quot;,&quot;105&quot;:&quot;Bad Quality&quot;,&quot;106&quot;:&quot;Bad Quality&quot;,&quot;107&quot;:null,&quot;108&quot;:&quot;Bad Quality&quot;,&quot;109&quot;:&quot;Bad Quality&quot;,&quot;110&quot;:&quot;Bad Quality&quot;,&quot;111&quot;:&quot;Bad Quality&quot;,&quot;112&quot;:&quot;Bad Quality&quot;,&quot;113&quot;:&quot;Bad Quality&quot;,&quot;114&quot;:&quot;Bad Quality&quot;,&quot;115&quot;:&quot;Bad Quality&quot;,&quot;116&quot;:&quot;Bad Quality&quot;,&quot;117&quot;:&quot;Bad Quality&quot;,&quot;118&quot;:&quot;Bad Quality&quot;,&quot;119&quot;:&quot;Bad Quality&quot;,&quot;120&quot;:&quot;Bad Quality&quot;,&quot;121&quot;:&quot;Bad Quality&quot;,&quot;122&quot;:&quot;Bad Quality&quot;,&quot;123&quot;:&quot;Bad Quality&quot;,&quot;124&quot;:&quot;Bad Quality&quot;,&quot;125&quot;:&quot;Bad Quality&quot;,&quot;126&quot;:&quot;Bad Quality&quot;,&quot;127&quot;:&quot;Bad Quality&quot;,&quot;128&quot;:&quot;Bad Quality&quot;,&quot;129&quot;:&quot;Bad Quality&quot;,&quot;130&quot;:&quot;Bad Quality&quot;,&quot;131&quot;:&quot;Bad Quality&quot;,&quot;132&quot;:&quot;Bad Quality&quot;,&quot;133&quot;:&quot;Bad Quality&quot;,&quot;134&quot;:&quot;Bad Quality&quot;,&quot;135&quot;:&quot;Bad Quality&quot;,&quot;136&quot;:&quot;Bad Quality&quot;,&quot;137&quot;:&quot;Bad Quality&quot;,&quot;138&quot;:&quot;Others&quot;,&quot;139&quot;:&quot;Others&quot;,&quot;140&quot;:&quot;Others&quot;,&quot;141&quot;:&quot;Others&quot;,&quot;142&quot;:null,&quot;143&quot;:&quot;Bad Quality&quot;,&quot;144&quot;:&quot;Bad Quality&quot;,&quot;145&quot;:&quot;Bad Quality&quot;,&quot;146&quot;:&quot;Bad Quality&quot;,&quot;147&quot;:&quot;Bad Quality&quot;,&quot;148&quot;:&quot;Bad Quality&quot;,&quot;149&quot;:null,&quot;150&quot;:&quot;Bad Quality&quot;,&quot;151&quot;:&quot;Bad Quality&quot;,&quot;152&quot;:&quot;Bad Quality&quot;,&quot;153&quot;:&quot;Bad Quality&quot;,&quot;154&quot;:&quot;Bad Quality&quot;,&quot;155&quot;:&quot;Bad Quality&quot;,&quot;156&quot;:&quot;Bad Quality&quot;,&quot;157&quot;:&quot;Bad Quality&quot;,&quot;158&quot;:&quot;Bad Quality&quot;,&quot;159&quot;:&quot;Bad Quality&quot;,&quot;160&quot;:&quot;Bad Quality&quot;,&quot;161&quot;:&quot;Bad Quality&quot;,&quot;162&quot;:&quot;Bad Quality&quot;,&quot;163&quot;:&quot;Wrong Items&quot;,&quot;164&quot;:&quot;Wrong Items&quot;,&quot;165&quot;:&quot;Wrong Items&quot;,&quot;166&quot;:&quot;Wrong Items&quot;,&quot;167&quot;:&quot;Wrong Items&quot;,&quot;168&quot;:&quot;Wrong Items&quot;,&quot;169&quot;:&quot;Wrong Items&quot;,&quot;170&quot;:&quot;Wrong Items&quot;,&quot;171&quot;:&quot;Wrong Items&quot;,&quot;172&quot;:&quot;Wrong Items&quot;,&quot;173&quot;:&quot;Wrong Items&quot;,&quot;174&quot;:&quot;Wrong Items&quot;,&quot;175&quot;:&quot;Wrong Items&quot;,&quot;176&quot;:&quot;Wrong Items&quot;,&quot;177&quot;:&quot;Wrong Items&quot;,&quot;178&quot;:&quot;Wrong Items&quot;,&quot;179&quot;:&quot;Wrong Items&quot;,&quot;180&quot;:&quot;Wrong Items&quot;,&quot;181&quot;:&quot;Wrong Items&quot;,&quot;182&quot;:&quot;Wrong Items&quot;,&quot;183&quot;:&quot;Wrong Items&quot;,&quot;184&quot;:&quot;Wrong Items&quot;,&quot;185&quot;:&quot;Wrong Items&quot;,&quot;186&quot;:&quot;Wrong Items&quot;,&quot;187&quot;:&quot;Wrong Items&quot;,&quot;188&quot;:&quot;Wrong Items&quot;,&quot;189&quot;:&quot;Wrong Items&quot;,&quot;190&quot;:&quot;Wrong Items&quot;,&quot;191&quot;:&quot;Wrong Items&quot;,&quot;192&quot;:&quot;Wrong Items&quot;,&quot;193&quot;:&quot;Wrong Items&quot;,&quot;194&quot;:&quot;Wrong Items&quot;,&quot;195&quot;:&quot;Wrong Items&quot;,&quot;196&quot;:&quot;Wrong Items&quot;,&quot;197&quot;:&quot;Wrong Items&quot;,&quot;198&quot;:&quot;Wrong Items&quot;,&quot;199&quot;:&quot;Wrong Items&quot;,&quot;200&quot;:&quot;Wrong Items&quot;,&quot;201&quot;:&quot;Wrong Items&quot;,&quot;202&quot;:&quot;Wrong Items&quot;,&quot;203&quot;:&quot;Wrong Items&quot;,&quot;204&quot;:&quot;Wrong Items&quot;,&quot;205&quot;:&quot;Wrong Items&quot;,&quot;206&quot;:&quot;Wrong Items&quot;,&quot;207&quot;:&quot;Wrong Items&quot;,&quot;208&quot;:&quot;Wrong Items&quot;,&quot;209&quot;:&quot;Wrong Items&quot;,&quot;210&quot;:&quot;Wrong Items&quot;,&quot;211&quot;:&quot;Wrong Items&quot;,&quot;212&quot;:&quot;Wrong Items&quot;,&quot;213&quot;:&quot;Wrong Items&quot;,&quot;214&quot;:&quot;Wrong Items&quot;,&quot;215&quot;:&quot;Wrong Items&quot;,&quot;216&quot;:&quot;Wrong Items&quot;,&quot;217&quot;:&quot;Wrong Items&quot;,&quot;218&quot;:&quot;Wrong Items&quot;,&quot;219&quot;:&quot;Wrong Items&quot;,&quot;220&quot;:&quot;Wrong Items&quot;,&quot;221&quot;:&quot;Wrong Items&quot;,&quot;222&quot;:&quot;Wrong Items&quot;,&quot;223&quot;:&quot;Wrong Items&quot;,&quot;224&quot;:&quot;Wrong Items&quot;,&quot;225&quot;:&quot;Wrong Items&quot;,&quot;226&quot;:&quot;Wrong Items&quot;,&quot;227&quot;:&quot;Wrong Items&quot;,&quot;228&quot;:&quot;Wrong Items&quot;,&quot;229&quot;:&quot;Wrong Items&quot;,&quot;230&quot;:&quot;Wrong Items&quot;,&quot;231&quot;:&quot;Wrong Items&quot;,&quot;232&quot;:&quot;Wrong Items&quot;,&quot;233&quot;:&quot;Wrong Items&quot;,&quot;234&quot;:&quot;Wrong Items&quot;,&quot;235&quot;:&quot;Wrong Items&quot;,&quot;236&quot;:&quot;Wrong Items&quot;,&quot;237&quot;:&quot;Wrong Items&quot;,&quot;238&quot;:&quot;Wrong Items&quot;,&quot;239&quot;:&quot;Wrong Items&quot;,&quot;240&quot;:&quot;Wrong Items&quot;,&quot;241&quot;:&quot;Wrong Items&quot;,&quot;242&quot;:&quot;Wrong Items&quot;,&quot;243&quot;:&quot;Wrong Items&quot;,&quot;244&quot;:&quot;Wrong Items&quot;,&quot;245&quot;:&quot;Wrong Items&quot;,&quot;246&quot;:&quot;Wrong Items&quot;,&quot;247&quot;:&quot;Wrong Items&quot;,&quot;248&quot;:&quot;Wrong Items&quot;,&quot;249&quot;:&quot;Wrong Items&quot;,&quot;250&quot;:&quot;Wrong Items&quot;,&quot;251&quot;:&quot;Wrong Items&quot;,&quot;252&quot;:&quot;Wrong Items&quot;,&quot;253&quot;:&quot;Wrong Items&quot;,&quot;254&quot;:&quot;Wrong Items&quot;,&quot;255&quot;:&quot;Wrong Items&quot;,&quot;256&quot;:&quot;Wrong Items&quot;,&quot;257&quot;:&quot;Wrong Items&quot;,&quot;258&quot;:&quot;Wrong Items&quot;,&quot;259&quot;:&quot;Wrong Items&quot;,&quot;260&quot;:&quot;Wrong Items&quot;,&quot;261&quot;:&quot;Wrong Items&quot;,&quot;262&quot;:&quot;Wrong Items&quot;,&quot;263&quot;:&quot;Wrong Items&quot;,&quot;264&quot;:&quot;Wrong Items&quot;,&quot;265&quot;:&quot;Wrong Items&quot;,&quot;266&quot;:&quot;Wrong Items&quot;,&quot;267&quot;:&quot;Wrong Items&quot;,&quot;268&quot;:&quot;Wrong Items&quot;,&quot;269&quot;:&quot;Wrong Items&quot;,&quot;270&quot;:&quot;Wrong Items&quot;,&quot;271&quot;:&quot;Wrong Items&quot;,&quot;272&quot;:&quot;Wrong Items&quot;,&quot;273&quot;:&quot;Wrong Items&quot;,&quot;274&quot;:&quot;Wrong Items&quot;,&quot;275&quot;:&quot;Wrong Items&quot;,&quot;276&quot;:&quot;Wrong Items&quot;,&quot;277&quot;:&quot;Wrong Items&quot;,&quot;278&quot;:&quot;Wrong Items&quot;,&quot;279&quot;:&quot;Wrong Items&quot;,&quot;280&quot;:&quot;Wrong Items&quot;,&quot;281&quot;:&quot;Wrong Items&quot;,&quot;282&quot;:&quot;Wrong Items&quot;,&quot;283&quot;:&quot;Wrong Items&quot;,&quot;284&quot;:&quot;Wrong Items&quot;,&quot;285&quot;:&quot;Wrong Items&quot;,&quot;286&quot;:&quot;Wrong Items&quot;,&quot;287&quot;:&quot;Wrong Items&quot;,&quot;288&quot;:&quot;Wrong Items&quot;,&quot;289&quot;:&quot;Wrong Items&quot;,&quot;290&quot;:&quot;Others&quot;,&quot;291&quot;:&quot;Others&quot;,&quot;292&quot;:&quot;Others&quot;,&quot;293&quot;:&quot;Wrong Items&quot;,&quot;294&quot;:&quot;Wrong Items&quot;,&quot;295&quot;:&quot;Wrong Items&quot;}}\n</div>",
       "datasetInfos": [],
       "metadata": {},
       "removedWidgets": [],
       "type": "html"
      }
     },
     "output_type": "display_data"
    }
   ],
   "source": [
    "# reading a json file which we have written to a loation\n",
    "%fs \n",
    "head file:/databricks/driver/returns.json "
   ]
  },
  {
   "cell_type": "code",
   "execution_count": null,
   "metadata": {
    "application/vnd.databricks.v1+cell": {
     "cellMetadata": {
      "byteLimit": 2048000,
      "rowLimit": 10000
     },
     "inputWidgets": {},
     "nuid": "885cf1b3-876e-4b04-a679-6562dbec1443",
     "showTitle": false,
     "title": ""
    }
   },
   "outputs": [
    {
     "data": {
      "text/html": [
       "<div>\n",
       "<style scoped>\n",
       "    .dataframe tbody tr th:only-of-type {\n",
       "        vertical-align: middle;\n",
       "    }\n",
       "\n",
       "    .dataframe tbody tr th {\n",
       "        vertical-align: top;\n",
       "    }\n",
       "\n",
       "    .dataframe thead th {\n",
       "        text-align: right;\n",
       "    }\n",
       "</style>\n",
       "<table border=\"1\" class=\"dataframe\">\n",
       "  <thead>\n",
       "    <tr style=\"text-align: right;\">\n",
       "      <th></th>\n",
       "      <th>order_id</th>\n",
       "      <th>return_reason</th>\n",
       "    </tr>\n",
       "  </thead>\n",
       "  <tbody>\n",
       "    <tr>\n",
       "      <th>0</th>\n",
       "      <td>CA-2020-104689</td>\n",
       "      <td>Wrong Items</td>\n",
       "    </tr>\n",
       "    <tr>\n",
       "      <th>1</th>\n",
       "      <td>CA-2020-105081</td>\n",
       "      <td>Wrong Items</td>\n",
       "    </tr>\n",
       "    <tr>\n",
       "      <th>2</th>\n",
       "      <td>CA-2020-105291</td>\n",
       "      <td>Wrong Items</td>\n",
       "    </tr>\n",
       "    <tr>\n",
       "      <th>3</th>\n",
       "      <td>CA-2020-105585</td>\n",
       "      <td>Wrong Items</td>\n",
       "    </tr>\n",
       "    <tr>\n",
       "      <th>4</th>\n",
       "      <td>CA-2020-106950</td>\n",
       "      <td>Wrong Items</td>\n",
       "    </tr>\n",
       "    <tr>\n",
       "      <th>...</th>\n",
       "      <td>...</td>\n",
       "      <td>...</td>\n",
       "    </tr>\n",
       "    <tr>\n",
       "      <th>291</th>\n",
       "      <td>US-2021-136679</td>\n",
       "      <td>Others</td>\n",
       "    </tr>\n",
       "    <tr>\n",
       "      <th>292</th>\n",
       "      <td>US-2021-147886</td>\n",
       "      <td>Others</td>\n",
       "    </tr>\n",
       "    <tr>\n",
       "      <th>293</th>\n",
       "      <td>US-2021-147998</td>\n",
       "      <td>Wrong Items</td>\n",
       "    </tr>\n",
       "    <tr>\n",
       "      <th>294</th>\n",
       "      <td>US-2021-151127</td>\n",
       "      <td>Wrong Items</td>\n",
       "    </tr>\n",
       "    <tr>\n",
       "      <th>295</th>\n",
       "      <td>US-2021-155999</td>\n",
       "      <td>Wrong Items</td>\n",
       "    </tr>\n",
       "  </tbody>\n",
       "</table>\n",
       "<p>296 rows × 2 columns</p>\n",
       "</div>"
      ]
     },
     "metadata": {
      "application/vnd.databricks.v1+output": {
       "addedWidgets": {},
       "arguments": {},
       "data": "<div>\n<style scoped>\n    .dataframe tbody tr th:only-of-type {\n        vertical-align: middle;\n    }\n\n    .dataframe tbody tr th {\n        vertical-align: top;\n    }\n\n    .dataframe thead th {\n        text-align: right;\n    }\n</style>\n<table border=\"1\" class=\"dataframe\">\n  <thead>\n    <tr style=\"text-align: right;\">\n      <th></th>\n      <th>order_id</th>\n      <th>return_reason</th>\n    </tr>\n  </thead>\n  <tbody>\n    <tr>\n      <th>0</th>\n      <td>CA-2020-104689</td>\n      <td>Wrong Items</td>\n    </tr>\n    <tr>\n      <th>1</th>\n      <td>CA-2020-105081</td>\n      <td>Wrong Items</td>\n    </tr>\n    <tr>\n      <th>2</th>\n      <td>CA-2020-105291</td>\n      <td>Wrong Items</td>\n    </tr>\n    <tr>\n      <th>3</th>\n      <td>CA-2020-105585</td>\n      <td>Wrong Items</td>\n    </tr>\n    <tr>\n      <th>4</th>\n      <td>CA-2020-106950</td>\n      <td>Wrong Items</td>\n    </tr>\n    <tr>\n      <th>...</th>\n      <td>...</td>\n      <td>...</td>\n    </tr>\n    <tr>\n      <th>291</th>\n      <td>US-2021-136679</td>\n      <td>Others</td>\n    </tr>\n    <tr>\n      <th>292</th>\n      <td>US-2021-147886</td>\n      <td>Others</td>\n    </tr>\n    <tr>\n      <th>293</th>\n      <td>US-2021-147998</td>\n      <td>Wrong Items</td>\n    </tr>\n    <tr>\n      <th>294</th>\n      <td>US-2021-151127</td>\n      <td>Wrong Items</td>\n    </tr>\n    <tr>\n      <th>295</th>\n      <td>US-2021-155999</td>\n      <td>Wrong Items</td>\n    </tr>\n  </tbody>\n</table>\n<p>296 rows × 2 columns</p>\n</div>",
       "datasetInfos": [],
       "metadata": {},
       "removedWidgets": [],
       "textData": null,
       "type": "htmlSandbox"
      }
     },
     "output_type": "display_data"
    }
   ],
   "source": [
    "# reading json data\n",
    "json_df = pd.read_json('returns.json')\n",
    "json_df"
   ]
  },
  {
   "cell_type": "code",
   "execution_count": null,
   "metadata": {
    "application/vnd.databricks.v1+cell": {
     "cellMetadata": {},
     "inputWidgets": {},
     "nuid": "e9aaf41b-01b6-4b40-bac9-997a4cf99e7a",
     "showTitle": false,
     "title": ""
    }
   },
   "outputs": [],
   "source": []
  }
 ],
 "metadata": {
  "application/vnd.databricks.v1+notebook": {
   "dashboards": [],
   "environmentMetadata": null,
   "language": "python",
   "notebookMetadata": {
    "mostRecentlyExecutedCommandWithImplicitDF": {
     "commandId": 940143815941585,
     "dataframes": [
      "_sqldf"
     ]
    },
    "pythonIndentUnit": 4
   },
   "notebookName": "pandas_4",
   "widgets": {}
  },
  "language_info": {
   "name": "python"
  }
 },
 "nbformat": 4,
 "nbformat_minor": 0
}
