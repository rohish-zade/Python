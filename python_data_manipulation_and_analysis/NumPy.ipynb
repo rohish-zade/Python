{
 "cells": [
  {
   "cell_type": "markdown",
   "metadata": {
    "application/vnd.databricks.v1+cell": {
     "cellMetadata": {},
     "inputWidgets": {},
     "nuid": "6aa52923-031f-47c7-8530-d7e963cb2b40",
     "showTitle": false,
     "title": ""
    }
   },
   "source": [
    "###What is NumPy?\n",
    "\n",
    "- [NumPy](https://numpy.org/doc/stable/user/whatisnumpy.html#what-is-numpy) is the fundamental package for scientific computing in Python. \n",
    "- NumPy is a general-purpose array-processing Python library which provides handy methods/functions for working n-dimensional arrays. \n",
    "- [NumPy](https://www.geeksforgeeks.org/numpy-tutorial/) is a short form for “Numerical Python“. \n",
    "- It provides various computing tools such as comprehensive mathematical functions, and linear algebra routines."
   ]
  },
  {
   "cell_type": "markdown",
   "metadata": {
    "application/vnd.databricks.v1+cell": {
     "cellMetadata": {},
     "inputWidgets": {},
     "nuid": "019a2803-a3e5-4153-a0cb-6afb386c771e",
     "showTitle": false,
     "title": ""
    }
   },
   "source": []
  },
  {
   "cell_type": "markdown",
   "metadata": {
    "application/vnd.databricks.v1+cell": {
     "cellMetadata": {},
     "inputWidgets": {},
     "nuid": "9148a4ea-bed9-44c3-b025-cecace319961",
     "showTitle": false,
     "title": ""
    }
   },
   "source": [
    "###Why Use NumPy?\n",
    "- In Python we have lists that serve the purpose of arrays, but they are slow to process.\n",
    "- NumPy aims to provide an array object that is up to 50x faster than traditional Python lists.\n",
    "- The array object in NumPy is called ndarray, it provides a lot of supporting functions that make working with ndarray very easy.\n",
    "- Arrays are very frequently used in data science, where speed and resources are very important."
   ]
  },
  {
   "cell_type": "markdown",
   "metadata": {
    "application/vnd.databricks.v1+cell": {
     "cellMetadata": {},
     "inputWidgets": {},
     "nuid": "91f99255-79fa-42b9-954a-719a89be78e0",
     "showTitle": false,
     "title": ""
    }
   },
   "source": []
  },
  {
   "cell_type": "markdown",
   "metadata": {
    "application/vnd.databricks.v1+cell": {
     "cellMetadata": {},
     "inputWidgets": {},
     "nuid": "157ea189-ab9e-4d0d-ad06-fca906ddf1af",
     "showTitle": false,
     "title": ""
    }
   },
   "source": [
    "###Why is NumPy Faster Than Lists?\n",
    "- Memory Efficiency: Continuous memory blocks.\n",
    "- Optimized C Implementation: Low-level, fast operations.\n",
    "- Vectorized Operations: Efficient, no explicit loops needed.\n",
    "- Data Type Homogeneity: Uniform data type, less memory.\n",
    "- Broadcasting: Automatic, efficient operations across arrays."
   ]
  },
  {
   "cell_type": "markdown",
   "metadata": {
    "application/vnd.databricks.v1+cell": {
     "cellMetadata": {},
     "inputWidgets": {},
     "nuid": "279ce96f-65f3-43be-ba42-6dbdfe57e47f",
     "showTitle": false,
     "title": ""
    }
   },
   "source": []
  },
  {
   "cell_type": "markdown",
   "metadata": {
    "application/vnd.databricks.v1+cell": {
     "cellMetadata": {},
     "inputWidgets": {},
     "nuid": "ce0f3fd0-3869-4c77-9d56-3675c40febf6",
     "showTitle": false,
     "title": ""
    }
   },
   "source": [
    "###The Basics"
   ]
  },
  {
   "cell_type": "markdown",
   "metadata": {
    "application/vnd.databricks.v1+cell": {
     "cellMetadata": {},
     "inputWidgets": {},
     "nuid": "49fd9407-6d89-4bdb-bfbb-e16785ff2524",
     "showTitle": false,
     "title": ""
    }
   },
   "source": [
    "####Load in NumPy (remember to pip install numpy first)"
   ]
  },
  {
   "cell_type": "code",
   "execution_count": 0,
   "metadata": {
    "application/vnd.databricks.v1+cell": {
     "cellMetadata": {
      "byteLimit": 2048000,
      "rowLimit": 10000
     },
     "inputWidgets": {},
     "nuid": "af2f4328-c2b4-47eb-9cbc-88c765d8cd71",
     "showTitle": false,
     "title": ""
    }
   },
   "outputs": [],
   "source": [
    "import numpy as np"
   ]
  },
  {
   "cell_type": "markdown",
   "metadata": {
    "application/vnd.databricks.v1+cell": {
     "cellMetadata": {},
     "inputWidgets": {},
     "nuid": "d75f4bba-b995-4838-9d52-7ac086bf4268",
     "showTitle": false,
     "title": ""
    }
   },
   "source": [
    "####Creating Arrays\n",
    "- The array object in NumPy is called `ndarray`.\n",
    "- We can create a NumPy `ndarray` object by using the` array()` function."
   ]
  },
  {
   "cell_type": "code",
   "execution_count": 0,
   "metadata": {
    "application/vnd.databricks.v1+cell": {
     "cellMetadata": {
      "byteLimit": 2048000,
      "rowLimit": 10000
     },
     "inputWidgets": {},
     "nuid": "4275710b-cec9-400f-a3c1-3a570f454645",
     "showTitle": false,
     "title": ""
    }
   },
   "outputs": [
    {
     "output_type": "stream",
     "name": "stdout",
     "output_type": "stream",
     "text": [
      "Out[24]: array([1, 2, 3])"
     ]
    }
   ],
   "source": [
    "# creation of array using array() method\n",
    "a = [1, 2, 3]\n",
    "a_array = np.array(a)\n",
    "a_array"
   ]
  },
  {
   "cell_type": "code",
   "execution_count": 0,
   "metadata": {
    "application/vnd.databricks.v1+cell": {
     "cellMetadata": {
      "byteLimit": 2048000,
      "rowLimit": 10000
     },
     "inputWidgets": {},
     "nuid": "4a0c2efa-30c5-48b9-9135-1c0ef35041cd",
     "showTitle": false,
     "title": ""
    }
   },
   "outputs": [
    {
     "output_type": "stream",
     "name": "stdout",
     "output_type": "stream",
     "text": [
      "Out[4]: dtype('int64')"
     ]
    }
   ],
   "source": [
    "# checking the datatype of array\n",
    "a_array.dtype"
   ]
  },
  {
   "cell_type": "code",
   "execution_count": 0,
   "metadata": {
    "application/vnd.databricks.v1+cell": {
     "cellMetadata": {
      "byteLimit": 2048000,
      "rowLimit": 10000
     },
     "inputWidgets": {},
     "nuid": "7f8b720d-12af-4f0d-92cf-0549342fa5bd",
     "showTitle": false,
     "title": ""
    }
   },
   "outputs": [
    {
     "output_type": "stream",
     "name": "stdout",
     "output_type": "stream",
     "text": [
      "[1. 2. 3.]\nfloat64\n"
     ]
    }
   ],
   "source": [
    "b = [1, 2.0, 3]\n",
    "f_array = np.array(b)\n",
    "print(f_array)\n",
    "print(f_array.dtype)"
   ]
  },
  {
   "cell_type": "code",
   "execution_count": 0,
   "metadata": {
    "application/vnd.databricks.v1+cell": {
     "cellMetadata": {
      "byteLimit": 2048000,
      "rowLimit": 10000
     },
     "inputWidgets": {},
     "nuid": "eb8191d2-0ece-403b-aebd-1d627273433d",
     "showTitle": false,
     "title": ""
    }
   },
   "outputs": [
    {
     "output_type": "stream",
     "name": "stdout",
     "output_type": "stream",
     "text": [
      "[1 2 3]\nint32\n"
     ]
    }
   ],
   "source": [
    "#specifying datatype while creation\n",
    "f = [1, 2.0, 3]\n",
    "f_array = np.array(f, dtype='int32')\n",
    "print(f_array)\n",
    "print(f_array.dtype)"
   ]
  },
  {
   "cell_type": "code",
   "execution_count": 0,
   "metadata": {
    "application/vnd.databricks.v1+cell": {
     "cellMetadata": {
      "byteLimit": 2048000,
      "rowLimit": 10000
     },
     "inputWidgets": {},
     "nuid": "a809c2fb-e443-4113-aa35-ecb35bec8f1d",
     "showTitle": false,
     "title": ""
    }
   },
   "outputs": [
    {
     "output_type": "stream",
     "name": "stdout",
     "output_type": "stream",
     "text": [
      "['1' 'Roish' 'Zade']\n<U21\n"
     ]
    }
   ],
   "source": [
    "s = [1, 'Roish', \"Zade\"]\n",
    "s_array = np.array(s)\n",
    "print(s_array)\n",
    "print(s_array.dtype)"
   ]
  },
  {
   "cell_type": "code",
   "execution_count": 0,
   "metadata": {
    "application/vnd.databricks.v1+cell": {
     "cellMetadata": {
      "byteLimit": 2048000,
      "rowLimit": 10000
     },
     "inputWidgets": {},
     "nuid": "76f166bb-bf8c-4aee-9b40-afc01e437659",
     "showTitle": false,
     "title": ""
    }
   },
   "outputs": [
    {
     "output_type": "stream",
     "name": "stdout",
     "output_type": "stream",
     "text": [
      "Out[11]: 1"
     ]
    }
   ],
   "source": [
    "# Get Dimension\n",
    "a_array.ndim"
   ]
  },
  {
   "cell_type": "code",
   "execution_count": 0,
   "metadata": {
    "application/vnd.databricks.v1+cell": {
     "cellMetadata": {
      "byteLimit": 2048000,
      "rowLimit": 10000
     },
     "inputWidgets": {},
     "nuid": "17c55794-8520-4a33-a7cf-495470d7b8eb",
     "showTitle": false,
     "title": ""
    }
   },
   "outputs": [
    {
     "output_type": "stream",
     "name": "stdout",
     "output_type": "stream",
     "text": [
      "Out[14]: array([[1, 2, 3],\n       [4, 5, 6]])"
     ]
    }
   ],
   "source": [
    "# 2D array\n",
    "m = [[1,2,3],[4,5,6]]\n",
    "m_array = np.array(m)\n",
    "m_array"
   ]
  },
  {
   "cell_type": "code",
   "execution_count": 0,
   "metadata": {
    "application/vnd.databricks.v1+cell": {
     "cellMetadata": {
      "byteLimit": 2048000,
      "rowLimit": 10000
     },
     "inputWidgets": {},
     "nuid": "5710e9dc-3f1a-41e6-84af-51fa814799a1",
     "showTitle": false,
     "title": ""
    }
   },
   "outputs": [
    {
     "output_type": "stream",
     "name": "stdout",
     "output_type": "stream",
     "text": [
      "Out[15]: 2"
     ]
    }
   ],
   "source": [
    "m_array.ndim"
   ]
  },
  {
   "cell_type": "code",
   "execution_count": 0,
   "metadata": {
    "application/vnd.databricks.v1+cell": {
     "cellMetadata": {
      "byteLimit": 2048000,
      "rowLimit": 10000
     },
     "inputWidgets": {},
     "nuid": "2b948f7f-4f8a-4ac0-9481-5fef61638a9c",
     "showTitle": false,
     "title": ""
    }
   },
   "outputs": [
    {
     "output_type": "stream",
     "name": "stdout",
     "output_type": "stream",
     "text": [
      "Out[21]: (3,)"
     ]
    }
   ],
   "source": [
    "# Get Shape\n",
    "a_array.shape"
   ]
  },
  {
   "cell_type": "code",
   "execution_count": 0,
   "metadata": {
    "application/vnd.databricks.v1+cell": {
     "cellMetadata": {
      "byteLimit": 2048000,
      "rowLimit": 10000
     },
     "inputWidgets": {},
     "nuid": "a111ad87-dd73-4dfa-b797-39aa7cc87807",
     "showTitle": false,
     "title": ""
    }
   },
   "outputs": [
    {
     "output_type": "stream",
     "name": "stdout",
     "output_type": "stream",
     "text": [
      "Out[17]: (2, 3)"
     ]
    }
   ],
   "source": [
    "m_array.shape"
   ]
  },
  {
   "cell_type": "code",
   "execution_count": 0,
   "metadata": {
    "application/vnd.databricks.v1+cell": {
     "cellMetadata": {
      "byteLimit": 2048000,
      "rowLimit": 10000
     },
     "inputWidgets": {},
     "nuid": "f64ccbf9-ea3c-4d6a-9f28-0538245631d7",
     "showTitle": false,
     "title": ""
    }
   },
   "outputs": [
    {
     "output_type": "stream",
     "name": "stdout",
     "output_type": "stream",
     "text": [
      "a_array size: 3\nf_array size: 3\nm_array size: 6\n"
     ]
    }
   ],
   "source": [
    "# Get number of elements\n",
    "print(\"a_array size:\", a_array.size)\n",
    "print(\"f_array size:\", f_array.size)\n",
    "print(\"m_array size:\", m_array.size)"
   ]
  },
  {
   "cell_type": "code",
   "execution_count": 0,
   "metadata": {
    "application/vnd.databricks.v1+cell": {
     "cellMetadata": {
      "byteLimit": 2048000,
      "rowLimit": 10000
     },
     "inputWidgets": {},
     "nuid": "5bd02e11-4642-49d0-9e74-c839a46f0aab",
     "showTitle": false,
     "title": ""
    }
   },
   "outputs": [
    {
     "output_type": "stream",
     "name": "stdout",
     "output_type": "stream",
     "text": [
      "Out[28]: array([[1, 2, 3],\n       [4, 5, 6],\n       [7, 8, 9]])"
     ]
    }
   ],
   "source": [
    "a = [[1,2,3],[4,5,6],[7,8,9]]\n",
    "a_array = np.array(a)\n",
    "a_array"
   ]
  },
  {
   "cell_type": "code",
   "execution_count": 0,
   "metadata": {
    "application/vnd.databricks.v1+cell": {
     "cellMetadata": {
      "byteLimit": 2048000,
      "rowLimit": 10000
     },
     "inputWidgets": {},
     "nuid": "92f9e6b3-1909-4c87-a850-58b316a7606d",
     "showTitle": false,
     "title": ""
    }
   },
   "outputs": [
    {
     "output_type": "stream",
     "name": "stdout",
     "output_type": "stream",
     "text": [
      "a_array size: 9\n"
     ]
    }
   ],
   "source": [
    "print(\"a_array size:\", a_array.size)"
   ]
  },
  {
   "cell_type": "code",
   "execution_count": 0,
   "metadata": {
    "application/vnd.databricks.v1+cell": {
     "cellMetadata": {
      "byteLimit": 2048000,
      "rowLimit": 10000
     },
     "inputWidgets": {},
     "nuid": "7a6f21b6-3b30-465b-8346-aa9a6fb8ab5c",
     "showTitle": false,
     "title": ""
    }
   },
   "outputs": [
    {
     "output_type": "stream",
     "name": "stdout",
     "output_type": "stream",
     "text": [
      "Out[31]: array([[[1, 2],\n        [3, 4]],\n\n       [[5, 6],\n        [7, 8]]], dtype=int32)"
     ]
    }
   ],
   "source": [
    "threed_array = [[[1,2],[3,4]],[[5,6],[7,8]]]\n",
    "threed_array = np.array(threed_array,dtype='int32')\n",
    "threed_array"
   ]
  },
  {
   "cell_type": "code",
   "execution_count": 0,
   "metadata": {
    "application/vnd.databricks.v1+cell": {
     "cellMetadata": {
      "byteLimit": 2048000,
      "rowLimit": 10000
     },
     "inputWidgets": {},
     "nuid": "a0254f2f-9427-4476-aa79-0b8b68e3bc7b",
     "showTitle": false,
     "title": ""
    }
   },
   "outputs": [
    {
     "output_type": "stream",
     "name": "stdout",
     "output_type": "stream",
     "text": [
      "3\n(2, 2, 2)\n8\n"
     ]
    }
   ],
   "source": [
    "print(threed_array.ndim)\n",
    "print(threed_array.shape)\n",
    "print(threed_array.size)"
   ]
  },
  {
   "cell_type": "markdown",
   "metadata": {
    "application/vnd.databricks.v1+cell": {
     "cellMetadata": {},
     "inputWidgets": {},
     "nuid": "d879667b-62a7-4e58-a558-83be0ba5ae29",
     "showTitle": false,
     "title": ""
    }
   },
   "source": []
  },
  {
   "cell_type": "markdown",
   "metadata": {
    "application/vnd.databricks.v1+cell": {
     "cellMetadata": {},
     "inputWidgets": {},
     "nuid": "fef2e21d-1919-404c-9cf3-a482bad53ab1",
     "showTitle": false,
     "title": ""
    }
   },
   "source": [
    "### Accessing/Changing specific elements, rows, columns, etc"
   ]
  },
  {
   "cell_type": "code",
   "execution_count": 0,
   "metadata": {
    "application/vnd.databricks.v1+cell": {
     "cellMetadata": {
      "byteLimit": 2048000,
      "rowLimit": 10000
     },
     "inputWidgets": {},
     "nuid": "44d1dd67-ef54-41c9-a597-2728911272bd",
     "showTitle": false,
     "title": ""
    }
   },
   "outputs": [
    {
     "output_type": "stream",
     "name": "stdout",
     "output_type": "stream",
     "text": [
      "Out[34]: array([[1, 2, 3],\n       [4, 5, 6],\n       [7, 8, 9]])"
     ]
    }
   ],
   "source": [
    "a = [[1,2,3],[4,5,6],[7,8,9]]\n",
    "a_array = np.array(a)\n",
    "a_array"
   ]
  },
  {
   "cell_type": "code",
   "execution_count": 0,
   "metadata": {
    "application/vnd.databricks.v1+cell": {
     "cellMetadata": {
      "byteLimit": 2048000,
      "rowLimit": 10000
     },
     "inputWidgets": {},
     "nuid": "61f5e3d7-f00e-4449-a3c3-90d82bb51f34",
     "showTitle": false,
     "title": ""
    }
   },
   "outputs": [
    {
     "output_type": "stream",
     "name": "stdout",
     "output_type": "stream",
     "text": [
      "9\n9\n[7 8 9]\n[2 5 8]\n[[2 3]\n [5 6]]\n"
     ]
    }
   ],
   "source": [
    "# access elements in array a_array [r,c]\n",
    "print(a_array[2,2]) # 9\n",
    "print(a_array[2,-1]) # 9\n",
    "print(a_array[2,:]) # from last row all columns [7, 8, 9] \n",
    "print(a_array[:,1]) # from all rows second column 2, 5, 8\n",
    "print(a_array[0:2,1:3]) # In first 2 rows last 2 columns ie, 2, 3 and 5, 6"
   ]
  },
  {
   "cell_type": "code",
   "execution_count": 0,
   "metadata": {
    "application/vnd.databricks.v1+cell": {
     "cellMetadata": {
      "byteLimit": 2048000,
      "rowLimit": 10000
     },
     "inputWidgets": {},
     "nuid": "7946ebfe-c87b-485f-9102-d85ad2c44f37",
     "showTitle": false,
     "title": ""
    }
   },
   "outputs": [
    {
     "output_type": "stream",
     "name": "stdout",
     "output_type": "stream",
     "text": [
      "before changiing:  [[1 2 3]\n [4 5 6]\n [7 8 9]]\nAfter changiing:  [[ 1  2  3]\n [ 4  5  6]\n [ 7  8 11]]\n"
     ]
    }
   ],
   "source": [
    "#assign a value/ change a value\n",
    "print(\"before changiing: \", a_array)\n",
    "a_array[2,2]=11\n",
    "print(\"After changiing: \", a_array)"
   ]
  },
  {
   "cell_type": "code",
   "execution_count": 0,
   "metadata": {
    "application/vnd.databricks.v1+cell": {
     "cellMetadata": {
      "byteLimit": 2048000,
      "rowLimit": 10000
     },
     "inputWidgets": {},
     "nuid": "506b5ea9-8c92-4a7a-8096-18df4552421a",
     "showTitle": false,
     "title": ""
    }
   },
   "outputs": [
    {
     "output_type": "stream",
     "name": "stdout",
     "output_type": "stream",
     "text": [
      "before changiing:  [[ 1  2  3]\n [ 4  5  6]\n [ 7  8 11]]\nAfter changiing:  [[ 1  9 10]\n [ 4  8  6]\n [ 7  8 11]]\n"
     ]
    }
   ],
   "source": [
    "print(\"before changiing: \", a_array)\n",
    "a_array[0:2,1:3]=[[9,10],[8,6]]\n",
    "print(\"After changiing: \", a_array)"
   ]
  },
  {
   "cell_type": "code",
   "execution_count": 0,
   "metadata": {
    "application/vnd.databricks.v1+cell": {
     "cellMetadata": {
      "byteLimit": 2048000,
      "rowLimit": 10000
     },
     "inputWidgets": {},
     "nuid": "b667d8c9-0933-4a93-86dc-cb4a07b8010a",
     "showTitle": false,
     "title": ""
    }
   },
   "outputs": [
    {
     "output_type": "stream",
     "name": "stdout",
     "output_type": "stream",
     "text": [
      "(2, 2, 2)\n[[[1 2]\n  [3 4]]\n\n [[5 6]\n  [7 8]]]\n"
     ]
    }
   ],
   "source": [
    "d = [[[1,2],[3,4]],[[5,6],[7,8]]]\n",
    "d_array = np.array(d,dtype='int32')\n",
    "print(d_array.shape)\n",
    "print(d_array)"
   ]
  },
  {
   "cell_type": "code",
   "execution_count": 0,
   "metadata": {
    "application/vnd.databricks.v1+cell": {
     "cellMetadata": {
      "byteLimit": 2048000,
      "rowLimit": 10000
     },
     "inputWidgets": {},
     "nuid": "820d2f6d-5ee9-492f-ba7e-e0e803de782f",
     "showTitle": false,
     "title": ""
    }
   },
   "outputs": [
    {
     "output_type": "stream",
     "name": "stdout",
     "output_type": "stream",
     "text": [
      "1\n8\n"
     ]
    }
   ],
   "source": [
    "# accesing 3d array\n",
    "print(d_array[0, 0, 0]) # first element\n",
    "print(d_array[1, 1, 1])"
   ]
  },
  {
   "cell_type": "markdown",
   "metadata": {
    "application/vnd.databricks.v1+cell": {
     "cellMetadata": {},
     "inputWidgets": {},
     "nuid": "a84230f9-ed6d-4dc1-81d1-12e3a56632bb",
     "showTitle": false,
     "title": ""
    }
   },
   "source": []
  },
  {
   "cell_type": "markdown",
   "metadata": {
    "application/vnd.databricks.v1+cell": {
     "cellMetadata": {},
     "inputWidgets": {},
     "nuid": "516761ee-b96f-4fcc-bdb4-7a9efcb6b8fd",
     "showTitle": false,
     "title": ""
    }
   },
   "source": [
    "###Initializing Different Types of Arrays"
   ]
  },
  {
   "cell_type": "code",
   "execution_count": 0,
   "metadata": {
    "application/vnd.databricks.v1+cell": {
     "cellMetadata": {
      "byteLimit": 2048000,
      "rowLimit": 10000
     },
     "inputWidgets": {},
     "nuid": "0a62c929-f872-43a0-9683-2f845b62233a",
     "showTitle": false,
     "title": ""
    }
   },
   "outputs": [
    {
     "output_type": "stream",
     "name": "stdout",
     "output_type": "stream",
     "text": [
      "[0 0 0 0 0]\n[[0. 0. 0.]\n [0. 0. 0.]]\n"
     ]
    }
   ],
   "source": [
    "# All 0s matrix\n",
    "p_array=np.zeros(5,dtype='int64')\n",
    "print(p_array)\n",
    "q_array = np.zeros((2,3))\n",
    "print(q_array)"
   ]
  },
  {
   "cell_type": "code",
   "execution_count": 0,
   "metadata": {
    "application/vnd.databricks.v1+cell": {
     "cellMetadata": {
      "byteLimit": 2048000,
      "rowLimit": 10000
     },
     "inputWidgets": {},
     "nuid": "94b85f49-6f35-4093-ae23-a67cdfc04163",
     "showTitle": false,
     "title": ""
    }
   },
   "outputs": [
    {
     "output_type": "stream",
     "name": "stdout",
     "output_type": "stream",
     "text": [
      "[[0 0 0 0 0]\n [0 0 0 0 0]\n [0 0 0 0 0]\n [0 0 0 0 0]\n [0 0 0 0 0]]\n"
     ]
    }
   ],
   "source": [
    "r_array=np.zeros((5,5),dtype='int32')\n",
    "print(r_array)"
   ]
  },
  {
   "cell_type": "code",
   "execution_count": 0,
   "metadata": {
    "application/vnd.databricks.v1+cell": {
     "cellMetadata": {
      "byteLimit": 2048000,
      "rowLimit": 10000
     },
     "inputWidgets": {},
     "nuid": "22f082d8-7d3e-420e-ad8d-13030a00209f",
     "showTitle": false,
     "title": ""
    }
   },
   "outputs": [
    {
     "output_type": "stream",
     "name": "stdout",
     "output_type": "stream",
     "text": [
      "Out[51]: array([[[1, 1],\n        [1, 1]],\n\n       [[1, 1],\n        [1, 1]],\n\n       [[1, 1],\n        [1, 1]],\n\n       [[1, 1],\n        [1, 1]]], dtype=int32)"
     ]
    }
   ],
   "source": [
    "# All 1s matrix\n",
    "np.ones((4,2,2), dtype='int32')"
   ]
  },
  {
   "cell_type": "code",
   "execution_count": 0,
   "metadata": {
    "application/vnd.databricks.v1+cell": {
     "cellMetadata": {
      "byteLimit": 2048000,
      "rowLimit": 10000
     },
     "inputWidgets": {},
     "nuid": "f3727479-b4f0-49f5-9d14-43f28c7c8422",
     "showTitle": false,
     "title": ""
    }
   },
   "outputs": [
    {
     "output_type": "stream",
     "name": "stdout",
     "output_type": "stream",
     "text": [
      "Out[53]: array([[1, 1, 1],\n       [1, 1, 1]], dtype=int32)"
     ]
    }
   ],
   "source": [
    "np.ones((2,3),dtype='int32')"
   ]
  },
  {
   "cell_type": "code",
   "execution_count": 0,
   "metadata": {
    "application/vnd.databricks.v1+cell": {
     "cellMetadata": {
      "byteLimit": 2048000,
      "rowLimit": 10000
     },
     "inputWidgets": {},
     "nuid": "90555aa1-a165-4c72-b2c0-4d7bc9ea7297",
     "showTitle": false,
     "title": ""
    }
   },
   "outputs": [
    {
     "output_type": "stream",
     "name": "stdout",
     "output_type": "stream",
     "text": [
      "Out[54]: array([[99, 99],\n       [99, 99]])"
     ]
    }
   ],
   "source": [
    "# Any other number\n",
    "np.full((2,2), 99)"
   ]
  },
  {
   "cell_type": "code",
   "execution_count": 0,
   "metadata": {
    "application/vnd.databricks.v1+cell": {
     "cellMetadata": {
      "byteLimit": 2048000,
      "rowLimit": 10000
     },
     "inputWidgets": {},
     "nuid": "c74088c0-be70-4ac0-a357-b874fdfdc469",
     "showTitle": false,
     "title": ""
    }
   },
   "outputs": [
    {
     "output_type": "stream",
     "name": "stdout",
     "output_type": "stream",
     "text": [
      "Out[55]: array([[4, 4, 4],\n       [4, 4, 4],\n       [4, 4, 4]])"
     ]
    }
   ],
   "source": [
    "# Any other number (full_like)\n",
    "np.full_like(a, 4)"
   ]
  },
  {
   "cell_type": "code",
   "execution_count": 0,
   "metadata": {
    "application/vnd.databricks.v1+cell": {
     "cellMetadata": {
      "byteLimit": 2048000,
      "rowLimit": 10000
     },
     "inputWidgets": {},
     "nuid": "3c321a0c-354f-4be2-8327-4413bd95423e",
     "showTitle": false,
     "title": ""
    }
   },
   "outputs": [
    {
     "output_type": "stream",
     "name": "stdout",
     "output_type": "stream",
     "text": [
      "Out[56]: array([[0.48459847, 0.39195716],\n       [0.00803014, 0.87895849],\n       [0.78214446, 0.79506195],\n       [0.93180401, 0.33671455]])"
     ]
    }
   ],
   "source": [
    "# Random decimal numbers\n",
    "np.random.rand(4,2)"
   ]
  },
  {
   "cell_type": "code",
   "execution_count": 0,
   "metadata": {
    "application/vnd.databricks.v1+cell": {
     "cellMetadata": {
      "byteLimit": 2048000,
      "rowLimit": 10000
     },
     "inputWidgets": {},
     "nuid": "1c8c7894-2093-4d3c-bdb7-d76502a107ef",
     "showTitle": false,
     "title": ""
    }
   },
   "outputs": [
    {
     "output_type": "stream",
     "name": "stdout",
     "output_type": "stream",
     "text": [
      "Out[57]: array([[ 0,  7, -2],\n       [ 5,  3, -3],\n       [ 2, -1,  1]])"
     ]
    }
   ],
   "source": [
    "# Random Integer values\n",
    "np.random.randint(-4,8, size=(3,3))"
   ]
  },
  {
   "cell_type": "code",
   "execution_count": 0,
   "metadata": {
    "application/vnd.databricks.v1+cell": {
     "cellMetadata": {
      "byteLimit": 2048000,
      "rowLimit": 10000
     },
     "inputWidgets": {},
     "nuid": "bb4b3ca2-46b4-4481-9715-7203e2693a77",
     "showTitle": false,
     "title": ""
    }
   },
   "outputs": [
    {
     "output_type": "stream",
     "name": "stdout",
     "output_type": "stream",
     "text": [
      "Out[59]: array([[1., 0., 0.],\n       [0., 1., 0.],\n       [0., 0., 1.]])"
     ]
    }
   ],
   "source": [
    "# The identity matrix\n",
    "np.identity(3)"
   ]
  },
  {
   "cell_type": "code",
   "execution_count": 0,
   "metadata": {
    "application/vnd.databricks.v1+cell": {
     "cellMetadata": {
      "byteLimit": 2048000,
      "rowLimit": 10000
     },
     "inputWidgets": {},
     "nuid": "ef55fe2b-c1ec-4c6c-849c-c6b75f7e1b2a",
     "showTitle": false,
     "title": ""
    }
   },
   "outputs": [
    {
     "output_type": "stream",
     "name": "stdout",
     "output_type": "stream",
     "text": [
      "[[1 2 3]\n [1 2 3]\n [1 2 3]]\n"
     ]
    }
   ],
   "source": [
    "# Repeat an array\n",
    "arr = np.array([[1,2,3]])\n",
    "r1 = np.repeat(arr,3, axis=0)\n",
    "print(r1)"
   ]
  },
  {
   "cell_type": "code",
   "execution_count": 0,
   "metadata": {
    "application/vnd.databricks.v1+cell": {
     "cellMetadata": {
      "byteLimit": 2048000,
      "rowLimit": 10000
     },
     "inputWidgets": {},
     "nuid": "7cfde765-2d68-4a49-9241-d65d43653579",
     "showTitle": false,
     "title": ""
    }
   },
   "outputs": [],
   "source": [
    "# copy() will do shallow copy meaning only reference will be passed to a_array1\n",
    "a_array= np.identity(3,dtype='int32')\n",
    "a_array1=a_array.copy()\n",
    "a_array1[0,0]=9"
   ]
  },
  {
   "cell_type": "code",
   "execution_count": 0,
   "metadata": {
    "application/vnd.databricks.v1+cell": {
     "cellMetadata": {
      "byteLimit": 2048000,
      "rowLimit": 10000
     },
     "inputWidgets": {},
     "nuid": "58ca30d5-fcec-4f4c-bc75-ae60045b5dc3",
     "showTitle": false,
     "title": ""
    }
   },
   "outputs": [
    {
     "output_type": "stream",
     "name": "stdout",
     "output_type": "stream",
     "text": [
      "Out[62]: array([[1, 0, 0],\n       [0, 1, 0],\n       [0, 0, 1]], dtype=int32)"
     ]
    }
   ],
   "source": [
    "a_array"
   ]
  },
  {
   "cell_type": "markdown",
   "metadata": {
    "application/vnd.databricks.v1+cell": {
     "cellMetadata": {},
     "inputWidgets": {},
     "nuid": "5317d9b5-9a8e-4294-bfdd-fee05d1cba48",
     "showTitle": false,
     "title": ""
    }
   },
   "source": []
  },
  {
   "cell_type": "markdown",
   "metadata": {
    "application/vnd.databricks.v1+cell": {
     "cellMetadata": {},
     "inputWidgets": {},
     "nuid": "6e47286e-c8d7-4580-a16d-41dc484bfda1",
     "showTitle": false,
     "title": ""
    }
   },
   "source": [
    "###Mathmatics"
   ]
  },
  {
   "cell_type": "code",
   "execution_count": 0,
   "metadata": {
    "application/vnd.databricks.v1+cell": {
     "cellMetadata": {
      "byteLimit": 2048000,
      "rowLimit": 10000
     },
     "inputWidgets": {},
     "nuid": "2b543b85-41ac-47b5-a791-b5299e0bcbee",
     "showTitle": false,
     "title": ""
    }
   },
   "outputs": [
    {
     "output_type": "stream",
     "name": "stdout",
     "output_type": "stream",
     "text": [
      "[1 2 3 4]\n"
     ]
    }
   ],
   "source": [
    "a = np.array([1,2,3,4])\n",
    "print(a)"
   ]
  },
  {
   "cell_type": "code",
   "execution_count": 0,
   "metadata": {
    "application/vnd.databricks.v1+cell": {
     "cellMetadata": {
      "byteLimit": 2048000,
      "rowLimit": 10000
     },
     "inputWidgets": {},
     "nuid": "fe4c7d44-254f-4ce3-b1d6-8f9e02603c50",
     "showTitle": false,
     "title": ""
    }
   },
   "outputs": [
    {
     "output_type": "stream",
     "name": "stdout",
     "output_type": "stream",
     "text": [
      "[3 4 5 6]\n[2 4 6 8]\n"
     ]
    }
   ],
   "source": [
    "print(a + 2)\n",
    "print(a * 2)"
   ]
  },
  {
   "cell_type": "code",
   "execution_count": 0,
   "metadata": {
    "application/vnd.databricks.v1+cell": {
     "cellMetadata": {
      "byteLimit": 2048000,
      "rowLimit": 10000
     },
     "inputWidgets": {},
     "nuid": "ea4e7f71-ae5f-4f8e-b43c-d70ba5ca633f",
     "showTitle": false,
     "title": ""
    }
   },
   "outputs": [
    {
     "output_type": "stream",
     "name": "stdout",
     "output_type": "stream",
     "text": [
      "Out[65]: array([-1,  0,  1,  2])"
     ]
    }
   ],
   "source": [
    "a - 2"
   ]
  },
  {
   "cell_type": "code",
   "execution_count": 0,
   "metadata": {
    "application/vnd.databricks.v1+cell": {
     "cellMetadata": {
      "byteLimit": 2048000,
      "rowLimit": 10000
     },
     "inputWidgets": {},
     "nuid": "5c0f4486-ed86-4e22-b3fb-3650111c9429",
     "showTitle": false,
     "title": ""
    }
   },
   "outputs": [
    {
     "output_type": "stream",
     "name": "stdout",
     "output_type": "stream",
     "text": [
      "Out[66]: array([0.5, 1. , 1.5, 2. ])"
     ]
    }
   ],
   "source": [
    "a / 2"
   ]
  },
  {
   "cell_type": "code",
   "execution_count": 0,
   "metadata": {
    "application/vnd.databricks.v1+cell": {
     "cellMetadata": {
      "byteLimit": 2048000,
      "rowLimit": 10000
     },
     "inputWidgets": {},
     "nuid": "24780ab6-b2c2-4fe5-b5cf-7c3f070ac2a9",
     "showTitle": false,
     "title": ""
    }
   },
   "outputs": [],
   "source": [
    "b = np.array([1,0,1,0])"
   ]
  },
  {
   "cell_type": "code",
   "execution_count": 0,
   "metadata": {
    "application/vnd.databricks.v1+cell": {
     "cellMetadata": {
      "byteLimit": 2048000,
      "rowLimit": 10000
     },
     "inputWidgets": {},
     "nuid": "ccec873a-4420-4c80-845b-9a7ac76d48b2",
     "showTitle": false,
     "title": ""
    }
   },
   "outputs": [
    {
     "output_type": "stream",
     "name": "stdout",
     "output_type": "stream",
     "text": [
      "array a: [1 2 3 4]\narray b: [1 0 1 0]\n"
     ]
    }
   ],
   "source": [
    "print(\"array a:\", a)\n",
    "print(\"array b:\", b)"
   ]
  },
  {
   "cell_type": "code",
   "execution_count": 0,
   "metadata": {
    "application/vnd.databricks.v1+cell": {
     "cellMetadata": {
      "byteLimit": 2048000,
      "rowLimit": 10000
     },
     "inputWidgets": {},
     "nuid": "20f61fc9-1844-4da7-a6f6-e11e7beadb6d",
     "showTitle": false,
     "title": ""
    }
   },
   "outputs": [
    {
     "output_type": "stream",
     "name": "stdout",
     "output_type": "stream",
     "text": [
      "Out[69]: array([2, 2, 4, 4])"
     ]
    }
   ],
   "source": [
    "# adding 2 array's\n",
    "a + b"
   ]
  },
  {
   "cell_type": "code",
   "execution_count": 0,
   "metadata": {
    "application/vnd.databricks.v1+cell": {
     "cellMetadata": {
      "byteLimit": 2048000,
      "rowLimit": 10000
     },
     "inputWidgets": {},
     "nuid": "076e04f1-3b3c-489a-b3b2-bb8caa7f2623",
     "showTitle": false,
     "title": ""
    }
   },
   "outputs": [
    {
     "output_type": "stream",
     "name": "stdout",
     "output_type": "stream",
     "text": [
      "Out[75]: array([1, 1, 3, 1])"
     ]
    }
   ],
   "source": [
    "a ** b"
   ]
  },
  {
   "cell_type": "code",
   "execution_count": 0,
   "metadata": {
    "application/vnd.databricks.v1+cell": {
     "cellMetadata": {
      "byteLimit": 2048000,
      "rowLimit": 10000
     },
     "inputWidgets": {},
     "nuid": "1da747b0-a431-475d-8f72-3e8bfaf371a4",
     "showTitle": false,
     "title": ""
    }
   },
   "outputs": [
    {
     "output_type": "stream",
     "name": "stdout",
     "output_type": "stream",
     "text": [
      "Out[76]: array([ 0.54030231, -0.41614684, -0.9899925 , -0.65364362])"
     ]
    }
   ],
   "source": [
    "# Take the cos\n",
    "np.cos(a)"
   ]
  },
  {
   "cell_type": "code",
   "execution_count": 0,
   "metadata": {
    "application/vnd.databricks.v1+cell": {
     "cellMetadata": {},
     "inputWidgets": {},
     "nuid": "398e1219-ec08-47f3-a8e8-c5e1b07ee491",
     "showTitle": false,
     "title": ""
    }
   },
   "outputs": [],
   "source": [
    "# Take the sin\n",
    "np.sin(a)"
   ]
  },
  {
   "cell_type": "markdown",
   "metadata": {
    "application/vnd.databricks.v1+cell": {
     "cellMetadata": {},
     "inputWidgets": {},
     "nuid": "fe950fea-e290-4da9-afeb-6ac414c20e46",
     "showTitle": false,
     "title": ""
    }
   },
   "source": [
    "- In a NumPy array, axis=0 represents the rows of the array.\n",
    "- In a NumPy array, axis=1 represents the columns of the array."
   ]
  },
  {
   "cell_type": "code",
   "execution_count": 0,
   "metadata": {
    "application/vnd.databricks.v1+cell": {
     "cellMetadata": {
      "byteLimit": 2048000,
      "rowLimit": 10000
     },
     "inputWidgets": {},
     "nuid": "9f171e0b-cb0b-4264-af68-09744b89ae22",
     "showTitle": false,
     "title": ""
    }
   },
   "outputs": [
    {
     "output_type": "stream",
     "name": "stdout",
     "output_type": "stream",
     "text": [
      "Out[77]: array([[1, 2, 3],\n       [4, 5, 6],\n       [7, 8, 9]])"
     ]
    }
   ],
   "source": [
    "#statistics\n",
    "a = [[1,2,3],[4,5,6],[7,8,9]]\n",
    "a_array = np.array(a)\n",
    "a_array"
   ]
  },
  {
   "cell_type": "code",
   "execution_count": 0,
   "metadata": {
    "application/vnd.databricks.v1+cell": {
     "cellMetadata": {
      "byteLimit": 2048000,
      "rowLimit": 10000
     },
     "inputWidgets": {},
     "nuid": "0cfad1d8-cdaf-4995-85d4-d1056bd597b3",
     "showTitle": false,
     "title": ""
    }
   },
   "outputs": [
    {
     "output_type": "stream",
     "name": "stdout",
     "output_type": "stream",
     "text": [
      "Out[78]: 1"
     ]
    }
   ],
   "source": [
    "np.min(a_array)"
   ]
  },
  {
   "cell_type": "code",
   "execution_count": 0,
   "metadata": {
    "application/vnd.databricks.v1+cell": {
     "cellMetadata": {
      "byteLimit": 2048000,
      "rowLimit": 10000
     },
     "inputWidgets": {},
     "nuid": "a67fd4ab-ee0b-456e-a407-96c03f55d5d1",
     "showTitle": false,
     "title": ""
    }
   },
   "outputs": [
    {
     "output_type": "stream",
     "name": "stdout",
     "output_type": "stream",
     "text": [
      "Out[79]: array([1, 2, 3])"
     ]
    }
   ],
   "source": [
    "np.min(a_array,axis=0)"
   ]
  },
  {
   "cell_type": "code",
   "execution_count": 0,
   "metadata": {
    "application/vnd.databricks.v1+cell": {
     "cellMetadata": {
      "byteLimit": 2048000,
      "rowLimit": 10000
     },
     "inputWidgets": {},
     "nuid": "52ca657f-c5c9-4215-8d0d-48ade8813699",
     "showTitle": false,
     "title": ""
    }
   },
   "outputs": [
    {
     "output_type": "stream",
     "name": "stdout",
     "output_type": "stream",
     "text": [
      "Out[82]: array([1, 4, 7])"
     ]
    }
   ],
   "source": [
    "np.min(a_array,axis=1)"
   ]
  },
  {
   "cell_type": "code",
   "execution_count": 0,
   "metadata": {
    "application/vnd.databricks.v1+cell": {
     "cellMetadata": {
      "byteLimit": 2048000,
      "rowLimit": 10000
     },
     "inputWidgets": {},
     "nuid": "8198cc68-a8fd-4426-a03d-75110883bed4",
     "showTitle": false,
     "title": ""
    }
   },
   "outputs": [
    {
     "output_type": "stream",
     "name": "stdout",
     "output_type": "stream",
     "text": [
      "Out[83]: array([ 6, 15, 24])"
     ]
    }
   ],
   "source": [
    "np.sum(a_array,axis=1)"
   ]
  },
  {
   "cell_type": "code",
   "execution_count": 0,
   "metadata": {
    "application/vnd.databricks.v1+cell": {
     "cellMetadata": {
      "byteLimit": 2048000,
      "rowLimit": 10000
     },
     "inputWidgets": {},
     "nuid": "7742f512-ce66-464b-9666-2238ef7757ba",
     "showTitle": false,
     "title": ""
    }
   },
   "outputs": [
    {
     "output_type": "stream",
     "name": "stdout",
     "output_type": "stream",
     "text": [
      "Out[84]: array([[1, 2],\n       [3, 4],\n       [5, 6]])"
     ]
    }
   ],
   "source": [
    "#rearrgrage\n",
    "a = [[1,2,3],[4,5,6]]\n",
    "a_array = np.array(a)\n",
    "a_array.reshape((3,2))"
   ]
  },
  {
   "cell_type": "code",
   "execution_count": 0,
   "metadata": {
    "application/vnd.databricks.v1+cell": {
     "cellMetadata": {
      "byteLimit": 2048000,
      "rowLimit": 10000
     },
     "inputWidgets": {},
     "nuid": "3e91c5fd-c56a-433a-bdf7-c8506464cacc",
     "showTitle": false,
     "title": ""
    }
   },
   "outputs": [
    {
     "output_type": "stream",
     "name": "stdout",
     "output_type": "stream",
     "text": [
      "[[9 9 9]\n [9 9 9]]\n[[5 5 5]\n [5 5 5]]\n"
     ]
    }
   ],
   "source": [
    "a_array1= np.full((2,3),9,dtype='int32')\n",
    "a_array2= np.full((2,3),5,dtype='int32')\n",
    "print(a_array1)\n",
    "print(a_array2)"
   ]
  },
  {
   "cell_type": "code",
   "execution_count": 0,
   "metadata": {
    "application/vnd.databricks.v1+cell": {
     "cellMetadata": {
      "byteLimit": 2048000,
      "rowLimit": 10000
     },
     "inputWidgets": {},
     "nuid": "c4fd097b-f501-4f19-a148-49497cdac5d6",
     "showTitle": false,
     "title": ""
    }
   },
   "outputs": [
    {
     "output_type": "stream",
     "name": "stdout",
     "output_type": "stream",
     "text": [
      "Out[86]: array([[9, 9, 9],\n       [9, 9, 9],\n       [5, 5, 5],\n       [5, 5, 5]], dtype=int32)"
     ]
    }
   ],
   "source": [
    "#stacking multiple arrays\n",
    "np.vstack((a_array1,a_array2))"
   ]
  },
  {
   "cell_type": "code",
   "execution_count": 0,
   "metadata": {
    "application/vnd.databricks.v1+cell": {
     "cellMetadata": {
      "byteLimit": 2048000,
      "rowLimit": 10000
     },
     "inputWidgets": {},
     "nuid": "bd2e850c-7d87-4f63-b0df-2dfdc26572ba",
     "showTitle": false,
     "title": ""
    }
   },
   "outputs": [
    {
     "output_type": "stream",
     "name": "stdout",
     "output_type": "stream",
     "text": [
      "Out[87]: array([[9, 9, 9, 5, 5, 5],\n       [9, 9, 9, 5, 5, 5]], dtype=int32)"
     ]
    }
   ],
   "source": [
    "np.hstack((a_array1,a_array2))"
   ]
  },
  {
   "cell_type": "code",
   "execution_count": 0,
   "metadata": {
    "application/vnd.databricks.v1+cell": {
     "cellMetadata": {
      "byteLimit": 2048000,
      "rowLimit": 10000
     },
     "inputWidgets": {},
     "nuid": "b0953031-0e49-496d-9fe9-ddddc8a0a5ef",
     "showTitle": false,
     "title": ""
    }
   },
   "outputs": [],
   "source": [
    "# #create array from a file\n",
    "# f = np.genfromtxt('readnp.txt',delimiter=',',dtype='int32')\n",
    "# f"
   ]
  },
  {
   "cell_type": "code",
   "execution_count": 0,
   "metadata": {
    "application/vnd.databricks.v1+cell": {
     "cellMetadata": {
      "byteLimit": 2048000,
      "rowLimit": 10000
     },
     "inputWidgets": {},
     "nuid": "44616264-5ce3-46e8-9000-c7141bb86237",
     "showTitle": false,
     "title": ""
    }
   },
   "outputs": [],
   "source": [
    "# Vertically stacking vectors\n",
    "v1 = np.array([1,2,3,4])\n",
    "v2 = np.array([5,6,7,8])\n",
    "\n",
    "f = np.vstack([v1,v2,v1,v2])"
   ]
  },
  {
   "cell_type": "code",
   "execution_count": 0,
   "metadata": {
    "application/vnd.databricks.v1+cell": {
     "cellMetadata": {
      "byteLimit": 2048000,
      "rowLimit": 10000
     },
     "inputWidgets": {},
     "nuid": "eb571193-3805-4563-8142-a34f898ce55f",
     "showTitle": false,
     "title": ""
    }
   },
   "outputs": [
    {
     "output_type": "stream",
     "name": "stdout",
     "output_type": "stream",
     "text": [
      "Out[92]: array([[1, 2, 3, 4],\n       [5, 6, 7, 8],\n       [1, 2, 3, 4],\n       [5, 6, 7, 8]])"
     ]
    }
   ],
   "source": [
    "f"
   ]
  },
  {
   "cell_type": "code",
   "execution_count": 0,
   "metadata": {
    "application/vnd.databricks.v1+cell": {
     "cellMetadata": {
      "byteLimit": 2048000,
      "rowLimit": 10000
     },
     "inputWidgets": {},
     "nuid": "ff8bbf44-6351-4837-9fa5-bd7a819670bf",
     "showTitle": false,
     "title": ""
    }
   },
   "outputs": [
    {
     "output_type": "stream",
     "name": "stdout",
     "output_type": "stream",
     "text": [
      "Out[94]: array([[ True,  True,  True,  True],\n       [False, False, False, False],\n       [ True,  True,  True,  True],\n       [False, False, False, False]])"
     ]
    }
   ],
   "source": [
    "#advance indexing\n",
    "f<5"
   ]
  },
  {
   "cell_type": "code",
   "execution_count": 0,
   "metadata": {
    "application/vnd.databricks.v1+cell": {
     "cellMetadata": {
      "byteLimit": 2048000,
      "rowLimit": 10000
     },
     "inputWidgets": {},
     "nuid": "d72a3983-4ede-4dfa-a15c-8796a19060e9",
     "showTitle": false,
     "title": ""
    }
   },
   "outputs": [
    {
     "output_type": "stream",
     "name": "stdout",
     "output_type": "stream",
     "text": [
      "Out[95]: array([6, 7, 8, 6, 7, 8])"
     ]
    }
   ],
   "source": [
    "f[f>5]"
   ]
  },
  {
   "cell_type": "code",
   "execution_count": 0,
   "metadata": {
    "application/vnd.databricks.v1+cell": {
     "cellMetadata": {
      "byteLimit": 2048000,
      "rowLimit": 10000
     },
     "inputWidgets": {},
     "nuid": "9b89f91b-7e9a-4a80-a36f-71db2b0c4f55",
     "showTitle": false,
     "title": ""
    }
   },
   "outputs": [
    {
     "output_type": "stream",
     "name": "stdout",
     "output_type": "stream",
     "text": [
      "Out[97]: array([6, 7, 8, 6, 7, 8])"
     ]
    }
   ],
   "source": [
    "f[(f>5) & (f<10)]"
   ]
  },
  {
   "cell_type": "code",
   "execution_count": 0,
   "metadata": {
    "application/vnd.databricks.v1+cell": {
     "cellMetadata": {
      "byteLimit": 2048000,
      "rowLimit": 10000
     },
     "inputWidgets": {},
     "nuid": "237a5007-f992-4296-b639-75c0e7ec30a7",
     "showTitle": false,
     "title": ""
    }
   },
   "outputs": [
    {
     "output_type": "stream",
     "name": "stdout",
     "output_type": "stream",
     "text": [
      "Out[96]: array([1, 2, 3, 4, 5, 6, 7, 8, 1, 2, 3, 4, 5, 6, 7, 8])"
     ]
    }
   ],
   "source": [
    "f[(f>5) | (f<10)]"
   ]
  },
  {
   "cell_type": "code",
   "execution_count": 0,
   "metadata": {
    "application/vnd.databricks.v1+cell": {
     "cellMetadata": {
      "byteLimit": 2048000,
      "rowLimit": 10000
     },
     "inputWidgets": {},
     "nuid": "ca813f60-7583-4083-b6e8-505c195e4b69",
     "showTitle": false,
     "title": ""
    }
   },
   "outputs": [
    {
     "output_type": "stream",
     "name": "stdout",
     "output_type": "stream",
     "text": [
      "Out[98]: array([[ 3,  4,  5,  6],\n       [ 7,  8,  9, 10],\n       [ 3,  4,  5,  6],\n       [ 7,  8,  9, 10]])"
     ]
    }
   ],
   "source": [
    "f+2"
   ]
  }
 ],
 "metadata": {
  "application/vnd.databricks.v1+notebook": {
   "dashboards": [],
   "environmentMetadata": null,
   "language": "python",
   "notebookMetadata": {
    "pythonIndentUnit": 4
   },
   "notebookName": "NumPy",
   "widgets": {}
  }
 },
 "nbformat": 4,
 "nbformat_minor": 0
}
