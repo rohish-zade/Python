{
 "cells": [
  {
   "cell_type": "markdown",
   "metadata": {
    "application/vnd.databricks.v1+cell": {
     "cellMetadata": {
      "byteLimit": 2048000,
      "rowLimit": 10000
     },
     "inputWidgets": {},
     "nuid": "e9194ebc-f83b-49ae-b73f-6f0cd6cef5d6",
     "showTitle": false,
     "title": ""
    }
   },
   "source": [
    "##Python Lists\n",
    "- Lists are one of 4 built-in data types in Python used to store collections of data, the other 3 are Tuple, Set, and Dictionary, all with different qualities and usage.\n",
    "- Lists are used to store multiple items in a single variable.\n",
    "- In simple language, a list is a collection of things, enclosed in [ ] and separated by commas. \n",
    "- Python Lists are just like dynamically sized arrays, declared in other languages (vector in C++ and ArrayList in Java)"
   ]
  },
  {
   "cell_type": "markdown",
   "metadata": {
    "application/vnd.databricks.v1+cell": {
     "cellMetadata": {
      "byteLimit": 2048000,
      "rowLimit": 10000
     },
     "inputWidgets": {},
     "nuid": "2ab3a1bf-ffce-477d-8dd9-d8e07b2b830e",
     "showTitle": false,
     "title": ""
    }
   },
   "source": [
    "- Lists are the simplest containers that are an integral part of the Python language. \n",
    "- Lists **need not be homogeneous always** which makes it the most powerful tool in Python. \n",
    "- A single list may contain DataTypes like **Integers**, **Strings**, as well as **Objects**. \n",
    "- Lists are **mutable**, and hence, they can be altered even after their creation.\n",
    "- List items are **ordered**, **changeable**, and **allow duplicate values**."
   ]
  },
  {
   "cell_type": "markdown",
   "metadata": {
    "application/vnd.databricks.v1+cell": {
     "cellMetadata": {
      "byteLimit": 2048000,
      "rowLimit": 10000
     },
     "inputWidgets": {},
     "nuid": "9e9a3e69-b535-4c25-acca-18ff1c07a8e2",
     "showTitle": false,
     "title": ""
    }
   },
   "source": [
    "###Creating a list\n",
    "Lists are created using square brackets:\n"
   ]
  },
  {
   "cell_type": "code",
   "execution_count": 0,
   "metadata": {
    "application/vnd.databricks.v1+cell": {
     "cellMetadata": {
      "byteLimit": 2048000,
      "rowLimit": 10000
     },
     "inputWidgets": {},
     "nuid": "722791f2-f35e-4e02-9386-bb398ad65ebf",
     "showTitle": false,
     "title": ""
    }
   },
   "outputs": [
    {
     "name": "stdout",
     "output_type": "stream",
     "text": [
      "['MI', 'CSK', 'RCB', 'KKR', 'LSG', 'RR', 'DC', 'PK', 'GT', 'SH']\n"
     ]
    }
   ],
   "source": [
    "ipl_list = [\"MI\", \"CSK\", \"RCB\", \"KKR\", \"LSG\", \"RR\", \"DC\", \"PK\", \"GT\", \"SH\"]\n",
    "print(ipl_list)"
   ]
  },
  {
   "cell_type": "code",
   "execution_count": 0,
   "metadata": {
    "application/vnd.databricks.v1+cell": {
     "cellMetadata": {
      "byteLimit": 2048000,
      "rowLimit": 10000
     },
     "inputWidgets": {},
     "nuid": "4e4c31d1-737d-4bf1-b516-5c7511735f90",
     "showTitle": false,
     "title": ""
    }
   },
   "outputs": [
    {
     "name": "stdout",
     "output_type": "stream",
     "text": [
      "['apple', 'banana', 'cherry', 'apple', 'cherry']\n"
     ]
    }
   ],
   "source": [
    "# Lists allow duplicate values:\n",
    "\n",
    "thislist = [\"apple\", \"banana\", \"cherry\", \"apple\", \"cherry\"]\n",
    "print(thislist)"
   ]
  },
  {
   "cell_type": "code",
   "execution_count": 0,
   "metadata": {
    "application/vnd.databricks.v1+cell": {
     "cellMetadata": {
      "byteLimit": 2048000,
      "rowLimit": 10000
     },
     "inputWidgets": {},
     "nuid": "6d670550-51ce-40a9-9c5a-4a159d263edd",
     "showTitle": false,
     "title": ""
    }
   },
   "outputs": [
    {
     "name": "stdout",
     "output_type": "stream",
     "text": [
      "10\n",
      "5\n"
     ]
    }
   ],
   "source": [
    "# List Length\n",
    "print(len(ipl_list))\n",
    "print(len(thislist))"
   ]
  },
  {
   "cell_type": "code",
   "execution_count": 0,
   "metadata": {
    "application/vnd.databricks.v1+cell": {
     "cellMetadata": {
      "byteLimit": 2048000,
      "rowLimit": 10000
     },
     "inputWidgets": {},
     "nuid": "db65bbc6-9541-4f10-ab03-6f6816b0b4fe",
     "showTitle": false,
     "title": ""
    }
   },
   "outputs": [
    {
     "name": "stdout",
     "output_type": "stream",
     "text": [
      "['apple', 'banana', 'cherry']\n",
      "[1, 5, 7, 9, 3]\n",
      "[True, False, False]\n"
     ]
    }
   ],
   "source": [
    "# List items can be of any data type:\n",
    "list1 = [\"apple\", \"banana\", \"cherry\"]\n",
    "list2 = [1, 5, 7, 9, 3]\n",
    "list3 = [True, False, False]\n",
    "\n",
    "print(list1)\n",
    "print(list2)\n",
    "print(list3)"
   ]
  },
  {
   "cell_type": "code",
   "execution_count": 0,
   "metadata": {
    "application/vnd.databricks.v1+cell": {
     "cellMetadata": {
      "byteLimit": 2048000,
      "rowLimit": 10000
     },
     "inputWidgets": {},
     "nuid": "3ea47450-10ca-41cc-9ddb-b41efc14c71b",
     "showTitle": false,
     "title": ""
    }
   },
   "outputs": [
    {
     "name": "stdout",
     "output_type": "stream",
     "text": [
      "['abc', 34, True, 40, 'male']\n"
     ]
    }
   ],
   "source": [
    "# A list with strings, integers and boolean values:\n",
    "list5 = [\"abc\", 34, True, 40, \"male\"]\n",
    "print(list5)"
   ]
  },
  {
   "cell_type": "code",
   "execution_count": 0,
   "metadata": {
    "application/vnd.databricks.v1+cell": {
     "cellMetadata": {
      "byteLimit": 2048000,
      "rowLimit": 10000
     },
     "inputWidgets": {},
     "nuid": "88f3d078-b069-450b-a23b-a690bac60edb",
     "showTitle": false,
     "title": ""
    }
   },
   "outputs": [
    {
     "name": "stdout",
     "output_type": "stream",
     "text": [
      "['MI', 'CSK', 'RCB', 'KKR', 'LSG', 'RR', 'DC', 'PK', 'GT', 'SH']\n"
     ]
    }
   ],
   "source": [
    "# type()\n",
    "# From Python's perspective, lists are defined as objects with the data type 'list':\n",
    "# <class 'list'>\n",
    "\n",
    "print(ipl_list)"
   ]
  },
  {
   "cell_type": "code",
   "execution_count": 0,
   "metadata": {
    "application/vnd.databricks.v1+cell": {
     "cellMetadata": {
      "byteLimit": 2048000,
      "rowLimit": 10000
     },
     "inputWidgets": {},
     "nuid": "e276dc2f-2b51-4087-83f2-47f4c0c09ba0",
     "showTitle": false,
     "title": ""
    }
   },
   "outputs": [
    {
     "name": "stdout",
     "output_type": "stream",
     "text": [
      "['CSK', 'MI', 'KKR', 'LSG', '1']\n"
     ]
    }
   ],
   "source": [
    "# method 2 to create list\n",
    "ipl_string = \"CSK MI KKR LSG 1\"\n",
    "ipl_list= ipl_string.split(\" \")\n",
    "\n",
    "print(ipl_list)"
   ]
  },
  {
   "cell_type": "markdown",
   "metadata": {
    "application/vnd.databricks.v1+cell": {
     "cellMetadata": {
      "byteLimit": 2048000,
      "rowLimit": 10000
     },
     "inputWidgets": {},
     "nuid": "74a14f65-6d7c-4969-94ee-b83d998c4e7b",
     "showTitle": false,
     "title": ""
    }
   },
   "source": [
    "#####The list() Constructor\n",
    "It is also possible to use the list() constructor when creating a new list."
   ]
  },
  {
   "cell_type": "code",
   "execution_count": 0,
   "metadata": {
    "application/vnd.databricks.v1+cell": {
     "cellMetadata": {
      "byteLimit": 2048000,
      "rowLimit": 10000
     },
     "inputWidgets": {},
     "nuid": "3a8fc87a-e989-459c-8041-6e6a9b27e4de",
     "showTitle": false,
     "title": ""
    }
   },
   "outputs": [
    {
     "name": "stdout",
     "output_type": "stream",
     "text": [
      "['apple', 'banana', 'cherry']\n",
      "<class 'list'>\n"
     ]
    }
   ],
   "source": [
    "# Using the list() constructor to make a List:\n",
    "\n",
    "fruits = list((\"apple\", \"banana\", \"cherry\")) # note the double round-brackets\n",
    "print(fruits)\n",
    "print(type(fruits))"
   ]
  },
  {
   "cell_type": "markdown",
   "metadata": {
    "application/vnd.databricks.v1+cell": {
     "cellMetadata": {
      "byteLimit": 2048000,
      "rowLimit": 10000
     },
     "inputWidgets": {},
     "nuid": "6c6343f9-4f09-403e-894c-ac770af20b6b",
     "showTitle": false,
     "title": ""
    }
   },
   "source": [
    "###Access List Items\n",
    "List items are indexed and you can access them by referring to the index number:\n",
    "\n",
    "**Note:** The first item has index 0."
   ]
  },
  {
   "cell_type": "code",
   "execution_count": 0,
   "metadata": {
    "application/vnd.databricks.v1+cell": {
     "cellMetadata": {
      "byteLimit": 2048000,
      "rowLimit": 10000
     },
     "inputWidgets": {},
     "nuid": "4bd7d203-c7ee-4b37-abda-ef8eebbd872c",
     "showTitle": false,
     "title": ""
    }
   },
   "outputs": [
    {
     "name": "stdout",
     "output_type": "stream",
     "text": [
      "CSK\n"
     ]
    }
   ],
   "source": [
    "ipl_list = [\"MI\", \"CSK\", \"RCB\", \"KKR\", \"LSG\", \"RR\", \"DC\", \"PK\", \"GT\", \"SH\"]\n",
    "\n",
    "# Print the second item of the list:\n",
    "print(ipl_list[1])"
   ]
  },
  {
   "cell_type": "code",
   "execution_count": 0,
   "metadata": {
    "application/vnd.databricks.v1+cell": {
     "cellMetadata": {
      "byteLimit": 2048000,
      "rowLimit": 10000
     },
     "inputWidgets": {},
     "nuid": "659d49fc-5ea9-4dbc-8f95-dbe4982d6a60",
     "showTitle": false,
     "title": ""
    }
   },
   "outputs": [
    {
     "name": "stdout",
     "output_type": "stream",
     "text": [
      "cherry\n"
     ]
    }
   ],
   "source": [
    "# Negative indexing means start from the end\n",
    "# -1 refers to the last item, -2 refers to the second last item etc.\n",
    "thislist = [\"apple\", \"banana\", \"cherry\"]\n",
    "print(thislist[-1])"
   ]
  },
  {
   "cell_type": "markdown",
   "metadata": {
    "application/vnd.databricks.v1+cell": {
     "cellMetadata": {
      "byteLimit": 2048000,
      "rowLimit": 10000
     },
     "inputWidgets": {},
     "nuid": "dd507b86-9ce0-4dab-b425-61e6d60c8819",
     "showTitle": false,
     "title": ""
    }
   },
   "source": [
    "##### Range of Indexes\n",
    "- You can specify a range of indexes by specifying where to start and where to end the range.\n",
    "- When specifying a range, the return value will be a new list with the specified items."
   ]
  },
  {
   "cell_type": "code",
   "execution_count": 0,
   "metadata": {
    "application/vnd.databricks.v1+cell": {
     "cellMetadata": {
      "byteLimit": 2048000,
      "rowLimit": 10000
     },
     "inputWidgets": {},
     "nuid": "5797dc78-1d47-4092-9e59-f7549a6c52a3",
     "showTitle": false,
     "title": ""
    }
   },
   "outputs": [
    {
     "name": "stdout",
     "output_type": "stream",
     "text": [
      "['RCB', 'KKR', 'LSG']\n",
      "['MI', 'CSK', 'RCB', 'KKR', 'LSG']\n",
      "['KKR', 'LSG', 'RR', 'DC', 'PK', 'GT', 'SH']\n"
     ]
    }
   ],
   "source": [
    "# Return the third, fourth, and fifth item:\n",
    "ipl_list = [\"MI\", \"CSK\", \"RCB\", \"KKR\", \"LSG\", \"RR\", \"DC\", \"PK\", \"GT\", \"SH\"]\n",
    "print(ipl_list[2:5])\n",
    "\n",
    "# By leaving out the start value, the range will start at the first item:\n",
    "print(ipl_list[:5])\n",
    "\n",
    "# By leaving out the end value, the range will go on to the end of the list:\n",
    "print(ipl_list[3:])"
   ]
  },
  {
   "cell_type": "markdown",
   "metadata": {
    "application/vnd.databricks.v1+cell": {
     "cellMetadata": {
      "byteLimit": 2048000,
      "rowLimit": 10000
     },
     "inputWidgets": {},
     "nuid": "9e047797-49ad-49bb-bb97-4d0888b54ea7",
     "showTitle": false,
     "title": ""
    }
   },
   "source": [
    "###Change List Items\n",
    "To change the value of a specific item, refer to the index number:"
   ]
  },
  {
   "cell_type": "code",
   "execution_count": 0,
   "metadata": {
    "application/vnd.databricks.v1+cell": {
     "cellMetadata": {
      "byteLimit": 2048000,
      "rowLimit": 10000
     },
     "inputWidgets": {},
     "nuid": "6f19a23c-da2c-45d4-9502-8759e128b24d",
     "showTitle": false,
     "title": ""
    }
   },
   "outputs": [
    {
     "name": "stdout",
     "output_type": "stream",
     "text": [
      "['MI', 'CSK', 'RCB', 'KKR', 'LSG', 'RR', 'DC', 'PK', 'GT', 'SH']\n",
      "['MI', 'Pune', 'RCB', 'KKR', 'LSG', 'RR', 'DC', 'PK', 'GT', 'SH']\n"
     ]
    }
   ],
   "source": [
    "# Change the second item:\n",
    "ipl_list = [\"MI\", \"CSK\", \"RCB\", \"KKR\", \"LSG\", \"RR\", \"DC\", \"PK\", \"GT\", \"SH\"]\n",
    "print(ipl_list)\n",
    "ipl_list[1] = \"Pune\"\n",
    "print(ipl_list)"
   ]
  },
  {
   "cell_type": "markdown",
   "metadata": {
    "application/vnd.databricks.v1+cell": {
     "cellMetadata": {
      "byteLimit": 2048000,
      "rowLimit": 10000
     },
     "inputWidgets": {},
     "nuid": "c92790ca-091c-4f3d-9256-27389b0829da",
     "showTitle": false,
     "title": ""
    }
   },
   "source": [
    "#####Change a Range of Item Values\n",
    "\n",
    "To change the value of items within a specific range, define a list with the new values, and refer to the range of index numbers where you want to insert the new values:"
   ]
  },
  {
   "cell_type": "code",
   "execution_count": 0,
   "metadata": {
    "application/vnd.databricks.v1+cell": {
     "cellMetadata": {
      "byteLimit": 2048000,
      "rowLimit": 10000
     },
     "inputWidgets": {},
     "nuid": "f1098df8-fe22-48e0-81dd-71fde58fa1ef",
     "showTitle": false,
     "title": ""
    }
   },
   "outputs": [
    {
     "name": "stdout",
     "output_type": "stream",
     "text": [
      "['apple', 'banana', 'cherry', 'orange', 'kiwi', 'mango']\n",
      "['apple', 'blackcurrant', 'watermelon', 'orange', 'kiwi', 'mango']\n"
     ]
    }
   ],
   "source": [
    "# Change the values \"banana\" and \"cherry\" with the values \"blackcurrant\" and \"watermelon\":\n",
    "thislist = [\"apple\", \"banana\", \"cherry\", \"orange\", \"kiwi\", \"mango\"]\n",
    "print(thislist)\n",
    "\n",
    "thislist[1:3] = [\"blackcurrant\", \"watermelon\"]\n",
    "print(thislist)"
   ]
  },
  {
   "cell_type": "code",
   "execution_count": 0,
   "metadata": {
    "application/vnd.databricks.v1+cell": {
     "cellMetadata": {
      "byteLimit": 2048000,
      "rowLimit": 10000
     },
     "inputWidgets": {},
     "nuid": "87bf5fc9-d456-4223-9607-5061bc044f85",
     "showTitle": false,
     "title": ""
    }
   },
   "outputs": [
    {
     "name": "stdout",
     "output_type": "stream",
     "text": [
      "['apple', 'banana', 'cherry']\n",
      "['apple', 'blackcurrant', 'watermelon', 'cherry']\n"
     ]
    }
   ],
   "source": [
    "# Change the second value by replacing it with two new values:\n",
    "thislist = [\"apple\", \"banana\", \"cherry\"]\n",
    "print(thislist)\n",
    "\n",
    "thislist[1:2] = [\"blackcurrant\", \"watermelon\"]\n",
    "print(thislist)"
   ]
  },
  {
   "cell_type": "markdown",
   "metadata": {
    "application/vnd.databricks.v1+cell": {
     "cellMetadata": {
      "byteLimit": 2048000,
      "rowLimit": 10000
     },
     "inputWidgets": {},
     "nuid": "7182db88-03ca-4d46-870b-5e8249fe347d",
     "showTitle": false,
     "title": ""
    }
   },
   "source": [
    "###Adding Elements to a List"
   ]
  },
  {
   "cell_type": "markdown",
   "metadata": {
    "application/vnd.databricks.v1+cell": {
     "cellMetadata": {
      "byteLimit": 2048000,
      "rowLimit": 10000
     },
     "inputWidgets": {},
     "nuid": "cc49af27-6824-4c76-945c-884d0fba59ce",
     "showTitle": false,
     "title": ""
    }
   },
   "source": [
    "#####Using append() method\n",
    "- Elements can be added to the List by using the built-in append() function. \n",
    "- Only one element at a time can be added to the list by using the append() method, for the addition of multiple elements with the append() method, loops are used.\n"
   ]
  },
  {
   "cell_type": "code",
   "execution_count": 0,
   "metadata": {
    "application/vnd.databricks.v1+cell": {
     "cellMetadata": {
      "byteLimit": 2048000,
      "rowLimit": 10000
     },
     "inputWidgets": {},
     "nuid": "5bd1f71a-b918-4e6c-b4a1-547c1b394688",
     "showTitle": false,
     "title": ""
    }
   },
   "outputs": [
    {
     "name": "stdout",
     "output_type": "stream",
     "text": [
      "original list: ['Rohish', 'Rajesh', 'Chetan', 'Veeru', 'Smit']\n",
      "List after adding elements: ['Rohish', 'Rajesh', 'Chetan', 'Veeru', 'Smit', 'Pushpak', 'Vinit']\n"
     ]
    }
   ],
   "source": [
    "names = [\"Rohish\", \"Rajesh\", \"Chetan\", \"Veeru\", \"Smit\"] \n",
    "print(\"original list:\", names)\n",
    "\n",
    "# adding elements in the list using append()\n",
    "names.append(\"Pushpak\")\n",
    "names.append(\"Vinit\")\n",
    "print(\"List after adding elements:\",names)"
   ]
  },
  {
   "cell_type": "markdown",
   "metadata": {
    "application/vnd.databricks.v1+cell": {
     "cellMetadata": {
      "byteLimit": 2048000,
      "rowLimit": 10000
     },
     "inputWidgets": {},
     "nuid": "46cff08e-385a-4ade-aeab-149dc7338cec",
     "showTitle": false,
     "title": ""
    }
   },
   "source": [
    "#####Using insert() method\n",
    "- append() method only works for the addition of elements at the end of the List, for the addition of elements at the desired position, insert() method is used. \n",
    "- Unlike append() which takes only one argument, the insert() method requires two arguments(position, value)."
   ]
  },
  {
   "cell_type": "code",
   "execution_count": 0,
   "metadata": {
    "application/vnd.databricks.v1+cell": {
     "cellMetadata": {
      "byteLimit": 2048000,
      "rowLimit": 10000
     },
     "inputWidgets": {},
     "nuid": "b5f9a362-34a7-4421-960d-64cc4457ae2e",
     "showTitle": false,
     "title": ""
    }
   },
   "outputs": [
    {
     "name": "stdout",
     "output_type": "stream",
     "text": [
      "Initial List: \n",
      "[1, 2, 'Shankar', 'Zade', 3, 4]\n",
      "\n",
      "List after performing Insert Operation: \n",
      "[0, 1, 2, 'Roishh', 'Shankar', 'Zade', 3, 4]\n"
     ]
    }
   ],
   "source": [
    "List = [1,2,\"Shankar\", \"Zade\", 3,4]\n",
    "print(\"Initial List: \")\n",
    "print(List)\n",
    "\n",
    "# Addition of Element at specific Position using Insert Method)\n",
    "List.insert(0, 0)\n",
    "List.insert(3, 'Roishh')\n",
    "print(\"\\nList after performing Insert Operation: \")\n",
    "print(List)\n"
   ]
  },
  {
   "cell_type": "markdown",
   "metadata": {
    "application/vnd.databricks.v1+cell": {
     "cellMetadata": {
      "byteLimit": 2048000,
      "rowLimit": 10000
     },
     "inputWidgets": {},
     "nuid": "9bf770db-5ab0-47c7-a066-3cef2dff6932",
     "showTitle": false,
     "title": ""
    }
   },
   "source": [
    "#####Using extend() method\n",
    "- This method is used to add multiple elements at the same time at the end of the list.\n",
    "- To append elements from another list to the current list, use the extend() method."
   ]
  },
  {
   "cell_type": "code",
   "execution_count": 0,
   "metadata": {
    "application/vnd.databricks.v1+cell": {
     "cellMetadata": {
      "byteLimit": 2048000,
      "rowLimit": 10000
     },
     "inputWidgets": {},
     "nuid": "39428b84-db0a-41f6-920e-4e721eddab85",
     "showTitle": false,
     "title": ""
    }
   },
   "outputs": [
    {
     "name": "stdout",
     "output_type": "stream",
     "text": [
      "Initial List: \n",
      "[1, 2, 3, 4]\n",
      "\n",
      "List after performing Extend Operation: \n",
      "[1, 2, 3, 4, 'Rohish', 'Zade']\n"
     ]
    }
   ],
   "source": [
    "nums = [1, 2, 3, 4]\n",
    "print(\"Initial List: \")\n",
    "print(nums)\n",
    "\n",
    "# Addition of multiple elements to the List at the end (using Extend Method)\n",
    "nums.extend([\"Rohish\", \"Zade\"])\n",
    "print(\"\\nList after performing Extend Operation: \")\n",
    "print(nums)"
   ]
  },
  {
   "cell_type": "code",
   "execution_count": 0,
   "metadata": {
    "application/vnd.databricks.v1+cell": {
     "cellMetadata": {
      "byteLimit": 2048000,
      "rowLimit": 10000
     },
     "inputWidgets": {},
     "nuid": "cfc33614-5289-4197-844c-85a50c3b1c1e",
     "showTitle": false,
     "title": ""
    }
   },
   "outputs": [
    {
     "name": "stdout",
     "output_type": "stream",
     "text": [
      "['apple', 'banana', 'cherry', 'Mango', 'Papaya']\n"
     ]
    }
   ],
   "source": [
    "# Add the elements of one list to other list:\n",
    "\n",
    "fruitslsit = [\"apple\", \"banana\", \"cherry\"]\n",
    "tropical = [\"Mango\", \"Papaya\"]\n",
    "fruitslsit.extend(tropical)\n",
    "print(fruitslsit)"
   ]
  },
  {
   "cell_type": "markdown",
   "metadata": {
    "application/vnd.databricks.v1+cell": {
     "cellMetadata": {
      "byteLimit": 2048000,
      "rowLimit": 10000
     },
     "inputWidgets": {},
     "nuid": "db9e0e27-378b-40ba-9331-fd1cb713d3b5",
     "showTitle": false,
     "title": ""
    }
   },
   "source": [
    "**Add Any Iterable**\n",
    "\n",
    "The extend() method does not have to append lists, you can add any iterable object (tuples, sets, dictionaries etc.)."
   ]
  },
  {
   "cell_type": "code",
   "execution_count": 0,
   "metadata": {
    "application/vnd.databricks.v1+cell": {
     "cellMetadata": {
      "byteLimit": 2048000,
      "rowLimit": 10000
     },
     "inputWidgets": {},
     "nuid": "fc5af3d6-5e29-4bd6-9ecf-83822b8abc88",
     "showTitle": false,
     "title": ""
    }
   },
   "outputs": [
    {
     "name": "stdout",
     "output_type": "stream",
     "text": [
      "['apple', 'banana', 'cherry', 'kiwi', 'orange']\n"
     ]
    }
   ],
   "source": [
    "# Add elements of a tuple to a list:\n",
    "\n",
    "lst1 = [\"apple\", \"banana\", \"cherry\"]\n",
    "set1 = (\"kiwi\", \"orange\")\n",
    "lst1.extend(set1)\n",
    "print(lst1)"
   ]
  },
  {
   "cell_type": "markdown",
   "metadata": {
    "application/vnd.databricks.v1+cell": {
     "cellMetadata": {
      "byteLimit": 2048000,
      "rowLimit": 10000
     },
     "inputWidgets": {},
     "nuid": "1e432fc6-432b-4ba8-910e-c9ee881985e0",
     "showTitle": false,
     "title": ""
    }
   },
   "source": [
    "###Remove List Items"
   ]
  },
  {
   "cell_type": "markdown",
   "metadata": {
    "application/vnd.databricks.v1+cell": {
     "cellMetadata": {
      "byteLimit": 2048000,
      "rowLimit": 10000
     },
     "inputWidgets": {},
     "nuid": "cbbe4a72-d26e-423d-bd6a-7bbe2353f635",
     "showTitle": false,
     "title": ""
    }
   },
   "source": [
    "#####Using pop() method\n",
    "- pop() function can also be used to remove and return an element from the list, but by default it removes only the last element of the list.\n",
    "- To remove an element from a specific position of the List, the index of the element is passed as an argument to the pop() method."
   ]
  },
  {
   "cell_type": "code",
   "execution_count": 0,
   "metadata": {
    "application/vnd.databricks.v1+cell": {
     "cellMetadata": {
      "byteLimit": 2048000,
      "rowLimit": 10000
     },
     "inputWidgets": {},
     "nuid": "7c091da8-dea1-4846-b018-80fd27754b81",
     "showTitle": false,
     "title": ""
    }
   },
   "outputs": [
    {
     "name": "stdout",
     "output_type": "stream",
     "text": [
      "Initila List: \n",
      "[1, 2, 3, 4]\n",
      "\n",
      "List after popping a specific element: \n",
      "[1, 2, 4]\n",
      "\n",
      "List after popping last element: \n",
      "[1, 2]\n"
     ]
    }
   ],
   "source": [
    "List = [1, 2, 3, 4]\n",
    "print(\"Initila List: \")\n",
    "print(List)\n",
    "\n",
    "# Removing element from the list using the pop() method\n",
    "List.pop(2)\n",
    "print(\"\\nList after popping a specific element: \")\n",
    "print(List)\n",
    "\n",
    "List.pop()\n",
    "print(\"\\nList after popping last element: \")\n",
    "print(List)"
   ]
  },
  {
   "cell_type": "markdown",
   "metadata": {
    "application/vnd.databricks.v1+cell": {
     "cellMetadata": {
      "byteLimit": 2048000,
      "rowLimit": 10000
     },
     "inputWidgets": {},
     "nuid": "e72a3f45-c101-4be9-8387-1de7a169caa8",
     "showTitle": false,
     "title": ""
    }
   },
   "source": [
    "#####Using remove() method\n",
    "The remove() method removes the specified item."
   ]
  },
  {
   "cell_type": "code",
   "execution_count": 0,
   "metadata": {
    "application/vnd.databricks.v1+cell": {
     "cellMetadata": {
      "byteLimit": 2048000,
      "rowLimit": 10000
     },
     "inputWidgets": {},
     "nuid": "7685bbba-d2ab-4d1b-9774-964235978aa3",
     "showTitle": false,
     "title": ""
    }
   },
   "outputs": [
    {
     "name": "stdout",
     "output_type": "stream",
     "text": [
      "Initial List: \n",
      "['Pune', 'Mumbai', 'Nagpur', 'Nashik', 'Auragabad']\n",
      "\n",
      "List after removing specified item.: \n",
      "['Pune', 'Nagpur', 'Nashik']\n"
     ]
    }
   ],
   "source": [
    "city_names = [\"Pune\", \"Mumbai\", \"Nagpur\",\"Nashik\", \"Auragabad\"]\n",
    "print(\"Initial List: \")\n",
    "print(city_names)\n",
    "\n",
    "city_names.remove(\"Auragabad\")\n",
    "city_names.remove(\"Mumbai\")\n",
    "print(\"\\nList after removing specified item.: \")\n",
    "print(city_names)"
   ]
  },
  {
   "cell_type": "markdown",
   "metadata": {
    "application/vnd.databricks.v1+cell": {
     "cellMetadata": {
      "byteLimit": 2048000,
      "rowLimit": 10000
     },
     "inputWidgets": {},
     "nuid": "8af2c62e-14ab-49fe-a62c-04b4683aa1f4",
     "showTitle": false,
     "title": ""
    }
   },
   "source": [
    "#####using  del keyword\n",
    "- The del keyword also removes the specified index\n",
    "- The del keyword can also delete the list completely."
   ]
  },
  {
   "cell_type": "code",
   "execution_count": 0,
   "metadata": {
    "application/vnd.databricks.v1+cell": {
     "cellMetadata": {
      "byteLimit": 2048000,
      "rowLimit": 10000
     },
     "inputWidgets": {},
     "nuid": "63839340-9a18-4252-8b5e-9d134313d8d7",
     "showTitle": false,
     "title": ""
    }
   },
   "outputs": [
    {
     "name": "stdout",
     "output_type": "stream",
     "text": [
      "Initial List: \n",
      "[1, 2, 'Rohish', 'Zade', 3, 5, 3]\n",
      "\n",
      "List after removing first item.using del keyword: \n",
      "[2, 'Rohish', 'Zade', 3, 5, 3]\n"
     ]
    }
   ],
   "source": [
    "str_nums = [1, 2, \"Rohish\", \"Zade\", 3, 5, 3]\n",
    "print(\"Initial List: \")\n",
    "print(str_nums)\n",
    "\n",
    "# Remove the first item:\n",
    "del str_nums[0]\n",
    "print(\"\\nList after removing first item.using del keyword: \")\n",
    "print(str_nums)"
   ]
  },
  {
   "cell_type": "code",
   "execution_count": 0,
   "metadata": {
    "application/vnd.databricks.v1+cell": {
     "cellMetadata": {
      "byteLimit": 2048000,
      "rowLimit": 10000
     },
     "inputWidgets": {},
     "nuid": "3db0f56c-9814-4742-ab32-dd43835e508b",
     "showTitle": false,
     "title": ""
    }
   },
   "outputs": [
    {
     "name": "stdout",
     "output_type": "stream",
     "text": [
      "before deleting List: \n",
      "[2, 'Rohish', 'Zade', 3, 5, 3]\n"
     ]
    },
    {
     "data": {
      "text/plain": [
       "\u001b[0;31m---------------------------------------------------------------------------\u001b[0m\n",
       "\u001b[0;31mNameError\u001b[0m                                 Traceback (most recent call last)\n",
       "File \u001b[0;32m<command-139444432348028>:6\u001b[0m\n",
       "\u001b[1;32m      3\u001b[0m \u001b[38;5;28mprint\u001b[39m(str_nums)\n",
       "\u001b[1;32m      5\u001b[0m \u001b[38;5;28;01mdel\u001b[39;00m str_nums\n",
       "\u001b[0;32m----> 6\u001b[0m \u001b[38;5;28mprint\u001b[39m(str_nums)\n",
       "\n",
       "\u001b[0;31mNameError\u001b[0m: name 'str_nums' is not defined"
      ]
     },
     "metadata": {
      "application/vnd.databricks.v1+output": {
       "arguments": {},
       "data": "\u001b[0;31m---------------------------------------------------------------------------\u001b[0m\n\u001b[0;31mNameError\u001b[0m                                 Traceback (most recent call last)\nFile \u001b[0;32m<command-139444432348028>:6\u001b[0m\n\u001b[1;32m      3\u001b[0m \u001b[38;5;28mprint\u001b[39m(str_nums)\n\u001b[1;32m      5\u001b[0m \u001b[38;5;28;01mdel\u001b[39;00m str_nums\n\u001b[0;32m----> 6\u001b[0m \u001b[38;5;28mprint\u001b[39m(str_nums)\n\n\u001b[0;31mNameError\u001b[0m: name 'str_nums' is not defined",
       "errorSummary": "<span class='ansi-red-fg'>NameError</span>: name 'str_nums' is not defined",
       "errorTraceType": "ansi",
       "metadata": {},
       "type": "ipynbError"
      }
     },
     "output_type": "display_data"
    }
   ],
   "source": [
    "# Delete the entire list:\n",
    "print(\"before deleting List: \")\n",
    "print(str_nums)\n",
    "\n",
    "del str_nums\n",
    "print(str_nums)"
   ]
  },
  {
   "cell_type": "markdown",
   "metadata": {
    "application/vnd.databricks.v1+cell": {
     "cellMetadata": {
      "byteLimit": 2048000,
      "rowLimit": 10000
     },
     "inputWidgets": {},
     "nuid": "a84e231c-7f32-4431-9c15-a0f5a4d9b367",
     "showTitle": false,
     "title": ""
    }
   },
   "source": [
    "**Clear the List**\n",
    "\n",
    "- The clear() method empties the list.\n",
    "- The list still remains, but it has no content."
   ]
  },
  {
   "cell_type": "code",
   "execution_count": 0,
   "metadata": {
    "application/vnd.databricks.v1+cell": {
     "cellMetadata": {
      "byteLimit": 2048000,
      "rowLimit": 10000
     },
     "inputWidgets": {},
     "nuid": "802c9e5b-81ff-4eea-bb72-294318ac17e9",
     "showTitle": false,
     "title": ""
    }
   },
   "outputs": [
    {
     "name": "stdout",
     "output_type": "stream",
     "text": [
      "before clearing List: \n",
      "['apple', 'banana', 'cherry']\n",
      "\n",
      "after clearing List: \n",
      "[]\n"
     ]
    }
   ],
   "source": [
    "fruits_list = [\"apple\", \"banana\", \"cherry\"]\n",
    "print(\"before clearing List: \")\n",
    "print(fruits_list)\n",
    "\n",
    "fruits_list.clear()\n",
    "print(\"\\nafter clearing List: \")\n",
    "print(fruits_list)"
   ]
  },
  {
   "cell_type": "markdown",
   "metadata": {
    "application/vnd.databricks.v1+cell": {
     "cellMetadata": {
      "byteLimit": 2048000,
      "rowLimit": 10000
     },
     "inputWidgets": {},
     "nuid": "18a4cceb-f04f-44fb-8cd9-127a5b04bf35",
     "showTitle": false,
     "title": ""
    }
   },
   "source": [
    "###Loop Through a List\n",
    "- You can loop through the list items by using a for loop:"
   ]
  },
  {
   "cell_type": "code",
   "execution_count": 0,
   "metadata": {
    "application/vnd.databricks.v1+cell": {
     "cellMetadata": {
      "byteLimit": 2048000,
      "rowLimit": 10000
     },
     "inputWidgets": {},
     "nuid": "fb6c2633-a4cc-494b-a2d9-46ceb703ecbb",
     "showTitle": false,
     "title": ""
    }
   },
   "outputs": [
    {
     "name": "stdout",
     "output_type": "stream",
     "text": [
      "1\n",
      "2\n",
      "3\n",
      "4\n",
      "5\n",
      "6\n"
     ]
    }
   ],
   "source": [
    "# Print all items in the list, one by one:\n",
    "\n",
    "nums = [1, 2, 3, 4, 5, 6]\n",
    "for i in nums:\n",
    "    print(i)"
   ]
  },
  {
   "cell_type": "code",
   "execution_count": 0,
   "metadata": {
    "application/vnd.databricks.v1+cell": {
     "cellMetadata": {
      "byteLimit": 2048000,
      "rowLimit": 10000
     },
     "inputWidgets": {},
     "nuid": "603468d5-d285-494e-9c0d-d72fc9aaaa0c",
     "showTitle": false,
     "title": ""
    }
   },
   "outputs": [
    {
     "name": "stdout",
     "output_type": "stream",
     "text": [
      "1\n",
      "2\n",
      "3\n",
      "4\n",
      "5\n",
      "6\n"
     ]
    }
   ],
   "source": [
    "# Loop Through the Index Numbers\n",
    "# Use the range() and len() functions to create a suitable iterable.\n",
    "\n",
    "for i in range(len(nums)):\n",
    "    print(nums[i])"
   ]
  },
  {
   "cell_type": "markdown",
   "metadata": {
    "application/vnd.databricks.v1+cell": {
     "cellMetadata": {
      "byteLimit": 2048000,
      "rowLimit": 10000
     },
     "inputWidgets": {},
     "nuid": "8fc379ef-4600-4a3a-9688-7ed1538d826f",
     "showTitle": false,
     "title": ""
    }
   },
   "source": [
    "###Sort Lists\n",
    "List objects have a sort() method that will sort the list alphanumerically, ascending, by default:"
   ]
  },
  {
   "cell_type": "code",
   "execution_count": 0,
   "metadata": {
    "application/vnd.databricks.v1+cell": {
     "cellMetadata": {
      "byteLimit": 2048000,
      "rowLimit": 10000
     },
     "inputWidgets": {},
     "nuid": "9226f8c2-7154-4481-b507-b208ff6b5bfb",
     "showTitle": false,
     "title": ""
    }
   },
   "outputs": [
    {
     "name": "stdout",
     "output_type": "stream",
     "text": [
      "Before sorting:\n",
      "['orange', 'mango', 'kiwi', 'pineapple', 'banana']\n",
      "\n",
      "after sorting in asc:\n",
      "['banana', 'kiwi', 'mango', 'orange', 'pineapple']\n",
      "\n",
      "after sorting in desc:\n",
      "['pineapple', 'orange', 'mango', 'kiwi', 'banana']\n"
     ]
    }
   ],
   "source": [
    "fruits_list = [\"orange\", \"mango\", \"kiwi\", \"pineapple\", \"banana\"]\n",
    "print(\"Before sorting:\")\n",
    "print(fruits_list)\n",
    "\n",
    "fruits_list.sort()\n",
    "print(\"\\nafter sorting in asc:\")\n",
    "print(fruits_list)\n",
    "\n",
    "\n",
    "fruits_list.sort(reverse=True)\n",
    "print(\"\\nafter sorting in desc:\")\n",
    "print(fruits_list)"
   ]
  },
  {
   "cell_type": "markdown",
   "metadata": {
    "application/vnd.databricks.v1+cell": {
     "cellMetadata": {
      "byteLimit": 2048000,
      "rowLimit": 10000
     },
     "inputWidgets": {},
     "nuid": "bfb3edbd-7765-46f4-85d3-2441c17d4990",
     "showTitle": false,
     "title": ""
    }
   },
   "source": [
    "#####Case Insensitive Sort\n",
    "By default the sort() method is **case sensitive**, resulting in all capital letters being sorted before lower case letters:\n"
   ]
  },
  {
   "cell_type": "code",
   "execution_count": 0,
   "metadata": {
    "application/vnd.databricks.v1+cell": {
     "cellMetadata": {
      "byteLimit": 2048000,
      "rowLimit": 10000
     },
     "inputWidgets": {},
     "nuid": "d4c8a7ed-e59b-4717-b588-44dd306c40ac",
     "showTitle": false,
     "title": ""
    }
   },
   "outputs": [
    {
     "name": "stdout",
     "output_type": "stream",
     "text": [
      "['Kiwi', 'Orange', 'banana', 'cherry']\n"
     ]
    }
   ],
   "source": [
    "# Case sensitive sorting can give an unexpected result:\n",
    "\n",
    "thislist = [\"banana\", \"Orange\", \"Kiwi\", \"cherry\"]\n",
    "thislist.sort()\n",
    "print(thislist)"
   ]
  },
  {
   "cell_type": "code",
   "execution_count": 0,
   "metadata": {
    "application/vnd.databricks.v1+cell": {
     "cellMetadata": {
      "byteLimit": 2048000,
      "rowLimit": 10000
     },
     "inputWidgets": {},
     "nuid": "87471072-0817-4932-98f2-78cf7f372a8e",
     "showTitle": false,
     "title": ""
    }
   },
   "outputs": [
    {
     "name": "stdout",
     "output_type": "stream",
     "text": [
      "['banana', 'cherry', 'Kiwi', 'Orange']\n"
     ]
    }
   ],
   "source": [
    "# Perform a case-insensitive sort of the list:\n",
    "\n",
    "thislist = [\"banana\", \"Orange\", \"Kiwi\", \"cherry\"]\n",
    "thislist.sort(key = str.lower)\n",
    "print(thislist)"
   ]
  },
  {
   "cell_type": "markdown",
   "metadata": {
    "application/vnd.databricks.v1+cell": {
     "cellMetadata": {
      "byteLimit": 2048000,
      "rowLimit": 10000
     },
     "inputWidgets": {},
     "nuid": "5aecd1d9-8ecc-4207-80d5-432c118e0a9b",
     "showTitle": false,
     "title": ""
    }
   },
   "source": [
    "####Reverse Order\n",
    "\n",
    "- What if you want to reverse the order of a list, regardless of the alphabet?\n",
    "- The reverse() method reverses the current sorting order of the elements."
   ]
  },
  {
   "cell_type": "code",
   "execution_count": 0,
   "metadata": {
    "application/vnd.databricks.v1+cell": {
     "cellMetadata": {
      "byteLimit": 2048000,
      "rowLimit": 10000
     },
     "inputWidgets": {},
     "nuid": "bbe041e2-dc52-4802-8502-3256be3dfdbb",
     "showTitle": false,
     "title": ""
    }
   },
   "outputs": [
    {
     "name": "stdout",
     "output_type": "stream",
     "text": [
      "Before reversing a string:\n",
      "['banana', 'Orange', 'Kiwi', 'cherry']\n",
      "\n",
      "after reversing a string:\n",
      "['cherry', 'Kiwi', 'Orange', 'banana']\n"
     ]
    }
   ],
   "source": [
    "# Reverse the order of the list items:\n",
    "\n",
    "thislist = [\"banana\", \"Orange\", \"Kiwi\", \"cherry\"]\n",
    "print(\"Before reversing a string:\")\n",
    "print(thislist)\n",
    "\n",
    "thislist.reverse()\n",
    "print(\"\\nafter reversing a string:\")\n",
    "print(thislist)"
   ]
  },
  {
   "cell_type": "markdown",
   "metadata": {
    "application/vnd.databricks.v1+cell": {
     "cellMetadata": {
      "byteLimit": 2048000,
      "rowLimit": 10000
     },
     "inputWidgets": {},
     "nuid": "3675e1db-b81e-4c63-bdcc-705cd682d721",
     "showTitle": false,
     "title": ""
    }
   },
   "source": [
    "###Copy Lists\n",
    "\n",
    "- You cannot copy a list simply by typing list2 = list1, because: list2 will only be a reference to list1, and changes made in list1 will automatically also be made in list2.\n",
    "- There are ways to make a copy, one way is to use the built-in List method copy()."
   ]
  },
  {
   "cell_type": "code",
   "execution_count": 0,
   "metadata": {
    "application/vnd.databricks.v1+cell": {
     "cellMetadata": {
      "byteLimit": 2048000,
      "rowLimit": 10000
     },
     "inputWidgets": {},
     "nuid": "916e95e9-4269-4dfc-b063-9ec8f909a626",
     "showTitle": false,
     "title": ""
    }
   },
   "outputs": [
    {
     "name": "stdout",
     "output_type": "stream",
     "text": [
      "['apple', 'banana', 'cherry']\n"
     ]
    }
   ],
   "source": [
    "# Make a copy of a list with the copy() method:\n",
    "\n",
    "thislist = [\"apple\", \"banana\", \"cherry\"]\n",
    "mylist = thislist.copy()\n",
    "print(mylist)"
   ]
  },
  {
   "cell_type": "code",
   "execution_count": 0,
   "metadata": {
    "application/vnd.databricks.v1+cell": {
     "cellMetadata": {
      "byteLimit": 2048000,
      "rowLimit": 10000
     },
     "inputWidgets": {},
     "nuid": "83636c1f-da1d-407b-b6aa-178c13290df7",
     "showTitle": false,
     "title": ""
    }
   },
   "outputs": [
    {
     "name": "stdout",
     "output_type": "stream",
     "text": [
      "['apple', 'banana', 'cherry']\n"
     ]
    }
   ],
   "source": [
    "# Another way to make a copy is to use the built-in method list().\n",
    "\n",
    "mylist2 = list(thislist)\n",
    "print(mylist)"
   ]
  },
  {
   "cell_type": "markdown",
   "metadata": {
    "application/vnd.databricks.v1+cell": {
     "cellMetadata": {
      "byteLimit": 2048000,
      "rowLimit": 10000
     },
     "inputWidgets": {},
     "nuid": "be893255-f9ae-4bd0-8d7c-7cf2a0ad8a1b",
     "showTitle": false,
     "title": ""
    }
   },
   "source": [
    "###Join Two Lists\n",
    "\n",
    "- There are several ways to join, or concatenate, two or more lists in Python.\n",
    "- One of the easiest ways are by using the + operator."
   ]
  },
  {
   "cell_type": "code",
   "execution_count": 0,
   "metadata": {
    "application/vnd.databricks.v1+cell": {
     "cellMetadata": {
      "byteLimit": 2048000,
      "rowLimit": 10000
     },
     "inputWidgets": {},
     "nuid": "5937dce0-ce6a-4265-8b43-0a4c1b06ace1",
     "showTitle": false,
     "title": ""
    }
   },
   "outputs": [
    {
     "name": "stdout",
     "output_type": "stream",
     "text": [
      "['a', 'b', 'c', 1, 2, 3]\n"
     ]
    }
   ],
   "source": [
    "# Join two list:\n",
    "\n",
    "list1 = [\"a\", \"b\", \"c\"]\n",
    "list2 = [1, 2, 3]\n",
    "\n",
    "list3 = list1 + list2\n",
    "print(list3)"
   ]
  },
  {
   "cell_type": "code",
   "execution_count": 0,
   "metadata": {
    "application/vnd.databricks.v1+cell": {
     "cellMetadata": {
      "byteLimit": 2048000,
      "rowLimit": 10000
     },
     "inputWidgets": {},
     "nuid": "b290c723-44e3-4b53-b8b0-3254f2f7214a",
     "showTitle": false,
     "title": ""
    }
   },
   "outputs": [
    {
     "name": "stdout",
     "output_type": "stream",
     "text": [
      "['a', 'b', 'c', 1, 2, 3]\n"
     ]
    }
   ],
   "source": [
    "# Append list2 into list1:\n",
    "for x in list2:\n",
    "  list1.append(x)\n",
    "\n",
    "print(list1)"
   ]
  },
  {
   "cell_type": "code",
   "execution_count": 0,
   "metadata": {
    "application/vnd.databricks.v1+cell": {
     "cellMetadata": {
      "byteLimit": 2048000,
      "rowLimit": 10000
     },
     "inputWidgets": {},
     "nuid": "4f6f5429-3a0c-4e9b-a44b-e6d26cc912af",
     "showTitle": false,
     "title": ""
    }
   },
   "outputs": [
    {
     "name": "stdout",
     "output_type": "stream",
     "text": [
      "['a', 'b', 'c', 1, 2, 3]\n"
     ]
    }
   ],
   "source": [
    "# Use the extend() method to add list2 at the end of list1:\n",
    "\n",
    "list1 = [\"a\", \"b\" , \"c\"]\n",
    "list2 = [1, 2, 3]\n",
    "\n",
    "list1.extend(list2)\n",
    "print(list1)"
   ]
  },
  {
   "cell_type": "markdown",
   "metadata": {
    "application/vnd.databricks.v1+cell": {
     "cellMetadata": {
      "byteLimit": 2048000,
      "rowLimit": 10000
     },
     "inputWidgets": {},
     "nuid": "490888e7-97bb-4d7c-a03e-c9a1dcb28f74",
     "showTitle": false,
     "title": ""
    }
   },
   "source": [
    "###List Methods\n",
    "Python has a set of built-in methods that you can use on lists.\n",
    "\n",
    "https://w3schools.com/python/python_lists_methods.asp\n"
   ]
  },
  {
   "cell_type": "code",
   "execution_count": 0,
   "metadata": {
    "application/vnd.databricks.v1+cell": {
     "cellMetadata": {
      "byteLimit": 2048000,
      "rowLimit": 10000
     },
     "inputWidgets": {},
     "nuid": "dfc140eb-3807-43d3-a615-ae4974fa14a5",
     "showTitle": false,
     "title": ""
    }
   },
   "outputs": [
    {
     "name": "stdout",
     "output_type": "stream",
     "text": [
      "2\n"
     ]
    }
   ],
   "source": [
    "# count() Method\n",
    "# Return the number of times the value \"cherry\" appears in the fruits list:\n",
    "\n",
    "fruits = ['apple', 'banana', 'cherry', 'cherry']\n",
    "\n",
    "print(fruits.count(\"cherry\"))"
   ]
  },
  {
   "cell_type": "code",
   "execution_count": 0,
   "metadata": {
    "application/vnd.databricks.v1+cell": {
     "cellMetadata": {
      "byteLimit": 2048000,
      "rowLimit": 10000
     },
     "inputWidgets": {},
     "nuid": "3219af69-bb53-4cd6-b633-1ddcd722f54e",
     "showTitle": false,
     "title": ""
    }
   },
   "outputs": [
    {
     "name": "stdout",
     "output_type": "stream",
     "text": [
      "3\n"
     ]
    }
   ],
   "source": [
    "# index() Method\n",
    "# The index() method returns the position at the first occurrence of the specified value.\n",
    "\n",
    "# What is the position of the value 32:\n",
    "\n",
    "fruits = [4, 55, 64, 32, 16, 32]\n",
    "print(fruits.index(32))"
   ]
  },
  {
   "cell_type": "markdown",
   "metadata": {
    "application/vnd.databricks.v1+cell": {
     "cellMetadata": {
      "byteLimit": 2048000,
      "rowLimit": 10000
     },
     "inputWidgets": {},
     "nuid": "f2110d52-db72-4fa3-829f-8c4adcd4011a",
     "showTitle": false,
     "title": ""
    }
   },
   "source": [
    "###Nested Lists\n",
    "A list within another list is referred to as a nested list in Python. We can also say that a list that has other lists as its elements is a nested list."
   ]
  },
  {
   "cell_type": "code",
   "execution_count": 0,
   "metadata": {
    "application/vnd.databricks.v1+cell": {
     "cellMetadata": {
      "byteLimit": 2048000,
      "rowLimit": 10000
     },
     "inputWidgets": {},
     "nuid": "f0bdab6d-2b2f-4fec-97cf-84e8e7931e26",
     "showTitle": false,
     "title": ""
    }
   },
   "outputs": [],
   "source": [
    "# Nested list\n",
    "MyList = [[22, 14, 16], [\"Joe\", \"Sam\", \"Abel\"], [True, False, True]]"
   ]
  },
  {
   "cell_type": "code",
   "execution_count": 0,
   "metadata": {
    "application/vnd.databricks.v1+cell": {
     "cellMetadata": {
      "byteLimit": 2048000,
      "rowLimit": 10000
     },
     "inputWidgets": {},
     "nuid": "07cc4c08-7bb0-409c-9ed9-6142a18e3090",
     "showTitle": false,
     "title": ""
    }
   },
   "outputs": [
    {
     "name": "stdout",
     "output_type": "stream",
     "text": [
      "[22, 14, 16]\n"
     ]
    }
   ],
   "source": [
    "#printing a sublist\n",
    "print(MyList[0])"
   ]
  },
  {
   "cell_type": "code",
   "execution_count": 0,
   "metadata": {
    "application/vnd.databricks.v1+cell": {
     "cellMetadata": {
      "byteLimit": 2048000,
      "rowLimit": 10000
     },
     "inputWidgets": {},
     "nuid": "f24f62f1-76a4-4458-9549-112ba2549d4d",
     "showTitle": false,
     "title": ""
    }
   },
   "outputs": [
    {
     "name": "stdout",
     "output_type": "stream",
     "text": [
      "Joe\n"
     ]
    }
   ],
   "source": [
    "# printing an element within a sublist\n",
    "# print the \"Joe\"\n",
    "print(MyList[1][0])"
   ]
  },
  {
   "cell_type": "code",
   "execution_count": 0,
   "metadata": {
    "application/vnd.databricks.v1+cell": {
     "cellMetadata": {
      "byteLimit": 2048000,
      "rowLimit": 10000
     },
     "inputWidgets": {},
     "nuid": "f532d51d-9165-452e-b39a-dc8bb5af19b0",
     "showTitle": false,
     "title": ""
    }
   },
   "outputs": [
    {
     "name": "stdout",
     "output_type": "stream",
     "text": [
      "[[22, 14, 16], ['Rohish', 'Sam', 'Abel'], [True, False, True]]\n"
     ]
    }
   ],
   "source": [
    "# modifying an element in a sublist\n",
    "# change the \"Joe\" to \"Rohish\"\n",
    "MyList[1][0] = \"Rohish\"\n",
    "print(MyList)"
   ]
  }
 ],
 "metadata": {
  "application/vnd.databricks.v1+notebook": {
   "dashboards": [],
   "environmentMetadata": null,
   "language": "python",
   "notebookMetadata": {
    "pythonIndentUnit": 4
   },
   "notebookName": "Lists",
   "widgets": {}
  },
  "language_info": {
   "name": "python"
  }
 },
 "nbformat": 4,
 "nbformat_minor": 0
}
