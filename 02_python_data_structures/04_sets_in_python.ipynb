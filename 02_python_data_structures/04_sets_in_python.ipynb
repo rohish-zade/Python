{
 "cells": [
  {
   "cell_type": "markdown",
   "id": "77ac9879-9f6e-42c0-9443-b4281e4a3bcd",
   "metadata": {},
   "source": [
    "## Sets in Python"
   ]
  },
  {
   "cell_type": "markdown",
   "id": "831092e2-c588-4bc3-83f6-fd9209bf1238",
   "metadata": {},
   "source": [
    "- In Python, a set is an unordered collection of unique elements.\n",
    "- Sets are mutable, meaning you can add or remove elements, but the elements themselves must be immutable (e.g., numbers, strings, or tuples).\n",
    "- Sets are commonly used for membership testing, removing duplicates, and performing mathematical operations like unions, intersections, and differences."
   ]
  },
  {
   "cell_type": "markdown",
   "id": "a0e46aeb-30ef-464c-9a42-144b4c29f1e7",
   "metadata": {},
   "source": [
    "### Properties of a Set\n",
    "- **Unordered:** Sets do not maintain any specific order.\n",
    "- **Unique Elements:** No duplicates are allowed.\n",
    "- **Mutable:** You can add or remove elements.\n",
    "- **Unindexed:** Elements cannot be accessed via index."
   ]
  },
  {
   "cell_type": "markdown",
   "id": "a8ebe14f-4f45-4831-8b74-398e91ff2437",
   "metadata": {},
   "source": [
    "### Creating a Set\n",
    "You can create a set in Python using curly braces `{}` or the built-in `set()` function."
   ]
  },
  {
   "cell_type": "code",
   "execution_count": 5,
   "id": "d343b9e1-2971-4299-a34d-00435b394827",
   "metadata": {},
   "outputs": [
    {
     "name": "stdout",
     "output_type": "stream",
     "text": [
      "{1, 2, 3, 4, 5}\n"
     ]
    }
   ],
   "source": [
    "# Using curly braces\n",
    "my_set = {1, 2, 3, 4, 5}\n",
    "print(my_set)"
   ]
  },
  {
   "cell_type": "code",
   "execution_count": 8,
   "id": "7f6393d1-5255-4e36-982e-2cd50af78f3f",
   "metadata": {},
   "outputs": [
    {
     "name": "stdout",
     "output_type": "stream",
     "text": [
      "{1, 2, 3, 4, 5, 6}\n"
     ]
    }
   ],
   "source": [
    "# Using the set() function\n",
    "my_set2 = set([1, 2, 3, 5, 6, 3, 4]) # it will remove duplicates from list when we create as et\n",
    "print(my_set2) "
   ]
  },
  {
   "cell_type": "markdown",
   "id": "34f65065-0473-4d7c-9e83-573b434b40dc",
   "metadata": {},
   "source": [
    "**Note: Duplicate values are automatically removed.**"
   ]
  },
  {
   "cell_type": "markdown",
   "id": "f9334727-de89-4d6a-8a21-fa3f2a9ad6fa",
   "metadata": {},
   "source": [
    "### Adding Elements to a Set\n",
    "You can add elements using `add()` or multiple elements using `update()`."
   ]
  },
  {
   "cell_type": "code",
   "execution_count": 13,
   "id": "d42cce94-830d-434d-8975-f5e2e4577bfd",
   "metadata": {},
   "outputs": [
    {
     "name": "stdout",
     "output_type": "stream",
     "text": [
      "{'Athletico Madrid', 'Barcelona', 'Real Madrid', 'Girona'}\n"
     ]
    }
   ],
   "source": [
    "# using add()\n",
    "laliga_teams = {\"Barcelona\", \"Real Madrid\", \"Athletico Madrid\"}\n",
    "\n",
    "# adding a single element\n",
    "laliga_teams.add(\"Girona\")\n",
    "print(laliga_teams)"
   ]
  },
  {
   "cell_type": "code",
   "execution_count": 15,
   "id": "906aa9a2-40dc-4814-937e-f356990a417f",
   "metadata": {},
   "outputs": [
    {
     "name": "stdout",
     "output_type": "stream",
     "text": [
      "{'Valencia', 'Real Madrid', 'Girona', 'Getafe', 'Sevilla', 'Athletico Madrid', 'Barcelona'}\n"
     ]
    }
   ],
   "source": [
    "# using update: Adding multiple elements\n",
    "laliga_teams.update([\"Getafe\", \"Valencia\", \"Sevilla\"])\n",
    "print(laliga_teams)"
   ]
  },
  {
   "cell_type": "markdown",
   "id": "f9b7e908-a9f6-4ad4-95ec-4858224e5fdd",
   "metadata": {},
   "source": [
    "### Removing Elements from a Set\n",
    "\n",
    "#### Methods to remove elements:\n",
    "- **remove(element):** Removes the element but raises an error if not found.\n",
    "- **discard(element):** Removes the element but does not raise an error if not found.\n",
    "- **pop():** Removes a random element.\n",
    "- **clear():** Removes all elements."
   ]
  },
  {
   "cell_type": "code",
   "execution_count": 16,
   "id": "060789a2-f216-4641-bb06-e6fcee30e8c8",
   "metadata": {},
   "outputs": [
    {
     "name": "stdout",
     "output_type": "stream",
     "text": [
      "{1, 3, 4}\n",
      "{3, 4}\n",
      "set()\n"
     ]
    }
   ],
   "source": [
    "s = {1, 2, 3, 4}\n",
    "\n",
    "s.remove(2)  \n",
    "print(s)  # Output: {1, 3, 4}\n",
    "\n",
    "s.discard(5)  # No error even though 5 is not in the set\n",
    "\n",
    "s.pop()  # Removes a random element\n",
    "print(s)\n",
    "\n",
    "s.clear()  # Removes all elements\n",
    "print(s)  # Output: set()"
   ]
  },
  {
   "cell_type": "code",
   "execution_count": 19,
   "id": "2f165e83-7dec-4fd2-addb-703e6160342c",
   "metadata": {},
   "outputs": [
    {
     "ename": "KeyError",
     "evalue": "3",
     "output_type": "error",
     "traceback": [
      "\u001b[1;31m---------------------------------------------------------------------------\u001b[0m",
      "\u001b[1;31mKeyError\u001b[0m                                  Traceback (most recent call last)",
      "Cell \u001b[1;32mIn[19], line 1\u001b[0m\n\u001b[1;32m----> 1\u001b[0m \u001b[43ms\u001b[49m\u001b[38;5;241;43m.\u001b[39;49m\u001b[43mremove\u001b[49m\u001b[43m(\u001b[49m\u001b[38;5;241;43m3\u001b[39;49m\u001b[43m)\u001b[49m \u001b[38;5;66;03m#  raises an error as 3 is not present in the set\u001b[39;00m\n",
      "\u001b[1;31mKeyError\u001b[0m: 3"
     ]
    }
   ],
   "source": [
    "s.remove(3) #  raises an error as 3 is not present in the set"
   ]
  },
  {
   "cell_type": "markdown",
   "id": "454ce1ce-ea43-4ccb-ada4-04b5af89e508",
   "metadata": {},
   "source": [
    "### Frozen Set (Immutable Set)\n",
    "A frozenset is an immutable version of a set."
   ]
  },
  {
   "cell_type": "code",
   "execution_count": 23,
   "id": "1b6e9fc1-9447-46c0-a6de-2b965d15d3fc",
   "metadata": {},
   "outputs": [
    {
     "name": "stdout",
     "output_type": "stream",
     "text": [
      "frozenset({1, 2, 3, 4})\n"
     ]
    }
   ],
   "source": [
    "fs = frozenset([1, 2, 3, 4])\n",
    "print(fs)\n",
    "\n",
    "# fs.add(5)  # This will raise an AttributeError as frozenset in immutable"
   ]
  },
  {
   "cell_type": "code",
   "execution_count": 24,
   "id": "8934692c-ab77-4459-b22a-6ad59adcd3a2",
   "metadata": {},
   "outputs": [
    {
     "ename": "AttributeError",
     "evalue": "'frozenset' object has no attribute 'add'",
     "output_type": "error",
     "traceback": [
      "\u001b[1;31m---------------------------------------------------------------------------\u001b[0m",
      "\u001b[1;31mAttributeError\u001b[0m                            Traceback (most recent call last)",
      "Cell \u001b[1;32mIn[24], line 1\u001b[0m\n\u001b[1;32m----> 1\u001b[0m \u001b[43mfs\u001b[49m\u001b[38;5;241;43m.\u001b[39;49m\u001b[43madd\u001b[49m(\u001b[38;5;241m5\u001b[39m)\n",
      "\u001b[1;31mAttributeError\u001b[0m: 'frozenset' object has no attribute 'add'"
     ]
    }
   ],
   "source": [
    "fs.add(5)"
   ]
  },
  {
   "cell_type": "markdown",
   "id": "0e3e540d-13a1-4bcf-a591-63245a9dcee3",
   "metadata": {},
   "source": [
    "###  Set Comprehension\n",
    "You can create sets using comprehension."
   ]
  },
  {
   "cell_type": "code",
   "execution_count": 25,
   "id": "bee9eff7-5750-4484-b666-763b5dc51130",
   "metadata": {},
   "outputs": [
    {
     "name": "stdout",
     "output_type": "stream",
     "text": [
      "{0, 1, 4, 9, 16}\n"
     ]
    }
   ],
   "source": [
    "squared_numbers = {x**2 for x in range(5)}\n",
    "print(squared_numbers)  # Output: {0, 1, 4, 9, 16}"
   ]
  },
  {
   "cell_type": "markdown",
   "id": "6cc95255-9bd4-459a-a889-47514cb5c537",
   "metadata": {},
   "source": [
    "### Set Operations (Mathematical Operations)\n",
    "Python sets support operations like union, intersection, difference, and symmetric difference."
   ]
  },
  {
   "cell_type": "markdown",
   "id": "81205583-3e8a-4770-a49a-9393a57b97c9",
   "metadata": {},
   "source": [
    "#### (i) Union (| or union())\n",
    "Combines all unique elements from both sets."
   ]
  },
  {
   "cell_type": "code",
   "execution_count": 27,
   "id": "f7694458-b3a8-4394-914c-02d4a4b88e99",
   "metadata": {},
   "outputs": [
    {
     "name": "stdout",
     "output_type": "stream",
     "text": [
      "{1, 2, 3, 4, 5}\n",
      "{1, 2, 3, 4, 5}\n"
     ]
    }
   ],
   "source": [
    "A = {1, 2, 3}\n",
    "B = {3, 4, 5}\n",
    "\n",
    "print(A | B)  # Output: {1, 2, 3, 4, 5}\n",
    "print(A.union(B))  # Output: {1, 2, 3, 4, 5}"
   ]
  },
  {
   "cell_type": "code",
   "execution_count": null,
   "id": "324ee9fb-d0e6-4528-8825-7e4f0eb1c328",
   "metadata": {},
   "outputs": [],
   "source": [
    "#### (ii) Intersection (& or intersection())\n",
    "Finds common elements between two sets."
   ]
  },
  {
   "cell_type": "code",
   "execution_count": null,
   "id": "13a585be-b14b-4ec9-8ad8-85d3c69ad882",
   "metadata": {},
   "outputs": [],
   "source": []
  }
 ],
 "metadata": {
  "kernelspec": {
   "display_name": "Python 3 (ipykernel)",
   "language": "python",
   "name": "python3"
  },
  "language_info": {
   "codemirror_mode": {
    "name": "ipython",
    "version": 3
   },
   "file_extension": ".py",
   "mimetype": "text/x-python",
   "name": "python",
   "nbconvert_exporter": "python",
   "pygments_lexer": "ipython3",
   "version": "3.12.3"
  }
 },
 "nbformat": 4,
 "nbformat_minor": 5
}
