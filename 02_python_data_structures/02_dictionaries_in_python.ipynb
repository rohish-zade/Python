{
 "cells": [
  {
   "cell_type": "markdown",
   "metadata": {
    "application/vnd.databricks.v1+cell": {
     "cellMetadata": {},
     "inputWidgets": {},
     "nuid": "5c5b45f8-60ab-4589-9c80-a847218c3b4b",
     "showTitle": false,
     "title": ""
    }
   },
   "source": [
    "##Dictionaries in Python"
   ]
  },
  {
   "cell_type": "markdown",
   "metadata": {
    "application/vnd.databricks.v1+cell": {
     "cellMetadata": {},
     "inputWidgets": {},
     "nuid": "bbacd44a-a509-4be1-af58-749860f689b1",
     "showTitle": false,
     "title": ""
    }
   },
   "source": [
    "- A Python dictionary is a data structure that stores the value in **key:value pairs.**\n",
    "- A dictionary is a collection which is ordered*, changeable and **do not allow duplicates.**\n",
    "- In Python, a dictionary can be created by placing a sequence of elements within curly {} braces, separated by a ‘comma’.\n",
    "- **Dictionary keys are case sensitive**, the same name but different cases of Key will be treated distinctly. \n"
   ]
  },
  {
   "cell_type": "markdown",
   "metadata": {
    "application/vnd.databricks.v1+cell": {
     "cellMetadata": {},
     "inputWidgets": {},
     "nuid": "bb75dc8a-e3dd-481e-b8f2-1d2e0e436921",
     "showTitle": false,
     "title": ""
    }
   },
   "source": [
    "**Keys:**\n",
    "- Must be unique.\n",
    "- Must be immutable types (e.g., strings, numbers, tuples).\n",
    "- Typically, strings are used as keys, but you can also use numbers or tuples.\n",
    "\n",
    "\n",
    "**Values:**\n",
    "- Can be any type (e.g., strings, numbers, lists, other dictionaries).\n",
    "- Can be duplicated (i.e., different keys can have the same value)."
   ]
  },
  {
   "cell_type": "markdown",
   "metadata": {
    "application/vnd.databricks.v1+cell": {
     "cellMetadata": {},
     "inputWidgets": {},
     "nuid": "88ff383b-6b01-46a3-bfcb-5053627349fd",
     "showTitle": false,
     "title": ""
    }
   },
   "source": [
    "**Ordered or Unordered?**\n",
    "- When we say that dictionaries are ordered, it means that the items have a defined order, and that order will not change.\n",
    "- Unordered means that the items do not have a defined order, you cannot refer to an item by using an index."
   ]
  },
  {
   "cell_type": "markdown",
   "metadata": {
    "application/vnd.databricks.v1+cell": {
     "cellMetadata": {},
     "inputWidgets": {},
     "nuid": "ca72c746-ea82-4390-bd26-278727e269b8",
     "showTitle": false,
     "title": ""
    }
   },
   "source": [
    "**Changeable**\n",
    "- Dictionaries are changeable, meaning that we can change, add or remove items after the dictionary has been created.\n",
    "\n",
    "**Duplicates Not Allowed**\n",
    "- Dictionaries cannot have two items with the same key:"
   ]
  },
  {
   "cell_type": "code",
   "execution_count": 0,
   "metadata": {
    "application/vnd.databricks.v1+cell": {
     "cellMetadata": {
      "byteLimit": 2048000,
      "rowLimit": 10000
     },
     "inputWidgets": {},
     "nuid": "1a9d2987-7940-49bd-a0fc-a4d77fef8beb",
     "showTitle": false,
     "title": ""
    }
   },
   "outputs": [
    {
     "output_type": "stream",
     "name": "stdout",
     "output_type": "stream",
     "text": [
      "{'brand': 'Ford', 'model': 'Mustang', 'year': 2020}\n"
     ]
    }
   ],
   "source": [
    "# Duplicate values will overwrite existing values:\n",
    "\n",
    "thisdict = {\n",
    "  \"brand\": \"Ford\",\n",
    "  \"model\": \"Mustang\",\n",
    "  \"year\": 1964,\n",
    "  \"year\": 2020\n",
    "}\n",
    "print(thisdict)"
   ]
  },
  {
   "cell_type": "markdown",
   "metadata": {
    "application/vnd.databricks.v1+cell": {
     "cellMetadata": {},
     "inputWidgets": {},
     "nuid": "dfd8588f-a4c7-4466-a936-6b5ad51b3147",
     "showTitle": false,
     "title": ""
    }
   },
   "source": [
    "###Creating a dictionary\n"
   ]
  },
  {
   "cell_type": "code",
   "execution_count": 0,
   "metadata": {
    "application/vnd.databricks.v1+cell": {
     "cellMetadata": {
      "byteLimit": 2048000,
      "rowLimit": 10000
     },
     "inputWidgets": {},
     "nuid": "91ea2bce-8505-41f8-ba02-047665e02ff6",
     "showTitle": false,
     "title": ""
    }
   },
   "outputs": [
    {
     "output_type": "stream",
     "name": "stdout",
     "output_type": "stream",
     "text": [
      "{}\n<class 'dict'>\n{'CSK': 'Chennai Super Kings', 'MI': 'Mumbai Indians'}\n"
     ]
    }
   ],
   "source": [
    "# Initialize an empty dictionary\n",
    "# You can create dictionaries using curly braces {} with key-value pairs separated by colons :.\n",
    "D = {}\n",
    "print(D)\n",
    "print(type(D))\n",
    "\n",
    "ipl = {\n",
    "\"CSK\" : \"Chennai Super Kings\",\n",
    "\"MI\" : \"Mumbai Indians\"\n",
    "}\n",
    "\n",
    "print(ipl)"
   ]
  },
  {
   "cell_type": "code",
   "execution_count": 0,
   "metadata": {
    "application/vnd.databricks.v1+cell": {
     "cellMetadata": {
      "byteLimit": 2048000,
      "rowLimit": 10000
     },
     "inputWidgets": {},
     "nuid": "80c33a97-93f9-4ca0-960a-0df42610d5cd",
     "showTitle": false,
     "title": ""
    }
   },
   "outputs": [
    {
     "output_type": "stream",
     "name": "stdout",
     "output_type": "stream",
     "text": [
      "{'name': 'Rohish', 'age': 27, 'city': 'Pune'}\n3\n"
     ]
    }
   ],
   "source": [
    "# Alternatively, you can use the dict() function:\n",
    "\n",
    "# Creating a dictionary using dict()\n",
    "my_dict = dict(name=\"Rohish\", age=27, city=\"Pune\")\n",
    "print(my_dict)\n",
    "\n",
    "print(len(thisdict))"
   ]
  },
  {
   "cell_type": "markdown",
   "metadata": {
    "application/vnd.databricks.v1+cell": {
     "cellMetadata": {},
     "inputWidgets": {},
     "nuid": "5902d9ca-7ea0-480e-951e-954ddb1f3775",
     "showTitle": false,
     "title": ""
    }
   },
   "source": [
    "###Accessing Values\n",
    "\n",
    "- Values in a dictionary can be accessed using their corresponding keys inside square brackets [] or using the get() method."
   ]
  },
  {
   "cell_type": "code",
   "execution_count": 0,
   "metadata": {
    "application/vnd.databricks.v1+cell": {
     "cellMetadata": {
      "byteLimit": 2048000,
      "rowLimit": 10000
     },
     "inputWidgets": {},
     "nuid": "b263123f-25e2-41b7-a570-9987339c12fe",
     "showTitle": false,
     "title": ""
    }
   },
   "outputs": [
    {
     "output_type": "stream",
     "name": "stdout",
     "output_type": "stream",
     "text": [
      "Chennai Super Kings\nMumbai Indians\n"
     ]
    }
   ],
   "source": [
    "print(ipl[\"CSK\"])\n",
    "print(ipl[\"MI\"])"
   ]
  },
  {
   "cell_type": "code",
   "execution_count": 0,
   "metadata": {
    "application/vnd.databricks.v1+cell": {
     "cellMetadata": {
      "byteLimit": 2048000,
      "rowLimit": 10000
     },
     "inputWidgets": {},
     "nuid": "c15b8fcb-afd4-4c9d-8e2e-af9b1bf83327",
     "showTitle": false,
     "title": ""
    }
   },
   "outputs": [
    {
     "output_type": "stream",
     "name": "stdout",
     "output_type": "stream",
     "text": [
      "Team1:  Chennai Super Kings\nTeam2:  None\n"
     ]
    }
   ],
   "source": [
    "# using get() method\n",
    "team1 = ipl.get(\"CSK\")\n",
    "team2 = ipl.get(\"RCB\")\n",
    "\n",
    "print(\"Team1: \", team1)\n",
    "print(\"Team2: \", team2)"
   ]
  },
  {
   "cell_type": "markdown",
   "metadata": {
    "application/vnd.databricks.v1+cell": {
     "cellMetadata": {},
     "inputWidgets": {},
     "nuid": "66b94e32-61b2-481f-9a47-9d3bc1c46d70",
     "showTitle": false,
     "title": ""
    }
   },
   "source": [
    "The **get()** method is useful because it doesn't raise an error if the key is not found; instead, it returns None (or a default value if provided)."
   ]
  },
  {
   "cell_type": "markdown",
   "metadata": {
    "application/vnd.databricks.v1+cell": {
     "cellMetadata": {},
     "inputWidgets": {},
     "nuid": "e67220d1-dd62-439c-986a-866fa61267e7",
     "showTitle": false,
     "title": ""
    }
   },
   "source": [
    "**Get keys**: \n",
    "- The **keys()** method will return a list of all the keys in the dictionary."
   ]
  },
  {
   "cell_type": "code",
   "execution_count": 0,
   "metadata": {
    "application/vnd.databricks.v1+cell": {
     "cellMetadata": {
      "byteLimit": 2048000,
      "rowLimit": 10000
     },
     "inputWidgets": {},
     "nuid": "008fe039-2258-45c1-9019-49d41ac708e2",
     "showTitle": false,
     "title": ""
    }
   },
   "outputs": [
    {
     "output_type": "stream",
     "name": "stdout",
     "output_type": "stream",
     "text": [
      "dict_keys(['CSK', 'MI'])\n"
     ]
    }
   ],
   "source": [
    "# Get a list of the keys:\n",
    "keys_ipl = ipl.keys()\n",
    "\n",
    "print(keys_ipl)"
   ]
  },
  {
   "cell_type": "markdown",
   "metadata": {
    "application/vnd.databricks.v1+cell": {
     "cellMetadata": {},
     "inputWidgets": {},
     "nuid": "5e396486-4933-4ed9-b9da-3b0cb13c25ba",
     "showTitle": false,
     "title": ""
    }
   },
   "source": [
    "**Get Values:**:\n",
    "- The **values()** method will return a list of all the values in the dictionary."
   ]
  },
  {
   "cell_type": "code",
   "execution_count": 0,
   "metadata": {
    "application/vnd.databricks.v1+cell": {
     "cellMetadata": {
      "byteLimit": 2048000,
      "rowLimit": 10000
     },
     "inputWidgets": {},
     "nuid": "a0140215-13ff-4ae9-8a58-489af146c914",
     "showTitle": false,
     "title": ""
    }
   },
   "outputs": [
    {
     "output_type": "stream",
     "name": "stdout",
     "output_type": "stream",
     "text": [
      "dict_values(['Chennai Super Kings', 'Mumbai Indians'])\n"
     ]
    }
   ],
   "source": [
    "values = ipl.values()\n",
    "\n",
    "print(values)"
   ]
  },
  {
   "cell_type": "markdown",
   "metadata": {
    "application/vnd.databricks.v1+cell": {
     "cellMetadata": {},
     "inputWidgets": {},
     "nuid": "81aed641-b81c-4824-acfc-316f5de36112",
     "showTitle": false,
     "title": ""
    }
   },
   "source": [
    "**Get Items:**\n",
    "- The items() method will return each item in a dictionary, as tuples in a list."
   ]
  },
  {
   "cell_type": "code",
   "execution_count": 0,
   "metadata": {
    "application/vnd.databricks.v1+cell": {
     "cellMetadata": {
      "byteLimit": 2048000,
      "rowLimit": 10000
     },
     "inputWidgets": {},
     "nuid": "e9b1ff75-e70c-4444-98dd-4b5de7ab694b",
     "showTitle": false,
     "title": ""
    }
   },
   "outputs": [
    {
     "output_type": "stream",
     "name": "stdout",
     "output_type": "stream",
     "text": [
      "dict_items([('CSK', 'Chennai Super Kings'), ('MI', 'Mumbai Indians')])\n"
     ]
    }
   ],
   "source": [
    "items = ipl.items()\n",
    "\n",
    "print(items)"
   ]
  },
  {
   "cell_type": "markdown",
   "metadata": {
    "application/vnd.databricks.v1+cell": {
     "cellMetadata": {},
     "inputWidgets": {},
     "nuid": "648b9a7a-b161-40fa-9660-db9b2f183996",
     "showTitle": false,
     "title": ""
    }
   },
   "source": [
    "**Check if Key Exists**\n",
    "- To determine if a specified key is present in a dictionary use the in keyword:"
   ]
  },
  {
   "cell_type": "code",
   "execution_count": 0,
   "metadata": {
    "application/vnd.databricks.v1+cell": {
     "cellMetadata": {
      "byteLimit": 2048000,
      "rowLimit": 10000
     },
     "inputWidgets": {},
     "nuid": "876d42ef-ad60-4dfc-8a39-282bc3e619c7",
     "showTitle": false,
     "title": ""
    }
   },
   "outputs": [
    {
     "output_type": "stream",
     "name": "stdout",
     "output_type": "stream",
     "text": [
      "Yes, 'CSK' is one of the keys in the ipl dictionary\n"
     ]
    }
   ],
   "source": [
    "if \"CSK\" in ipl:\n",
    "  print(\"Yes, 'CSK' is one of the keys in the ipl dictionary\")\n",
    "else:\n",
    "    print(\"CSK is not a key\")"
   ]
  },
  {
   "cell_type": "markdown",
   "metadata": {
    "application/vnd.databricks.v1+cell": {
     "cellMetadata": {},
     "inputWidgets": {},
     "nuid": "6be4fb25-99d7-4a88-9b92-3b0fe295c62a",
     "showTitle": false,
     "title": ""
    }
   },
   "source": [
    "###Adding or Updating or Changing Items"
   ]
  },
  {
   "cell_type": "markdown",
   "metadata": {
    "application/vnd.databricks.v1+cell": {
     "cellMetadata": {},
     "inputWidgets": {},
     "nuid": "64afbb96-3828-4fd2-b5ca-f3f17188c217",
     "showTitle": false,
     "title": ""
    }
   },
   "source": [
    "**Change Values**\n",
    "- You can change the value of a specific item by referring to its key name:"
   ]
  },
  {
   "cell_type": "code",
   "execution_count": 0,
   "metadata": {
    "application/vnd.databricks.v1+cell": {
     "cellMetadata": {
      "byteLimit": 2048000,
      "rowLimit": 10000
     },
     "inputWidgets": {},
     "nuid": "fc13208b-abe9-46cc-b063-2208131b3de7",
     "showTitle": false,
     "title": ""
    }
   },
   "outputs": [
    {
     "output_type": "stream",
     "name": "stdout",
     "output_type": "stream",
     "text": [
      "Before:  {'brand': 'Ford', 'model': 'Mustang', 'year': 1964}\nAfter  {'brand': 'Ford', 'model': 'Mustang', 'year': 2024}\n"
     ]
    }
   ],
   "source": [
    "cars = {\n",
    "  \"brand\": \"Ford\",\n",
    "  \"model\": \"Mustang\",\n",
    "  \"year\": 1964\n",
    "}\n",
    "\n",
    "print(\"Before: \", cars)\n",
    "\n",
    "cars[\"year\"] = 2024\n",
    "print(\"After \", cars)"
   ]
  },
  {
   "cell_type": "markdown",
   "metadata": {
    "application/vnd.databricks.v1+cell": {
     "cellMetadata": {},
     "inputWidgets": {},
     "nuid": "1828cd9c-5729-40d7-a33b-e66d0f4e8be3",
     "showTitle": false,
     "title": ""
    }
   },
   "source": [
    "**Update Dictionary**\n",
    "- The update() method will update the dictionary with the items from the given argument.\n",
    "- The argument must be a dictionary, or an iterable object with key:value pairs."
   ]
  },
  {
   "cell_type": "code",
   "execution_count": 0,
   "metadata": {
    "application/vnd.databricks.v1+cell": {
     "cellMetadata": {
      "byteLimit": 2048000,
      "rowLimit": 10000
     },
     "inputWidgets": {},
     "nuid": "eade5a50-1470-41e5-8a02-072110288329",
     "showTitle": false,
     "title": ""
    }
   },
   "outputs": [
    {
     "output_type": "stream",
     "name": "stdout",
     "output_type": "stream",
     "text": [
      "{'brand': 'Ford', 'model': 'Mustang', 'year': 2024}\n"
     ]
    }
   ],
   "source": [
    "# Update the \"year\" of the car by using the update() method:\n",
    "\n",
    "cars = {\n",
    "  \"brand\": \"Ford\",\n",
    "  \"model\": \"Mustang\",\n",
    "  \"year\": 1964\n",
    "}\n",
    "cars.update({\"year\": 2024})\n",
    "\n",
    "print(cars)"
   ]
  },
  {
   "cell_type": "code",
   "execution_count": 0,
   "metadata": {
    "application/vnd.databricks.v1+cell": {
     "cellMetadata": {
      "byteLimit": 2048000,
      "rowLimit": 10000
     },
     "inputWidgets": {},
     "nuid": "e0149578-4a5d-460c-95f2-476510c056d2",
     "showTitle": false,
     "title": ""
    }
   },
   "outputs": [
    {
     "output_type": "stream",
     "name": "stdout",
     "output_type": "stream",
     "text": [
      "Before:  {'brand': 'Ford', 'model': 'Mustang', 'year': 1964}\nAfter:  {'brand': 'Ford', 'model': 'Mustang', 'year': '2024', 'prize': '$800k'}\n"
     ]
    }
   ],
   "source": [
    "cars = {\n",
    "  \"brand\": \"Ford\",\n",
    "  \"model\": \"Mustang\",\n",
    "  \"year\": 1964\n",
    "}\n",
    "print(\"Before: \", cars)\n",
    "\n",
    "# Adding a new item\n",
    "cars['prize'] = '$800k'\n",
    "\n",
    "# Updating an existing item\n",
    "cars['year'] = '2024'\n",
    "\n",
    "print(\"After: \", cars)"
   ]
  },
  {
   "cell_type": "markdown",
   "metadata": {
    "application/vnd.databricks.v1+cell": {
     "cellMetadata": {},
     "inputWidgets": {},
     "nuid": "88298a13-15aa-4857-9e9a-5c6b5dfa2bd4",
     "showTitle": false,
     "title": ""
    }
   },
   "source": [
    "### Removing Items"
   ]
  },
  {
   "cell_type": "markdown",
   "metadata": {
    "application/vnd.databricks.v1+cell": {
     "cellMetadata": {},
     "inputWidgets": {},
     "nuid": "0868cc33-143c-4450-813c-bfd823d60d17",
     "showTitle": false,
     "title": ""
    }
   },
   "source": [
    "You can remove items using the **del** statement, the **pop()** method, or the **popitem()** method.\n",
    "\n"
   ]
  },
  {
   "cell_type": "markdown",
   "metadata": {
    "application/vnd.databricks.v1+cell": {
     "cellMetadata": {},
     "inputWidgets": {},
     "nuid": "9b303f41-91b5-4860-a77d-406864f3e547",
     "showTitle": false,
     "title": ""
    }
   },
   "source": [
    "**The pop()**\n",
    "- Method removes the item with the specified key name:"
   ]
  },
  {
   "cell_type": "code",
   "execution_count": 0,
   "metadata": {
    "application/vnd.databricks.v1+cell": {
     "cellMetadata": {
      "byteLimit": 2048000,
      "rowLimit": 10000
     },
     "inputWidgets": {},
     "nuid": "07069c46-481c-4891-b6cf-453468d8b584",
     "showTitle": false,
     "title": ""
    }
   },
   "outputs": [
    {
     "output_type": "stream",
     "name": "stdout",
     "output_type": "stream",
     "text": [
      "Before:  {'RCB': 'Virat Kohli', 'CSK': 'MSD', 'MI': 'Rohit Sharma'}\nAfter:  {'CSK': 'MSD', 'MI': 'Rohit Sharma'}\n"
     ]
    }
   ],
   "source": [
    "ipl_captains = {\n",
    "  \"RCB\": \"Virat Kohli\",\n",
    "  \"CSK\": \"MSD\",\n",
    "  \"MI\": \"Rohit Sharma\"\n",
    "}\n",
    "print(\"Before: \", ipl_captains)\n",
    "\n",
    "ipl_captains.pop(\"RCB\")\n",
    "print(\"After: \", ipl_captains)\n"
   ]
  },
  {
   "cell_type": "markdown",
   "metadata": {
    "application/vnd.databricks.v1+cell": {
     "cellMetadata": {},
     "inputWidgets": {},
     "nuid": "ef20b777-6b34-4354-b864-001affef9244",
     "showTitle": false,
     "title": ""
    }
   },
   "source": [
    "**The popitem()** \n",
    "- Method removes the last inserted item (in versions before 3.7, a random item is removed instead):"
   ]
  },
  {
   "cell_type": "code",
   "execution_count": 0,
   "metadata": {
    "application/vnd.databricks.v1+cell": {
     "cellMetadata": {
      "byteLimit": 2048000,
      "rowLimit": 10000
     },
     "inputWidgets": {},
     "nuid": "2251ff15-2f2e-47db-9c4a-610640946cac",
     "showTitle": false,
     "title": ""
    }
   },
   "outputs": [
    {
     "output_type": "stream",
     "name": "stdout",
     "output_type": "stream",
     "text": [
      "Before:  {'CSK': 'MSD', 'MI': 'Rohit Sharma', 'DC': 'Rishabh Pant', 'SRH': 'Pat Cummins'}\nAfter:  {'CSK': 'MSD', 'MI': 'Rohit Sharma', 'DC': 'Rishabh Pant'}\n"
     ]
    }
   ],
   "source": [
    "ipl_captains[\"DC\"] = \"Rishabh Pant\"\n",
    "ipl_captains[\"SRH\"] = \"Pat Cummins\"\n",
    "print(\"Before: \", ipl_captains)\n",
    "\n",
    "ipl_captains.popitem()\n",
    "print(\"After: \", ipl_captains)"
   ]
  },
  {
   "cell_type": "markdown",
   "metadata": {
    "application/vnd.databricks.v1+cell": {
     "cellMetadata": {},
     "inputWidgets": {},
     "nuid": "60455455-db98-4023-b0c8-272e3726aef3",
     "showTitle": false,
     "title": ""
    }
   },
   "source": [
    "**del keyword**\n",
    "- removes the item with the specified key name:"
   ]
  },
  {
   "cell_type": "code",
   "execution_count": 0,
   "metadata": {
    "application/vnd.databricks.v1+cell": {
     "cellMetadata": {
      "byteLimit": 2048000,
      "rowLimit": 10000
     },
     "inputWidgets": {},
     "nuid": "2e1a8917-96a4-4a3b-a9b4-d1d4b1e17e28",
     "showTitle": false,
     "title": ""
    }
   },
   "outputs": [
    {
     "output_type": "stream",
     "name": "stdout",
     "output_type": "stream",
     "text": [
      "Before:  {'brand': 'Ford', 'model': 'Mustang', 'year': 1964}\nAfter:  {'brand': 'Ford', 'year': 1964}\n"
     ]
    }
   ],
   "source": [
    "thisdict = {\n",
    "  \"brand\": \"Ford\",\n",
    "  \"model\": \"Mustang\",\n",
    "  \"year\": 1964\n",
    "}\n",
    "print(\"Before: \", thisdict)\n",
    "\n",
    "del thisdict[\"model\"]\n",
    "print(\"After: \", thisdict)"
   ]
  },
  {
   "cell_type": "code",
   "execution_count": 0,
   "metadata": {
    "application/vnd.databricks.v1+cell": {
     "cellMetadata": {
      "byteLimit": 2048000,
      "rowLimit": 10000
     },
     "inputWidgets": {},
     "nuid": "b8923d5b-bb4f-47a4-adc1-8e766ce55fd9",
     "showTitle": false,
     "title": ""
    }
   },
   "outputs": [
    {
     "output_type": "stream",
     "name": "stdout",
     "output_type": "stream",
     "text": [
      "Before:  {'brand': 'Ford', 'year': 1964}\nAfter:  {}\n"
     ]
    }
   ],
   "source": [
    "# The clear() method empties the dictionary:\n",
    "\n",
    "print(\"Before: \", thisdict)\n",
    "\n",
    "thisdict.clear()\n",
    "print(\"After: \", thisdict)"
   ]
  },
  {
   "cell_type": "markdown",
   "metadata": {
    "application/vnd.databricks.v1+cell": {
     "cellMetadata": {},
     "inputWidgets": {},
     "nuid": "2712c9a5-1166-4430-9251-c9def3b24436",
     "showTitle": false,
     "title": ""
    }
   },
   "source": [
    "###Nested Dictionaries\n",
    "\n",
    "A dictionary can contain dictionaries, this is called nested dictionaries."
   ]
  },
  {
   "cell_type": "code",
   "execution_count": 0,
   "metadata": {
    "application/vnd.databricks.v1+cell": {
     "cellMetadata": {
      "byteLimit": 2048000,
      "rowLimit": 10000
     },
     "inputWidgets": {},
     "nuid": "8ef7c7fa-3974-4319-9ac8-e92e0629b6a9",
     "showTitle": false,
     "title": ""
    }
   },
   "outputs": [],
   "source": [
    "ipl = {\n",
    "\"CSK\" : {\"Name\":\"Chennai Super Kings\",\"captain\":\"MSD\"},\n",
    "\"MI\" : {\"Name\":\"Mumbai Indians\",\"captain\":\"Rohit\"},\n",
    "\"RCB\" : {\"Name\":\"Royal Challengers bangalore\"}\n",
    "}"
   ]
  },
  {
   "cell_type": "code",
   "execution_count": 0,
   "metadata": {
    "application/vnd.databricks.v1+cell": {
     "cellMetadata": {
      "byteLimit": 2048000,
      "rowLimit": 10000
     },
     "inputWidgets": {},
     "nuid": "9bfe6ce7-c7cf-4233-b6e8-89af3d4ed5b2",
     "showTitle": false,
     "title": ""
    }
   },
   "outputs": [
    {
     "output_type": "stream",
     "name": "stdout",
     "output_type": "stream",
     "text": [
      "Out[31]: 'Rohit'"
     ]
    }
   ],
   "source": [
    "# print the captain name of MI\n",
    "ipl[\"MI\"][\"captain\"]"
   ]
  },
  {
   "cell_type": "code",
   "execution_count": 0,
   "metadata": {
    "application/vnd.databricks.v1+cell": {
     "cellMetadata": {
      "byteLimit": 2048000,
      "implicitDf": true,
      "rowLimit": 10000
     },
     "inputWidgets": {},
     "nuid": "5862f448-4e8f-4193-8e89-643f0afe56c6",
     "showTitle": false,
     "title": ""
    }
   },
   "outputs": [],
   "source": [
    "# Create a dictionary that contain three dictionaries:\n",
    "\n",
    "myfamily = {\n",
    "  \"child1\" : {\n",
    "    \"name\" : \"Emil\",\n",
    "    \"year\" : 2004\n",
    "  },\n",
    "  \"child2\" : {\n",
    "    \"name\" : \"Tobias\",\n",
    "    \"year\" : 2007\n",
    "  },\n",
    "  \"child3\" : {\n",
    "    \"name\" : \"Linus\",\n",
    "    \"year\" : 2011\n",
    "  }\n",
    "}"
   ]
  },
  {
   "cell_type": "code",
   "execution_count": 0,
   "metadata": {
    "application/vnd.databricks.v1+cell": {
     "cellMetadata": {
      "byteLimit": 2048000,
      "rowLimit": 10000
     },
     "inputWidgets": {},
     "nuid": "7ffd4a78-b656-4eb0-9fef-c2548b873e4c",
     "showTitle": false,
     "title": ""
    }
   },
   "outputs": [
    {
     "output_type": "stream",
     "name": "stdout",
     "output_type": "stream",
     "text": [
      "Out[29]: 'Tobias'"
     ]
    }
   ],
   "source": [
    "# Print the name of child 2:\n",
    "myfamily[\"child2\"][\"name\"]"
   ]
  },
  {
   "cell_type": "markdown",
   "metadata": {
    "application/vnd.databricks.v1+cell": {
     "cellMetadata": {},
     "inputWidgets": {},
     "nuid": "d4139510-dc87-4f12-b261-b17a15bcc5ed",
     "showTitle": false,
     "title": ""
    }
   },
   "source": [
    "###Loop Through a Dictionary"
   ]
  },
  {
   "cell_type": "code",
   "execution_count": 0,
   "metadata": {
    "application/vnd.databricks.v1+cell": {
     "cellMetadata": {
      "byteLimit": 2048000,
      "rowLimit": 10000
     },
     "inputWidgets": {},
     "nuid": "befa1eec-d636-4c6a-86fd-a8a43b33ca40",
     "showTitle": false,
     "title": ""
    }
   },
   "outputs": [],
   "source": [
    "thisdict = {\n",
    "  \"brand\": \"Ford\",\n",
    "  \"model\": \"Mustang\",\n",
    "  \"year\": 1964\n",
    "}"
   ]
  },
  {
   "cell_type": "code",
   "execution_count": 0,
   "metadata": {
    "application/vnd.databricks.v1+cell": {
     "cellMetadata": {
      "byteLimit": 2048000,
      "rowLimit": 10000
     },
     "inputWidgets": {},
     "nuid": "f600c82e-36db-4160-bb52-4fc6ac7a20af",
     "showTitle": false,
     "title": ""
    }
   },
   "outputs": [
    {
     "output_type": "stream",
     "name": "stdout",
     "output_type": "stream",
     "text": [
      "brand\nmodel\nyear\n"
     ]
    }
   ],
   "source": [
    "# When looping through a dictionary, the return value are the keys of the dictionary, but there are methods to return the values as well.\n",
    "\n",
    "for x in thisdict:\n",
    "    print(x)\n"
   ]
  },
  {
   "cell_type": "code",
   "execution_count": 0,
   "metadata": {
    "application/vnd.databricks.v1+cell": {
     "cellMetadata": {
      "byteLimit": 2048000,
      "rowLimit": 10000
     },
     "inputWidgets": {},
     "nuid": "94b0213f-bdce-4909-925c-c99f80a4ed78",
     "showTitle": false,
     "title": ""
    }
   },
   "outputs": [
    {
     "output_type": "stream",
     "name": "stdout",
     "output_type": "stream",
     "text": [
      "brand:Ford\nmodel:Mustang\nyear:1964\n"
     ]
    }
   ],
   "source": [
    "# Loop through both keys and values, by using the items() method:\n",
    "for x, y in thisdict.items():\n",
    "    print(f\"{x}:{y}\")"
   ]
  }
 ],
 "metadata": {
  "application/vnd.databricks.v1+notebook": {
   "dashboards": [],
   "environmentMetadata": null,
   "language": "python",
   "notebookMetadata": {
    "mostRecentlyExecutedCommandWithImplicitDF": {
     "commandId": -1,
     "dataframes": [
      "_sqldf"
     ]
    },
    "pythonIndentUnit": 4
   },
   "notebookName": "Dictionaries in python",
   "widgets": {}
  }
 },
 "nbformat": 4,
 "nbformat_minor": 0
}
