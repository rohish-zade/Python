{
 "cells": [
  {
   "cell_type": "markdown",
   "metadata": {
    "application/vnd.databricks.v1+cell": {
     "cellMetadata": {},
     "inputWidgets": {},
     "nuid": "e7c2cbb1-4c65-475e-96b0-91c3f6332aa0",
     "showTitle": false,
     "title": ""
    }
   },
   "source": [
    "##List Comprehension\n",
    "\n",
    "List comprehension offers a **shorter syntax** when you want to create a new list based on the values of an existing list."
   ]
  },
  {
   "cell_type": "markdown",
   "metadata": {
    "application/vnd.databricks.v1+cell": {
     "cellMetadata": {},
     "inputWidgets": {},
     "nuid": "5919285e-c31d-4358-8f99-16666640ce56",
     "showTitle": false,
     "title": ""
    }
   },
   "source": [
    "**Example:** Based on a list of teams, you want a new list, containing only the list whose lenght is greater than 2.\n"
   ]
  },
  {
   "cell_type": "code",
   "execution_count": 0,
   "metadata": {
    "application/vnd.databricks.v1+cell": {
     "cellMetadata": {
      "byteLimit": 2048000,
      "rowLimit": 10000
     },
     "inputWidgets": {},
     "nuid": "9d9bd1a2-a20b-42b5-a81a-056e9aa85cb9",
     "showTitle": false,
     "title": ""
    }
   },
   "outputs": [
    {
     "output_type": "stream",
     "name": "stdout",
     "output_type": "stream",
     "text": [
      "[3, 3, 3, 3]\n"
     ]
    }
   ],
   "source": [
    "# Without list comprehension you will have to write a for statement with a conditional test inside:\n",
    "ipl = [\"CSK\", \"MI\", \"KKR\",\"RCB\", \"SRH\", \"GT\"]\n",
    "ipl_len = []\n",
    "\n",
    "for team in ipl:\n",
    "    if len(team) > 2:\n",
    "        ipl_len.append(len(team))\n",
    "\n",
    "print(ipl_len)"
   ]
  },
  {
   "cell_type": "markdown",
   "metadata": {
    "application/vnd.databricks.v1+cell": {
     "cellMetadata": {},
     "inputWidgets": {},
     "nuid": "6abfc6c1-4d1b-4da3-92b9-96c7b0052cb1",
     "showTitle": false,
     "title": ""
    }
   },
   "source": [
    "With **list comprehension** you can do all that with only one line of code:"
   ]
  },
  {
   "cell_type": "code",
   "execution_count": 0,
   "metadata": {
    "application/vnd.databricks.v1+cell": {
     "cellMetadata": {
      "byteLimit": 2048000,
      "rowLimit": 10000
     },
     "inputWidgets": {},
     "nuid": "e02e3ca9-f97f-48a3-8cb3-527ab4be9cbc",
     "showTitle": false,
     "title": ""
    }
   },
   "outputs": [
    {
     "output_type": "stream",
     "name": "stdout",
     "output_type": "stream",
     "text": [
      "[3, 3, 3, 3]\n"
     ]
    }
   ],
   "source": [
    "ipl_len_com = [len(team) for team in ipl if len(team) > 2]\n",
    "print(ipl_len_com)"
   ]
  },
  {
   "cell_type": "markdown",
   "metadata": {
    "application/vnd.databricks.v1+cell": {
     "cellMetadata": {},
     "inputWidgets": {},
     "nuid": "454c6f6f-5d3d-47aa-a050-6920b88e8c7c",
     "showTitle": false,
     "title": ""
    }
   },
   "source": [
    "####The Syntax"
   ]
  },
  {
   "cell_type": "code",
   "execution_count": 0,
   "metadata": {
    "application/vnd.databricks.v1+cell": {
     "cellMetadata": {},
     "inputWidgets": {},
     "nuid": "5f65f495-48c3-412e-9025-0d2b6ad5f118",
     "showTitle": false,
     "title": ""
    }
   },
   "outputs": [],
   "source": [
    "newlist = [expression for item in iterable if condition == True]\n",
    "\n",
    "# The return value is a new list, leaving the old list unchanged."
   ]
  },
  {
   "cell_type": "markdown",
   "metadata": {
    "application/vnd.databricks.v1+cell": {
     "cellMetadata": {},
     "inputWidgets": {},
     "nuid": "203eb85e-a82e-4b28-b54b-f21b12a6bb2b",
     "showTitle": false,
     "title": ""
    }
   },
   "source": [
    "**Condition:**\n",
    "- The condition is like a filter that only accepts the items that valuate to True.\n",
    "- The condition is optional and can be omitted:\n",
    "\n",
    "**Iterable:**\n",
    "- The iterable can be any iterable object, like a list, tuple, set etc.\n",
    "\n",
    "**Expression:**\n",
    "- The expression is the current item in the iteration, but it is also the outcome, which you can manipulate before it ends up like a list item in the new list:"
   ]
  },
  {
   "cell_type": "code",
   "execution_count": 0,
   "metadata": {
    "application/vnd.databricks.v1+cell": {
     "cellMetadata": {
      "byteLimit": 2048000,
      "rowLimit": 10000
     },
     "inputWidgets": {},
     "nuid": "d6a6d8de-f915-4712-a794-b27b1f437c72",
     "showTitle": false,
     "title": ""
    }
   },
   "outputs": [
    {
     "output_type": "stream",
     "name": "stdout",
     "output_type": "stream",
     "text": [
      "['csk', 'mi', 'kkr', 'rcb', 'srh', 'gt']\n['CSK', 'MI', 'KKR', 'RCB', 'SRH', 'GT']\n"
     ]
    }
   ],
   "source": [
    "# Set the values in the new list to lower case: \n",
    "newlist = [x.lower() for x in ipl]\n",
    "print(newlist)\n",
    "\n",
    "# Return \"LSG\" instead of \"MI\":\n",
    "newlist = [x if x != \"MI\" else \"LSG\" for x in ipl] \n",
    "\n",
    "# The expression in the example above says:\n",
    "# \"Return the item if it is not MI, if it is MI return LSG\".\n",
    "\n",
    "print(newlist)"
   ]
  }
 ],
 "metadata": {
  "application/vnd.databricks.v1+notebook": {
   "dashboards": [],
   "environmentMetadata": null,
   "language": "python",
   "notebookMetadata": {
    "pythonIndentUnit": 4
   },
   "notebookName": "List Comprehensions",
   "widgets": {}
  }
 },
 "nbformat": 4,
 "nbformat_minor": 0
}
