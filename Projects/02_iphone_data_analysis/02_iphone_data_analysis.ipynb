{
 "cells": [
  {
   "cell_type": "markdown",
   "id": "f58687fd-f485-4b6e-aa0a-561d3c1a77b1",
   "metadata": {},
   "source": [
    "##### Note : Read the iphone.csv dataset to pandas dataframe"
   ]
  },
  {
   "cell_type": "code",
   "execution_count": 1,
   "id": "46e318aa-98be-433c-9cc9-eb378a954f74",
   "metadata": {},
   "outputs": [],
   "source": [
    "import pandas as pd"
   ]
  },
  {
   "cell_type": "code",
   "execution_count": 2,
   "id": "ab44b192-73b2-4aec-9a25-c7cf27014564",
   "metadata": {},
   "outputs": [
    {
     "data": {
      "text/html": [
       "<div>\n",
       "<style scoped>\n",
       "    .dataframe tbody tr th:only-of-type {\n",
       "        vertical-align: middle;\n",
       "    }\n",
       "\n",
       "    .dataframe tbody tr th {\n",
       "        vertical-align: top;\n",
       "    }\n",
       "\n",
       "    .dataframe thead th {\n",
       "        text-align: right;\n",
       "    }\n",
       "</style>\n",
       "<table border=\"1\" class=\"dataframe\">\n",
       "  <thead>\n",
       "    <tr style=\"text-align: right;\">\n",
       "      <th></th>\n",
       "      <th>Product Name</th>\n",
       "      <th>Product URL</th>\n",
       "      <th>Brand</th>\n",
       "      <th>Sale Price</th>\n",
       "      <th>Mrp</th>\n",
       "      <th>Number Of Ratings</th>\n",
       "      <th>Number Of Reviews</th>\n",
       "      <th>Upc</th>\n",
       "      <th>Star Rating</th>\n",
       "      <th>Ram</th>\n",
       "    </tr>\n",
       "  </thead>\n",
       "  <tbody>\n",
       "    <tr>\n",
       "      <th>0</th>\n",
       "      <td>APPLE iPhone 8 Plus (Gold, 64 GB)</td>\n",
       "      <td>https://www.flipkart.com/apple-iphone-8-plus-g...</td>\n",
       "      <td>Apple</td>\n",
       "      <td>49900</td>\n",
       "      <td>49900</td>\n",
       "      <td>3431</td>\n",
       "      <td>356</td>\n",
       "      <td>MOBEXRGV7EHHTGUH</td>\n",
       "      <td>4.6</td>\n",
       "      <td>2 GB</td>\n",
       "    </tr>\n",
       "    <tr>\n",
       "      <th>1</th>\n",
       "      <td>APPLE iPhone 8 Plus (Space Grey, 256 GB)</td>\n",
       "      <td>https://www.flipkart.com/apple-iphone-8-plus-s...</td>\n",
       "      <td>Apple</td>\n",
       "      <td>84900</td>\n",
       "      <td>84900</td>\n",
       "      <td>3431</td>\n",
       "      <td>356</td>\n",
       "      <td>MOBEXRGVAC6TJT4F</td>\n",
       "      <td>4.6</td>\n",
       "      <td>2 GB</td>\n",
       "    </tr>\n",
       "    <tr>\n",
       "      <th>2</th>\n",
       "      <td>APPLE iPhone 8 Plus (Silver, 256 GB)</td>\n",
       "      <td>https://www.flipkart.com/apple-iphone-8-plus-s...</td>\n",
       "      <td>Apple</td>\n",
       "      <td>84900</td>\n",
       "      <td>84900</td>\n",
       "      <td>3431</td>\n",
       "      <td>356</td>\n",
       "      <td>MOBEXRGVGETABXWZ</td>\n",
       "      <td>4.6</td>\n",
       "      <td>2 GB</td>\n",
       "    </tr>\n",
       "    <tr>\n",
       "      <th>3</th>\n",
       "      <td>APPLE iPhone 8 (Silver, 256 GB)</td>\n",
       "      <td>https://www.flipkart.com/apple-iphone-8-silver...</td>\n",
       "      <td>Apple</td>\n",
       "      <td>77000</td>\n",
       "      <td>77000</td>\n",
       "      <td>11202</td>\n",
       "      <td>794</td>\n",
       "      <td>MOBEXRGVMZWUHCBA</td>\n",
       "      <td>NaN</td>\n",
       "      <td>2 GB</td>\n",
       "    </tr>\n",
       "    <tr>\n",
       "      <th>4</th>\n",
       "      <td>APPLE iPhone 8 (Gold, 256 GB)</td>\n",
       "      <td>https://www.flipkart.com/apple-iphone-8-gold-2...</td>\n",
       "      <td>Apple</td>\n",
       "      <td>77000</td>\n",
       "      <td>77000</td>\n",
       "      <td>11202</td>\n",
       "      <td>794</td>\n",
       "      <td>MOBEXRGVPK7PFEJZ</td>\n",
       "      <td>4.5</td>\n",
       "      <td>2 GB</td>\n",
       "    </tr>\n",
       "    <tr>\n",
       "      <th>...</th>\n",
       "      <td>...</td>\n",
       "      <td>...</td>\n",
       "      <td>...</td>\n",
       "      <td>...</td>\n",
       "      <td>...</td>\n",
       "      <td>...</td>\n",
       "      <td>...</td>\n",
       "      <td>...</td>\n",
       "      <td>...</td>\n",
       "      <td>...</td>\n",
       "    </tr>\n",
       "    <tr>\n",
       "      <th>57</th>\n",
       "      <td>APPLE iPhone SE (Black, 64 GB)</td>\n",
       "      <td>https://www.flipkart.com/apple-iphone-se-black...</td>\n",
       "      <td>Apple</td>\n",
       "      <td>29999</td>\n",
       "      <td>39900</td>\n",
       "      <td>95909</td>\n",
       "      <td>8161</td>\n",
       "      <td>MOBFWQ6BR3MK7AUG</td>\n",
       "      <td>4.5</td>\n",
       "      <td>4 GB</td>\n",
       "    </tr>\n",
       "    <tr>\n",
       "      <th>58</th>\n",
       "      <td>APPLE iPhone 11 (Purple, 64 GB)</td>\n",
       "      <td>https://www.flipkart.com/apple-iphone-11-purpl...</td>\n",
       "      <td>Apple</td>\n",
       "      <td>46999</td>\n",
       "      <td>54900</td>\n",
       "      <td>43470</td>\n",
       "      <td>3331</td>\n",
       "      <td>MOBFWQ6BTFFJKGKE</td>\n",
       "      <td>4.6</td>\n",
       "      <td>4 GB</td>\n",
       "    </tr>\n",
       "    <tr>\n",
       "      <th>59</th>\n",
       "      <td>APPLE iPhone 11 (White, 64 GB)</td>\n",
       "      <td>https://www.flipkart.com/apple-iphone-11-white...</td>\n",
       "      <td>Apple</td>\n",
       "      <td>46999</td>\n",
       "      <td>54900</td>\n",
       "      <td>43470</td>\n",
       "      <td>3331</td>\n",
       "      <td>MOBFWQ6BVWVEH3XE</td>\n",
       "      <td>4.6</td>\n",
       "      <td>4 GB</td>\n",
       "    </tr>\n",
       "    <tr>\n",
       "      <th>60</th>\n",
       "      <td>APPLE iPhone 11 (Black, 64 GB)</td>\n",
       "      <td>https://www.flipkart.com/apple-iphone-11-black...</td>\n",
       "      <td>Apple</td>\n",
       "      <td>46999</td>\n",
       "      <td>54900</td>\n",
       "      <td>43470</td>\n",
       "      <td>3331</td>\n",
       "      <td>MOBFWQ6BXGJCEYNY</td>\n",
       "      <td>4.6</td>\n",
       "      <td>4 GB</td>\n",
       "    </tr>\n",
       "    <tr>\n",
       "      <th>61</th>\n",
       "      <td>APPLE iPhone 11 (Red, 64 GB)</td>\n",
       "      <td>https://www.flipkart.com/apple-iphone-11-red-6...</td>\n",
       "      <td>Apple</td>\n",
       "      <td>46999</td>\n",
       "      <td>54900</td>\n",
       "      <td>43470</td>\n",
       "      <td>3331</td>\n",
       "      <td>MOBFWQ6BYYV3FCU7</td>\n",
       "      <td>4.6</td>\n",
       "      <td>4 GB</td>\n",
       "    </tr>\n",
       "  </tbody>\n",
       "</table>\n",
       "<p>62 rows × 10 columns</p>\n",
       "</div>"
      ],
      "text/plain": [
       "                                Product Name  \\\n",
       "0          APPLE iPhone 8 Plus (Gold, 64 GB)   \n",
       "1   APPLE iPhone 8 Plus (Space Grey, 256 GB)   \n",
       "2       APPLE iPhone 8 Plus (Silver, 256 GB)   \n",
       "3            APPLE iPhone 8 (Silver, 256 GB)   \n",
       "4              APPLE iPhone 8 (Gold, 256 GB)   \n",
       "..                                       ...   \n",
       "57            APPLE iPhone SE (Black, 64 GB)   \n",
       "58           APPLE iPhone 11 (Purple, 64 GB)   \n",
       "59            APPLE iPhone 11 (White, 64 GB)   \n",
       "60            APPLE iPhone 11 (Black, 64 GB)   \n",
       "61              APPLE iPhone 11 (Red, 64 GB)   \n",
       "\n",
       "                                          Product URL  Brand  Sale Price  \\\n",
       "0   https://www.flipkart.com/apple-iphone-8-plus-g...  Apple       49900   \n",
       "1   https://www.flipkart.com/apple-iphone-8-plus-s...  Apple       84900   \n",
       "2   https://www.flipkart.com/apple-iphone-8-plus-s...  Apple       84900   \n",
       "3   https://www.flipkart.com/apple-iphone-8-silver...  Apple       77000   \n",
       "4   https://www.flipkart.com/apple-iphone-8-gold-2...  Apple       77000   \n",
       "..                                                ...    ...         ...   \n",
       "57  https://www.flipkart.com/apple-iphone-se-black...  Apple       29999   \n",
       "58  https://www.flipkart.com/apple-iphone-11-purpl...  Apple       46999   \n",
       "59  https://www.flipkart.com/apple-iphone-11-white...  Apple       46999   \n",
       "60  https://www.flipkart.com/apple-iphone-11-black...  Apple       46999   \n",
       "61  https://www.flipkart.com/apple-iphone-11-red-6...  Apple       46999   \n",
       "\n",
       "      Mrp  Number Of Ratings  Number Of Reviews               Upc  \\\n",
       "0   49900               3431                356  MOBEXRGV7EHHTGUH   \n",
       "1   84900               3431                356  MOBEXRGVAC6TJT4F   \n",
       "2   84900               3431                356  MOBEXRGVGETABXWZ   \n",
       "3   77000              11202                794  MOBEXRGVMZWUHCBA   \n",
       "4   77000              11202                794  MOBEXRGVPK7PFEJZ   \n",
       "..    ...                ...                ...               ...   \n",
       "57  39900              95909               8161  MOBFWQ6BR3MK7AUG   \n",
       "58  54900              43470               3331  MOBFWQ6BTFFJKGKE   \n",
       "59  54900              43470               3331  MOBFWQ6BVWVEH3XE   \n",
       "60  54900              43470               3331  MOBFWQ6BXGJCEYNY   \n",
       "61  54900              43470               3331  MOBFWQ6BYYV3FCU7   \n",
       "\n",
       "    Star Rating   Ram  \n",
       "0           4.6  2 GB  \n",
       "1           4.6  2 GB  \n",
       "2           4.6  2 GB  \n",
       "3           NaN  2 GB  \n",
       "4           4.5  2 GB  \n",
       "..          ...   ...  \n",
       "57          4.5  4 GB  \n",
       "58          4.6  4 GB  \n",
       "59          4.6  4 GB  \n",
       "60          4.6  4 GB  \n",
       "61          4.6  4 GB  \n",
       "\n",
       "[62 rows x 10 columns]"
      ]
     },
     "execution_count": 2,
     "metadata": {},
     "output_type": "execute_result"
    }
   ],
   "source": [
    "df = pd.read_csv('iphone.csv')\n",
    "df"
   ]
  },
  {
   "cell_type": "markdown",
   "id": "b308a8bd-c9d7-4a08-b09b-a7ddbd800263",
   "metadata": {},
   "source": [
    "#"
   ]
  },
  {
   "cell_type": "markdown",
   "id": "37ad43f1-7b5f-4409-a535-b1a3d60c8251",
   "metadata": {},
   "source": [
    "#### 1. The column names have spaces . rename the column names to have underscore '_' instead of space (try to do in one go instead of specifying each column nam in rename method)"
   ]
  },
  {
   "cell_type": "code",
   "execution_count": 3,
   "id": "46ce857f-1bfd-4305-b22b-ee2364da1d67",
   "metadata": {},
   "outputs": [],
   "source": [
    "df.columns = [col_name.replace(' ', '_') for col_name in df.columns]\n",
    "\n",
    "# df.columns = df.columns.str.replace(' ', '_')"
   ]
  },
  {
   "cell_type": "code",
   "execution_count": 4,
   "id": "c13b873a-4e2e-4d2a-8fb6-b589402c3df3",
   "metadata": {},
   "outputs": [
    {
     "data": {
      "text/plain": [
       "Index(['Product_Name', 'Product_URL', 'Brand', 'Sale_Price', 'Mrp',\n",
       "       'Number_Of_Ratings', 'Number_Of_Reviews', 'Upc', 'Star_Rating', 'Ram'],\n",
       "      dtype='object')"
      ]
     },
     "execution_count": 4,
     "metadata": {},
     "output_type": "execute_result"
    }
   ],
   "source": [
    "df.columns"
   ]
  },
  {
   "cell_type": "markdown",
   "id": "23956a41-5899-4e2c-a871-520160d9d6d0",
   "metadata": {},
   "source": [
    "#"
   ]
  },
  {
   "cell_type": "markdown",
   "id": "493cf2dc-4df9-4b60-9832-6af2b5f0e1e0",
   "metadata": {},
   "source": [
    "#### 2. star rating for some of the models is missing in the dataset. fill those missing values with the average rating all the models."
   ]
  },
  {
   "cell_type": "code",
   "execution_count": 5,
   "id": "38627815-19b9-432f-8360-9179dc33db92",
   "metadata": {},
   "outputs": [
    {
     "data": {
      "text/plain": [
       "0     4.600000\n",
       "1     4.600000\n",
       "2     4.600000\n",
       "3     4.576271\n",
       "4     4.500000\n",
       "        ...   \n",
       "57    4.500000\n",
       "58    4.600000\n",
       "59    4.600000\n",
       "60    4.600000\n",
       "61    4.600000\n",
       "Name: Star_Rating, Length: 62, dtype: float64"
      ]
     },
     "execution_count": 5,
     "metadata": {},
     "output_type": "execute_result"
    }
   ],
   "source": [
    "df['Star_Rating'].fillna(value=df['Star_Rating'].mean())"
   ]
  },
  {
   "cell_type": "markdown",
   "id": "e713d356-d86e-4314-9692-1cfc832bb0f0",
   "metadata": {},
   "source": [
    "#"
   ]
  },
  {
   "cell_type": "markdown",
   "id": "9ce40c93-760d-4d10-9c51-e94cc10be7db",
   "metadata": {},
   "source": [
    "#### 3. Now instead of filling missing values with avg rating of full dataset , fill with avg rating based on RAM. example :  if rating for a 2 gb phone is missing then take average of all other 2 gb phones rating and fill that value. "
   ]
  },
  {
   "cell_type": "code",
   "execution_count": 6,
   "id": "bf5f3108-db45-43ba-95c9-c6219dd4f926",
   "metadata": {},
   "outputs": [],
   "source": [
    "# Calculate the average rating for each RAM group\n",
    "average_ratings_by_ram = df.groupby('Ram')['Star_Rating'].mean().reset_index()"
   ]
  },
  {
   "cell_type": "code",
   "execution_count": 7,
   "id": "0b4aa611-2438-4f14-a1af-85c4b4540b89",
   "metadata": {},
   "outputs": [],
   "source": [
    "# Rename the 'Star Rating' column to 'Average Rating' for clarity\n",
    "average_ratings_by_ram.rename(columns={'Star_Rating': 'Average_Rating'}, inplace=True)"
   ]
  },
  {
   "cell_type": "code",
   "execution_count": 8,
   "id": "5bfb3613-de49-45f3-8b0f-4d6dd065bfb9",
   "metadata": {},
   "outputs": [
    {
     "data": {
      "text/html": [
       "<div>\n",
       "<style scoped>\n",
       "    .dataframe tbody tr th:only-of-type {\n",
       "        vertical-align: middle;\n",
       "    }\n",
       "\n",
       "    .dataframe tbody tr th {\n",
       "        vertical-align: top;\n",
       "    }\n",
       "\n",
       "    .dataframe thead th {\n",
       "        text-align: right;\n",
       "    }\n",
       "</style>\n",
       "<table border=\"1\" class=\"dataframe\">\n",
       "  <thead>\n",
       "    <tr style=\"text-align: right;\">\n",
       "      <th></th>\n",
       "      <th>Ram</th>\n",
       "      <th>Average_Rating</th>\n",
       "    </tr>\n",
       "  </thead>\n",
       "  <tbody>\n",
       "    <tr>\n",
       "      <th>0</th>\n",
       "      <td>2 GB</td>\n",
       "      <td>4.541667</td>\n",
       "    </tr>\n",
       "    <tr>\n",
       "      <th>1</th>\n",
       "      <td>3 GB</td>\n",
       "      <td>4.600000</td>\n",
       "    </tr>\n",
       "    <tr>\n",
       "      <th>2</th>\n",
       "      <td>4 GB</td>\n",
       "      <td>4.589286</td>\n",
       "    </tr>\n",
       "    <tr>\n",
       "      <th>3</th>\n",
       "      <td>6 GB</td>\n",
       "      <td>4.577778</td>\n",
       "    </tr>\n",
       "  </tbody>\n",
       "</table>\n",
       "</div>"
      ],
      "text/plain": [
       "    Ram  Average_Rating\n",
       "0  2 GB        4.541667\n",
       "1  3 GB        4.600000\n",
       "2  4 GB        4.589286\n",
       "3  6 GB        4.577778"
      ]
     },
     "execution_count": 8,
     "metadata": {},
     "output_type": "execute_result"
    }
   ],
   "source": [
    "average_ratings_by_ram"
   ]
  },
  {
   "cell_type": "code",
   "execution_count": 9,
   "id": "07924cf2-6ca7-4ea5-9f21-94435cef3f94",
   "metadata": {},
   "outputs": [],
   "source": [
    "# Perform a left join to fill missing ratings based on RAM\n",
    "df = df.merge(average_ratings_by_ram, on='Ram', how='left')"
   ]
  },
  {
   "cell_type": "code",
   "execution_count": 10,
   "id": "22d202f7-3e9d-4049-8f5a-ced0d644c7a2",
   "metadata": {},
   "outputs": [
    {
     "name": "stderr",
     "output_type": "stream",
     "text": [
      "C:\\Users\\Demon Slayer\\AppData\\Local\\Temp\\ipykernel_6552\\1223086536.py:2: FutureWarning: A value is trying to be set on a copy of a DataFrame or Series through chained assignment using an inplace method.\n",
      "The behavior will change in pandas 3.0. This inplace method will never work because the intermediate object on which we are setting values always behaves as a copy.\n",
      "\n",
      "For example, when doing 'df[col].method(value, inplace=True)', try using 'df.method({col: value}, inplace=True)' or df[col] = df[col].method(value) instead, to perform the operation inplace on the original object.\n",
      "\n",
      "\n",
      "  df['Star_Rating'].fillna(df['Average_Rating'], inplace=True)\n"
     ]
    }
   ],
   "source": [
    "# Fill missing ratings with the calculated average ratings\n",
    "df['Star_Rating'].fillna(df['Average_Rating'], inplace=True)"
   ]
  },
  {
   "cell_type": "code",
   "execution_count": 11,
   "id": "bdf51973-a1e6-4abd-9f8d-669fc0179cd1",
   "metadata": {},
   "outputs": [],
   "source": [
    "# Drop the 'Average Rating' column if not needed\n",
    "df.drop(columns=['Average_Rating'], inplace=True)"
   ]
  },
  {
   "cell_type": "code",
   "execution_count": 12,
   "id": "80a99211-3436-4e97-9d3a-5a9485e02e86",
   "metadata": {},
   "outputs": [
    {
     "data": {
      "text/html": [
       "<div>\n",
       "<style scoped>\n",
       "    .dataframe tbody tr th:only-of-type {\n",
       "        vertical-align: middle;\n",
       "    }\n",
       "\n",
       "    .dataframe tbody tr th {\n",
       "        vertical-align: top;\n",
       "    }\n",
       "\n",
       "    .dataframe thead th {\n",
       "        text-align: right;\n",
       "    }\n",
       "</style>\n",
       "<table border=\"1\" class=\"dataframe\">\n",
       "  <thead>\n",
       "    <tr style=\"text-align: right;\">\n",
       "      <th></th>\n",
       "      <th>Product_Name</th>\n",
       "      <th>Product_URL</th>\n",
       "      <th>Brand</th>\n",
       "      <th>Sale_Price</th>\n",
       "      <th>Mrp</th>\n",
       "      <th>Number_Of_Ratings</th>\n",
       "      <th>Number_Of_Reviews</th>\n",
       "      <th>Upc</th>\n",
       "      <th>Star_Rating</th>\n",
       "      <th>Ram</th>\n",
       "    </tr>\n",
       "  </thead>\n",
       "  <tbody>\n",
       "  </tbody>\n",
       "</table>\n",
       "</div>"
      ],
      "text/plain": [
       "Empty DataFrame\n",
       "Columns: [Product_Name, Product_URL, Brand, Sale_Price, Mrp, Number_Of_Ratings, Number_Of_Reviews, Upc, Star_Rating, Ram]\n",
       "Index: []"
      ]
     },
     "execution_count": 12,
     "metadata": {},
     "output_type": "execute_result"
    }
   ],
   "source": [
    "# no NaN values\n",
    "df[df['Star_Rating'].isna()]"
   ]
  },
  {
   "cell_type": "markdown",
   "id": "e00c300c-27d7-4f35-9b79-822af2851643",
   "metadata": {},
   "source": [
    "#"
   ]
  },
  {
   "cell_type": "markdown",
   "id": "999979d5-e1e0-4018-a763-3b306a4286bd",
   "metadata": {},
   "source": [
    "#### 4. create a new column in the dataframe \"Discount_Percentage\" based on MRP and sale value"
   ]
  },
  {
   "cell_type": "code",
   "execution_count": 13,
   "id": "317e9ca3-42fc-4335-8e97-509f5833d8c9",
   "metadata": {},
   "outputs": [],
   "source": [
    "df['Discount_Percentage'] = ((df['Mrp'] - df['Sale_Price'])/df['Mrp']) * 100"
   ]
  },
  {
   "cell_type": "code",
   "execution_count": 14,
   "id": "192b5660-4b99-452c-9a71-12bd62601741",
   "metadata": {},
   "outputs": [
    {
     "data": {
      "text/html": [
       "<div>\n",
       "<style scoped>\n",
       "    .dataframe tbody tr th:only-of-type {\n",
       "        vertical-align: middle;\n",
       "    }\n",
       "\n",
       "    .dataframe tbody tr th {\n",
       "        vertical-align: top;\n",
       "    }\n",
       "\n",
       "    .dataframe thead th {\n",
       "        text-align: right;\n",
       "    }\n",
       "</style>\n",
       "<table border=\"1\" class=\"dataframe\">\n",
       "  <thead>\n",
       "    <tr style=\"text-align: right;\">\n",
       "      <th></th>\n",
       "      <th>Product_Name</th>\n",
       "      <th>Product_URL</th>\n",
       "      <th>Brand</th>\n",
       "      <th>Sale_Price</th>\n",
       "      <th>Mrp</th>\n",
       "      <th>Number_Of_Ratings</th>\n",
       "      <th>Number_Of_Reviews</th>\n",
       "      <th>Upc</th>\n",
       "      <th>Star_Rating</th>\n",
       "      <th>Ram</th>\n",
       "      <th>Discount_Percentage</th>\n",
       "    </tr>\n",
       "  </thead>\n",
       "  <tbody>\n",
       "    <tr>\n",
       "      <th>0</th>\n",
       "      <td>APPLE iPhone 8 Plus (Gold, 64 GB)</td>\n",
       "      <td>https://www.flipkart.com/apple-iphone-8-plus-g...</td>\n",
       "      <td>Apple</td>\n",
       "      <td>49900</td>\n",
       "      <td>49900</td>\n",
       "      <td>3431</td>\n",
       "      <td>356</td>\n",
       "      <td>MOBEXRGV7EHHTGUH</td>\n",
       "      <td>4.600000</td>\n",
       "      <td>2 GB</td>\n",
       "      <td>0.000000</td>\n",
       "    </tr>\n",
       "    <tr>\n",
       "      <th>1</th>\n",
       "      <td>APPLE iPhone 8 Plus (Space Grey, 256 GB)</td>\n",
       "      <td>https://www.flipkart.com/apple-iphone-8-plus-s...</td>\n",
       "      <td>Apple</td>\n",
       "      <td>84900</td>\n",
       "      <td>84900</td>\n",
       "      <td>3431</td>\n",
       "      <td>356</td>\n",
       "      <td>MOBEXRGVAC6TJT4F</td>\n",
       "      <td>4.600000</td>\n",
       "      <td>2 GB</td>\n",
       "      <td>0.000000</td>\n",
       "    </tr>\n",
       "    <tr>\n",
       "      <th>2</th>\n",
       "      <td>APPLE iPhone 8 Plus (Silver, 256 GB)</td>\n",
       "      <td>https://www.flipkart.com/apple-iphone-8-plus-s...</td>\n",
       "      <td>Apple</td>\n",
       "      <td>84900</td>\n",
       "      <td>84900</td>\n",
       "      <td>3431</td>\n",
       "      <td>356</td>\n",
       "      <td>MOBEXRGVGETABXWZ</td>\n",
       "      <td>4.600000</td>\n",
       "      <td>2 GB</td>\n",
       "      <td>0.000000</td>\n",
       "    </tr>\n",
       "    <tr>\n",
       "      <th>3</th>\n",
       "      <td>APPLE iPhone 8 (Silver, 256 GB)</td>\n",
       "      <td>https://www.flipkart.com/apple-iphone-8-silver...</td>\n",
       "      <td>Apple</td>\n",
       "      <td>77000</td>\n",
       "      <td>77000</td>\n",
       "      <td>11202</td>\n",
       "      <td>794</td>\n",
       "      <td>MOBEXRGVMZWUHCBA</td>\n",
       "      <td>4.541667</td>\n",
       "      <td>2 GB</td>\n",
       "      <td>0.000000</td>\n",
       "    </tr>\n",
       "    <tr>\n",
       "      <th>4</th>\n",
       "      <td>APPLE iPhone 8 (Gold, 256 GB)</td>\n",
       "      <td>https://www.flipkart.com/apple-iphone-8-gold-2...</td>\n",
       "      <td>Apple</td>\n",
       "      <td>77000</td>\n",
       "      <td>77000</td>\n",
       "      <td>11202</td>\n",
       "      <td>794</td>\n",
       "      <td>MOBEXRGVPK7PFEJZ</td>\n",
       "      <td>4.500000</td>\n",
       "      <td>2 GB</td>\n",
       "      <td>0.000000</td>\n",
       "    </tr>\n",
       "    <tr>\n",
       "      <th>...</th>\n",
       "      <td>...</td>\n",
       "      <td>...</td>\n",
       "      <td>...</td>\n",
       "      <td>...</td>\n",
       "      <td>...</td>\n",
       "      <td>...</td>\n",
       "      <td>...</td>\n",
       "      <td>...</td>\n",
       "      <td>...</td>\n",
       "      <td>...</td>\n",
       "      <td>...</td>\n",
       "    </tr>\n",
       "    <tr>\n",
       "      <th>57</th>\n",
       "      <td>APPLE iPhone SE (Black, 64 GB)</td>\n",
       "      <td>https://www.flipkart.com/apple-iphone-se-black...</td>\n",
       "      <td>Apple</td>\n",
       "      <td>29999</td>\n",
       "      <td>39900</td>\n",
       "      <td>95909</td>\n",
       "      <td>8161</td>\n",
       "      <td>MOBFWQ6BR3MK7AUG</td>\n",
       "      <td>4.500000</td>\n",
       "      <td>4 GB</td>\n",
       "      <td>24.814536</td>\n",
       "    </tr>\n",
       "    <tr>\n",
       "      <th>58</th>\n",
       "      <td>APPLE iPhone 11 (Purple, 64 GB)</td>\n",
       "      <td>https://www.flipkart.com/apple-iphone-11-purpl...</td>\n",
       "      <td>Apple</td>\n",
       "      <td>46999</td>\n",
       "      <td>54900</td>\n",
       "      <td>43470</td>\n",
       "      <td>3331</td>\n",
       "      <td>MOBFWQ6BTFFJKGKE</td>\n",
       "      <td>4.600000</td>\n",
       "      <td>4 GB</td>\n",
       "      <td>14.391621</td>\n",
       "    </tr>\n",
       "    <tr>\n",
       "      <th>59</th>\n",
       "      <td>APPLE iPhone 11 (White, 64 GB)</td>\n",
       "      <td>https://www.flipkart.com/apple-iphone-11-white...</td>\n",
       "      <td>Apple</td>\n",
       "      <td>46999</td>\n",
       "      <td>54900</td>\n",
       "      <td>43470</td>\n",
       "      <td>3331</td>\n",
       "      <td>MOBFWQ6BVWVEH3XE</td>\n",
       "      <td>4.600000</td>\n",
       "      <td>4 GB</td>\n",
       "      <td>14.391621</td>\n",
       "    </tr>\n",
       "    <tr>\n",
       "      <th>60</th>\n",
       "      <td>APPLE iPhone 11 (Black, 64 GB)</td>\n",
       "      <td>https://www.flipkart.com/apple-iphone-11-black...</td>\n",
       "      <td>Apple</td>\n",
       "      <td>46999</td>\n",
       "      <td>54900</td>\n",
       "      <td>43470</td>\n",
       "      <td>3331</td>\n",
       "      <td>MOBFWQ6BXGJCEYNY</td>\n",
       "      <td>4.600000</td>\n",
       "      <td>4 GB</td>\n",
       "      <td>14.391621</td>\n",
       "    </tr>\n",
       "    <tr>\n",
       "      <th>61</th>\n",
       "      <td>APPLE iPhone 11 (Red, 64 GB)</td>\n",
       "      <td>https://www.flipkart.com/apple-iphone-11-red-6...</td>\n",
       "      <td>Apple</td>\n",
       "      <td>46999</td>\n",
       "      <td>54900</td>\n",
       "      <td>43470</td>\n",
       "      <td>3331</td>\n",
       "      <td>MOBFWQ6BYYV3FCU7</td>\n",
       "      <td>4.600000</td>\n",
       "      <td>4 GB</td>\n",
       "      <td>14.391621</td>\n",
       "    </tr>\n",
       "  </tbody>\n",
       "</table>\n",
       "<p>62 rows × 11 columns</p>\n",
       "</div>"
      ],
      "text/plain": [
       "                                Product_Name  \\\n",
       "0          APPLE iPhone 8 Plus (Gold, 64 GB)   \n",
       "1   APPLE iPhone 8 Plus (Space Grey, 256 GB)   \n",
       "2       APPLE iPhone 8 Plus (Silver, 256 GB)   \n",
       "3            APPLE iPhone 8 (Silver, 256 GB)   \n",
       "4              APPLE iPhone 8 (Gold, 256 GB)   \n",
       "..                                       ...   \n",
       "57            APPLE iPhone SE (Black, 64 GB)   \n",
       "58           APPLE iPhone 11 (Purple, 64 GB)   \n",
       "59            APPLE iPhone 11 (White, 64 GB)   \n",
       "60            APPLE iPhone 11 (Black, 64 GB)   \n",
       "61              APPLE iPhone 11 (Red, 64 GB)   \n",
       "\n",
       "                                          Product_URL  Brand  Sale_Price  \\\n",
       "0   https://www.flipkart.com/apple-iphone-8-plus-g...  Apple       49900   \n",
       "1   https://www.flipkart.com/apple-iphone-8-plus-s...  Apple       84900   \n",
       "2   https://www.flipkart.com/apple-iphone-8-plus-s...  Apple       84900   \n",
       "3   https://www.flipkart.com/apple-iphone-8-silver...  Apple       77000   \n",
       "4   https://www.flipkart.com/apple-iphone-8-gold-2...  Apple       77000   \n",
       "..                                                ...    ...         ...   \n",
       "57  https://www.flipkart.com/apple-iphone-se-black...  Apple       29999   \n",
       "58  https://www.flipkart.com/apple-iphone-11-purpl...  Apple       46999   \n",
       "59  https://www.flipkart.com/apple-iphone-11-white...  Apple       46999   \n",
       "60  https://www.flipkart.com/apple-iphone-11-black...  Apple       46999   \n",
       "61  https://www.flipkart.com/apple-iphone-11-red-6...  Apple       46999   \n",
       "\n",
       "      Mrp  Number_Of_Ratings  Number_Of_Reviews               Upc  \\\n",
       "0   49900               3431                356  MOBEXRGV7EHHTGUH   \n",
       "1   84900               3431                356  MOBEXRGVAC6TJT4F   \n",
       "2   84900               3431                356  MOBEXRGVGETABXWZ   \n",
       "3   77000              11202                794  MOBEXRGVMZWUHCBA   \n",
       "4   77000              11202                794  MOBEXRGVPK7PFEJZ   \n",
       "..    ...                ...                ...               ...   \n",
       "57  39900              95909               8161  MOBFWQ6BR3MK7AUG   \n",
       "58  54900              43470               3331  MOBFWQ6BTFFJKGKE   \n",
       "59  54900              43470               3331  MOBFWQ6BVWVEH3XE   \n",
       "60  54900              43470               3331  MOBFWQ6BXGJCEYNY   \n",
       "61  54900              43470               3331  MOBFWQ6BYYV3FCU7   \n",
       "\n",
       "    Star_Rating   Ram  Discount_Percentage  \n",
       "0      4.600000  2 GB             0.000000  \n",
       "1      4.600000  2 GB             0.000000  \n",
       "2      4.600000  2 GB             0.000000  \n",
       "3      4.541667  2 GB             0.000000  \n",
       "4      4.500000  2 GB             0.000000  \n",
       "..          ...   ...                  ...  \n",
       "57     4.500000  4 GB            24.814536  \n",
       "58     4.600000  4 GB            14.391621  \n",
       "59     4.600000  4 GB            14.391621  \n",
       "60     4.600000  4 GB            14.391621  \n",
       "61     4.600000  4 GB            14.391621  \n",
       "\n",
       "[62 rows x 11 columns]"
      ]
     },
     "execution_count": 14,
     "metadata": {},
     "output_type": "execute_result"
    }
   ],
   "source": [
    "df"
   ]
  },
  {
   "cell_type": "markdown",
   "id": "b0e63d29-99e0-4338-aaa9-0acc6905577f",
   "metadata": {},
   "source": [
    "#"
   ]
  },
  {
   "cell_type": "markdown",
   "id": "80997c4e-b0f6-4611-8373-19da526eb535",
   "metadata": {},
   "source": [
    "#### 5. which model has highest percent discount ?"
   ]
  },
  {
   "cell_type": "code",
   "execution_count": 15,
   "id": "dcac4c52-4cc4-4093-8483-e9a30bb39fa3",
   "metadata": {},
   "outputs": [
    {
     "data": {
      "text/html": [
       "<div>\n",
       "<style scoped>\n",
       "    .dataframe tbody tr th:only-of-type {\n",
       "        vertical-align: middle;\n",
       "    }\n",
       "\n",
       "    .dataframe tbody tr th {\n",
       "        vertical-align: top;\n",
       "    }\n",
       "\n",
       "    .dataframe thead th {\n",
       "        text-align: right;\n",
       "    }\n",
       "</style>\n",
       "<table border=\"1\" class=\"dataframe\">\n",
       "  <thead>\n",
       "    <tr style=\"text-align: right;\">\n",
       "      <th></th>\n",
       "      <th>Product_Name</th>\n",
       "      <th>Discount_Percentage</th>\n",
       "    </tr>\n",
       "  </thead>\n",
       "  <tbody>\n",
       "    <tr>\n",
       "      <th>18</th>\n",
       "      <td>APPLE iPhone 11 Pro (Midnight Green, 64 GB)</td>\n",
       "      <td>29.644465</td>\n",
       "    </tr>\n",
       "  </tbody>\n",
       "</table>\n",
       "</div>"
      ],
      "text/plain": [
       "                                   Product_Name  Discount_Percentage\n",
       "18  APPLE iPhone 11 Pro (Midnight Green, 64 GB)            29.644465"
      ]
     },
     "execution_count": 15,
     "metadata": {},
     "output_type": "execute_result"
    }
   ],
   "source": [
    "# solution 1 \n",
    "df[df['Discount_Percentage'] == df['Discount_Percentage'].max()][['Product_Name','Discount_Percentage']]"
   ]
  },
  {
   "cell_type": "code",
   "execution_count": 16,
   "id": "171c1f5c-4c3c-4eba-8439-87b29328195c",
   "metadata": {},
   "outputs": [
    {
     "name": "stdout",
     "output_type": "stream",
     "text": [
      "model_with_highest_discount: APPLE iPhone 11 Pro (Midnight Green, 64 GB)\n",
      "highest_discount_percentage: 29.644465290806753\n"
     ]
    }
   ],
   "source": [
    "# solution 2 using sort\n",
    "sorted_df = df.sort_values(by='Discount_Percentage', ascending=False)\n",
    "\n",
    "# Get the model with the highest discount and its corresponding percentage\n",
    "model_with_highest_discount = sorted_df.iloc[0]['Product_Name']\n",
    "highest_discount_percentage = sorted_df.iloc[0]['Discount_Percentage']\n",
    "\n",
    "print('model_with_highest_discount:', model_with_highest_discount)\n",
    "print('highest_discount_percentage:', highest_discount_percentage)"
   ]
  },
  {
   "cell_type": "markdown",
   "id": "c98533c4-277a-474d-9d9a-786dcd61e1c4",
   "metadata": {},
   "source": [
    "#"
   ]
  },
  {
   "cell_type": "markdown",
   "id": "af1a677c-3419-47cc-85ef-ba8f33ea98a5",
   "metadata": {},
   "source": [
    "#### 6. find total no of models  each space configuration (128 GB , 64 GB etc)"
   ]
  },
  {
   "cell_type": "code",
   "execution_count": 87,
   "id": "b4b62cb9-c02f-4e66-974c-2a0964b9c3f5",
   "metadata": {},
   "outputs": [],
   "source": [
    "# create column with storage space\n",
    "df['Storage_space'] = [name[-7:-1].strip() for name in df['Product_Name'].to_list()]"
   ]
  },
  {
   "cell_type": "code",
   "execution_count": 88,
   "id": "a1e89046-534e-4b9f-89e6-5f5f72de9400",
   "metadata": {},
   "outputs": [
    {
     "data": {
      "text/plain": [
       "Storage_space\n",
       "128 GB    24\n",
       "256 GB    14\n",
       "512 GB     4\n",
       "64 GB     20\n",
       "Name: Product_Name, dtype: int64"
      ]
     },
     "execution_count": 88,
     "metadata": {},
     "output_type": "execute_result"
    }
   ],
   "source": [
    "#  find total number of products for each space configuration\n",
    "df.groupby('Storage_space')[\"Product_Name\"].count()"
   ]
  },
  {
   "cell_type": "code",
   "execution_count": 89,
   "id": "33cbdcf9-bdc8-41d5-8428-9ea86f7beae2",
   "metadata": {},
   "outputs": [],
   "source": [
    " # Drop the 'Storage_name' column if not needed\n",
    "# df.drop(columns=['Storage_space'], inplace=True)"
   ]
  },
  {
   "cell_type": "markdown",
   "id": "aa0e86f2-4039-4b39-bbbd-b91af07f1dde",
   "metadata": {},
   "source": [
    "#"
   ]
  },
  {
   "cell_type": "markdown",
   "id": "a91dc16d-0f22-44d4-b59f-0ba931d91c99",
   "metadata": {},
   "source": [
    "#### 7. find total number of models for each color "
   ]
  },
  {
   "cell_type": "code",
   "execution_count": 23,
   "id": "634b481a-eb4f-43e5-9d53-e59621e00c48",
   "metadata": {},
   "outputs": [],
   "source": [
    "# Define a function to extract color based on a pattern\n",
    "def extract_color(product_name):\n",
    "    # Split the product name by '(' and ')' to get parts within parentheses\n",
    "    product_split = product_name.split('(')[1]\n",
    "\n",
    "    if len(product_split) > 1:\n",
    "        # Check if the second part contains a comma (,) to identify color\n",
    "        color = product_split.split(',')[0].strip()\n",
    "        return color\n",
    "    return None\n",
    "    "
   ]
  },
  {
   "cell_type": "code",
   "execution_count": 28,
   "id": "6696d2f2-ca8b-4944-9f00-6b5bde94820c",
   "metadata": {},
   "outputs": [],
   "source": [
    "# Apply the extract_color function to create a 'Color' column\n",
    "df['Color'] = df['Product_Name'].apply(extract_color)"
   ]
  },
  {
   "cell_type": "code",
   "execution_count": 29,
   "id": "b7f529aa-79b6-433f-9fad-95aa1d34c04e",
   "metadata": {},
   "outputs": [
    {
     "data": {
      "text/plain": [
       "Color\n",
       "Black             10\n",
       "Blue               2\n",
       "Coral              1\n",
       "Gold               6\n",
       "Graphite           4\n",
       "Green              1\n",
       "Midnight Green     4\n",
       "Pacific Blue       4\n",
       "Purple             1\n",
       "RED                1\n",
       "Red                5\n",
       "Silver             7\n",
       "Space Grey         6\n",
       "White             10\n",
       "Name: Product_Name, dtype: int64"
      ]
     },
     "execution_count": 29,
     "metadata": {},
     "output_type": "execute_result"
    }
   ],
   "source": [
    "# Count the number of models for each color\n",
    "df.groupby(\"Color\")['Product_Name'].count()"
   ]
  },
  {
   "cell_type": "code",
   "execution_count": 30,
   "id": "43b0365d-22f2-43d1-be4a-93a340c07184",
   "metadata": {},
   "outputs": [
    {
     "data": {
      "text/html": [
       "<div>\n",
       "<style scoped>\n",
       "    .dataframe tbody tr th:only-of-type {\n",
       "        vertical-align: middle;\n",
       "    }\n",
       "\n",
       "    .dataframe tbody tr th {\n",
       "        vertical-align: top;\n",
       "    }\n",
       "\n",
       "    .dataframe thead th {\n",
       "        text-align: right;\n",
       "    }\n",
       "</style>\n",
       "<table border=\"1\" class=\"dataframe\">\n",
       "  <thead>\n",
       "    <tr style=\"text-align: right;\">\n",
       "      <th></th>\n",
       "      <th>Color</th>\n",
       "      <th>count</th>\n",
       "    </tr>\n",
       "  </thead>\n",
       "  <tbody>\n",
       "    <tr>\n",
       "      <th>0</th>\n",
       "      <td>Black</td>\n",
       "      <td>10</td>\n",
       "    </tr>\n",
       "    <tr>\n",
       "      <th>1</th>\n",
       "      <td>White</td>\n",
       "      <td>10</td>\n",
       "    </tr>\n",
       "    <tr>\n",
       "      <th>2</th>\n",
       "      <td>Silver</td>\n",
       "      <td>7</td>\n",
       "    </tr>\n",
       "    <tr>\n",
       "      <th>3</th>\n",
       "      <td>Space Grey</td>\n",
       "      <td>6</td>\n",
       "    </tr>\n",
       "    <tr>\n",
       "      <th>4</th>\n",
       "      <td>Gold</td>\n",
       "      <td>6</td>\n",
       "    </tr>\n",
       "    <tr>\n",
       "      <th>5</th>\n",
       "      <td>Red</td>\n",
       "      <td>5</td>\n",
       "    </tr>\n",
       "    <tr>\n",
       "      <th>6</th>\n",
       "      <td>Graphite</td>\n",
       "      <td>4</td>\n",
       "    </tr>\n",
       "    <tr>\n",
       "      <th>7</th>\n",
       "      <td>Midnight Green</td>\n",
       "      <td>4</td>\n",
       "    </tr>\n",
       "    <tr>\n",
       "      <th>8</th>\n",
       "      <td>Pacific Blue</td>\n",
       "      <td>4</td>\n",
       "    </tr>\n",
       "    <tr>\n",
       "      <th>9</th>\n",
       "      <td>Blue</td>\n",
       "      <td>2</td>\n",
       "    </tr>\n",
       "    <tr>\n",
       "      <th>10</th>\n",
       "      <td>Coral</td>\n",
       "      <td>1</td>\n",
       "    </tr>\n",
       "    <tr>\n",
       "      <th>11</th>\n",
       "      <td>RED</td>\n",
       "      <td>1</td>\n",
       "    </tr>\n",
       "    <tr>\n",
       "      <th>12</th>\n",
       "      <td>Green</td>\n",
       "      <td>1</td>\n",
       "    </tr>\n",
       "    <tr>\n",
       "      <th>13</th>\n",
       "      <td>Purple</td>\n",
       "      <td>1</td>\n",
       "    </tr>\n",
       "  </tbody>\n",
       "</table>\n",
       "</div>"
      ],
      "text/plain": [
       "             Color  count\n",
       "0            Black     10\n",
       "1            White     10\n",
       "2           Silver      7\n",
       "3       Space Grey      6\n",
       "4             Gold      6\n",
       "5              Red      5\n",
       "6         Graphite      4\n",
       "7   Midnight Green      4\n",
       "8     Pacific Blue      4\n",
       "9             Blue      2\n",
       "10           Coral      1\n",
       "11             RED      1\n",
       "12           Green      1\n",
       "13          Purple      1"
      ]
     },
     "execution_count": 30,
     "metadata": {},
     "output_type": "execute_result"
    }
   ],
   "source": [
    "# Count the number of models for each color\n",
    "color_counts = df['Color'].value_counts().reset_index()\n",
    "color_counts"
   ]
  },
  {
   "cell_type": "markdown",
   "id": "44ed4ede-2a2d-4cc4-a9e3-3db82b7ba03c",
   "metadata": {},
   "source": [
    "#"
   ]
  },
  {
   "cell_type": "markdown",
   "id": "a2f94935-6d1f-4f5e-8cbf-c8c15e0c5b41",
   "metadata": {},
   "source": [
    "#### 8. find total number of models by iphone version : eg\n",
    "iphone 8:  9\n",
    "\n",
    "iphone XR : 5\n",
    "\n",
    "so on.."
   ]
  },
  {
   "cell_type": "code",
   "execution_count": 31,
   "id": "a3196e03-898b-4c20-b008-a7e5dfa97feb",
   "metadata": {},
   "outputs": [],
   "source": [
    "# Define a function to iphone version based on a pattern\n",
    "def extract_version(product_name):\n",
    "    # Split the product name by '(' and ')' to get parts within parentheses\n",
    "    product_split = product_name.split('iPhone')\n",
    "        \n",
    "    if len(product_split) > 1:\n",
    "        # Check if the second part contains a comma (,) to identify color\n",
    "        version = product_split[1].strip().split(' ')[0]\n",
    "        return 'iphone ' + version\n",
    "    return None"
   ]
  },
  {
   "cell_type": "code",
   "execution_count": 32,
   "id": "380dd7ca-8b0d-4112-86f6-c9e11f4c5d89",
   "metadata": {},
   "outputs": [],
   "source": [
    "# Apply the extract_color function to create a 'Version' column\n",
    "df['Version'] = df['Product_Name'].apply(extract_version)"
   ]
  },
  {
   "cell_type": "code",
   "execution_count": 33,
   "id": "0101596e-2b2c-41ac-9ef3-5414d2a5553e",
   "metadata": {},
   "outputs": [
    {
     "data": {
      "text/html": [
       "<div>\n",
       "<style scoped>\n",
       "    .dataframe tbody tr th:only-of-type {\n",
       "        vertical-align: middle;\n",
       "    }\n",
       "\n",
       "    .dataframe tbody tr th {\n",
       "        vertical-align: top;\n",
       "    }\n",
       "\n",
       "    .dataframe thead th {\n",
       "        text-align: right;\n",
       "    }\n",
       "</style>\n",
       "<table border=\"1\" class=\"dataframe\">\n",
       "  <thead>\n",
       "    <tr style=\"text-align: right;\">\n",
       "      <th></th>\n",
       "      <th>Version</th>\n",
       "      <th>count</th>\n",
       "    </tr>\n",
       "  </thead>\n",
       "  <tbody>\n",
       "    <tr>\n",
       "      <th>0</th>\n",
       "      <td>iphone 12</td>\n",
       "      <td>26</td>\n",
       "    </tr>\n",
       "    <tr>\n",
       "      <th>1</th>\n",
       "      <td>iphone 11</td>\n",
       "      <td>16</td>\n",
       "    </tr>\n",
       "    <tr>\n",
       "      <th>2</th>\n",
       "      <td>iphone 8</td>\n",
       "      <td>8</td>\n",
       "    </tr>\n",
       "    <tr>\n",
       "      <th>3</th>\n",
       "      <td>iphone SE</td>\n",
       "      <td>6</td>\n",
       "    </tr>\n",
       "    <tr>\n",
       "      <th>4</th>\n",
       "      <td>iphone XR</td>\n",
       "      <td>5</td>\n",
       "    </tr>\n",
       "    <tr>\n",
       "      <th>5</th>\n",
       "      <td>iphone XS</td>\n",
       "      <td>1</td>\n",
       "    </tr>\n",
       "  </tbody>\n",
       "</table>\n",
       "</div>"
      ],
      "text/plain": [
       "     Version  count\n",
       "0  iphone 12     26\n",
       "1  iphone 11     16\n",
       "2   iphone 8      8\n",
       "3  iphone SE      6\n",
       "4  iphone XR      5\n",
       "5  iphone XS      1"
      ]
     },
     "execution_count": 33,
     "metadata": {},
     "output_type": "execute_result"
    }
   ],
   "source": [
    "# Count the number of models for each version\n",
    "version_counts = df['Version'].value_counts().reset_index()\n",
    "version_counts"
   ]
  },
  {
   "cell_type": "markdown",
   "id": "c0e807ff-cd92-48a8-9f89-607ca110c322",
   "metadata": {},
   "source": [
    "#"
   ]
  },
  {
   "cell_type": "markdown",
   "id": "60b7c232-4a9d-45ad-ba69-161be7508b40",
   "metadata": {},
   "source": [
    "#### 9. list top 5 models having highest no of reviews "
   ]
  },
  {
   "cell_type": "code",
   "execution_count": 34,
   "id": "9af160e4-622c-4fb4-97e8-938e03c917ad",
   "metadata": {},
   "outputs": [],
   "source": [
    "review_df = df.sort_values(by ='Number_Of_Reviews', ascending=False)"
   ]
  },
  {
   "cell_type": "markdown",
   "id": "2b9139c1-dc17-4ab6-a150-0fa1d04eb1ca",
   "metadata": {},
   "source": [
    "#"
   ]
  },
  {
   "cell_type": "markdown",
   "id": "81da9c8b-23c6-40ae-a095-a852a50bd460",
   "metadata": {},
   "source": [
    "#### 10. what is the price diffrence between highest price and lowest price iphone (based on mrp)"
   ]
  },
  {
   "cell_type": "code",
   "execution_count": 36,
   "id": "6b95f6bc-cca8-43cc-8914-600c7d886621",
   "metadata": {},
   "outputs": [],
   "source": [
    "prize_difference  = df['Mrp'].max() - df['Mrp'].min()"
   ]
  },
  {
   "cell_type": "code",
   "execution_count": 37,
   "id": "660bcb10-3909-4576-a6be-883740d3722a",
   "metadata": {},
   "outputs": [
    {
     "name": "stdout",
     "output_type": "stream",
     "text": [
      "prize_difference: 110000\n"
     ]
    }
   ],
   "source": [
    "print('prize_difference:', prize_difference)"
   ]
  },
  {
   "cell_type": "markdown",
   "id": "045b9719-6f2f-443d-83bd-5349f21e4fbf",
   "metadata": {},
   "source": [
    "#"
   ]
  },
  {
   "cell_type": "markdown",
   "id": "7de3f169-62b4-4ee7-85ae-72a55524209a",
   "metadata": {},
   "source": [
    "#### 11. find total no of reviews for iphone 11 and iphone 12 category . Output should have only 2 rows (for 11 and 12)."
   ]
  },
  {
   "cell_type": "code",
   "execution_count": 69,
   "id": "1c21b26c-e4b0-4258-872f-dbe718bf77bd",
   "metadata": {},
   "outputs": [],
   "source": [
    "# Filter the DataFrame for iPhone 11 and iPhone 12 categories\n",
    "iphone_11_reviews = df[df['Product_Name'].str.contains('iPhone 11', case=False)]\n",
    "iphone_12_reviews = df[df['Product_Name'].str.contains('iPhone 12', case=False)]\n"
   ]
  },
  {
   "cell_type": "code",
   "execution_count": 70,
   "id": "ab9b8029-2c24-46b1-ae31-fd826f57441b",
   "metadata": {},
   "outputs": [],
   "source": [
    "# Calculate the total number of reviews for each category\n",
    "total_reviews_11 = iphone_11_reviews['Number_Of_Reviews'].sum()\n",
    "total_reviews_12 = iphone_12_reviews['Number_Of_Reviews'].sum()"
   ]
  },
  {
   "cell_type": "code",
   "execution_count": 71,
   "id": "7eaa934d-3efb-4a9b-941d-6c94ed615aca",
   "metadata": {},
   "outputs": [],
   "source": [
    "# Create a new DataFrame with the results\n",
    "result_df = pd.DataFrame({\n",
    "    'iPhone Category': ['iPhone 11', 'iPhone 12'],\n",
    "    'Total Reviews': [total_reviews_11, total_reviews_12]\n",
    "})"
   ]
  },
  {
   "cell_type": "code",
   "execution_count": 72,
   "id": "938e157e-2466-487a-86d9-ad6176ca04e7",
   "metadata": {},
   "outputs": [
    {
     "data": {
      "text/html": [
       "<div>\n",
       "<style scoped>\n",
       "    .dataframe tbody tr th:only-of-type {\n",
       "        vertical-align: middle;\n",
       "    }\n",
       "\n",
       "    .dataframe tbody tr th {\n",
       "        vertical-align: top;\n",
       "    }\n",
       "\n",
       "    .dataframe thead th {\n",
       "        text-align: right;\n",
       "    }\n",
       "</style>\n",
       "<table border=\"1\" class=\"dataframe\">\n",
       "  <thead>\n",
       "    <tr style=\"text-align: right;\">\n",
       "      <th></th>\n",
       "      <th>iPhone Category</th>\n",
       "      <th>Total Reviews</th>\n",
       "    </tr>\n",
       "  </thead>\n",
       "  <tbody>\n",
       "    <tr>\n",
       "      <th>0</th>\n",
       "      <td>iPhone 11</td>\n",
       "      <td>25965</td>\n",
       "    </tr>\n",
       "    <tr>\n",
       "      <th>1</th>\n",
       "      <td>iPhone 12</td>\n",
       "      <td>2208</td>\n",
       "    </tr>\n",
       "  </tbody>\n",
       "</table>\n",
       "</div>"
      ],
      "text/plain": [
       "  iPhone Category  Total Reviews\n",
       "0       iPhone 11          25965\n",
       "1       iPhone 12           2208"
      ]
     },
     "execution_count": 72,
     "metadata": {},
     "output_type": "execute_result"
    }
   ],
   "source": [
    "result_df"
   ]
  },
  {
   "cell_type": "markdown",
   "id": "ff5e9c65-dc50-4f5c-9eb5-06f2f47087d4",
   "metadata": {},
   "source": [
    "#"
   ]
  },
  {
   "cell_type": "markdown",
   "id": "0f0f6e49-c807-4917-b37f-db90bfc69b23",
   "metadata": {},
   "source": [
    "#### 12. which iphone has 3rd highest MRP"
   ]
  },
  {
   "cell_type": "code",
   "execution_count": 77,
   "id": "9ca820e4-4abd-4fdc-bf01-7a3d0b686819",
   "metadata": {},
   "outputs": [],
   "source": [
    "sorted_mrp_df = df.sort_values(by='Mrp', ascending=False).reset_index(drop=True)"
   ]
  },
  {
   "cell_type": "code",
   "execution_count": 79,
   "id": "63431077-3531-41ea-9f3d-3a6d5b3bf645",
   "metadata": {},
   "outputs": [],
   "source": [
    "# Get the iPhone with the 3rd highest MRP\n",
    "third_highest_mrp_iphone = sorted_mrp_df.loc[2]"
   ]
  },
  {
   "cell_type": "code",
   "execution_count": 80,
   "id": "808790ad-5c02-4487-8991-bb6867ce9ea2",
   "metadata": {},
   "outputs": [
    {
     "name": "stdout",
     "output_type": "stream",
     "text": [
      "Product_Name                    APPLE iPhone 11 Pro (Space Grey, 512 GB)\n",
      "Product_URL            https://www.flipkart.com/apple-iphone-11-pro-s...\n",
      "Brand                                                              Apple\n",
      "Sale_Price                                                        117900\n",
      "Mrp                                                               140300\n",
      "Number_Of_Ratings                                                   7088\n",
      "Number_Of_Reviews                                                    523\n",
      "Upc                                                     MOBFKCTSRTHRQTFT\n",
      "Star_Rating                                                          4.6\n",
      "Ram                                                                 4 GB\n",
      "Discount_Percentage                                            15.965788\n",
      "Color                                                         Space Grey\n",
      "Version                                                        iphone 11\n",
      "Name: 2, dtype: object\n"
     ]
    }
   ],
   "source": [
    "print(third_highest_mrp_iphone)"
   ]
  },
  {
   "cell_type": "markdown",
   "id": "9bb1bfed-7c9f-4f58-a597-589834638516",
   "metadata": {},
   "source": [
    "#"
   ]
  },
  {
   "cell_type": "markdown",
   "id": "09725e22-a30f-4f82-9b4e-6f594c372e2e",
   "metadata": {},
   "source": [
    "#### 13. what is the average mrp of iphones which costs above 100,000"
   ]
  },
  {
   "cell_type": "code",
   "execution_count": 98,
   "id": "6f2d2a14-9b96-4fcf-b2b3-8c0d898748fd",
   "metadata": {},
   "outputs": [],
   "source": [
    "# Filter the DataFrame to include only iPhones with MRP above 100,000\n",
    "high_mrp_iphones = df[df['Mrp'] > 100000]"
   ]
  },
  {
   "cell_type": "code",
   "execution_count": 99,
   "id": "1dd6d82a-ac18-44fc-bde7-ea37bae3f0b3",
   "metadata": {},
   "outputs": [],
   "source": [
    "# Calculate the average MRP for the filtered iPhones\n",
    "average_mrp = high_mrp_iphones['Mrp'].mean()"
   ]
  },
  {
   "cell_type": "code",
   "execution_count": 100,
   "id": "ae853e7d-e991-4855-9cc1-48b409f9b177",
   "metadata": {},
   "outputs": [
    {
     "name": "stdout",
     "output_type": "stream",
     "text": [
      "130559.09090909091\n"
     ]
    }
   ],
   "source": [
    "# Print the average MRP\n",
    "print(average_mrp)"
   ]
  },
  {
   "cell_type": "markdown",
   "id": "19e3837e-ffe6-4185-b6f4-97f8a666f88f",
   "metadata": {},
   "source": [
    "#"
   ]
  },
  {
   "cell_type": "markdown",
   "id": "cb4badc9-be13-4f19-9d40-4119ce6bdfae",
   "metadata": {},
   "source": [
    "#### 14. which iphone with 128 GB space has highest ratings to review ratio"
   ]
  },
  {
   "cell_type": "code",
   "execution_count": 91,
   "id": "3c6b49f0-0151-4555-ba69-717c06254a18",
   "metadata": {},
   "outputs": [],
   "source": [
    "# Filter the DataFrame to include only iPhones with 128 GB of space\n",
    "iphone_128gb = df[df['Storage_space'] == '128 GB']"
   ]
  },
  {
   "cell_type": "code",
   "execution_count": 93,
   "id": "fc302b23-9e55-47f1-8f7d-2333a073667c",
   "metadata": {},
   "outputs": [
    {
     "name": "stderr",
     "output_type": "stream",
     "text": [
      "C:\\Users\\Demon Slayer\\AppData\\Local\\Temp\\ipykernel_6552\\2053601964.py:2: SettingWithCopyWarning: \n",
      "A value is trying to be set on a copy of a slice from a DataFrame.\n",
      "Try using .loc[row_indexer,col_indexer] = value instead\n",
      "\n",
      "See the caveats in the documentation: https://pandas.pydata.org/pandas-docs/stable/user_guide/indexing.html#returning-a-view-versus-a-copy\n",
      "  iphone_128gb['Ratings_to_Reviews_Ratio'] = iphone_128gb['Number_Of_Ratings'] / iphone_128gb['Number_Of_Reviews']\n"
     ]
    }
   ],
   "source": [
    "# Calculate the ratings-to-reviews ratio for each iPhone\n",
    "iphone_128gb['Ratings_to_Reviews_Ratio'] = iphone_128gb['Number_Of_Ratings'] / iphone_128gb['Number_Of_Reviews']"
   ]
  },
  {
   "cell_type": "code",
   "execution_count": 94,
   "id": "c53af8db-0cb4-430d-bd99-a65fd134dc57",
   "metadata": {},
   "outputs": [],
   "source": [
    "# Find the iPhone with the highest ratings-to-reviews ratio\n",
    "highest_ratio_iphone = iphone_128gb.loc[iphone_128gb['Ratings_to_Reviews_Ratio'].idxmax()]"
   ]
  },
  {
   "cell_type": "code",
   "execution_count": 95,
   "id": "8c0a7903-23e7-42e9-8659-2ed34d2520d8",
   "metadata": {},
   "outputs": [
    {
     "data": {
      "text/plain": [
       "Product_Name                                  APPLE iPhone 11 (Black, 128 GB)\n",
       "Product_URL                 https://www.flipkart.com/apple-iphone-11-black...\n",
       "Brand                                                                   Apple\n",
       "Sale_Price                                                              54999\n",
       "Mrp                                                                     59900\n",
       "Number_Of_Ratings                                                       43470\n",
       "Number_Of_Reviews                                                        3331\n",
       "Upc                                                          MOBFWQ6BKRYBP5X8\n",
       "Star_Rating                                                               4.6\n",
       "Ram                                                                      4 GB\n",
       "Discount_Percentage                                                   8.18197\n",
       "Color                                                                   Black\n",
       "Version                                                             iphone 11\n",
       "Storage_space                                                          128 GB\n",
       "Ratings_to_Reviews_Ratio                                            13.050135\n",
       "Name: 56, dtype: object"
      ]
     },
     "execution_count": 95,
     "metadata": {},
     "output_type": "execute_result"
    }
   ],
   "source": [
    "highest_ratio_iphone"
   ]
  }
 ],
 "metadata": {
  "kernelspec": {
   "display_name": "Python 3 (ipykernel)",
   "language": "python",
   "name": "python3"
  },
  "language_info": {
   "codemirror_mode": {
    "name": "ipython",
    "version": 3
   },
   "file_extension": ".py",
   "mimetype": "text/x-python",
   "name": "python",
   "nbconvert_exporter": "python",
   "pygments_lexer": "ipython3",
   "version": "3.12.3"
  }
 },
 "nbformat": 4,
 "nbformat_minor": 5
}
