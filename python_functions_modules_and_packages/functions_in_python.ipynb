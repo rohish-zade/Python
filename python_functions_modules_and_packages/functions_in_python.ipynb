{
 "cells": [
  {
   "cell_type": "markdown",
   "metadata": {
    "application/vnd.databricks.v1+cell": {
     "cellMetadata": {},
     "inputWidgets": {},
     "nuid": "5bf1db34-d37a-4578-807f-bbf82a05aeed",
     "showTitle": false,
     "title": ""
    }
   },
   "source": [
    "##Functions in Python\n",
    "\n",
    "A function is a block of code that performs a specific task"
   ]
  },
  {
   "cell_type": "markdown",
   "metadata": {
    "application/vnd.databricks.v1+cell": {
     "cellMetadata": {},
     "inputWidgets": {},
     "nuid": "f2009ca0-9884-40b9-8124-da53f2a5d1b3",
     "showTitle": false,
     "title": ""
    }
   },
   "source": [
    "- The idea is to put some commonly or repeatedly done tasks together and make a function so that instead of writing the same code again and again for different inputs, we can do the function calls to reuse code contained in it over and over again.\n",
    "- Functions helps the program to be **concise, non-repetitive, and organized.**"
   ]
  },
  {
   "cell_type": "markdown",
   "metadata": {
    "application/vnd.databricks.v1+cell": {
     "cellMetadata": {},
     "inputWidgets": {},
     "nuid": "2940ea81-4cd7-4ad6-a94e-0d1db8db5c07",
     "showTitle": false,
     "title": ""
    }
   },
   "source": [
    "**Some Benefits of Using Functions**\n",
    "- Increase Code Readability \n",
    "- Increase Code Reusability"
   ]
  },
  {
   "cell_type": "markdown",
   "metadata": {
    "application/vnd.databricks.v1+cell": {
     "cellMetadata": {},
     "inputWidgets": {},
     "nuid": "b9e643c7-7414-4170-a65f-357e9d9ee33c",
     "showTitle": false,
     "title": ""
    }
   },
   "source": []
  },
  {
   "cell_type": "markdown",
   "metadata": {
    "application/vnd.databricks.v1+cell": {
     "cellMetadata": {},
     "inputWidgets": {},
     "nuid": "275cc7b8-fb11-4366-91b3-efd52ff118ca",
     "showTitle": false,
     "title": ""
    }
   },
   "source": [
    "####Python Function Declaration\n"
   ]
  },
  {
   "cell_type": "code",
   "execution_count": 0,
   "metadata": {
    "application/vnd.databricks.v1+cell": {
     "cellMetadata": {
      "byteLimit": 2048000,
      "rowLimit": 10000
     },
     "inputWidgets": {},
     "nuid": "3abd62ff-064c-47d9-907d-aa7f9bd4093a",
     "showTitle": false,
     "title": ""
    }
   },
   "outputs": [],
   "source": [
    "# The syntax to declare a function is:\n",
    "def function_name(parameters):\n",
    "\t\"\"\"docstring\"\"\"\n",
    "\tstatement(s)\n",
    "\treturn expression"
   ]
  },
  {
   "cell_type": "markdown",
   "metadata": {
    "application/vnd.databricks.v1+cell": {
     "cellMetadata": {},
     "inputWidgets": {},
     "nuid": "2e3913c4-b02c-4c14-9373-acd3b7144be1",
     "showTitle": false,
     "title": ""
    }
   },
   "source": [
    "<div style=\"text-align: center; line-height: 0; padding-top: 9px;\">\n",
    "  <img src=\"https://media.geeksforgeeks.org/wp-content/uploads/20220721172423/51.png\" alt=\"Python Datatypes\" style=\"width: 600px\">\n",
    "</div>"
   ]
  },
  {
   "cell_type": "markdown",
   "metadata": {
    "application/vnd.databricks.v1+cell": {
     "cellMetadata": {},
     "inputWidgets": {},
     "nuid": "1118de78-2df8-4967-8b4e-d2c7d295f3d5",
     "showTitle": false,
     "title": ""
    }
   },
   "source": []
  },
  {
   "cell_type": "markdown",
   "metadata": {
    "application/vnd.databricks.v1+cell": {
     "cellMetadata": {},
     "inputWidgets": {},
     "nuid": "09b650dc-ae2d-464a-ac0e-3e2097cf1451",
     "showTitle": false,
     "title": ""
    }
   },
   "source": [
    "####Types of Functions in Python\n",
    "Below are the different types of functions in Python:\n",
    "\n",
    "- **Built-in library function:** These are Standard functions in Python that are available to use.\n",
    "- **User-defined function:** We can create our own functions based on our requirements."
   ]
  },
  {
   "cell_type": "markdown",
   "metadata": {
    "application/vnd.databricks.v1+cell": {
     "cellMetadata": {},
     "inputWidgets": {},
     "nuid": "e0c6b2d8-a61d-44be-8a53-8236778baa32",
     "showTitle": false,
     "title": ""
    }
   },
   "source": []
  },
  {
   "cell_type": "markdown",
   "metadata": {
    "application/vnd.databricks.v1+cell": {
     "cellMetadata": {},
     "inputWidgets": {},
     "nuid": "2833207b-6136-4d70-add8-43e7ca746261",
     "showTitle": false,
     "title": ""
    }
   },
   "source": [
    "####Creating a Function\n",
    "In Python a function is defined using the def keyword:"
   ]
  },
  {
   "cell_type": "code",
   "execution_count": 0,
   "metadata": {
    "application/vnd.databricks.v1+cell": {
     "cellMetadata": {
      "byteLimit": 2048000,
      "rowLimit": 10000
     },
     "inputWidgets": {},
     "nuid": "cd44a238-abf8-4088-8937-a54b49261af9",
     "showTitle": false,
     "title": ""
    }
   },
   "outputs": [],
   "source": [
    "#creating a function\n",
    "def greet():\n",
    "    print(\"Good Morning\")"
   ]
  },
  {
   "cell_type": "markdown",
   "metadata": {
    "application/vnd.databricks.v1+cell": {
     "cellMetadata": {},
     "inputWidgets": {},
     "nuid": "20560cf2-8f42-4808-b6b2-b13caae66dae",
     "showTitle": false,
     "title": ""
    }
   },
   "source": []
  },
  {
   "cell_type": "markdown",
   "metadata": {
    "application/vnd.databricks.v1+cell": {
     "cellMetadata": {},
     "inputWidgets": {},
     "nuid": "09982c4a-e2e5-473d-963f-a2ad3998aafa",
     "showTitle": false,
     "title": ""
    }
   },
   "source": [
    "####Calling a Function\n",
    "To call a function, use the function name followed by parenthesis:"
   ]
  },
  {
   "cell_type": "code",
   "execution_count": 0,
   "metadata": {
    "application/vnd.databricks.v1+cell": {
     "cellMetadata": {
      "byteLimit": 2048000,
      "rowLimit": 10000
     },
     "inputWidgets": {},
     "nuid": "b1cccf92-c0aa-4ee4-b20e-607cc6587bab",
     "showTitle": false,
     "title": ""
    }
   },
   "outputs": [
    {
     "output_type": "stream",
     "name": "stdout",
     "output_type": "stream",
     "text": [
      "Good Morning\n"
     ]
    }
   ],
   "source": [
    "greet()"
   ]
  },
  {
   "cell_type": "markdown",
   "metadata": {
    "application/vnd.databricks.v1+cell": {
     "cellMetadata": {},
     "inputWidgets": {},
     "nuid": "86d52ed4-7b21-4ef7-a7a0-6ac754e72ffe",
     "showTitle": false,
     "title": ""
    }
   },
   "source": []
  },
  {
   "cell_type": "markdown",
   "metadata": {
    "application/vnd.databricks.v1+cell": {
     "cellMetadata": {},
     "inputWidgets": {},
     "nuid": "3144a994-40ba-4d0b-b354-5225165db8f5",
     "showTitle": false,
     "title": ""
    }
   },
   "source": [
    "###Function with Parameters\n",
    "\n",
    "Arguments are the values passed inside the parenthesis of the function. A function can have any number of arguments separated by a comma."
   ]
  },
  {
   "cell_type": "code",
   "execution_count": 0,
   "metadata": {
    "application/vnd.databricks.v1+cell": {
     "cellMetadata": {
      "byteLimit": 2048000,
      "rowLimit": 10000
     },
     "inputWidgets": {},
     "nuid": "c4f78bde-ff7c-49b7-ad65-f0c5b23a59b8",
     "showTitle": false,
     "title": ""
    }
   },
   "outputs": [],
   "source": [
    "# creating a function with 2 arguments\n",
    "def getsum2(a, b):\n",
    "    c = a + b\n",
    "    return c\n",
    "\n",
    "# creating a function with 3 arguments\n",
    "def getsum3(a, b, c):\n",
    "    d = a + b + c\n",
    "    return d"
   ]
  },
  {
   "cell_type": "code",
   "execution_count": 0,
   "metadata": {
    "application/vnd.databricks.v1+cell": {
     "cellMetadata": {
      "byteLimit": 2048000,
      "rowLimit": 10000
     },
     "inputWidgets": {},
     "nuid": "a538beb6-b9e6-453e-a498-03a68d2d978d",
     "showTitle": false,
     "title": ""
    }
   },
   "outputs": [
    {
     "output_type": "stream",
     "name": "stdout",
     "output_type": "stream",
     "text": [
      "14\n20\n"
     ]
    }
   ],
   "source": [
    "# calling a function by passing to argument values and storing the result return by function\n",
    "result = getsum2(5, 9)\n",
    "print(result)\n",
    "\n",
    "result = getsum3(5, 9, 6)\n",
    "print(result)"
   ]
  },
  {
   "cell_type": "markdown",
   "metadata": {
    "application/vnd.databricks.v1+cell": {
     "cellMetadata": {},
     "inputWidgets": {},
     "nuid": "1a687af8-2097-4357-a2e0-f90d8cbb3ac0",
     "showTitle": false,
     "title": ""
    }
   },
   "source": []
  },
  {
   "cell_type": "markdown",
   "metadata": {
    "application/vnd.databricks.v1+cell": {
     "cellMetadata": {},
     "inputWidgets": {},
     "nuid": "3a6065c6-fc5d-43dd-a0ef-7c177d34acb9",
     "showTitle": false,
     "title": ""
    }
   },
   "source": [
    "####Types of Arguments\n",
    "Python supports various types of arguments that can be passed at the time of the function call. \n",
    "\n",
    "- Default argument\n",
    "- Positional arguments\n",
    "- Keyword arguments (named arguments)\n",
    "- Arbitrary Arguments (variable-length arguments (`*args` and `**kwargs`))"
   ]
  },
  {
   "cell_type": "markdown",
   "metadata": {
    "application/vnd.databricks.v1+cell": {
     "cellMetadata": {},
     "inputWidgets": {},
     "nuid": "6cc693dc-188d-4f31-8894-bc14286b8ce3",
     "showTitle": false,
     "title": ""
    }
   },
   "source": []
  },
  {
   "cell_type": "markdown",
   "metadata": {
    "application/vnd.databricks.v1+cell": {
     "cellMetadata": {},
     "inputWidgets": {},
     "nuid": "64f7917d-ad23-49e3-b60b-a1c0f1eed6a8",
     "showTitle": false,
     "title": ""
    }
   },
   "source": [
    "#####Default Arguments\n",
    "- A default argument is a parameter that assumes a default value if a value is not provided in the function call for that argument"
   ]
  },
  {
   "cell_type": "code",
   "execution_count": 0,
   "metadata": {
    "application/vnd.databricks.v1+cell": {
     "cellMetadata": {
      "byteLimit": 2048000,
      "rowLimit": 10000
     },
     "inputWidgets": {},
     "nuid": "5cad1641-fb1f-4b24-867a-f86620299498",
     "showTitle": false,
     "title": ""
    }
   },
   "outputs": [
    {
     "output_type": "stream",
     "name": "stdout",
     "output_type": "stream",
     "text": [
      "8\n10\n"
     ]
    }
   ],
   "source": [
    "def getproduct(a, b=5):\n",
    "    return a * b\n",
    "\n",
    "# calling a function by passing 2 values\n",
    "print(getproduct(2, 4))\n",
    "\n",
    "# calling a function by passing only 1 value, so here the default of b will be used\n",
    "print(getproduct(2))"
   ]
  },
  {
   "cell_type": "markdown",
   "metadata": {
    "application/vnd.databricks.v1+cell": {
     "cellMetadata": {},
     "inputWidgets": {},
     "nuid": "883042e7-460d-43b1-b44b-fc44234de861",
     "showTitle": false,
     "title": ""
    }
   },
   "source": []
  },
  {
   "cell_type": "markdown",
   "metadata": {
    "application/vnd.databricks.v1+cell": {
     "cellMetadata": {},
     "inputWidgets": {},
     "nuid": "ccc3a94c-64d6-4510-a3c9-f36ea659985c",
     "showTitle": false,
     "title": ""
    }
   },
   "source": [
    "#####Positional Arguments:\n",
    "- These are arguments that are passed to the function in a specific order. The order in which the arguments are passed matters and corresponds to the order of parameters in the function definition.\n",
    "- By changing the position, or if you forget the order of the positions, the values can be used in the wrong places as shown in the Case-2 example below, where 27 is assigned to the name and Rohish is assigned to the age."
   ]
  },
  {
   "cell_type": "code",
   "execution_count": 0,
   "metadata": {
    "application/vnd.databricks.v1+cell": {
     "cellMetadata": {
      "byteLimit": 2048000,
      "rowLimit": 10000
     },
     "inputWidgets": {},
     "nuid": "6be93c23-cf6f-41aa-b7e4-feea8d56c35f",
     "showTitle": false,
     "title": ""
    }
   },
   "outputs": [
    {
     "output_type": "stream",
     "name": "stdout",
     "output_type": "stream",
     "text": [
      "Case-1:\nMy name is Rohih and I am 27 old\nCase-2:\nMy name is 27 and I am Rohish old\n"
     ]
    }
   ],
   "source": [
    "def name_age(name, age):\n",
    "    print(f\"My name is {name} and I am {age} old\")\n",
    "\n",
    "# calling with correct positions\n",
    "print(\"Case-1:\")\n",
    "name_age(\"Rohih\", 27)\n",
    "\n",
    "# calling with incorrect positions\n",
    "print(\"Case-2:\")\n",
    "name_age(27, \"Rohish\")"
   ]
  },
  {
   "cell_type": "markdown",
   "metadata": {
    "application/vnd.databricks.v1+cell": {
     "cellMetadata": {},
     "inputWidgets": {},
     "nuid": "12d289a1-c7a4-4697-a8fb-49f04b8eb3fd",
     "showTitle": false,
     "title": ""
    }
   },
   "source": []
  },
  {
   "cell_type": "markdown",
   "metadata": {
    "application/vnd.databricks.v1+cell": {
     "cellMetadata": {},
     "inputWidgets": {},
     "nuid": "37cc20f4-33c1-443c-9938-3e9cb315d198",
     "showTitle": false,
     "title": ""
    }
   },
   "source": [
    "#####Keyword arguments (named arguments)\n",
    "- The idea is to allow the caller to specify the argument name with values so that the caller does not need to remember the order of parameters."
   ]
  },
  {
   "cell_type": "code",
   "execution_count": 0,
   "metadata": {
    "application/vnd.databricks.v1+cell": {
     "cellMetadata": {
      "byteLimit": 2048000,
      "rowLimit": 10000
     },
     "inputWidgets": {},
     "nuid": "f3ecc27b-9345-49c7-af62-47ffe72870ff",
     "showTitle": false,
     "title": ""
    }
   },
   "outputs": [
    {
     "output_type": "stream",
     "name": "stdout",
     "output_type": "stream",
     "text": [
      "My name is Rohish and I am 27 old\n"
     ]
    }
   ],
   "source": [
    "# Let's take the above name_age function\n",
    "\n",
    "name_age(age=27, name=\"Rohish\")\n",
    "\n",
    "# here we are giving arguments names as while passing the values so the order of parameters does not matter and will get the correct output"
   ]
  },
  {
   "cell_type": "markdown",
   "metadata": {
    "application/vnd.databricks.v1+cell": {
     "cellMetadata": {},
     "inputWidgets": {},
     "nuid": "a00f7d55-1d44-440d-8de9-0137e942624c",
     "showTitle": false,
     "title": ""
    }
   },
   "source": []
  },
  {
   "cell_type": "markdown",
   "metadata": {
    "application/vnd.databricks.v1+cell": {
     "cellMetadata": {},
     "inputWidgets": {},
     "nuid": "9d86837a-60d4-4cc7-b76b-6491368cae83",
     "showTitle": false,
     "title": ""
    }
   },
   "source": [
    "####Arbitrary Arguments (Variable-length arguments (*args and **kwargs))\n",
    "In Python, we can pass a variable number of arguments to a function using special symbols. There are two special symbols:\n",
    "\n",
    "1.  **`*args (Non-Keyword Arguments)`**\n",
    "2. **`**kwargs (Keyword Arguments)`**"
   ]
  },
  {
   "cell_type": "markdown",
   "metadata": {
    "application/vnd.databricks.v1+cell": {
     "cellMetadata": {},
     "inputWidgets": {},
     "nuid": "d5ea8b44-e845-427e-91b1-a131bab0ae13",
     "showTitle": false,
     "title": ""
    }
   },
   "source": []
  },
  {
   "cell_type": "markdown",
   "metadata": {
    "application/vnd.databricks.v1+cell": {
     "cellMetadata": {},
     "inputWidgets": {},
     "nuid": "8679424b-7ff1-47be-a59b-2a3deb4869e9",
     "showTitle": false,
     "title": ""
    }
   },
   "source": [
    "#####Arbitary Arguments, *args (Non-Keyword Arguments)\n",
    "- If you do not know how many arguments that will be passed into your function, add a * before the parameter name in the function definition.\n",
    "- This way the function will **receive a tuple of arguments**, and can access the items accordingly:"
   ]
  },
  {
   "cell_type": "code",
   "execution_count": 0,
   "metadata": {
    "application/vnd.databricks.v1+cell": {
     "cellMetadata": {
      "byteLimit": 2048000,
      "rowLimit": 10000
     },
     "inputWidgets": {},
     "nuid": "e5bcef0e-c024-4e52-8c5e-9126f7583b96",
     "showTitle": false,
     "title": ""
    }
   },
   "outputs": [
    {
     "output_type": "stream",
     "name": "stdout",
     "output_type": "stream",
     "text": [
      "(1, 3, 6, 9, 2) <class 'tuple'>\n"
     ]
    }
   ],
   "source": [
    "# Variable length non-keywords argument\n",
    "def get_sums(*args):\n",
    "    print(args, type(args))\n",
    "\n",
    "get_sums(1, 3, 6, 9, 2)"
   ]
  },
  {
   "cell_type": "code",
   "execution_count": 0,
   "metadata": {
    "application/vnd.databricks.v1+cell": {
     "cellMetadata": {
      "byteLimit": 2048000,
      "rowLimit": 10000
     },
     "inputWidgets": {},
     "nuid": "1ac564f6-83d8-4ea2-b78c-3a286eff768d",
     "showTitle": false,
     "title": ""
    }
   },
   "outputs": [
    {
     "output_type": "stream",
     "name": "stdout",
     "output_type": "stream",
     "text": [
      "21\n"
     ]
    }
   ],
   "source": [
    "# It is not restricted that we have to give *args, we can give any argument name we want. it's just a standard we have to follow\n",
    "def get_sums(*nums):\n",
    "    sum = 0\n",
    "    for i in nums:\n",
    "        sum += i\n",
    "    return sum\n",
    "\n",
    "print(get_sums(1, 3, 6, 9, 2))"
   ]
  },
  {
   "cell_type": "markdown",
   "metadata": {
    "application/vnd.databricks.v1+cell": {
     "cellMetadata": {},
     "inputWidgets": {},
     "nuid": "d8aeeb57-77ad-4c31-bf99-9ebc060845c4",
     "showTitle": false,
     "title": ""
    }
   },
   "source": []
  },
  {
   "cell_type": "markdown",
   "metadata": {
    "application/vnd.databricks.v1+cell": {
     "cellMetadata": {},
     "inputWidgets": {},
     "nuid": "5f1d6a34-a47e-4a5f-b189-1e9029082bfb",
     "showTitle": false,
     "title": ""
    }
   },
   "source": [
    "#####Arbitrary Keyword Arguments, **kwargs(Keyword Arguments)\n",
    "- If you do not know how many keyword arguments that will be passed into your function, add two asterisk: ** before the parameter name in the function definition.\n",
    "- This way the function will **receive a dictionary of arguments**, and can access the items accordingly:\n"
   ]
  },
  {
   "cell_type": "code",
   "execution_count": 0,
   "metadata": {
    "application/vnd.databricks.v1+cell": {
     "cellMetadata": {
      "byteLimit": 2048000,
      "rowLimit": 10000
     },
     "inputWidgets": {},
     "nuid": "8e1bbce6-5765-4fa4-81a5-b183239a3cc0",
     "showTitle": false,
     "title": ""
    }
   },
   "outputs": [
    {
     "output_type": "stream",
     "name": "stdout",
     "output_type": "stream",
     "text": [
      "{'name': 'Rohish', 'age': 27, 'last_name': 'Zade'} <class 'dict'>\nHi My name is Rohish and I am 27 old\n"
     ]
    }
   ],
   "source": [
    "# Variable length keyword arguments\n",
    "def get_info(**kwargs): # we can use any argument name in place of kwargs\n",
    "    print(kwargs, type(kwargs))\n",
    "    print(\"Hi My name is \" + kwargs[\"name\"] + \" and I am \" + str(kwargs[\"age\"]) + \" old\")\n",
    "\n",
    "get_info(name=\"Rohish\", age=27, last_name=\"Zade\")"
   ]
  },
  {
   "cell_type": "code",
   "execution_count": 0,
   "metadata": {
    "application/vnd.databricks.v1+cell": {
     "cellMetadata": {
      "byteLimit": 2048000,
      "rowLimit": 10000
     },
     "inputWidgets": {},
     "nuid": "60ba8622-7ace-4cb3-ad63-40aac14b80af",
     "showTitle": false,
     "title": ""
    }
   },
   "outputs": [
    {
     "output_type": "stream",
     "name": "stdout",
     "output_type": "stream",
     "text": [
      "first_name : Rohish\nmid_name : Shankar\nlast_name : Zade\n"
     ]
    }
   ],
   "source": [
    "# **info for variable number of keyword arguments\n",
    "def my_info(**info):\n",
    "    for key, value in info.items():\n",
    "        print(\"%s : %s\" % (key, value))\n",
    "\n",
    "# Driver code\n",
    "my_info(first_name='Rohish', mid_name='Shankar', last_name='Zade')"
   ]
  },
  {
   "cell_type": "markdown",
   "metadata": {
    "application/vnd.databricks.v1+cell": {
     "cellMetadata": {},
     "inputWidgets": {},
     "nuid": "1fdd2c6c-8a64-49c4-91c0-828da1b0d416",
     "showTitle": false,
     "title": ""
    }
   },
   "source": []
  },
  {
   "cell_type": "markdown",
   "metadata": {
    "application/vnd.databricks.v1+cell": {
     "cellMetadata": {},
     "inputWidgets": {},
     "nuid": "b49c8ff3-e4d4-4628-862e-6e27b7c8a9e5",
     "showTitle": false,
     "title": ""
    }
   },
   "source": [
    "#####Positional-Only Arguments (Python 3.8+):\n",
    "- These arguments must be specified in the function call by position, not by keyword.\n",
    "- They are denoted by a **/** in the function definition."
   ]
  },
  {
   "cell_type": "code",
   "execution_count": 0,
   "metadata": {
    "application/vnd.databricks.v1+cell": {
     "cellMetadata": {
      "byteLimit": 2048000,
      "rowLimit": 10000
     },
     "inputWidgets": {},
     "nuid": "faa305ea-622b-4cce-a503-f655af2e0254",
     "showTitle": false,
     "title": ""
    }
   },
   "outputs": [
    {
     "output_type": "stream",
     "name": "stdout",
     "output_type": "stream",
     "text": [
      "Namaste, Rohish!\nHi, Rohish!\n"
     ]
    }
   ],
   "source": [
    "def greet(name, /, message=\"Namaste\"):\n",
    "    print(f\"{message}, {name}!\")\n",
    "\n",
    "greet(\"Rohish\")        # Works\n",
    "greet(\"Rohish\", \"Hi\")  # Works"
   ]
  },
  {
   "cell_type": "code",
   "execution_count": 0,
   "metadata": {
    "application/vnd.databricks.v1+cell": {
     "cellMetadata": {
      "byteLimit": 2048000,
      "rowLimit": 10000
     },
     "inputWidgets": {},
     "nuid": "a51dd937-a9d0-4fbe-86d8-52a4323a0006",
     "showTitle": false,
     "title": ""
    }
   },
   "outputs": [
    {
     "output_type": "display_data",
     "data": {
      "text/plain": [
       "\u001B[0;31m---------------------------------------------------------------------------\u001B[0m\n",
       "\u001B[0;31mTypeError\u001B[0m                                 Traceback (most recent call last)\n",
       "File \u001B[0;32m<command-782058162940611>:1\u001B[0m\n",
       "\u001B[0;32m----> 1\u001B[0m \u001B[43mgreet\u001B[49m\u001B[43m(\u001B[49m\u001B[43mname\u001B[49m\u001B[38;5;241;43m=\u001B[39;49m\u001B[38;5;124;43m\"\u001B[39;49m\u001B[38;5;124;43mAlice\u001B[39;49m\u001B[38;5;124;43m\"\u001B[39;49m\u001B[43m)\u001B[49m\n",
       "\n",
       "\u001B[0;31mTypeError\u001B[0m: greet() got some positional-only arguments passed as keyword arguments: 'name'"
      ]
     },
     "metadata": {
      "application/vnd.databricks.v1+output": {
       "arguments": {},
       "data": "\u001B[0;31m---------------------------------------------------------------------------\u001B[0m\n\u001B[0;31mTypeError\u001B[0m                                 Traceback (most recent call last)\nFile \u001B[0;32m<command-782058162940611>:1\u001B[0m\n\u001B[0;32m----> 1\u001B[0m \u001B[43mgreet\u001B[49m\u001B[43m(\u001B[49m\u001B[43mname\u001B[49m\u001B[38;5;241;43m=\u001B[39;49m\u001B[38;5;124;43m\"\u001B[39;49m\u001B[38;5;124;43mAlice\u001B[39;49m\u001B[38;5;124;43m\"\u001B[39;49m\u001B[43m)\u001B[49m\n\n\u001B[0;31mTypeError\u001B[0m: greet() got some positional-only arguments passed as keyword arguments: 'name'",
       "errorSummary": "<span class='ansi-red-fg'>TypeError</span>: greet() got some positional-only arguments passed as keyword arguments: 'name'",
       "errorTraceType": "ansi",
       "metadata": {},
       "type": "ipynbError"
      }
     },
     "output_type": "display_data"
    }
   ],
   "source": [
    "greet(name=\"Rohish\")   # Error"
   ]
  },
  {
   "cell_type": "markdown",
   "metadata": {
    "application/vnd.databricks.v1+cell": {
     "cellMetadata": {},
     "inputWidgets": {},
     "nuid": "58de8c99-880f-44d2-bfa5-d08ea2e0e34f",
     "showTitle": false,
     "title": ""
    }
   },
   "source": []
  },
  {
   "cell_type": "markdown",
   "metadata": {
    "application/vnd.databricks.v1+cell": {
     "cellMetadata": {},
     "inputWidgets": {},
     "nuid": "80a764db-ea5d-4692-b7ec-bd08e96a4cab",
     "showTitle": false,
     "title": ""
    }
   },
   "source": [
    "#####Keyword-Only Arguments:\n",
    "- These arguments must be specified in the function call by keyword. \n",
    "- They are denoted by a * in the function definition."
   ]
  },
  {
   "cell_type": "code",
   "execution_count": 0,
   "metadata": {
    "application/vnd.databricks.v1+cell": {
     "cellMetadata": {
      "byteLimit": 2048000,
      "rowLimit": 10000
     },
     "inputWidgets": {},
     "nuid": "617c0c1a-651b-4259-8b4d-1e9be7b06b08",
     "showTitle": false,
     "title": ""
    }
   },
   "outputs": [
    {
     "output_type": "stream",
     "name": "stdout",
     "output_type": "stream",
     "text": [
      "Namaste, Rohish!\nHi, Rohish!\n"
     ]
    }
   ],
   "source": [
    "def greet_rohish(*, name, message=\"Namaste\"):\n",
    "    print(f\"{message}, {name}!\")\n",
    "\n",
    "greet_rohish(name=\"Rohish\")        # Works\n",
    "greet_rohish(name=\"Rohish\", message=\"Hi\")  # Works"
   ]
  },
  {
   "cell_type": "code",
   "execution_count": 0,
   "metadata": {
    "application/vnd.databricks.v1+cell": {
     "cellMetadata": {
      "byteLimit": 2048000,
      "rowLimit": 10000
     },
     "inputWidgets": {},
     "nuid": "ef8c7a4d-c91d-4e18-8061-575887a1e737",
     "showTitle": false,
     "title": ""
    }
   },
   "outputs": [
    {
     "output_type": "display_data",
     "data": {
      "text/plain": [
       "\u001B[0;31m---------------------------------------------------------------------------\u001B[0m\n",
       "\u001B[0;31mTypeError\u001B[0m                                 Traceback (most recent call last)\n",
       "File \u001B[0;32m<command-782058162940614>:1\u001B[0m\n",
       "\u001B[0;32m----> 1\u001B[0m \u001B[43mgreet_rohish\u001B[49m\u001B[43m(\u001B[49m\u001B[38;5;124;43m\"\u001B[39;49m\u001B[38;5;124;43mAlice\u001B[39;49m\u001B[38;5;124;43m\"\u001B[39;49m\u001B[43m)\u001B[49m\n",
       "\n",
       "\u001B[0;31mTypeError\u001B[0m: greet_rohish() takes 0 positional arguments but 1 was given"
      ]
     },
     "metadata": {
      "application/vnd.databricks.v1+output": {
       "arguments": {},
       "data": "\u001B[0;31m---------------------------------------------------------------------------\u001B[0m\n\u001B[0;31mTypeError\u001B[0m                                 Traceback (most recent call last)\nFile \u001B[0;32m<command-782058162940614>:1\u001B[0m\n\u001B[0;32m----> 1\u001B[0m \u001B[43mgreet_rohish\u001B[49m\u001B[43m(\u001B[49m\u001B[38;5;124;43m\"\u001B[39;49m\u001B[38;5;124;43mAlice\u001B[39;49m\u001B[38;5;124;43m\"\u001B[39;49m\u001B[43m)\u001B[49m\n\n\u001B[0;31mTypeError\u001B[0m: greet_rohish() takes 0 positional arguments but 1 was given",
       "errorSummary": "<span class='ansi-red-fg'>TypeError</span>: greet_rohish() takes 0 positional arguments but 1 was given",
       "errorTraceType": "ansi",
       "metadata": {},
       "type": "ipynbError"
      }
     },
     "output_type": "display_data"
    }
   ],
   "source": [
    "greet_rohish(\"Alice\")   # Error"
   ]
  },
  {
   "cell_type": "markdown",
   "metadata": {
    "application/vnd.databricks.v1+cell": {
     "cellMetadata": {},
     "inputWidgets": {},
     "nuid": "4cc67c0b-3ed8-46e5-a9d4-d8e05d2261eb",
     "showTitle": false,
     "title": ""
    }
   },
   "source": []
  },
  {
   "cell_type": "markdown",
   "metadata": {
    "application/vnd.databricks.v1+cell": {
     "cellMetadata": {},
     "inputWidgets": {},
     "nuid": "0efd2e48-b3d4-4499-8f62-f8a72c8bb5c6",
     "showTitle": false,
     "title": ""
    }
   },
   "source": [
    "###Docstring\n",
    "- The first string after the function is called the Document string or Docstring in short. \n",
    "- This is used to describe the functionality of the function. \n",
    "- The use of docstring in functions is optional but it is considered a good practice."
   ]
  },
  {
   "cell_type": "code",
   "execution_count": 0,
   "metadata": {
    "application/vnd.databricks.v1+cell": {
     "cellMetadata": {
      "byteLimit": 2048000,
      "rowLimit": 10000
     },
     "inputWidgets": {},
     "nuid": "1b746562-5c96-4692-ba3a-c4909a829edc",
     "showTitle": false,
     "title": ""
    }
   },
   "outputs": [
    {
     "output_type": "stream",
     "name": "stdout",
     "output_type": "stream",
     "text": [
      "even\nFunction to check if the number is even or odd\n"
     ]
    }
   ],
   "source": [
    "def even_odd(x):\n",
    "    \"\"\"Function to check if the number is even or odd\"\"\"\n",
    "    if (x % 2 == 0):\n",
    "        print(\"even\")\n",
    "    else:\n",
    "        print(\"odd\")\n",
    "\n",
    "even_odd(54)\n",
    "print(even_odd.__doc__)"
   ]
  },
  {
   "cell_type": "markdown",
   "metadata": {
    "application/vnd.databricks.v1+cell": {
     "cellMetadata": {},
     "inputWidgets": {},
     "nuid": "c8664b1b-cceb-4f8a-b8c9-494a6e8bcafc",
     "showTitle": false,
     "title": ""
    }
   },
   "source": []
  },
  {
   "cell_type": "markdown",
   "metadata": {
    "application/vnd.databricks.v1+cell": {
     "cellMetadata": {},
     "inputWidgets": {},
     "nuid": "60d5bc85-2fbf-4f92-bc11-c5635a42e482",
     "showTitle": false,
     "title": ""
    }
   },
   "source": [
    "###Python Function within Functions\n",
    "- A function that is defined inside another function is known as the inner function or nested function. \n",
    "- Nested functions can access variables of the enclosing scope. \n",
    "- Inner functions are used so that they can be protected from everything happening outside the function."
   ]
  },
  {
   "cell_type": "code",
   "execution_count": 0,
   "metadata": {
    "application/vnd.databricks.v1+cell": {
     "cellMetadata": {
      "byteLimit": 2048000,
      "rowLimit": 10000
     },
     "inputWidgets": {},
     "nuid": "d4a79ac5-82d0-4dba-9300-6812e1280f69",
     "showTitle": false,
     "title": ""
    }
   },
   "outputs": [
    {
     "output_type": "stream",
     "name": "stdout",
     "output_type": "stream",
     "text": [
      "Rohish\n"
     ]
    }
   ],
   "source": [
    "def outer_fun():\n",
    "    name = \"Rohish\"\n",
    "\n",
    "    def inner_fun():\n",
    "        print(name)\n",
    "    \n",
    "    inner_fun()\n",
    "\n",
    "outer_fun()"
   ]
  },
  {
   "cell_type": "markdown",
   "metadata": {
    "application/vnd.databricks.v1+cell": {
     "cellMetadata": {},
     "inputWidgets": {},
     "nuid": "42e0bf60-a992-4fca-b04b-08f5c7e13f07",
     "showTitle": false,
     "title": ""
    }
   },
   "source": []
  },
  {
   "cell_type": "markdown",
   "metadata": {
    "application/vnd.databricks.v1+cell": {
     "cellMetadata": {},
     "inputWidgets": {},
     "nuid": "1659f55a-98f9-4a3e-8f77-fb8572a1def6",
     "showTitle": false,
     "title": ""
    }
   },
   "source": [
    "###Anonymous Functions in Python\n",
    "- In Python, an anonymous function means that a function is without a name. \n",
    "- As we already know the def keyword is used to define the normal functions and the **lambda** keyword is used to create anonymous functions.\n",
    "- They are often used for short, simple operations and can be particularly useful when a small function is needed for a short period of time and is not reused later."
   ]
  },
  {
   "cell_type": "markdown",
   "metadata": {
    "application/vnd.databricks.v1+cell": {
     "cellMetadata": {},
     "inputWidgets": {},
     "nuid": "a452e814-cb2d-4575-9897-1300e067ffac",
     "showTitle": false,
     "title": ""
    }
   },
   "source": [
    "####Syntax\n",
    "\n",
    "The syntax for a lambda function is:\n",
    "\n",
    "**`lambda arguments: expression`**\n",
    "\n",
    "- arguments: A comma-separated list of arguments.\n",
    "- expression: An expression that is evaluated and returned. The expression can be any valid Python expression, but it is usually a simple operation."
   ]
  },
  {
   "cell_type": "markdown",
   "metadata": {
    "application/vnd.databricks.v1+cell": {
     "cellMetadata": {},
     "inputWidgets": {},
     "nuid": "a30cb065-1887-42f5-9625-3697e2562c6b",
     "showTitle": false,
     "title": ""
    }
   },
   "source": [
    "####Characteristics\n",
    "- **Anonymous:** Lambda functions do not have a name. They are often used as inline functions.\n",
    "- **Single Expression:** Lambda functions can contain only a single expression. The expression is evaluated and returned.\n",
    "- **Return Value:** Lambda functions automatically return the value of the expression. There is no need to use a return statement."
   ]
  },
  {
   "cell_type": "code",
   "execution_count": 0,
   "metadata": {
    "application/vnd.databricks.v1+cell": {
     "cellMetadata": {
      "byteLimit": 2048000,
      "rowLimit": 10000
     },
     "inputWidgets": {},
     "nuid": "4bce192f-1db2-4db4-bda7-7610762732ac",
     "showTitle": false,
     "title": ""
    }
   },
   "outputs": [
    {
     "output_type": "stream",
     "name": "stdout",
     "output_type": "stream",
     "text": [
      "14\n15\n"
     ]
    }
   ],
   "source": [
    "# Regular function\n",
    "def get_sum(a, b):\n",
    "  return a + b\n",
    "\n",
    "# anonymous or lambda function\n",
    "lambda_get_sum = lambda a, b: a + b\n",
    "\n",
    "print(get_sum(5, 9))\n",
    "print(lambda_get_sum(5, 10))"
   ]
  },
  {
   "cell_type": "markdown",
   "metadata": {
    "application/vnd.databricks.v1+cell": {
     "cellMetadata": {},
     "inputWidgets": {},
     "nuid": "4ec3f635-a7e4-4714-8a1c-bc19842ddf2f",
     "showTitle": false,
     "title": ""
    }
   },
   "source": []
  },
  {
   "cell_type": "code",
   "execution_count": 0,
   "metadata": {
    "application/vnd.databricks.v1+cell": {
     "cellMetadata": {
      "byteLimit": 2048000,
      "rowLimit": 10000
     },
     "inputWidgets": {},
     "nuid": "09114ffa-22bc-4e11-93d4-d44dd471817d",
     "showTitle": false,
     "title": ""
    }
   },
   "outputs": [
    {
     "output_type": "stream",
     "name": "stdout",
     "output_type": "stream",
     "text": [
      "(3, 1)\n"
     ]
    }
   ],
   "source": [
    "points = [(1, 2), (3, 1), (5, -1), (2, 3)]\n",
    "print(points[1])"
   ]
  },
  {
   "cell_type": "markdown",
   "metadata": {
    "application/vnd.databricks.v1+cell": {
     "cellMetadata": {},
     "inputWidgets": {},
     "nuid": "b88c2b61-9b31-42c8-897b-7cd77978434f",
     "showTitle": false,
     "title": ""
    }
   },
   "source": [
    "#####Key Concepts\n",
    "\n",
    "- **Base Case:** \n",
    "  - This is the condition under which the recursion ends. \n",
    "  - Without a base case, the function would call itself indefinitely, leading to infinite recursion and eventually a stack overflow error.\n",
    "\n",
    "- **Recursive Case:** \n",
    "  - This is the part of the function where the function calls itself with a modified argument, moving towards the base case."
   ]
  },
  {
   "cell_type": "markdown",
   "metadata": {
    "application/vnd.databricks.v1+cell": {
     "cellMetadata": {},
     "inputWidgets": {},
     "nuid": "6b4db757-3e2e-425b-acbe-f2f30fe92c02",
     "showTitle": false,
     "title": ""
    }
   },
   "source": [
    "#####Basic Structure of a Recursive Function\n",
    "A typical recursive function has the following structure:"
   ]
  },
  {
   "cell_type": "code",
   "execution_count": 0,
   "metadata": {
    "application/vnd.databricks.v1+cell": {
     "cellMetadata": {
      "byteLimit": 2048000,
      "rowLimit": 10000
     },
     "inputWidgets": {},
     "nuid": "7a6fe5dc-ad7d-485d-b5b5-f9c1de5e980a",
     "showTitle": false,
     "title": ""
    }
   },
   "outputs": [],
   "source": [
    "def recursive_function(parameters):\n",
    "    if base_case_condition:\n",
    "        return base_case_value\n",
    "    else:\n",
    "        return recursive_function(modified_parameters)"
   ]
  },
  {
   "cell_type": "markdown",
   "metadata": {
    "application/vnd.databricks.v1+cell": {
     "cellMetadata": {},
     "inputWidgets": {},
     "nuid": "d70e2bfe-2ad1-4ba0-9b8d-c528a880fede",
     "showTitle": false,
     "title": ""
    }
   },
   "source": [
    "####Example: Factorial Function\n",
    "The factorial of a non-negative integer n is the product of all positive integers less than or equal to n.\n",
    "It is denoted as n!\n",
    "\n",
    "For example, 5! = 5 * 4 * 3 * 2 * 1 = 120."
   ]
  },
  {
   "cell_type": "markdown",
   "metadata": {
    "application/vnd.databricks.v1+cell": {
     "cellMetadata": {},
     "inputWidgets": {},
     "nuid": "c7ae72e9-1b28-4829-932c-fe703e3aa4d1",
     "showTitle": false,
     "title": ""
    }
   },
   "source": [
    "**Iterative Approach**"
   ]
  },
  {
   "cell_type": "code",
   "execution_count": 0,
   "metadata": {
    "application/vnd.databricks.v1+cell": {
     "cellMetadata": {
      "byteLimit": 2048000,
      "rowLimit": 10000
     },
     "inputWidgets": {},
     "nuid": "f451ed42-09da-4936-8006-6871b5b15eae",
     "showTitle": false,
     "title": ""
    }
   },
   "outputs": [
    {
     "output_type": "stream",
     "name": "stdout",
     "output_type": "stream",
     "text": [
      "120\n"
     ]
    }
   ],
   "source": [
    "def factorial_iterative(n):\n",
    "    result = 1\n",
    "    for i in range(1, n + 1):\n",
    "        result *= i\n",
    "    return result\n",
    "\n",
    "print(factorial_iterative(5))  # Output: 120"
   ]
  },
  {
   "cell_type": "markdown",
   "metadata": {
    "application/vnd.databricks.v1+cell": {
     "cellMetadata": {},
     "inputWidgets": {},
     "nuid": "147111e6-0e69-46b4-a24b-420b582408c1",
     "showTitle": false,
     "title": ""
    }
   },
   "source": [
    "**Recursive Approach**"
   ]
  },
  {
   "cell_type": "code",
   "execution_count": 0,
   "metadata": {
    "application/vnd.databricks.v1+cell": {
     "cellMetadata": {
      "byteLimit": 2048000,
      "rowLimit": 10000
     },
     "inputWidgets": {},
     "nuid": "40676a3f-30c1-4134-b977-eaba23852b9b",
     "showTitle": false,
     "title": ""
    }
   },
   "outputs": [
    {
     "output_type": "stream",
     "name": "stdout",
     "output_type": "stream",
     "text": [
      "120\n"
     ]
    }
   ],
   "source": [
    "def factorial_recursive(n):\n",
    "    if n == 0:  # Base case\n",
    "        return 1\n",
    "    else:  # Recursive case\n",
    "        return n * factorial_recursive(n - 1)\n",
    "\n",
    "print(factorial_recursive(5))  # Output: 120"
   ]
  },
  {
   "cell_type": "markdown",
   "metadata": {
    "application/vnd.databricks.v1+cell": {
     "cellMetadata": {},
     "inputWidgets": {},
     "nuid": "dcdd1f90-5bc8-41fd-b83d-c4a8ba1fbbf5",
     "showTitle": false,
     "title": ""
    }
   },
   "source": [
    "#####Pros and Cons of Recursion\n",
    "\n",
    "- **Pros:**\n",
    "  - **Simpler Code**: Recursive solutions are often more concise and easier to read and understand, especially for problems that have a natural recursive structure, such as tree traversal, factorial computation, and the Fibonacci sequence.\n",
    "  - **Natural Fit for Divide and Conquer:** Problems that can be divided into similar subproblems (e.g., merge sort, quicksort) can be elegantly solved using recursion.\n",
    "\n",
    "- **Cons:**\n",
    "  - **Performance:** Recursive functions can be less efficient than iterative solutions because each function call adds a new frame to the call stack, consuming memory and processing time. Deep recursion can lead to a stack overflow.\n",
    "  - **Debugging:** Debugging recursive functions can be challenging due to multiple nested calls."
   ]
  },
  {
   "cell_type": "markdown",
   "metadata": {
    "application/vnd.databricks.v1+cell": {
     "cellMetadata": {},
     "inputWidgets": {},
     "nuid": "c7f7ec5d-3882-44f6-9e4f-655b0b69b5ea",
     "showTitle": false,
     "title": ""
    }
   },
   "source": []
  },
  {
   "cell_type": "markdown",
   "metadata": {
    "application/vnd.databricks.v1+cell": {
     "cellMetadata": {},
     "inputWidgets": {},
     "nuid": "2ea99783-4b61-46c7-97bb-eda865246e0c",
     "showTitle": false,
     "title": ""
    }
   },
   "source": [
    "###Pass by Reference and Pass by Value\n",
    "- One important thing to note is, **in Python every variable name is a reference**. \n",
    "- When we pass a variable to a function Python, a new reference to the object is created.\n",
    "- Python uses a mechanism called **\"pass by object reference\"** or **\"pass by assignment.\"**\n",
    "- Parameter passing in Python is the same as reference passing in Java."
   ]
  },
  {
   "cell_type": "markdown",
   "metadata": {
    "application/vnd.databricks.v1+cell": {
     "cellMetadata": {},
     "inputWidgets": {},
     "nuid": "24a53b00-b208-4b9f-9ab9-927246679219",
     "showTitle": false,
     "title": ""
    }
   },
   "source": [
    "**Pass by Value and Pass by Reference**\n",
    "- **Pass by Value:** The function receives a copy of the argument's value. Changes made to the parameter inside the function do not affect the original argument.\n",
    "- **Pass by Reference:** The function receives a reference to the argument. Changes made to the parameter inside the function affect the original argument."
   ]
  },
  {
   "cell_type": "markdown",
   "metadata": {
    "application/vnd.databricks.v1+cell": {
     "cellMetadata": {},
     "inputWidgets": {},
     "nuid": "89fa3580-4b46-4336-bdcf-39fb0517e448",
     "showTitle": false,
     "title": ""
    }
   },
   "source": [
    "**Python's Approach: Pass by Object Reference**\n",
    "\n",
    "- In Python, everything is an object, and variables are references to these objects. \n",
    "- When you pass a variable to a function, you are passing the reference to the object, not the actual object or its value. This means that if you modify a mutable object (like a list or dictionary) inside the function, the changes will reflect outside the function. However, if you reassign the reference inside the function, it will not affect the original reference."
   ]
  },
  {
   "cell_type": "markdown",
   "metadata": {
    "application/vnd.databricks.v1+cell": {
     "cellMetadata": {},
     "inputWidgets": {},
     "nuid": "2b84867b-c4f0-4cbb-ad58-92b7dc1aec84",
     "showTitle": false,
     "title": ""
    }
   },
   "source": [
    "**Mutable vs. Immutable Objects**\n",
    "\n",
    "- Mutable Objects: \n",
    "\n",
    "  - Can be changed after creation. \n",
    "  - Examples include lists, dictionaries, and sets.\n",
    "- Immutable Objects: \n",
    "  - Cannot be changed after creation. \n",
    "  - Examples include integers, floats, strings, and tuples."
   ]
  },
  {
   "cell_type": "markdown",
   "metadata": {
    "application/vnd.databricks.v1+cell": {
     "cellMetadata": {},
     "inputWidgets": {},
     "nuid": "698bcc2f-3b7a-457c-af68-98992b726e9c",
     "showTitle": false,
     "title": ""
    }
   },
   "source": [
    "**Examples:**\n",
    "\n",
    "**Mutable Objects(List):**\n",
    "- In below example `my_list` modified becuase lists are mutable, and the funtion `modify_list` operates on the same list object"
   ]
  },
  {
   "cell_type": "code",
   "execution_count": 0,
   "metadata": {
    "application/vnd.databricks.v1+cell": {
     "cellMetadata": {
      "byteLimit": 2048000,
      "rowLimit": 10000
     },
     "inputWidgets": {},
     "nuid": "7e09bbbb-0957-4030-9a4d-f9a6c108d5e3",
     "showTitle": false,
     "title": ""
    }
   },
   "outputs": [
    {
     "output_type": "stream",
     "name": "stdout",
     "output_type": "stream",
     "text": [
      "[1, 3, 3, 4]\n"
     ]
    }
   ],
   "source": [
    "# Here my_list modified  becuase lists are mutable, and the funtion modify_list operates on the same list object\n",
    "def modify_list(lst):\n",
    "  lst.append(4)\n",
    "\n",
    "my_list = [1, 3, 3]\n",
    "modify_list(my_list)\n",
    "print(my_list)"
   ]
  },
  {
   "cell_type": "markdown",
   "metadata": {
    "application/vnd.databricks.v1+cell": {
     "cellMetadata": {},
     "inputWidgets": {},
     "nuid": "8b72869e-ba94-450c-bcd4-147dce093ec1",
     "showTitle": false,
     "title": ""
    }
   },
   "source": [
    "**Immutable Ojbect(Integer):**\n",
    "- In below example, `my_num` is not changed by `modify_integer`. This is because integers are immutable. The operation `n += 1` creates a new object, and n now refers to this new object. The `my_num` is unchanged."
   ]
  },
  {
   "cell_type": "code",
   "execution_count": 0,
   "metadata": {
    "application/vnd.databricks.v1+cell": {
     "cellMetadata": {
      "byteLimit": 2048000,
      "rowLimit": 10000
     },
     "inputWidgets": {},
     "nuid": "a783062d-c55b-47df-a992-5d25edc58efe",
     "showTitle": false,
     "title": ""
    }
   },
   "outputs": [
    {
     "output_type": "stream",
     "name": "stdout",
     "output_type": "stream",
     "text": [
      "5\n6\n"
     ]
    }
   ],
   "source": [
    "def modify_integer(n):\n",
    "    n += 1\n",
    "    return n\n",
    "\n",
    "my_num = 5\n",
    "new_num  = modify_integer(my_num)\n",
    "print(my_num)\n",
    "print(new_num)"
   ]
  },
  {
   "cell_type": "markdown",
   "metadata": {
    "application/vnd.databricks.v1+cell": {
     "cellMetadata": {},
     "inputWidgets": {},
     "nuid": "3453a445-927e-456a-a8ad-da47966335e3",
     "showTitle": false,
     "title": ""
    }
   },
   "source": [
    "###Exercise: Try to guess the output of the following code. "
   ]
  },
  {
   "cell_type": "code",
   "execution_count": 0,
   "metadata": {
    "application/vnd.databricks.v1+cell": {
     "cellMetadata": {
      "byteLimit": 2048000,
      "rowLimit": 10000
     },
     "inputWidgets": {},
     "nuid": "84770390-790d-49ba-b003-e70d281e9284",
     "showTitle": false,
     "title": ""
    }
   },
   "outputs": [],
   "source": [
    "def swap(x, y):\n",
    "    temp = x\n",
    "    x = y\n",
    "    y = temp\n",
    "\n",
    "# Driver code\n",
    "x = 2\n",
    "y = 3\n",
    "swap(x, y)\n",
    "print(x)\n",
    "print(y)"
   ]
  }
 ],
 "metadata": {
  "application/vnd.databricks.v1+notebook": {
   "dashboards": [],
   "environmentMetadata": null,
   "language": "python",
   "notebookMetadata": {
    "pythonIndentUnit": 4
   },
   "notebookName": "Functions in Python",
   "widgets": {}
  }
 },
 "nbformat": 4,
 "nbformat_minor": 0
}
