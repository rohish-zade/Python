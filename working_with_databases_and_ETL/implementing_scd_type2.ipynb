{
 "cells": [
  {
   "cell_type": "markdown",
   "id": "c4957469-9349-4454-a84f-cd59e3ff07a2",
   "metadata": {},
   "source": [
    "## Type 2 (Historical Method):\n",
    "- Behavior: A new record is added with the updated information, and the old record is retained with its historical data. Often, metadata like an effective date and expiration date, or a current flag, are used to manage the records.\n",
    "- Use Case: When it’s important to track historical changes and understand how the dimension has changed over time.\n",
    "\n",
    "Example: If a customer moves to a new city, a new record with the new city is added, and the old record is kept with the original city."
   ]
  },
  {
   "cell_type": "markdown",
   "id": "8a89c6f1-6314-455f-8081-9eea1eb987ab",
   "metadata": {},
   "source": [
    "<!DOCTYPE html>\n",
    "<html lang=\"en\">\n",
    "<head>\n",
    "    <meta charset=\"UTF-8\">\n",
    "    <meta name=\"viewport\" content=\"width=device-width, initial-scale=1.0\">\n",
    "    <title>SCD Type 2 Example Tables</title>\n",
    "    <style>\n",
    "        table {\n",
    "            width: 100%;\n",
    "            border-collapse: collapse;\n",
    "            margin: 20px 0;\n",
    "        }\n",
    "        table, th, td {\n",
    "            border: 1px solid black;\n",
    "        }\n",
    "        th, td {\n",
    "            padding: 10px;\n",
    "            text-align: center;\n",
    "        }\n",
    "        th {\n",
    "            background-color: #f2f2f2;\n",
    "        }\n",
    "    </style>\n",
    "</head>\n",
    "<body>\n",
    "\n",
    "<h5>Initial Dimension Table:</h5>\n",
    "<table>\n",
    "    <tr>\n",
    "        <th>CustomerID</th>\n",
    "        <th>CustomerName</th>\n",
    "        <th>City</th>\n",
    "        <th>StartDate</th>\n",
    "        <th>EndDate</th>\n",
    "        <th>CurrentFlag</th>\n",
    "    </tr>\n",
    "    <tr>\n",
    "        <td>1</td>\n",
    "        <td>Jane Smith</td>\n",
    "        <td>New York</td>\n",
    "        <td>2021-01-01</td>\n",
    "        <td>NaT</td>\n",
    "        <td>True</td>\n",
    "    </tr>\n",
    "</table>\n",
    "\n",
    "<h5>Updated Dimension Table with SCD Type 2:</h5>\n",
    "<table>\n",
    "    <tr>\n",
    "        <th>CustomerID</th>\n",
    "        <th>CustomerName</th>\n",
    "        <th>City</th>\n",
    "        <th>StartDate</th>\n",
    "        <th>EndDate</th>\n",
    "        <th>CurrentFlag</th>\n",
    "    </tr>\n",
    "    <tr>\n",
    "        <td>1</td>\n",
    "        <td>Jane Smith</td>\n",
    "        <td>New York</td>\n",
    "        <td>2021-01-01</td>\n",
    "        <td>2022-06-01</td>\n",
    "        <td>False</td>\n",
    "    </tr>\n",
    "    <tr>\n",
    "        <td>2</td>\n",
    "        <td>Jane Smith</td>\n",
    "        <td>Los Angeles</td>\n",
    "        <td>2022-06-02</td>\n",
    "        <td>NaT</td>\n",
    "        <td>True</td>\n",
    "    </tr>\n",
    "</table>\n",
    "\n",
    "</body>\n",
    "</html>\n"
   ]
  },
  {
   "cell_type": "code",
   "execution_count": 3,
   "id": "477eaa10-edda-4c0b-8622-4a67e7764009",
   "metadata": {},
   "outputs": [],
   "source": [
    "import pandas as pd\n",
    "import sqlalchemy as sal"
   ]
  },
  {
   "cell_type": "markdown",
   "id": "24d34d7d-b685-4542-a6c4-1d2817108206",
   "metadata": {},
   "source": [
    "##### Connection to sql server"
   ]
  },
  {
   "cell_type": "code",
   "execution_count": 2,
   "id": "93374b40-3765-41eb-a9d0-dd309069f0d5",
   "metadata": {},
   "outputs": [],
   "source": [
    "# removed sql server details for security purpose\n",
    "connection_string = ('mssql://<sql server _name>\\SQLEXPRESS/<database_name>?driver=ODBC+DRIVER+17+FOR+SQL+SERVER')\n",
    "engine = sal.create_engine(connection_string)\n",
    "conn=engine.connect()"
   ]
  },
  {
   "cell_type": "code",
   "execution_count": null,
   "id": "1ea131f6-6052-424c-a3a6-ece765e69547",
   "metadata": {},
   "outputs": [],
   "source": [
    "# Create a target table in sql server name products_dim\n",
    "    # create table product_dim(\n",
    "    # product_key int identity(1,1) primary key,\n",
    "    # product_id int,\n",
    "    # product_name varchar(100),\n",
    "    # price int,\n",
    "    # start_date date,\n",
    "    # end_date date\n",
    "    # )\n",
    "\n",
    "# Source file name products is there with 2 records for the first time\n",
    "    # product_id,product_name,price\n",
    "    # 100,Iphone 13,50000\n",
    "    # 200,HP Laptop Pro,60000\n",
    "\n",
    "# after first insert the data in target sql table will looks like below: both the records are active\n",
    "    # product_key\tproduct_id\tproduct_name\tprice\tstart_date\tend_date\n",
    "    # 1\t100\tIphone 13\t50000\t2024-01-01\t9999-12-31\n",
    "    # 2\t200\tHP Laptop Pro\t60000\t2024-01-01\t9999-12-31\n",
    "\n",
    "# for the second time will get the below data in products source file\n",
    "    # product_id,product_name,price\n",
    "    # 100,Iphone 13,60000\n",
    "    # 300,Iphone 13,70000\n",
    "\n",
    "# for the thrid time will get the below data in proudcts source file\n",
    "    # product_id,product_name,price\n",
    "    # 200,HP Laptop Pro,65000\n",
    "    # 300,Iphone 13,80000\n",
    "    # 400,Iphone 14,90000"
   ]
  },
  {
   "cell_type": "markdown",
   "id": "d22bae17-9af7-4ec9-9115-c327c0bea132",
   "metadata": {},
   "source": [
    "#"
   ]
  },
  {
   "cell_type": "markdown",
   "id": "76dd39d8-b1c2-4694-9a35-bd11231f87a7",
   "metadata": {},
   "source": [
    "##### Function for to extract the data"
   ]
  },
  {
   "cell_type": "code",
   "execution_count": 24,
   "id": "5a7299f3-a462-488d-a4a8-8e5e2d552bba",
   "metadata": {},
   "outputs": [],
   "source": [
    "def extract():\n",
    "    products_df = pd.read_csv(\"products.csv\")\n",
    "\n",
    "    # only retrieving the products which are active from\n",
    "    products_db_df = pd.read_sql_query(\"select * from product_dim where end_date='9999-12-31'\", conn)\n",
    "    \n",
    "    return products_df, products_db_df"
   ]
  },
  {
   "cell_type": "markdown",
   "id": "aed0393c-59cf-45b2-bdf2-1fb37cd419d3",
   "metadata": {},
   "source": [
    "#"
   ]
  },
  {
   "cell_type": "markdown",
   "id": "0b64776f-ccd3-4186-88d8-36796ea9caf3",
   "metadata": {},
   "source": [
    "##### functions to transform the data"
   ]
  },
  {
   "cell_type": "code",
   "execution_count": 53,
   "id": "fab4b1e5-6f3a-44ca-bc88-ba253e00943e",
   "metadata": {},
   "outputs": [],
   "source": [
    "def transform(products_df, products_db_df):\n",
    "    # join the source and target table data based on the product id to identify updated columns\n",
    "    joined_df = pd.merge(products_df, products_db_df, how='inner', on='product_id')\n",
    "\n",
    "    # retriving the proudct keys for which we have to update\n",
    "    update_rows = joined_df['product_key']\n",
    "    keys = update_rows.to_list()\n",
    "    product_keys = ','.join([str(key) for key in keys])\n",
    "    return product_keys\n",
    "    # update_rows = \n",
    "    "
   ]
  },
  {
   "cell_type": "markdown",
   "id": "9fbabe34-7b17-46f9-a59f-38fba29d9c2c",
   "metadata": {},
   "source": [
    "#"
   ]
  },
  {
   "cell_type": "code",
   "execution_count": 64,
   "id": "f45e2fbb-f16c-4c01-854c-770374c81257",
   "metadata": {},
   "outputs": [],
   "source": [
    "# function to update the the products target table\n",
    "def updates(product_keys):\n",
    "    query = sal.text(\"update product_dim set end_date= cast(getdate() as date) where product_key in (\" + product_keys + \") \" )\n",
    "    p = conn.execute(query)\n",
    "    conn.commit() "
   ]
  },
  {
   "cell_type": "markdown",
   "id": "56ec0ef3-4452-4c52-a7c5-cc469de0df84",
   "metadata": {},
   "source": [
    "#"
   ]
  },
  {
   "cell_type": "code",
   "execution_count": 67,
   "id": "3f8d8da8-ad7c-4cde-9d61-627f2e664c18",
   "metadata": {},
   "outputs": [],
   "source": [
    "# function to insert the products\n",
    "def inserts(df_products):\n",
    "    df_products['start_date'] = pd.to_datetime('now').strftime('%Y-%m-%d')\n",
    "    df_products['end_date'] = '9999-12-31'\n",
    "    df_products.to_sql('product_dim', con=conn , index=False , if_exists = 'append')\n",
    "    conn.commit()"
   ]
  },
  {
   "cell_type": "markdown",
   "id": "de71d032-ca87-4b32-9392-58bcaac8d572",
   "metadata": {},
   "source": [
    "#"
   ]
  },
  {
   "cell_type": "code",
   "execution_count": 68,
   "id": "9c9fb57d-453d-4fd5-bd5d-f5d93c7db16b",
   "metadata": {},
   "outputs": [],
   "source": [
    "products_df, products_db_df = extract()"
   ]
  },
  {
   "cell_type": "code",
   "execution_count": 23,
   "id": "15e0568a-8c98-424a-8b63-8990e342ce13",
   "metadata": {},
   "outputs": [],
   "source": [
    "# for the first time, manually assigning the start date and end date(this will be not be the case in the real time projects)\n",
    "    # products_df['start_date'] = '2024-01-01'\n",
    "    # products_df['end_date'] = '9999-12-31'"
   ]
  },
  {
   "cell_type": "code",
   "execution_count": 69,
   "id": "4777b400-3783-4549-8a98-e67a51df656f",
   "metadata": {},
   "outputs": [],
   "source": [
    "product_keys = transform(products_df, products_db_df)"
   ]
  },
  {
   "cell_type": "code",
   "execution_count": 70,
   "id": "594aff2a-61ae-48db-a3f2-4dfc326598ba",
   "metadata": {},
   "outputs": [],
   "source": [
    "# only call updates function if any updated records comes from source\n",
    "if product_keys != '':\n",
    "    updates(product_keys)"
   ]
  },
  {
   "cell_type": "code",
   "execution_count": 71,
   "id": "68ae7568-5d8c-449a-96ae-fd293bdab181",
   "metadata": {},
   "outputs": [],
   "source": [
    "inserts(products_df)"
   ]
  }
 ],
 "metadata": {
  "kernelspec": {
   "display_name": "Python 3 (ipykernel)",
   "language": "python",
   "name": "python3"
  },
  "language_info": {
   "codemirror_mode": {
    "name": "ipython",
    "version": 3
   },
   "file_extension": ".py",
   "mimetype": "text/x-python",
   "name": "python",
   "nbconvert_exporter": "python",
   "pygments_lexer": "ipython3",
   "version": "3.12.3"
  }
 },
 "nbformat": 4,
 "nbformat_minor": 5
}
