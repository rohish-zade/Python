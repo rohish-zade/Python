{
 "cells": [
  {
   "cell_type": "markdown",
   "id": "4e715cfc-d145-492d-a1c0-1bad543eec8f",
   "metadata": {},
   "source": [
    "## Slowly Changing Dimension (SCD) "
   ]
  },
  {
   "cell_type": "markdown",
   "id": "452c44da-35de-496e-90c3-cc0855a23315",
   "metadata": {},
   "source": [
    " - A [Slowly Changing Dimension (SCD)](https://www.oracle.com/webfolder/technetwork/tutorials/obe/db/10g/r2/owb/owb10gr2_gs/owb/lesson3/slowlychangingdimensions.htm) is a concept in data warehousing that refers to the management of data that changes slowly over time in a dimension table.\n",
    " - Dimension tables contain descriptive attributes related to the facts in a fact table, and the way changes in these attributes are handled is critical for accurate historical data analysis"
   ]
  },
  {
   "cell_type": "markdown",
   "id": "0b1730af-76ff-4f9a-a52f-9595a27971fd",
   "metadata": {},
   "source": [
    "### [Types of Slowly Changing Dimensions](https://www.expressanalytics.com/blog/what-is-a-slowly-changing-dimension-and-the-logic-in-implementation/)\n",
    "There are several types of SCDs, each handling changes differently:\n"
   ]
  },
  {
   "cell_type": "markdown",
   "id": "c84dba31-7847-4d19-a699-831d9026ec8f",
   "metadata": {},
   "source": [
    "- **Type 0 SCD** – The Fixed Method\n",
    "- **Type 1 SCD** – Overwriting the old value by new values\n",
    "- **Type 2 SCD** – Creating a new additional record by row versioning\n",
    "- **Type 3 SCD** – Adding a new column to show the previous value\n",
    "- **Type 4 SCD** – Using historical table\n",
    "- **Type 6 SCD** – Combine approaches of types 1,2,3 (1+2+3=6) or Hybrid SCD"
   ]
  },
  {
   "cell_type": "markdown",
   "id": "09f0223b-a91d-4eab-8dc6-eb13628198b7",
   "metadata": {},
   "source": [
    "#### Type 0 (Passive Method):\n",
    "- Behavior: No changes are made in the dimension table. The original data remains unchanged, regardless of any updates in the source system.\n",
    "- Use Case: When historical accuracy isn't crucial or when changes are irrelevant.\n"
   ]
  },
  {
   "cell_type": "markdown",
   "id": "29f3884b-6b0a-4637-89a7-3fe718fcaf18",
   "metadata": {},
   "source": [
    "#### Type 1 SCD (Overwriting):\n",
    "- Behavior: The old data is overwritten with the new data. No history is kept.\n",
    "- Use Case: When the data changes are minor or non-critical, and you don't need to track historical changes.\n",
    "\n",
    "Example: If a customer's address changes, the new address simply replaces the old one in the table."
   ]
  },
  {
   "cell_type": "markdown",
   "id": "abbe8513-6e3b-4e0b-827d-eeee3ea293e2",
   "metadata": {},
   "source": [
    "#### Type 2 (Historical Method):\n",
    "- Behavior: A new record is added with the updated information, and the old record is retained with its historical data. Often, metadata like an effective date and expiration date, or a current flag, are used to manage the records.\n",
    "- Use Case: When it’s important to track historical changes and understand how the dimension has changed over time.\n",
    "\n",
    "Example: If a customer moves to a new city, a new record with the new city is added, and the old record is kept with the original city."
   ]
  },
  {
   "cell_type": "markdown",
   "id": "3f9aecdc-2416-4c04-a71a-715103ac1f21",
   "metadata": {},
   "source": [
    "#### Type 3 (Alternative Value Method):\n",
    "- Behavior: A new column is added to store the previous value of the attribute. Only a limited history is maintained (typically one prior value).\n",
    "- Use Case: When only a few changes are relevant, and you want to track just the previous state alongside the current state.\n",
    "\n",
    "\n",
    "Example: If a customer's marital status changes from \"Single\" to \"Married,\" a new column \"Previous Marital Status\" might be added to store the \"Single\" status.\n",
    "\n",
    "------------\n",
    "\n",
    "<table border=\"1\">\n",
    "    <thead>\n",
    "        <tr>\n",
    "            <th>Customer_ID</th>\n",
    "            <th>Customer_Name</th>\n",
    "            <th>Current_Marital_Status</th>\n",
    "            <th>Previous_Marital_Status</th>\n",
    "        </tr>\n",
    "    </thead>\n",
    "    <tbody>\n",
    "        <tr>\n",
    "            <td>101</td>\n",
    "            <td>John Doe</td>\n",
    "            <td>Married</td>\n",
    "            <td>Single</td>\n",
    "        </tr>\n",
    "    </tbody>\n",
    "</table>\n"
   ]
  },
  {
   "cell_type": "markdown",
   "id": "6384186c-370a-4f2d-bc46-87bf6839c4b2",
   "metadata": {},
   "source": [
    "#### Type 4 (History Table):\n",
    "- Behavior: A separate history table is maintained to track changes. The main dimension table stores only the current data, while all historical changes are stored in the separate history table.\n",
    "- Use Case: When historical data is important, but you want to keep the dimension table lean and focused on current data.\n",
    "\n",
    "Example: A customer’s contact information is stored in the main dimension table, while changes to contact information are tracked in a separate history table.\n",
    "\n",
    "---------------\n",
    "<h5>Current Dimension Table</h5>\n",
    "<table border=\"1\">\n",
    "    <thead>\n",
    "        <tr>\n",
    "            <th>Customer_ID</th>\n",
    "            <th>Customer_Name</th>\n",
    "            <th>Current_Address</th>\n",
    "            <th>Current_Phone</th>\n",
    "        </tr>\n",
    "    </thead>\n",
    "    <tbody>\n",
    "        <tr>\n",
    "            <td>101</td>\n",
    "            <td>John Doe</td>\n",
    "            <td>456 New St</td>\n",
    "            <td>555-1234</td>\n",
    "        </tr>\n",
    "    </tbody>\n",
    "</table>\n",
    "\n",
    "----------\n",
    "\n",
    "<h5>History Table</h5>\n",
    "<table border=\"1\">\n",
    "    <thead>\n",
    "        <tr>\n",
    "            <th>Customer_ID</th>\n",
    "            <th>Customer_Name</th>\n",
    "            <th>Address</th>\n",
    "            <th>Phone</th>\n",
    "            <th>Start_Date</th>\n",
    "            <th>End_Date</th>\n",
    "        </tr>\n",
    "    </thead>\n",
    "    <tbody>\n",
    "        <tr>\n",
    "            <td>101</td>\n",
    "            <td>John Doe</td>\n",
    "            <td>123 Old St</td>\n",
    "            <td>555-9876</td>\n",
    "            <td>2020-01-01</td>\n",
    "            <td>2022-01-01</td>\n",
    "        </tr>\n",
    "        <tr>\n",
    "            <td>101</td>\n",
    "            <td>John Doe</td>\n",
    "            <td>456 New St</td>\n",
    "            <td>555-1234</td>\n",
    "            <td>2022-01-01</td>\n",
    "            <td>NULL</td>\n",
    "        </tr>\n",
    "    </tbody>\n",
    "</table>\n"
   ]
  },
  {
   "cell_type": "markdown",
   "id": "b99f674e-517a-426d-ba9a-4c8b73decc59",
   "metadata": {},
   "source": [
    "#### Type 6 (Hybrid Method):\n",
    "- Behavior: Combines techniques from Types 1, 2, and 3. A new record is created for each change (Type 2), the current record is updated (Type 1), and the previous value is stored in a separate column (Type 3).\n",
    "- Use Case: When you need comprehensive tracking of changes, with both historical records and previous state information readily available.\n",
    "\n",
    "\n",
    "Example:\n",
    "- Scenario: A customer changes their address.\n",
    "- Action: A new record is created for the new address, the current address is updated, and the previous address is stored in a new column.\n",
    "- Result: The dimension table tracks the current address, the previous address, and retains historical records.\n",
    "\n",
    "\n",
    "------------\n",
    "<table border=\"1\">\n",
    "    <thead>\n",
    "        <tr>\n",
    "            <th>Customer_ID</th>\n",
    "            <th>Customer_Name</th>\n",
    "            <th>Current_Address</th>\n",
    "            <th>Previous_Address</th>\n",
    "            <th>Start_Date</th>\n",
    "            <th>End_Date</th>\n",
    "            <th>Current_Flag</th>\n",
    "        </tr>\n",
    "    </thead>\n",
    "    <tbody>\n",
    "        <tr>\n",
    "            <td>101</td>\n",
    "            <td>John Doe</td>\n",
    "            <td>456 New St</td>\n",
    "            <td>123 Old St</td>\n",
    "            <td>2022-01-01</td>\n",
    "            <td>NULL</td>\n",
    "            <td>Y</td>\n",
    "        </tr>\n",
    "        <tr>\n",
    "            <td>102</td>\n",
    "            <td>John Doe</td>\n",
    "            <td>123 Old St</td>\n",
    "            <td>NULL</td>\n",
    "            <td>2020-01-01</td>\n",
    "            <td>2022-01-01</td>\n",
    "            <td>N</td>\n",
    "        </tr>\n",
    "    </tbody>\n",
    "</table>\n"
   ]
  }
 ],
 "metadata": {
  "kernelspec": {
   "display_name": "Python 3 (ipykernel)",
   "language": "python",
   "name": "python3"
  },
  "language_info": {
   "codemirror_mode": {
    "name": "ipython",
    "version": 3
   },
   "file_extension": ".py",
   "mimetype": "text/x-python",
   "name": "python",
   "nbconvert_exporter": "python",
   "pygments_lexer": "ipython3",
   "version": "3.12.3"
  }
 },
 "nbformat": 4,
 "nbformat_minor": 5
}
