{
 "cells": [
  {
   "cell_type": "markdown",
   "id": "70d55b82-fe61-406e-a480-a39e3f64b28f",
   "metadata": {},
   "source": [
    "### Type 1 SCD (Overwriting):\n",
    "- Behavior: The old data is overwritten with the new data. No history is kept.\n",
    "- Use Case: When the data changes are minor or non-critical, and you don't need to track historical changes.\n",
    "\n",
    "Example: If a customer's address changes, the new address simply replaces the old one in the table."
   ]
  },
  {
   "cell_type": "markdown",
   "id": "17688532-a7a0-4c99-88d9-f86941fa89b4",
   "metadata": {},
   "source": [
    "#"
   ]
  },
  {
   "cell_type": "markdown",
   "id": "047cb631-cb0e-4603-abf6-680850d295ba",
   "metadata": {},
   "source": [
    "#### Connecting to SQL Server\n",
    "\n",
    "We will be using SQLAlchemy to connect to Sql Server"
   ]
  },
  {
   "cell_type": "code",
   "execution_count": 2,
   "id": "77186b4c-dc8e-4ae5-be4d-4e9913811948",
   "metadata": {},
   "outputs": [],
   "source": [
    "import pandas as pd\n",
    "import sqlalchemy as sal"
   ]
  },
  {
   "cell_type": "code",
   "execution_count": 3,
   "id": "2cfadab5-5a03-4b9e-9d99-f15cbee356d6",
   "metadata": {},
   "outputs": [],
   "source": [
    "# removed sql server details for security purpose\n",
    "connection_string = ('mssql://<sql server _name>\\SQLEXPRESS/<database_name>?driver=ODBC+DRIVER+17+FOR+SQL+SERVER')\n",
    "engine = sal.create_engine(connection_string)\n",
    "conn=engine.connect()"
   ]
  },
  {
   "cell_type": "markdown",
   "id": "32598f4b-e8a4-44b4-8207-098e0ce2ef2d",
   "metadata": {},
   "source": [
    "#"
   ]
  },
  {
   "cell_type": "code",
   "execution_count": 110,
   "id": "d7a8c33c-fddd-4f6d-ad2e-3c0205228ab0",
   "metadata": {},
   "outputs": [],
   "source": [
    "# Create a target table in sql server name produts\n",
    "    # create table products(\n",
    "    #     product_id int,\n",
    "    #     product_name varchar(100),\n",
    "    #     price double\n",
    "    # )\n",
    "\n",
    "# Source file name products is there with 2 records for the first time\n",
    "    # product_id,product_name,price\n",
    "    # 1,'HP Pro Notebook',80000\n",
    "    # 2,'Iphpone 15',70000\n",
    "\n",
    "# Source file will comes with new/updated record for the 2nd time\n",
    "    # product_id,product_name,price\n",
    "    # 1,'HP Pro Notebook',95000\n",
    "    # 3,'Lenovo Thinkpad',50000\n",
    "  # The new records will be inserted and updated records values will be updated in the target table"
   ]
  },
  {
   "cell_type": "markdown",
   "id": "9c8f45c9-91aa-417f-b524-cea4372ce8ea",
   "metadata": {},
   "source": [
    "#"
   ]
  },
  {
   "cell_type": "markdown",
   "id": "56eaafef-c04f-41a8-b858-d8bf288291fe",
   "metadata": {},
   "source": [
    "#### Functions to Implement Type 1 SCD"
   ]
  },
  {
   "cell_type": "code",
   "execution_count": 4,
   "id": "e168a30c-d8de-4723-8d47-0ca5bd4c50b7",
   "metadata": {},
   "outputs": [],
   "source": [
    "# function for to extract the data\n",
    "def extract():\n",
    "    products_df = pd.read_csv('products.csv')\n",
    "    products_db_df = pd.read_sql_query('select * from products', conn)\n",
    "    return products_df, products_db_df"
   ]
  },
  {
   "cell_type": "markdown",
   "id": "6c248a0b-e427-4e91-9d78-dc9db1ce05a4",
   "metadata": {},
   "source": [
    "#"
   ]
  },
  {
   "cell_type": "code",
   "execution_count": 10,
   "id": "07cdbe07-2891-4dc8-9ebc-83b82d2975dd",
   "metadata": {},
   "outputs": [],
   "source": [
    "# function to transform the data\n",
    "def transform(products_df, products_db_df):\n",
    "    # perform left join the on products_df and products_db_df on product_id\n",
    "    joined_df = pd.merge(products_df, products_db_df, how='left', on='product_id')\n",
    "    \n",
    "    # get the records where product_name_y is null to identify new records coming from source\n",
    "    insert_df = joined_df[joined_df['product_name_y'].isna()]\n",
    "    # get the rows and columns names as per the target table schema\n",
    "    insert_final_df = insert_df.iloc[:, 0:3]\n",
    "    # rename the columns\n",
    "    insert_final_df.columns = products_db_df.columns\n",
    "\n",
    "    # get the records where product_name_y is not null to identify updated records from the source\n",
    "    updates_df = joined_df[joined_df['product_name_y'].notna()]\n",
    "    # get the rows and columns names as per the target table schema\n",
    "    updates_final_df = updates_df.iloc[:, 0:3]\n",
    "    # rename the columns\n",
    "    updates_final_df.columns = products_db_df.columns\n",
    "    \n",
    "    return insert_final_df,updates_final_df\n",
    "    "
   ]
  },
  {
   "cell_type": "markdown",
   "id": "ed456479-4a1e-4049-828a-343dc8deb470",
   "metadata": {},
   "source": [
    "#"
   ]
  },
  {
   "cell_type": "code",
   "execution_count": 6,
   "id": "c3d50d34-5949-439f-8e43-7409fa0aecb2",
   "metadata": {},
   "outputs": [],
   "source": [
    "# function to staged the data before loading into target table\n",
    "def load_staging(updates_final_df):\n",
    "    updates_final_df.to_sql('products_stg', con=conn, index=False, if_exists='replace')\n",
    "    conn.commit()"
   ]
  },
  {
   "cell_type": "markdown",
   "id": "98b3cfa1-d9ff-40cc-a785-117ef5881e0d",
   "metadata": {},
   "source": [
    "#"
   ]
  },
  {
   "cell_type": "code",
   "execution_count": 7,
   "id": "18d071cf-d9bc-4b58-ac63-dcb153aa0310",
   "metadata": {},
   "outputs": [],
   "source": [
    "# function to load the data in sql server target table \n",
    "def insert(df_insert_final):\n",
    "    df_insert_final.to_sql('products', con=conn, index=False, if_exists='append')\n",
    "    conn.commit()"
   ]
  },
  {
   "cell_type": "markdown",
   "id": "52a5f210-fd7a-40cc-bd78-aaf60ed74e0f",
   "metadata": {},
   "source": [
    "#"
   ]
  },
  {
   "cell_type": "code",
   "execution_count": 13,
   "id": "da912cd6-8cae-4174-aa7d-619332ce6be9",
   "metadata": {},
   "outputs": [],
   "source": [
    "# function to update the target table for updated records\n",
    "def updates():\n",
    "    query = sal.text('update products set price = products_stg.price, product_name=products_stg.product_name from products_stg where products.product_id=products_stg.product_id')\n",
    "    p = conn.execute(query)\n",
    "    # print(\"printitng p2:\", p)\n",
    "    conn.commit()"
   ]
  },
  {
   "cell_type": "markdown",
   "id": "2b2846eb-7129-4aff-8ef6-eddeac699deb",
   "metadata": {},
   "source": [
    "#"
   ]
  },
  {
   "cell_type": "markdown",
   "id": "1b0da953-4dde-4dc7-a6b4-415873c0473a",
   "metadata": {},
   "source": [
    "#### calling the functions"
   ]
  },
  {
   "cell_type": "code",
   "execution_count": null,
   "id": "3d077fe0-5d08-4f80-bfc3-d476825d235f",
   "metadata": {},
   "outputs": [],
   "source": [
    "# calling the functions\n",
    "products_df, products_db_df = extract()\n",
    "\n",
    "insert_final_df, updates_final_df = transform(products_df, products_db_df)\n",
    "\n",
    "load_staging(updates_final_df)\n",
    "\n",
    "insert(insert_final_df)\n",
    "\n",
    "updates()"
   ]
  },
  {
   "cell_type": "code",
   "execution_count": null,
   "id": "1066bd25-d747-4160-9d3d-a0167666dc25",
   "metadata": {},
   "outputs": [],
   "source": []
  }
 ],
 "metadata": {
  "kernelspec": {
   "display_name": "Python 3 (ipykernel)",
   "language": "python",
   "name": "python3"
  },
  "language_info": {
   "codemirror_mode": {
    "name": "ipython",
    "version": 3
   },
   "file_extension": ".py",
   "mimetype": "text/x-python",
   "name": "python",
   "nbconvert_exporter": "python",
   "pygments_lexer": "ipython3",
   "version": "3.12.3"
  }
 },
 "nbformat": 4,
 "nbformat_minor": 5
}
