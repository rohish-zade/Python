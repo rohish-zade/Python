{
 "cells": [
  {
   "cell_type": "markdown",
   "metadata": {
    "application/vnd.databricks.v1+cell": {
     "cellMetadata": {},
     "inputWidgets": {},
     "nuid": "ea7ed151-50a9-4ab5-9664-a2b45ff8d40d",
     "showTitle": false,
     "title": ""
    }
   },
   "source": [
    "##File Handling in Python\n",
    "- A file is a named location used for storing data. For example, main.py is a file that is always used to store Python code.\n",
    "- Python provides various functions to perform different file operations, a process known as File Handling."
   ]
  },
  {
   "cell_type": "markdown",
   "metadata": {
    "application/vnd.databricks.v1+cell": {
     "cellMetadata": {},
     "inputWidgets": {},
     "nuid": "8398bab8-5a41-4d29-95d7-f2bbd50070dc",
     "showTitle": false,
     "title": ""
    }
   },
   "source": [
    "- Python treats files differently as text or binary and this is important. \n",
    "- Each line of code includes a sequence of characters, and they form a text file. \n",
    "- Each line of a file is terminated with a special character, called the EOL or End of Line characters like comma {,} or newline character. \n",
    "- It ends the current line and tells the interpreter a new one has begun. Let’s start with the reading and writing files."
   ]
  },
  {
   "cell_type": "markdown",
   "metadata": {
    "application/vnd.databricks.v1+cell": {
     "cellMetadata": {},
     "inputWidgets": {},
     "nuid": "b6c67eed-195c-4cc7-b56c-9ffc058c24df",
     "showTitle": false,
     "title": ""
    }
   },
   "source": []
  },
  {
   "cell_type": "markdown",
   "metadata": {
    "application/vnd.databricks.v1+cell": {
     "cellMetadata": {},
     "inputWidgets": {},
     "nuid": "f4cdf0ec-eb51-4512-83d8-3371e7245afa",
     "showTitle": false,
     "title": ""
    }
   },
   "source": [
    "###Python File Open\n",
    "\n",
    "- In Python, we need to open a file first to perform any operations on it—we use the **open()** function to do so.\n",
    "- The **open()** function takes two parameters; `filename`, and `mode`."
   ]
  },
  {
   "cell_type": "markdown",
   "metadata": {
    "application/vnd.databricks.v1+cell": {
     "cellMetadata": {},
     "inputWidgets": {},
     "nuid": "48c52897-0fb5-4555-b8b6-7f0a74cf3479",
     "showTitle": false,
     "title": ""
    }
   },
   "source": [
    "**There are four different methods (modes) for opening a file:**\n",
    "- **\"r\" - Read** \n",
    "  - Default value. Opens a file for reading, error if the file does not exist\n",
    "  \n",
    "- **\"a\" - Append** \n",
    "  - Opens a file for appending, creates the file if it does not exist\n",
    "- **\"w\" - Write** \n",
    "  - Opens a file for writing, creates the file if it does not exist\n",
    "- **\"x\" - Create** \n",
    "  - Creates the specified file, returns an error if the file exists"
   ]
  },
  {
   "cell_type": "markdown",
   "metadata": {
    "application/vnd.databricks.v1+cell": {
     "cellMetadata": {},
     "inputWidgets": {},
     "nuid": "4752e513-e01b-4d9e-825a-78b098d4704c",
     "showTitle": false,
     "title": ""
    }
   },
   "source": [
    "**NOTE:** In addition you can specify if the file should be handled as binary or text mode\n",
    "\n",
    "- \"t\" - Text - Default value. Text mode\n",
    "- \"b\" - Binary - Binary mode (e.g. images)"
   ]
  },
  {
   "cell_type": "markdown",
   "metadata": {
    "application/vnd.databricks.v1+cell": {
     "cellMetadata": {},
     "inputWidgets": {},
     "nuid": "294c4533-de8c-48e7-a24d-0798428960ad",
     "showTitle": false,
     "title": ""
    }
   },
   "source": []
  },
  {
   "cell_type": "markdown",
   "metadata": {
    "application/vnd.databricks.v1+cell": {
     "cellMetadata": {},
     "inputWidgets": {},
     "nuid": "c41dd5d6-3911-4714-91ba-ab46075a06fd",
     "showTitle": false,
     "title": ""
    }
   },
   "source": [
    "**Advantages of File Handling in Python**\n",
    "\n",
    "\n",
    "**Versatility:** \n",
    "- File handling in Python allows you to perform a wide range of operations, such as creating, reading, writing, appending, renaming, and deleting files.\n",
    "\n",
    "\n",
    "**Flexibility:**\n",
    "- File handling in Python is highly flexible, as it allows you to work with different file types (e.g. text files, binary files, CSV files, etc.), and to perform different operations on files (e.g. read, write, append, etc.).\n",
    "\n",
    "\n",
    "**User–friendly:**\n",
    "- Python provides a user-friendly interface for file handling, making it easy to create, read, and manipulate files.\n",
    "\n",
    "\n",
    "**Cross-platform:**\n",
    "- Python file-handling functions work across different platforms (e.g. Windows, Mac, Linux), allowing for seamless integration and compatibility.\n"
   ]
  },
  {
   "cell_type": "markdown",
   "metadata": {
    "application/vnd.databricks.v1+cell": {
     "cellMetadata": {},
     "inputWidgets": {},
     "nuid": "9c33f680-d80b-4c70-b7eb-fbcfd82f0813",
     "showTitle": false,
     "title": ""
    }
   },
   "source": [
    "**Disadvantages of File Handling in Python**\n",
    "\n",
    "**Error-prone:** \n",
    "- File handling operations in Python can be prone to errors, especially if the code is not carefully written or if there are issues with the file system (e.g. file permissions, file locks, etc.).\n",
    "\n",
    "**Security risks:** \n",
    "- File handling in Python can also pose security risks, especially if the program accepts user input that can be used to access or modify sensitive files on the system.\n",
    "\n",
    "**Complexity:** \n",
    "- File handling in Python can be complex, especially when working with more advanced file formats or operations. Careful attention must be paid to the code to ensure that files are handled properly and securely.\n",
    "\n",
    "**Performance:** \n",
    "- File handling operations in Python can be slower than other programming languages, especially when dealing with large files or performing complex operations."
   ]
  }
 ],
 "metadata": {
  "application/vnd.databricks.v1+notebook": {
   "dashboards": [],
   "environmentMetadata": null,
   "language": "python",
   "notebookMetadata": {
    "mostRecentlyExecutedCommandWithImplicitDF": {
     "commandId": 2791885411881642,
     "dataframes": [
      "_sqldf"
     ]
    },
    "pythonIndentUnit": 4
   },
   "notebookName": "File Handling in Python",
   "widgets": {}
  }
 },
 "nbformat": 4,
 "nbformat_minor": 0
}
