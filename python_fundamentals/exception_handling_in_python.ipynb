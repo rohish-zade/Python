{
 "cells": [
  {
   "cell_type": "markdown",
   "metadata": {
    "application/vnd.databricks.v1+cell": {
     "cellMetadata": {},
     "inputWidgets": {},
     "nuid": "4e7528a5-6ded-4f9f-8931-ebee842e69e3",
     "showTitle": false,
     "title": ""
    }
   },
   "source": [
    "###Python Exception Handling\n",
    "\n",
    "Error in Python can be of two types i.e. **Syntax errors** and **Exceptions**. Errors are problems in a program due to which the program will stop the execution. \n",
    "\n",
    "On the other hand, exceptions are raised when some internal events occur which change the normal flow of the program. "
   ]
  },
  {
   "cell_type": "markdown",
   "metadata": {
    "application/vnd.databricks.v1+cell": {
     "cellMetadata": {},
     "inputWidgets": {},
     "nuid": "a6e1cfe4-81bc-41d6-a2b2-8ecfd30e5d99",
     "showTitle": false,
     "title": ""
    }
   },
   "source": []
  },
  {
   "cell_type": "markdown",
   "metadata": {
    "application/vnd.databricks.v1+cell": {
     "cellMetadata": {},
     "inputWidgets": {},
     "nuid": "657c7ee2-2611-4c11-9fd9-95ed5c9ddf7a",
     "showTitle": false,
     "title": ""
    }
   },
   "source": [
    "####Different types of exceptions in python:\n",
    "\n",
    "In Python, there are several built-in Python exceptions that can be raised when an error occurs during the execution of a program. \n",
    "\n",
    "#####Here are some of the most common types of exceptions in Python:\n",
    "\n",
    "**SyntaxError:**\n",
    "- This exception is raised when the interpreter encounters a syntax error in the code, such as a `misspelled keyword, a missing colon, or an unbalanced parenthesis.`\n",
    "\n",
    "\n",
    "**TypeError:**\n",
    "- This exception is raised when an operation or function is applied to an object of the wrong type, `such as adding a string to an integer.`\n",
    "\n",
    "\n",
    "**NameError:** \n",
    "- This exception is raised when a `variable or function name is not found in the current scope.`\n",
    "\n",
    "\n",
    "**IndexError:** \n",
    "- This exception is raised `when an index is out of range for a list, tuple, or other sequence types.`\n",
    "\n",
    "\n",
    "**KeyError:** \n",
    "- This exception is raised` when a key is not found in a dictionary.`\n",
    "\n",
    "\n",
    "**ValueError:** \n",
    "- This exception is raised when a `function or method is called with an invalid argument or input,` such as trying to convert a string to an integer when the string does not represent a valid integer.\n",
    "\n",
    "\n",
    "**AttributeError:** \n",
    "- This exception is raised when an attribute or method is not found on an object, `such as trying to access a non-existent attribute of a class instance.`\n",
    "\n",
    "\n",
    "**IOError:** \n",
    "- This exception is raised when an I/O operation, `such as reading or writing a file, fails due to an input/output error.`\n",
    "\n",
    "\n",
    "**ZeroDivisionError:** \n",
    "- This exception is raised when an attempt is made to `divide a number by zero.`\n",
    "\n",
    "\n",
    "**ImportError:** \n",
    "- This exception is raised when an `import statement fails to find or load a module.`**\n",
    "\n",
    "\n",
    "\n",
    "\n",
    "\n",
    "*These are just a few examples of the many types of exceptions that can occur in Python*"
   ]
  },
  {
   "cell_type": "markdown",
   "metadata": {
    "application/vnd.databricks.v1+cell": {
     "cellMetadata": {},
     "inputWidgets": {},
     "nuid": "08fb0d77-acda-4b6c-8820-508c33140f0f",
     "showTitle": false,
     "title": ""
    }
   },
   "source": []
  },
  {
   "cell_type": "markdown",
   "metadata": {
    "application/vnd.databricks.v1+cell": {
     "cellMetadata": {},
     "inputWidgets": {},
     "nuid": "222f19e8-c93a-480b-9fcf-f1f2cfc4b280",
     "showTitle": false,
     "title": ""
    }
   },
   "source": [
    "####Difference between Syntax Error and Exceptions"
   ]
  },
  {
   "cell_type": "markdown",
   "metadata": {
    "application/vnd.databricks.v1+cell": {
     "cellMetadata": {},
     "inputWidgets": {},
     "nuid": "92157cd5-2f5f-4612-a982-116bab2f7dce",
     "showTitle": false,
     "title": ""
    }
   },
   "source": [
    "**Syntax Error:**\n",
    "- As the name suggests this error is caused by the wrong syntax in the code. It leads to the termination of the program. \n"
   ]
  },
  {
   "cell_type": "code",
   "execution_count": 0,
   "metadata": {
    "application/vnd.databricks.v1+cell": {
     "cellMetadata": {
      "byteLimit": 2048000,
      "rowLimit": 10000
     },
     "inputWidgets": {},
     "nuid": "facd6782-bfaf-4d55-8e3e-8c8920a18631",
     "showTitle": false,
     "title": ""
    }
   },
   "outputs": [
    {
     "output_type": "display_data",
     "data": {
      "text/plain": [
       "\u001B[0;36m  File \u001B[0;32m<command-3639318487390009>:5\u001B[0;36m\u001B[0m\n",
       "\u001B[0;31m    if(amount > 2999)\u001B[0m\n",
       "\u001B[0m                     ^\u001B[0m\n",
       "\u001B[0;31mSyntaxError\u001B[0m\u001B[0;31m:\u001B[0m invalid syntax\n"
      ]
     },
     "metadata": {
      "application/vnd.databricks.v1+output": {
       "arguments": {},
       "data": "\u001B[0;36m  File \u001B[0;32m<command-3639318487390009>:5\u001B[0;36m\u001B[0m\n\u001B[0;31m    if(amount > 2999)\u001B[0m\n\u001B[0m                     ^\u001B[0m\n\u001B[0;31mSyntaxError\u001B[0m\u001B[0;31m:\u001B[0m invalid syntax\n",
       "errorSummary": "<span class='ansi-red-fg'>SyntaxError</span>: invalid syntax (<command-3639318487390009>, line 5)",
       "errorTraceType": "ansi",
       "metadata": {},
       "type": "ipynbError"
      }
     },
     "output_type": "display_data"
    }
   ],
   "source": [
    "# Example:\n",
    "# There is a syntax error in the code . The ‘if' statement should be followed by a colon (:), and the ‘print' statement should be indented to be inside the ‘if' block.\n",
    "\n",
    "amount = 10000\n",
    "if(amount > 2999)\n",
    "print(\"You are eligible to purchase Dsa Self Paced\")\n"
   ]
  },
  {
   "cell_type": "markdown",
   "metadata": {
    "application/vnd.databricks.v1+cell": {
     "cellMetadata": {},
     "inputWidgets": {},
     "nuid": "0ba84c48-4d8c-4240-866b-469fd02e8c4d",
     "showTitle": false,
     "title": ""
    }
   },
   "source": [
    "\n",
    "**Exceptions:** Exceptions are raised when the program is syntactically correct, but the code results in an error. This error does not stop the execution of the program, however, it changes the normal flow of the program."
   ]
  },
  {
   "cell_type": "code",
   "execution_count": 0,
   "metadata": {
    "application/vnd.databricks.v1+cell": {
     "cellMetadata": {
      "byteLimit": 2048000,
      "rowLimit": 10000
     },
     "inputWidgets": {},
     "nuid": "40e4fea6-9b3e-4cb8-8f7e-a1b2dd33a06a",
     "showTitle": false,
     "title": ""
    }
   },
   "outputs": [
    {
     "output_type": "display_data",
     "data": {
      "text/plain": [
       "\u001B[0;31m---------------------------------------------------------------------------\u001B[0m\n",
       "\u001B[0;31mZeroDivisionError\u001B[0m                         Traceback (most recent call last)\n",
       "File \u001B[0;32m<command-3639318487390010>:5\u001B[0m\n",
       "\u001B[1;32m      1\u001B[0m \u001B[38;5;66;03m# Example:\u001B[39;00m\n",
       "\u001B[1;32m      2\u001B[0m \u001B[38;5;66;03m# Here in this code a s we are dividing the ‘marks’ by zero so a error will occur known as ‘ZeroDivisionError’\u001B[39;00m\n",
       "\u001B[1;32m      4\u001B[0m marks \u001B[38;5;241m=\u001B[39m \u001B[38;5;241m10000\u001B[39m\n",
       "\u001B[0;32m----> 5\u001B[0m a \u001B[38;5;241m=\u001B[39m marks \u001B[38;5;241m/\u001B[39m \u001B[38;5;241m0\u001B[39m\n",
       "\u001B[1;32m      6\u001B[0m \u001B[38;5;28mprint\u001B[39m(a)\n",
       "\n",
       "\u001B[0;31mZeroDivisionError\u001B[0m: division by zero"
      ]
     },
     "metadata": {
      "application/vnd.databricks.v1+output": {
       "arguments": {},
       "data": "\u001B[0;31m---------------------------------------------------------------------------\u001B[0m\n\u001B[0;31mZeroDivisionError\u001B[0m                         Traceback (most recent call last)\nFile \u001B[0;32m<command-3639318487390010>:5\u001B[0m\n\u001B[1;32m      1\u001B[0m \u001B[38;5;66;03m# Example:\u001B[39;00m\n\u001B[1;32m      2\u001B[0m \u001B[38;5;66;03m# Here in this code a s we are dividing the ‘marks’ by zero so a error will occur known as ‘ZeroDivisionError’\u001B[39;00m\n\u001B[1;32m      4\u001B[0m marks \u001B[38;5;241m=\u001B[39m \u001B[38;5;241m10000\u001B[39m\n\u001B[0;32m----> 5\u001B[0m a \u001B[38;5;241m=\u001B[39m marks \u001B[38;5;241m/\u001B[39m \u001B[38;5;241m0\u001B[39m\n\u001B[1;32m      6\u001B[0m \u001B[38;5;28mprint\u001B[39m(a)\n\n\u001B[0;31mZeroDivisionError\u001B[0m: division by zero",
       "errorSummary": "<span class='ansi-red-fg'>ZeroDivisionError</span>: division by zero",
       "errorTraceType": "ansi",
       "metadata": {},
       "type": "ipynbError"
      }
     },
     "output_type": "display_data"
    }
   ],
   "source": [
    "# Example:\n",
    "# Here in this code a s we are dividing the ‘marks’ by zero so a error will occur known as ‘ZeroDivisionError’\n",
    "\n",
    "marks = 10000\n",
    "a = marks / 0\n",
    "print(a)"
   ]
  },
  {
   "cell_type": "markdown",
   "metadata": {
    "application/vnd.databricks.v1+cell": {
     "cellMetadata": {},
     "inputWidgets": {},
     "nuid": "4f34ae1a-e2d5-448b-9b05-4199c7572fb5",
     "showTitle": false,
     "title": ""
    }
   },
   "source": [
    "In the above example raised the **ZeroDivisionError** as we are trying to divide a number by 0.\n",
    "\n",
    "\n",
    "**Note:** `Exception` is the base class for all the exceptions in Python. You can check the exception hierarchy [here](https://docs.python.org/2/library/exceptions.html#exception-hierarchy)\n"
   ]
  },
  {
   "cell_type": "markdown",
   "metadata": {
    "application/vnd.databricks.v1+cell": {
     "cellMetadata": {},
     "inputWidgets": {},
     "nuid": "01657e64-774d-4a01-89f9-e654cd3415b3",
     "showTitle": false,
     "title": ""
    }
   },
   "source": []
  },
  {
   "cell_type": "markdown",
   "metadata": {
    "application/vnd.databricks.v1+cell": {
     "cellMetadata": {},
     "inputWidgets": {},
     "nuid": "8f2866ed-daf0-446a-ba1c-09f4c38aa24a",
     "showTitle": false,
     "title": ""
    }
   },
   "source": [
    "###Try and Except Statement – Catching Exceptions\n",
    "\n",
    "Try and except statements are used to catch and handle exceptions in Python. Statements that can raise exceptions are kept inside the try clause and the statements that handle the exception are written inside except clause."
   ]
  },
  {
   "cell_type": "markdown",
   "metadata": {
    "application/vnd.databricks.v1+cell": {
     "cellMetadata": {
      "byteLimit": 2048000,
      "rowLimit": 10000
     },
     "inputWidgets": {},
     "nuid": "9973dacd-c90b-4be9-a7ad-72bdfe8b308b",
     "showTitle": false,
     "title": ""
    }
   },
   "source": [
    "- The **try** block lets you test a block of code for errors.\n",
    "\n",
    "- The **except** block lets you handle the error.\n",
    "\n",
    "- The **else** block lets you execute code when there is no error.\n",
    "\n",
    "- The **finally** block lets you execute code, regardless of the result of the try- and except blocks."
   ]
  },
  {
   "cell_type": "markdown",
   "metadata": {
    "application/vnd.databricks.v1+cell": {
     "cellMetadata": {},
     "inputWidgets": {},
     "nuid": "fe69c7d0-3d57-445f-93a7-30b389029f31",
     "showTitle": false,
     "title": ""
    }
   },
   "source": []
  },
  {
   "cell_type": "code",
   "execution_count": 0,
   "metadata": {
    "application/vnd.databricks.v1+cell": {
     "cellMetadata": {
      "byteLimit": 2048000,
      "rowLimit": 10000
     },
     "inputWidgets": {},
     "nuid": "5f2cf0f8-92db-4f38-979a-09687d603d3e",
     "showTitle": false,
     "title": ""
    }
   },
   "outputs": [
    {
     "output_type": "stream",
     "name": "stdout",
     "output_type": "stream",
     "text": [
      "First print statement\n"
     ]
    },
    {
     "output_type": "display_data",
     "data": {
      "text/plain": [
       "\u001B[0;31m---------------------------------------------------------------------------\u001B[0m\n",
       "\u001B[0;31mZeroDivisionError\u001B[0m                         Traceback (most recent call last)\n",
       "File \u001B[0;32m<command-3639318487390015>:4\u001B[0m\n",
       "\u001B[1;32m      1\u001B[0m \u001B[38;5;66;03m# The below code will raise an exception with ZeroDivisionError: division by zero and our code will stop as you can you second print statement not printed\u001B[39;00m\n",
       "\u001B[1;32m      3\u001B[0m \u001B[38;5;28mprint\u001B[39m(\u001B[38;5;124m\"\u001B[39m\u001B[38;5;124mFirst print statement\u001B[39m\u001B[38;5;124m\"\u001B[39m)\n",
       "\u001B[0;32m----> 4\u001B[0m a \u001B[38;5;241m=\u001B[39m \u001B[38;5;241m1\u001B[39m\u001B[38;5;241m/\u001B[39m\u001B[38;5;241m0\u001B[39m\n",
       "\u001B[1;32m      5\u001B[0m \u001B[38;5;28mprint\u001B[39m(\u001B[38;5;124m\"\u001B[39m\u001B[38;5;124mSecond print statement\u001B[39m\u001B[38;5;124m\"\u001B[39m)\n",
       "\n",
       "\u001B[0;31mZeroDivisionError\u001B[0m: division by zero"
      ]
     },
     "metadata": {
      "application/vnd.databricks.v1+output": {
       "arguments": {},
       "data": "\u001B[0;31m---------------------------------------------------------------------------\u001B[0m\n\u001B[0;31mZeroDivisionError\u001B[0m                         Traceback (most recent call last)\nFile \u001B[0;32m<command-3639318487390015>:4\u001B[0m\n\u001B[1;32m      1\u001B[0m \u001B[38;5;66;03m# The below code will raise an exception with ZeroDivisionError: division by zero and our code will stop as you can you second print statement not printed\u001B[39;00m\n\u001B[1;32m      3\u001B[0m \u001B[38;5;28mprint\u001B[39m(\u001B[38;5;124m\"\u001B[39m\u001B[38;5;124mFirst print statement\u001B[39m\u001B[38;5;124m\"\u001B[39m)\n\u001B[0;32m----> 4\u001B[0m a \u001B[38;5;241m=\u001B[39m \u001B[38;5;241m1\u001B[39m\u001B[38;5;241m/\u001B[39m\u001B[38;5;241m0\u001B[39m\n\u001B[1;32m      5\u001B[0m \u001B[38;5;28mprint\u001B[39m(\u001B[38;5;124m\"\u001B[39m\u001B[38;5;124mSecond print statement\u001B[39m\u001B[38;5;124m\"\u001B[39m)\n\n\u001B[0;31mZeroDivisionError\u001B[0m: division by zero",
       "errorSummary": "<span class='ansi-red-fg'>ZeroDivisionError</span>: division by zero",
       "errorTraceType": "ansi",
       "metadata": {},
       "type": "ipynbError"
      }
     },
     "output_type": "display_data"
    }
   ],
   "source": [
    "# The below code will raise an exception with ZeroDivisionError: division by zero and our code will stop as you can you second print statement not printed\n",
    "\n",
    "print(\"First print statement\")\n",
    "a = 1/0\n",
    "print(\"Second print statement\")"
   ]
  },
  {
   "cell_type": "code",
   "execution_count": 0,
   "metadata": {
    "application/vnd.databricks.v1+cell": {
     "cellMetadata": {
      "byteLimit": 2048000,
      "rowLimit": 10000
     },
     "inputWidgets": {},
     "nuid": "20ee07f2-5cc7-4bf6-a064-b4bbe60724b8",
     "showTitle": false,
     "title": ""
    }
   },
   "outputs": [
    {
     "output_type": "stream",
     "name": "stdout",
     "output_type": "stream",
     "text": [
      "First print statement\nthis is exception block\ndivision by zero\n"
     ]
    }
   ],
   "source": [
    "# we can handle the above exception using try except\n",
    "try:\n",
    "    print(\"First print statement\")\n",
    "    a = 1/0\n",
    "    print(\"Second print statement\")\n",
    "except Exception as e:\n",
    "    print(\"this is exception block\")\n",
    "    print(e)"
   ]
  },
  {
   "cell_type": "code",
   "execution_count": 0,
   "metadata": {
    "application/vnd.databricks.v1+cell": {
     "cellMetadata": {
      "byteLimit": 2048000,
      "rowLimit": 10000
     },
     "inputWidgets": {},
     "nuid": "be37bc07-727e-4ad7-ab5a-695105c3b048",
     "showTitle": false,
     "title": ""
    }
   },
   "outputs": [
    {
     "output_type": "stream",
     "name": "stdout",
     "output_type": "stream",
     "text": [
      "First print statement\nSecond print statement\nthis is else block\nthis is finally block\n"
     ]
    }
   ],
   "source": [
    "# else and finally block\n",
    "try :\n",
    "    print(\"First print statement\")\n",
    "    a = 1/1\n",
    "    print(\"Second print statement\")\n",
    "except Exception as e:\n",
    "    print(\"this is exception block\")\n",
    "    print(e)\n",
    "else :\n",
    "    print(\"this is else block\")\n",
    "finally:\n",
    "    print(\"this is finally block\")"
   ]
  },
  {
   "cell_type": "code",
   "execution_count": 0,
   "metadata": {
    "application/vnd.databricks.v1+cell": {
     "cellMetadata": {},
     "inputWidgets": {},
     "nuid": "4d794685-07a5-45c3-9522-cfba64facde9",
     "showTitle": false,
     "title": ""
    }
   },
   "outputs": [],
   "source": []
  },
  {
   "cell_type": "markdown",
   "metadata": {
    "application/vnd.databricks.v1+cell": {
     "cellMetadata": {},
     "inputWidgets": {},
     "nuid": "e6c4b225-2f9e-457c-b244-9ec3f82d6ccc",
     "showTitle": false,
     "title": ""
    }
   },
   "source": [
    "###Raise an exception\n",
    "\n",
    "- As a Python developer you can choose to throw an exception if a condition occurs.\n",
    "- To throw (or raise) an exception, use the **raise keyword.**"
   ]
  },
  {
   "cell_type": "code",
   "execution_count": 0,
   "metadata": {
    "application/vnd.databricks.v1+cell": {
     "cellMetadata": {
      "byteLimit": 2048000,
      "rowLimit": 10000
     },
     "inputWidgets": {},
     "nuid": "2426fc8e-0d77-4f5e-8792-09702e4f6cbb",
     "showTitle": false,
     "title": ""
    }
   },
   "outputs": [
    {
     "output_type": "display_data",
     "data": {
      "text/plain": [
       "\u001B[0;31m---------------------------------------------------------------------------\u001B[0m\n",
       "\u001B[0;31mException\u001B[0m                                 Traceback (most recent call last)\n",
       "File \u001B[0;32m<command-3639318487390020>:6\u001B[0m\n",
       "\u001B[1;32m      4\u001B[0m x \u001B[38;5;241m=\u001B[39m \u001B[38;5;241m-\u001B[39m\u001B[38;5;241m1\u001B[39m\n",
       "\u001B[1;32m      5\u001B[0m \u001B[38;5;28;01mif\u001B[39;00m x \u001B[38;5;241m<\u001B[39m \u001B[38;5;241m0\u001B[39m:\n",
       "\u001B[0;32m----> 6\u001B[0m   \u001B[38;5;28;01mraise\u001B[39;00m \u001B[38;5;167;01mException\u001B[39;00m(\u001B[38;5;124m\"\u001B[39m\u001B[38;5;124mSorry, no numbers below zero\u001B[39m\u001B[38;5;124m\"\u001B[39m)\n",
       "\n",
       "\u001B[0;31mException\u001B[0m: Sorry, no numbers below zero"
      ]
     },
     "metadata": {
      "application/vnd.databricks.v1+output": {
       "arguments": {},
       "data": "\u001B[0;31m---------------------------------------------------------------------------\u001B[0m\n\u001B[0;31mException\u001B[0m                                 Traceback (most recent call last)\nFile \u001B[0;32m<command-3639318487390020>:6\u001B[0m\n\u001B[1;32m      4\u001B[0m x \u001B[38;5;241m=\u001B[39m \u001B[38;5;241m-\u001B[39m\u001B[38;5;241m1\u001B[39m\n\u001B[1;32m      5\u001B[0m \u001B[38;5;28;01mif\u001B[39;00m x \u001B[38;5;241m<\u001B[39m \u001B[38;5;241m0\u001B[39m:\n\u001B[0;32m----> 6\u001B[0m   \u001B[38;5;28;01mraise\u001B[39;00m \u001B[38;5;167;01mException\u001B[39;00m(\u001B[38;5;124m\"\u001B[39m\u001B[38;5;124mSorry, no numbers below zero\u001B[39m\u001B[38;5;124m\"\u001B[39m)\n\n\u001B[0;31mException\u001B[0m: Sorry, no numbers below zero",
       "errorSummary": "<span class='ansi-red-fg'>Exception</span>: Sorry, no numbers below zero",
       "errorTraceType": "ansi",
       "metadata": {},
       "type": "ipynbError"
      }
     },
     "output_type": "display_data"
    }
   ],
   "source": [
    "# Example\n",
    "# Raise an error and stop the program if x is lower than 0:\n",
    "\n",
    "x = -1\n",
    "if x < 0:\n",
    "  raise Exception(\"Sorry, no numbers below zero\")"
   ]
  },
  {
   "cell_type": "markdown",
   "metadata": {
    "application/vnd.databricks.v1+cell": {
     "cellMetadata": {},
     "inputWidgets": {},
     "nuid": "e1951676-cf38-4040-8bed-33feb4f620c8",
     "showTitle": false,
     "title": ""
    }
   },
   "source": []
  },
  {
   "cell_type": "markdown",
   "metadata": {
    "application/vnd.databricks.v1+cell": {
     "cellMetadata": {},
     "inputWidgets": {},
     "nuid": "3ba9d5a3-90a1-483d-923f-5214edf7fad1",
     "showTitle": false,
     "title": ""
    }
   },
   "source": [
    "The **raise keyword** is used to raise an exception.\n",
    "\n",
    "You can define what kind of error to raise, and the text to print to the user."
   ]
  },
  {
   "cell_type": "code",
   "execution_count": 0,
   "metadata": {
    "application/vnd.databricks.v1+cell": {
     "cellMetadata": {
      "byteLimit": 2048000,
      "rowLimit": 10000
     },
     "inputWidgets": {},
     "nuid": "3d375a57-ad70-4ba3-bc4d-27defbd6a98e",
     "showTitle": false,
     "title": ""
    }
   },
   "outputs": [
    {
     "output_type": "display_data",
     "data": {
      "text/plain": [
       "\u001B[0;31m---------------------------------------------------------------------------\u001B[0m\n",
       "\u001B[0;31mTypeError\u001B[0m                                 Traceback (most recent call last)\n",
       "File \u001B[0;32m<command-3639318487390022>:5\u001B[0m\n",
       "\u001B[1;32m      3\u001B[0m x \u001B[38;5;241m=\u001B[39m \u001B[38;5;124m\"\u001B[39m\u001B[38;5;124mhello\u001B[39m\u001B[38;5;124m\"\u001B[39m\n",
       "\u001B[1;32m      4\u001B[0m \u001B[38;5;28;01mif\u001B[39;00m \u001B[38;5;129;01mnot\u001B[39;00m \u001B[38;5;28mtype\u001B[39m(x) \u001B[38;5;129;01mis\u001B[39;00m \u001B[38;5;28mint\u001B[39m:\n",
       "\u001B[0;32m----> 5\u001B[0m   \u001B[38;5;28;01mraise\u001B[39;00m \u001B[38;5;167;01mTypeError\u001B[39;00m(\u001B[38;5;124m\"\u001B[39m\u001B[38;5;124mOnly integers are allowed\u001B[39m\u001B[38;5;124m\"\u001B[39m)\n",
       "\n",
       "\u001B[0;31mTypeError\u001B[0m: Only integers are allowed"
      ]
     },
     "metadata": {
      "application/vnd.databricks.v1+output": {
       "arguments": {},
       "data": "\u001B[0;31m---------------------------------------------------------------------------\u001B[0m\n\u001B[0;31mTypeError\u001B[0m                                 Traceback (most recent call last)\nFile \u001B[0;32m<command-3639318487390022>:5\u001B[0m\n\u001B[1;32m      3\u001B[0m x \u001B[38;5;241m=\u001B[39m \u001B[38;5;124m\"\u001B[39m\u001B[38;5;124mhello\u001B[39m\u001B[38;5;124m\"\u001B[39m\n\u001B[1;32m      4\u001B[0m \u001B[38;5;28;01mif\u001B[39;00m \u001B[38;5;129;01mnot\u001B[39;00m \u001B[38;5;28mtype\u001B[39m(x) \u001B[38;5;129;01mis\u001B[39;00m \u001B[38;5;28mint\u001B[39m:\n\u001B[0;32m----> 5\u001B[0m   \u001B[38;5;28;01mraise\u001B[39;00m \u001B[38;5;167;01mTypeError\u001B[39;00m(\u001B[38;5;124m\"\u001B[39m\u001B[38;5;124mOnly integers are allowed\u001B[39m\u001B[38;5;124m\"\u001B[39m)\n\n\u001B[0;31mTypeError\u001B[0m: Only integers are allowed",
       "errorSummary": "<span class='ansi-red-fg'>TypeError</span>: Only integers are allowed",
       "errorTraceType": "ansi",
       "metadata": {},
       "type": "ipynbError"
      }
     },
     "output_type": "display_data"
    }
   ],
   "source": [
    "# Raise a TypeError if x is not an integer:\n",
    "\n",
    "x = \"hello\"\n",
    "if not type(x) is int:\n",
    "  raise TypeError(\"Only integers are allowed\")"
   ]
  }
 ],
 "metadata": {
  "application/vnd.databricks.v1+notebook": {
   "dashboards": [],
   "environmentMetadata": null,
   "language": "python",
   "notebookMetadata": {
    "pythonIndentUnit": 4
   },
   "notebookName": "Python Exception Handling",
   "widgets": {}
  }
 },
 "nbformat": 4,
 "nbformat_minor": 0
}
