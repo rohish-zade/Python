{
 "cells": [
  {
   "cell_type": "markdown",
   "metadata": {
    "application/vnd.databricks.v1+cell": {
     "cellMetadata": {},
     "inputWidgets": {},
     "nuid": "f9700bdf-5df3-4322-8e9b-20e101f030b5",
     "showTitle": false,
     "title": ""
    }
   },
   "source": [
    "## Python String"
   ]
  },
  {
   "cell_type": "markdown",
   "metadata": {
    "application/vnd.databricks.v1+cell": {
     "cellMetadata": {},
     "inputWidgets": {},
     "nuid": "e5a9870e-c639-422e-81cc-8b0bfe723a80",
     "showTitle": false,
     "title": ""
    }
   },
   "source": [
    "#### What is a String in Python?\n",
    "- Python Programming does not have a character data type, a single character is simply a string with a length of 1. \n",
    "- A String is a data structure in Python Programming that represents a sequence of characters. \n",
    "- It is an immutable data type, meaning that once you have created a string, you cannot change it."
   ]
  },
  {
   "cell_type": "code",
   "execution_count": 0,
   "metadata": {
    "application/vnd.databricks.v1+cell": {
     "cellMetadata": {
      "byteLimit": 2048000,
      "rowLimit": 10000
     },
     "inputWidgets": {},
     "nuid": "253306b1-4d86-48a1-b64c-007aecf8a872",
     "showTitle": false,
     "title": ""
    }
   },
   "outputs": [
    {
     "output_type": "stream",
     "name": "stdout",
     "output_type": "stream",
     "text": [
      "Hello\nHello\n"
     ]
    }
   ],
   "source": [
    "# Strings in python are surrounded by either single quotation marks, or double quotation marks.\n",
    "\n",
    "# 'hello' is the same as \"hello\".\n",
    "\n",
    "# You can display a string literal with the print() function:\n",
    "print(\"Hello\")\n",
    "print('Hello')\n"
   ]
  },
  {
   "cell_type": "markdown",
   "metadata": {
    "application/vnd.databricks.v1+cell": {
     "cellMetadata": {
      "byteLimit": 2048000,
      "rowLimit": 10000
     },
     "inputWidgets": {},
     "nuid": "d204c3cf-1c43-4bf6-968e-e4b1c8fc86d3",
     "showTitle": false,
     "title": ""
    }
   },
   "source": [
    "####Quotes Inside Quotes\n",
    "- You can use quotes inside a string, as long as they don't match the quotes surrounding the string:"
   ]
  },
  {
   "cell_type": "code",
   "execution_count": 0,
   "metadata": {
    "application/vnd.databricks.v1+cell": {
     "cellMetadata": {
      "byteLimit": 2048000,
      "rowLimit": 10000
     },
     "inputWidgets": {},
     "nuid": "2a718c4c-2bed-4234-8259-1c6fb393f6e9",
     "showTitle": false,
     "title": ""
    }
   },
   "outputs": [
    {
     "output_type": "stream",
     "name": "stdout",
     "output_type": "stream",
     "text": [
      "It's alright\nHe is called 'Johnly'\nHe is called \"Johny\"\n"
     ]
    }
   ],
   "source": [
    "# Example\n",
    "print(\"It's alright\")\n",
    "print(\"He is called 'Johnly'\")\n",
    "print('He is called \"Johny\"')\n"
   ]
  },
  {
   "cell_type": "markdown",
   "metadata": {
    "application/vnd.databricks.v1+cell": {
     "cellMetadata": {},
     "inputWidgets": {},
     "nuid": "5d0552fb-598d-45fb-b6af-11c246abae6a",
     "showTitle": false,
     "title": ""
    }
   },
   "source": [
    "#### Assign String to a Variable\n",
    "- Assigning a string to a variable is done with the variable name followed by an equal sign and the string:"
   ]
  },
  {
   "cell_type": "code",
   "execution_count": 0,
   "metadata": {
    "application/vnd.databricks.v1+cell": {
     "cellMetadata": {
      "byteLimit": 2048000,
      "rowLimit": 10000
     },
     "inputWidgets": {},
     "nuid": "d962e54a-7168-441d-8298-63e7ba3e1c38",
     "showTitle": false,
     "title": ""
    }
   },
   "outputs": [
    {
     "output_type": "stream",
     "name": "stdout",
     "output_type": "stream",
     "text": [
      "Hello MF\n"
     ]
    }
   ],
   "source": [
    "# Example:\n",
    "a = \"Hello MF\"\n",
    "print(a)"
   ]
  },
  {
   "cell_type": "markdown",
   "metadata": {
    "application/vnd.databricks.v1+cell": {
     "cellMetadata": {},
     "inputWidgets": {},
     "nuid": "7f284181-47eb-40d7-b6ca-fd95e907c530",
     "showTitle": false,
     "title": ""
    }
   },
   "source": [
    "####Multiline Strings\n",
    "- You can assign a multiline string to a variable by using three quotes:"
   ]
  },
  {
   "cell_type": "code",
   "execution_count": 0,
   "metadata": {
    "application/vnd.databricks.v1+cell": {
     "cellMetadata": {
      "byteLimit": 2048000,
      "rowLimit": 10000
     },
     "inputWidgets": {},
     "nuid": "0b11a3fd-109d-40e5-80d8-456283d64b59",
     "showTitle": false,
     "title": ""
    }
   },
   "outputs": [
    {
     "output_type": "stream",
     "name": "stdout",
     "output_type": "stream",
     "text": [
      "Lorem ipsum dolor sit amet,\nconsectetur adipiscing elit,\nsed do eiusmod tempor incididunt\nut labore et dolore magna aliqua.\n"
     ]
    }
   ],
   "source": [
    "# Example\n",
    "# You can use three double quotes:\n",
    "\n",
    "a = \"\"\"Lorem ipsum dolor sit amet,\n",
    "consectetur adipiscing elit,\n",
    "sed do eiusmod tempor incididunt\n",
    "ut labore et dolore magna aliqua.\"\"\"\n",
    "print(a)"
   ]
  },
  {
   "cell_type": "code",
   "execution_count": 0,
   "metadata": {
    "application/vnd.databricks.v1+cell": {
     "cellMetadata": {
      "byteLimit": 2048000,
      "rowLimit": 10000
     },
     "inputWidgets": {},
     "nuid": "137fae48-d714-4453-8519-9690ddb24df3",
     "showTitle": false,
     "title": ""
    }
   },
   "outputs": [
    {
     "output_type": "stream",
     "name": "stdout",
     "output_type": "stream",
     "text": [
      "Lorem ipsum dolor sit amet,\nconsectetur adipiscing elit,\nsed do eiusmod tempor incididunt\nut labore et dolore magna aliqua.\n"
     ]
    }
   ],
   "source": [
    "# Or three single quotes:\n",
    "# Example:\n",
    "b = '''Lorem ipsum dolor sit amet,\n",
    "consectetur adipiscing elit,\n",
    "sed do eiusmod tempor incididunt\n",
    "ut labore et dolore magna aliqua.'''\n",
    "print(b)"
   ]
  },
  {
   "cell_type": "markdown",
   "metadata": {
    "application/vnd.databricks.v1+cell": {
     "cellMetadata": {},
     "inputWidgets": {},
     "nuid": "0d39e838-5e0e-494c-a1c4-eeb37199105b",
     "showTitle": false,
     "title": ""
    }
   },
   "source": [
    "####Strings are Arrays\n",
    "- Like many other popular programming languages, strings in Python are arrays of bytes representing unicode characters.\n",
    "- However, Python does not have a character data type, a single character is simply a string with a length of 1.\n",
    "- Square brackets can be used to access elements of the string."
   ]
  },
  {
   "cell_type": "code",
   "execution_count": 0,
   "metadata": {
    "application/vnd.databricks.v1+cell": {
     "cellMetadata": {
      "byteLimit": 2048000,
      "rowLimit": 10000
     },
     "inputWidgets": {},
     "nuid": "9ecac13e-978b-42aa-a32a-0171fef94b98",
     "showTitle": false,
     "title": ""
    }
   },
   "outputs": [
    {
     "output_type": "stream",
     "name": "stdout",
     "output_type": "stream",
     "text": [
      "o\n"
     ]
    }
   ],
   "source": [
    "# Example\n",
    "# Get the character at position 1 (remember that the first character has the position 0):\n",
    "\n",
    "a = \"Rohish Zade!\"\n",
    "print(a[1])"
   ]
  },
  {
   "cell_type": "markdown",
   "metadata": {
    "application/vnd.databricks.v1+cell": {
     "cellMetadata": {
      "byteLimit": 2048000,
      "rowLimit": 10000
     },
     "inputWidgets": {},
     "nuid": "91a6175d-5a50-4cae-b5c3-dba18d6e33c3",
     "showTitle": false,
     "title": ""
    }
   },
   "source": [
    "####Looping Through a String\n",
    "- Since strings are arrays, we can loop through the characters in a string, with a for loop."
   ]
  },
  {
   "cell_type": "code",
   "execution_count": 0,
   "metadata": {
    "application/vnd.databricks.v1+cell": {
     "cellMetadata": {
      "byteLimit": 2048000,
      "rowLimit": 10000
     },
     "inputWidgets": {},
     "nuid": "1ee11748-da66-4390-b224-d492a6e5f26e",
     "showTitle": false,
     "title": ""
    }
   },
   "outputs": [
    {
     "output_type": "stream",
     "name": "stdout",
     "output_type": "stream",
     "text": [
      "R\no\nh\ni\ns\nh\n \nZ\na\nd\ne\n"
     ]
    }
   ],
   "source": [
    "# Example:\n",
    "# Loop through the letters in the word \"banana\":\n",
    "\n",
    "for x in \"Rohish Zade\":\n",
    "  print(x)"
   ]
  },
  {
   "cell_type": "markdown",
   "metadata": {
    "application/vnd.databricks.v1+cell": {
     "cellMetadata": {
      "byteLimit": 2048000,
      "rowLimit": 10000
     },
     "inputWidgets": {},
     "nuid": "85e2afe5-b003-4a61-8426-4252bae4ea02",
     "showTitle": false,
     "title": ""
    }
   },
   "source": [
    "####String Length\n",
    "- To get the length of a string, use the len() function."
   ]
  },
  {
   "cell_type": "code",
   "execution_count": 0,
   "metadata": {
    "application/vnd.databricks.v1+cell": {
     "cellMetadata": {
      "byteLimit": 2048000,
      "rowLimit": 10000
     },
     "inputWidgets": {},
     "nuid": "091ce2a2-e51b-4e50-a29b-5e86931fc609",
     "showTitle": false,
     "title": ""
    }
   },
   "outputs": [
    {
     "output_type": "stream",
     "name": "stdout",
     "output_type": "stream",
     "text": [
      "11\n"
     ]
    }
   ],
   "source": [
    "# Example\n",
    "# The len() function returns the length of a string:\n",
    "\n",
    "name = \"Rohish Zade\"\n",
    "print(len(name))"
   ]
  },
  {
   "cell_type": "markdown",
   "metadata": {
    "application/vnd.databricks.v1+cell": {
     "cellMetadata": {},
     "inputWidgets": {},
     "nuid": "0b528421-b3da-4ff0-abf7-44f25efa6d17",
     "showTitle": false,
     "title": ""
    }
   },
   "source": [
    "####Check String\n",
    "- To check if a certain phrase or character is present in a string, we can use the keyword in."
   ]
  },
  {
   "cell_type": "code",
   "execution_count": 0,
   "metadata": {
    "application/vnd.databricks.v1+cell": {
     "cellMetadata": {
      "byteLimit": 2048000,
      "rowLimit": 10000
     },
     "inputWidgets": {},
     "nuid": "a33c1a3c-c551-4d1a-aeec-6bf3dccc3f02",
     "showTitle": false,
     "title": ""
    }
   },
   "outputs": [
    {
     "output_type": "stream",
     "name": "stdout",
     "output_type": "stream",
     "text": [
      "False\nTrue\n"
     ]
    }
   ],
   "source": [
    "# Example\n",
    "# Check if \"free\" is present in the following text:\n",
    "\n",
    "txt = \"Rohish is a Data Engineer\"\n",
    "print(\"data\" in txt)\n",
    "print(\"Rohish\" in txt)"
   ]
  },
  {
   "cell_type": "code",
   "execution_count": 0,
   "metadata": {
    "application/vnd.databricks.v1+cell": {
     "cellMetadata": {
      "byteLimit": 2048000,
      "rowLimit": 10000
     },
     "inputWidgets": {},
     "nuid": "6c132ea0-c5e2-4ce9-822a-ce271d13f81e",
     "showTitle": false,
     "title": ""
    }
   },
   "outputs": [
    {
     "output_type": "stream",
     "name": "stdout",
     "output_type": "stream",
     "text": [
      "Yes, 'Data' is present.\n"
     ]
    }
   ],
   "source": [
    "# Use it in an if statement:\n",
    "\n",
    "# Example\n",
    "# Print only if \"Data\" is present:\n",
    "\n",
    "txt = \"Rohish is a Data Engineer\"\n",
    "if \"Data\" in txt:\n",
    "  print(\"Yes, 'Data' is present.\")"
   ]
  },
  {
   "cell_type": "markdown",
   "metadata": {
    "application/vnd.databricks.v1+cell": {
     "cellMetadata": {
      "byteLimit": 2048000,
      "rowLimit": 10000
     },
     "inputWidgets": {},
     "nuid": "8e673b6c-f5d0-4cd7-a209-affe2b07f107",
     "showTitle": false,
     "title": ""
    }
   },
   "source": [
    "####Check if NOT\n",
    "- To check if a certain phrase or character is NOT present in a string, we can use the keyword not in."
   ]
  },
  {
   "cell_type": "code",
   "execution_count": 0,
   "metadata": {
    "application/vnd.databricks.v1+cell": {
     "cellMetadata": {
      "byteLimit": 2048000,
      "rowLimit": 10000
     },
     "inputWidgets": {},
     "nuid": "a6520da5-d0e8-4d05-b97f-a2edc2aa5e3d",
     "showTitle": false,
     "title": ""
    }
   },
   "outputs": [
    {
     "output_type": "stream",
     "name": "stdout",
     "output_type": "stream",
     "text": [
      "True\n"
     ]
    }
   ],
   "source": [
    "# Example\n",
    "# Check if \"expensive\" is NOT present in the following text:\n",
    "\n",
    "txt = \"The best things in life are free!\"\n",
    "print(\"expensive\" not in txt)"
   ]
  },
  {
   "cell_type": "markdown",
   "metadata": {
    "application/vnd.databricks.v1+cell": {
     "cellMetadata": {
      "byteLimit": 2048000,
      "rowLimit": 10000
     },
     "inputWidgets": {},
     "nuid": "d38ccf0b-dbbf-4d69-bd91-001230d05acb",
     "showTitle": false,
     "title": ""
    }
   },
   "source": [
    "####Python - Slicing Strings\n",
    "- You can return a range of characters by using the slice syntax.\n",
    "- Specify the *`start index`* and the *`end index`*, separated by a colon, to return a part of the string."
   ]
  },
  {
   "cell_type": "markdown",
   "metadata": {
    "application/vnd.databricks.v1+cell": {
     "cellMetadata": {},
     "inputWidgets": {},
     "nuid": "f6ac9540-3496-4283-a434-9e372a434c6b",
     "showTitle": false,
     "title": ""
    }
   },
   "source": [
    "<div style=\"text-align: center; line-height: 0; padding-top: 9px;\">\n",
    "  <img src=\"https://media.geeksforgeeks.org/wp-content/cdn-uploads/20200204160843/strings.jpg\" alt=\"String Slicing\" style=\"width: 600px\">\n",
    "</div>"
   ]
  },
  {
   "cell_type": "code",
   "execution_count": 0,
   "metadata": {
    "application/vnd.databricks.v1+cell": {
     "cellMetadata": {
      "byteLimit": 2048000,
      "rowLimit": 10000
     },
     "inputWidgets": {},
     "nuid": "f93c401c-c5d3-4313-8ad7-30ca1ebf0df7",
     "showTitle": false,
     "title": ""
    }
   },
   "outputs": [
    {
     "output_type": "stream",
     "name": "stdout",
     "output_type": "stream",
     "text": [
      "ta \n"
     ]
    }
   ],
   "source": [
    "# Get the characters from position 2 to position 5 (not included):\n",
    "\n",
    "b = \"Data Engineer\"\n",
    "print(b[2:5])"
   ]
  },
  {
   "cell_type": "markdown",
   "metadata": {
    "application/vnd.databricks.v1+cell": {
     "cellMetadata": {
      "byteLimit": 2048000,
      "rowLimit": 10000
     },
     "inputWidgets": {},
     "nuid": "c3596242-83ab-4fe6-bdda-669394f6ee47",
     "showTitle": false,
     "title": ""
    }
   },
   "source": [
    "#### Note: The first character has index 0."
   ]
  },
  {
   "cell_type": "markdown",
   "metadata": {
    "application/vnd.databricks.v1+cell": {
     "cellMetadata": {
      "byteLimit": 2048000,
      "rowLimit": 10000
     },
     "inputWidgets": {},
     "nuid": "28cf8bb8-7998-43b1-b260-ae6abb66e4b9",
     "showTitle": false,
     "title": ""
    }
   },
   "source": [
    "####Slice From the Start\n",
    "- By leaving out the start index, the range will start at the first character:"
   ]
  },
  {
   "cell_type": "code",
   "execution_count": 0,
   "metadata": {
    "application/vnd.databricks.v1+cell": {
     "cellMetadata": {
      "byteLimit": 2048000,
      "rowLimit": 10000
     },
     "inputWidgets": {},
     "nuid": "2dc0abfc-3f28-4169-bf7d-853659303f92",
     "showTitle": false,
     "title": ""
    }
   },
   "outputs": [
    {
     "output_type": "stream",
     "name": "stdout",
     "output_type": "stream",
     "text": [
      "Data \n"
     ]
    }
   ],
   "source": [
    "# Example\n",
    "# Get the characters from the start to position 5 (not included):\n",
    "\n",
    "print(b[:5])"
   ]
  },
  {
   "cell_type": "markdown",
   "metadata": {
    "application/vnd.databricks.v1+cell": {
     "cellMetadata": {
      "byteLimit": 2048000,
      "rowLimit": 10000
     },
     "inputWidgets": {},
     "nuid": "36cb9250-3d5c-47f3-ab15-302638b039c5",
     "showTitle": false,
     "title": ""
    }
   },
   "source": [
    "####Slice To the End\n",
    "- By leaving out the end index, the range will go to the end:"
   ]
  },
  {
   "cell_type": "code",
   "execution_count": 0,
   "metadata": {
    "application/vnd.databricks.v1+cell": {
     "cellMetadata": {
      "byteLimit": 2048000,
      "rowLimit": 10000
     },
     "inputWidgets": {},
     "nuid": "a57a0110-8008-4023-bc96-ffa8f3ea3b84",
     "showTitle": false,
     "title": ""
    }
   },
   "outputs": [
    {
     "output_type": "stream",
     "name": "stdout",
     "output_type": "stream",
     "text": [
      "ta Engineer\n"
     ]
    }
   ],
   "source": [
    "# Example\n",
    "# Get the characters from position 2, and all the way to the end:\n",
    "    \n",
    "print(b[2:])"
   ]
  },
  {
   "cell_type": "markdown",
   "metadata": {
    "application/vnd.databricks.v1+cell": {
     "cellMetadata": {
      "byteLimit": 2048000,
      "rowLimit": 10000
     },
     "inputWidgets": {},
     "nuid": "6ec6fe77-0e68-49a0-8672-bc58f6244060",
     "showTitle": false,
     "title": ""
    }
   },
   "source": [
    "#### Negative Indexing\n",
    "- Use negative indexes to start the slice from the end of the string:"
   ]
  },
  {
   "cell_type": "code",
   "execution_count": 0,
   "metadata": {
    "application/vnd.databricks.v1+cell": {
     "cellMetadata": {
      "byteLimit": 2048000,
      "rowLimit": 10000
     },
     "inputWidgets": {},
     "nuid": "c9529de6-5a27-4f1a-aab9-d6d068d42602",
     "showTitle": false,
     "title": ""
    }
   },
   "outputs": [
    {
     "output_type": "stream",
     "name": "stdout",
     "output_type": "stream",
     "text": [
      "orl\n"
     ]
    }
   ],
   "source": [
    "# Example:\n",
    "\n",
    "# Get the characters:\n",
    "# From: \"o\" in \"World!\" (position -5)\n",
    "# To, but not included: \"d\" in \"World!\" (position -2):\n",
    "\n",
    "c = \"Hello, World!\"\n",
    "print(c[-5:-2])"
   ]
  },
  {
   "cell_type": "code",
   "execution_count": 0,
   "metadata": {
    "application/vnd.databricks.v1+cell": {
     "cellMetadata": {
      "byteLimit": 2048000,
      "rowLimit": 10000
     },
     "inputWidgets": {},
     "nuid": "f926b024-6849-4a47-a40c-eda5b5f0b96a",
     "showTitle": false,
     "title": ""
    }
   },
   "outputs": [
    {
     "output_type": "stream",
     "name": "stdout",
     "output_type": "stream",
     "text": [
      "Rohish\n"
     ]
    }
   ],
   "source": [
    "string = 'Rohish'\n",
    "print(string[::1])"
   ]
  },
  {
   "cell_type": "code",
   "execution_count": 0,
   "metadata": {
    "application/vnd.databricks.v1+cell": {
     "cellMetadata": {
      "byteLimit": 2048000,
      "rowLimit": 10000
     },
     "inputWidgets": {},
     "nuid": "664a6649-46f5-43c7-b223-51d4597a6578",
     "showTitle": false,
     "title": ""
    }
   },
   "outputs": [
    {
     "output_type": "stream",
     "name": "stdout",
     "output_type": "stream",
     "text": [
      "Rhs\n"
     ]
    }
   ],
   "source": [
    "string = 'Rohish'\n",
    "print(string[::2])"
   ]
  },
  {
   "cell_type": "markdown",
   "metadata": {
    "application/vnd.databricks.v1+cell": {
     "cellMetadata": {},
     "inputWidgets": {},
     "nuid": "12a35796-d442-4c53-86bd-0423e64f2040",
     "showTitle": false,
     "title": ""
    }
   },
   "source": [
    "####Python String Reversed"
   ]
  },
  {
   "cell_type": "code",
   "execution_count": 0,
   "metadata": {
    "application/vnd.databricks.v1+cell": {
     "cellMetadata": {
      "byteLimit": 2048000,
      "rowLimit": 10000
     },
     "inputWidgets": {},
     "nuid": "b51ac072-b77e-47c1-aabc-4e195a161daa",
     "showTitle": false,
     "title": ""
    }
   },
   "outputs": [
    {
     "output_type": "stream",
     "name": "stdout",
     "output_type": "stream",
     "text": [
      "hsihoR\n"
     ]
    }
   ],
   "source": [
    "string = 'Rohish'\n",
    "print(string[::-1])"
   ]
  },
  {
   "cell_type": "markdown",
   "metadata": {
    "application/vnd.databricks.v1+cell": {
     "cellMetadata": {
      "byteLimit": 2048000,
      "rowLimit": 10000
     },
     "inputWidgets": {},
     "nuid": "f62e7c6e-a8b2-4370-9bc9-3bd3c3812474",
     "showTitle": false,
     "title": ""
    }
   },
   "source": [
    "####Python - Modify Strings"
   ]
  },
  {
   "cell_type": "markdown",
   "metadata": {
    "application/vnd.databricks.v1+cell": {
     "cellMetadata": {
      "byteLimit": 2048000,
      "rowLimit": 10000
     },
     "inputWidgets": {},
     "nuid": "2ca8e58c-3e9b-4c13-a81c-df6478821057",
     "showTitle": false,
     "title": ""
    }
   },
   "source": [
    "##### Python has a set of built-in methods that you can use on strings."
   ]
  },
  {
   "cell_type": "code",
   "execution_count": 0,
   "metadata": {
    "application/vnd.databricks.v1+cell": {
     "cellMetadata": {
      "byteLimit": 2048000,
      "rowLimit": 10000
     },
     "inputWidgets": {},
     "nuid": "93e3820a-bb78-496e-a2a7-6af1370a7001",
     "showTitle": true,
     "title": "Upper Case"
    }
   },
   "outputs": [
    {
     "output_type": "stream",
     "name": "stdout",
     "output_type": "stream",
     "text": [
      "DATA ENGINEER\n"
     ]
    }
   ],
   "source": [
    "x = \"Data Engineer\"\n",
    "print(x.upper())"
   ]
  },
  {
   "cell_type": "code",
   "execution_count": 0,
   "metadata": {
    "application/vnd.databricks.v1+cell": {
     "cellMetadata": {
      "byteLimit": 2048000,
      "rowLimit": 10000
     },
     "inputWidgets": {},
     "nuid": "55764587-fd23-4ce2-82b0-92c07427e743",
     "showTitle": true,
     "title": "Lower Case"
    }
   },
   "outputs": [
    {
     "output_type": "stream",
     "name": "stdout",
     "output_type": "stream",
     "text": [
      "data engineer\n"
     ]
    }
   ],
   "source": [
    "print(x.lower())"
   ]
  },
  {
   "cell_type": "code",
   "execution_count": 0,
   "metadata": {
    "application/vnd.databricks.v1+cell": {
     "cellMetadata": {
      "byteLimit": 2048000,
      "rowLimit": 10000
     },
     "inputWidgets": {},
     "nuid": "dfb72897-8f20-45d1-bd32-eae4d46e2906",
     "showTitle": true,
     "title": "Remove Whitespace"
    }
   },
   "outputs": [
    {
     "output_type": "stream",
     "name": "stdout",
     "output_type": "stream",
     "text": [
      "Hello, World!\n"
     ]
    }
   ],
   "source": [
    "# Remove Whitespace\n",
    "# Whitespace is the space before and/or after the actual text, and very often you want to remove this space.\n",
    "\n",
    "# Example\n",
    "# The strip() method removes any whitespace from the beginning or the end:\n",
    "\n",
    "a = \" Hello, World! \"\n",
    "print(a.strip()) # returns \"Hello, World!\""
   ]
  },
  {
   "cell_type": "code",
   "execution_count": 0,
   "metadata": {
    "application/vnd.databricks.v1+cell": {
     "cellMetadata": {
      "byteLimit": 2048000,
      "rowLimit": 10000
     },
     "inputWidgets": {},
     "nuid": "430f9d12-534c-4be5-b41a-abe90c977214",
     "showTitle": true,
     "title": "Replace String"
    }
   },
   "outputs": [
    {
     "output_type": "stream",
     "name": "stdout",
     "output_type": "stream",
     "text": [
      "Jello, World!\n"
     ]
    }
   ],
   "source": [
    "# Replace String\n",
    "# Example\n",
    "# The replace() method replaces a string with another string:\n",
    "\n",
    "b = \"Hello, World!\"\n",
    "print(b.replace(\"H\", \"J\"))"
   ]
  },
  {
   "cell_type": "code",
   "execution_count": 0,
   "metadata": {
    "application/vnd.databricks.v1+cell": {
     "cellMetadata": {
      "byteLimit": 2048000,
      "rowLimit": 10000
     },
     "inputWidgets": {},
     "nuid": "60007238-e10b-41d9-bc7a-f7690077fca7",
     "showTitle": true,
     "title": "Split String"
    }
   },
   "outputs": [
    {
     "output_type": "stream",
     "name": "stdout",
     "output_type": "stream",
     "text": [
      "['Hello', ' World!']\n"
     ]
    }
   ],
   "source": [
    "# Split String\n",
    "# The split() method returns a list where the text between the specified separator becomes the list items.\n",
    "\n",
    "# Example\n",
    "# The split() method splits the string into substrings if it finds instances of the separator:\n",
    "\n",
    "\n",
    "a = \"Hello, World!\"\n",
    "print(a.split(\",\")) # returns ['Hello', ' World!']"
   ]
  },
  {
   "cell_type": "markdown",
   "metadata": {
    "application/vnd.databricks.v1+cell": {
     "cellMetadata": {},
     "inputWidgets": {},
     "nuid": "4801851b-7cc8-4d64-9c30-0a2e926651ea",
     "showTitle": false,
     "title": ""
    }
   },
   "source": [
    "#### Python String Methods\n",
    "https://www.w3schools.com/python/python_ref_string.asp"
   ]
  },
  {
   "cell_type": "markdown",
   "metadata": {
    "application/vnd.databricks.v1+cell": {
     "cellMetadata": {},
     "inputWidgets": {},
     "nuid": "37b5874a-6137-4397-b0a3-ea22f1b68b39",
     "showTitle": false,
     "title": ""
    }
   },
   "source": [
    "#### Python - String Concatenation"
   ]
  },
  {
   "cell_type": "code",
   "execution_count": 0,
   "metadata": {
    "application/vnd.databricks.v1+cell": {
     "cellMetadata": {
      "byteLimit": 2048000,
      "rowLimit": 10000
     },
     "inputWidgets": {},
     "nuid": "0a273105-8ad0-44cd-8822-76ce9b628ffe",
     "showTitle": false,
     "title": ""
    }
   },
   "outputs": [
    {
     "output_type": "stream",
     "name": "stdout",
     "output_type": "stream",
     "text": [
      "DataEngineer\nData Engineer\n"
     ]
    }
   ],
   "source": [
    "# String Concatenation\n",
    "# To concatenate, or combine, two strings you can use the + operator.\n",
    "\n",
    "# Example\n",
    "# Merge variable a with variable b into variable c:\n",
    "\n",
    "x = \"Data\"\n",
    "y = \"Engineer\"\n",
    "z = x + y\n",
    "print(z)\n",
    "print(x + \" \" + y)"
   ]
  },
  {
   "cell_type": "markdown",
   "metadata": {
    "application/vnd.databricks.v1+cell": {
     "cellMetadata": {
      "byteLimit": 2048000,
      "rowLimit": 10000
     },
     "inputWidgets": {},
     "nuid": "fbdd0d85-a85a-4690-a911-86393406b3f0",
     "showTitle": false,
     "title": ""
    }
   },
   "source": [
    "####Python - Format - Strings or F-Strings"
   ]
  },
  {
   "cell_type": "code",
   "execution_count": 0,
   "metadata": {
    "application/vnd.databricks.v1+cell": {
     "cellMetadata": {
      "byteLimit": 2048000,
      "rowLimit": 10000
     },
     "inputWidgets": {},
     "nuid": "2dd57822-0e39-4c49-b4e7-425cbe54d71c",
     "showTitle": false,
     "title": ""
    }
   },
   "outputs": [
    {
     "output_type": "display_data",
     "data": {
      "text/plain": [
       "\u001B[0;31m---------------------------------------------------------------------------\u001B[0m\n",
       "\u001B[0;31mTypeError\u001B[0m                                 Traceback (most recent call last)\n",
       "File \u001B[0;32m<command-3269694777448912>:5\u001B[0m\n",
       "\u001B[1;32m      1\u001B[0m \u001B[38;5;66;03m#We cannot combine strings and numbers like this:\u001B[39;00m\n",
       "\u001B[1;32m      2\u001B[0m \n",
       "\u001B[1;32m      3\u001B[0m \u001B[38;5;66;03m# Example:\u001B[39;00m\n",
       "\u001B[1;32m      4\u001B[0m age \u001B[38;5;241m=\u001B[39m \u001B[38;5;241m36\u001B[39m\n",
       "\u001B[0;32m----> 5\u001B[0m txt \u001B[38;5;241m=\u001B[39m \u001B[38;5;124m\"\u001B[39m\u001B[38;5;124mMy name is John, I am \u001B[39m\u001B[38;5;124m\"\u001B[39m \u001B[38;5;241m+\u001B[39m age\n",
       "\u001B[1;32m      6\u001B[0m \u001B[38;5;28mprint\u001B[39m(txt)\n",
       "\n",
       "\u001B[0;31mTypeError\u001B[0m: can only concatenate str (not \"int\") to str"
      ]
     },
     "metadata": {
      "application/vnd.databricks.v1+output": {
       "arguments": {},
       "data": "\u001B[0;31m---------------------------------------------------------------------------\u001B[0m\n\u001B[0;31mTypeError\u001B[0m                                 Traceback (most recent call last)\nFile \u001B[0;32m<command-3269694777448912>:5\u001B[0m\n\u001B[1;32m      1\u001B[0m \u001B[38;5;66;03m#We cannot combine strings and numbers like this:\u001B[39;00m\n\u001B[1;32m      2\u001B[0m \n\u001B[1;32m      3\u001B[0m \u001B[38;5;66;03m# Example:\u001B[39;00m\n\u001B[1;32m      4\u001B[0m age \u001B[38;5;241m=\u001B[39m \u001B[38;5;241m36\u001B[39m\n\u001B[0;32m----> 5\u001B[0m txt \u001B[38;5;241m=\u001B[39m \u001B[38;5;124m\"\u001B[39m\u001B[38;5;124mMy name is John, I am \u001B[39m\u001B[38;5;124m\"\u001B[39m \u001B[38;5;241m+\u001B[39m age\n\u001B[1;32m      6\u001B[0m \u001B[38;5;28mprint\u001B[39m(txt)\n\n\u001B[0;31mTypeError\u001B[0m: can only concatenate str (not \"int\") to str",
       "errorSummary": "<span class='ansi-red-fg'>TypeError</span>: can only concatenate str (not \"int\") to str",
       "errorTraceType": "ansi",
       "metadata": {},
       "type": "ipynbError"
      }
     },
     "output_type": "display_data"
    }
   ],
   "source": [
    "#We cannot combine strings and numbers like this:\n",
    "\n",
    "# Example:\n",
    "age = 36\n",
    "txt = \"My name is John, I am \" + age\n",
    "print(txt)"
   ]
  },
  {
   "cell_type": "code",
   "execution_count": 0,
   "metadata": {
    "application/vnd.databricks.v1+cell": {
     "cellMetadata": {
      "byteLimit": 2048000,
      "rowLimit": 10000
     },
     "inputWidgets": {},
     "nuid": "6499f202-e5e8-4845-a17f-944a4f5f607b",
     "showTitle": false,
     "title": ""
    }
   },
   "outputs": [
    {
     "output_type": "stream",
     "name": "stdout",
     "output_type": "stream",
     "text": [
      "My name is John, I am 36\n"
     ]
    }
   ],
   "source": [
    "#we can solve above things by coverting age into string\n",
    "age = 36\n",
    "txt = \"My name is John, I am \" + str(age)\n",
    "print(txt)"
   ]
  },
  {
   "cell_type": "markdown",
   "metadata": {
    "application/vnd.databricks.v1+cell": {
     "cellMetadata": {
      "byteLimit": 2048000,
      "rowLimit": 10000
     },
     "inputWidgets": {},
     "nuid": "69d993c8-b03e-406b-97b4-9f2075bb2ef0",
     "showTitle": false,
     "title": ""
    }
   },
   "source": [
    "#####But we can combine strings and numbers by using `f-strings` or the `format()` method!"
   ]
  },
  {
   "cell_type": "markdown",
   "metadata": {
    "application/vnd.databricks.v1+cell": {
     "cellMetadata": {
      "byteLimit": 2048000,
      "rowLimit": 10000
     },
     "inputWidgets": {},
     "nuid": "7bc5507f-5703-4e98-9cbe-99f7c8bacb04",
     "showTitle": false,
     "title": ""
    }
   },
   "source": [
    "#####F-Strings\n",
    "- F-String was introduced in Python 3.6, and is now the preferred way of formatting strings.\n",
    "- To specify a string as an f-string, simply put an f in front of the string literal, and add curly brackets {} as placeholders for variables and other operations."
   ]
  },
  {
   "cell_type": "code",
   "execution_count": 0,
   "metadata": {
    "application/vnd.databricks.v1+cell": {
     "cellMetadata": {
      "byteLimit": 2048000,
      "rowLimit": 10000
     },
     "inputWidgets": {},
     "nuid": "53d3e3ac-a217-4cff-8bf2-958bca8c462d",
     "showTitle": false,
     "title": ""
    }
   },
   "outputs": [
    {
     "output_type": "stream",
     "name": "stdout",
     "output_type": "stream",
     "text": [
      "My name is Rohish, I am 27\n"
     ]
    }
   ],
   "source": [
    "# Example\n",
    "# Create an f-string:\n",
    "\n",
    "age = 27\n",
    "txt = f\"My name is Rohish, I am {age}\"\n",
    "print(txt)"
   ]
  },
  {
   "cell_type": "markdown",
   "metadata": {
    "application/vnd.databricks.v1+cell": {
     "cellMetadata": {
      "byteLimit": 2048000,
      "rowLimit": 10000
     },
     "inputWidgets": {},
     "nuid": "02357e49-88bc-4387-9878-438b4f2c6b68",
     "showTitle": false,
     "title": ""
    }
   },
   "source": [
    "#####Placeholders and Modifiers\n",
    "- A placeholder can contain variables, operations, functions, and modifiers to format the value."
   ]
  },
  {
   "cell_type": "code",
   "execution_count": 0,
   "metadata": {
    "application/vnd.databricks.v1+cell": {
     "cellMetadata": {
      "byteLimit": 2048000,
      "rowLimit": 10000
     },
     "inputWidgets": {},
     "nuid": "7a10d745-f81e-4b9d-96e7-3fe449abb625",
     "showTitle": false,
     "title": ""
    }
   },
   "outputs": [
    {
     "output_type": "stream",
     "name": "stdout",
     "output_type": "stream",
     "text": [
      "The price is 59 dollars\n"
     ]
    }
   ],
   "source": [
    "# Example\n",
    "# Add a placeholder for the price variable:\n",
    "\n",
    "price = 59\n",
    "txt = f\"The price is {price} dollars\"\n",
    "print(txt)"
   ]
  },
  {
   "cell_type": "code",
   "execution_count": 0,
   "metadata": {
    "application/vnd.databricks.v1+cell": {
     "cellMetadata": {
      "byteLimit": 2048000,
      "rowLimit": 10000
     },
     "inputWidgets": {},
     "nuid": "431a183f-2b45-46ad-b6a3-f4662ff00b93",
     "showTitle": false,
     "title": ""
    }
   },
   "outputs": [
    {
     "output_type": "stream",
     "name": "stdout",
     "output_type": "stream",
     "text": [
      "The price is 59.00 dollars\nThe price is 59.0000 dollars\n"
     ]
    }
   ],
   "source": [
    "# A placeholder can include a modifier to format the value.\n",
    "\n",
    "# A modifier is included by adding a colon : followed by a legal formatting type, like .2f which means fixed point number with 2 decimals:\n",
    "\n",
    "# Example\n",
    "# Display the price with 2 decimals:\n",
    "\n",
    "price = 59\n",
    "txt = f\"The price is {price:.2f} dollars\"\n",
    "txt1 = f\"The price is {price:.4f} dollars\"\n",
    "print(txt)\n",
    "print(txt1)"
   ]
  },
  {
   "cell_type": "code",
   "execution_count": 0,
   "metadata": {
    "application/vnd.databricks.v1+cell": {
     "cellMetadata": {
      "byteLimit": 2048000,
      "rowLimit": 10000
     },
     "inputWidgets": {},
     "nuid": "46734b6c-b2ad-479b-80f7-da18e8b4cfaf",
     "showTitle": false,
     "title": ""
    }
   },
   "outputs": [
    {
     "output_type": "stream",
     "name": "stdout",
     "output_type": "stream",
     "text": [
      "The price is 200 dollars\n"
     ]
    }
   ],
   "source": [
    "# Example\n",
    "# Perform a math operation in the placeholder, and return the result:\n",
    "\n",
    "txt = f\"The price is {20 * 10} dollars\"\n",
    "print(txt)"
   ]
  },
  {
   "cell_type": "markdown",
   "metadata": {
    "application/vnd.databricks.v1+cell": {
     "cellMetadata": {},
     "inputWidgets": {},
     "nuid": "1199f8d9-83a6-439b-b0fd-b7c839d058d8",
     "showTitle": false,
     "title": ""
    }
   },
   "source": [
    "####Python - Escape Characters\n",
    "- To insert characters that are illegal in a string, use an escape character.\n",
    "- An escape character is a backslash \\ followed by the character you want to insert."
   ]
  },
  {
   "cell_type": "code",
   "execution_count": 0,
   "metadata": {
    "application/vnd.databricks.v1+cell": {
     "cellMetadata": {
      "byteLimit": 2048000,
      "rowLimit": 10000
     },
     "inputWidgets": {},
     "nuid": "cef2cc12-f04d-454b-aaec-dac431c4333d",
     "showTitle": false,
     "title": ""
    }
   },
   "outputs": [
    {
     "output_type": "display_data",
     "data": {
      "text/plain": [
       "\u001B[0;36m  File \u001B[0;32m<command-3269694777448921>:6\u001B[0;36m\u001B[0m\n",
       "\u001B[0;31m    string = \"We are the so-called \"Vikings\" from the north.\"\u001B[0m\n",
       "\u001B[0m                                    ^\u001B[0m\n",
       "\u001B[0;31mSyntaxError\u001B[0m\u001B[0;31m:\u001B[0m invalid syntax\n"
      ]
     },
     "metadata": {
      "application/vnd.databricks.v1+output": {
       "arguments": {},
       "data": "\u001B[0;36m  File \u001B[0;32m<command-3269694777448921>:6\u001B[0;36m\u001B[0m\n\u001B[0;31m    string = \"We are the so-called \"Vikings\" from the north.\"\u001B[0m\n\u001B[0m                                    ^\u001B[0m\n\u001B[0;31mSyntaxError\u001B[0m\u001B[0;31m:\u001B[0m invalid syntax\n",
       "errorSummary": "<span class='ansi-red-fg'>SyntaxError</span>: invalid syntax (<command-3269694777448921>, line 6)",
       "errorTraceType": "ansi",
       "metadata": {},
       "type": "ipynbError"
      }
     },
     "output_type": "display_data"
    }
   ],
   "source": [
    "# An example of an illegal character is a double quote inside a string that is surrounded by double quotes:\n",
    "\n",
    "# Example:\n",
    "# You will get an error if you use double quotes inside a string that is surrounded by double quotes:\n",
    "\n",
    "string = \"We are the so-called \"Vikings\" from the north.\"\n",
    "print(string)"
   ]
  },
  {
   "cell_type": "markdown",
   "metadata": {
    "application/vnd.databricks.v1+cell": {
     "cellMetadata": {},
     "inputWidgets": {},
     "nuid": "264a14d8-8c6c-4aed-b6e8-6b362259b468",
     "showTitle": false,
     "title": ""
    }
   },
   "source": [
    "##### To fix this problem, use the escape character \\\":\n"
   ]
  },
  {
   "cell_type": "code",
   "execution_count": 0,
   "metadata": {
    "application/vnd.databricks.v1+cell": {
     "cellMetadata": {
      "byteLimit": 2048000,
      "rowLimit": 10000
     },
     "inputWidgets": {},
     "nuid": "0ccbcad4-ac0b-415e-8335-513e3f4ad96d",
     "showTitle": false,
     "title": ""
    }
   },
   "outputs": [
    {
     "output_type": "stream",
     "name": "stdout",
     "output_type": "stream",
     "text": [
      "We are so-called \"Vikings\" from the north\n"
     ]
    }
   ],
   "source": [
    "# Example:\n",
    "# The escape character allows you to use double quotes when you normally would not be allowed:\n",
    "string = \"We are so-called \\\"Vikings\\\" from the north\"\n",
    "print(string)\n"
   ]
  },
  {
   "cell_type": "markdown",
   "metadata": {
    "application/vnd.databricks.v1+cell": {
     "cellMetadata": {},
     "inputWidgets": {},
     "nuid": "ef231272-1014-4085-84e2-7278e5035f32",
     "showTitle": false,
     "title": ""
    }
   },
   "source": [
    "##### Deleting/Updating from a String\n",
    "- In Python, the Updation or deletion of characters from a String is not allowed.\n",
    "- This will cause an error because item assignment or item deletion from a String is not supported.\n",
    "- Although deletion of the entire String is possible with the use of a built-in del keyword. \n",
    "- This is because Strings are immutable, hence elements of a String cannot be changed once assigned. \n",
    "- Only new strings can be reassigned to the same name. "
   ]
  },
  {
   "cell_type": "markdown",
   "metadata": {
    "application/vnd.databricks.v1+cell": {
     "cellMetadata": {},
     "inputWidgets": {},
     "nuid": "8f65fd8d-5e99-4522-a093-0a8f2d3420af",
     "showTitle": false,
     "title": ""
    }
   },
   "source": [
    "#####Updating a character\n",
    "- A character of a string can be updated in Python by first converting the string into a Python List and then updating the element in the list. \n",
    "- As lists are mutable in nature, we can update the character and then convert the list back into the String."
   ]
  },
  {
   "cell_type": "markdown",
   "metadata": {
    "application/vnd.databricks.v1+cell": {
     "cellMetadata": {},
     "inputWidgets": {},
     "nuid": "ed8d40ba-58c0-4ae7-b506-c61461903fa9",
     "showTitle": false,
     "title": ""
    }
   },
   "source": [
    "#####Updating Entire String\n",
    "- In Python Programming, As Python strings are immutable in nature, we cannot update the existing string. \n",
    "- We can only assign a completely new value to the variable with the same name."
   ]
  },
  {
   "cell_type": "code",
   "execution_count": 0,
   "metadata": {
    "application/vnd.databricks.v1+cell": {
     "cellMetadata": {
      "byteLimit": 2048000,
      "rowLimit": 10000
     },
     "inputWidgets": {},
     "nuid": "8c38f3b6-e2e4-45ce-af55-f40c5138c768",
     "showTitle": false,
     "title": ""
    }
   },
   "outputs": [
    {
     "output_type": "stream",
     "name": "stdout",
     "output_type": "stream",
     "text": [
      "Initial String: \nHello, I'm a Geek\n\nUpdated String: \nHello, I'm a Rohish\n"
     ]
    }
   ],
   "source": [
    "# Python Program to Update\n",
    "# entire String\n",
    "\n",
    "String1 = \"Hello, I'm a Geek\"\n",
    "print(\"Initial String: \")\n",
    "print(String1)\n",
    "\n",
    "# Updating a String\n",
    "String1 = \"Hello, I'm a Rohish\"\n",
    "print(\"\\nUpdated String: \")\n",
    "print(String1)\n"
   ]
  },
  {
   "cell_type": "markdown",
   "metadata": {
    "application/vnd.databricks.v1+cell": {
     "cellMetadata": {},
     "inputWidgets": {},
     "nuid": "4b352f01-f356-42a8-820b-a3276728552a",
     "showTitle": false,
     "title": ""
    }
   },
   "source": [
    "#####Deleting a character\n",
    "- Python strings are immutable, that means we cannot delete a character from it. \n",
    "- When we try to delete the character using the del keyword, it will generate an error."
   ]
  },
  {
   "cell_type": "code",
   "execution_count": 0,
   "metadata": {
    "application/vnd.databricks.v1+cell": {
     "cellMetadata": {
      "byteLimit": 2048000,
      "rowLimit": 10000
     },
     "inputWidgets": {},
     "nuid": "830fc333-ca05-441a-9e67-b9526759af46",
     "showTitle": false,
     "title": ""
    }
   },
   "outputs": [
    {
     "output_type": "stream",
     "name": "stdout",
     "output_type": "stream",
     "text": [
      "Initial String: \nHello, I'm a Rohish\nDeleting character at 2nd Index: \n"
     ]
    },
    {
     "output_type": "display_data",
     "data": {
      "text/plain": [
       "\u001B[0;31m---------------------------------------------------------------------------\u001B[0m\n",
       "\u001B[0;31mTypeError\u001B[0m                                 Traceback (most recent call last)\n",
       "File \u001B[0;32m<command-3269694777448929>:9\u001B[0m\n",
       "\u001B[1;32m      6\u001B[0m \u001B[38;5;28mprint\u001B[39m(String1)\n",
       "\u001B[1;32m      8\u001B[0m \u001B[38;5;28mprint\u001B[39m(\u001B[38;5;124m\"\u001B[39m\u001B[38;5;124mDeleting character at 2nd Index: \u001B[39m\u001B[38;5;124m\"\u001B[39m)\n",
       "\u001B[0;32m----> 9\u001B[0m \u001B[38;5;28;01mdel\u001B[39;00m String1[\u001B[38;5;241m2\u001B[39m]\n",
       "\u001B[1;32m     10\u001B[0m \u001B[38;5;28mprint\u001B[39m(String1)\n",
       "\n",
       "\u001B[0;31mTypeError\u001B[0m: 'str' object doesn't support item deletion"
      ]
     },
     "metadata": {
      "application/vnd.databricks.v1+output": {
       "arguments": {},
       "data": "\u001B[0;31m---------------------------------------------------------------------------\u001B[0m\n\u001B[0;31mTypeError\u001B[0m                                 Traceback (most recent call last)\nFile \u001B[0;32m<command-3269694777448929>:9\u001B[0m\n\u001B[1;32m      6\u001B[0m \u001B[38;5;28mprint\u001B[39m(String1)\n\u001B[1;32m      8\u001B[0m \u001B[38;5;28mprint\u001B[39m(\u001B[38;5;124m\"\u001B[39m\u001B[38;5;124mDeleting character at 2nd Index: \u001B[39m\u001B[38;5;124m\"\u001B[39m)\n\u001B[0;32m----> 9\u001B[0m \u001B[38;5;28;01mdel\u001B[39;00m String1[\u001B[38;5;241m2\u001B[39m]\n\u001B[1;32m     10\u001B[0m \u001B[38;5;28mprint\u001B[39m(String1)\n\n\u001B[0;31mTypeError\u001B[0m: 'str' object doesn't support item deletion",
       "errorSummary": "<span class='ansi-red-fg'>TypeError</span>: 'str' object doesn't support item deletion",
       "errorTraceType": "ansi",
       "metadata": {},
       "type": "ipynbError"
      }
     },
     "output_type": "display_data"
    }
   ],
   "source": [
    "# Python Program to delete\n",
    "# character of a String\n",
    "\n",
    "String1 = \"Hello, I'm a Rohish\"\n",
    "print(\"Initial String: \")\n",
    "print(String1)\n",
    "\n",
    "print(\"Deleting character at 2nd Index: \")\n",
    "del String1[2]\n",
    "print(String1)\n"
   ]
  },
  {
   "cell_type": "markdown",
   "metadata": {
    "application/vnd.databricks.v1+cell": {
     "cellMetadata": {},
     "inputWidgets": {},
     "nuid": "e3ef6e0e-0fa1-4bab-9e6d-bfbcf4408baf",
     "showTitle": false,
     "title": ""
    }
   },
   "source": [
    "#####Deleting Entire String\n",
    "- In Python Programming, Deletion of the entire string is possible with the use of `del` keyword. \n",
    "- Further, if we try to print the string, this will produce an error because the String is deleted and is unavailable to be printed."
   ]
  },
  {
   "cell_type": "code",
   "execution_count": 0,
   "metadata": {
    "application/vnd.databricks.v1+cell": {
     "cellMetadata": {
      "byteLimit": 2048000,
      "rowLimit": 10000
     },
     "inputWidgets": {},
     "nuid": "5d629505-0d61-4228-ab5b-d717031e153c",
     "showTitle": false,
     "title": ""
    }
   },
   "outputs": [
    {
     "output_type": "stream",
     "name": "stdout",
     "output_type": "stream",
     "text": [
      "Initial String: \nHello, I'm a Rohish\n\nDeleting entire String: \n"
     ]
    },
    {
     "output_type": "display_data",
     "data": {
      "text/plain": [
       "\u001B[0;31m---------------------------------------------------------------------------\u001B[0m\n",
       "\u001B[0;31mNameError\u001B[0m                                 Traceback (most recent call last)\n",
       "File \u001B[0;32m<command-3269694777448932>:12\u001B[0m\n",
       "\u001B[1;32m     10\u001B[0m \u001B[38;5;28;01mdel\u001B[39;00m String1\n",
       "\u001B[1;32m     11\u001B[0m \u001B[38;5;28mprint\u001B[39m(\u001B[38;5;124m\"\u001B[39m\u001B[38;5;130;01m\\n\u001B[39;00m\u001B[38;5;124mDeleting entire String: \u001B[39m\u001B[38;5;124m\"\u001B[39m)\n",
       "\u001B[0;32m---> 12\u001B[0m \u001B[38;5;28mprint\u001B[39m(String1)\n",
       "\n",
       "\u001B[0;31mNameError\u001B[0m: name 'String1' is not defined"
      ]
     },
     "metadata": {
      "application/vnd.databricks.v1+output": {
       "arguments": {},
       "data": "\u001B[0;31m---------------------------------------------------------------------------\u001B[0m\n\u001B[0;31mNameError\u001B[0m                                 Traceback (most recent call last)\nFile \u001B[0;32m<command-3269694777448932>:12\u001B[0m\n\u001B[1;32m     10\u001B[0m \u001B[38;5;28;01mdel\u001B[39;00m String1\n\u001B[1;32m     11\u001B[0m \u001B[38;5;28mprint\u001B[39m(\u001B[38;5;124m\"\u001B[39m\u001B[38;5;130;01m\\n\u001B[39;00m\u001B[38;5;124mDeleting entire String: \u001B[39m\u001B[38;5;124m\"\u001B[39m)\n\u001B[0;32m---> 12\u001B[0m \u001B[38;5;28mprint\u001B[39m(String1)\n\n\u001B[0;31mNameError\u001B[0m: name 'String1' is not defined",
       "errorSummary": "<span class='ansi-red-fg'>NameError</span>: name 'String1' is not defined",
       "errorTraceType": "ansi",
       "metadata": {},
       "type": "ipynbError"
      }
     },
     "output_type": "display_data"
    }
   ],
   "source": [
    "# Python Program to Delete\n",
    "# entire String\n",
    "\n",
    "String1 = \"Hello, I'm a Rohish\"\n",
    "print(\"Initial String: \")\n",
    "print(String1)\n",
    "\n",
    "# Deleting a String\n",
    "# with the use of del\n",
    "del String1\n",
    "print(\"\\nDeleting entire String: \")\n",
    "print(String1)\n"
   ]
  }
 ],
 "metadata": {
  "application/vnd.databricks.v1+notebook": {
   "dashboards": [],
   "environmentMetadata": null,
   "language": "python",
   "notebookMetadata": {
    "pythonIndentUnit": 4
   },
   "notebookName": "Strings in Python",
   "widgets": {}
  }
 },
 "nbformat": 4,
 "nbformat_minor": 0
}
