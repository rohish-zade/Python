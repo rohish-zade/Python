{
 "cells": [
  {
   "cell_type": "markdown",
   "metadata": {
    "application/vnd.databricks.v1+cell": {
     "cellMetadata": {},
     "inputWidgets": {},
     "nuid": "63d562a5-a6eb-4c57-b3dc-f1e91431432b",
     "showTitle": false,
     "title": ""
    }
   },
   "source": [
    "###Conditional Statements (if, elif, else)\n",
    "\n",
    "- Conditional Statements are statements in Python that provide a choice for the control flow based on a condition.\n",
    "- It means that the control flow of the Python program will be decided based on the outcome of the condition."
   ]
  },
  {
   "cell_type": "markdown",
   "metadata": {
    "application/vnd.databricks.v1+cell": {
     "cellMetadata": {},
     "inputWidgets": {},
     "nuid": "c8669314-687f-4164-ba91-843260aafafa",
     "showTitle": false,
     "title": ""
    }
   },
   "source": [
    "#####Python If ... Else\n",
    "the if statement is a conditional statement. It is used to execute a block of code only when a specific condition is met. For example,"
   ]
  },
  {
   "cell_type": "code",
   "execution_count": 0,
   "metadata": {
    "application/vnd.databricks.v1+cell": {
     "cellMetadata": {
      "byteLimit": 2048000,
      "rowLimit": 10000
     },
     "inputWidgets": {},
     "nuid": "afbf4874-41bd-4b8b-a0f6-a06ef5758dd4",
     "showTitle": false,
     "title": ""
    }
   },
   "outputs": [
    {
     "output_type": "stream",
     "name": "stdout",
     "output_type": "stream",
     "text": [
      "Yes\n"
     ]
    }
   ],
   "source": [
    "# if statement example \n",
    "x = 4\n",
    "if x == 4: \n",
    "\tprint(\"Yes\") \n",
    "\n",
    "# here the condition matches so print statement in the if block executes"
   ]
  },
  {
   "cell_type": "code",
   "execution_count": 0,
   "metadata": {
    "application/vnd.databricks.v1+cell": {
     "cellMetadata": {},
     "inputWidgets": {},
     "nuid": "867993b6-6531-4119-9fd5-c01c2ff7e38a",
     "showTitle": false,
     "title": ""
    }
   },
   "outputs": [],
   "source": [
    "x = 3\n",
    "if x == 4: \n",
    "\tprint(\"Yes\")\n",
    "\n",
    "# here the value is 3 which failes the if condition print statement in the if block will not print\n"
   ]
  },
  {
   "cell_type": "code",
   "execution_count": 0,
   "metadata": {
    "application/vnd.databricks.v1+cell": {
     "cellMetadata": {
      "byteLimit": 2048000,
      "rowLimit": 10000
     },
     "inputWidgets": {},
     "nuid": "fb886163-b60e-4caa-9a83-2c3af5884d0e",
     "showTitle": false,
     "title": ""
    }
   },
   "outputs": [
    {
     "output_type": "stream",
     "name": "stdout",
     "output_type": "stream",
     "text": [
      "No\n"
     ]
    }
   ],
   "source": [
    "# if..else statement example \n",
    "x = 3\n",
    "if x == 4: \n",
    "\tprint(\"Yes\") \n",
    "else: \n",
    "\tprint(\"No\") \n",
    "\n",
    "# here the value is 4 which failes the if condition so else block will print"
   ]
  },
  {
   "cell_type": "markdown",
   "metadata": {
    "application/vnd.databricks.v1+cell": {
     "cellMetadata": {},
     "inputWidgets": {},
     "nuid": "4b5a7dc5-e2a3-44a2-8165-6342a2f7c7f8",
     "showTitle": false,
     "title": ""
    }
   },
   "source": [
    "#####Nested if..else Conditional Statements in Python\n",
    "- Nested if..else means an if-else statement inside another if statement. \n",
    "- In simple words first, there is an outer if statement, and inside it another if – else statement is present and such type of statement is known as nested if statement. \n",
    "- We can use one if or else if statement inside another if or else if statements."
   ]
  },
  {
   "cell_type": "code",
   "execution_count": 0,
   "metadata": {
    "application/vnd.databricks.v1+cell": {
     "cellMetadata": {
      "byteLimit": 2048000,
      "rowLimit": 10000
     },
     "inputWidgets": {},
     "nuid": "8d38744a-e43c-4b43-99b3-f33b980589df",
     "showTitle": false,
     "title": ""
    }
   },
   "outputs": [
    {
     "output_type": "stream",
     "name": "stdout",
     "output_type": "stream",
     "text": [
      "letter is A\n"
     ]
    }
   ],
   "source": [
    "# if..else chain statement \n",
    "letter = \"A\"\n",
    "\n",
    "if letter == \"B\": \n",
    "\tprint(\"letter is B\") \n",
    "else:\n",
    "\tif letter == \"C\": \n",
    "\t\tprint(\"letter is C\") \n",
    "\telse: \n",
    "\t\tif letter == \"A\": \n",
    "\t\t\tprint(\"letter is A\") \n",
    "\t\telse: \n",
    "\t\t\tprint(\"letter isn't A, B and C\") "
   ]
  }
 ],
 "metadata": {
  "application/vnd.databricks.v1+notebook": {
   "dashboards": [],
   "environmentMetadata": null,
   "language": "python",
   "notebookMetadata": {
    "pythonIndentUnit": 4
   },
   "notebookName": "Conditional Statements in Python",
   "widgets": {}
  }
 },
 "nbformat": 4,
 "nbformat_minor": 0
}
