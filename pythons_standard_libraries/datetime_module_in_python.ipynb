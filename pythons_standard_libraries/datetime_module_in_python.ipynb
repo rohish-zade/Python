{
 "cells": [
  {
   "cell_type": "markdown",
   "metadata": {
    "application/vnd.databricks.v1+cell": {
     "cellMetadata": {},
     "inputWidgets": {},
     "nuid": "fe35ded9-ef63-46b8-9286-972c4e4f748e",
     "showTitle": false,
     "title": ""
    }
   },
   "source": [
    "##Python datetime module\n",
    "- In Python, date and time are not data types of their own, but a module named `DateTime` in Python can be imported to work with the date as well as time. \n",
    "- Python [datetime](https://docs.python.org/3/library/datetime.html) module comes built into Python, so there is no need to install it externally.\n",
    "- The [datetime](https://www.geeksforgeeks.org/python-datetime-module/) module in Python provides classes for manipulating dates and times. "
   ]
  },
  {
   "cell_type": "markdown",
   "metadata": {
    "application/vnd.databricks.v1+cell": {
     "cellMetadata": {},
     "inputWidgets": {},
     "nuid": "8c84c52b-fdac-407e-9282-b2d44e8bc2e0",
     "showTitle": false,
     "title": ""
    }
   },
   "source": [
    "The datetime module in Python supplies classes for manipulating dates and times. \n",
    "\n",
    "It allows for arithmetic operations on dates and times, such as calculating differences and adding or subtracting time intervals. \n",
    "\n",
    "Here are the key components and functionalities:\n",
    "\n",
    "- **Classes:** *The DateTime module is categorized into 6 main classes*\n",
    "  - `date`\n",
    "  - `time`\n",
    "  - `datetime`\n",
    "  - `timedelta`\n",
    "  - `tzinfo`\n",
    "  - `timezone`\n",
    "\n",
    "- **Functions:** `datetime.now()`, `datetime.today()`, `datetime.strptime()`, `datetime.strftime()`\n",
    "\n",
    "- **Attributes:** `year`, `month`, `day`, `hour`, `minute`, `second`, `microsecond`"
   ]
  },
  {
   "cell_type": "markdown",
   "metadata": {
    "application/vnd.databricks.v1+cell": {
     "cellMetadata": {},
     "inputWidgets": {},
     "nuid": "67452b40-7074-4b41-a4a2-56c3f9fbcd2f",
     "showTitle": false,
     "title": ""
    }
   },
   "source": []
  },
  {
   "cell_type": "markdown",
   "metadata": {
    "application/vnd.databricks.v1+cell": {
     "cellMetadata": {},
     "inputWidgets": {},
     "nuid": "1fd79607-dbc5-4754-b6fc-86beb927b043",
     "showTitle": false,
     "title": ""
    }
   },
   "source": [
    "###Python Date Class\n",
    "- The date class in the datetime module represents a calendar date.\n",
    "- When an object of this class is instantiated, it represents a date in the format YYYY-MM-DD. \n",
    "- The constructor of this class needs three mandatory arguments `year`, `month`, and `date`."
   ]
  },
  {
   "cell_type": "markdown",
   "metadata": {
    "application/vnd.databricks.v1+cell": {
     "cellMetadata": {},
     "inputWidgets": {},
     "nuid": "b7d03738-2066-4ddc-822a-994b9712dc95",
     "showTitle": false,
     "title": ""
    }
   },
   "source": [
    "The arguments must be in the following range –  \n",
    "- MINYEAR <= year <= MAXYEAR\n",
    "- 1 <= month <= 12\n",
    "- 1 <= day <= number of days in the given month and year\n",
    "\n",
    "MINYEAR is 1 and MAXYEAR is 9999"
   ]
  },
  {
   "cell_type": "markdown",
   "metadata": {
    "application/vnd.databricks.v1+cell": {
     "cellMetadata": {},
     "inputWidgets": {},
     "nuid": "68213aa0-6a77-4c03-8bf7-12d7e7d07da3",
     "showTitle": false,
     "title": ""
    }
   },
   "source": [
    "**Creating Date Objects:**"
   ]
  },
  {
   "cell_type": "code",
   "execution_count": 0,
   "metadata": {
    "application/vnd.databricks.v1+cell": {
     "cellMetadata": {
      "byteLimit": 2048000,
      "rowLimit": 10000
     },
     "inputWidgets": {},
     "nuid": "a6a3bdfa-d5ff-4e8d-9de8-8ecb1358dc40",
     "showTitle": false,
     "title": ""
    }
   },
   "outputs": [
    {
     "output_type": "stream",
     "name": "stdout",
     "output_type": "stream",
     "text": [
      "2024-08-06\n"
     ]
    }
   ],
   "source": [
    "# from datetime import date  # you can import only date as well\n",
    "import datetime\n",
    "\n",
    "date_obj = datetime.date(2024, 8, 6)\n",
    "print(date_obj)"
   ]
  },
  {
   "cell_type": "markdown",
   "metadata": {
    "application/vnd.databricks.v1+cell": {
     "cellMetadata": {},
     "inputWidgets": {},
     "nuid": "7a225c94-41a6-4b0d-b4a0-8760d07fd840",
     "showTitle": false,
     "title": ""
    }
   },
   "source": [
    "**Attributes:**\n",
    "- `year`: The year of the date.\n",
    "- `month`: The month of the date.\n",
    "- `day`: The day of the date.\n",
    "\n",
    "**Methods:**\n",
    "- `today()`: Returns the current local date.\n",
    "- `fromtimestamp()`: Returns the local date from a POSIX timestamp.\n",
    "- `isoformat()`: Returns the date as a string in ISO 8601 format (YYYY-MM-DD)."
   ]
  },
  {
   "cell_type": "code",
   "execution_count": 0,
   "metadata": {
    "application/vnd.databricks.v1+cell": {
     "cellMetadata": {
      "byteLimit": 2048000,
      "rowLimit": 10000
     },
     "inputWidgets": {},
     "nuid": "6535d1cf-f2c5-4af6-974e-65a5a203a965",
     "showTitle": false,
     "title": ""
    }
   },
   "outputs": [
    {
     "output_type": "stream",
     "name": "stdout",
     "output_type": "stream",
     "text": [
      "Today's date: 2024-08-06\ndate_from_timestamp: 2023-09-05\n"
     ]
    }
   ],
   "source": [
    "# current date\n",
    "today = datetime.date.today()\n",
    "print(\"Today's date:\", today)\n",
    "\n",
    "# date from timestamp\n",
    "date_from_timestamp = datetime.date.fromtimestamp(1693942400)\n",
    "print(\"date_from_timestamp:\", date_from_timestamp)\n",
    "\n"
   ]
  },
  {
   "cell_type": "code",
   "execution_count": 0,
   "metadata": {
    "application/vnd.databricks.v1+cell": {
     "cellMetadata": {
      "byteLimit": 2048000,
      "rowLimit": 10000
     },
     "inputWidgets": {},
     "nuid": "6eef0a2f-2404-4244-b960-6ce0aebdc156",
     "showTitle": false,
     "title": ""
    }
   },
   "outputs": [
    {
     "output_type": "stream",
     "name": "stdout",
     "output_type": "stream",
     "text": [
      "Current year: 2024\nCurrent month: 8\nCurrent day: 6\n"
     ]
    }
   ],
   "source": [
    "# Get Today’s Year, Month, and Date\n",
    "\n",
    "today = datetime.date.today()\n",
    "\n",
    "print(\"Current year:\", today.year)\n",
    "print(\"Current month:\", today.month)\n",
    "print(\"Current day:\", today.day)"
   ]
  },
  {
   "cell_type": "code",
   "execution_count": 0,
   "metadata": {
    "application/vnd.databricks.v1+cell": {
     "cellMetadata": {
      "byteLimit": 2048000,
      "rowLimit": 10000
     },
     "inputWidgets": {},
     "nuid": "f2e7c409-21dc-4cf5-b7a1-e84278f5786c",
     "showTitle": false,
     "title": ""
    }
   },
   "outputs": [
    {
     "output_type": "stream",
     "name": "stdout",
     "output_type": "stream",
     "text": [
      "String representation: 2024-08-06\n<class 'str'>\n"
     ]
    }
   ],
   "source": [
    "# Convert Date to String\n",
    "# We can convert date object to a string representation using two functions isoformat() and strftime().\n",
    "\n",
    "today = datetime.date.today()\n",
    "\n",
    "date_str = datetime.date.isoformat(today)\n",
    "print(\"String representation:\", date_str)\n",
    "print(type(date_str))"
   ]
  },
  {
   "cell_type": "markdown",
   "metadata": {
    "application/vnd.databricks.v1+cell": {
     "cellMetadata": {},
     "inputWidgets": {},
     "nuid": "bb71213c-5fb0-4b4c-bed2-33a1fe42393f",
     "showTitle": false,
     "title": ""
    }
   },
   "source": []
  },
  {
   "cell_type": "markdown",
   "metadata": {
    "application/vnd.databricks.v1+cell": {
     "cellMetadata": {},
     "inputWidgets": {},
     "nuid": "613f9b74-1524-4cdb-b811-85b20986e1c7",
     "showTitle": false,
     "title": ""
    }
   },
   "source": [
    "###Python Time Class\n",
    "- The `time` class in the datetime module represents a time of day, independent of any particular day. \n",
    "- It consists of hour, minute, second, and microsecond."
   ]
  },
  {
   "cell_type": "markdown",
   "metadata": {
    "application/vnd.databricks.v1+cell": {
     "cellMetadata": {},
     "inputWidgets": {},
     "nuid": "fd36f760-6d72-457d-9d99-cbfed6905f2b",
     "showTitle": false,
     "title": ""
    }
   },
   "source": [
    "**Creating Time Objects:**"
   ]
  },
  {
   "cell_type": "code",
   "execution_count": 0,
   "metadata": {
    "application/vnd.databricks.v1+cell": {
     "cellMetadata": {
      "byteLimit": 2048000,
      "rowLimit": 10000
     },
     "inputWidgets": {},
     "nuid": "74bdcafd-e6e3-4443-8962-51a1f66bcab7",
     "showTitle": false,
     "title": ""
    }
   },
   "outputs": [
    {
     "output_type": "stream",
     "name": "stdout",
     "output_type": "stream",
     "text": [
      "17:59:58\n"
     ]
    }
   ],
   "source": [
    "from datetime import time\n",
    "\n",
    "time_obj = time(17, 59, 58) # or datetime.time() when you import datetime\n",
    "print(time_obj)"
   ]
  },
  {
   "cell_type": "markdown",
   "metadata": {
    "application/vnd.databricks.v1+cell": {
     "cellMetadata": {},
     "inputWidgets": {},
     "nuid": "cfd33744-39ce-4e5d-8ecb-394ed3a46dbc",
     "showTitle": false,
     "title": ""
    }
   },
   "source": [
    "**Attributes:**\n",
    "- `hour`: The hour of the time.\n",
    "- `minute`: The minute of the time.\n",
    "- `second`: The second of the time.\n",
    "- `microsecond`: The microsecond of the time."
   ]
  },
  {
   "cell_type": "code",
   "execution_count": 0,
   "metadata": {
    "application/vnd.databricks.v1+cell": {
     "cellMetadata": {
      "byteLimit": 2048000,
      "rowLimit": 10000
     },
     "inputWidgets": {},
     "nuid": "47d64093-0503-4874-af9e-00af20ff9468",
     "showTitle": false,
     "title": ""
    }
   },
   "outputs": [
    {
     "output_type": "stream",
     "name": "stdout",
     "output_type": "stream",
     "text": [
      "17\n59\n58\n0\n"
     ]
    }
   ],
   "source": [
    "# Access attributes\n",
    "print(time_obj.hour)\n",
    "print(time_obj.minute)\n",
    "print(time_obj.second)\n",
    "print(time_obj.microsecond)"
   ]
  },
  {
   "cell_type": "code",
   "execution_count": 0,
   "metadata": {
    "application/vnd.databricks.v1+cell": {
     "cellMetadata": {
      "byteLimit": 2048000,
      "rowLimit": 10000
     },
     "inputWidgets": {},
     "nuid": "63a423f8-3d9a-4150-aced-a3fcf397da1d",
     "showTitle": false,
     "title": ""
    }
   },
   "outputs": [
    {
     "output_type": "stream",
     "name": "stdout",
     "output_type": "stream",
     "text": [
      "Time with one argument 00:12:00\n\nTime without argument 00:00:00\n"
     ]
    }
   ],
   "source": [
    "# calling constructor with 1 argument\n",
    "my_time = time(minute=12)\n",
    "print(\"Time with one argument\", my_time)\n",
    " \n",
    "# Calling constructor with  0 argument\n",
    "my_time = time()\n",
    "print(\"\\nTime without argument\", my_time)"
   ]
  },
  {
   "cell_type": "code",
   "execution_count": 0,
   "metadata": {
    "application/vnd.databricks.v1+cell": {
     "cellMetadata": {
      "byteLimit": 2048000,
      "rowLimit": 10000
     },
     "inputWidgets": {},
     "nuid": "2f345476-d91e-4728-bec5-00c350b3ed79",
     "showTitle": false,
     "title": ""
    }
   },
   "outputs": [
    {
     "output_type": "stream",
     "name": "stdout",
     "output_type": "stream",
     "text": [
      "String Representation: 17:59:58\n<class 'str'>\n"
     ]
    }
   ],
   "source": [
    "# Converting Time object to string\n",
    "Str = time_obj.isoformat()\n",
    "print(\"String Representation:\", Str)\n",
    "print(type(Str))"
   ]
  },
  {
   "cell_type": "markdown",
   "metadata": {
    "application/vnd.databricks.v1+cell": {
     "cellMetadata": {},
     "inputWidgets": {},
     "nuid": "3e98a560-9e80-4088-a446-6ed19287c67d",
     "showTitle": false,
     "title": ""
    }
   },
   "source": []
  },
  {
   "cell_type": "markdown",
   "metadata": {
    "application/vnd.databricks.v1+cell": {
     "cellMetadata": {},
     "inputWidgets": {},
     "nuid": "424552fa-9e5f-41b9-8d8d-969607681763",
     "showTitle": false,
     "title": ""
    }
   },
   "source": [
    "###Python Datetime Class\n",
    "- The datetime class in the datetime module combines a date and a time. It includes attributes from both the date and time classes.\n"
   ]
  },
  {
   "cell_type": "markdown",
   "metadata": {
    "application/vnd.databricks.v1+cell": {
     "cellMetadata": {},
     "inputWidgets": {},
     "nuid": "dba9cd86-ebe5-4d52-b445-a9b7482c89c2",
     "showTitle": false,
     "title": ""
    }
   },
   "source": [
    "**Creating Datetime Objects:**"
   ]
  },
  {
   "cell_type": "code",
   "execution_count": 0,
   "metadata": {
    "application/vnd.databricks.v1+cell": {
     "cellMetadata": {
      "byteLimit": 2048000,
      "rowLimit": 10000
     },
     "inputWidgets": {},
     "nuid": "7428ea17-f1a5-4a2b-99fb-8782b93dbc23",
     "showTitle": false,
     "title": ""
    }
   },
   "outputs": [
    {
     "output_type": "stream",
     "name": "stdout",
     "output_type": "stream",
     "text": [
      "2024-08-06 18:10:59.000343\n"
     ]
    }
   ],
   "source": [
    "import datetime\n",
    "\n",
    "datetime_obj = datetime.datetime(2024, 8, 6, 18, 10, 59, 343)\n",
    "print(datetime_obj)"
   ]
  },
  {
   "cell_type": "markdown",
   "metadata": {
    "application/vnd.databricks.v1+cell": {
     "cellMetadata": {},
     "inputWidgets": {},
     "nuid": "ae40e131-8d57-400c-a303-87df53838a27",
     "showTitle": false,
     "title": ""
    }
   },
   "source": [
    "**Attributes:**\n",
    "- `year`, `month`, `day` (from date)\n",
    "- `hour`, `minute`, `second`, `microsecond` (from time)\n",
    "\n",
    "**Methods:**\n",
    "- `now()`: Returns the current local date and time.\n",
    "- `utcnow()`: Returns the current UTC date and time.\n",
    "- `strptime()`: Parses a string into a datetime object.\n",
    "- `strftime()`: Formats a datetime object into a string."
   ]
  },
  {
   "cell_type": "code",
   "execution_count": 0,
   "metadata": {
    "application/vnd.databricks.v1+cell": {
     "cellMetadata": {
      "byteLimit": 2048000,
      "rowLimit": 10000
     },
     "inputWidgets": {},
     "nuid": "05891ddc-550e-4a94-8a5e-536dc9645890",
     "showTitle": false,
     "title": ""
    }
   },
   "outputs": [
    {
     "output_type": "stream",
     "name": "stdout",
     "output_type": "stream",
     "text": [
      "Current date and time: 2024-08-06 05:37:11.684914\n"
     ]
    }
   ],
   "source": [
    "\n",
    "# Current date and time\n",
    "now = datetime.datetime.now()\n",
    "print(\"Current date and time:\", now)"
   ]
  },
  {
   "cell_type": "code",
   "execution_count": 0,
   "metadata": {
    "application/vnd.databricks.v1+cell": {
     "cellMetadata": {
      "byteLimit": 2048000,
      "rowLimit": 10000
     },
     "inputWidgets": {},
     "nuid": "0ba016ca-7c19-4387-a6f6-718292785554",
     "showTitle": false,
     "title": ""
    }
   },
   "outputs": [
    {
     "output_type": "stream",
     "name": "stdout",
     "output_type": "stream",
     "text": [
      "Current date and time: 2024-08-06 05:41:30.843404\n"
     ]
    }
   ],
   "source": [
    "# Current date and time in UTC\n",
    "utcnow = datetime.datetime.utcnow()\n",
    "print(\"Current date and time:\", utcnow)"
   ]
  },
  {
   "cell_type": "code",
   "execution_count": 0,
   "metadata": {
    "application/vnd.databricks.v1+cell": {
     "cellMetadata": {
      "byteLimit": 2048000,
      "rowLimit": 10000
     },
     "inputWidgets": {},
     "nuid": "ff0fd8f3-b8bd-462a-950f-d6a6f1fef92b",
     "showTitle": false,
     "title": ""
    }
   },
   "outputs": [
    {
     "output_type": "stream",
     "name": "stdout",
     "output_type": "stream",
     "text": [
      "formatted date time: 2024-08-06 05:37:11\n"
     ]
    }
   ],
   "source": [
    "# Formatting datetime\n",
    "formatted_date = now.strftime(\"%Y-%m-%d %H:%M:%S\")\n",
    "\n",
    "print(\"formatted date time:\", formatted_date)"
   ]
  },
  {
   "cell_type": "code",
   "execution_count": 0,
   "metadata": {
    "application/vnd.databricks.v1+cell": {
     "cellMetadata": {
      "byteLimit": 2048000,
      "rowLimit": 10000
     },
     "inputWidgets": {},
     "nuid": "9e09c2c3-4cb6-4c49-bcf9-0c636032b304",
     "showTitle": false,
     "title": ""
    }
   },
   "outputs": [
    {
     "output_type": "stream",
     "name": "stdout",
     "output_type": "stream",
     "text": [
      "<class 'str'>\n2024-08-06 18:30:15\n<class 'datetime.datetime'>\n"
     ]
    }
   ],
   "source": [
    "# Parsing datetime from string\n",
    "date_str = \"2024-08-06 18:30:15\"\n",
    "print(type(date_str))\n",
    "\n",
    "parsed_date = datetime.datetime.strptime(date_str, \"%Y-%m-%d %H:%M:%S\")\n",
    "print(parsed_date)\n",
    "print(type(parsed_date))"
   ]
  },
  {
   "cell_type": "markdown",
   "metadata": {
    "application/vnd.databricks.v1+cell": {
     "cellMetadata": {},
     "inputWidgets": {},
     "nuid": "47ce02cc-1ce7-464f-a581-a7d23d2d7613",
     "showTitle": false,
     "title": ""
    }
   },
   "source": []
  },
  {
   "cell_type": "markdown",
   "metadata": {
    "application/vnd.databricks.v1+cell": {
     "cellMetadata": {},
     "inputWidgets": {},
     "nuid": "c32dd151-0ffc-4186-9c9b-56ac48a0cbd2",
     "showTitle": false,
     "title": ""
    }
   },
   "source": [
    "###Python Timedelta Class\n",
    "- The `timedelta` class represents a duration, i.e., the difference between two dates or times.\n",
    "- Python timedelta class is used for calculating differences in dates and also can be used for date manipulations in Python. \n",
    "- It is one of the easiest ways to perform date manipulations."
   ]
  },
  {
   "cell_type": "markdown",
   "metadata": {
    "application/vnd.databricks.v1+cell": {
     "cellMetadata": {},
     "inputWidgets": {},
     "nuid": "5410a90a-fd95-495d-b798-07e883d80985",
     "showTitle": false,
     "title": ""
    }
   },
   "source": [
    "- The datetime.now() does not have any information about the time zones. \n",
    "- It just uses the current system time. In some situations, the time zone details may be needed. In such cases the `tzinfo` abstract class is used. \n",
    "- `tzinfo` is an abstract base class. It cannot be instantiated directly. \n",
    "- A concrete subclass has to derive it and implement the methods provided by this abstract class."
   ]
  },
  {
   "cell_type": "markdown",
   "metadata": {
    "application/vnd.databricks.v1+cell": {
     "cellMetadata": {},
     "inputWidgets": {},
     "nuid": "80c43926-e6a2-4b05-be87-842301259f12",
     "showTitle": false,
     "title": ""
    }
   },
   "source": [
    "**Creating Timedelta Objects:**"
   ]
  },
  {
   "cell_type": "code",
   "execution_count": 0,
   "metadata": {
    "application/vnd.databricks.v1+cell": {
     "cellMetadata": {
      "byteLimit": 2048000,
      "rowLimit": 10000
     },
     "inputWidgets": {},
     "nuid": "c353a1a1-b654-4d1f-8242-ba7ab6a8effb",
     "showTitle": false,
     "title": ""
    }
   },
   "outputs": [
    {
     "output_type": "stream",
     "name": "stdout",
     "output_type": "stream",
     "text": [
      "10 days, 2:30:00\n"
     ]
    }
   ],
   "source": [
    "import datetime\n",
    "\n",
    "delta_obj = datetime.timedelta(days=10, hours=2, minutes=30)\n",
    "print(delta_obj) "
   ]
  },
  {
   "cell_type": "markdown",
   "metadata": {
    "application/vnd.databricks.v1+cell": {
     "cellMetadata": {},
     "inputWidgets": {},
     "nuid": "7e5dabe1-41ab-4c41-810c-8698e1d1485f",
     "showTitle": false,
     "title": ""
    }
   },
   "source": [
    "**Attributes:**\n",
    "- `days`: Number of days.\n",
    "- `seconds`: Number of seconds (excluding days).\n",
    "- `microseconds`: Number of microseconds (excluding seconds and days).\n",
    "\n",
    "**Operations:**\n",
    "- Addition and subtraction with date or datetime objects.\n",
    "- Multiplication and division."
   ]
  },
  {
   "cell_type": "code",
   "execution_count": 0,
   "metadata": {
    "application/vnd.databricks.v1+cell": {
     "cellMetadata": {
      "byteLimit": 2048000,
      "rowLimit": 10000
     },
     "inputWidgets": {},
     "nuid": "f6e26912-cc23-4c30-8d1a-0a5b8140665f",
     "showTitle": false,
     "title": ""
    }
   },
   "outputs": [
    {
     "output_type": "stream",
     "name": "stdout",
     "output_type": "stream",
     "text": [
      "2024-08-16\n"
     ]
    }
   ],
   "source": [
    "# Adding timedelta to a date\n",
    "\n",
    "delta = datetime.timedelta(days=10, hours=2, minutes=30)\n",
    "\n",
    "new_date = datetime.date(2024, 8, 6) + delta # if you add other objects other that timedelta you will get error\n",
    "print(new_date)"
   ]
  },
  {
   "cell_type": "code",
   "execution_count": 0,
   "metadata": {
    "application/vnd.databricks.v1+cell": {
     "cellMetadata": {
      "byteLimit": 2048000,
      "rowLimit": 10000
     },
     "inputWidgets": {},
     "nuid": "0c6d0780-5a99-41f1-865a-d8faf2352f0a",
     "showTitle": false,
     "title": ""
    }
   },
   "outputs": [
    {
     "output_type": "stream",
     "name": "stdout",
     "output_type": "stream",
     "text": [
      "10 days, 0:00:00\n10\n0\n"
     ]
    }
   ],
   "source": [
    "# Difference between dates\n",
    "date1 = datetime.date(2024, 8, 6)\n",
    "date2 = datetime.date(2024, 8, 16)\n",
    "\n",
    "difference = date2 - date1\n",
    "print(difference)\n",
    "print(difference.days)\n",
    "print(difference.seconds)"
   ]
  },
  {
   "cell_type": "markdown",
   "metadata": {
    "application/vnd.databricks.v1+cell": {
     "cellMetadata": {},
     "inputWidgets": {},
     "nuid": "081ff5d8-c9a0-4c94-a666-9ca265c2f9ff",
     "showTitle": false,
     "title": ""
    }
   },
   "source": []
  },
  {
   "cell_type": "markdown",
   "metadata": {
    "application/vnd.databricks.v1+cell": {
     "cellMetadata": {},
     "inputWidgets": {},
     "nuid": "f10cbc14-021f-4a1d-a506-c91ff47e683c",
     "showTitle": false,
     "title": ""
    }
   },
   "source": [
    "###Python DateTime.tzinfo()\n",
    "- The `tzinfo` class is an abstract base class for dealing with time zones. \n",
    "- It is used by the `datetime` and `time` classes to provide a customizable way to handle time zones."
   ]
  },
  {
   "cell_type": "markdown",
   "metadata": {
    "application/vnd.databricks.v1+cell": {
     "cellMetadata": {},
     "inputWidgets": {},
     "nuid": "2d01246b-a807-4362-8927-2ef9d068a080",
     "showTitle": false,
     "title": ""
    }
   },
   "source": [
    "**Methods:**\n",
    "- `utcoffset()`: Returns the offset of the local time from UTC.\n",
    "- `dst()`: Returns the daylight saving time adjustment.\n",
    "- `tzname()`: Returns the time zone name."
   ]
  },
  {
   "cell_type": "markdown",
   "metadata": {
    "application/vnd.databricks.v1+cell": {
     "cellMetadata": {},
     "inputWidgets": {},
     "nuid": "23990102-ca85-4fbe-9ba6-05c12fc65087",
     "showTitle": false,
     "title": ""
    }
   },
   "source": [
    "**Creating a Custom Time Zone:**\n",
    "    "
   ]
  },
  {
   "cell_type": "code",
   "execution_count": 0,
   "metadata": {
    "application/vnd.databricks.v1+cell": {
     "cellMetadata": {
      "byteLimit": 2048000,
      "rowLimit": 10000
     },
     "inputWidgets": {},
     "nuid": "e331e307-5b2f-4d11-88e4-9bf77d2b8f14",
     "showTitle": false,
     "title": ""
    }
   },
   "outputs": [
    {
     "output_type": "stream",
     "name": "stdout",
     "output_type": "stream",
     "text": [
      "2024-08-06 22:08:01.245322+05:30\n"
     ]
    }
   ],
   "source": [
    "import datetime\n",
    "\n",
    "class MyTimezone(datetime.tzinfo):\n",
    "    def utcoffset(self, dt):\n",
    "        return datetime.timedelta(hours=5, minutes=30)\n",
    "\n",
    "    def dst(self, dt):\n",
    "        return datetime.timedelta(0)\n",
    "\n",
    "    def tzname(self, dt):\n",
    "        return \"IST\"\n",
    "\n",
    "# Apply custom timezone\n",
    "my_tz = MyTimezone()\n",
    "now = datetime.datetime.now(my_tz)\n",
    "print(now)  # Output: 2024-08-06 14:30:15+05:30\n"
   ]
  },
  {
   "cell_type": "markdown",
   "metadata": {
    "application/vnd.databricks.v1+cell": {
     "cellMetadata": {},
     "inputWidgets": {},
     "nuid": "529a7153-2a8f-498b-8762-d5e254c7c3f5",
     "showTitle": false,
     "title": ""
    }
   },
   "source": []
  },
  {
   "cell_type": "markdown",
   "metadata": {
    "application/vnd.databricks.v1+cell": {
     "cellMetadata": {},
     "inputWidgets": {},
     "nuid": "a1d00e34-4221-4262-821c-25b4e938316f",
     "showTitle": false,
     "title": ""
    }
   },
   "source": [
    "###Python DateTime Timezone\n",
    "- The timezone class is a subclass of tzinfo that implements fixed offset time zones."
   ]
  },
  {
   "cell_type": "markdown",
   "metadata": {
    "application/vnd.databricks.v1+cell": {
     "cellMetadata": {},
     "inputWidgets": {},
     "nuid": "d2cc7281-52c4-4192-a74e-de88a561c719",
     "showTitle": false,
     "title": ""
    }
   },
   "source": [
    "**Creating Fixed Offset Time Zones:**"
   ]
  },
  {
   "cell_type": "code",
   "execution_count": 0,
   "metadata": {
    "application/vnd.databricks.v1+cell": {
     "cellMetadata": {
      "byteLimit": 2048000,
      "rowLimit": 10000
     },
     "inputWidgets": {},
     "nuid": "7f65524d-f6ab-43a8-96af-589f81e05949",
     "showTitle": false,
     "title": ""
    }
   },
   "outputs": [
    {
     "output_type": "stream",
     "name": "stdout",
     "output_type": "stream",
     "text": [
      "UTC+05:30\n2024-08-06 22:13:24.657813+05:30\n"
     ]
    }
   ],
   "source": [
    "import datetime\n",
    "\n",
    "# Create a fixed offset timezone (UTC+05:30)\n",
    "fixed_tz = datetime.timezone(datetime.timedelta(hours=5, minutes=30))\n",
    "print(fixed_tz)  # Output: UTC+05:30\n",
    "\n",
    "# Apply fixed timezone to datetime\n",
    "now = datetime.datetime.now(fixed_tz)\n",
    "print(now) \n"
   ]
  }
 ],
 "metadata": {
  "application/vnd.databricks.v1+notebook": {
   "dashboards": [],
   "environmentMetadata": null,
   "language": "python",
   "notebookMetadata": {
    "pythonIndentUnit": 4
   },
   "notebookName": "Python datetime module",
   "widgets": {}
  }
 },
 "nbformat": 4,
 "nbformat_minor": 0
}
