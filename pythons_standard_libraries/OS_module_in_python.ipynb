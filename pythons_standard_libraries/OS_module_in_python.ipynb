{
 "cells": [
  {
   "cell_type": "markdown",
   "metadata": {
    "application/vnd.databricks.v1+cell": {
     "cellMetadata": {},
     "inputWidgets": {},
     "nuid": "b9a6f44b-7f6f-4b8b-8b55-4c87e646290a",
     "showTitle": false,
     "title": ""
    }
   },
   "source": [
    "#OS Module in Python\n",
    "- The `os` module in Python provides functions for interacting with the operating system. \n",
    "- `os` comes under Python’s standard utility modules. \n",
    "- This module provides methods for interacting with the operating system, like creating files and directories, management of files and directories, input, output, environment variables, process management, etc."
   ]
  },
  {
   "cell_type": "markdown",
   "metadata": {
    "application/vnd.databricks.v1+cell": {
     "cellMetadata": {},
     "inputWidgets": {},
     "nuid": "0b017af5-6c75-4df5-996e-431f09f7e44f",
     "showTitle": false,
     "title": ""
    }
   },
   "source": [
    "###Python-OS-Module Functions\n",
    "The *os* and *os.path* modules include many functions to interact with the file system.\n",
    "\n",
    "\n",
    "Here we will discuss some important functions of the Python os module :\n",
    "\n",
    "- Handling the Current Working Directory\n",
    "- Creating a Directory\n",
    "- Listing out Files and Directories with Python\n",
    "- Deleting Directory or Files using Python"
   ]
  },
  {
   "cell_type": "markdown",
   "metadata": {
    "application/vnd.databricks.v1+cell": {
     "cellMetadata": {},
     "inputWidgets": {},
     "nuid": "eb3171c9-31f6-4ce6-ab61-789ca1267427",
     "showTitle": false,
     "title": ""
    }
   },
   "source": [
    "####Handling the Current Working Directory\n",
    "- The current working directory is the directory in which a Python script is running. \n",
    "- Whenever the files are called only by their name, Python assumes that it starts in the CWD which means that name-only reference will be successful only if the file is in the Python’s CWD."
   ]
  },
  {
   "cell_type": "code",
   "execution_count": 0,
   "metadata": {
    "application/vnd.databricks.v1+cell": {
     "cellMetadata": {
      "byteLimit": 2048000,
      "rowLimit": 10000
     },
     "inputWidgets": {},
     "nuid": "e4c442ec-ab98-4075-ac8d-60e2d36add18",
     "showTitle": false,
     "title": ""
    }
   },
   "outputs": [
    {
     "output_type": "stream",
     "name": "stdout",
     "output_type": "stream",
     "text": [
      "/databricks/driver\n"
     ]
    }
   ],
   "source": [
    "# To get the location of the current working directory os.getcwd() is used.\n",
    "import os\n",
    "\n",
    "cwd = os.getcwd()\n",
    "print(cwd)"
   ]
  },
  {
   "cell_type": "markdown",
   "metadata": {
    "application/vnd.databricks.v1+cell": {
     "cellMetadata": {},
     "inputWidgets": {},
     "nuid": "5b0e2970-7523-451c-a89a-39fa71483c1e",
     "showTitle": false,
     "title": ""
    }
   },
   "source": []
  },
  {
   "cell_type": "markdown",
   "metadata": {
    "application/vnd.databricks.v1+cell": {
     "cellMetadata": {},
     "inputWidgets": {},
     "nuid": "58a09eca-9ad1-4773-a049-b2bd3b840603",
     "showTitle": false,
     "title": ""
    }
   },
   "source": [
    "**Changing the Current working directory**\n",
    "- Use `os.chdir(path)` to change the current working directory to the specified path.\n",
    "-  It only takes a single argument as a new directory path."
   ]
  },
  {
   "cell_type": "code",
   "execution_count": 0,
   "metadata": {
    "application/vnd.databricks.v1+cell": {
     "cellMetadata": {
      "byteLimit": 2048000,
      "rowLimit": 10000
     },
     "inputWidgets": {},
     "nuid": "df09ab94-42e0-477d-9a17-343992034054",
     "showTitle": false,
     "title": ""
    }
   },
   "outputs": [
    {
     "output_type": "stream",
     "name": "stdout",
     "output_type": "stream",
     "text": [
      "Before changing the current working directory: /databricks/driver\nafter changing the current working directory: /databricks/driver/rohish\n"
     ]
    }
   ],
   "source": [
    "import os\n",
    "\n",
    "print(\"Before changing the current working directory:\", os.getcwd())\n",
    "\n",
    "os.chdir(\"/databricks/driver/rohish/\")\n",
    "print(\"after changing the current working directory:\", os.getcwd())"
   ]
  },
  {
   "cell_type": "markdown",
   "metadata": {
    "application/vnd.databricks.v1+cell": {
     "cellMetadata": {},
     "inputWidgets": {},
     "nuid": "d78da01f-1ad5-4ef9-ac43-e33e8b4a5902",
     "showTitle": false,
     "title": ""
    }
   },
   "source": []
  },
  {
   "cell_type": "markdown",
   "metadata": {
    "application/vnd.databricks.v1+cell": {
     "cellMetadata": {},
     "inputWidgets": {},
     "nuid": "e73153ed-191d-409c-baf5-c9621a53e2cd",
     "showTitle": false,
     "title": ""
    }
   },
   "source": [
    "####Creating a Directory\n",
    "There are different methods available in the OS module for creating a directory. These are –\n",
    "- os.mkdir()\n",
    "- os.makedirs()"
   ]
  },
  {
   "cell_type": "markdown",
   "metadata": {
    "application/vnd.databricks.v1+cell": {
     "cellMetadata": {
      "byteLimit": 2048000,
      "rowLimit": 10000
     },
     "inputWidgets": {},
     "nuid": "f3af71b9-7533-4408-b427-899f357abde0",
     "showTitle": false,
     "title": ""
    }
   },
   "source": [
    "#####Creating a Single Directory:\n",
    "\n",
    "Use `os.mkdir(path)` to create a single directory. If the directory already exists, it will raise a FileExistsError.\n"
   ]
  },
  {
   "cell_type": "code",
   "execution_count": 0,
   "metadata": {
    "application/vnd.databricks.v1+cell": {
     "cellMetadata": {
      "byteLimit": 2048000,
      "rowLimit": 10000
     },
     "inputWidgets": {},
     "nuid": "75774606-f955-4c64-8b50-e2bc7d6c42ba",
     "showTitle": false,
     "title": ""
    }
   },
   "outputs": [
    {
     "output_type": "stream",
     "name": "stdout",
     "output_type": "stream",
     "text": [
      "Out[11]: [FileInfo(path='file:/databricks/driver/rohish/new_dir/', name='new_dir/', size=4096, modificationTime=1722319559597)]"
     ]
    }
   ],
   "source": [
    "import os\n",
    "os.mkdir(\"/databricks/driver/rohish/new_dir/\")\n",
    "\n",
    "# checking the directory\n",
    "dbutils.fs.ls(\"file:/databricks/driver/rohish/\") # this is databricks command and will not work in python"
   ]
  },
  {
   "cell_type": "markdown",
   "metadata": {
    "application/vnd.databricks.v1+cell": {
     "cellMetadata": {},
     "inputWidgets": {},
     "nuid": "bb0cb1bc-7168-4deb-9fa3-eb568036bbc1",
     "showTitle": false,
     "title": ""
    }
   },
   "source": []
  },
  {
   "cell_type": "markdown",
   "metadata": {
    "application/vnd.databricks.v1+cell": {
     "cellMetadata": {},
     "inputWidgets": {},
     "nuid": "d1442ff5-cb74-4000-9e97-2d23a9bbc833",
     "showTitle": false,
     "title": ""
    }
   },
   "source": [
    "#####Creating Multiple Directories:\n",
    "\n",
    "Use `os.makedirs(path)` to create a directory and any necessary intermediate directories. If any of the directories already exist, it will raise a FileExistsError."
   ]
  },
  {
   "cell_type": "code",
   "execution_count": 0,
   "metadata": {
    "application/vnd.databricks.v1+cell": {
     "cellMetadata": {
      "byteLimit": 2048000,
      "rowLimit": 10000
     },
     "inputWidgets": {},
     "nuid": "00eaa756-8389-45f4-9a74-7ae0686bc120",
     "showTitle": false,
     "title": ""
    }
   },
   "outputs": [
    {
     "output_type": "stream",
     "name": "stdout",
     "output_type": "stream",
     "text": [
      "Out[13]: [FileInfo(path='file:/databricks/driver/rohish/parent_directory/child_directory/', name='child_directory/', size=4096, modificationTime=1722319705070)]"
     ]
    }
   ],
   "source": [
    "import os\n",
    "os.makedirs(\"/databricks/driver/rohish/parent_directory/child_directory\")\n",
    "\n",
    "# checking the directories\n",
    "dbutils.fs.ls(\"file:/databricks/driver/rohish/parent_directory\") # this is databricks command and will not work in python"
   ]
  },
  {
   "cell_type": "markdown",
   "metadata": {
    "application/vnd.databricks.v1+cell": {
     "cellMetadata": {},
     "inputWidgets": {},
     "nuid": "e512d40f-e04a-44cb-b3b3-d238472fbcba",
     "showTitle": false,
     "title": ""
    }
   },
   "source": []
  },
  {
   "cell_type": "markdown",
   "metadata": {
    "application/vnd.databricks.v1+cell": {
     "cellMetadata": {},
     "inputWidgets": {},
     "nuid": "68a36540-31ac-4f71-a457-b67c60aa91b3",
     "showTitle": false,
     "title": ""
    }
   },
   "source": [
    "####Listing Out Files and Directories with Python\n",
    "\n",
    "- The `os.listdir()` method in Python is used to get the list of all files and directories in the specified directory. \n",
    "- If we don’t specify any directory, then the list of files and directories in the current working directory will be returned."
   ]
  },
  {
   "cell_type": "code",
   "execution_count": 0,
   "metadata": {
    "application/vnd.databricks.v1+cell": {
     "cellMetadata": {
      "byteLimit": 2048000,
      "rowLimit": 10000
     },
     "inputWidgets": {},
     "nuid": "0c502213-5d39-4537-bbf0-259c60505d8f",
     "showTitle": false,
     "title": ""
    }
   },
   "outputs": [
    {
     "output_type": "stream",
     "name": "stdout",
     "output_type": "stream",
     "text": [
      "/databricks/driver\n['preload_class.lst', 'hadoop_accessed_config.lst', 'conf', 'azure', 'logs', 'eventlogs']\n"
     ]
    }
   ],
   "source": [
    "import os\n",
    "\n",
    "print(os.getcwd())\n",
    "dir_list = os.listdir()\n",
    "print(dir_list)"
   ]
  },
  {
   "cell_type": "code",
   "execution_count": 0,
   "metadata": {
    "application/vnd.databricks.v1+cell": {
     "cellMetadata": {
      "byteLimit": 2048000,
      "rowLimit": 10000
     },
     "inputWidgets": {},
     "nuid": "2f359413-d20a-4b87-a47b-f05e4e182ebf",
     "showTitle": false,
     "title": ""
    }
   },
   "outputs": [
    {
     "output_type": "stream",
     "name": "stdout",
     "output_type": "stream",
     "text": [
      "Files and directories in ' / ' :\n['mnt', 'BUILD', 'libx32', 'run', 'root', 'tmp', 'databricks', 'bin', 'boot', 'media', 'home', 'lib', 'sys', 'etc', 'sbin', 'proc', 'dev', 'var', 'usr', 'lib32', 'srv', 'lib64', 'opt', 'dbfs', 'Volumes', 'local_disk0', 'Workspace']\n"
     ]
    }
   ],
   "source": [
    "#  This code lists all the files and directories in the root directory (“/”).\n",
    "\n",
    "path = \"/\"\n",
    "dir_list = os.listdir(path) \n",
    "print(\"Files and directories in '\", path, \"' :\") \n",
    "print(dir_list) "
   ]
  },
  {
   "cell_type": "markdown",
   "metadata": {
    "application/vnd.databricks.v1+cell": {
     "cellMetadata": {},
     "inputWidgets": {},
     "nuid": "cfa585f8-5440-43f1-97f7-06de4ab54784",
     "showTitle": false,
     "title": ""
    }
   },
   "source": []
  },
  {
   "cell_type": "markdown",
   "metadata": {
    "application/vnd.databricks.v1+cell": {
     "cellMetadata": {},
     "inputWidgets": {},
     "nuid": "a4a6e6a4-0d91-40c6-89b4-70bac38e4506",
     "showTitle": false,
     "title": ""
    }
   },
   "source": [
    "####Deleting Directory or Files using Python\n",
    "OS module provides different methods for removing directories and files in Python. These are – \n",
    "\n",
    "- Using `os.remove()`\n",
    "- Using `os.rmdir()`"
   ]
  },
  {
   "cell_type": "markdown",
   "metadata": {
    "application/vnd.databricks.v1+cell": {
     "cellMetadata": {},
     "inputWidgets": {},
     "nuid": "bf4b7e16-4761-4d3e-8ac0-78dba1a46dab",
     "showTitle": false,
     "title": ""
    }
   },
   "source": [
    "#####Using os.remove() Method\n",
    "- `os.remove()` method in Python is used to remove or delete a file path. \n",
    "- This method can not remove or delete a directory. \n",
    "- If the specified path is a directory then OSError will be raised by the method."
   ]
  },
  {
   "cell_type": "code",
   "execution_count": 0,
   "metadata": {
    "application/vnd.databricks.v1+cell": {
     "cellMetadata": {
      "byteLimit": 2048000,
      "rowLimit": 10000
     },
     "inputWidgets": {},
     "nuid": "0688b56c-198f-4e39-842f-de7f283ad435",
     "showTitle": false,
     "title": ""
    }
   },
   "outputs": [
    {
     "output_type": "display_data",
     "data": {
      "text/html": [
       "<style scoped>\n",
       "  .table-result-container {\n",
       "    max-height: 300px;\n",
       "    overflow: auto;\n",
       "  }\n",
       "  table, th, td {\n",
       "    border: 1px solid black;\n",
       "    border-collapse: collapse;\n",
       "  }\n",
       "  th, td {\n",
       "    padding: 5px;\n",
       "  }\n",
       "  th {\n",
       "    text-align: left;\n",
       "  }\n",
       "</style><div class='table-result-container'><table class='table-result'><thead style='background-color: white'><tr><th>path</th><th>name</th><th>size</th><th>modificationTime</th></tr></thead><tbody><tr><td>file:/databricks/driver/rohish/file2.txt</td><td>file2.txt</td><td>13</td><td>1722407818900</td></tr><tr><td>file:/databricks/driver/rohish/file1.txt</td><td>file1.txt</td><td>13</td><td>1722407801188</td></tr></tbody></table></div>"
      ]
     },
     "metadata": {
      "application/vnd.databricks.v1+output": {
       "addedWidgets": {},
       "aggData": [],
       "aggError": "",
       "aggOverflow": false,
       "aggSchema": [],
       "aggSeriesLimitReached": false,
       "aggType": "",
       "arguments": {},
       "columnCustomDisplayInfos": {},
       "data": [
        [
         "file:/databricks/driver/rohish/file2.txt",
         "file2.txt",
         13,
         1722407818900
        ],
        [
         "file:/databricks/driver/rohish/file1.txt",
         "file1.txt",
         13,
         1722407801188
        ]
       ],
       "datasetInfos": [],
       "dbfsResultPath": null,
       "isJsonSchema": true,
       "metadata": {},
       "overflow": false,
       "plotOptions": {
        "customPlotOptions": {},
        "displayType": "table",
        "pivotAggregation": null,
        "pivotColumns": null,
        "xColumns": null,
        "yColumns": null
       },
       "removedWidgets": [],
       "schema": [
        {
         "metadata": "{}",
         "name": "path",
         "type": "\"string\""
        },
        {
         "metadata": "{}",
         "name": "name",
         "type": "\"string\""
        },
        {
         "metadata": "{}",
         "name": "size",
         "type": "\"long\""
        },
        {
         "metadata": "{}",
         "name": "modificationTime",
         "type": "\"long\""
        }
       ],
       "type": "table"
      }
     },
     "output_type": "display_data"
    }
   ],
   "source": [
    "# checking the directories and files/. this is databricks code and will not work in Python\n",
    "display(dbutils.fs.ls(\"file:/databricks/driver/rohish/\"))"
   ]
  },
  {
   "cell_type": "code",
   "execution_count": 0,
   "metadata": {
    "application/vnd.databricks.v1+cell": {
     "cellMetadata": {
      "byteLimit": 2048000,
      "rowLimit": 10000
     },
     "inputWidgets": {},
     "nuid": "48184bfe-54be-460b-9bea-fc3b625e2816",
     "showTitle": false,
     "title": ""
    }
   },
   "outputs": [],
   "source": [
    "# This code removes a file named “file1.txt” from the specified location\n",
    "import os\n",
    "\n",
    "location = \"/databricks/driver/rohish/\"\n",
    "file_name = \"file1.txt\"\n",
    "\n",
    "os.remove(location+file_name)"
   ]
  },
  {
   "cell_type": "code",
   "execution_count": 0,
   "metadata": {
    "application/vnd.databricks.v1+cell": {
     "cellMetadata": {
      "byteLimit": 2048000,
      "rowLimit": 10000
     },
     "inputWidgets": {},
     "nuid": "2d4c719e-b2a8-4b29-a0fd-c13974211513",
     "showTitle": false,
     "title": ""
    }
   },
   "outputs": [
    {
     "output_type": "display_data",
     "data": {
      "text/html": [
       "<style scoped>\n",
       "  .table-result-container {\n",
       "    max-height: 300px;\n",
       "    overflow: auto;\n",
       "  }\n",
       "  table, th, td {\n",
       "    border: 1px solid black;\n",
       "    border-collapse: collapse;\n",
       "  }\n",
       "  th, td {\n",
       "    padding: 5px;\n",
       "  }\n",
       "  th {\n",
       "    text-align: left;\n",
       "  }\n",
       "</style><div class='table-result-container'><table class='table-result'><thead style='background-color: white'><tr><th>path</th><th>name</th><th>size</th><th>modificationTime</th></tr></thead><tbody><tr><td>file:/databricks/driver/rohish/file2.txt</td><td>file2.txt</td><td>13</td><td>1722407818900</td></tr></tbody></table></div>"
      ]
     },
     "metadata": {
      "application/vnd.databricks.v1+output": {
       "addedWidgets": {},
       "aggData": [],
       "aggError": "",
       "aggOverflow": false,
       "aggSchema": [],
       "aggSeriesLimitReached": false,
       "aggType": "",
       "arguments": {},
       "columnCustomDisplayInfos": {},
       "data": [
        [
         "file:/databricks/driver/rohish/file2.txt",
         "file2.txt",
         13,
         1722407818900
        ]
       ],
       "datasetInfos": [],
       "dbfsResultPath": null,
       "isJsonSchema": true,
       "metadata": {},
       "overflow": false,
       "plotOptions": {
        "customPlotOptions": {},
        "displayType": "table",
        "pivotAggregation": null,
        "pivotColumns": null,
        "xColumns": null,
        "yColumns": null
       },
       "removedWidgets": [],
       "schema": [
        {
         "metadata": "{}",
         "name": "path",
         "type": "\"string\""
        },
        {
         "metadata": "{}",
         "name": "name",
         "type": "\"string\""
        },
        {
         "metadata": "{}",
         "name": "size",
         "type": "\"long\""
        },
        {
         "metadata": "{}",
         "name": "modificationTime",
         "type": "\"long\""
        }
       ],
       "type": "table"
      }
     },
     "output_type": "display_data"
    }
   ],
   "source": [
    "# file “file1.txt” removed from the location\n",
    "display(dbutils.fs.ls(\"file:/databricks/driver/rohish/\"))"
   ]
  },
  {
   "cell_type": "markdown",
   "metadata": {
    "application/vnd.databricks.v1+cell": {
     "cellMetadata": {},
     "inputWidgets": {},
     "nuid": "bc2d8102-9860-480e-9639-a86ccfb2ad87",
     "showTitle": false,
     "title": ""
    }
   },
   "source": [
    "#####Using os.rmdir()\n",
    "- `os.rmdir()` method in Python is used to remove or delete an empty directory. \n",
    "- OSError will be raised if the specified path is not an empty directory."
   ]
  },
  {
   "cell_type": "code",
   "execution_count": 0,
   "metadata": {
    "application/vnd.databricks.v1+cell": {
     "cellMetadata": {
      "byteLimit": 2048000,
      "rowLimit": 10000
     },
     "inputWidgets": {},
     "nuid": "23feb4f5-79df-4884-ad53-b83ac75229e3",
     "showTitle": false,
     "title": ""
    }
   },
   "outputs": [
    {
     "output_type": "display_data",
     "data": {
      "text/html": [
       "<style scoped>\n",
       "  .table-result-container {\n",
       "    max-height: 300px;\n",
       "    overflow: auto;\n",
       "  }\n",
       "  table, th, td {\n",
       "    border: 1px solid black;\n",
       "    border-collapse: collapse;\n",
       "  }\n",
       "  th, td {\n",
       "    padding: 5px;\n",
       "  }\n",
       "  th {\n",
       "    text-align: left;\n",
       "  }\n",
       "</style><div class='table-result-container'><table class='table-result'><thead style='background-color: white'><tr><th>path</th><th>name</th><th>size</th><th>modificationTime</th></tr></thead><tbody><tr><td>file:/databricks/driver/rohish/file2.txt</td><td>file2.txt</td><td>13</td><td>1722407818900</td></tr><tr><td>file:/databricks/driver/rohish/dir1/</td><td>dir1/</td><td>4096</td><td>1722408329829</td></tr><tr><td>file:/databricks/driver/rohish/dir2/</td><td>dir2/</td><td>4096</td><td>1722408334361</td></tr></tbody></table></div>"
      ]
     },
     "metadata": {
      "application/vnd.databricks.v1+output": {
       "addedWidgets": {},
       "aggData": [],
       "aggError": "",
       "aggOverflow": false,
       "aggSchema": [],
       "aggSeriesLimitReached": false,
       "aggType": "",
       "arguments": {},
       "columnCustomDisplayInfos": {},
       "data": [
        [
         "file:/databricks/driver/rohish/file2.txt",
         "file2.txt",
         13,
         1722407818900
        ],
        [
         "file:/databricks/driver/rohish/dir1/",
         "dir1/",
         4096,
         1722408329829
        ],
        [
         "file:/databricks/driver/rohish/dir2/",
         "dir2/",
         4096,
         1722408334361
        ]
       ],
       "datasetInfos": [],
       "dbfsResultPath": null,
       "isJsonSchema": true,
       "metadata": {},
       "overflow": false,
       "plotOptions": {
        "customPlotOptions": {},
        "displayType": "table",
        "pivotAggregation": null,
        "pivotColumns": null,
        "xColumns": null,
        "yColumns": null
       },
       "removedWidgets": [],
       "schema": [
        {
         "metadata": "{}",
         "name": "path",
         "type": "\"string\""
        },
        {
         "metadata": "{}",
         "name": "name",
         "type": "\"string\""
        },
        {
         "metadata": "{}",
         "name": "size",
         "type": "\"long\""
        },
        {
         "metadata": "{}",
         "name": "modificationTime",
         "type": "\"long\""
        }
       ],
       "type": "table"
      }
     },
     "output_type": "display_data"
    }
   ],
   "source": [
    "# listing directories before deleting\n",
    "display(dbutils.fs.ls(\"file:/databricks/driver/rohish/\"))"
   ]
  },
  {
   "cell_type": "code",
   "execution_count": 0,
   "metadata": {
    "application/vnd.databricks.v1+cell": {
     "cellMetadata": {
      "byteLimit": 2048000,
      "rowLimit": 10000
     },
     "inputWidgets": {},
     "nuid": "3d6023d3-87e8-4a78-be95-1481d933bab8",
     "showTitle": false,
     "title": ""
    }
   },
   "outputs": [],
   "source": [
    "# This code removes a file named “file1.txt” from the specified location\n",
    "import os\n",
    "\n",
    "location = \"/databricks/driver/rohish/\"\n",
    "dir_name = \"dir2\"\n",
    "\n",
    "os.rmdir(location+dir_name)"
   ]
  },
  {
   "cell_type": "code",
   "execution_count": 0,
   "metadata": {
    "application/vnd.databricks.v1+cell": {
     "cellMetadata": {
      "byteLimit": 2048000,
      "rowLimit": 10000
     },
     "inputWidgets": {},
     "nuid": "e738ce2f-e1ff-4d72-90ff-53d25f5075d6",
     "showTitle": false,
     "title": ""
    }
   },
   "outputs": [
    {
     "output_type": "display_data",
     "data": {
      "text/html": [
       "<style scoped>\n",
       "  .table-result-container {\n",
       "    max-height: 300px;\n",
       "    overflow: auto;\n",
       "  }\n",
       "  table, th, td {\n",
       "    border: 1px solid black;\n",
       "    border-collapse: collapse;\n",
       "  }\n",
       "  th, td {\n",
       "    padding: 5px;\n",
       "  }\n",
       "  th {\n",
       "    text-align: left;\n",
       "  }\n",
       "</style><div class='table-result-container'><table class='table-result'><thead style='background-color: white'><tr><th>path</th><th>name</th><th>size</th><th>modificationTime</th></tr></thead><tbody><tr><td>file:/databricks/driver/rohish/file2.txt</td><td>file2.txt</td><td>13</td><td>1722407818900</td></tr><tr><td>file:/databricks/driver/rohish/dir1/</td><td>dir1/</td><td>4096</td><td>1722408329829</td></tr></tbody></table></div>"
      ]
     },
     "metadata": {
      "application/vnd.databricks.v1+output": {
       "addedWidgets": {},
       "aggData": [],
       "aggError": "",
       "aggOverflow": false,
       "aggSchema": [],
       "aggSeriesLimitReached": false,
       "aggType": "",
       "arguments": {},
       "columnCustomDisplayInfos": {},
       "data": [
        [
         "file:/databricks/driver/rohish/file2.txt",
         "file2.txt",
         13,
         1722407818900
        ],
        [
         "file:/databricks/driver/rohish/dir1/",
         "dir1/",
         4096,
         1722408329829
        ]
       ],
       "datasetInfos": [],
       "dbfsResultPath": null,
       "isJsonSchema": true,
       "metadata": {},
       "overflow": false,
       "plotOptions": {
        "customPlotOptions": {},
        "displayType": "table",
        "pivotAggregation": null,
        "pivotColumns": null,
        "xColumns": null,
        "yColumns": null
       },
       "removedWidgets": [],
       "schema": [
        {
         "metadata": "{}",
         "name": "path",
         "type": "\"string\""
        },
        {
         "metadata": "{}",
         "name": "name",
         "type": "\"string\""
        },
        {
         "metadata": "{}",
         "name": "size",
         "type": "\"long\""
        },
        {
         "metadata": "{}",
         "name": "modificationTime",
         "type": "\"long\""
        }
       ],
       "type": "table"
      }
     },
     "output_type": "display_data"
    }
   ],
   "source": [
    "# directory dir1 is removed from the location\n",
    "display(dbutils.fs.ls(\"file:/databricks/driver/rohish/\"))"
   ]
  },
  {
   "cell_type": "markdown",
   "metadata": {
    "application/vnd.databricks.v1+cell": {
     "cellMetadata": {},
     "inputWidgets": {},
     "nuid": "f68b70c9-2ffb-4f3c-9808-83a126f06e93",
     "showTitle": false,
     "title": ""
    }
   },
   "source": []
  },
  {
   "cell_type": "markdown",
   "metadata": {
    "application/vnd.databricks.v1+cell": {
     "cellMetadata": {},
     "inputWidgets": {},
     "nuid": "63b77f61-bb49-49a2-9e21-6af54efb87d6",
     "showTitle": false,
     "title": ""
    }
   },
   "source": [
    "### os.path\n",
    "- The os.path module in Python is a handy tool for manipulating file and directory paths. \n",
    "- It provides several functions that can be utilized to perform common tasks related to file paths."
   ]
  },
  {
   "cell_type": "markdown",
   "metadata": {
    "application/vnd.databricks.v1+cell": {
     "cellMetadata": {},
     "inputWidgets": {},
     "nuid": "b824564e-af47-45c7-883f-67c4fde3cc23",
     "showTitle": false,
     "title": ""
    }
   },
   "source": [
    "#####Joining Paths with os.path.join\n",
    "\n",
    "The function `os.path.join()` is used to combine one or more path names into a single path."
   ]
  },
  {
   "cell_type": "code",
   "execution_count": 0,
   "metadata": {
    "application/vnd.databricks.v1+cell": {
     "cellMetadata": {
      "byteLimit": 2048000,
      "rowLimit": 10000
     },
     "inputWidgets": {},
     "nuid": "08c26fe2-b0d1-4190-9f56-369357f8f282",
     "showTitle": false,
     "title": ""
    }
   },
   "outputs": [
    {
     "output_type": "stream",
     "name": "stdout",
     "output_type": "stream",
     "text": [
      "/rohish/user/documents\n"
     ]
    }
   ],
   "source": [
    "import os\n",
    "\n",
    "path = os.path.join('/rohish', 'user', 'documents')\n",
    "print(path)"
   ]
  },
  {
   "cell_type": "markdown",
   "metadata": {
    "application/vnd.databricks.v1+cell": {
     "cellMetadata": {},
     "inputWidgets": {},
     "nuid": "0835c162-f5d4-49fc-9d81-22cecbcf7db3",
     "showTitle": false,
     "title": ""
    }
   },
   "source": []
  },
  {
   "cell_type": "markdown",
   "metadata": {
    "application/vnd.databricks.v1+cell": {
     "cellMetadata": {},
     "inputWidgets": {},
     "nuid": "d4dadfcc-7e9e-42a7-989e-868cd44e93bf",
     "showTitle": false,
     "title": ""
    }
   },
   "source": [
    "#####Getting the Base Name with os.path.basename\n",
    "- The `os.path.basename()` function returns the base name of the pathname path. \n",
    "- This is the second element of the pair returned by passing path to the function `os.path.split()`."
   ]
  },
  {
   "cell_type": "code",
   "execution_count": 0,
   "metadata": {
    "application/vnd.databricks.v1+cell": {
     "cellMetadata": {
      "byteLimit": 2048000,
      "rowLimit": 10000
     },
     "inputWidgets": {},
     "nuid": "3b3a1dac-4773-40b1-9378-78a74ce7f736",
     "showTitle": false,
     "title": ""
    }
   },
   "outputs": [
    {
     "output_type": "stream",
     "name": "stdout",
     "output_type": "stream",
     "text": [
      "rohish\n"
     ]
    }
   ],
   "source": [
    "# In this example, os.path.basename() returns the base name rohish from the path string.\n",
    "import os\n",
    "\n",
    "path = '/databricks/driver/rohish'\n",
    "basepath = os.path.basename(path)\n",
    "print(basepath)"
   ]
  },
  {
   "cell_type": "markdown",
   "metadata": {
    "application/vnd.databricks.v1+cell": {
     "cellMetadata": {},
     "inputWidgets": {},
     "nuid": "022786e7-8c35-437b-a16f-636ef6afc98e",
     "showTitle": false,
     "title": ""
    }
   },
   "source": []
  },
  {
   "cell_type": "markdown",
   "metadata": {
    "application/vnd.databricks.v1+cell": {
     "cellMetadata": {},
     "inputWidgets": {},
     "nuid": "5d41fe7c-5115-4a93-9b98-94b9f8d89d43",
     "showTitle": false,
     "title": ""
    }
   },
   "source": [
    "#####Splitting and Joining Paths\n",
    "- The os.path module provides functions to split a pathname into a pair (head, tail) and to join two or more pathname components\n",
    "- `os.path.split()` splits the path into two parts: the head (/home/user/documents) and the tail (myfile.txt). This can be useful when you need to manipulate individual parts of a path."
   ]
  },
  {
   "cell_type": "code",
   "execution_count": 0,
   "metadata": {
    "application/vnd.databricks.v1+cell": {
     "cellMetadata": {
      "byteLimit": 2048000,
      "rowLimit": 10000
     },
     "inputWidgets": {},
     "nuid": "f32024a8-e7aa-49ea-ab0a-81bbb933cf3e",
     "showTitle": false,
     "title": ""
    }
   },
   "outputs": [
    {
     "output_type": "stream",
     "name": "stdout",
     "output_type": "stream",
     "text": [
      "/databricks/driver/rohish\nfile2.txt\n/databricks/driver/rohish\n"
     ]
    }
   ],
   "source": [
    "import os\n",
    "\n",
    "path = \"/databricks/driver/rohish/file2.txt\"\n",
    "head, tail = os.path.split(path)\n",
    "\n",
    "print(head)\n",
    "print(tail)\n",
    "\n",
    "print(os.path.split(\"/databricks/driver/rohish/file2.txt\")[0])"
   ]
  },
  {
   "cell_type": "markdown",
   "metadata": {
    "application/vnd.databricks.v1+cell": {
     "cellMetadata": {},
     "inputWidgets": {},
     "nuid": "1cbee421-6d5f-4561-bf43-e793614d8cb4",
     "showTitle": false,
     "title": ""
    }
   },
   "source": []
  },
  {
   "cell_type": "markdown",
   "metadata": {
    "application/vnd.databricks.v1+cell": {
     "cellMetadata": {},
     "inputWidgets": {},
     "nuid": "7357fa04-fabb-4d7a-9278-fae354fda3ed",
     "showTitle": false,
     "title": ""
    }
   },
   "source": [
    "#####os.path.exists(path): \n",
    "Returns True if the specified path exists, False otherwise."
   ]
  },
  {
   "cell_type": "code",
   "execution_count": 0,
   "metadata": {
    "application/vnd.databricks.v1+cell": {
     "cellMetadata": {
      "byteLimit": 2048000,
      "rowLimit": 10000
     },
     "inputWidgets": {},
     "nuid": "6a23013f-8b2c-4f22-bdb0-97fc9cd721d5",
     "showTitle": false,
     "title": ""
    }
   },
   "outputs": [
    {
     "output_type": "stream",
     "name": "stdout",
     "output_type": "stream",
     "text": [
      "file2.txt exists\n"
     ]
    }
   ],
   "source": [
    "import os\n",
    "\n",
    "path = \"/databricks/driver/rohish/file2.txt\"\n",
    "\n",
    "if os.path.exists(path):\n",
    "    print(\"file2.txt exists\")\n",
    "else:\n",
    "    print(\"file2.txt does not exists\")"
   ]
  },
  {
   "cell_type": "markdown",
   "metadata": {
    "application/vnd.databricks.v1+cell": {
     "cellMetadata": {},
     "inputWidgets": {},
     "nuid": "a674db9c-4c58-4dbe-a3be-900c654bedab",
     "showTitle": false,
     "title": ""
    }
   },
   "source": [
    "#####os.path.isfile(path):\n",
    "Returns True if the specified path is an existing regular file, False otherwise."
   ]
  },
  {
   "cell_type": "code",
   "execution_count": 0,
   "metadata": {
    "application/vnd.databricks.v1+cell": {
     "cellMetadata": {
      "byteLimit": 2048000,
      "rowLimit": 10000
     },
     "inputWidgets": {},
     "nuid": "383ef02d-0d21-4413-924d-2159963e9347",
     "showTitle": false,
     "title": ""
    }
   },
   "outputs": [
    {
     "output_type": "stream",
     "name": "stdout",
     "output_type": "stream",
     "text": [
      "file2.txt is a file\nzade is a file\n"
     ]
    }
   ],
   "source": [
    "import os\n",
    "\n",
    "path = \"/databricks/driver/rohish/file2.txt\"\n",
    "path1 = \"/databricks/driver/rohish/zade/\"\n",
    "\n",
    "if os.path.exists(path):\n",
    "    print(\"file2.txt is a file\")\n",
    "else:\n",
    "    print(\"file2.txt is not a file\")\n",
    "\n",
    "if os.path.exists(path1):\n",
    "    print(\"zade is a file\")\n",
    "else:\n",
    "    print(\"zade is not a file\")"
   ]
  },
  {
   "cell_type": "markdown",
   "metadata": {
    "application/vnd.databricks.v1+cell": {
     "cellMetadata": {},
     "inputWidgets": {},
     "nuid": "571f319c-1df9-48ba-8c86-3931d779959d",
     "showTitle": false,
     "title": ""
    }
   },
   "source": []
  },
  {
   "cell_type": "markdown",
   "metadata": {
    "application/vnd.databricks.v1+cell": {
     "cellMetadata": {},
     "inputWidgets": {},
     "nuid": "9e76cf0b-121e-4085-8fae-6d581ac0f4b2",
     "showTitle": false,
     "title": ""
    }
   },
   "source": [
    "#####os.path.isdir(path): \n",
    "Returns True if the specified path is an existing directory, False otherwise."
   ]
  },
  {
   "cell_type": "code",
   "execution_count": 0,
   "metadata": {
    "application/vnd.databricks.v1+cell": {
     "cellMetadata": {
      "byteLimit": 2048000,
      "rowLimit": 10000
     },
     "inputWidgets": {},
     "nuid": "216e3fe4-8de9-4b1d-ae4c-cb8490a87bab",
     "showTitle": false,
     "title": ""
    }
   },
   "outputs": [
    {
     "output_type": "stream",
     "name": "stdout",
     "output_type": "stream",
     "text": [
      "path is a directory\n"
     ]
    }
   ],
   "source": [
    "import os\n",
    "\n",
    "path = \"/databricks/driver/rohish/file2.txt\"\n",
    "\n",
    "if os.path.exists(path):\n",
    "    print(\"path is a directory\")\n",
    "else:\n",
    "    pprint(\"path is not a directory\")"
   ]
  },
  {
   "cell_type": "markdown",
   "metadata": {
    "application/vnd.databricks.v1+cell": {
     "cellMetadata": {},
     "inputWidgets": {},
     "nuid": "bc8645d6-0add-4fa3-9f52-399aaa5c5375",
     "showTitle": false,
     "title": ""
    }
   },
   "source": []
  },
  {
   "cell_type": "markdown",
   "metadata": {
    "application/vnd.databricks.v1+cell": {
     "cellMetadata": {},
     "inputWidgets": {},
     "nuid": "e0c90e0c-87cd-480f-8de1-2a0445ed26c5",
     "showTitle": false,
     "title": ""
    }
   },
   "source": [
    "#####os.path.dirname(path):\n",
    "Returns the directory name of the pathname path. \n",
    "\n",
    "This is the first half of the pair returned by os.path.split(path)."
   ]
  },
  {
   "cell_type": "code",
   "execution_count": 0,
   "metadata": {
    "application/vnd.databricks.v1+cell": {
     "cellMetadata": {
      "byteLimit": 2048000,
      "rowLimit": 10000
     },
     "inputWidgets": {},
     "nuid": "f61423f2-cae8-4325-90ef-3d11c662b41e",
     "showTitle": false,
     "title": ""
    }
   },
   "outputs": [
    {
     "output_type": "stream",
     "name": "stdout",
     "output_type": "stream",
     "text": [
      "/databricks/driver/rohish\n"
     ]
    }
   ],
   "source": [
    "dirname = \"/databricks/driver/rohish/file2.txt\"\n",
    "print(os.path.dirname(dirname))"
   ]
  },
  {
   "cell_type": "markdown",
   "metadata": {
    "application/vnd.databricks.v1+cell": {
     "cellMetadata": {},
     "inputWidgets": {},
     "nuid": "e877c13d-a1bc-4fd5-ae20-b71c9dc1cd86",
     "showTitle": false,
     "title": ""
    }
   },
   "source": []
  },
  {
   "cell_type": "markdown",
   "metadata": {
    "application/vnd.databricks.v1+cell": {
     "cellMetadata": {},
     "inputWidgets": {},
     "nuid": "ea4c440d-e304-4d85-84f1-3949b3be9295",
     "showTitle": false,
     "title": ""
    }
   },
   "source": [
    "#####os.path.splitext(path):\n",
    "Splits the pathname path into a pair (root, ext) where root is everything before the last dot and ext is everything after the last dot."
   ]
  },
  {
   "cell_type": "code",
   "execution_count": 0,
   "metadata": {
    "application/vnd.databricks.v1+cell": {
     "cellMetadata": {
      "byteLimit": 2048000,
      "rowLimit": 10000
     },
     "inputWidgets": {},
     "nuid": "4fa234c5-c693-4937-9db6-f9ffd04f7e67",
     "showTitle": false,
     "title": ""
    }
   },
   "outputs": [
    {
     "output_type": "stream",
     "name": "stdout",
     "output_type": "stream",
     "text": [
      "/databricks/driver/rohish/file2\n.txt\n"
     ]
    }
   ],
   "source": [
    "import os\n",
    "\n",
    "path = \"/databricks/driver/rohish/file2.txt\"\n",
    "\n",
    "root, ext = os.path.splitext(path)\n",
    "\n",
    "print(root)\n",
    "print(ext)\n"
   ]
  },
  {
   "cell_type": "markdown",
   "metadata": {
    "application/vnd.databricks.v1+cell": {
     "cellMetadata": {},
     "inputWidgets": {},
     "nuid": "06d313f9-df65-435b-ad65-74804b1f435a",
     "showTitle": false,
     "title": ""
    }
   },
   "source": []
  },
  {
   "cell_type": "markdown",
   "metadata": {
    "application/vnd.databricks.v1+cell": {
     "cellMetadata": {},
     "inputWidgets": {},
     "nuid": "d3094f6e-6308-47ec-a056-7c744ed391ae",
     "showTitle": false,
     "title": ""
    }
   },
   "source": [
    "#####os.path.abspath(path):\n",
    "Returns a normalized absolute version of the pathname path"
   ]
  },
  {
   "cell_type": "code",
   "execution_count": 0,
   "metadata": {
    "application/vnd.databricks.v1+cell": {
     "cellMetadata": {
      "byteLimit": 2048000,
      "rowLimit": 10000
     },
     "inputWidgets": {},
     "nuid": "2bc6def2-ae72-44fe-99b7-b21ba0e69810",
     "showTitle": false,
     "title": ""
    }
   },
   "outputs": [
    {
     "output_type": "stream",
     "name": "stdout",
     "output_type": "stream",
     "text": [
      "/databricks/driver/file4.txt\n"
     ]
    }
   ],
   "source": [
    "import os\n",
    "\n",
    "file = \"file4.txt\"\n",
    "\n",
    "print(os.path.abspath(file))"
   ]
  },
  {
   "cell_type": "markdown",
   "metadata": {
    "application/vnd.databricks.v1+cell": {
     "cellMetadata": {},
     "inputWidgets": {},
     "nuid": "73c345d3-b82a-4f22-858f-b6d48fdaf420",
     "showTitle": false,
     "title": ""
    }
   },
   "source": []
  },
  {
   "cell_type": "markdown",
   "metadata": {
    "application/vnd.databricks.v1+cell": {
     "cellMetadata": {},
     "inputWidgets": {},
     "nuid": "e5c3993f-2cae-46b8-bf8b-c3efd0822216",
     "showTitle": false,
     "title": ""
    }
   },
   "source": [
    "#####os.path.getsize(path): \n",
    "Returns the size, in bytes, of the specified path.\n",
    "\n"
   ]
  },
  {
   "cell_type": "code",
   "execution_count": 0,
   "metadata": {
    "application/vnd.databricks.v1+cell": {
     "cellMetadata": {
      "byteLimit": 2048000,
      "rowLimit": 10000
     },
     "inputWidgets": {},
     "nuid": "c0c33e41-dde7-4647-a2bf-c0a0443f81e3",
     "showTitle": false,
     "title": ""
    }
   },
   "outputs": [
    {
     "output_type": "stream",
     "name": "stdout",
     "output_type": "stream",
     "text": [
      "13\n"
     ]
    }
   ],
   "source": [
    "import os\n",
    "\n",
    "path = \"/databricks/driver/rohish/file2.txt\"\n",
    "\n",
    "print(os.path.getsize(path))"
   ]
  },
  {
   "cell_type": "markdown",
   "metadata": {
    "application/vnd.databricks.v1+cell": {
     "cellMetadata": {},
     "inputWidgets": {},
     "nuid": "8d8ebac8-6b55-4210-80e7-e2e96c776257",
     "showTitle": false,
     "title": ""
    }
   },
   "source": []
  },
  {
   "cell_type": "markdown",
   "metadata": {
    "application/vnd.databricks.v1+cell": {
     "cellMetadata": {},
     "inputWidgets": {},
     "nuid": "4e0836e8-2704-4fa1-aada-658c4d8ce84b",
     "showTitle": false,
     "title": ""
    }
   },
   "source": [
    "#####os.path.getmtime(path): \n",
    "Returns the time of last modification of the path."
   ]
  },
  {
   "cell_type": "code",
   "execution_count": 0,
   "metadata": {
    "application/vnd.databricks.v1+cell": {
     "cellMetadata": {
      "byteLimit": 2048000,
      "rowLimit": 10000
     },
     "inputWidgets": {},
     "nuid": "9e6ac8dd-2d5f-44eb-87a1-428d71ad326b",
     "showTitle": false,
     "title": ""
    }
   },
   "outputs": [
    {
     "output_type": "stream",
     "name": "stdout",
     "output_type": "stream",
     "text": [
      "1722861034.142767\nMon Aug  5 12:30:34 2024\n"
     ]
    }
   ],
   "source": [
    "import os\n",
    "import time\n",
    "\n",
    "path = \"/databricks/driver/rohish/file2.txt\"\n",
    "\n",
    "print(os.path.getmtime(path))\n",
    "print(time.ctime(os.path.getmtime(path)))"
   ]
  },
  {
   "cell_type": "markdown",
   "metadata": {
    "application/vnd.databricks.v1+cell": {
     "cellMetadata": {},
     "inputWidgets": {},
     "nuid": "1aae0bc4-954c-4fec-b6ef-4177852b9952",
     "showTitle": false,
     "title": ""
    }
   },
   "source": [
    "- **os.path.getatime(path):** Returns the time of last access of the path.\n",
    "- **os.path.getctime(path):** Returns the time of creation of the path."
   ]
  },
  {
   "cell_type": "markdown",
   "metadata": {
    "application/vnd.databricks.v1+cell": {
     "cellMetadata": {},
     "inputWidgets": {},
     "nuid": "e7df6934-fbb3-4485-8086-21f9eaf904dd",
     "showTitle": false,
     "title": ""
    }
   },
   "source": []
  },
  {
   "cell_type": "markdown",
   "metadata": {
    "application/vnd.databricks.v1+cell": {
     "cellMetadata": {},
     "inputWidgets": {},
     "nuid": "16a3e745-2ede-4b45-959a-02303366fa70",
     "showTitle": false,
     "title": ""
    }
   },
   "source": [
    "####Example Usage\n",
    "Example that demonstrates some of the above functions:"
   ]
  },
  {
   "cell_type": "code",
   "execution_count": 0,
   "metadata": {
    "application/vnd.databricks.v1+cell": {
     "cellMetadata": {
      "byteLimit": 2048000,
      "rowLimit": 10000
     },
     "inputWidgets": {},
     "nuid": "4e5c9d2f-d6e6-48f8-8261-591fdb749a0c",
     "showTitle": false,
     "title": ""
    }
   },
   "outputs": [
    {
     "output_type": "stream",
     "name": "stdout",
     "output_type": "stream",
     "text": [
      "Joined path: /databricks/driver/rohish/file2.txt\n/databricks/driver/rohish/file2.txt exists\n/databricks/driver/rohish/file2.txt is a file\nBase name: file2.txt\nDirectory name: /databricks/driver/rohish\nHead: /databricks/driver/rohish\nTail: file2.txt\nAbsolute path: /databricks/driver/rohish/file2.txt\nFile size: 13 bytes\nLast modification time: Mon Aug  5 12:30:34 2024\nLast access time: Mon Aug  5 12:30:34 2024\nCreation time: Mon Aug  5 12:30:34 2024\n"
     ]
    }
   ],
   "source": [
    "import os\n",
    "\n",
    "# Joining paths\n",
    "path = os.path.join('/databricks', 'driver', 'rohish', 'file2.txt') \n",
    "print(\"Joined path:\", path)\n",
    "\n",
    "# Checking if a path exists\n",
    "if os.path.exists(path):\n",
    "    print(f\"{path} exists\")\n",
    "\n",
    "# Checking if it's a file or directory\n",
    "if os.path.isfile(path):\n",
    "    print(f\"{path} is a file\")\n",
    "elif os.path.isdir(path):\n",
    "    print(f\"{path} is a directory\")\n",
    "\n",
    "# Getting the basename and dirname\n",
    "basename = os.path.basename(path)\n",
    "dirname = os.path.dirname(path)\n",
    "print(\"Base name:\", basename)\n",
    "print(\"Directory name:\", dirname)\n",
    "\n",
    "# Splitting the path\n",
    "head, tail = os.path.split(path)\n",
    "print(\"Head:\", head)\n",
    "print(\"Tail:\", tail)\n",
    "\n",
    "# Getting the absolute path\n",
    "abs_path = os.path.abspath(path)\n",
    "print(\"Absolute path:\", abs_path)\n",
    "\n",
    "# Getting file size\n",
    "size = os.path.getsize(path)\n",
    "print(\"File size:\", size, \"bytes\")\n",
    "\n",
    "# Getting file modification time\n",
    "mtime = os.path.getmtime(path)\n",
    "print(\"Last modification time:\", time.ctime(mtime))\n",
    "\n",
    "# Getting file access time\n",
    "atime = os.path.getatime(path)\n",
    "print(\"Last access time:\", time.ctime(atime))\n",
    "\n",
    "# Getting file creation time\n",
    "ctime = os.path.getctime(path)\n",
    "print(\"Creation time:\", time.ctime(ctime))\n"
   ]
  }
 ],
 "metadata": {
  "application/vnd.databricks.v1+notebook": {
   "dashboards": [],
   "environmentMetadata": null,
   "language": "python",
   "notebookMetadata": {
    "mostRecentlyExecutedCommandWithImplicitDF": {
     "commandId": 304469615028117,
     "dataframes": [
      "_sqldf"
     ]
    },
    "pythonIndentUnit": 4
   },
   "notebookName": "OS Module in Python",
   "widgets": {}
  }
 },
 "nbformat": 4,
 "nbformat_minor": 0
}
