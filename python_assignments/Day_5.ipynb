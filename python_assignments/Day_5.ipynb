{
 "cells": [
  {
   "cell_type": "markdown",
   "metadata": {
    "application/vnd.databricks.v1+cell": {
     "cellMetadata": {},
     "inputWidgets": {},
     "nuid": "412fe85d-e5ec-4769-92a3-fdab559abafe",
     "showTitle": false,
     "title": ""
    }
   },
   "source": [
    "##Functions, modules and packages"
   ]
  },
  {
   "cell_type": "markdown",
   "metadata": {
    "application/vnd.databricks.v1+cell": {
     "cellMetadata": {},
     "inputWidgets": {},
     "nuid": "c214e8ae-1fcb-4040-9d45-6d1c3476044e",
     "showTitle": false,
     "title": ""
    }
   },
   "source": [
    "####1 - write a Python function which takes a positive number as input and return the factorial of the number."
   ]
  },
  {
   "cell_type": "code",
   "execution_count": 0,
   "metadata": {
    "application/vnd.databricks.v1+cell": {
     "cellMetadata": {
      "byteLimit": 2048000,
      "rowLimit": 10000
     },
     "inputWidgets": {},
     "nuid": "2bfb3416-3b20-4447-acb7-8b6c2a567541",
     "showTitle": false,
     "title": ""
    }
   },
   "outputs": [
    {
     "output_type": "display_data",
     "data": {
      "text/plain": [
       "Enter the positive number: 6"
      ]
     },
     "metadata": {},
     "output_type": "display_data"
    },
    {
     "output_type": "stream",
     "name": "stdout",
     "output_type": "stream",
     "text": [
      "The factorial of 6 is 720\n"
     ]
    }
   ],
   "source": [
    "def factorial(n):\n",
    "    ans = 1\n",
    "    if n == 1:\n",
    "        return ans\n",
    "    for i in range(1, n + 1):\n",
    "        ans *= i\n",
    "    return ans\n",
    "\n",
    "user_input = int(input(\"Enter the positive number:\"))\n",
    "print(f\"The factorial of {user_input} is {factorial(user_input)}\")"
   ]
  },
  {
   "cell_type": "markdown",
   "metadata": {
    "application/vnd.databricks.v1+cell": {
     "cellMetadata": {},
     "inputWidgets": {},
     "nuid": "efc3f429-2acb-47bf-a09c-cf27447e575f",
     "showTitle": false,
     "title": ""
    }
   },
   "source": []
  },
  {
   "cell_type": "markdown",
   "metadata": {
    "application/vnd.databricks.v1+cell": {
     "cellMetadata": {},
     "inputWidgets": {},
     "nuid": "855c4897-eb29-44c4-9579-bb2606c3e611",
     "showTitle": false,
     "title": ""
    }
   },
   "source": [
    "####2 - Write a Python function that accepts a string and counts the number of upper and lower case letters.\n",
    "- Sample String : 'The quick Brow Fox'\n",
    "- Expected Output :\n",
    "- No. of Upper case characters : 3\n",
    "- No. of Lower case Characters : 12"
   ]
  },
  {
   "cell_type": "code",
   "execution_count": 0,
   "metadata": {
    "application/vnd.databricks.v1+cell": {
     "cellMetadata": {
      "byteLimit": 2048000,
      "rowLimit": 10000
     },
     "inputWidgets": {},
     "nuid": "2e9180aa-17d2-435b-9210-29611633fa2f",
     "showTitle": false,
     "title": ""
    }
   },
   "outputs": [
    {
     "output_type": "display_data",
     "data": {
      "text/plain": [
       "Enter the string: Somewhere Only We Know"
      ]
     },
     "metadata": {},
     "output_type": "display_data"
    },
    {
     "output_type": "stream",
     "name": "stdout",
     "output_type": "stream",
     "text": [
      "No. of Upper case characters : 4\nNo. of Lower case characters : 15\n"
     ]
    }
   ],
   "source": [
    "def count_lower_upper_case(string):\n",
    "    upper_count = 0\n",
    "    lower_count = 0\n",
    "    for letter in string:\n",
    "        if letter.isupper():\n",
    "            upper_count += 1\n",
    "        elif letter.islower():\n",
    "            lower_count += 1\n",
    "    print(f\"No. of Upper case characters : {upper_count}\")\n",
    "    print(f\"No. of Lower case characters : {lower_count}\")\n",
    "\n",
    "string = input(\"Enter the string:\")\n",
    "count_lower_upper_case(string)"
   ]
  },
  {
   "cell_type": "markdown",
   "metadata": {
    "application/vnd.databricks.v1+cell": {
     "cellMetadata": {},
     "inputWidgets": {},
     "nuid": "9b7e9b7c-ac32-4907-adc9-b54b91cce161",
     "showTitle": false,
     "title": ""
    }
   },
   "source": []
  },
  {
   "cell_type": "markdown",
   "metadata": {
    "application/vnd.databricks.v1+cell": {
     "cellMetadata": {},
     "inputWidgets": {},
     "nuid": "3dcf4542-7786-4f7c-9afe-754af8b2be60",
     "showTitle": false,
     "title": ""
    }
   },
   "source": [
    "\n",
    "####3 - Write a Python function that takes a list and returns a new list with distinct elements from the first list.\n",
    "- Sample List : [1,2,3,3,3,3,4,5]\n",
    "- Unique List : [1, 2, 3, 4, 5]"
   ]
  },
  {
   "cell_type": "code",
   "execution_count": 0,
   "metadata": {
    "application/vnd.databricks.v1+cell": {
     "cellMetadata": {
      "byteLimit": 2048000,
      "rowLimit": 10000
     },
     "inputWidgets": {},
     "nuid": "cf9b3283-8140-4e71-94f6-21469d5d1706",
     "showTitle": false,
     "title": ""
    }
   },
   "outputs": [
    {
     "output_type": "stream",
     "name": "stdout",
     "output_type": "stream",
     "text": [
      "[1, 2, 3, 4, 5]\n"
     ]
    }
   ],
   "source": [
    "def unique_numbers(lst):\n",
    "    unique_list = []\n",
    "    for i in lst:\n",
    "        if i not in unique_list:\n",
    "            unique_list.append(i)\n",
    "  \n",
    "    return unique_list\n",
    "\n",
    "lst = [1,2,3,3,3,3,4,5]\n",
    "print(unique_numbers(lst))"
   ]
  },
  {
   "cell_type": "markdown",
   "metadata": {
    "application/vnd.databricks.v1+cell": {
     "cellMetadata": {},
     "inputWidgets": {},
     "nuid": "dd02e97a-15e7-45b1-92ed-fa55944cfee8",
     "showTitle": false,
     "title": ""
    }
   },
   "source": []
  },
  {
   "cell_type": "markdown",
   "metadata": {
    "application/vnd.databricks.v1+cell": {
     "cellMetadata": {},
     "inputWidgets": {},
     "nuid": "5358dad2-0e86-4e49-9189-60d73c1ac2f2",
     "showTitle": false,
     "title": ""
    }
   },
   "source": [
    "####4 - Write a Python function that checks whether a passed string is a palindrome or not.\n",
    "Note: A palindrome is a word, phrase, or sequence that reads the same backward as forward, e.g., madam."
   ]
  },
  {
   "cell_type": "code",
   "execution_count": 0,
   "metadata": {
    "application/vnd.databricks.v1+cell": {
     "cellMetadata": {
      "byteLimit": 2048000,
      "rowLimit": 10000
     },
     "inputWidgets": {},
     "nuid": "53e382cd-3bd8-487f-94c0-9ab744559afa",
     "showTitle": false,
     "title": ""
    }
   },
   "outputs": [
    {
     "output_type": "display_data",
     "data": {
      "text/plain": [
       "Enter a string: rohish"
      ]
     },
     "metadata": {},
     "output_type": "display_data"
    },
    {
     "output_type": "stream",
     "name": "stdout",
     "output_type": "stream",
     "text": [
      "rohish is a not palindrome\n"
     ]
    }
   ],
   "source": [
    "def ispalindrome(string):\n",
    "    reverse_string = string[::-1]\n",
    "    if (string == reverse_string):\n",
    "        return True\n",
    "    else:\n",
    "        return False\n",
    "\n",
    "string= input(\"Enter a string:\").lower()\n",
    "\n",
    "if ispalindrome(string):\n",
    "    print(f\"{string} is a palindrome\")\n",
    "else:\n",
    "    print(f\"{string} is a not palindrome\")"
   ]
  },
  {
   "cell_type": "markdown",
   "metadata": {
    "application/vnd.databricks.v1+cell": {
     "cellMetadata": {},
     "inputWidgets": {},
     "nuid": "cf71c150-050a-47c4-9712-35893863bc60",
     "showTitle": false,
     "title": ""
    }
   },
   "source": []
  },
  {
   "cell_type": "markdown",
   "metadata": {
    "application/vnd.databricks.v1+cell": {
     "cellMetadata": {
      "byteLimit": 2048000,
      "rowLimit": 10000
     },
     "inputWidgets": {},
     "nuid": "fcd2ee2f-8d5e-4c9c-8851-524d235e6ecf",
     "showTitle": false,
     "title": ""
    }
   },
   "source": [
    "####5 - Write a Python program that accepts a hyphen-separated sequence of words as input and prints the words in a hyphen-separated sequence after sorting them alphabetically.\n",
    "\n",
    "- Sample Items : green-red-yellow-black-white\n",
    "- Expected Result : black-green-red-white-yellow\n"
   ]
  },
  {
   "cell_type": "code",
   "execution_count": 0,
   "metadata": {
    "application/vnd.databricks.v1+cell": {
     "cellMetadata": {
      "byteLimit": 2048000,
      "rowLimit": 10000
     },
     "inputWidgets": {},
     "nuid": "9780540a-1d40-4564-acd2-6cc0f577e80f",
     "showTitle": false,
     "title": ""
    }
   },
   "outputs": [
    {
     "output_type": "display_data",
     "data": {
      "text/plain": [
       "Enter the words hypen separated: zade-rohish-shankar"
      ]
     },
     "metadata": {},
     "output_type": "display_data"
    },
    {
     "output_type": "stream",
     "name": "stdout",
     "output_type": "stream",
     "text": [
      "rohish-shankar-zade\n"
     ]
    }
   ],
   "source": [
    "def sort_alphabetically(words):\n",
    "    words_list = words.split(\"-\")\n",
    "    words_list.sort()\n",
    "    sorted_words = \"-\".join(words_list)\n",
    "    print(sorted_words)\n",
    "   \n",
    "words = input(\"Enter the words hypen separated:\")\n",
    "sort_alphabetically(words)   "
   ]
  },
  {
   "cell_type": "markdown",
   "metadata": {
    "application/vnd.databricks.v1+cell": {
     "cellMetadata": {},
     "inputWidgets": {},
     "nuid": "e3c23464-40c9-45a4-89ff-066091ce6b65",
     "showTitle": false,
     "title": ""
    }
   },
   "source": []
  },
  {
   "cell_type": "markdown",
   "metadata": {
    "application/vnd.databricks.v1+cell": {
     "cellMetadata": {},
     "inputWidgets": {},
     "nuid": "7c1762d5-7d0c-4c8a-b1a9-66fce1212baa",
     "showTitle": false,
     "title": ""
    }
   },
   "source": [
    "####6 - write a python function that accepts a string and prints the count of occurence of each characters\n",
    "\n",
    "- sample string: aabccda\n",
    "- expected result:\n",
    "  - a -> 3\n",
    "  - b-> 1\n",
    "  - c-> 2\n",
    "  - d -> 1"
   ]
  },
  {
   "cell_type": "code",
   "execution_count": 0,
   "metadata": {
    "application/vnd.databricks.v1+cell": {
     "cellMetadata": {
      "byteLimit": 2048000,
      "rowLimit": 10000
     },
     "inputWidgets": {},
     "nuid": "d4d429ee-ff21-49ef-ae7a-a46042502fed",
     "showTitle": false,
     "title": ""
    }
   },
   "outputs": [
    {
     "output_type": "display_data",
     "data": {
      "text/plain": [
       "Enter the string: aabccda"
      ]
     },
     "metadata": {},
     "output_type": "display_data"
    },
    {
     "output_type": "stream",
     "name": "stdout",
     "output_type": "stream",
     "text": [
      "a -> 3\nb -> 1\nc -> 2\nd -> 1\n"
     ]
    }
   ],
   "source": [
    "def count_occurence(string):\n",
    "    word_count = {} \n",
    "    for char in string:\n",
    "        if char in word_count:\n",
    "            continue\n",
    "        else:\n",
    "            word_count[char] = string.count(char)\n",
    "    for key, value in word_count.items():\n",
    "        print(f\"{key} -> {value}\")\n",
    "\n",
    "\n",
    "string = input(\"Enter the string:\")\n",
    "count_occurence(string)"
   ]
  },
  {
   "cell_type": "markdown",
   "metadata": {
    "application/vnd.databricks.v1+cell": {
     "cellMetadata": {},
     "inputWidgets": {},
     "nuid": "a65587c2-54dc-434a-bb45-77b1375d35ec",
     "showTitle": false,
     "title": ""
    }
   },
   "source": []
  },
  {
   "cell_type": "markdown",
   "metadata": {
    "application/vnd.databricks.v1+cell": {
     "cellMetadata": {},
     "inputWidgets": {},
     "nuid": "33919a2a-5951-4e01-9405-6a4421d4a61e",
     "showTitle": false,
     "title": ""
    }
   },
   "source": [
    "####7 - write a function called is_prime that takes an integer as an argument and returns True if it is a prime number, and False otherwise."
   ]
  },
  {
   "cell_type": "code",
   "execution_count": 0,
   "metadata": {
    "application/vnd.databricks.v1+cell": {
     "cellMetadata": {
      "byteLimit": 2048000,
      "rowLimit": 10000
     },
     "inputWidgets": {},
     "nuid": "93df144d-65a4-425d-81ac-caeff9f98219",
     "showTitle": false,
     "title": ""
    }
   },
   "outputs": [
    {
     "output_type": "display_data",
     "data": {
      "text/plain": [
       "Enter the number: 69"
      ]
     },
     "metadata": {},
     "output_type": "display_data"
    },
    {
     "output_type": "stream",
     "name": "stdout",
     "output_type": "stream",
     "text": [
      "69 is not a prime number.\n"
     ]
    }
   ],
   "source": [
    "def is_prime(num):\n",
    "    if num <= 1:\n",
    "        return False\n",
    "    if num == 2:\n",
    "        return True\n",
    "    if num % 2 == 0:\n",
    "        return False\n",
    "    for i in range(3, num, 2):\n",
    "        if num % i == 0:\n",
    "            return False\n",
    "    \n",
    "    return True\n",
    "\n",
    "num = int(input(\"Enter the number:\"))\n",
    "if is_prime(num):\n",
    "    print(f\"{num} is a prime number.\")\n",
    "else:\n",
    "    print(f\"{num} is not a prime number.\")"
   ]
  },
  {
   "cell_type": "markdown",
   "metadata": {
    "application/vnd.databricks.v1+cell": {
     "cellMetadata": {},
     "inputWidgets": {},
     "nuid": "74860d08-0181-407a-81e6-b11faf10fd23",
     "showTitle": false,
     "title": ""
    }
   },
   "source": []
  },
  {
   "cell_type": "markdown",
   "metadata": {
    "application/vnd.databricks.v1+cell": {
     "cellMetadata": {},
     "inputWidgets": {},
     "nuid": "db3ac277-2b84-4c07-a5aa-266ec1c230a2",
     "showTitle": false,
     "title": ""
    }
   },
   "source": [
    "####8 - write a function called generate_fibonacci that takes an integer n as input and returns a list of the first n Fibonacci numbers."
   ]
  },
  {
   "cell_type": "code",
   "execution_count": 0,
   "metadata": {
    "application/vnd.databricks.v1+cell": {
     "cellMetadata": {
      "byteLimit": 2048000,
      "rowLimit": 10000
     },
     "inputWidgets": {},
     "nuid": "99da633b-21e0-47a1-800b-83759b350a08",
     "showTitle": false,
     "title": ""
    }
   },
   "outputs": [
    {
     "output_type": "display_data",
     "data": {
      "text/plain": [
       "Enter the integer: 10"
      ]
     },
     "metadata": {},
     "output_type": "display_data"
    },
    {
     "output_type": "stream",
     "name": "stdout",
     "output_type": "stream",
     "text": [
      "[0, 1, 1, 2, 3, 5, 8, 13, 21, 34]\n"
     ]
    }
   ],
   "source": [
    "def generate_fibonacci(num):\n",
    "    fibonacci_numbers = [] # 0, 1, \n",
    "    for i in range(0, num): # 2\n",
    "        if len(fibonacci_numbers) < 2: # false\n",
    "            fibonacci_numbers.append(i)\n",
    "        else:\n",
    "            fibonacci_numbers.append(fibonacci_numbers[i - 2] + fibonacci_numbers[i - 1])\n",
    "    \n",
    "    return fibonacci_numbers\n",
    "\n",
    "num = int(input(\"Enter the integer:\"))\n",
    "print(generate_fibonacci(num))"
   ]
  },
  {
   "cell_type": "markdown",
   "metadata": {
    "application/vnd.databricks.v1+cell": {
     "cellMetadata": {},
     "inputWidgets": {},
     "nuid": "8ac7ef8c-df3a-4b63-bf6c-f773e8abb4fb",
     "showTitle": false,
     "title": ""
    }
   },
   "source": []
  },
  {
   "cell_type": "markdown",
   "metadata": {
    "application/vnd.databricks.v1+cell": {
     "cellMetadata": {},
     "inputWidgets": {},
     "nuid": "2750eb8b-7901-4aa4-bddb-5b7319239568",
     "showTitle": false,
     "title": ""
    }
   },
   "source": [
    "####9 - Write a function called capitalize_odd_letters that takes a string as input and returns the same string with the odd-indexed letters capitalized."
   ]
  },
  {
   "cell_type": "code",
   "execution_count": 0,
   "metadata": {
    "application/vnd.databricks.v1+cell": {
     "cellMetadata": {
      "byteLimit": 2048000,
      "rowLimit": 10000
     },
     "inputWidgets": {},
     "nuid": "59ecd2fb-7d30-4f97-bfbc-cea08e5b4e31",
     "showTitle": false,
     "title": ""
    }
   },
   "outputs": [
    {
     "output_type": "display_data",
     "data": {
      "text/plain": [
       "Enter a string: why are sundays so depressng"
      ]
     },
     "metadata": {},
     "output_type": "display_data"
    },
    {
     "output_type": "stream",
     "name": "stdout",
     "output_type": "stream",
     "text": [
      "wHy aRe sUnDays sO DePRessnG\n"
     ]
    }
   ],
   "source": [
    "def capitalize_odd_letters(string):\n",
    "    odd_index_capitalized = \"\"\n",
    "    for char in string:\n",
    "        if string.index(char) % 2 == 0:\n",
    "            odd_index_capitalized += odd_index_capitalized.join(char)\n",
    "        else:\n",
    "            odd_index_capitalized += odd_index_capitalized.join(char.upper())\n",
    "    return odd_index_capitalized\n",
    "\n",
    "string = input(\"Enter a string:\")\n",
    "print(capitalize_odd_letters(string))"
   ]
  },
  {
   "cell_type": "markdown",
   "metadata": {
    "application/vnd.databricks.v1+cell": {
     "cellMetadata": {},
     "inputWidgets": {},
     "nuid": "da38efb2-ec6b-45a5-a907-5bc10f3ceaef",
     "showTitle": false,
     "title": ""
    }
   },
   "source": []
  },
  {
   "cell_type": "markdown",
   "metadata": {
    "application/vnd.databricks.v1+cell": {
     "cellMetadata": {},
     "inputWidgets": {},
     "nuid": "6cf56b04-c0bd-4b4a-94b6-ce2780526125",
     "showTitle": false,
     "title": ""
    }
   },
   "source": [
    "####10 - write a function called find_common_elements that takes two lists as input and returns a new list containing the common elements between the two lists."
   ]
  },
  {
   "cell_type": "code",
   "execution_count": 0,
   "metadata": {
    "application/vnd.databricks.v1+cell": {
     "cellMetadata": {
      "byteLimit": 2048000,
      "rowLimit": 10000
     },
     "inputWidgets": {},
     "nuid": "44107c71-ccc6-4605-9c1d-f1c127062fd5",
     "showTitle": false,
     "title": ""
    }
   },
   "outputs": [
    {
     "output_type": "display_data",
     "data": {
      "text/plain": [
       "Enter the list 1 elements: 1 2 3 4"
      ]
     },
     "metadata": {},
     "output_type": "display_data"
    },
    {
     "output_type": "display_data",
     "data": {
      "text/plain": [
       "Enter the list 2 elements: 4 5 6 7 8 9 1 0"
      ]
     },
     "metadata": {},
     "output_type": "display_data"
    },
    {
     "output_type": "stream",
     "name": "stdout",
     "output_type": "stream",
     "text": [
      "['1', '4']\n"
     ]
    }
   ],
   "source": [
    "def find_common_elements(list1, list2):\n",
    "    common_elements = []\n",
    "    outer_list = 1 if len(list1) > len(list2) else 2\n",
    "\n",
    "    for item in list1:\n",
    "        if item in list2:\n",
    "            common_elements.append(item)\n",
    "\n",
    "    return common_elements\n",
    "         \n",
    "list1 = input(\"Enter the list 1 elements:\").split(\" \")\n",
    "list2 = input(\"Enter the list 2 elements:\").split(\" \")\n",
    "print(find_common_elements(list1, list2))"
   ]
  }
 ],
 "metadata": {
  "application/vnd.databricks.v1+notebook": {
   "dashboards": [],
   "environmentMetadata": null,
   "language": "python",
   "notebookMetadata": {
    "pythonIndentUnit": 4
   },
   "notebookName": "Day_5",
   "widgets": {}
  }
 },
 "nbformat": 4,
 "nbformat_minor": 0
}
