{
 "cells": [
  {
   "cell_type": "markdown",
   "metadata": {
    "application/vnd.databricks.v1+cell": {
     "cellMetadata": {
      "byteLimit": 2048000,
      "rowLimit": 10000
     },
     "inputWidgets": {},
     "nuid": "993262da-6b4e-4447-af88-6a08eda24358",
     "showTitle": false,
     "title": ""
    }
   },
   "source": [
    "###Input, output and  Strings in Python"
   ]
  },
  {
   "cell_type": "markdown",
   "metadata": {
    "application/vnd.databricks.v1+cell": {
     "cellMetadata": {
      "byteLimit": 2048000,
      "rowLimit": 10000
     },
     "inputWidgets": {},
     "nuid": "6c2b456d-1685-41fa-93e4-14c9d44aa0eb",
     "showTitle": false,
     "title": ""
    }
   },
   "source": [
    "#####1- write a program which takes 2 inputs from the user : weight(kg) and height(meter) and prints the BMI in the output.\n",
    " - BMI = weight / (square of height)"
   ]
  },
  {
   "cell_type": "code",
   "execution_count": 0,
   "metadata": {
    "application/vnd.databricks.v1+cell": {
     "cellMetadata": {
      "byteLimit": 2048000,
      "rowLimit": 10000
     },
     "inputWidgets": {},
     "nuid": "0ddb8c7f-e01a-474d-be50-a3ddb466bdeb",
     "showTitle": false,
     "title": ""
    }
   },
   "outputs": [
    {
     "output_type": "display_data",
     "data": {
      "text/plain": [
       "Enter the weight in KG: 54"
      ]
     },
     "metadata": {},
     "output_type": "display_data"
    },
    {
     "output_type": "display_data",
     "data": {
      "text/plain": [
       "Enter the height in Meter 1.6"
      ]
     },
     "metadata": {},
     "output_type": "display_data"
    },
    {
     "output_type": "stream",
     "name": "stdout",
     "output_type": "stream",
     "text": [
      "21.093749999999996\n"
     ]
    }
   ],
   "source": [
    "weight = float(input(\"Enter the weight in KG:\"))\n",
    "height = float(input(\"Enter the height in Meter\"))\n",
    "\n",
    "BMI = weight / (height**2)\n",
    "\n",
    "print(BMI)"
   ]
  },
  {
   "cell_type": "markdown",
   "metadata": {
    "application/vnd.databricks.v1+cell": {
     "cellMetadata": {
      "byteLimit": 2048000,
      "rowLimit": 10000
     },
     "inputWidgets": {},
     "nuid": "e0788a42-b586-41c3-a766-2047e6005355",
     "showTitle": false,
     "title": ""
    }
   },
   "source": [
    "#####2- write a program which takes the name of the user as input and replace all the occurence of character 'a' in the name to 'b' and print it."
   ]
  },
  {
   "cell_type": "code",
   "execution_count": 0,
   "metadata": {
    "application/vnd.databricks.v1+cell": {
     "cellMetadata": {
      "byteLimit": 2048000,
      "rowLimit": 10000
     },
     "inputWidgets": {},
     "nuid": "f9e8cc7d-c8b3-4c65-86cd-8f2ec96608fd",
     "showTitle": false,
     "title": ""
    }
   },
   "outputs": [
    {
     "output_type": "display_data",
     "data": {
      "text/plain": [
       "Please Enter your name:  Ana de armas"
      ]
     },
     "metadata": {},
     "output_type": "display_data"
    },
    {
     "output_type": "stream",
     "name": "stdout",
     "output_type": "stream",
     "text": [
      "Anb de brmbs\n"
     ]
    }
   ],
   "source": [
    "name = input(\"Please Enter your name: \")\n",
    "\n",
    "replace_name = name.replace(\"a\", \"b\")\n",
    "print(replace_name)"
   ]
  },
  {
   "cell_type": "markdown",
   "metadata": {
    "application/vnd.databricks.v1+cell": {
     "cellMetadata": {
      "byteLimit": 2048000,
      "rowLimit": 10000
     },
     "inputWidgets": {},
     "nuid": "9a92a0db-0106-4c43-b0f5-59e98811d03c",
     "showTitle": false,
     "title": ""
    }
   },
   "source": [
    "#####3- write a program which takes 2 inputs from user as principle amount (int) and rate of annual interest (float) and print the expected total amount  after  2 years.\n",
    "- Example : principle : 100 , interest percent 10  \n",
    "then amount after 2 years will be : 100 * 1.1 * 1.1 = 121"
   ]
  },
  {
   "cell_type": "code",
   "execution_count": 0,
   "metadata": {
    "application/vnd.databricks.v1+cell": {
     "cellMetadata": {
      "byteLimit": 2048000,
      "rowLimit": 10000
     },
     "inputWidgets": {},
     "nuid": "f578addc-49d6-4ba5-a8ae-10cca04fc150",
     "showTitle": false,
     "title": ""
    }
   },
   "outputs": [
    {
     "output_type": "display_data",
     "data": {
      "text/plain": [
       "Enter the principle amount: 100"
      ]
     },
     "metadata": {},
     "output_type": "display_data"
    },
    {
     "output_type": "display_data",
     "data": {
      "text/plain": [
       "Enter the rate of annual interest: 10"
      ]
     },
     "metadata": {},
     "output_type": "display_data"
    },
    {
     "output_type": "stream",
     "name": "stdout",
     "output_type": "stream",
     "text": [
      "Expected total amount after 2 years: 121.00000000000001\n"
     ]
    }
   ],
   "source": [
    "principal = int(input(\"Enter the principle amount:\"))\n",
    "interest_rate = float(input(\"Enter the rate of annual interest:\"))\n",
    "\n",
    "total_amount = principal * (1 + (interest_rate / 100)) ** 2\n",
    "\n",
    "print(\"Expected total amount after 2 years:\", total_amount)"
   ]
  },
  {
   "cell_type": "markdown",
   "metadata": {
    "application/vnd.databricks.v1+cell": {
     "cellMetadata": {
      "byteLimit": 2048000,
      "rowLimit": 10000
     },
     "inputWidgets": {},
     "nuid": "7aa5fd4f-cb4c-4f64-b154-7d2c80db0f7f",
     "showTitle": false,
     "title": ""
    }
   },
   "source": [
    "#####4- write a program which takes city name from user input. irrespective of in which case user enters the city name, print the city name in camel case meaning first letter should be capital and rest in small.\n",
    "\n",
    "- example : input : MYSORE ,  print - > Mysore "
   ]
  },
  {
   "cell_type": "code",
   "execution_count": 0,
   "metadata": {
    "application/vnd.databricks.v1+cell": {
     "cellMetadata": {
      "byteLimit": 2048000,
      "rowLimit": 10000
     },
     "inputWidgets": {},
     "nuid": "22a345b7-aa4a-4a7c-8b6c-a517e5e60585",
     "showTitle": false,
     "title": ""
    }
   },
   "outputs": [
    {
     "output_type": "display_data",
     "data": {
      "text/plain": [
       "Enter the city name:  PUNE"
      ]
     },
     "metadata": {},
     "output_type": "display_data"
    },
    {
     "output_type": "stream",
     "name": "stdout",
     "output_type": "stream",
     "text": [
      "Pune\n"
     ]
    }
   ],
   "source": [
    "city = input(\"Enter the city name: \")\n",
    "camel_case = city.capitalize()\n",
    "print(camel_case)"
   ]
  },
  {
   "cell_type": "markdown",
   "metadata": {
    "application/vnd.databricks.v1+cell": {
     "cellMetadata": {},
     "inputWidgets": {},
     "nuid": "fefea9ea-ce65-4358-a641-d51128126830",
     "showTitle": false,
     "title": ""
    }
   },
   "source": [
    "#####5- write a program which takes the name of the user as input and print the index of character 'a' in the string. if 'a' is not there then return -1."
   ]
  },
  {
   "cell_type": "code",
   "execution_count": 0,
   "metadata": {
    "application/vnd.databricks.v1+cell": {
     "cellMetadata": {
      "byteLimit": 2048000,
      "rowLimit": 10000
     },
     "inputWidgets": {},
     "nuid": "2f751dd8-16ee-4047-a6a8-17b5e0ec1f52",
     "showTitle": false,
     "title": ""
    }
   },
   "outputs": [
    {
     "output_type": "display_data",
     "data": {
      "text/plain": [
       "Enter the name please: Chetan Chutiya"
      ]
     },
     "metadata": {},
     "output_type": "display_data"
    },
    {
     "output_type": "stream",
     "name": "stdout",
     "output_type": "stream",
     "text": [
      "4\n"
     ]
    }
   ],
   "source": [
    "name = input(\"Enter the name please:\")\n",
    "index = name.find('a')\n",
    "print(index)"
   ]
  },
  {
   "cell_type": "markdown",
   "metadata": {
    "application/vnd.databricks.v1+cell": {
     "cellMetadata": {},
     "inputWidgets": {},
     "nuid": "7e91beb5-f7c4-4156-8cc4-76a82a0456e0",
     "showTitle": false,
     "title": ""
    }
   },
   "source": [
    "#####6-  Display the number of letters in the below string\n",
    "- my_word = \"antidisestablishmentarianism\""
   ]
  },
  {
   "cell_type": "code",
   "execution_count": 0,
   "metadata": {
    "application/vnd.databricks.v1+cell": {
     "cellMetadata": {
      "byteLimit": 2048000,
      "rowLimit": 10000
     },
     "inputWidgets": {},
     "nuid": "87c43e43-d5ee-45f3-bd12-332753085e2b",
     "showTitle": false,
     "title": ""
    }
   },
   "outputs": [
    {
     "output_type": "stream",
     "name": "stdout",
     "output_type": "stream",
     "text": [
      "The length of antidisestablishmentarianism is 28\n"
     ]
    }
   ],
   "source": [
    "my_word = \"antidisestablishmentarianism\"\n",
    "print(f\"The length of {my_word} is {len(my_word)}\")"
   ]
  },
  {
   "cell_type": "markdown",
   "metadata": {
    "application/vnd.databricks.v1+cell": {
     "cellMetadata": {
      "byteLimit": 2048000,
      "rowLimit": 10000
     },
     "inputWidgets": {},
     "nuid": "ff005c06-25d7-47be-ad93-5d4365810294",
     "showTitle": false,
     "title": ""
    }
   },
   "source": [
    "######7- take 3 inputs from user : first name , last name and age . Display the information in below format\n",
    "- exmaple: \n",
    "- first name : MOhit\n",
    "- last name : sharma \n",
    "- age: 32\n",
    "\n",
    "Display : my name is Mohit Sharma and I am 32 years old.\n",
    "\n",
    "note that first letter of first name and last name both should be in capital letters and rest in small."
   ]
  },
  {
   "cell_type": "code",
   "execution_count": 0,
   "metadata": {
    "application/vnd.databricks.v1+cell": {
     "cellMetadata": {
      "byteLimit": 2048000,
      "rowLimit": 10000
     },
     "inputWidgets": {},
     "nuid": "bd7f9b9b-d8dc-4328-bc7d-3b4bc365298d",
     "showTitle": false,
     "title": ""
    }
   },
   "outputs": [
    {
     "output_type": "display_data",
     "data": {
      "text/plain": [
       "Enter the first name: mohit"
      ]
     },
     "metadata": {},
     "output_type": "display_data"
    },
    {
     "output_type": "display_data",
     "data": {
      "text/plain": [
       "Enter the last name: sharma"
      ]
     },
     "metadata": {},
     "output_type": "display_data"
    },
    {
     "output_type": "display_data",
     "data": {
      "text/plain": [
       "Enter the age: 32"
      ]
     },
     "metadata": {},
     "output_type": "display_data"
    },
    {
     "output_type": "stream",
     "name": "stdout",
     "output_type": "stream",
     "text": [
      "my name is Mohit Sharma and I am 32 years old.\n"
     ]
    }
   ],
   "source": [
    "first_name= input(\"Enter the first name:\")\n",
    "last_name = input(\"Enter the last name:\")\n",
    "age = int(input(\"Enter the age:\"))\n",
    "\n",
    "print(f\"my name is {first_name.capitalize()} {last_name.capitalize()} and I am {age} years old.\")"
   ]
  },
  {
   "cell_type": "markdown",
   "metadata": {
    "application/vnd.databricks.v1+cell": {
     "cellMetadata": {
      "byteLimit": 2048000,
      "rowLimit": 10000
     },
     "inputWidgets": {},
     "nuid": "085b634f-13e5-4c3b-8e9b-a3a64e4e9145",
     "showTitle": false,
     "title": ""
    }
   },
   "source": [
    "#####8- Take 3 inputs from user : first name , last name and company name. create the email alias for the user and display it.  Email alias is first 2 letters of first name , last 3 letters of last name and @company.com\n",
    "Example:\n",
    "- first name : MOhit\n",
    "- last name : sharma \n",
    "- company : infosys\n",
    "\n",
    "Display : morma@infosys.com \n",
    "\n",
    "note full email id should -be in lower case"
   ]
  },
  {
   "cell_type": "code",
   "execution_count": 0,
   "metadata": {
    "application/vnd.databricks.v1+cell": {
     "cellMetadata": {
      "byteLimit": 2048000,
      "rowLimit": 10000
     },
     "inputWidgets": {},
     "nuid": "dca650f7-6e25-4204-9c20-83393771e1cb",
     "showTitle": false,
     "title": ""
    }
   },
   "outputs": [
    {
     "output_type": "display_data",
     "data": {
      "text/plain": [
       "Enter the first name: Mohit"
      ]
     },
     "metadata": {},
     "output_type": "display_data"
    },
    {
     "output_type": "display_data",
     "data": {
      "text/plain": [
       "Enter the last name: Sharma"
      ]
     },
     "metadata": {},
     "output_type": "display_data"
    },
    {
     "output_type": "display_data",
     "data": {
      "text/plain": [
       "Enter company name: Infosys"
      ]
     },
     "metadata": {},
     "output_type": "display_data"
    },
    {
     "output_type": "stream",
     "name": "stdout",
     "output_type": "stream",
     "text": [
      "morma@infosys.com\n"
     ]
    }
   ],
   "source": [
    "first_name= input(\"Enter the first name:\")\n",
    "last_name = input(\"Enter the last name:\")\n",
    "company = input(\"Enter company name:\")\n",
    "\n",
    "email = first_name[:2] + last_name[-3:]  + \"@\" + company + \".com\"\n",
    "\n",
    "print(email.lower())"
   ]
  }
 ],
 "metadata": {
  "application/vnd.databricks.v1+notebook": {
   "dashboards": [],
   "environmentMetadata": null,
   "language": "python",
   "notebookMetadata": {
    "pythonIndentUnit": 4
   },
   "notebookName": "Day_1",
   "widgets": {}
  }
 },
 "nbformat": 4,
 "nbformat_minor": 0
}
