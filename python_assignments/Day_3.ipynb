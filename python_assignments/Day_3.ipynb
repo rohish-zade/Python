{
 "cells": [
  {
   "cell_type": "markdown",
   "metadata": {
    "application/vnd.databricks.v1+cell": {
     "cellMetadata": {},
     "inputWidgets": {},
     "nuid": "3774cd60-19fa-4127-904b-4dc3c8a9bade",
     "showTitle": false,
     "title": ""
    }
   },
   "source": [
    "#####1 - given a list of numbers, write a program to find the mean of the numbers in list\n"
   ]
  },
  {
   "cell_type": "code",
   "execution_count": 0,
   "metadata": {
    "application/vnd.databricks.v1+cell": {
     "cellMetadata": {
      "byteLimit": 2048000,
      "rowLimit": 10000
     },
     "inputWidgets": {},
     "nuid": "2520ebe1-4641-47f0-9129-d84d9020c508",
     "showTitle": false,
     "title": ""
    }
   },
   "outputs": [
    {
     "output_type": "stream",
     "name": "stdout",
     "output_type": "stream",
     "text": [
      "Mean of the nums is: 51.5\n"
     ]
    }
   ],
   "source": [
    "nums = [23, 56, 78, 12, 45, 89, 34, 67, 90, 21]\n",
    "\n",
    "mean = sum(nums)/len(nums)\n",
    "\n",
    "print(\"Mean of the nums is:\", mean)"
   ]
  },
  {
   "cell_type": "markdown",
   "metadata": {
    "application/vnd.databricks.v1+cell": {
     "cellMetadata": {},
     "inputWidgets": {},
     "nuid": "9670156f-27a6-49a5-b17a-4246acb0f719",
     "showTitle": false,
     "title": ""
    }
   },
   "source": [
    "#####2 - given a list of numbers unsorted, write a program to find the median of the numbers in list"
   ]
  },
  {
   "cell_type": "code",
   "execution_count": 0,
   "metadata": {
    "application/vnd.databricks.v1+cell": {
     "cellMetadata": {
      "byteLimit": 2048000,
      "rowLimit": 10000
     },
     "inputWidgets": {},
     "nuid": "bb42fe78-bdcc-47e7-bd38-636d613ce4c5",
     "showTitle": false,
     "title": ""
    }
   },
   "outputs": [
    {
     "output_type": "stream",
     "name": "stdout",
     "output_type": "stream",
     "text": [
      "515\n"
     ]
    }
   ],
   "source": [
    "nums = [23, 56, 78, 12, 45, 89, 34, 67, 90, 21]\n",
    "result = sum(nums)\n",
    "print(result)"
   ]
  },
  {
   "cell_type": "code",
   "execution_count": 0,
   "metadata": {
    "application/vnd.databricks.v1+cell": {
     "cellMetadata": {
      "byteLimit": 2048000,
      "rowLimit": 10000
     },
     "inputWidgets": {},
     "nuid": "23908331-c980-4b64-8a6c-be3b9500427b",
     "showTitle": false,
     "title": ""
    }
   },
   "outputs": [
    {
     "output_type": "stream",
     "name": "stdout",
     "output_type": "stream",
     "text": [
      "4\n"
     ]
    }
   ],
   "source": [
    "print((10//2)-1)"
   ]
  },
  {
   "cell_type": "code",
   "execution_count": 0,
   "metadata": {
    "application/vnd.databricks.v1+cell": {
     "cellMetadata": {
      "byteLimit": 2048000,
      "rowLimit": 10000
     },
     "inputWidgets": {},
     "nuid": "b437fb62-914f-4774-b48d-ac917319255d",
     "showTitle": false,
     "title": ""
    }
   },
   "outputs": [
    {
     "output_type": "stream",
     "name": "stdout",
     "output_type": "stream",
     "text": [
      "Median of a given list is:  50.5\n"
     ]
    }
   ],
   "source": [
    "nums = [23, 56, 78, 12, 45, 89, 34, 67, 90, 21]\n",
    "# nums = [1, 1, 3, 4, 5]\n",
    "\n",
    "median = 0\n",
    "length = len(nums)\n",
    "nums.sort()\n",
    "# print(nums)\n",
    "# print(length)\n",
    "if (length % 2 != 0):\n",
    "    median = nums[length//2]\n",
    "else:\n",
    "    nums_sum = nums[(length//2)] + nums[(length//2) - 1]\n",
    "    median = nums_sum/2.0\n",
    "\n",
    "print(\"Median of a given list is: \", median)\n"
   ]
  },
  {
   "cell_type": "markdown",
   "metadata": {
    "application/vnd.databricks.v1+cell": {
     "cellMetadata": {},
     "inputWidgets": {},
     "nuid": "dc19d2eb-d1a6-4d91-83cd-ac39e05678fe",
     "showTitle": false,
     "title": ""
    }
   },
   "source": [
    "#####3 - from a list of numbers create 2 list , one containing only the even numbers and other only the odd numbers"
   ]
  },
  {
   "cell_type": "code",
   "execution_count": 0,
   "metadata": {
    "application/vnd.databricks.v1+cell": {
     "cellMetadata": {
      "byteLimit": 2048000,
      "rowLimit": 10000
     },
     "inputWidgets": {},
     "nuid": "e0715b7a-60ea-4e02-8145-04ddf1cc6dbd",
     "showTitle": false,
     "title": ""
    }
   },
   "outputs": [
    {
     "output_type": "stream",
     "name": "stdout",
     "output_type": "stream",
     "text": [
      "Even list: [56, 78, 12, 34, 90]\nOdd list: [23, 45, 89, 67, 21, 23]\n"
     ]
    }
   ],
   "source": [
    "nums = [23, 56, 78, 12, 45, 89, 34, 67, 90, 21, 23]\n",
    "even_list = []\n",
    "odd_list = []\n",
    "\n",
    "for num in nums:\n",
    "    if num % 2 == 0:\n",
    "        even_list.append(num)\n",
    "    else:\n",
    "        odd_list.append(num)\n",
    "\n",
    "print(\"Even list:\", even_list)\n",
    "print(\"Odd list:\", odd_list)"
   ]
  },
  {
   "cell_type": "markdown",
   "metadata": {
    "application/vnd.databricks.v1+cell": {
     "cellMetadata": {},
     "inputWidgets": {},
     "nuid": "b0b455b0-6c5c-4602-aed6-83e3ca523508",
     "showTitle": false,
     "title": ""
    }
   },
   "source": [
    "#####4 - create a dictionary to store following attributes of CSK \n",
    "key \"CSK\" ; attributes : team full name , captain , playing 11 for each match(name of players), oppenont name (assume there are 3 matches only against MI, RCB , GT ) and result won/loss"
   ]
  },
  {
   "cell_type": "code",
   "execution_count": 0,
   "metadata": {
    "application/vnd.databricks.v1+cell": {
     "cellMetadata": {
      "byteLimit": 2048000,
      "rowLimit": 10000
     },
     "inputWidgets": {},
     "nuid": "0fad85e6-a7bc-4dc1-863c-ad8e4200b4c1",
     "showTitle": false,
     "title": ""
    }
   },
   "outputs": [
    {
     "output_type": "stream",
     "name": "stdout",
     "output_type": "stream",
     "text": [
      "{'team_name': 'Chennai Super Kings', 'captain': 'MS Dhoni', 'playing_11': [['Player 1', 'Player 2', 'Player 3', 'Player 4', 'Player 5', 'Player 6', 'Player 7', 'Player 8', 'Player 9', 'Player 10', 'Player 11'], ['Player 1', 'Player 2', 'Player 3', 'Player 4', 'Player 5', 'Player 6', 'Player 7', 'Player 8', 'Player 9', 'Player 10', 'Player 11'], ['Player 1', 'Player 2', 'Player 3', 'Player 4', 'Player 5', 'Player 6', 'Player 7', 'Player 8', 'Player 9', 'Player 10', 'Player 11']], 'opponents': ['MI', 'RCB', 'GT'], 'results': ['Won', 'Loss', 'Won']}\n"
     ]
    }
   ],
   "source": [
    "csk = {\n",
    "    \"team_name\": \"Chennai Super Kings\",\n",
    "    \"captain\": \"MS Dhoni\",\n",
    "    \"playing_11\": [\n",
    "        [\"Player 1\", \"Player 2\", \"Player 3\", \"Player 4\", \"Player 5\", \"Player 6\", \"Player 7\", \"Player 8\", \"Player 9\", \"Player 10\", \"Player 11\"],  # Match 1\n",
    "        [\"Player 1\", \"Player 2\", \"Player 3\", \"Player 4\", \"Player 5\", \"Player 6\", \"Player 7\", \"Player 8\", \"Player 9\", \"Player 10\", \"Player 11\"],  # Match 2\n",
    "        [\"Player 1\", \"Player 2\", \"Player 3\", \"Player 4\", \"Player 5\", \"Player 6\", \"Player 7\", \"Player 8\", \"Player 9\", \"Player 10\", \"Player 11\"],  # Match 3\n",
    "    ],\n",
    "    \"opponents\": [\"MI\", \"RCB\", \"GT\"],\n",
    "    \"results\": [\"Won\", \"Loss\", \"Won\"]\n",
    "}\n",
    "\n",
    "print(csk)"
   ]
  },
  {
   "cell_type": "markdown",
   "metadata": {
    "application/vnd.databricks.v1+cell": {
     "cellMetadata": {},
     "inputWidgets": {},
     "nuid": "18218115-d892-48b9-8331-701ed3384634",
     "showTitle": false,
     "title": ""
    }
   },
   "source": [
    "#####5 - in the previous dictonary add one more item for RCB. you can choose any 3 opponents."
   ]
  },
  {
   "cell_type": "code",
   "execution_count": 0,
   "metadata": {
    "application/vnd.databricks.v1+cell": {
     "cellMetadata": {
      "byteLimit": 2048000,
      "rowLimit": 10000
     },
     "inputWidgets": {},
     "nuid": "62222079-ba61-4693-8b8f-153b97146d67",
     "showTitle": false,
     "title": ""
    }
   },
   "outputs": [
    {
     "output_type": "stream",
     "name": "stdout",
     "output_type": "stream",
     "text": [
      "{'CSK': {'team_name': 'Chennai Super Kings', 'captain': 'MS Dhoni', 'playing_11': [['Player 1', 'Player 2', 'Player 3', 'Player 4', 'Player 5', 'Player 6', 'Player 7', 'Player 8', 'Player 9', 'Player 10', 'Player 11'], ['Player 1', 'Player 2', 'Player 3', 'Player 4', 'Player 5', 'Player 6', 'Player 7', 'Player 8', 'Player 9', 'Player 10', 'Player 11'], ['Player 1', 'Player 2', 'Player 3', 'Player 4', 'Player 5', 'Player 6', 'Player 7', 'Player 8', 'Player 9', 'Player 10', 'Player 11']], 'opponents': ['MI', 'RCB', 'GT'], 'results': ['Won', 'Loss', 'Won']}, 'RCB': {'team_name': 'Royal Challengers Bangalore', 'captain': 'Virat Kohli', 'playing_11': [['Player 1', 'Player 2', 'Player 3', 'Player 4', 'Player 5', 'Player 6', 'Player 7', 'Player 8', 'Player 9', 'Player 10', 'Player 11'], ['Player 1', 'Player 2', 'Player 3', 'Player 4', 'Player 5', 'Player 6', 'Player 7', 'Player 8', 'Player 9', 'Player 10', 'Player 11'], ['Player 1', 'Player 2', 'Player 3', 'Player 4', 'Player 5', 'Player 6', 'Player 7', 'Player 8', 'Player 9', 'Player 10', 'Player 11']], 'opponents': ['MI', 'CSK', 'GT'], 'results': ['Loss', 'Loss', 'Loss']}}\n"
     ]
    }
   ],
   "source": [
    "IPL = {\"CSK\":{\n",
    "    \"team_name\": \"Chennai Super Kings\",\n",
    "    \"captain\": \"MS Dhoni\",\n",
    "    \"playing_11\": [\n",
    "        [\"Player 1\", \"Player 2\", \"Player 3\", \"Player 4\", \"Player 5\", \"Player 6\", \"Player 7\", \"Player 8\", \"Player 9\", \"Player 10\", \"Player 11\"],  # Match 1\n",
    "        [\"Player 1\", \"Player 2\", \"Player 3\", \"Player 4\", \"Player 5\", \"Player 6\", \"Player 7\", \"Player 8\", \"Player 9\", \"Player 10\", \"Player 11\"],  # Match 2\n",
    "        [\"Player 1\", \"Player 2\", \"Player 3\", \"Player 4\", \"Player 5\", \"Player 6\", \"Player 7\", \"Player 8\", \"Player 9\", \"Player 10\", \"Player 11\"],  # Match 3\n",
    "    ],\n",
    "    \"opponents\": [\"MI\", \"RCB\", \"GT\"],\n",
    "    \"results\": [\"Won\", \"Loss\", \"Won\"]\n",
    "},\n",
    "\"RCB\":{\n",
    "    \"team_name\": \"Royal Challengers Bangalore\",\n",
    "    \"captain\": \"Virat Kohli\",\n",
    "    \"playing_11\": [\n",
    "        [\"Player 1\", \"Player 2\", \"Player 3\", \"Player 4\", \"Player 5\", \"Player 6\", \"Player 7\", \"Player 8\", \"Player 9\", \"Player 10\", \"Player 11\"],  # Match 1\n",
    "        [\"Player 1\", \"Player 2\", \"Player 3\", \"Player 4\", \"Player 5\", \"Player 6\", \"Player 7\", \"Player 8\", \"Player 9\", \"Player 10\", \"Player 11\"],  # Match 2\n",
    "        [\"Player 1\", \"Player 2\", \"Player 3\", \"Player 4\", \"Player 5\", \"Player 6\", \"Player 7\", \"Player 8\", \"Player 9\", \"Player 10\", \"Player 11\"],  # Match 3\n",
    "    ],\n",
    "    \"opponents\": [\"MI\", \"CSK\", \"GT\"],\n",
    "    \"results\": [\"Loss\", \"Loss\", \"Loss\"]\n",
    "}\n",
    "\n",
    "}\n",
    "\n",
    "print(IPL)"
   ]
  },
  {
   "cell_type": "markdown",
   "metadata": {
    "application/vnd.databricks.v1+cell": {
     "cellMetadata": {},
     "inputWidgets": {},
     "nuid": "66282afe-469f-482d-a69d-1bbaf8c69d4b",
     "showTitle": false,
     "title": ""
    }
   },
   "source": [
    "#####6 - write a program to take a positive number as input from user. if the user enters negative number then keep promting him to enter positive number until he enters the positive number and then print the same"
   ]
  },
  {
   "cell_type": "code",
   "execution_count": 0,
   "metadata": {
    "application/vnd.databricks.v1+cell": {
     "cellMetadata": {
      "byteLimit": 2048000,
      "rowLimit": 10000
     },
     "inputWidgets": {},
     "nuid": "4486b3ce-34c0-49f6-99ae-c788d1801ede",
     "showTitle": false,
     "title": ""
    }
   },
   "outputs": [
    {
     "output_type": "display_data",
     "data": {
      "text/plain": [
       "Enter a positive number: 0"
      ]
     },
     "metadata": {},
     "output_type": "display_data"
    },
    {
     "output_type": "stream",
     "name": "stdout",
     "output_type": "stream",
     "text": [
      "Invalid input. Please enter a positive number.\n"
     ]
    },
    {
     "output_type": "display_data",
     "data": {
      "text/plain": [
       "Enter a positive number: -2323"
      ]
     },
     "metadata": {},
     "output_type": "display_data"
    },
    {
     "output_type": "stream",
     "name": "stdout",
     "output_type": "stream",
     "text": [
      "Invalid input. Please enter a positive number.\n"
     ]
    },
    {
     "output_type": "display_data",
     "data": {
      "text/plain": [
       "Enter a positive number: -5"
      ]
     },
     "metadata": {},
     "output_type": "display_data"
    },
    {
     "output_type": "stream",
     "name": "stdout",
     "output_type": "stream",
     "text": [
      "Invalid input. Please enter a positive number.\n"
     ]
    },
    {
     "output_type": "display_data",
     "data": {
      "text/plain": [
       "Enter a positive number: -343"
      ]
     },
     "metadata": {},
     "output_type": "display_data"
    },
    {
     "output_type": "stream",
     "name": "stdout",
     "output_type": "stream",
     "text": [
      "Invalid input. Please enter a positive number.\n"
     ]
    },
    {
     "output_type": "display_data",
     "data": {
      "text/plain": [
       "Enter a positive number: 69"
      ]
     },
     "metadata": {},
     "output_type": "display_data"
    },
    {
     "output_type": "stream",
     "name": "stdout",
     "output_type": "stream",
     "text": [
      "69\n"
     ]
    }
   ],
   "source": [
    "user_input = int(input(\"Enter a positive number:\"))\n",
    "\n",
    "while user_input <= 0:\n",
    "    print(\"Invalid input. Please enter a positive number.\")\n",
    "    user_input = int(input(\"Enter a positive number:\"))\n",
    " \n",
    "print(user_input)"
   ]
  },
  {
   "cell_type": "markdown",
   "metadata": {
    "application/vnd.databricks.v1+cell": {
     "cellMetadata": {},
     "inputWidgets": {},
     "nuid": "bc4018c6-d0a8-4f10-bcdb-37a6b1335c8e",
     "showTitle": false,
     "title": ""
    }
   },
   "source": [
    "#####7 - consider the below list of list conatins following information :\n",
    "\n",
    "1. The name of a university \n",
    "2. The total number of enrolled students\n",
    "3. The annual tuition fees\n",
    "\n",
    "**universities** = [\n",
    " ['California Institute of Technology', 2175, 37704],\n",
    " ['Harvard', 19627, 39849],\n",
    " ['Massachusetts Institute of Technology', 10566, 40732],\n",
    " ['Princeton', 7802, 37000],\n",
    " ['Rice', 5879, 35551],\n",
    " ['Stanford', 19535, 40569],\n",
    " ['Yale', 11701, 40500]\n",
    " ]\n",
    "\n",
    "**write a program to print follwoing information :**\n",
    "1. a list of all the universitites  : ['California Institute of Technology','Harvard',..so on]\n",
    "2. total number of student entrolled in all the unversities together \n",
    "3. mean of tuition fees"
   ]
  },
  {
   "cell_type": "code",
   "execution_count": 0,
   "metadata": {
    "application/vnd.databricks.v1+cell": {
     "cellMetadata": {
      "byteLimit": 2048000,
      "rowLimit": 10000
     },
     "inputWidgets": {},
     "nuid": "e2a263af-f63f-4331-bc10-51ff54389017",
     "showTitle": false,
     "title": ""
    }
   },
   "outputs": [
    {
     "output_type": "stream",
     "name": "stdout",
     "output_type": "stream",
     "text": [
      "List of Universitites:\nCalifornia Institute of Technology\nHarvard\nMassachusetts Institute of Technology\nPrinceton\nRice\nStanford\nYale\n\nTotal Sudent entrolled: 77285\n\nAverage Tuition fees: 38843.57142857143\n"
     ]
    }
   ],
   "source": [
    "universities = [ \n",
    "                ['California Institute of Technology', 2175, 37704], \n",
    "                ['Harvard', 19627, 39849], \n",
    "                ['Massachusetts Institute of Technology', 10566, 40732], \n",
    "                ['Princeton', 7802, 37000], \n",
    "                ['Rice', 5879, 35551], \n",
    "                ['Stanford', 19535, 40569], \n",
    "                ['Yale', 11701, 40500]\n",
    "]\n",
    "\n",
    "# 1 a list of all the universitites : ['California Institute of Technology','Harvard',..so on]\n",
    "print(\"List of Universitites:\")\n",
    "for i in universities:\n",
    "    print(i[0])\n",
    "\n",
    "# total number of student entrolled in all the unversities together and  mean of tuition fees\n",
    "enrolled = []\n",
    "tuition_fees = []\n",
    "for i in universities:\n",
    "    enrolled.append(i[1])\n",
    "    tuition_fees.append(i[2])\n",
    "print(\"\\nTotal Sudent entrolled:\", sum(enrolled))\n",
    "\n",
    "# mean of tuition fees\n",
    "print(\"\\nAverage Tuition fees:\", sum(tuition_fees)/len(tuition_fees))"
   ]
  },
  {
   "cell_type": "markdown",
   "metadata": {
    "application/vnd.databricks.v1+cell": {
     "cellMetadata": {},
     "inputWidgets": {},
     "nuid": "0b00aecd-082b-4ff8-a824-bcafa673877b",
     "showTitle": false,
     "title": ""
    }
   },
   "source": [
    "#####8 - write a program to convert above universities list to a dictionary. the keys should be the name of the university"
   ]
  },
  {
   "cell_type": "code",
   "execution_count": 0,
   "metadata": {
    "application/vnd.databricks.v1+cell": {
     "cellMetadata": {
      "byteLimit": 2048000,
      "rowLimit": 10000
     },
     "inputWidgets": {},
     "nuid": "e5f3ae4c-0719-433d-ba70-19131dc31ec0",
     "showTitle": false,
     "title": ""
    }
   },
   "outputs": [
    {
     "output_type": "stream",
     "name": "stdout",
     "output_type": "stream",
     "text": [
      "{'California Institute of Technology': {'total_students': 2175, 'tuition_fees': 37704}, 'Harvard': {'total_students': 19627, 'tuition_fees': 39849}, 'Massachusetts Institute of Technology': {'total_students': 10566, 'tuition_fees': 40732}, 'Princeton': {'total_students': 7802, 'tuition_fees': 37000}, 'Rice': {'total_students': 5879, 'tuition_fees': 35551}, 'Stanford': {'total_students': 19535, 'tuition_fees': 40569}, 'Yale': {'total_students': 11701, 'tuition_fees': 40500}}\n"
     ]
    }
   ],
   "source": [
    "my_universities = {}\n",
    "for university in universities:\n",
    "    name = university[0]\n",
    "    attributes = {\n",
    "        'total_students': university[1],\n",
    "        'tuition_fees': university[2]\n",
    "    }\n",
    "    my_universities[name] = attributes\n",
    "print(my_universities)"
   ]
  },
  {
   "cell_type": "markdown",
   "metadata": {
    "application/vnd.databricks.v1+cell": {
     "cellMetadata": {},
     "inputWidgets": {},
     "nuid": "e4013db1-502f-410b-a590-44aada79b4ae",
     "showTitle": false,
     "title": ""
    }
   },
   "source": [
    "#####9 -  write a program that reverses a given string. For example, if the input is \"Hello\" from user, the output should be \"olleH\""
   ]
  },
  {
   "cell_type": "code",
   "execution_count": 0,
   "metadata": {
    "application/vnd.databricks.v1+cell": {
     "cellMetadata": {
      "byteLimit": 2048000,
      "rowLimit": 10000
     },
     "inputWidgets": {},
     "nuid": "bb801924-0fe6-4c26-8341-0f1f7a611312",
     "showTitle": false,
     "title": ""
    }
   },
   "outputs": [
    {
     "output_type": "display_data",
     "data": {
      "text/plain": [
       "Enter a string: Hello"
      ]
     },
     "metadata": {},
     "output_type": "display_data"
    },
    {
     "output_type": "stream",
     "name": "stdout",
     "output_type": "stream",
     "text": [
      "olleH\n"
     ]
    }
   ],
   "source": [
    "user_input = input(\"Enter a string:\")\n",
    "\n",
    "print(user_input[::-1])"
   ]
  },
  {
   "cell_type": "markdown",
   "metadata": {
    "application/vnd.databricks.v1+cell": {
     "cellMetadata": {},
     "inputWidgets": {},
     "nuid": "53314ede-3caa-415d-8093-c935f1c0c89f",
     "showTitle": false,
     "title": ""
    }
   },
   "source": [
    "#####10 - write a program that finds the largest number in a list(unsorted) of integers without using sort/sorted method."
   ]
  },
  {
   "cell_type": "code",
   "execution_count": 0,
   "metadata": {
    "application/vnd.databricks.v1+cell": {
     "cellMetadata": {
      "byteLimit": 2048000,
      "rowLimit": 10000
     },
     "inputWidgets": {},
     "nuid": "151ed197-50c0-4042-b67a-0d664d8254d9",
     "showTitle": false,
     "title": ""
    }
   },
   "outputs": [
    {
     "output_type": "stream",
     "name": "stdout",
     "output_type": "stream",
     "text": [
      "90\n"
     ]
    }
   ],
   "source": [
    "nums = [23, 56, 78, 12, 45, 89, 34, 67, 90, 21, 23]\n",
    "\n",
    "max = 0\n",
    "for num in nums:\n",
    "    if num > max:\n",
    "        max = num\n",
    "print(max)\n"
   ]
  }
 ],
 "metadata": {
  "application/vnd.databricks.v1+notebook": {
   "dashboards": [],
   "environmentMetadata": null,
   "language": "python",
   "notebookMetadata": {
    "pythonIndentUnit": 4
   },
   "notebookName": "Day_3",
   "widgets": {}
  }
 },
 "nbformat": 4,
 "nbformat_minor": 0
}
