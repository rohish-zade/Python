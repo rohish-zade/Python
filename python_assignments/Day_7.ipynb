{
 "cells": [
  {
   "cell_type": "markdown",
   "id": "584c97d4-1a64-4cac-89b7-55f8ba578bed",
   "metadata": {},
   "source": [
    "### NumPy Assignment"
   ]
  },
  {
   "cell_type": "markdown",
   "id": "e0d86331-02ec-49e2-a459-dd2c157c3620",
   "metadata": {},
   "source": [
    "#### 1. Create a numpy array of shape (3, 4) and assign random integers between 1 and 10 to every element."
   ]
  },
  {
   "cell_type": "code",
   "execution_count": 1,
   "id": "9c80ea55-56ba-4680-9ebd-cd5828a52e93",
   "metadata": {},
   "outputs": [],
   "source": [
    "import numpy as np"
   ]
  },
  {
   "cell_type": "code",
   "execution_count": 36,
   "id": "48f0726b-9e55-4e08-91a5-992a718ec8b2",
   "metadata": {},
   "outputs": [
    {
     "data": {
      "text/plain": [
       "array([[ 2,  8,  6,  4],\n",
       "       [ 4,  3,  3,  1],\n",
       "       [10,  8,  5,  8]], dtype=int32)"
      ]
     },
     "execution_count": 36,
     "metadata": {},
     "output_type": "execute_result"
    }
   ],
   "source": [
    "array1 = np.random.randint(1,11, size=(3,4))\n",
    "array1"
   ]
  },
  {
   "cell_type": "markdown",
   "id": "c60e9530-6072-4f2d-9f7c-ee2742d934b1",
   "metadata": {},
   "source": [
    "##"
   ]
  },
  {
   "cell_type": "markdown",
   "id": "db614fd6-4d3f-4cca-8c0f-ad5001f7aae2",
   "metadata": {},
   "source": [
    "#### 2. Find the maximum value in the array created in step 1."
   ]
  },
  {
   "cell_type": "code",
   "execution_count": 37,
   "id": "ca503199-2a3e-49a0-9292-c438d5eae18a",
   "metadata": {},
   "outputs": [
    {
     "data": {
      "text/plain": [
       "np.int32(10)"
      ]
     },
     "execution_count": 37,
     "metadata": {},
     "output_type": "execute_result"
    }
   ],
   "source": [
    "max = np.max(array1)\n",
    "max"
   ]
  },
  {
   "cell_type": "markdown",
   "id": "bb516905-cfb6-41c8-8af7-5fa2a71359b6",
   "metadata": {},
   "source": [
    "#"
   ]
  },
  {
   "cell_type": "markdown",
   "id": "27cc9421-3229-44e8-b67e-02d5d799d81d",
   "metadata": {},
   "source": [
    "#### 3. Calculate the mean value of each row in the array."
   ]
  },
  {
   "cell_type": "code",
   "execution_count": 38,
   "id": "d4178f40-7562-4a64-bee9-da4ec630ed10",
   "metadata": {},
   "outputs": [
    {
     "data": {
      "text/plain": [
       "array([5.  , 2.75, 7.75])"
      ]
     },
     "execution_count": 38,
     "metadata": {},
     "output_type": "execute_result"
    }
   ],
   "source": [
    "array_mean = np.mean(array1, axis=1)\n",
    "array_mean"
   ]
  },
  {
   "cell_type": "markdown",
   "id": "c645394a-248b-4d5a-87d2-a5c899557101",
   "metadata": {},
   "source": [
    "#"
   ]
  },
  {
   "cell_type": "markdown",
   "id": "6a718d99-3cb8-40c4-a5b2-e32a73967eae",
   "metadata": {},
   "source": [
    "#### 4. Reshape the array from step 1 into a shape of (2, 6)."
   ]
  },
  {
   "cell_type": "code",
   "execution_count": 39,
   "id": "135569eb-68e7-4494-b5c6-dcf59244a310",
   "metadata": {},
   "outputs": [
    {
     "name": "stdout",
     "output_type": "stream",
     "text": [
      "[[ 2  8  6  4  4  3]\n",
      " [ 3  1 10  8  5  8]]\n"
     ]
    }
   ],
   "source": [
    "reshaped_arr = np.reshape(array1, (2, 6))\n",
    "print(reshaped_arr)"
   ]
  },
  {
   "cell_type": "markdown",
   "id": "840263e4-ee36-4f5a-b457-9289ce7b62ab",
   "metadata": {},
   "source": [
    "#"
   ]
  },
  {
   "cell_type": "markdown",
   "id": "35e04ed0-d1d9-444d-9ea5-9fcc11b21082",
   "metadata": {},
   "source": [
    "#### 4. Multiply each element in the array by 2."
   ]
  },
  {
   "cell_type": "code",
   "execution_count": 42,
   "id": "1e39793e-d568-41a6-8b82-aaffcdd2ce4c",
   "metadata": {},
   "outputs": [
    {
     "data": {
      "text/plain": [
       "array([[ 4, 16, 12,  8],\n",
       "       [ 8,  6,  6,  2],\n",
       "       [20, 16, 10, 16]], dtype=int32)"
      ]
     },
     "execution_count": 42,
     "metadata": {},
     "output_type": "execute_result"
    }
   ],
   "source": [
    "array1 * 2"
   ]
  },
  {
   "cell_type": "markdown",
   "id": "f3d205b9-9feb-49cc-9890-e93c17bf0cab",
   "metadata": {},
   "source": [
    "#"
   ]
  },
  {
   "cell_type": "markdown",
   "id": "0a328a85-1d24-4394-9ee6-4cfaa01cd5c2",
   "metadata": {},
   "source": [
    "#### 6. Create a numpy array with values ranging from 0 to 9. Extract the odd numbers from the array."
   ]
  },
  {
   "cell_type": "code",
   "execution_count": 43,
   "id": "65deacac-0f0c-4fa4-b3f0-4e648513d976",
   "metadata": {},
   "outputs": [
    {
     "data": {
      "text/plain": [
       "array([0, 1, 2, 3, 4, 5, 6, 7, 8, 9])"
      ]
     },
     "execution_count": 43,
     "metadata": {},
     "output_type": "execute_result"
    }
   ],
   "source": [
    "array2 = np.arange(10)\n",
    "array2"
   ]
  },
  {
   "cell_type": "code",
   "execution_count": 45,
   "id": "ecfc1aa7-e27a-49e6-8800-e792ddca5d9a",
   "metadata": {},
   "outputs": [
    {
     "data": {
      "text/plain": [
       "array([1, 3, 5, 7, 9])"
      ]
     },
     "execution_count": 45,
     "metadata": {},
     "output_type": "execute_result"
    }
   ],
   "source": [
    "odd_array = array2[array2 % 2 != 0]\n",
    "odd_array"
   ]
  },
  {
   "cell_type": "markdown",
   "id": "2aeb01ad-ff44-4aa3-97ed-899afe1e54f1",
   "metadata": {},
   "source": [
    "#"
   ]
  },
  {
   "cell_type": "markdown",
   "id": "d1e0a54b-8409-4639-b6ce-84aba6907381",
   "metadata": {},
   "source": [
    "#### 7. Create a 3x3 identity matrix using numpy."
   ]
  },
  {
   "cell_type": "code",
   "execution_count": 47,
   "id": "6a6165f2-d88c-4b3b-b265-715f00bcc97a",
   "metadata": {},
   "outputs": [
    {
     "data": {
      "text/plain": [
       "array([[1, 0, 0],\n",
       "       [0, 1, 0],\n",
       "       [0, 0, 1]], dtype=int32)"
      ]
     },
     "execution_count": 47,
     "metadata": {},
     "output_type": "execute_result"
    }
   ],
   "source": [
    "identity_array = np.identity(3, dtype='int32')\n",
    "identity_array"
   ]
  },
  {
   "cell_type": "markdown",
   "id": "e90db1db-c0f2-4d5e-9407-1575ad357f7c",
   "metadata": {},
   "source": [
    "#"
   ]
  },
  {
   "cell_type": "markdown",
   "id": "09d1845c-e2d9-4dde-ae92-b6772f4e0d01",
   "metadata": {},
   "source": [
    "#### 8- Create a 5x5 array with random values and normalize it (subtract the mean and divide by the standard deviation of the array)."
   ]
  },
  {
   "cell_type": "code",
   "execution_count": 55,
   "id": "7326d8ee-c01d-42cd-af58-c30c8e70fec0",
   "metadata": {},
   "outputs": [
    {
     "data": {
      "text/plain": [
       "array([[ 1.06301336, -1.0449471 ,  0.28099075, -1.66560306,  0.89482955],\n",
       "       [-0.36555517,  0.59994679, -1.63395355,  0.08858601,  0.12358898],\n",
       "       [-2.01597258,  0.16569705,  1.74165112, -0.83330268,  0.90898414],\n",
       "       [-0.55668049,  0.01644481, -0.36050448, -0.94667804, -0.30196762],\n",
       "       [ 0.08810682,  1.45159537,  0.7455546 , -0.53419787,  0.38018142]])"
      ]
     },
     "execution_count": 55,
     "metadata": {},
     "output_type": "execute_result"
    }
   ],
   "source": [
    "# Create a 5x5 array with random values\n",
    "array3 = np.random.randn(5, 5)\n",
    "array3"
   ]
  },
  {
   "cell_type": "code",
   "execution_count": 58,
   "id": "b136a810-8257-4c41-a2ef-a9d6a1cfc986",
   "metadata": {},
   "outputs": [],
   "source": [
    "# Calculate the mean and standard deviation\n",
    "mean = np.mean(array3)\n",
    "std = np.std(array3)"
   ]
  },
  {
   "cell_type": "code",
   "execution_count": 60,
   "id": "e679aff1-ed25-49bf-822b-719926b895c8",
   "metadata": {},
   "outputs": [
    {
     "data": {
      "text/plain": [
       "array([[ 1.20284797, -1.03818864,  0.37145605, -1.6980268 ,  1.02404667],\n",
       "       [-0.31590651,  0.71054788, -1.66437924,  0.16690474,  0.20411746],\n",
       "       [-2.07051524,  0.24888383,  1.92432833, -0.81318305,  1.03909484],\n",
       "       [-0.51909762,  0.09020924, -0.31053696, -0.93371582, -0.24830465],\n",
       "       [ 0.1663953 ,  1.61596127,  0.86534794, -0.49519567,  0.47690865]])"
      ]
     },
     "execution_count": 60,
     "metadata": {},
     "output_type": "execute_result"
    }
   ],
   "source": [
    "# Normalize the array\n",
    "normalized_arr = (array3 - mean) / std\n",
    "normalized_arr"
   ]
  },
  {
   "cell_type": "markdown",
   "id": "a26c2b31-0f05-45c5-817f-e13705711d8e",
   "metadata": {},
   "source": [
    "#"
   ]
  },
  {
   "cell_type": "markdown",
   "id": "7a92bcd4-c4ab-47ed-992d-bd88777ff23c",
   "metadata": {},
   "source": [
    "#### 9. Perform element-wise multiplication between two arrays of the same shape."
   ]
  },
  {
   "cell_type": "code",
   "execution_count": 65,
   "id": "14e8cb3c-79f1-484b-808d-cf5e382b036f",
   "metadata": {},
   "outputs": [],
   "source": [
    "# Create two arrays of the same shape\n",
    "arr1 = np.array([[1, 2, 3],\n",
    "                 [4, 5, 6]])"
   ]
  },
  {
   "cell_type": "code",
   "execution_count": 64,
   "id": "2cd65659-93d7-440c-8a4b-1a036da93f8b",
   "metadata": {},
   "outputs": [],
   "source": [
    "arr2 = np.array([[2, 3, 4],\n",
    "                 [5, 6, 7]])\n"
   ]
  },
  {
   "cell_type": "code",
   "execution_count": 66,
   "id": "2624c488-ea0a-486c-a967-92e2c8e26f30",
   "metadata": {},
   "outputs": [
    {
     "data": {
      "text/plain": [
       "array([[ 2,  6, 12],\n",
       "       [20, 30, 42]])"
      ]
     },
     "execution_count": 66,
     "metadata": {},
     "output_type": "execute_result"
    }
   ],
   "source": [
    "# Perform element-wise multiplication\n",
    "result = arr1 * arr2\n",
    "result"
   ]
  },
  {
   "cell_type": "markdown",
   "id": "3a891d41-4950-4afb-b2f6-dce81edc3c3b",
   "metadata": {},
   "source": [
    "#"
   ]
  },
  {
   "cell_type": "markdown",
   "id": "47fcbcca-114d-4f10-b3c1-74d8b4fdcac8",
   "metadata": {},
   "source": [
    "#### 10. Given an array of heights in centimeters, convert them to inches (1 inch = 2.54 cm).\n"
   ]
  },
  {
   "cell_type": "code",
   "execution_count": 68,
   "id": "62f70752-43db-4677-ae1e-714297f96324",
   "metadata": {},
   "outputs": [],
   "source": [
    "heights_cm = np.array([160, 170, 180, 190])"
   ]
  },
  {
   "cell_type": "code",
   "execution_count": 69,
   "id": "e0663c10-a637-409d-ae40-f4920bc1b8ab",
   "metadata": {},
   "outputs": [
    {
     "data": {
      "text/plain": [
       "array([62.99212598, 66.92913386, 70.86614173, 74.80314961])"
      ]
     },
     "execution_count": 69,
     "metadata": {},
     "output_type": "execute_result"
    }
   ],
   "source": [
    "heights_in = heights_cm / 2.54\n",
    "\n",
    "heights_in"
   ]
  },
  {
   "cell_type": "markdown",
   "id": "30be190e-d5b9-4a21-ba96-129ee2f3e031",
   "metadata": {},
   "source": [
    "#"
   ]
  },
  {
   "cell_type": "markdown",
   "id": "a68030da-759f-4efd-815a-c4a128df9ac1",
   "metadata": {},
   "source": [
    "#### 11. Create a 1D array of numbers from 0 to 9. Replace all odd numbers with -1."
   ]
  },
  {
   "cell_type": "code",
   "execution_count": 74,
   "id": "2d2b4108-9a9c-4fae-b54d-69e0bec0e97b",
   "metadata": {},
   "outputs": [
    {
     "data": {
      "text/plain": [
       "array([0, 1, 2, 3, 4, 5, 6, 7, 8, 9])"
      ]
     },
     "execution_count": 74,
     "metadata": {},
     "output_type": "execute_result"
    }
   ],
   "source": [
    "array4 = np.arange(10)\n",
    "array4"
   ]
  },
  {
   "cell_type": "code",
   "execution_count": 75,
   "id": "4bcdd6da-772c-4236-9308-1edc3b9ee4f6",
   "metadata": {},
   "outputs": [
    {
     "data": {
      "text/plain": [
       "array([ 0, -1,  2, -1,  4, -1,  6, -1,  8, -1])"
      ]
     },
     "execution_count": 75,
     "metadata": {},
     "output_type": "execute_result"
    }
   ],
   "source": [
    "array4[array4 % 2 != 0] = -1\n",
    "array4"
   ]
  },
  {
   "cell_type": "markdown",
   "id": "5f8c29b9-6663-446d-a57e-5eedbbdc7631",
   "metadata": {},
   "source": [
    "#"
   ]
  },
  {
   "cell_type": "markdown",
   "id": "3892124c-748c-46dd-8b0c-d3e30eb1f31f",
   "metadata": {},
   "source": [
    "#### 12. Create a 2D array with random values and find the indices of the maximum and minimum values."
   ]
  },
  {
   "cell_type": "code",
   "execution_count": 76,
   "id": "f9eb4d6e-a97f-4332-922d-8a0fc3153efb",
   "metadata": {},
   "outputs": [
    {
     "data": {
      "text/plain": [
       "array([[ 0.09180223, -0.45104545,  1.33705521,  0.44741665],\n",
       "       [-0.4028101 ,  1.66057775,  0.35182658, -0.11748583],\n",
       "       [-1.57109113, -0.38862868, -0.81274649, -0.69482441]])"
      ]
     },
     "execution_count": 76,
     "metadata": {},
     "output_type": "execute_result"
    }
   ],
   "source": [
    "array5 = np.random.randn(3, 4)\n",
    "array5"
   ]
  },
  {
   "cell_type": "code",
   "execution_count": null,
   "id": "7e55b6df-42be-4aee-9477-702a9981ca8e",
   "metadata": {},
   "outputs": [],
   "source": []
  }
 ],
 "metadata": {
  "kernelspec": {
   "display_name": "Python 3 (ipykernel)",
   "language": "python",
   "name": "python3"
  },
  "language_info": {
   "codemirror_mode": {
    "name": "ipython",
    "version": 3
   },
   "file_extension": ".py",
   "mimetype": "text/x-python",
   "name": "python",
   "nbconvert_exporter": "python",
   "pygments_lexer": "ipython3",
   "version": "3.12.3"
  }
 },
 "nbformat": 4,
 "nbformat_minor": 5
}
