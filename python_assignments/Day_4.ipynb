{
 "cells": [
  {
   "cell_type": "markdown",
   "metadata": {
    "application/vnd.databricks.v1+cell": {
     "cellMetadata": {
      "byteLimit": 2048000,
      "rowLimit": 10000
     },
     "inputWidgets": {},
     "nuid": "2727b824-479f-4e32-addf-583054278921",
     "showTitle": false,
     "title": ""
    }
   },
   "source": [
    "####1 - create a txt file and put 4-5 lines. Now create another file from the previous file and at the end of each line put the count of words.\n",
    "\n",
    "**Example:**\n",
    "\n",
    "file 1:\n",
    "- My name is Rohish Zade\n",
    "- I'm a Data Engineer\n",
    "- I work in MNC\n",
    "- I work on Azure Cloud\n",
    "\n",
    "file2:\n",
    "- My name is Rohish Zade:5\n",
    "- I'm a Data Engineer:4\n",
    "- I work in MNC:4\n",
    "- I work on Azure Cloud:5"
   ]
  },
  {
   "cell_type": "code",
   "execution_count": 0,
   "metadata": {
    "application/vnd.databricks.v1+cell": {
     "cellMetadata": {
      "byteLimit": 2048000,
      "rowLimit": 10000
     },
     "inputWidgets": {},
     "nuid": "21bff0de-8252-4d13-94cf-59eada1cbe56",
     "showTitle": false,
     "title": ""
    }
   },
   "outputs": [
    {
     "output_type": "display_data",
     "data": {
      "text/html": [
       "<style scoped>\n",
       "  .table-result-container {\n",
       "    max-height: 300px;\n",
       "    overflow: auto;\n",
       "  }\n",
       "  table, th, td {\n",
       "    border: 1px solid black;\n",
       "    border-collapse: collapse;\n",
       "  }\n",
       "  th, td {\n",
       "    padding: 5px;\n",
       "  }\n",
       "  th {\n",
       "    text-align: left;\n",
       "  }\n",
       "</style><div class='table-result-container'><table class='table-result'><thead style='background-color: white'><tr><th>path</th><th>name</th><th>size</th><th>modificationTime</th></tr></thead><tbody><tr><td>file:/databricks/driver/rohish/test1.txt</td><td>test1.txt</td><td>78</td><td>1722078399718</td></tr></tbody></table></div>"
      ]
     },
     "metadata": {
      "application/vnd.databricks.v1+output": {
       "addedWidgets": {},
       "aggData": [],
       "aggError": "",
       "aggOverflow": false,
       "aggSchema": [],
       "aggSeriesLimitReached": false,
       "aggType": "",
       "arguments": {},
       "columnCustomDisplayInfos": {},
       "data": [
        [
         "file:/databricks/driver/rohish/test1.txt",
         "test1.txt",
         78,
         1722078399718
        ]
       ],
       "datasetInfos": [],
       "dbfsResultPath": null,
       "isJsonSchema": true,
       "metadata": {},
       "overflow": false,
       "plotOptions": {
        "customPlotOptions": {},
        "displayType": "table",
        "pivotAggregation": null,
        "pivotColumns": null,
        "xColumns": null,
        "yColumns": null
       },
       "removedWidgets": [],
       "schema": [
        {
         "metadata": "{}",
         "name": "path",
         "type": "\"string\""
        },
        {
         "metadata": "{}",
         "name": "name",
         "type": "\"string\""
        },
        {
         "metadata": "{}",
         "name": "size",
         "type": "\"long\""
        },
        {
         "metadata": "{}",
         "name": "modificationTime",
         "type": "\"long\""
        }
       ],
       "type": "table"
      }
     },
     "output_type": "display_data"
    }
   ],
   "source": [
    "# Creating text file\n",
    "f = open(\"/databricks/driver/rohish/test1.txt\", \"w\")\n",
    "f.write(\"My name is Rohish Zade\")\n",
    "f.write(\"\\nI'm a Data Engineer\")\n",
    "f.write(\"\\nI work in MNC\")\n",
    "f.write(\"\\nI work on Azure Cloud\")\n",
    "f.close()\n",
    "\n",
    "# do diplay the files in directory\n",
    "display(dbutils.fs.ls(\"file:/databricks/driver/rohish/\")) # this is a spark code and will not work in python IDE's"
   ]
  },
  {
   "cell_type": "code",
   "execution_count": 0,
   "metadata": {
    "application/vnd.databricks.v1+cell": {
     "cellMetadata": {
      "byteLimit": 2048000,
      "rowLimit": 10000
     },
     "inputWidgets": {},
     "nuid": "8f68462f-ab4f-443f-931d-4666b9276f59",
     "showTitle": false,
     "title": ""
    }
   },
   "outputs": [],
   "source": [
    "# creating another file from the previous file with word count at the end of each line\n",
    "f = open(\"/databricks/driver/rohish/text2.txt\", \"w\")\n",
    "\n",
    "with open(\"/databricks/driver/rohish/test1.txt\", \"r\") as file:\n",
    "    for line in file:\n",
    "        word_list = line.split()\n",
    "        data = f\"{line.strip()}:{str(len(word_list))}\\n\"\n",
    "        f.write(data)\n",
    "\n",
    "f.close()\n",
    "file.close()"
   ]
  },
  {
   "cell_type": "code",
   "execution_count": 0,
   "metadata": {
    "application/vnd.databricks.v1+cell": {
     "cellMetadata": {
      "byteLimit": 2048000,
      "rowLimit": 10000
     },
     "inputWidgets": {},
     "nuid": "002b04f2-11ca-4f9f-b26e-5d626fa71d12",
     "showTitle": false,
     "title": ""
    }
   },
   "outputs": [
    {
     "output_type": "display_data",
     "data": {
      "text/html": [
       "<style scoped>\n",
       "  .table-result-container {\n",
       "    max-height: 300px;\n",
       "    overflow: auto;\n",
       "  }\n",
       "  table, th, td {\n",
       "    border: 1px solid black;\n",
       "    border-collapse: collapse;\n",
       "  }\n",
       "  th, td {\n",
       "    padding: 5px;\n",
       "  }\n",
       "  th {\n",
       "    text-align: left;\n",
       "  }\n",
       "</style><div class='table-result-container'><table class='table-result'><thead style='background-color: white'><tr><th>path</th><th>name</th><th>size</th><th>modificationTime</th></tr></thead><tbody><tr><td>file:/databricks/driver/rohish/test1.txt</td><td>test1.txt</td><td>78</td><td>1722078399718</td></tr><tr><td>file:/databricks/driver/rohish/text2.txt</td><td>text2.txt</td><td>87</td><td>1722078428238</td></tr></tbody></table></div>"
      ]
     },
     "metadata": {
      "application/vnd.databricks.v1+output": {
       "addedWidgets": {},
       "aggData": [],
       "aggError": "",
       "aggOverflow": false,
       "aggSchema": [],
       "aggSeriesLimitReached": false,
       "aggType": "",
       "arguments": {},
       "columnCustomDisplayInfos": {},
       "data": [
        [
         "file:/databricks/driver/rohish/test1.txt",
         "test1.txt",
         78,
         1722078399718
        ],
        [
         "file:/databricks/driver/rohish/text2.txt",
         "text2.txt",
         87,
         1722078428238
        ]
       ],
       "datasetInfos": [],
       "dbfsResultPath": null,
       "isJsonSchema": true,
       "metadata": {},
       "overflow": false,
       "plotOptions": {
        "customPlotOptions": {},
        "displayType": "table",
        "pivotAggregation": null,
        "pivotColumns": null,
        "xColumns": null,
        "yColumns": null
       },
       "removedWidgets": [],
       "schema": [
        {
         "metadata": "{}",
         "name": "path",
         "type": "\"string\""
        },
        {
         "metadata": "{}",
         "name": "name",
         "type": "\"string\""
        },
        {
         "metadata": "{}",
         "name": "size",
         "type": "\"long\""
        },
        {
         "metadata": "{}",
         "name": "modificationTime",
         "type": "\"long\""
        }
       ],
       "type": "table"
      }
     },
     "output_type": "display_data"
    },
    {
     "output_type": "stream",
     "name": "stdout",
     "output_type": "stream",
     "text": [
      "My name is Rohish Zade:5\nI'm a Data Engineer:4\nI work in MNC:4\nI work on Azure Cloud:5\n\n"
     ]
    }
   ],
   "source": [
    "display(dbutils.fs.ls(\"file:/databricks/driver/rohish/\")) # this is a spark code and will not work in python IDE's\n",
    "\n",
    "f = open(\"/databricks/driver/rohish/text2.txt\", \"r\")\n",
    "print(f.read())\n",
    "f.close()"
   ]
  },
  {
   "cell_type": "code",
   "execution_count": 0,
   "metadata": {
    "application/vnd.databricks.v1+cell": {
     "cellMetadata": {
      "byteLimit": 2048000,
      "rowLimit": 10000
     },
     "inputWidgets": {},
     "nuid": "655c13ab-c995-49e0-8021-4ae4f2bade1f",
     "showTitle": false,
     "title": ""
    }
   },
   "outputs": [],
   "source": [
    "#alternate solution\n",
    "# Create the first file and write lines into it\n",
    "with open(\"/databricks/driver/rohish/file1.txt\", \"w\") as file1:\n",
    "    lines = [\n",
    "        \"My name is slim slady\",\n",
    "        \"Real slim shady please stand up\",\n",
    "        \"stand up\"\n",
    "    ]\n",
    "    for line in lines:\n",
    "        file1.write(line + '\\n')\n",
    "\n",
    "# Create the second file with word count at the end of each line\n",
    "with open(\"/databricks/driver/rohish/file1.txt\", \"r\") as file1, open(\"/databricks/driver/rohish/file2.txt\", \"w\") as file2:\n",
    "    for line in file1:\n",
    "        line = line.strip()\n",
    "        word_count = len(line.split())\n",
    "        file2.write(line + ':' + str(word_count) + '\\n')"
   ]
  },
  {
   "cell_type": "code",
   "execution_count": 0,
   "metadata": {
    "application/vnd.databricks.v1+cell": {
     "cellMetadata": {
      "byteLimit": 2048000,
      "rowLimit": 10000
     },
     "inputWidgets": {},
     "nuid": "c0f5cf6d-1f5c-492a-92df-46c42e89f0b5",
     "showTitle": false,
     "title": ""
    }
   },
   "outputs": [
    {
     "output_type": "display_data",
     "data": {
      "text/html": [
       "<style scoped>\n",
       "  .table-result-container {\n",
       "    max-height: 300px;\n",
       "    overflow: auto;\n",
       "  }\n",
       "  table, th, td {\n",
       "    border: 1px solid black;\n",
       "    border-collapse: collapse;\n",
       "  }\n",
       "  th, td {\n",
       "    padding: 5px;\n",
       "  }\n",
       "  th {\n",
       "    text-align: left;\n",
       "  }\n",
       "</style><div class='table-result-container'><table class='table-result'><thead style='background-color: white'><tr><th>path</th><th>name</th><th>size</th><th>modificationTime</th></tr></thead><tbody><tr><td>file:/databricks/driver/rohish/file1.txt</td><td>file1.txt</td><td>63</td><td>1722078463986</td></tr><tr><td>file:/databricks/driver/rohish/test1.txt</td><td>test1.txt</td><td>78</td><td>1722078399718</td></tr><tr><td>file:/databricks/driver/rohish/text2.txt</td><td>text2.txt</td><td>87</td><td>1722078428238</td></tr><tr><td>file:/databricks/driver/rohish/file2.txt</td><td>file2.txt</td><td>69</td><td>1722078463986</td></tr></tbody></table></div>"
      ]
     },
     "metadata": {
      "application/vnd.databricks.v1+output": {
       "addedWidgets": {},
       "aggData": [],
       "aggError": "",
       "aggOverflow": false,
       "aggSchema": [],
       "aggSeriesLimitReached": false,
       "aggType": "",
       "arguments": {},
       "columnCustomDisplayInfos": {},
       "data": [
        [
         "file:/databricks/driver/rohish/file1.txt",
         "file1.txt",
         63,
         1722078463986
        ],
        [
         "file:/databricks/driver/rohish/test1.txt",
         "test1.txt",
         78,
         1722078399718
        ],
        [
         "file:/databricks/driver/rohish/text2.txt",
         "text2.txt",
         87,
         1722078428238
        ],
        [
         "file:/databricks/driver/rohish/file2.txt",
         "file2.txt",
         69,
         1722078463986
        ]
       ],
       "datasetInfos": [],
       "dbfsResultPath": null,
       "isJsonSchema": true,
       "metadata": {},
       "overflow": false,
       "plotOptions": {
        "customPlotOptions": {},
        "displayType": "table",
        "pivotAggregation": null,
        "pivotColumns": null,
        "xColumns": null,
        "yColumns": null
       },
       "removedWidgets": [],
       "schema": [
        {
         "metadata": "{}",
         "name": "path",
         "type": "\"string\""
        },
        {
         "metadata": "{}",
         "name": "name",
         "type": "\"string\""
        },
        {
         "metadata": "{}",
         "name": "size",
         "type": "\"long\""
        },
        {
         "metadata": "{}",
         "name": "modificationTime",
         "type": "\"long\""
        }
       ],
       "type": "table"
      }
     },
     "output_type": "display_data"
    }
   ],
   "source": [
    "display(dbutils.fs.ls(\"file:/databricks/driver/rohish/\"))"
   ]
  },
  {
   "cell_type": "markdown",
   "metadata": {
    "application/vnd.databricks.v1+cell": {
     "cellMetadata": {
      "byteLimit": 2048000,
      "rowLimit": 10000
     },
     "inputWidgets": {},
     "nuid": "d3f7803d-35b3-450d-9ad5-c054fac90df3",
     "showTitle": false,
     "title": ""
    }
   },
   "source": []
  },
  {
   "cell_type": "markdown",
   "metadata": {
    "application/vnd.databricks.v1+cell": {
     "cellMetadata": {
      "byteLimit": 2048000,
      "rowLimit": 10000
     },
     "inputWidgets": {},
     "nuid": "cf076d9f-c4c8-43af-a939-35509f4d7a47",
     "showTitle": false,
     "title": ""
    }
   },
   "source": [
    "####2 - given below dictonaries of states and their capital:\n",
    "\n",
    "**capitals_dict** = {\n",
    "'Alabama': 'Montgomery',\n",
    "'Alaska': 'Juneau',\n",
    "'Arizona': 'Phoenix',\n",
    "'Arkansas': 'Little Rock',\n",
    "'California': 'Sacramento',\n",
    "'Colorado': 'Denver',\n",
    "'Connecticut': 'Hartford',\n",
    "'Delaware': 'Dover',\n",
    "'Florida': 'Tallahassee',\n",
    "'Georgia': 'Atlanta',\n",
    "}\n",
    "\n",
    "- pick a state from above dictonary and ask user to enter the capital of the state.\n",
    "- If the user answers incorrectly, then repeatedly ask them for the capital until they either enter the correct answer or type \"exit\".\n",
    "- If the user answers correctly, then display \"Correct\" and end the program. However, if the user exits without guessing correctly, display the correct answer and the word \"Goodbye\".\n",
    "\n",
    "Note: Make sure the user isn’t punished for case sensitivity. In other words, a guess of \"Denver\" is the same as \"denver\". Do the same for exiting—\"EXIT\" and \"Exit\" should work the same as \"exit\"."
   ]
  },
  {
   "cell_type": "code",
   "execution_count": 0,
   "metadata": {
    "application/vnd.databricks.v1+cell": {
     "cellMetadata": {
      "byteLimit": 2048000,
      "rowLimit": 10000
     },
     "inputWidgets": {},
     "nuid": "88d4f890-dace-4e0c-a638-46965ea6a775",
     "showTitle": false,
     "title": ""
    }
   },
   "outputs": [],
   "source": [
    "capitals_dict = {\n",
    "'Alabama': 'Montgomery',\n",
    "'Alaska': 'Juneau',\n",
    "'Arizona': 'Phoenix',\n",
    "'Arkansas': 'Little Rock',\n",
    "'California': 'Sacramento',\n",
    "'Colorado': 'Denver',\n",
    "'Connecticut': 'Hartford',\n",
    "'Delaware': 'Dover',\n",
    "'Florida': 'Tallahassee',\n",
    "'Georgia': 'Atlanta',\n",
    "}"
   ]
  },
  {
   "cell_type": "code",
   "execution_count": 0,
   "metadata": {
    "application/vnd.databricks.v1+cell": {
     "cellMetadata": {
      "byteLimit": 2048000,
      "rowLimit": 10000
     },
     "inputWidgets": {},
     "nuid": "a1921dad-e800-41aa-9aee-909cb62ab4c9",
     "showTitle": false,
     "title": ""
    }
   },
   "outputs": [
    {
     "output_type": "display_data",
     "data": {
      "text/plain": [
       "Pick a state from the dictionary:  "
      ]
     },
     "metadata": {},
     "output_type": "display_data"
    },
    {
     "output_type": "display_data",
     "data": {
      "text/html": [
       "<style scoped>\n",
       "  .ansiout {\n",
       "    display: block;\n",
       "    unicode-bidi: embed;\n",
       "    white-space: pre-wrap;\n",
       "    word-wrap: break-word;\n",
       "    word-break: break-all;\n",
       "    font-family: \"Menlo\", \"Monaco\", \"Consolas\", \"Ubuntu Mono\", \"Source Code Pro\", monospace;\n",
       "    font-size: 13px;\n",
       "    color: #555;\n",
       "    margin-left: 4px;\n",
       "    line-height: 19px;\n",
       "  }\n",
       "</style>"
      ]
     },
     "metadata": {
      "application/vnd.databricks.v1+output": {
       "arguments": {},
       "data": "",
       "errorSummary": "Cancelled",
       "errorTraceType": "html",
       "metadata": {},
       "type": "ipynbError"
      }
     },
     "output_type": "display_data"
    }
   ],
   "source": [
    "# state = input(\"Pick a state from the dictionary: \")\n",
    "# state = state.capitalize()  # Convert the input to capitalize for case insensitivity\n",
    "\n",
    "# while True:\n",
    "#     if state in capitals_dict:\n",
    "#         capital = capitals_dict[state]\n",
    "#         guess = input(\"Enter the capital for of {}: \".format(state)).capitalize()\n",
    "\n",
    "#         if guess == capital:\n",
    "#             print(\"Correct!\")\n",
    "#             break\n",
    "#         elif guess.lower() == 'exit':\n",
    "#             print(\"The correct answer was: {}\".format(capital))\n",
    "#             print(\"Goodbye!\")\n",
    "#             break\n",
    "#         else:\n",
    "#             print(\"Incorrect. Try again or type 'exit' to quit.\")\n",
    "#     else:\n",
    "#         print(\"Invalid state. Please pick a state from the dictionary.\")\n",
    "    \n",
    "#     state = input(\"Pick a state from the dictionary: \")\n",
    "#     state = state.capitalize()\n",
    "            "
   ]
  },
  {
   "cell_type": "code",
   "execution_count": 0,
   "metadata": {
    "application/vnd.databricks.v1+cell": {
     "cellMetadata": {
      "byteLimit": 2048000,
      "rowLimit": 10000
     },
     "inputWidgets": {},
     "nuid": "51510134-b9c9-431f-81ad-c3f7e3620c55",
     "showTitle": false,
     "title": ""
    }
   },
   "outputs": [
    {
     "output_type": "display_data",
     "data": {
      "text/plain": [
       "Pick a state from the dictionary:  Maharashtra"
      ]
     },
     "metadata": {},
     "output_type": "display_data"
    },
    {
     "output_type": "stream",
     "name": "stdout",
     "output_type": "stream",
     "text": [
      "Invalid state. Please pick a state from the dictionary.\n"
     ]
    },
    {
     "output_type": "display_data",
     "data": {
      "text/plain": [
       "Pick a state from the dictionary:  Denver"
      ]
     },
     "metadata": {},
     "output_type": "display_data"
    },
    {
     "output_type": "stream",
     "name": "stdout",
     "output_type": "stream",
     "text": [
      "Invalid state. Please pick a state from the dictionary.\n"
     ]
    },
    {
     "output_type": "display_data",
     "data": {
      "text/plain": [
       "Pick a state from the dictionary:  Colorado"
      ]
     },
     "metadata": {},
     "output_type": "display_data"
    },
    {
     "output_type": "display_data",
     "data": {
      "text/plain": [
       "Enter the capital of Colorado:  Pune"
      ]
     },
     "metadata": {},
     "output_type": "display_data"
    },
    {
     "output_type": "stream",
     "name": "stdout",
     "output_type": "stream",
     "text": [
      "Incorrect. Try again or type 'exit' to quit.\n"
     ]
    },
    {
     "output_type": "display_data",
     "data": {
      "text/plain": [
       "Enter the capital of Colorado:  exit"
      ]
     },
     "metadata": {},
     "output_type": "display_data"
    },
    {
     "output_type": "stream",
     "name": "stdout",
     "output_type": "stream",
     "text": [
      "The correct answer was: Denver\nGoodbye!\n"
     ]
    }
   ],
   "source": [
    "state = input(\"Pick a state from the dictionary: \")\n",
    "state = state.capitalize()  # Convert the input to capitalize for case insensitivity\n",
    "correct = False\n",
    "\n",
    "while True:\n",
    "    if correct:\n",
    "        break\n",
    "    if state in capitals_dict:\n",
    "        capital = capitals_dict[state]\n",
    "        guess = input(\"Enter the capital of {}: \".format(state))\n",
    "        guess = guess.capitalize()  # Convert the guess to capitalize for case insensitivity\n",
    "\n",
    "        while True:\n",
    "            if guess == capital:\n",
    "                print(\"Correct!\")\n",
    "                correct = True\n",
    "                break\n",
    "            elif guess.lower() == \"exit\":\n",
    "                print(\"The correct answer was: {}\".format(capital))\n",
    "                print(\"Goodbye!\")\n",
    "                correct = True\n",
    "                break\n",
    "            else:\n",
    "                print(\"Incorrect. Try again or type 'exit' to quit.\")\n",
    "                guess = input(\"Enter the capital of {}: \".format(state)).capitalize()\n",
    "    else:\n",
    "        print(\"Invalid state. Please pick a state from the dictionary.\")\n",
    "        state = input(\"Pick a state from the dictionary: \")\n",
    "        state = state.capitalize()"
   ]
  },
  {
   "cell_type": "markdown",
   "metadata": {
    "application/vnd.databricks.v1+cell": {
     "cellMetadata": {},
     "inputWidgets": {},
     "nuid": "5076a865-ecc8-4eee-b56a-b618f5ff659c",
     "showTitle": false,
     "title": ""
    }
   },
   "source": []
  },
  {
   "cell_type": "markdown",
   "metadata": {
    "application/vnd.databricks.v1+cell": {
     "cellMetadata": {
      "byteLimit": 2048000,
      "rowLimit": 10000
     },
     "inputWidgets": {},
     "nuid": "6deae8dd-3675-4142-b3aa-d0d346b82c96",
     "showTitle": false,
     "title": ""
    }
   },
   "source": [
    "####3 - write a program to take state as input from user and print the capital of the state using above dictonary. If the state is not there in dictonary then print \"sorry , information not available\""
   ]
  },
  {
   "cell_type": "code",
   "execution_count": 0,
   "metadata": {
    "application/vnd.databricks.v1+cell": {
     "cellMetadata": {
      "byteLimit": 2048000,
      "rowLimit": 10000
     },
     "inputWidgets": {},
     "nuid": "7ff3bd39-07e9-4271-b460-878b33a46770",
     "showTitle": false,
     "title": ""
    }
   },
   "outputs": [
    {
     "output_type": "display_data",
     "data": {
      "text/plain": [
       ""
      ]
     },
     "metadata": {
      "application/vnd.databricks.v1+output": {
       "arguments": {},
       "data": "",
       "errorSummary": "Command skipped",
       "errorTraceType": "ansi",
       "metadata": {},
       "type": "ipynbError"
      }
     },
     "output_type": "display_data"
    }
   ],
   "source": [
    "state = input(\"Enter the state from the capitals_dict\").capitalize()\n",
    "\n",
    "if state in capitals_dict:\n",
    "    print(f\"The capital of {state} is {capitals_dict[state]}\")\n",
    "else:\n",
    "    print\"Sorry, information not available\")"
   ]
  },
  {
   "cell_type": "markdown",
   "metadata": {
    "application/vnd.databricks.v1+cell": {
     "cellMetadata": {
      "byteLimit": 2048000,
      "rowLimit": 10000
     },
     "inputWidgets": {},
     "nuid": "8d33b6a9-dd3d-4f2b-a856-416a600462e6",
     "showTitle": false,
     "title": ""
    }
   },
   "source": []
  },
  {
   "cell_type": "markdown",
   "metadata": {
    "application/vnd.databricks.v1+cell": {
     "cellMetadata": {
      "byteLimit": 2048000,
      "rowLimit": 10000
     },
     "inputWidgets": {},
     "nuid": "eeb967df-b1e2-485d-b842-7cdaf541ff5f",
     "showTitle": false,
     "title": ""
    }
   },
   "source": [
    "####4 - Let say You have one 100 cats. One day, you decide to arrange all your cats in a giant circle. Initially,none of your cats has a hat on.You walk around the circle a 100 times, always starting with the first cat (cat 1). Each time you stop at a cat, you check if it has a hat on. If it doesn’t, then you put a hat on it. If it does, then you take the hat off.\n",
    "\n",
    "1. The first round, you stop at every cat, placing a hat on each one.\n",
    "2. The second round, you stop only at every second cat (#2, #4, #6,#8, and so on).\n",
    "3. The third round, you stop only at every third cat (#3, #6, #9, #12,\n",
    "and so on).\n",
    "4. You continue this process until you’ve made one hundred rounds\n",
    "around the cats. On the last round, you stop only at cat #100.\n",
    "\n",
    "\n",
    "Write a program that simply outputs which cats have hats at the end."
   ]
  },
  {
   "cell_type": "code",
   "execution_count": 0,
   "metadata": {
    "application/vnd.databricks.v1+cell": {
     "cellMetadata": {
      "byteLimit": 2048000,
      "rowLimit": 10000
     },
     "inputWidgets": {},
     "nuid": "755b9b0a-91a1-4e70-be8a-f0aef3c10f9f",
     "showTitle": false,
     "title": ""
    }
   },
   "outputs": [
    {
     "output_type": "stream",
     "name": "stdout",
     "output_type": "stream",
     "text": [
      "Cats with the hats: \ncat 1 has a hat\ncat 4 has a hat\ncat 9 has a hat\ncat 16 has a hat\ncat 25 has a hat\ncat 36 has a hat\ncat 49 has a hat\ncat 64 has a hat\ncat 81 has a hat\ncat 100 has a hat\n"
     ]
    }
   ],
   "source": [
    "# creating a list with 100 cats\n",
    "cats_with_hats = {i:\"no hat\" for i in range(1, 101)}\n",
    "\n",
    "for round in range(1, 101):\n",
    "    for cat in range(round , 101, round):\n",
    "        if cats_with_hats[cat] == \"no hat\":\n",
    "            cats_with_hats[cat] = \"hat\"\n",
    "        else:\n",
    "            cats_with_hats[cat] = \"no hat\"\n",
    "\n",
    "print(\"Cats with the hats: \")\n",
    "for key, value in cats_with_hats.items():\n",
    "    if cats_with_hats[key] == 'hat':\n",
    "        print(f\"cat {key} has a hat\")\n"
   ]
  },
  {
   "cell_type": "markdown",
   "metadata": {
    "application/vnd.databricks.v1+cell": {
     "cellMetadata": {},
     "inputWidgets": {},
     "nuid": "5bc581d8-222b-4730-a1e0-e2879529ed39",
     "showTitle": false,
     "title": ""
    }
   },
   "source": []
  },
  {
   "cell_type": "markdown",
   "metadata": {
    "application/vnd.databricks.v1+cell": {
     "cellMetadata": {},
     "inputWidgets": {},
     "nuid": "f836e6f2-9e24-4ee0-8366-5fb2ac1bc9e3",
     "showTitle": false,
     "title": ""
    }
   },
   "source": [
    "**Alternate solution from chatgpt**"
   ]
  },
  {
   "cell_type": "code",
   "execution_count": 0,
   "metadata": {
    "application/vnd.databricks.v1+cell": {
     "cellMetadata": {
      "byteLimit": 2048000,
      "rowLimit": 10000
     },
     "inputWidgets": {},
     "nuid": "ff8b78db-c9af-4b98-a275-c65a942b10fd",
     "showTitle": false,
     "title": ""
    }
   },
   "outputs": [
    {
     "output_type": "stream",
     "name": "stdout",
     "output_type": "stream",
     "text": [
      "Cats with hats at the end: [1, 4, 9, 16, 25, 36, 49, 64, 81, 100]\n"
     ]
    }
   ],
   "source": [
    "# Number of cats\n",
    "num_cats = 100\n",
    "\n",
    "# Initialize a list to keep track of each cat's hat status (False means no hat, True means hat)\n",
    "cats = [False] * num_cats\n",
    "\n",
    "# Simulate the process\n",
    "for round in range(1, num_cats + 1):\n",
    "    for cat in range(round - 1, num_cats, round):\n",
    "        cats[cat] = not cats[cat]\n",
    "\n",
    "# Output the cats that have hats on at the end\n",
    "cats_with_hats = [index + 1 for index, hat in enumerate(cats) if hat]\n",
    "\n",
    "print(\"Cats with hats at the end:\", cats_with_hats)\n"
   ]
  }
 ],
 "metadata": {
  "application/vnd.databricks.v1+notebook": {
   "dashboards": [],
   "environmentMetadata": null,
   "language": "python",
   "notebookMetadata": {
    "mostRecentlyExecutedCommandWithImplicitDF": {
     "commandId": 4426415302565655,
     "dataframes": [
      "_sqldf"
     ]
    },
    "pythonIndentUnit": 4
   },
   "notebookName": "Day_4",
   "widgets": {}
  }
 },
 "nbformat": 4,
 "nbformat_minor": 0
}
