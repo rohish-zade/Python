{
 "cells": [
  {
   "cell_type": "markdown",
   "metadata": {
    "application/vnd.databricks.v1+cell": {
     "cellMetadata": {},
     "inputWidgets": {},
     "nuid": "90b9e054-7293-46c7-97c5-1effcc5e3a06",
     "showTitle": false,
     "title": ""
    }
   },
   "source": [
    "## Pandas Day 1 Assignment\n",
    "using **orders.txt** dataset for below problems"
   ]
  },
  {
   "cell_type": "code",
   "execution_count": 0,
   "metadata": {
    "application/vnd.databricks.v1+cell": {
     "cellMetadata": {
      "byteLimit": 2048000,
      "rowLimit": 10000
     },
     "inputWidgets": {},
     "nuid": "d94d4e82-ced3-4fe5-b5f4-6bd0c616c947",
     "showTitle": false,
     "title": ""
    }
   },
   "outputs": [
    {
     "output_type": "display_data",
     "data": {
      "application/vnd.databricks.v1+bamboolib_hint": "{\"pd.DataFrames\": [], \"version\": \"0.0.1\"}",
      "text/plain": []
     },
     "metadata": {},
     "output_type": "display_data"
    }
   ],
   "source": [
    "import pandas as pd"
   ]
  },
  {
   "cell_type": "code",
   "execution_count": 0,
   "metadata": {
    "application/vnd.databricks.v1+cell": {
     "cellMetadata": {
      "byteLimit": 2048000,
      "rowLimit": 10000
     },
     "inputWidgets": {},
     "nuid": "6908d2b2-65a1-4e3e-8da0-eef15f3d3f60",
     "showTitle": false,
     "title": ""
    }
   },
   "outputs": [
    {
     "output_type": "display_data",
     "data": {
      "text/html": [
       "<div>\n",
       "<style scoped>\n",
       "    .dataframe tbody tr th:only-of-type {\n",
       "        vertical-align: middle;\n",
       "    }\n",
       "\n",
       "    .dataframe tbody tr th {\n",
       "        vertical-align: top;\n",
       "    }\n",
       "\n",
       "    .dataframe thead th {\n",
       "        text-align: right;\n",
       "    }\n",
       "</style>\n",
       "<table border=\"1\" class=\"dataframe\">\n",
       "  <thead>\n",
       "    <tr style=\"text-align: right;\">\n",
       "      <th></th>\n",
       "      <th>order_id</th>\n",
       "      <th>order_date</th>\n",
       "      <th>customer_name</th>\n",
       "      <th>city</th>\n",
       "      <th>category</th>\n",
       "      <th>product_id</th>\n",
       "      <th>sales</th>\n",
       "      <th>profit</th>\n",
       "    </tr>\n",
       "  </thead>\n",
       "  <tbody>\n",
       "    <tr>\n",
       "      <th>0</th>\n",
       "      <td>CA-2018-100006</td>\n",
       "      <td>2018-09-07</td>\n",
       "      <td>Dennis Kane</td>\n",
       "      <td>New York City</td>\n",
       "      <td>Technology</td>\n",
       "      <td>TEC-PH-10002075</td>\n",
       "      <td>377.970</td>\n",
       "      <td>109.6113</td>\n",
       "    </tr>\n",
       "    <tr>\n",
       "      <th>1</th>\n",
       "      <td>CA-2018-100090</td>\n",
       "      <td>2018-07-08</td>\n",
       "      <td>Ed Braxton</td>\n",
       "      <td>San Francisco</td>\n",
       "      <td>Furniture</td>\n",
       "      <td>FUR-TA-10003715</td>\n",
       "      <td>502.488</td>\n",
       "      <td>-87.9354</td>\n",
       "    </tr>\n",
       "    <tr>\n",
       "      <th>2</th>\n",
       "      <td>CA-2018-100293</td>\n",
       "      <td>2018-03-14</td>\n",
       "      <td>Neil Französisch</td>\n",
       "      <td>Jacksonville</td>\n",
       "      <td>Office Supplies</td>\n",
       "      <td>OFF-PA-10000176</td>\n",
       "      <td>91.056</td>\n",
       "      <td>31.8696</td>\n",
       "    </tr>\n",
       "    <tr>\n",
       "      <th>3</th>\n",
       "      <td>CA-2018-100328</td>\n",
       "      <td>2018-01-28</td>\n",
       "      <td>Jasper Cacioppo</td>\n",
       "      <td>New York City</td>\n",
       "      <td>Office Supplies</td>\n",
       "      <td>OFF-BI-10000343</td>\n",
       "      <td>3.928</td>\n",
       "      <td>1.3257</td>\n",
       "    </tr>\n",
       "    <tr>\n",
       "      <th>4</th>\n",
       "      <td>CA-2018-100363</td>\n",
       "      <td>2018-04-08</td>\n",
       "      <td>Jim Mitchum</td>\n",
       "      <td>Glendale</td>\n",
       "      <td>Office Supplies</td>\n",
       "      <td>OFF-FA-10000611</td>\n",
       "      <td>2.368</td>\n",
       "      <td>0.8288</td>\n",
       "    </tr>\n",
       "    <tr>\n",
       "      <th>...</th>\n",
       "      <td>...</td>\n",
       "      <td>...</td>\n",
       "      <td>...</td>\n",
       "      <td>...</td>\n",
       "      <td>...</td>\n",
       "      <td>...</td>\n",
       "      <td>...</td>\n",
       "      <td>...</td>\n",
       "    </tr>\n",
       "    <tr>\n",
       "      <th>5004</th>\n",
       "      <td>US-2021-168802</td>\n",
       "      <td>2021-11-03</td>\n",
       "      <td>Jack O'Briant</td>\n",
       "      <td>Seattle</td>\n",
       "      <td>Office Supplies</td>\n",
       "      <td>OFF-BI-10002393</td>\n",
       "      <td>18.368</td>\n",
       "      <td>5.9696</td>\n",
       "    </tr>\n",
       "    <tr>\n",
       "      <th>5005</th>\n",
       "      <td>US-2021-169320</td>\n",
       "      <td>2021-07-23</td>\n",
       "      <td>Lena Hernandez</td>\n",
       "      <td>Elkhart</td>\n",
       "      <td>Office Supplies</td>\n",
       "      <td>OFF-AR-10003602</td>\n",
       "      <td>11.680</td>\n",
       "      <td>5.4896</td>\n",
       "    </tr>\n",
       "    <tr>\n",
       "      <th>5006</th>\n",
       "      <td>US-2021-169488</td>\n",
       "      <td>2021-09-07</td>\n",
       "      <td>Allen Armold</td>\n",
       "      <td>Providence</td>\n",
       "      <td>Office Supplies</td>\n",
       "      <td>OFF-PA-10000157</td>\n",
       "      <td>39.960</td>\n",
       "      <td>18.7812</td>\n",
       "    </tr>\n",
       "    <tr>\n",
       "      <th>5007</th>\n",
       "      <td>US-2021-169502</td>\n",
       "      <td>2021-08-28</td>\n",
       "      <td>Matthew Grinstein</td>\n",
       "      <td>Milwaukee</td>\n",
       "      <td>Office Supplies</td>\n",
       "      <td>OFF-AP-10001947</td>\n",
       "      <td>91.600</td>\n",
       "      <td>26.5640</td>\n",
       "    </tr>\n",
       "    <tr>\n",
       "      <th>5008</th>\n",
       "      <td>US-2021-169551</td>\n",
       "      <td>2021-07-07</td>\n",
       "      <td>Rob Lucas</td>\n",
       "      <td>Philadelphia</td>\n",
       "      <td>Furniture</td>\n",
       "      <td>FUR-BO-10001519</td>\n",
       "      <td>87.210</td>\n",
       "      <td>-45.3492</td>\n",
       "    </tr>\n",
       "  </tbody>\n",
       "</table>\n",
       "<p>5009 rows × 8 columns</p>\n",
       "</div>"
      ]
     },
     "metadata": {
      "application/vnd.databricks.v1+output": {
       "addedWidgets": {},
       "arguments": {},
       "data": "<div>\n<style scoped>\n    .dataframe tbody tr th:only-of-type {\n        vertical-align: middle;\n    }\n\n    .dataframe tbody tr th {\n        vertical-align: top;\n    }\n\n    .dataframe thead th {\n        text-align: right;\n    }\n</style>\n<table border=\"1\" class=\"dataframe\">\n  <thead>\n    <tr style=\"text-align: right;\">\n      <th></th>\n      <th>order_id</th>\n      <th>order_date</th>\n      <th>customer_name</th>\n      <th>city</th>\n      <th>category</th>\n      <th>product_id</th>\n      <th>sales</th>\n      <th>profit</th>\n    </tr>\n  </thead>\n  <tbody>\n    <tr>\n      <th>0</th>\n      <td>CA-2018-100006</td>\n      <td>2018-09-07</td>\n      <td>Dennis Kane</td>\n      <td>New York City</td>\n      <td>Technology</td>\n      <td>TEC-PH-10002075</td>\n      <td>377.970</td>\n      <td>109.6113</td>\n    </tr>\n    <tr>\n      <th>1</th>\n      <td>CA-2018-100090</td>\n      <td>2018-07-08</td>\n      <td>Ed Braxton</td>\n      <td>San Francisco</td>\n      <td>Furniture</td>\n      <td>FUR-TA-10003715</td>\n      <td>502.488</td>\n      <td>-87.9354</td>\n    </tr>\n    <tr>\n      <th>2</th>\n      <td>CA-2018-100293</td>\n      <td>2018-03-14</td>\n      <td>Neil Französisch</td>\n      <td>Jacksonville</td>\n      <td>Office Supplies</td>\n      <td>OFF-PA-10000176</td>\n      <td>91.056</td>\n      <td>31.8696</td>\n    </tr>\n    <tr>\n      <th>3</th>\n      <td>CA-2018-100328</td>\n      <td>2018-01-28</td>\n      <td>Jasper Cacioppo</td>\n      <td>New York City</td>\n      <td>Office Supplies</td>\n      <td>OFF-BI-10000343</td>\n      <td>3.928</td>\n      <td>1.3257</td>\n    </tr>\n    <tr>\n      <th>4</th>\n      <td>CA-2018-100363</td>\n      <td>2018-04-08</td>\n      <td>Jim Mitchum</td>\n      <td>Glendale</td>\n      <td>Office Supplies</td>\n      <td>OFF-FA-10000611</td>\n      <td>2.368</td>\n      <td>0.8288</td>\n    </tr>\n    <tr>\n      <th>...</th>\n      <td>...</td>\n      <td>...</td>\n      <td>...</td>\n      <td>...</td>\n      <td>...</td>\n      <td>...</td>\n      <td>...</td>\n      <td>...</td>\n    </tr>\n    <tr>\n      <th>5004</th>\n      <td>US-2021-168802</td>\n      <td>2021-11-03</td>\n      <td>Jack O'Briant</td>\n      <td>Seattle</td>\n      <td>Office Supplies</td>\n      <td>OFF-BI-10002393</td>\n      <td>18.368</td>\n      <td>5.9696</td>\n    </tr>\n    <tr>\n      <th>5005</th>\n      <td>US-2021-169320</td>\n      <td>2021-07-23</td>\n      <td>Lena Hernandez</td>\n      <td>Elkhart</td>\n      <td>Office Supplies</td>\n      <td>OFF-AR-10003602</td>\n      <td>11.680</td>\n      <td>5.4896</td>\n    </tr>\n    <tr>\n      <th>5006</th>\n      <td>US-2021-169488</td>\n      <td>2021-09-07</td>\n      <td>Allen Armold</td>\n      <td>Providence</td>\n      <td>Office Supplies</td>\n      <td>OFF-PA-10000157</td>\n      <td>39.960</td>\n      <td>18.7812</td>\n    </tr>\n    <tr>\n      <th>5007</th>\n      <td>US-2021-169502</td>\n      <td>2021-08-28</td>\n      <td>Matthew Grinstein</td>\n      <td>Milwaukee</td>\n      <td>Office Supplies</td>\n      <td>OFF-AP-10001947</td>\n      <td>91.600</td>\n      <td>26.5640</td>\n    </tr>\n    <tr>\n      <th>5008</th>\n      <td>US-2021-169551</td>\n      <td>2021-07-07</td>\n      <td>Rob Lucas</td>\n      <td>Philadelphia</td>\n      <td>Furniture</td>\n      <td>FUR-BO-10001519</td>\n      <td>87.210</td>\n      <td>-45.3492</td>\n    </tr>\n  </tbody>\n</table>\n<p>5009 rows × 8 columns</p>\n</div>",
       "datasetInfos": [],
       "metadata": {},
       "removedWidgets": [],
       "textData": null,
       "type": "htmlSandbox"
      }
     },
     "output_type": "display_data"
    }
   ],
   "source": [
    "# %fs cp dbfs:/FileStore/shared_uploads/zaderohish5@gmail.com/orders.txt file:/databricks/driver/\n",
    "df = pd.read_csv('file:/databricks/driver/orders.txt')\n",
    "df"
   ]
  },
  {
   "cell_type": "markdown",
   "metadata": {
    "application/vnd.databricks.v1+cell": {
     "cellMetadata": {},
     "inputWidgets": {},
     "nuid": "b4cc3e02-e51d-40b1-9c74-6759a57981b1",
     "showTitle": false,
     "title": ""
    }
   },
   "source": []
  },
  {
   "cell_type": "markdown",
   "metadata": {
    "application/vnd.databricks.v1+cell": {
     "cellMetadata": {},
     "inputWidgets": {},
     "nuid": "f45a38bd-fc48-47ab-9ed5-d0bc2ca0f4c1",
     "showTitle": false,
     "title": ""
    }
   },
   "source": []
  },
  {
   "cell_type": "markdown",
   "metadata": {
    "application/vnd.databricks.v1+cell": {
     "cellMetadata": {},
     "inputWidgets": {},
     "nuid": "ea8d0701-257d-4d93-b2df-f2ac82c11be2",
     "showTitle": false,
     "title": ""
    }
   },
   "source": [
    "#### 1. write a program to fetch all the orders with indexes  multiple of 100 eg : 100,200,300,400..... . Display order_id , category and sales columns"
   ]
  },
  {
   "cell_type": "code",
   "execution_count": 0,
   "metadata": {
    "application/vnd.databricks.v1+cell": {
     "cellMetadata": {
      "byteLimit": 2048000,
      "rowLimit": 10000
     },
     "inputWidgets": {},
     "nuid": "0208d644-ef6a-4b79-bf1b-d5c0bc8ceb8b",
     "showTitle": false,
     "title": ""
    }
   },
   "outputs": [
    {
     "output_type": "display_data",
     "data": {
      "text/html": [
       "<div>\n",
       "<style scoped>\n",
       "    .dataframe tbody tr th:only-of-type {\n",
       "        vertical-align: middle;\n",
       "    }\n",
       "\n",
       "    .dataframe tbody tr th {\n",
       "        vertical-align: top;\n",
       "    }\n",
       "\n",
       "    .dataframe thead th {\n",
       "        text-align: right;\n",
       "    }\n",
       "</style>\n",
       "<table border=\"1\" class=\"dataframe\">\n",
       "  <thead>\n",
       "    <tr style=\"text-align: right;\">\n",
       "      <th></th>\n",
       "      <th>order_id</th>\n",
       "      <th>category</th>\n",
       "      <th>sales</th>\n",
       "    </tr>\n",
       "  </thead>\n",
       "  <tbody>\n",
       "    <tr>\n",
       "      <th>100</th>\n",
       "      <td>CA-2018-107573</td>\n",
       "      <td>Office Supplies</td>\n",
       "      <td>23.472</td>\n",
       "    </tr>\n",
       "    <tr>\n",
       "      <th>200</th>\n",
       "      <td>CA-2018-115791</td>\n",
       "      <td>Furniture</td>\n",
       "      <td>127.104</td>\n",
       "    </tr>\n",
       "    <tr>\n",
       "      <th>300</th>\n",
       "      <td>CA-2018-124723</td>\n",
       "      <td>Furniture</td>\n",
       "      <td>489.230</td>\n",
       "    </tr>\n",
       "    <tr>\n",
       "      <th>400</th>\n",
       "      <td>CA-2018-132500</td>\n",
       "      <td>Technology</td>\n",
       "      <td>49.980</td>\n",
       "    </tr>\n",
       "    <tr>\n",
       "      <th>500</th>\n",
       "      <td>CA-2018-141110</td>\n",
       "      <td>Office Supplies</td>\n",
       "      <td>40.540</td>\n",
       "    </tr>\n",
       "    <tr>\n",
       "      <th>600</th>\n",
       "      <td>CA-2018-151078</td>\n",
       "      <td>Office Supplies</td>\n",
       "      <td>49.632</td>\n",
       "    </tr>\n",
       "    <tr>\n",
       "      <th>700</th>\n",
       "      <td>CA-2018-159814</td>\n",
       "      <td>Furniture</td>\n",
       "      <td>4.272</td>\n",
       "    </tr>\n",
       "    <tr>\n",
       "      <th>800</th>\n",
       "      <td>CA-2018-169649</td>\n",
       "      <td>Office Supplies</td>\n",
       "      <td>20.388</td>\n",
       "    </tr>\n",
       "    <tr>\n",
       "      <th>900</th>\n",
       "      <td>CA-2019-107902</td>\n",
       "      <td>Office Supplies</td>\n",
       "      <td>470.360</td>\n",
       "    </tr>\n",
       "    <tr>\n",
       "      <th>1000</th>\n",
       "      <td>CA-2019-114811</td>\n",
       "      <td>Furniture</td>\n",
       "      <td>577.764</td>\n",
       "    </tr>\n",
       "    <tr>\n",
       "      <th>1100</th>\n",
       "      <td>CA-2019-123092</td>\n",
       "      <td>Furniture</td>\n",
       "      <td>77.952</td>\n",
       "    </tr>\n",
       "    <tr>\n",
       "      <th>1200</th>\n",
       "      <td>CA-2019-130792</td>\n",
       "      <td>Office Supplies</td>\n",
       "      <td>8.652</td>\n",
       "    </tr>\n",
       "    <tr>\n",
       "      <th>1300</th>\n",
       "      <td>CA-2019-137708</td>\n",
       "      <td>Office Supplies</td>\n",
       "      <td>37.940</td>\n",
       "    </tr>\n",
       "    <tr>\n",
       "      <th>1400</th>\n",
       "      <td>CA-2019-145324</td>\n",
       "      <td>Furniture</td>\n",
       "      <td>39.960</td>\n",
       "    </tr>\n",
       "    <tr>\n",
       "      <th>1500</th>\n",
       "      <td>CA-2019-153388</td>\n",
       "      <td>Furniture</td>\n",
       "      <td>1004.976</td>\n",
       "    </tr>\n",
       "    <tr>\n",
       "      <th>1600</th>\n",
       "      <td>CA-2019-161445</td>\n",
       "      <td>Office Supplies</td>\n",
       "      <td>140.736</td>\n",
       "    </tr>\n",
       "    <tr>\n",
       "      <th>1700</th>\n",
       "      <td>CA-2020-100083</td>\n",
       "      <td>Office Supplies</td>\n",
       "      <td>24.784</td>\n",
       "    </tr>\n",
       "    <tr>\n",
       "      <th>1800</th>\n",
       "      <td>CA-2020-106558</td>\n",
       "      <td>Technology</td>\n",
       "      <td>316.000</td>\n",
       "    </tr>\n",
       "    <tr>\n",
       "      <th>1900</th>\n",
       "      <td>CA-2020-113082</td>\n",
       "      <td>Furniture</td>\n",
       "      <td>40.480</td>\n",
       "    </tr>\n",
       "    <tr>\n",
       "      <th>2000</th>\n",
       "      <td>CA-2020-119018</td>\n",
       "      <td>Office Supplies</td>\n",
       "      <td>4.176</td>\n",
       "    </tr>\n",
       "    <tr>\n",
       "      <th>2100</th>\n",
       "      <td>CA-2020-125815</td>\n",
       "      <td>Office Supplies</td>\n",
       "      <td>12.420</td>\n",
       "    </tr>\n",
       "    <tr>\n",
       "      <th>2200</th>\n",
       "      <td>CA-2020-132094</td>\n",
       "      <td>Office Supplies</td>\n",
       "      <td>5.472</td>\n",
       "    </tr>\n",
       "    <tr>\n",
       "      <th>2300</th>\n",
       "      <td>CA-2020-138968</td>\n",
       "      <td>Furniture</td>\n",
       "      <td>1352.032</td>\n",
       "    </tr>\n",
       "    <tr>\n",
       "      <th>2400</th>\n",
       "      <td>CA-2020-145583</td>\n",
       "      <td>Furniture</td>\n",
       "      <td>43.120</td>\n",
       "    </tr>\n",
       "    <tr>\n",
       "      <th>2500</th>\n",
       "      <td>CA-2020-152121</td>\n",
       "      <td>Technology</td>\n",
       "      <td>271.992</td>\n",
       "    </tr>\n",
       "    <tr>\n",
       "      <th>2600</th>\n",
       "      <td>CA-2020-158099</td>\n",
       "      <td>Office Supplies</td>\n",
       "      <td>1141.470</td>\n",
       "    </tr>\n",
       "    <tr>\n",
       "      <th>2700</th>\n",
       "      <td>CA-2020-163755</td>\n",
       "      <td>Furniture</td>\n",
       "      <td>209.880</td>\n",
       "    </tr>\n",
       "    <tr>\n",
       "      <th>2800</th>\n",
       "      <td>CA-2021-100111</td>\n",
       "      <td>Furniture</td>\n",
       "      <td>2254.410</td>\n",
       "    </tr>\n",
       "    <tr>\n",
       "      <th>2900</th>\n",
       "      <td>CA-2021-104577</td>\n",
       "      <td>Office Supplies</td>\n",
       "      <td>87.600</td>\n",
       "    </tr>\n",
       "    <tr>\n",
       "      <th>3000</th>\n",
       "      <td>CA-2021-108910</td>\n",
       "      <td>Furniture</td>\n",
       "      <td>103.056</td>\n",
       "    </tr>\n",
       "    <tr>\n",
       "      <th>3100</th>\n",
       "      <td>CA-2021-115448</td>\n",
       "      <td>Furniture</td>\n",
       "      <td>88.920</td>\n",
       "    </tr>\n",
       "    <tr>\n",
       "      <th>3200</th>\n",
       "      <td>CA-2021-120222</td>\n",
       "      <td>Office Supplies</td>\n",
       "      <td>73.344</td>\n",
       "    </tr>\n",
       "    <tr>\n",
       "      <th>3300</th>\n",
       "      <td>CA-2021-124576</td>\n",
       "      <td>Office Supplies</td>\n",
       "      <td>54.896</td>\n",
       "    </tr>\n",
       "    <tr>\n",
       "      <th>3400</th>\n",
       "      <td>CA-2021-129707</td>\n",
       "      <td>Office Supplies</td>\n",
       "      <td>8.896</td>\n",
       "    </tr>\n",
       "    <tr>\n",
       "      <th>3500</th>\n",
       "      <td>CA-2021-134796</td>\n",
       "      <td>Technology</td>\n",
       "      <td>148.480</td>\n",
       "    </tr>\n",
       "    <tr>\n",
       "      <th>3600</th>\n",
       "      <td>CA-2021-140242</td>\n",
       "      <td>Office Supplies</td>\n",
       "      <td>6.408</td>\n",
       "    </tr>\n",
       "    <tr>\n",
       "      <th>3700</th>\n",
       "      <td>CA-2021-144827</td>\n",
       "      <td>Office Supplies</td>\n",
       "      <td>124.360</td>\n",
       "    </tr>\n",
       "    <tr>\n",
       "      <th>3800</th>\n",
       "      <td>CA-2021-149853</td>\n",
       "      <td>Office Supplies</td>\n",
       "      <td>17.920</td>\n",
       "    </tr>\n",
       "    <tr>\n",
       "      <th>3900</th>\n",
       "      <td>CA-2021-155089</td>\n",
       "      <td>Office Supplies</td>\n",
       "      <td>45.660</td>\n",
       "    </tr>\n",
       "    <tr>\n",
       "      <th>4000</th>\n",
       "      <td>CA-2021-160325</td>\n",
       "      <td>Technology</td>\n",
       "      <td>391.980</td>\n",
       "    </tr>\n",
       "    <tr>\n",
       "      <th>4100</th>\n",
       "      <td>CA-2021-165008</td>\n",
       "      <td>Office Supplies</td>\n",
       "      <td>295.056</td>\n",
       "    </tr>\n",
       "    <tr>\n",
       "      <th>4200</th>\n",
       "      <td>US-2018-103338</td>\n",
       "      <td>Office Supplies</td>\n",
       "      <td>7.980</td>\n",
       "    </tr>\n",
       "    <tr>\n",
       "      <th>4300</th>\n",
       "      <td>US-2018-147648</td>\n",
       "      <td>Office Supplies</td>\n",
       "      <td>81.980</td>\n",
       "    </tr>\n",
       "    <tr>\n",
       "      <th>4400</th>\n",
       "      <td>US-2019-123218</td>\n",
       "      <td>Furniture</td>\n",
       "      <td>359.058</td>\n",
       "    </tr>\n",
       "    <tr>\n",
       "      <th>4500</th>\n",
       "      <td>US-2019-168732</td>\n",
       "      <td>Office Supplies</td>\n",
       "      <td>1.780</td>\n",
       "    </tr>\n",
       "    <tr>\n",
       "      <th>4600</th>\n",
       "      <td>US-2020-132577</td>\n",
       "      <td>Office Supplies</td>\n",
       "      <td>23.616</td>\n",
       "    </tr>\n",
       "    <tr>\n",
       "      <th>4700</th>\n",
       "      <td>US-2020-163258</td>\n",
       "      <td>Office Supplies</td>\n",
       "      <td>11.232</td>\n",
       "    </tr>\n",
       "    <tr>\n",
       "      <th>4800</th>\n",
       "      <td>US-2021-116701</td>\n",
       "      <td>Office Supplies</td>\n",
       "      <td>66.284</td>\n",
       "    </tr>\n",
       "    <tr>\n",
       "      <th>4900</th>\n",
       "      <td>US-2021-140074</td>\n",
       "      <td>Office Supplies</td>\n",
       "      <td>25.680</td>\n",
       "    </tr>\n",
       "    <tr>\n",
       "      <th>5000</th>\n",
       "      <td>US-2021-167920</td>\n",
       "      <td>Office Supplies</td>\n",
       "      <td>214.900</td>\n",
       "    </tr>\n",
       "  </tbody>\n",
       "</table>\n",
       "</div>"
      ]
     },
     "metadata": {
      "application/vnd.databricks.v1+output": {
       "addedWidgets": {},
       "arguments": {},
       "data": "<div>\n<style scoped>\n    .dataframe tbody tr th:only-of-type {\n        vertical-align: middle;\n    }\n\n    .dataframe tbody tr th {\n        vertical-align: top;\n    }\n\n    .dataframe thead th {\n        text-align: right;\n    }\n</style>\n<table border=\"1\" class=\"dataframe\">\n  <thead>\n    <tr style=\"text-align: right;\">\n      <th></th>\n      <th>order_id</th>\n      <th>category</th>\n      <th>sales</th>\n    </tr>\n  </thead>\n  <tbody>\n    <tr>\n      <th>100</th>\n      <td>CA-2018-107573</td>\n      <td>Office Supplies</td>\n      <td>23.472</td>\n    </tr>\n    <tr>\n      <th>200</th>\n      <td>CA-2018-115791</td>\n      <td>Furniture</td>\n      <td>127.104</td>\n    </tr>\n    <tr>\n      <th>300</th>\n      <td>CA-2018-124723</td>\n      <td>Furniture</td>\n      <td>489.230</td>\n    </tr>\n    <tr>\n      <th>400</th>\n      <td>CA-2018-132500</td>\n      <td>Technology</td>\n      <td>49.980</td>\n    </tr>\n    <tr>\n      <th>500</th>\n      <td>CA-2018-141110</td>\n      <td>Office Supplies</td>\n      <td>40.540</td>\n    </tr>\n    <tr>\n      <th>600</th>\n      <td>CA-2018-151078</td>\n      <td>Office Supplies</td>\n      <td>49.632</td>\n    </tr>\n    <tr>\n      <th>700</th>\n      <td>CA-2018-159814</td>\n      <td>Furniture</td>\n      <td>4.272</td>\n    </tr>\n    <tr>\n      <th>800</th>\n      <td>CA-2018-169649</td>\n      <td>Office Supplies</td>\n      <td>20.388</td>\n    </tr>\n    <tr>\n      <th>900</th>\n      <td>CA-2019-107902</td>\n      <td>Office Supplies</td>\n      <td>470.360</td>\n    </tr>\n    <tr>\n      <th>1000</th>\n      <td>CA-2019-114811</td>\n      <td>Furniture</td>\n      <td>577.764</td>\n    </tr>\n    <tr>\n      <th>1100</th>\n      <td>CA-2019-123092</td>\n      <td>Furniture</td>\n      <td>77.952</td>\n    </tr>\n    <tr>\n      <th>1200</th>\n      <td>CA-2019-130792</td>\n      <td>Office Supplies</td>\n      <td>8.652</td>\n    </tr>\n    <tr>\n      <th>1300</th>\n      <td>CA-2019-137708</td>\n      <td>Office Supplies</td>\n      <td>37.940</td>\n    </tr>\n    <tr>\n      <th>1400</th>\n      <td>CA-2019-145324</td>\n      <td>Furniture</td>\n      <td>39.960</td>\n    </tr>\n    <tr>\n      <th>1500</th>\n      <td>CA-2019-153388</td>\n      <td>Furniture</td>\n      <td>1004.976</td>\n    </tr>\n    <tr>\n      <th>1600</th>\n      <td>CA-2019-161445</td>\n      <td>Office Supplies</td>\n      <td>140.736</td>\n    </tr>\n    <tr>\n      <th>1700</th>\n      <td>CA-2020-100083</td>\n      <td>Office Supplies</td>\n      <td>24.784</td>\n    </tr>\n    <tr>\n      <th>1800</th>\n      <td>CA-2020-106558</td>\n      <td>Technology</td>\n      <td>316.000</td>\n    </tr>\n    <tr>\n      <th>1900</th>\n      <td>CA-2020-113082</td>\n      <td>Furniture</td>\n      <td>40.480</td>\n    </tr>\n    <tr>\n      <th>2000</th>\n      <td>CA-2020-119018</td>\n      <td>Office Supplies</td>\n      <td>4.176</td>\n    </tr>\n    <tr>\n      <th>2100</th>\n      <td>CA-2020-125815</td>\n      <td>Office Supplies</td>\n      <td>12.420</td>\n    </tr>\n    <tr>\n      <th>2200</th>\n      <td>CA-2020-132094</td>\n      <td>Office Supplies</td>\n      <td>5.472</td>\n    </tr>\n    <tr>\n      <th>2300</th>\n      <td>CA-2020-138968</td>\n      <td>Furniture</td>\n      <td>1352.032</td>\n    </tr>\n    <tr>\n      <th>2400</th>\n      <td>CA-2020-145583</td>\n      <td>Furniture</td>\n      <td>43.120</td>\n    </tr>\n    <tr>\n      <th>2500</th>\n      <td>CA-2020-152121</td>\n      <td>Technology</td>\n      <td>271.992</td>\n    </tr>\n    <tr>\n      <th>2600</th>\n      <td>CA-2020-158099</td>\n      <td>Office Supplies</td>\n      <td>1141.470</td>\n    </tr>\n    <tr>\n      <th>2700</th>\n      <td>CA-2020-163755</td>\n      <td>Furniture</td>\n      <td>209.880</td>\n    </tr>\n    <tr>\n      <th>2800</th>\n      <td>CA-2021-100111</td>\n      <td>Furniture</td>\n      <td>2254.410</td>\n    </tr>\n    <tr>\n      <th>2900</th>\n      <td>CA-2021-104577</td>\n      <td>Office Supplies</td>\n      <td>87.600</td>\n    </tr>\n    <tr>\n      <th>3000</th>\n      <td>CA-2021-108910</td>\n      <td>Furniture</td>\n      <td>103.056</td>\n    </tr>\n    <tr>\n      <th>3100</th>\n      <td>CA-2021-115448</td>\n      <td>Furniture</td>\n      <td>88.920</td>\n    </tr>\n    <tr>\n      <th>3200</th>\n      <td>CA-2021-120222</td>\n      <td>Office Supplies</td>\n      <td>73.344</td>\n    </tr>\n    <tr>\n      <th>3300</th>\n      <td>CA-2021-124576</td>\n      <td>Office Supplies</td>\n      <td>54.896</td>\n    </tr>\n    <tr>\n      <th>3400</th>\n      <td>CA-2021-129707</td>\n      <td>Office Supplies</td>\n      <td>8.896</td>\n    </tr>\n    <tr>\n      <th>3500</th>\n      <td>CA-2021-134796</td>\n      <td>Technology</td>\n      <td>148.480</td>\n    </tr>\n    <tr>\n      <th>3600</th>\n      <td>CA-2021-140242</td>\n      <td>Office Supplies</td>\n      <td>6.408</td>\n    </tr>\n    <tr>\n      <th>3700</th>\n      <td>CA-2021-144827</td>\n      <td>Office Supplies</td>\n      <td>124.360</td>\n    </tr>\n    <tr>\n      <th>3800</th>\n      <td>CA-2021-149853</td>\n      <td>Office Supplies</td>\n      <td>17.920</td>\n    </tr>\n    <tr>\n      <th>3900</th>\n      <td>CA-2021-155089</td>\n      <td>Office Supplies</td>\n      <td>45.660</td>\n    </tr>\n    <tr>\n      <th>4000</th>\n      <td>CA-2021-160325</td>\n      <td>Technology</td>\n      <td>391.980</td>\n    </tr>\n    <tr>\n      <th>4100</th>\n      <td>CA-2021-165008</td>\n      <td>Office Supplies</td>\n      <td>295.056</td>\n    </tr>\n    <tr>\n      <th>4200</th>\n      <td>US-2018-103338</td>\n      <td>Office Supplies</td>\n      <td>7.980</td>\n    </tr>\n    <tr>\n      <th>4300</th>\n      <td>US-2018-147648</td>\n      <td>Office Supplies</td>\n      <td>81.980</td>\n    </tr>\n    <tr>\n      <th>4400</th>\n      <td>US-2019-123218</td>\n      <td>Furniture</td>\n      <td>359.058</td>\n    </tr>\n    <tr>\n      <th>4500</th>\n      <td>US-2019-168732</td>\n      <td>Office Supplies</td>\n      <td>1.780</td>\n    </tr>\n    <tr>\n      <th>4600</th>\n      <td>US-2020-132577</td>\n      <td>Office Supplies</td>\n      <td>23.616</td>\n    </tr>\n    <tr>\n      <th>4700</th>\n      <td>US-2020-163258</td>\n      <td>Office Supplies</td>\n      <td>11.232</td>\n    </tr>\n    <tr>\n      <th>4800</th>\n      <td>US-2021-116701</td>\n      <td>Office Supplies</td>\n      <td>66.284</td>\n    </tr>\n    <tr>\n      <th>4900</th>\n      <td>US-2021-140074</td>\n      <td>Office Supplies</td>\n      <td>25.680</td>\n    </tr>\n    <tr>\n      <th>5000</th>\n      <td>US-2021-167920</td>\n      <td>Office Supplies</td>\n      <td>214.900</td>\n    </tr>\n  </tbody>\n</table>\n</div>",
       "datasetInfos": [],
       "metadata": {},
       "removedWidgets": [],
       "textData": null,
       "type": "htmlSandbox"
      }
     },
     "output_type": "display_data"
    }
   ],
   "source": [
    "cols = ['order_id', 'category', 'sales']\n",
    "df.loc[100::100, cols]"
   ]
  },
  {
   "cell_type": "markdown",
   "metadata": {
    "application/vnd.databricks.v1+cell": {
     "cellMetadata": {},
     "inputWidgets": {},
     "nuid": "a08083c7-b5f2-4478-b527-a13377267d29",
     "showTitle": false,
     "title": ""
    }
   },
   "source": []
  },
  {
   "cell_type": "markdown",
   "metadata": {
    "application/vnd.databricks.v1+cell": {
     "cellMetadata": {},
     "inputWidgets": {},
     "nuid": "c03559bf-d3d3-460f-b6f3-4d2c0bf19e34",
     "showTitle": false,
     "title": ""
    }
   },
   "source": []
  },
  {
   "cell_type": "markdown",
   "metadata": {
    "application/vnd.databricks.v1+cell": {
     "cellMetadata": {},
     "inputWidgets": {},
     "nuid": "aff35589-5fb4-4ac6-9441-0e1e75cf5f21",
     "showTitle": false,
     "title": ""
    }
   },
   "source": [
    "#### 2. write a program to find all orders in furniture category with sales amount between 1000 and 1200"
   ]
  },
  {
   "cell_type": "code",
   "execution_count": 0,
   "metadata": {
    "application/vnd.databricks.v1+cell": {
     "cellMetadata": {
      "byteLimit": 2048000,
      "rowLimit": 10000
     },
     "inputWidgets": {},
     "nuid": "ff01740b-6101-466f-9147-97d6895dd313",
     "showTitle": false,
     "title": ""
    }
   },
   "outputs": [
    {
     "output_type": "display_data",
     "data": {
      "text/html": [
       "<div>\n",
       "<style scoped>\n",
       "    .dataframe tbody tr th:only-of-type {\n",
       "        vertical-align: middle;\n",
       "    }\n",
       "\n",
       "    .dataframe tbody tr th {\n",
       "        vertical-align: top;\n",
       "    }\n",
       "\n",
       "    .dataframe thead th {\n",
       "        text-align: right;\n",
       "    }\n",
       "</style>\n",
       "<table border=\"1\" class=\"dataframe\">\n",
       "  <thead>\n",
       "    <tr style=\"text-align: right;\">\n",
       "      <th></th>\n",
       "      <th>order_id</th>\n",
       "      <th>order_date</th>\n",
       "      <th>customer_name</th>\n",
       "      <th>city</th>\n",
       "      <th>category</th>\n",
       "      <th>product_id</th>\n",
       "      <th>sales</th>\n",
       "      <th>profit</th>\n",
       "    </tr>\n",
       "  </thead>\n",
       "  <tbody>\n",
       "    <tr>\n",
       "      <th>155</th>\n",
       "      <td>CA-2018-111871</td>\n",
       "      <td>2018-03-18</td>\n",
       "      <td>Eileen Kiefer</td>\n",
       "      <td>San Francisco</td>\n",
       "      <td>Furniture</td>\n",
       "      <td>FUR-BO-10004218</td>\n",
       "      <td>1198.330</td>\n",
       "      <td>70.4900</td>\n",
       "    </tr>\n",
       "    <tr>\n",
       "      <th>374</th>\n",
       "      <td>CA-2018-130428</td>\n",
       "      <td>2018-03-31</td>\n",
       "      <td>Trudy Glocke</td>\n",
       "      <td>Tampa</td>\n",
       "      <td>Furniture</td>\n",
       "      <td>FUR-CH-10002965</td>\n",
       "      <td>1125.488</td>\n",
       "      <td>98.4802</td>\n",
       "    </tr>\n",
       "    <tr>\n",
       "      <th>631</th>\n",
       "      <td>CA-2018-153913</td>\n",
       "      <td>2018-12-16</td>\n",
       "      <td>Ken Black</td>\n",
       "      <td>Hialeah</td>\n",
       "      <td>Furniture</td>\n",
       "      <td>FUR-CH-10000988</td>\n",
       "      <td>1013.832</td>\n",
       "      <td>101.3832</td>\n",
       "    </tr>\n",
       "    <tr>\n",
       "      <th>834</th>\n",
       "      <td>CA-2019-102582</td>\n",
       "      <td>2019-09-15</td>\n",
       "      <td>Natalie Webber</td>\n",
       "      <td>Mobile</td>\n",
       "      <td>Furniture</td>\n",
       "      <td>FUR-CH-10004853</td>\n",
       "      <td>1056.860</td>\n",
       "      <td>306.4894</td>\n",
       "    </tr>\n",
       "    <tr>\n",
       "      <th>890</th>\n",
       "      <td>CA-2019-106320</td>\n",
       "      <td>2019-09-25</td>\n",
       "      <td>Emily Burns</td>\n",
       "      <td>Orem</td>\n",
       "      <td>Furniture</td>\n",
       "      <td>FUR-TA-10000577</td>\n",
       "      <td>1044.630</td>\n",
       "      <td>240.2649</td>\n",
       "    </tr>\n",
       "    <tr>\n",
       "      <th>924</th>\n",
       "      <td>CA-2019-110016</td>\n",
       "      <td>2019-11-29</td>\n",
       "      <td>Bill Tyler</td>\n",
       "      <td>Detroit</td>\n",
       "      <td>Furniture</td>\n",
       "      <td>FUR-CH-10002880</td>\n",
       "      <td>1106.910</td>\n",
       "      <td>121.7601</td>\n",
       "    </tr>\n",
       "    <tr>\n",
       "      <th>1084</th>\n",
       "      <td>CA-2019-121720</td>\n",
       "      <td>2019-06-11</td>\n",
       "      <td>Jim Epp</td>\n",
       "      <td>Lakeland</td>\n",
       "      <td>Furniture</td>\n",
       "      <td>FUR-CH-10003312</td>\n",
       "      <td>1123.920</td>\n",
       "      <td>-182.6370</td>\n",
       "    </tr>\n",
       "    <tr>\n",
       "      <th>1120</th>\n",
       "      <td>CA-2019-124891</td>\n",
       "      <td>2019-07-31</td>\n",
       "      <td>Rick Hansen</td>\n",
       "      <td>New York City</td>\n",
       "      <td>Furniture</td>\n",
       "      <td>FUR-TA-10002903</td>\n",
       "      <td>1090.782</td>\n",
       "      <td>-290.8752</td>\n",
       "    </tr>\n",
       "    <tr>\n",
       "      <th>1155</th>\n",
       "      <td>CA-2019-127509</td>\n",
       "      <td>2019-11-09</td>\n",
       "      <td>Adam Shillingsburg</td>\n",
       "      <td>Springfield</td>\n",
       "      <td>Furniture</td>\n",
       "      <td>FUR-TA-10002855</td>\n",
       "      <td>1024.380</td>\n",
       "      <td>215.1198</td>\n",
       "    </tr>\n",
       "    <tr>\n",
       "      <th>1205</th>\n",
       "      <td>CA-2019-130890</td>\n",
       "      <td>2019-11-02</td>\n",
       "      <td>Jas O'Carroll</td>\n",
       "      <td>Los Angeles</td>\n",
       "      <td>Furniture</td>\n",
       "      <td>FUR-TA-10002903</td>\n",
       "      <td>1038.840</td>\n",
       "      <td>51.9420</td>\n",
       "    </tr>\n",
       "    <tr>\n",
       "      <th>1500</th>\n",
       "      <td>CA-2019-153388</td>\n",
       "      <td>2019-08-01</td>\n",
       "      <td>Pauline Chand</td>\n",
       "      <td>Los Angeles</td>\n",
       "      <td>Furniture</td>\n",
       "      <td>FUR-TA-10003715</td>\n",
       "      <td>1004.976</td>\n",
       "      <td>-175.8708</td>\n",
       "    </tr>\n",
       "    <tr>\n",
       "      <th>1504</th>\n",
       "      <td>CA-2019-153549</td>\n",
       "      <td>2019-03-29</td>\n",
       "      <td>Sara Luxemburg</td>\n",
       "      <td>Jacksonville</td>\n",
       "      <td>Furniture</td>\n",
       "      <td>FUR-CH-10004086</td>\n",
       "      <td>1166.920</td>\n",
       "      <td>131.2785</td>\n",
       "    </tr>\n",
       "    <tr>\n",
       "      <th>1737</th>\n",
       "      <td>CA-2020-102092</td>\n",
       "      <td>2020-12-09</td>\n",
       "      <td>Paul MacIntyre</td>\n",
       "      <td>Springfield</td>\n",
       "      <td>Furniture</td>\n",
       "      <td>FUR-TA-10002530</td>\n",
       "      <td>1056.860</td>\n",
       "      <td>158.5290</td>\n",
       "    </tr>\n",
       "    <tr>\n",
       "      <th>1950</th>\n",
       "      <td>CA-2020-115917</td>\n",
       "      <td>2020-05-20</td>\n",
       "      <td>Rick Bensley</td>\n",
       "      <td>Vallejo</td>\n",
       "      <td>Furniture</td>\n",
       "      <td>FUR-FU-10000576</td>\n",
       "      <td>1049.200</td>\n",
       "      <td>272.7920</td>\n",
       "    </tr>\n",
       "    <tr>\n",
       "      <th>1965</th>\n",
       "      <td>CA-2020-116911</td>\n",
       "      <td>2020-09-15</td>\n",
       "      <td>Justin Deggeller</td>\n",
       "      <td>Twin Falls</td>\n",
       "      <td>Furniture</td>\n",
       "      <td>FUR-TA-10003473</td>\n",
       "      <td>1128.390</td>\n",
       "      <td>259.5297</td>\n",
       "    </tr>\n",
       "    <tr>\n",
       "      <th>2069</th>\n",
       "      <td>CA-2020-123946</td>\n",
       "      <td>2020-09-12</td>\n",
       "      <td>Anthony Johnson</td>\n",
       "      <td>Springfield</td>\n",
       "      <td>Furniture</td>\n",
       "      <td>FUR-CH-10002073</td>\n",
       "      <td>1059.120</td>\n",
       "      <td>307.1448</td>\n",
       "    </tr>\n",
       "    <tr>\n",
       "      <th>2202</th>\n",
       "      <td>CA-2020-132304</td>\n",
       "      <td>2020-06-14</td>\n",
       "      <td>Anthony Rawles</td>\n",
       "      <td>Seattle</td>\n",
       "      <td>Furniture</td>\n",
       "      <td>FUR-TA-10004619</td>\n",
       "      <td>1115.170</td>\n",
       "      <td>334.5510</td>\n",
       "    </tr>\n",
       "    <tr>\n",
       "      <th>2263</th>\n",
       "      <td>CA-2020-136406</td>\n",
       "      <td>2020-04-15</td>\n",
       "      <td>Bill Donatelli</td>\n",
       "      <td>San Francisco</td>\n",
       "      <td>Furniture</td>\n",
       "      <td>FUR-CH-10002024</td>\n",
       "      <td>1121.568</td>\n",
       "      <td>0.0000</td>\n",
       "    </tr>\n",
       "    <tr>\n",
       "      <th>2360</th>\n",
       "      <td>CA-2020-142958</td>\n",
       "      <td>2020-12-13</td>\n",
       "      <td>Rob Williams</td>\n",
       "      <td>Torrance</td>\n",
       "      <td>Furniture</td>\n",
       "      <td>FUR-TA-10000577</td>\n",
       "      <td>1114.272</td>\n",
       "      <td>41.7852</td>\n",
       "    </tr>\n",
       "    <tr>\n",
       "      <th>2505</th>\n",
       "      <td>CA-2020-152289</td>\n",
       "      <td>2020-08-26</td>\n",
       "      <td>Linda Cazamias</td>\n",
       "      <td>Pasadena</td>\n",
       "      <td>Furniture</td>\n",
       "      <td>FUR-CH-10002126</td>\n",
       "      <td>1024.716</td>\n",
       "      <td>-29.2776</td>\n",
       "    </tr>\n",
       "    <tr>\n",
       "      <th>2561</th>\n",
       "      <td>CA-2020-155516</td>\n",
       "      <td>2020-10-21</td>\n",
       "      <td>Michael Kennedy</td>\n",
       "      <td>Manchester</td>\n",
       "      <td>Furniture</td>\n",
       "      <td>FUR-BO-10002545</td>\n",
       "      <td>1043.920</td>\n",
       "      <td>271.4192</td>\n",
       "    </tr>\n",
       "    <tr>\n",
       "      <th>2856</th>\n",
       "      <td>CA-2021-102379</td>\n",
       "      <td>2021-12-02</td>\n",
       "      <td>Brenda Bowman</td>\n",
       "      <td>Oakland</td>\n",
       "      <td>Furniture</td>\n",
       "      <td>FUR-CH-10004983</td>\n",
       "      <td>1159.056</td>\n",
       "      <td>43.4646</td>\n",
       "    </tr>\n",
       "    <tr>\n",
       "      <th>3102</th>\n",
       "      <td>CA-2021-115602</td>\n",
       "      <td>2021-12-18</td>\n",
       "      <td>Doug Jacobs</td>\n",
       "      <td>New York City</td>\n",
       "      <td>Furniture</td>\n",
       "      <td>FUR-CH-10001708</td>\n",
       "      <td>1141.938</td>\n",
       "      <td>139.5702</td>\n",
       "    </tr>\n",
       "    <tr>\n",
       "      <th>3150</th>\n",
       "      <td>CA-2021-117702</td>\n",
       "      <td>2021-11-28</td>\n",
       "      <td>Lindsay Shagiari</td>\n",
       "      <td>Baltimore</td>\n",
       "      <td>Furniture</td>\n",
       "      <td>FUR-FU-10000576</td>\n",
       "      <td>1049.200</td>\n",
       "      <td>272.7920</td>\n",
       "    </tr>\n",
       "    <tr>\n",
       "      <th>3326</th>\n",
       "      <td>CA-2021-126067</td>\n",
       "      <td>2021-08-28</td>\n",
       "      <td>Kristina Nunn</td>\n",
       "      <td>Seattle</td>\n",
       "      <td>Furniture</td>\n",
       "      <td>FUR-TA-10000617</td>\n",
       "      <td>1137.750</td>\n",
       "      <td>250.3050</td>\n",
       "    </tr>\n",
       "    <tr>\n",
       "      <th>3644</th>\n",
       "      <td>CA-2021-142342</td>\n",
       "      <td>2021-07-17</td>\n",
       "      <td>Anthony Johnson</td>\n",
       "      <td>Apple Valley</td>\n",
       "      <td>Furniture</td>\n",
       "      <td>FUR-BO-10002613</td>\n",
       "      <td>1194.165</td>\n",
       "      <td>210.7350</td>\n",
       "    </tr>\n",
       "    <tr>\n",
       "      <th>3689</th>\n",
       "      <td>CA-2021-144491</td>\n",
       "      <td>2021-03-27</td>\n",
       "      <td>Caroline Jumper</td>\n",
       "      <td>Houston</td>\n",
       "      <td>Furniture</td>\n",
       "      <td>FUR-BO-10001811</td>\n",
       "      <td>1023.332</td>\n",
       "      <td>-30.0980</td>\n",
       "    </tr>\n",
       "    <tr>\n",
       "      <th>4238</th>\n",
       "      <td>US-2018-117968</td>\n",
       "      <td>2018-08-05</td>\n",
       "      <td>Ricardo Sperren</td>\n",
       "      <td>Meriden</td>\n",
       "      <td>Furniture</td>\n",
       "      <td>FUR-CH-10002335</td>\n",
       "      <td>1133.350</td>\n",
       "      <td>294.6710</td>\n",
       "    </tr>\n",
       "    <tr>\n",
       "      <th>4251</th>\n",
       "      <td>US-2018-123183</td>\n",
       "      <td>2018-11-19</td>\n",
       "      <td>Georgia Rosenberg</td>\n",
       "      <td>Wilmington</td>\n",
       "      <td>Furniture</td>\n",
       "      <td>FUR-BO-10000362</td>\n",
       "      <td>1025.880</td>\n",
       "      <td>235.9524</td>\n",
       "    </tr>\n",
       "    <tr>\n",
       "      <th>4254</th>\n",
       "      <td>US-2018-125521</td>\n",
       "      <td>2018-03-14</td>\n",
       "      <td>Christine Kargatis</td>\n",
       "      <td>Chesapeake</td>\n",
       "      <td>Furniture</td>\n",
       "      <td>FUR-CH-10003379</td>\n",
       "      <td>1139.920</td>\n",
       "      <td>284.9800</td>\n",
       "    </tr>\n",
       "    <tr>\n",
       "      <th>4279</th>\n",
       "      <td>US-2018-137869</td>\n",
       "      <td>2018-03-28</td>\n",
       "      <td>Christina VanderZanden</td>\n",
       "      <td>Des Moines</td>\n",
       "      <td>Furniture</td>\n",
       "      <td>FUR-TA-10003954</td>\n",
       "      <td>1184.720</td>\n",
       "      <td>106.6248</td>\n",
       "    </tr>\n",
       "    <tr>\n",
       "      <th>4299</th>\n",
       "      <td>US-2018-147627</td>\n",
       "      <td>2018-01-20</td>\n",
       "      <td>Hunter Lopez</td>\n",
       "      <td>Jonesboro</td>\n",
       "      <td>Furniture</td>\n",
       "      <td>FUR-CH-10002331</td>\n",
       "      <td>1067.940</td>\n",
       "      <td>224.2674</td>\n",
       "    </tr>\n",
       "    <tr>\n",
       "      <th>4304</th>\n",
       "      <td>US-2018-148838</td>\n",
       "      <td>2018-03-17</td>\n",
       "      <td>Christine Phan</td>\n",
       "      <td>New York City</td>\n",
       "      <td>Furniture</td>\n",
       "      <td>FUR-TA-10001950</td>\n",
       "      <td>1071.576</td>\n",
       "      <td>-553.6476</td>\n",
       "    </tr>\n",
       "    <tr>\n",
       "      <th>4423</th>\n",
       "      <td>US-2019-134558</td>\n",
       "      <td>2019-12-19</td>\n",
       "      <td>Peter McVee</td>\n",
       "      <td>Dover</td>\n",
       "      <td>Furniture</td>\n",
       "      <td>FUR-TA-10003473</td>\n",
       "      <td>1053.164</td>\n",
       "      <td>-105.3164</td>\n",
       "    </tr>\n",
       "    <tr>\n",
       "      <th>4471</th>\n",
       "      <td>US-2019-157154</td>\n",
       "      <td>2019-01-10</td>\n",
       "      <td>Michael Moore</td>\n",
       "      <td>New York City</td>\n",
       "      <td>Furniture</td>\n",
       "      <td>FUR-TA-10001889</td>\n",
       "      <td>1018.104</td>\n",
       "      <td>-373.3048</td>\n",
       "    </tr>\n",
       "    <tr>\n",
       "      <th>4713</th>\n",
       "      <td>US-2020-167339</td>\n",
       "      <td>2020-01-21</td>\n",
       "      <td>Tamara Dahlen</td>\n",
       "      <td>San Diego</td>\n",
       "      <td>Furniture</td>\n",
       "      <td>FUR-CH-10000785</td>\n",
       "      <td>1013.488</td>\n",
       "      <td>76.0116</td>\n",
       "    </tr>\n",
       "    <tr>\n",
       "      <th>4733</th>\n",
       "      <td>US-2021-102890</td>\n",
       "      <td>2021-06-30</td>\n",
       "      <td>Sheri Gordon</td>\n",
       "      <td>New York City</td>\n",
       "      <td>Furniture</td>\n",
       "      <td>FUR-TA-10000577</td>\n",
       "      <td>1044.630</td>\n",
       "      <td>-295.9785</td>\n",
       "    </tr>\n",
       "    <tr>\n",
       "      <th>4773</th>\n",
       "      <td>US-2021-110576</td>\n",
       "      <td>2021-11-28</td>\n",
       "      <td>Ross Baird</td>\n",
       "      <td>Philadelphia</td>\n",
       "      <td>Furniture</td>\n",
       "      <td>FUR-FU-10000576</td>\n",
       "      <td>1007.232</td>\n",
       "      <td>75.5424</td>\n",
       "    </tr>\n",
       "    <tr>\n",
       "      <th>4985</th>\n",
       "      <td>US-2021-164056</td>\n",
       "      <td>2021-04-29</td>\n",
       "      <td>Filia McAdams</td>\n",
       "      <td>Dublin</td>\n",
       "      <td>Furniture</td>\n",
       "      <td>FUR-TA-10001307</td>\n",
       "      <td>1048.350</td>\n",
       "      <td>-69.8900</td>\n",
       "    </tr>\n",
       "    <tr>\n",
       "      <th>4989</th>\n",
       "      <td>US-2021-165456</td>\n",
       "      <td>2021-11-30</td>\n",
       "      <td>Trudy Brown</td>\n",
       "      <td>Philadelphia</td>\n",
       "      <td>Furniture</td>\n",
       "      <td>FUR-CH-10003981</td>\n",
       "      <td>1079.316</td>\n",
       "      <td>-15.4188</td>\n",
       "    </tr>\n",
       "  </tbody>\n",
       "</table>\n",
       "</div>"
      ]
     },
     "metadata": {
      "application/vnd.databricks.v1+output": {
       "addedWidgets": {},
       "arguments": {},
       "data": "<div>\n<style scoped>\n    .dataframe tbody tr th:only-of-type {\n        vertical-align: middle;\n    }\n\n    .dataframe tbody tr th {\n        vertical-align: top;\n    }\n\n    .dataframe thead th {\n        text-align: right;\n    }\n</style>\n<table border=\"1\" class=\"dataframe\">\n  <thead>\n    <tr style=\"text-align: right;\">\n      <th></th>\n      <th>order_id</th>\n      <th>order_date</th>\n      <th>customer_name</th>\n      <th>city</th>\n      <th>category</th>\n      <th>product_id</th>\n      <th>sales</th>\n      <th>profit</th>\n    </tr>\n  </thead>\n  <tbody>\n    <tr>\n      <th>155</th>\n      <td>CA-2018-111871</td>\n      <td>2018-03-18</td>\n      <td>Eileen Kiefer</td>\n      <td>San Francisco</td>\n      <td>Furniture</td>\n      <td>FUR-BO-10004218</td>\n      <td>1198.330</td>\n      <td>70.4900</td>\n    </tr>\n    <tr>\n      <th>374</th>\n      <td>CA-2018-130428</td>\n      <td>2018-03-31</td>\n      <td>Trudy Glocke</td>\n      <td>Tampa</td>\n      <td>Furniture</td>\n      <td>FUR-CH-10002965</td>\n      <td>1125.488</td>\n      <td>98.4802</td>\n    </tr>\n    <tr>\n      <th>631</th>\n      <td>CA-2018-153913</td>\n      <td>2018-12-16</td>\n      <td>Ken Black</td>\n      <td>Hialeah</td>\n      <td>Furniture</td>\n      <td>FUR-CH-10000988</td>\n      <td>1013.832</td>\n      <td>101.3832</td>\n    </tr>\n    <tr>\n      <th>834</th>\n      <td>CA-2019-102582</td>\n      <td>2019-09-15</td>\n      <td>Natalie Webber</td>\n      <td>Mobile</td>\n      <td>Furniture</td>\n      <td>FUR-CH-10004853</td>\n      <td>1056.860</td>\n      <td>306.4894</td>\n    </tr>\n    <tr>\n      <th>890</th>\n      <td>CA-2019-106320</td>\n      <td>2019-09-25</td>\n      <td>Emily Burns</td>\n      <td>Orem</td>\n      <td>Furniture</td>\n      <td>FUR-TA-10000577</td>\n      <td>1044.630</td>\n      <td>240.2649</td>\n    </tr>\n    <tr>\n      <th>924</th>\n      <td>CA-2019-110016</td>\n      <td>2019-11-29</td>\n      <td>Bill Tyler</td>\n      <td>Detroit</td>\n      <td>Furniture</td>\n      <td>FUR-CH-10002880</td>\n      <td>1106.910</td>\n      <td>121.7601</td>\n    </tr>\n    <tr>\n      <th>1084</th>\n      <td>CA-2019-121720</td>\n      <td>2019-06-11</td>\n      <td>Jim Epp</td>\n      <td>Lakeland</td>\n      <td>Furniture</td>\n      <td>FUR-CH-10003312</td>\n      <td>1123.920</td>\n      <td>-182.6370</td>\n    </tr>\n    <tr>\n      <th>1120</th>\n      <td>CA-2019-124891</td>\n      <td>2019-07-31</td>\n      <td>Rick Hansen</td>\n      <td>New York City</td>\n      <td>Furniture</td>\n      <td>FUR-TA-10002903</td>\n      <td>1090.782</td>\n      <td>-290.8752</td>\n    </tr>\n    <tr>\n      <th>1155</th>\n      <td>CA-2019-127509</td>\n      <td>2019-11-09</td>\n      <td>Adam Shillingsburg</td>\n      <td>Springfield</td>\n      <td>Furniture</td>\n      <td>FUR-TA-10002855</td>\n      <td>1024.380</td>\n      <td>215.1198</td>\n    </tr>\n    <tr>\n      <th>1205</th>\n      <td>CA-2019-130890</td>\n      <td>2019-11-02</td>\n      <td>Jas O'Carroll</td>\n      <td>Los Angeles</td>\n      <td>Furniture</td>\n      <td>FUR-TA-10002903</td>\n      <td>1038.840</td>\n      <td>51.9420</td>\n    </tr>\n    <tr>\n      <th>1500</th>\n      <td>CA-2019-153388</td>\n      <td>2019-08-01</td>\n      <td>Pauline Chand</td>\n      <td>Los Angeles</td>\n      <td>Furniture</td>\n      <td>FUR-TA-10003715</td>\n      <td>1004.976</td>\n      <td>-175.8708</td>\n    </tr>\n    <tr>\n      <th>1504</th>\n      <td>CA-2019-153549</td>\n      <td>2019-03-29</td>\n      <td>Sara Luxemburg</td>\n      <td>Jacksonville</td>\n      <td>Furniture</td>\n      <td>FUR-CH-10004086</td>\n      <td>1166.920</td>\n      <td>131.2785</td>\n    </tr>\n    <tr>\n      <th>1737</th>\n      <td>CA-2020-102092</td>\n      <td>2020-12-09</td>\n      <td>Paul MacIntyre</td>\n      <td>Springfield</td>\n      <td>Furniture</td>\n      <td>FUR-TA-10002530</td>\n      <td>1056.860</td>\n      <td>158.5290</td>\n    </tr>\n    <tr>\n      <th>1950</th>\n      <td>CA-2020-115917</td>\n      <td>2020-05-20</td>\n      <td>Rick Bensley</td>\n      <td>Vallejo</td>\n      <td>Furniture</td>\n      <td>FUR-FU-10000576</td>\n      <td>1049.200</td>\n      <td>272.7920</td>\n    </tr>\n    <tr>\n      <th>1965</th>\n      <td>CA-2020-116911</td>\n      <td>2020-09-15</td>\n      <td>Justin Deggeller</td>\n      <td>Twin Falls</td>\n      <td>Furniture</td>\n      <td>FUR-TA-10003473</td>\n      <td>1128.390</td>\n      <td>259.5297</td>\n    </tr>\n    <tr>\n      <th>2069</th>\n      <td>CA-2020-123946</td>\n      <td>2020-09-12</td>\n      <td>Anthony Johnson</td>\n      <td>Springfield</td>\n      <td>Furniture</td>\n      <td>FUR-CH-10002073</td>\n      <td>1059.120</td>\n      <td>307.1448</td>\n    </tr>\n    <tr>\n      <th>2202</th>\n      <td>CA-2020-132304</td>\n      <td>2020-06-14</td>\n      <td>Anthony Rawles</td>\n      <td>Seattle</td>\n      <td>Furniture</td>\n      <td>FUR-TA-10004619</td>\n      <td>1115.170</td>\n      <td>334.5510</td>\n    </tr>\n    <tr>\n      <th>2263</th>\n      <td>CA-2020-136406</td>\n      <td>2020-04-15</td>\n      <td>Bill Donatelli</td>\n      <td>San Francisco</td>\n      <td>Furniture</td>\n      <td>FUR-CH-10002024</td>\n      <td>1121.568</td>\n      <td>0.0000</td>\n    </tr>\n    <tr>\n      <th>2360</th>\n      <td>CA-2020-142958</td>\n      <td>2020-12-13</td>\n      <td>Rob Williams</td>\n      <td>Torrance</td>\n      <td>Furniture</td>\n      <td>FUR-TA-10000577</td>\n      <td>1114.272</td>\n      <td>41.7852</td>\n    </tr>\n    <tr>\n      <th>2505</th>\n      <td>CA-2020-152289</td>\n      <td>2020-08-26</td>\n      <td>Linda Cazamias</td>\n      <td>Pasadena</td>\n      <td>Furniture</td>\n      <td>FUR-CH-10002126</td>\n      <td>1024.716</td>\n      <td>-29.2776</td>\n    </tr>\n    <tr>\n      <th>2561</th>\n      <td>CA-2020-155516</td>\n      <td>2020-10-21</td>\n      <td>Michael Kennedy</td>\n      <td>Manchester</td>\n      <td>Furniture</td>\n      <td>FUR-BO-10002545</td>\n      <td>1043.920</td>\n      <td>271.4192</td>\n    </tr>\n    <tr>\n      <th>2856</th>\n      <td>CA-2021-102379</td>\n      <td>2021-12-02</td>\n      <td>Brenda Bowman</td>\n      <td>Oakland</td>\n      <td>Furniture</td>\n      <td>FUR-CH-10004983</td>\n      <td>1159.056</td>\n      <td>43.4646</td>\n    </tr>\n    <tr>\n      <th>3102</th>\n      <td>CA-2021-115602</td>\n      <td>2021-12-18</td>\n      <td>Doug Jacobs</td>\n      <td>New York City</td>\n      <td>Furniture</td>\n      <td>FUR-CH-10001708</td>\n      <td>1141.938</td>\n      <td>139.5702</td>\n    </tr>\n    <tr>\n      <th>3150</th>\n      <td>CA-2021-117702</td>\n      <td>2021-11-28</td>\n      <td>Lindsay Shagiari</td>\n      <td>Baltimore</td>\n      <td>Furniture</td>\n      <td>FUR-FU-10000576</td>\n      <td>1049.200</td>\n      <td>272.7920</td>\n    </tr>\n    <tr>\n      <th>3326</th>\n      <td>CA-2021-126067</td>\n      <td>2021-08-28</td>\n      <td>Kristina Nunn</td>\n      <td>Seattle</td>\n      <td>Furniture</td>\n      <td>FUR-TA-10000617</td>\n      <td>1137.750</td>\n      <td>250.3050</td>\n    </tr>\n    <tr>\n      <th>3644</th>\n      <td>CA-2021-142342</td>\n      <td>2021-07-17</td>\n      <td>Anthony Johnson</td>\n      <td>Apple Valley</td>\n      <td>Furniture</td>\n      <td>FUR-BO-10002613</td>\n      <td>1194.165</td>\n      <td>210.7350</td>\n    </tr>\n    <tr>\n      <th>3689</th>\n      <td>CA-2021-144491</td>\n      <td>2021-03-27</td>\n      <td>Caroline Jumper</td>\n      <td>Houston</td>\n      <td>Furniture</td>\n      <td>FUR-BO-10001811</td>\n      <td>1023.332</td>\n      <td>-30.0980</td>\n    </tr>\n    <tr>\n      <th>4238</th>\n      <td>US-2018-117968</td>\n      <td>2018-08-05</td>\n      <td>Ricardo Sperren</td>\n      <td>Meriden</td>\n      <td>Furniture</td>\n      <td>FUR-CH-10002335</td>\n      <td>1133.350</td>\n      <td>294.6710</td>\n    </tr>\n    <tr>\n      <th>4251</th>\n      <td>US-2018-123183</td>\n      <td>2018-11-19</td>\n      <td>Georgia Rosenberg</td>\n      <td>Wilmington</td>\n      <td>Furniture</td>\n      <td>FUR-BO-10000362</td>\n      <td>1025.880</td>\n      <td>235.9524</td>\n    </tr>\n    <tr>\n      <th>4254</th>\n      <td>US-2018-125521</td>\n      <td>2018-03-14</td>\n      <td>Christine Kargatis</td>\n      <td>Chesapeake</td>\n      <td>Furniture</td>\n      <td>FUR-CH-10003379</td>\n      <td>1139.920</td>\n      <td>284.9800</td>\n    </tr>\n    <tr>\n      <th>4279</th>\n      <td>US-2018-137869</td>\n      <td>2018-03-28</td>\n      <td>Christina VanderZanden</td>\n      <td>Des Moines</td>\n      <td>Furniture</td>\n      <td>FUR-TA-10003954</td>\n      <td>1184.720</td>\n      <td>106.6248</td>\n    </tr>\n    <tr>\n      <th>4299</th>\n      <td>US-2018-147627</td>\n      <td>2018-01-20</td>\n      <td>Hunter Lopez</td>\n      <td>Jonesboro</td>\n      <td>Furniture</td>\n      <td>FUR-CH-10002331</td>\n      <td>1067.940</td>\n      <td>224.2674</td>\n    </tr>\n    <tr>\n      <th>4304</th>\n      <td>US-2018-148838</td>\n      <td>2018-03-17</td>\n      <td>Christine Phan</td>\n      <td>New York City</td>\n      <td>Furniture</td>\n      <td>FUR-TA-10001950</td>\n      <td>1071.576</td>\n      <td>-553.6476</td>\n    </tr>\n    <tr>\n      <th>4423</th>\n      <td>US-2019-134558</td>\n      <td>2019-12-19</td>\n      <td>Peter McVee</td>\n      <td>Dover</td>\n      <td>Furniture</td>\n      <td>FUR-TA-10003473</td>\n      <td>1053.164</td>\n      <td>-105.3164</td>\n    </tr>\n    <tr>\n      <th>4471</th>\n      <td>US-2019-157154</td>\n      <td>2019-01-10</td>\n      <td>Michael Moore</td>\n      <td>New York City</td>\n      <td>Furniture</td>\n      <td>FUR-TA-10001889</td>\n      <td>1018.104</td>\n      <td>-373.3048</td>\n    </tr>\n    <tr>\n      <th>4713</th>\n      <td>US-2020-167339</td>\n      <td>2020-01-21</td>\n      <td>Tamara Dahlen</td>\n      <td>San Diego</td>\n      <td>Furniture</td>\n      <td>FUR-CH-10000785</td>\n      <td>1013.488</td>\n      <td>76.0116</td>\n    </tr>\n    <tr>\n      <th>4733</th>\n      <td>US-2021-102890</td>\n      <td>2021-06-30</td>\n      <td>Sheri Gordon</td>\n      <td>New York City</td>\n      <td>Furniture</td>\n      <td>FUR-TA-10000577</td>\n      <td>1044.630</td>\n      <td>-295.9785</td>\n    </tr>\n    <tr>\n      <th>4773</th>\n      <td>US-2021-110576</td>\n      <td>2021-11-28</td>\n      <td>Ross Baird</td>\n      <td>Philadelphia</td>\n      <td>Furniture</td>\n      <td>FUR-FU-10000576</td>\n      <td>1007.232</td>\n      <td>75.5424</td>\n    </tr>\n    <tr>\n      <th>4985</th>\n      <td>US-2021-164056</td>\n      <td>2021-04-29</td>\n      <td>Filia McAdams</td>\n      <td>Dublin</td>\n      <td>Furniture</td>\n      <td>FUR-TA-10001307</td>\n      <td>1048.350</td>\n      <td>-69.8900</td>\n    </tr>\n    <tr>\n      <th>4989</th>\n      <td>US-2021-165456</td>\n      <td>2021-11-30</td>\n      <td>Trudy Brown</td>\n      <td>Philadelphia</td>\n      <td>Furniture</td>\n      <td>FUR-CH-10003981</td>\n      <td>1079.316</td>\n      <td>-15.4188</td>\n    </tr>\n  </tbody>\n</table>\n</div>",
       "datasetInfos": [],
       "metadata": {},
       "removedWidgets": [],
       "textData": null,
       "type": "htmlSandbox"
      }
     },
     "output_type": "display_data"
    }
   ],
   "source": [
    "fc = (df['category'] == 'Furniture') & (df['sales'] > 1000) & (df['sales'] <= 1200)\n",
    "df[fc]"
   ]
  },
  {
   "cell_type": "markdown",
   "metadata": {
    "application/vnd.databricks.v1+cell": {
     "cellMetadata": {},
     "inputWidgets": {},
     "nuid": "8fe00d9f-038b-4b5f-b71e-5500d12c4641",
     "showTitle": false,
     "title": ""
    }
   },
   "source": []
  },
  {
   "cell_type": "markdown",
   "metadata": {
    "application/vnd.databricks.v1+cell": {
     "cellMetadata": {},
     "inputWidgets": {},
     "nuid": "418645a2-bfd6-440e-a85f-abec0b8e3ce2",
     "showTitle": false,
     "title": ""
    }
   },
   "source": []
  },
  {
   "cell_type": "markdown",
   "metadata": {
    "application/vnd.databricks.v1+cell": {
     "cellMetadata": {},
     "inputWidgets": {},
     "nuid": "8c512142-37ba-4b87-bb09-81c7215994d1",
     "showTitle": false,
     "title": ""
    }
   },
   "source": [
    "#### 3. write a program to find all the orders where there was a loss (profit<0) in the city of new york , Los Angeles and Seattle"
   ]
  },
  {
   "cell_type": "code",
   "execution_count": 0,
   "metadata": {
    "application/vnd.databricks.v1+cell": {
     "cellMetadata": {
      "byteLimit": 2048000,
      "rowLimit": 10000
     },
     "inputWidgets": {},
     "nuid": "a3ba0dcc-3bae-44e8-8949-cad8b90713fe",
     "showTitle": false,
     "title": ""
    }
   },
   "outputs": [
    {
     "output_type": "display_data",
     "data": {
      "text/html": [
       "<div>\n",
       "<style scoped>\n",
       "    .dataframe tbody tr th:only-of-type {\n",
       "        vertical-align: middle;\n",
       "    }\n",
       "\n",
       "    .dataframe tbody tr th {\n",
       "        vertical-align: top;\n",
       "    }\n",
       "\n",
       "    .dataframe thead th {\n",
       "        text-align: right;\n",
       "    }\n",
       "</style>\n",
       "<table border=\"1\" class=\"dataframe\">\n",
       "  <thead>\n",
       "    <tr style=\"text-align: right;\">\n",
       "      <th></th>\n",
       "      <th>order_id</th>\n",
       "      <th>order_date</th>\n",
       "      <th>customer_name</th>\n",
       "      <th>city</th>\n",
       "      <th>category</th>\n",
       "      <th>product_id</th>\n",
       "      <th>sales</th>\n",
       "      <th>profit</th>\n",
       "    </tr>\n",
       "  </thead>\n",
       "  <tbody>\n",
       "    <tr>\n",
       "      <th>27</th>\n",
       "      <td>CA-2018-101931</td>\n",
       "      <td>2018-10-28</td>\n",
       "      <td>Todd Sumrall</td>\n",
       "      <td>Los Angeles</td>\n",
       "      <td>Furniture</td>\n",
       "      <td>FUR-BO-10001337</td>\n",
       "      <td>616.998</td>\n",
       "      <td>-36.2940</td>\n",
       "    </tr>\n",
       "    <tr>\n",
       "      <th>87</th>\n",
       "      <td>CA-2018-106439</td>\n",
       "      <td>2018-10-31</td>\n",
       "      <td>Greg Guthrie</td>\n",
       "      <td>Los Angeles</td>\n",
       "      <td>Furniture</td>\n",
       "      <td>FUR-CH-10003833</td>\n",
       "      <td>146.352</td>\n",
       "      <td>-9.1470</td>\n",
       "    </tr>\n",
       "    <tr>\n",
       "      <th>159</th>\n",
       "      <td>CA-2018-112158</td>\n",
       "      <td>2018-12-02</td>\n",
       "      <td>David Philippe</td>\n",
       "      <td>New York City</td>\n",
       "      <td>Furniture</td>\n",
       "      <td>FUR-BO-10003272</td>\n",
       "      <td>883.920</td>\n",
       "      <td>-110.4900</td>\n",
       "    </tr>\n",
       "    <tr>\n",
       "      <th>189</th>\n",
       "      <td>CA-2018-114517</td>\n",
       "      <td>2018-12-23</td>\n",
       "      <td>Tiffany House</td>\n",
       "      <td>New York City</td>\n",
       "      <td>Furniture</td>\n",
       "      <td>FUR-TA-10001676</td>\n",
       "      <td>53.316</td>\n",
       "      <td>-19.5492</td>\n",
       "    </tr>\n",
       "    <tr>\n",
       "      <th>234</th>\n",
       "      <td>CA-2018-119151</td>\n",
       "      <td>2018-11-25</td>\n",
       "      <td>Mike Pelletier</td>\n",
       "      <td>New York City</td>\n",
       "      <td>Furniture</td>\n",
       "      <td>FUR-BO-10003159</td>\n",
       "      <td>275.952</td>\n",
       "      <td>-37.9434</td>\n",
       "    </tr>\n",
       "    <tr>\n",
       "      <th>...</th>\n",
       "      <td>...</td>\n",
       "      <td>...</td>\n",
       "      <td>...</td>\n",
       "      <td>...</td>\n",
       "      <td>...</td>\n",
       "      <td>...</td>\n",
       "      <td>...</td>\n",
       "      <td>...</td>\n",
       "    </tr>\n",
       "    <tr>\n",
       "      <th>4728</th>\n",
       "      <td>US-2021-101784</td>\n",
       "      <td>2021-07-06</td>\n",
       "      <td>Patrick O'Brill</td>\n",
       "      <td>Los Angeles</td>\n",
       "      <td>Furniture</td>\n",
       "      <td>FUR-CH-10001146</td>\n",
       "      <td>122.136</td>\n",
       "      <td>-13.7403</td>\n",
       "    </tr>\n",
       "    <tr>\n",
       "      <th>4733</th>\n",
       "      <td>US-2021-102890</td>\n",
       "      <td>2021-06-30</td>\n",
       "      <td>Sheri Gordon</td>\n",
       "      <td>New York City</td>\n",
       "      <td>Furniture</td>\n",
       "      <td>FUR-TA-10000577</td>\n",
       "      <td>1044.630</td>\n",
       "      <td>-295.9785</td>\n",
       "    </tr>\n",
       "    <tr>\n",
       "      <th>4826</th>\n",
       "      <td>US-2021-121251</td>\n",
       "      <td>2021-03-26</td>\n",
       "      <td>Gary McGarr</td>\n",
       "      <td>New York City</td>\n",
       "      <td>Furniture</td>\n",
       "      <td>FUR-BO-10001918</td>\n",
       "      <td>257.568</td>\n",
       "      <td>-28.9764</td>\n",
       "    </tr>\n",
       "    <tr>\n",
       "      <th>4982</th>\n",
       "      <td>US-2021-163300</td>\n",
       "      <td>2021-09-15</td>\n",
       "      <td>Erica Smith</td>\n",
       "      <td>Los Angeles</td>\n",
       "      <td>Furniture</td>\n",
       "      <td>FUR-CH-10003396</td>\n",
       "      <td>184.752</td>\n",
       "      <td>-20.7846</td>\n",
       "    </tr>\n",
       "    <tr>\n",
       "      <th>4983</th>\n",
       "      <td>US-2021-163657</td>\n",
       "      <td>2021-09-02</td>\n",
       "      <td>Janet Lee</td>\n",
       "      <td>Los Angeles</td>\n",
       "      <td>Furniture</td>\n",
       "      <td>FUR-TA-10004607</td>\n",
       "      <td>236.528</td>\n",
       "      <td>-2.9566</td>\n",
       "    </tr>\n",
       "  </tbody>\n",
       "</table>\n",
       "<p>68 rows × 8 columns</p>\n",
       "</div>"
      ]
     },
     "metadata": {
      "application/vnd.databricks.v1+output": {
       "addedWidgets": {},
       "arguments": {},
       "data": "<div>\n<style scoped>\n    .dataframe tbody tr th:only-of-type {\n        vertical-align: middle;\n    }\n\n    .dataframe tbody tr th {\n        vertical-align: top;\n    }\n\n    .dataframe thead th {\n        text-align: right;\n    }\n</style>\n<table border=\"1\" class=\"dataframe\">\n  <thead>\n    <tr style=\"text-align: right;\">\n      <th></th>\n      <th>order_id</th>\n      <th>order_date</th>\n      <th>customer_name</th>\n      <th>city</th>\n      <th>category</th>\n      <th>product_id</th>\n      <th>sales</th>\n      <th>profit</th>\n    </tr>\n  </thead>\n  <tbody>\n    <tr>\n      <th>27</th>\n      <td>CA-2018-101931</td>\n      <td>2018-10-28</td>\n      <td>Todd Sumrall</td>\n      <td>Los Angeles</td>\n      <td>Furniture</td>\n      <td>FUR-BO-10001337</td>\n      <td>616.998</td>\n      <td>-36.2940</td>\n    </tr>\n    <tr>\n      <th>87</th>\n      <td>CA-2018-106439</td>\n      <td>2018-10-31</td>\n      <td>Greg Guthrie</td>\n      <td>Los Angeles</td>\n      <td>Furniture</td>\n      <td>FUR-CH-10003833</td>\n      <td>146.352</td>\n      <td>-9.1470</td>\n    </tr>\n    <tr>\n      <th>159</th>\n      <td>CA-2018-112158</td>\n      <td>2018-12-02</td>\n      <td>David Philippe</td>\n      <td>New York City</td>\n      <td>Furniture</td>\n      <td>FUR-BO-10003272</td>\n      <td>883.920</td>\n      <td>-110.4900</td>\n    </tr>\n    <tr>\n      <th>189</th>\n      <td>CA-2018-114517</td>\n      <td>2018-12-23</td>\n      <td>Tiffany House</td>\n      <td>New York City</td>\n      <td>Furniture</td>\n      <td>FUR-TA-10001676</td>\n      <td>53.316</td>\n      <td>-19.5492</td>\n    </tr>\n    <tr>\n      <th>234</th>\n      <td>CA-2018-119151</td>\n      <td>2018-11-25</td>\n      <td>Mike Pelletier</td>\n      <td>New York City</td>\n      <td>Furniture</td>\n      <td>FUR-BO-10003159</td>\n      <td>275.952</td>\n      <td>-37.9434</td>\n    </tr>\n    <tr>\n      <th>...</th>\n      <td>...</td>\n      <td>...</td>\n      <td>...</td>\n      <td>...</td>\n      <td>...</td>\n      <td>...</td>\n      <td>...</td>\n      <td>...</td>\n    </tr>\n    <tr>\n      <th>4728</th>\n      <td>US-2021-101784</td>\n      <td>2021-07-06</td>\n      <td>Patrick O'Brill</td>\n      <td>Los Angeles</td>\n      <td>Furniture</td>\n      <td>FUR-CH-10001146</td>\n      <td>122.136</td>\n      <td>-13.7403</td>\n    </tr>\n    <tr>\n      <th>4733</th>\n      <td>US-2021-102890</td>\n      <td>2021-06-30</td>\n      <td>Sheri Gordon</td>\n      <td>New York City</td>\n      <td>Furniture</td>\n      <td>FUR-TA-10000577</td>\n      <td>1044.630</td>\n      <td>-295.9785</td>\n    </tr>\n    <tr>\n      <th>4826</th>\n      <td>US-2021-121251</td>\n      <td>2021-03-26</td>\n      <td>Gary McGarr</td>\n      <td>New York City</td>\n      <td>Furniture</td>\n      <td>FUR-BO-10001918</td>\n      <td>257.568</td>\n      <td>-28.9764</td>\n    </tr>\n    <tr>\n      <th>4982</th>\n      <td>US-2021-163300</td>\n      <td>2021-09-15</td>\n      <td>Erica Smith</td>\n      <td>Los Angeles</td>\n      <td>Furniture</td>\n      <td>FUR-CH-10003396</td>\n      <td>184.752</td>\n      <td>-20.7846</td>\n    </tr>\n    <tr>\n      <th>4983</th>\n      <td>US-2021-163657</td>\n      <td>2021-09-02</td>\n      <td>Janet Lee</td>\n      <td>Los Angeles</td>\n      <td>Furniture</td>\n      <td>FUR-TA-10004607</td>\n      <td>236.528</td>\n      <td>-2.9566</td>\n    </tr>\n  </tbody>\n</table>\n<p>68 rows × 8 columns</p>\n</div>",
       "datasetInfos": [],
       "metadata": {},
       "removedWidgets": [],
       "textData": null,
       "type": "htmlSandbox"
      }
     },
     "output_type": "display_data"
    }
   ],
   "source": [
    "# city = ['New York City', 'Los Angeles', 'Seattle']\n",
    "fc = (df['city'].isin(['New York City', 'Los Angeles', 'Seattle' ])) & (df['profit'] < 0)\n",
    "df[fc]"
   ]
  },
  {
   "cell_type": "markdown",
   "metadata": {
    "application/vnd.databricks.v1+cell": {
     "cellMetadata": {},
     "inputWidgets": {},
     "nuid": "b09fa9dd-709b-4a9d-a561-c6d30e6d8243",
     "showTitle": false,
     "title": ""
    }
   },
   "source": []
  },
  {
   "cell_type": "markdown",
   "metadata": {
    "application/vnd.databricks.v1+cell": {
     "cellMetadata": {},
     "inputWidgets": {},
     "nuid": "f04efbdd-96c5-4dbb-af01-326273d8eda9",
     "showTitle": false,
     "title": ""
    }
   },
   "source": []
  },
  {
   "cell_type": "markdown",
   "metadata": {
    "application/vnd.databricks.v1+cell": {
     "cellMetadata": {},
     "inputWidgets": {},
     "nuid": "2538da4b-dce2-4bd3-9a22-384398aae39f",
     "showTitle": false,
     "title": ""
    }
   },
   "source": [
    "#### 4. write a program to find unique list of cities where orders are placed for Office Supplies category."
   ]
  },
  {
   "cell_type": "code",
   "execution_count": 0,
   "metadata": {
    "application/vnd.databricks.v1+cell": {
     "cellMetadata": {
      "byteLimit": 2048000,
      "rowLimit": 10000
     },
     "inputWidgets": {},
     "nuid": "a9c743a6-4d84-48d4-b16b-d0e1f47beb73",
     "showTitle": false,
     "title": ""
    }
   },
   "outputs": [
    {
     "output_type": "stream",
     "name": "stdout",
     "output_type": "stream",
     "text": [
      "Out[27]: array(['Jacksonville', 'New York City', 'Glendale', 'Jackson', 'Pomona',\n       'Roswell', 'Salt Lake City', 'Chicago', 'Mesa', 'Springfield',\n       'Seattle', 'Philadelphia', 'Miami', 'Richmond', 'Brentwood',\n       'Las Vegas', 'Charlotte', 'Alexandria', 'Indianapolis',\n       'San Francisco', 'Huntsville', 'Mount Vernon', 'Fairfield',\n       'El Paso', 'Houston', 'Sandy Springs', 'Laredo', 'San Diego',\n       'Escondido', 'Provo', 'Pasadena', 'Madison', 'Athens', 'Gilbert',\n       'Bowling Green', 'Billings', 'Los Angeles', 'Cottage Grove',\n       'Lawrence', 'Columbus', 'Plainfield', 'Long Beach', 'Romeoville',\n       'Tempe', 'Fort Lauderdale', 'Hollywood', 'Newark', 'Lakewood',\n       'Santa Clara', 'Brownsville', 'Great Falls', 'Columbia', 'Akron',\n       'Little Rock', 'Arlington', 'Naperville', 'Chula Vista',\n       'Rock Hill', 'Rochester', 'Hempstead', 'Logan', 'Lancaster',\n       'Cincinnati', 'Sioux Falls', 'Johnson City', 'Minneapolis',\n       'Margate', 'Virginia Beach', 'Lakeville', 'Baltimore', 'Orange',\n       'Aurora', 'Wausau', 'Owensboro', 'Grand Prairie', 'Freeport',\n       'Cary', 'Troy', 'Dallas', 'Saint Petersburg', 'Beaumont', 'Utica',\n       'Fayetteville', 'Omaha', 'Atlanta', 'Oswego', 'Port Arthur',\n       'Pleasant Grove', 'Boca Raton', 'Watertown', 'Riverside',\n       'Redondo Beach', 'Chesapeake', 'Medina', 'Salem', 'Murray',\n       'Henderson', 'Appleton', 'Rancho Cucamonga', 'Cedar Hill',\n       'North Miami', 'Taylor', 'Moreno Valley', 'Phoenix', 'San Jose',\n       'Detroit', 'Bangor', 'Denver', 'Yonkers', 'New Rochelle', 'Revere',\n       'Bellevue', 'Hamilton', 'Hialeah', 'Clarksville', 'Fresno',\n       'Meriden', 'Midland', 'Beverly', 'Lodi', 'Anaheim', 'Bristol',\n       'Westland', 'Nashville', 'Avondale', 'Lafayette', 'Orlando',\n       'Eau Claire', 'Portland', 'Dearborn Heights', 'Coon Rapids',\n       'Decatur', 'San Antonio', 'Wilmington', 'Albuquerque', 'Knoxville',\n       'Vallejo', 'Woodstock', 'Vacaville', 'Memphis', 'Huntington Beach',\n       'Scottsdale', 'Kent', 'Louisville', 'Deltona', 'Bossier City',\n       'Montgomery', 'Dover', 'Fort Worth', 'Delray Beach', 'Saint Louis',\n       'Asheville', 'Marietta', 'West Jordan', 'Tigard', 'Norwich',\n       'Medford', 'Auburn', 'Franklin', 'Spokane', 'Smyrna', 'Quincy',\n       'Suffolk', 'Cleveland', 'Mcallen', 'Sparks', 'Milwaukee',\n       'San Bernardino', 'Pueblo', 'Lubbock', 'Missoula', 'Clinton',\n       'Tallahassee', 'Raleigh', 'Hampton', 'New Bedford', 'Altoona',\n       'Yucaipa', 'Daytona Beach', 'Lansing', 'Bolingbrook', 'Lebanon',\n       'Saint Charles', 'Cambridge', 'Des Moines', 'Vineland',\n       'Plantation', 'Bloomington', 'Leominster', 'Coral Springs',\n       'Woonsocket', 'Bozeman', 'Chester', 'Peoria', 'Norfolk',\n       'Murfreesboro', 'Austin', 'Haltom City', 'Baytown', 'Florence',\n       'Morristown', 'Ann Arbor', 'Reading', 'Wilson', 'Murrieta',\n       'Roseville', 'Colorado Springs', 'Oceanside', 'Carrollton',\n       'North Charleston', 'Layton', 'Thornton', 'Toledo',\n       'West Palm Beach', 'Allen', 'Las Cruces', 'Eagan',\n       'Sterling Heights', 'Concord', 'Redlands', 'Buffalo', 'Greensboro',\n       'Tamarac', 'Noblesville', 'Santa Barbara', 'Santa Fe', 'Rockford',\n       'Rockville', 'Bakersfield', 'Bedford', 'Royal Oak', 'Oxnard',\n       'Thousand Oaks', 'Manchester', 'Farmington', 'Durham', 'Woodbury',\n       'Bartlett', 'Perth Amboy', 'New Castle', 'Macon', 'Superior',\n       'Lindenhurst', 'Santa Ana', 'Lewiston', 'Lakeland', 'Chico',\n       'Bayonne', 'Temecula', 'South Bend', 'Boise', 'Newport News',\n       'Tulsa', 'Sacramento', 'Holland', 'Conroe', 'Rome', 'La Crosse',\n       'Oakland', 'Arlington Heights', 'Visalia', 'Sierra Vista',\n       'Round Rock', 'Irving', 'San Luis Obispo', 'Marion', 'Orem',\n       'Yuma', 'Lowell', 'Port Saint Lucie', 'Mobile', 'Gulfport',\n       'Georgetown', 'Amarillo', 'Bridgeton', 'Stockton', 'Davis',\n       'Niagara Falls', 'Edinburg', 'Cuyahoga Falls', 'Edmond', 'Monroe',\n       'Pembroke Pines', 'Deer Park', 'Waco', 'East Orange', 'Jonesboro',\n       'Hendersonville', 'Providence', 'The Colony', 'Thomasville',\n       'Middletown', 'Greenville', 'Palm Coast', 'Oklahoma City',\n       'San Clemente', 'Grand Rapids', 'Marysville', 'Warwick', 'Malden',\n       'Urbandale', 'Goldsboro', 'Gresham', 'Carlsbad', 'Apopka',\n       'Waterbury', 'Redwood City', 'Wichita', 'Fremont', 'Warner Robins',\n       'North Las Vegas', 'Washington', 'Tampa', 'Olathe', 'Broken Arrow',\n       'Overland Park', 'Shelton', 'Milford', 'Saint Paul', 'Westfield',\n       'La Porte', 'Salinas', 'Vancouver', 'Elmhurst', 'Iowa City',\n       'Atlantic City', 'Trenton', 'Reno', 'Pocatello', 'Hesperia',\n       'Lincoln Park', 'Waukesha', 'Mishawaka', 'Edmonds', 'Parma',\n       'Covington', 'Garland', 'Apple Valley', 'Belleville',\n       'Fort Collins', 'Pine Bluff', 'Chattanooga', 'Odessa',\n       'Independence', 'Everett', 'Harlingen', 'Miramar', 'Garden City',\n       'Dublin', 'Torrance', 'Mansfield', 'Redmond', 'Renton', 'Wheeling',\n       'Fargo', 'Inglewood', 'Greenwood', 'Westminster', 'Bryan',\n       'College Station', 'Elyria', 'Burlington', 'Plano', 'Hoover',\n       'La Mesa', 'Boynton Beach', 'Waterloo', 'Lorain', 'Summerville',\n       'Canton', 'Chandler', 'Skokie', 'Loveland', 'Cranston',\n       'Green Bay', 'Hickory', 'Grand Island', 'Hattiesburg', 'Saginaw',\n       'Oak Park', 'Chapel Hill', 'Sunnyvale', 'Grove City', 'Melbourne',\n       'Costa Mesa', 'Port Orange', 'Tucson', 'Commerce City', 'Longview',\n       'San Mateo', 'Maple Grove', 'Muskogee', 'Tuscaloosa', 'Coppell',\n       'Rogers', 'Keller', 'Camarillo', 'Pompano Beach', 'Hillsboro',\n       'Missouri City', 'Springdale', 'Coachella', 'Lake Charles',\n       'Southaven', 'Laguna Niguel', 'New Brunswick', 'Corpus Christi',\n       'Meridian', 'Abilene', 'Paterson', 'Manteca', 'Clovis',\n       'Homestead', 'Mission Viejo', 'Aberdeen', 'York', 'Helena',\n       'Lawton', 'Tyler', 'Portage', 'Mesquite', 'Santa Maria',\n       'Allentown', 'Frankfort', 'Antioch', 'Sheboygan', 'Gastonia',\n       'Pensacola', 'Grapevine', 'Englewood', 'Kenner', 'Highland Park',\n       'Park Ridge', 'Charlottesville', 'Pearland', 'Hagerstown', 'Pasco',\n       'Danville', 'Woodland', 'Jupiter', 'Nashua', 'Ormond Beach',\n       'Elkhart'], dtype=object)"
     ]
    }
   ],
   "source": [
    "\n",
    "office_supplies_df = df[(df['category'] == 'Office Supplies')]\n",
    "unique_city_df = office_supplies_df['city'].unique()\n",
    "unique_city_df"
   ]
  },
  {
   "cell_type": "markdown",
   "metadata": {
    "application/vnd.databricks.v1+cell": {
     "cellMetadata": {},
     "inputWidgets": {},
     "nuid": "0a1868ae-799a-4ef8-a135-f8ac5d3db354",
     "showTitle": false,
     "title": ""
    }
   },
   "source": []
  },
  {
   "cell_type": "markdown",
   "metadata": {
    "application/vnd.databricks.v1+cell": {
     "cellMetadata": {},
     "inputWidgets": {},
     "nuid": "3ecb153e-de02-4202-a0d2-be479f3881ce",
     "showTitle": false,
     "title": ""
    }
   },
   "source": []
  },
  {
   "cell_type": "markdown",
   "metadata": {
    "application/vnd.databricks.v1+cell": {
     "cellMetadata": {},
     "inputWidgets": {},
     "nuid": "31d57050-072c-4596-960e-2662a2460239",
     "showTitle": false,
     "title": ""
    }
   },
   "source": [
    "#### 5. in the new york city how many orders were placed in each of the category"
   ]
  },
  {
   "cell_type": "code",
   "execution_count": 0,
   "metadata": {
    "application/vnd.databricks.v1+cell": {
     "cellMetadata": {
      "byteLimit": 2048000,
      "rowLimit": 10000
     },
     "inputWidgets": {},
     "nuid": "dadd942f-df34-413a-9e50-10d3b3713bdf",
     "showTitle": false,
     "title": ""
    }
   },
   "outputs": [
    {
     "output_type": "stream",
     "name": "stdout",
     "output_type": "stream",
     "text": [
      "Out[28]: category         city         \nOffice Supplies  New York City    257\nFurniture        New York City    157\nTechnology       New York City     36\ndtype: int64"
     ]
    }
   ],
   "source": [
    "new_york_df = df[(df['city'] == 'New York City')]\n",
    "orders_df = new_york_df[['category', 'city']].value_counts()\n",
    "orders_df"
   ]
  },
  {
   "cell_type": "markdown",
   "metadata": {
    "application/vnd.databricks.v1+cell": {
     "cellMetadata": {},
     "inputWidgets": {},
     "nuid": "52cbbf1c-9395-439d-8457-90c1894c04dc",
     "showTitle": false,
     "title": ""
    }
   },
   "source": []
  },
  {
   "cell_type": "markdown",
   "metadata": {
    "application/vnd.databricks.v1+cell": {
     "cellMetadata": {},
     "inputWidgets": {},
     "nuid": "c0decb72-4fef-4423-a675-bfb77908e79f",
     "showTitle": false,
     "title": ""
    }
   },
   "source": []
  },
  {
   "cell_type": "markdown",
   "metadata": {
    "application/vnd.databricks.v1+cell": {
     "cellMetadata": {},
     "inputWidgets": {},
     "nuid": "8875d429-25f2-42bb-b540-cff18ae79566",
     "showTitle": false,
     "title": ""
    }
   },
   "source": [
    "#### 6. set the index of orders dataframe to order_id and fetch order details(all columns) of following list of orders : \n",
    "- CA-2019-115742\n",
    "- CA-2020-111682\n",
    "- CA-2019-149587\n",
    "- US-2020-150147\n",
    "- CA-2020-138520"
   ]
  },
  {
   "cell_type": "code",
   "execution_count": 0,
   "metadata": {
    "application/vnd.databricks.v1+cell": {
     "cellMetadata": {
      "byteLimit": 2048000,
      "rowLimit": 10000
     },
     "inputWidgets": {},
     "nuid": "30457368-6776-408e-8b68-00cefb26be06",
     "showTitle": false,
     "title": ""
    }
   },
   "outputs": [
    {
     "output_type": "display_data",
     "data": {
      "text/html": [
       "<div>\n",
       "<style scoped>\n",
       "    .dataframe tbody tr th:only-of-type {\n",
       "        vertical-align: middle;\n",
       "    }\n",
       "\n",
       "    .dataframe tbody tr th {\n",
       "        vertical-align: top;\n",
       "    }\n",
       "\n",
       "    .dataframe thead th {\n",
       "        text-align: right;\n",
       "    }\n",
       "</style>\n",
       "<table border=\"1\" class=\"dataframe\">\n",
       "  <thead>\n",
       "    <tr style=\"text-align: right;\">\n",
       "      <th></th>\n",
       "      <th>order_date</th>\n",
       "      <th>customer_name</th>\n",
       "      <th>city</th>\n",
       "      <th>category</th>\n",
       "      <th>product_id</th>\n",
       "      <th>sales</th>\n",
       "      <th>profit</th>\n",
       "    </tr>\n",
       "    <tr>\n",
       "      <th>order_id</th>\n",
       "      <th></th>\n",
       "      <th></th>\n",
       "      <th></th>\n",
       "      <th></th>\n",
       "      <th></th>\n",
       "      <th></th>\n",
       "      <th></th>\n",
       "    </tr>\n",
       "  </thead>\n",
       "  <tbody>\n",
       "    <tr>\n",
       "      <th>CA-2019-115742</th>\n",
       "      <td>2019-04-18</td>\n",
       "      <td>Darren Powers</td>\n",
       "      <td>New Albany</td>\n",
       "      <td>Furniture</td>\n",
       "      <td>FUR-CH-10003061</td>\n",
       "      <td>89.990</td>\n",
       "      <td>17.0981</td>\n",
       "    </tr>\n",
       "    <tr>\n",
       "      <th>CA-2020-111682</th>\n",
       "      <td>2020-06-17</td>\n",
       "      <td>Ted Butterfield</td>\n",
       "      <td>Troy</td>\n",
       "      <td>Furniture</td>\n",
       "      <td>FUR-CH-10003968</td>\n",
       "      <td>319.410</td>\n",
       "      <td>7.0980</td>\n",
       "    </tr>\n",
       "    <tr>\n",
       "      <th>CA-2019-149587</th>\n",
       "      <td>2019-01-31</td>\n",
       "      <td>Karl Braun</td>\n",
       "      <td>Minneapolis</td>\n",
       "      <td>Furniture</td>\n",
       "      <td>FUR-FU-10003799</td>\n",
       "      <td>53.340</td>\n",
       "      <td>16.5354</td>\n",
       "    </tr>\n",
       "    <tr>\n",
       "      <th>US-2020-150147</th>\n",
       "      <td>2020-04-25</td>\n",
       "      <td>John Lucas</td>\n",
       "      <td>Philadelphia</td>\n",
       "      <td>Office Supplies</td>\n",
       "      <td>OFF-BI-10001153</td>\n",
       "      <td>20.724</td>\n",
       "      <td>-13.8160</td>\n",
       "    </tr>\n",
       "    <tr>\n",
       "      <th>CA-2020-138520</th>\n",
       "      <td>2020-04-08</td>\n",
       "      <td>Jeremy Lonsdale</td>\n",
       "      <td>New York City</td>\n",
       "      <td>Furniture</td>\n",
       "      <td>FUR-BO-10002268</td>\n",
       "      <td>388.704</td>\n",
       "      <td>-4.8588</td>\n",
       "    </tr>\n",
       "  </tbody>\n",
       "</table>\n",
       "</div>"
      ]
     },
     "metadata": {
      "application/vnd.databricks.v1+output": {
       "addedWidgets": {},
       "arguments": {},
       "data": "<div>\n<style scoped>\n    .dataframe tbody tr th:only-of-type {\n        vertical-align: middle;\n    }\n\n    .dataframe tbody tr th {\n        vertical-align: top;\n    }\n\n    .dataframe thead th {\n        text-align: right;\n    }\n</style>\n<table border=\"1\" class=\"dataframe\">\n  <thead>\n    <tr style=\"text-align: right;\">\n      <th></th>\n      <th>order_date</th>\n      <th>customer_name</th>\n      <th>city</th>\n      <th>category</th>\n      <th>product_id</th>\n      <th>sales</th>\n      <th>profit</th>\n    </tr>\n    <tr>\n      <th>order_id</th>\n      <th></th>\n      <th></th>\n      <th></th>\n      <th></th>\n      <th></th>\n      <th></th>\n      <th></th>\n    </tr>\n  </thead>\n  <tbody>\n    <tr>\n      <th>CA-2019-115742</th>\n      <td>2019-04-18</td>\n      <td>Darren Powers</td>\n      <td>New Albany</td>\n      <td>Furniture</td>\n      <td>FUR-CH-10003061</td>\n      <td>89.990</td>\n      <td>17.0981</td>\n    </tr>\n    <tr>\n      <th>CA-2020-111682</th>\n      <td>2020-06-17</td>\n      <td>Ted Butterfield</td>\n      <td>Troy</td>\n      <td>Furniture</td>\n      <td>FUR-CH-10003968</td>\n      <td>319.410</td>\n      <td>7.0980</td>\n    </tr>\n    <tr>\n      <th>CA-2019-149587</th>\n      <td>2019-01-31</td>\n      <td>Karl Braun</td>\n      <td>Minneapolis</td>\n      <td>Furniture</td>\n      <td>FUR-FU-10003799</td>\n      <td>53.340</td>\n      <td>16.5354</td>\n    </tr>\n    <tr>\n      <th>US-2020-150147</th>\n      <td>2020-04-25</td>\n      <td>John Lucas</td>\n      <td>Philadelphia</td>\n      <td>Office Supplies</td>\n      <td>OFF-BI-10001153</td>\n      <td>20.724</td>\n      <td>-13.8160</td>\n    </tr>\n    <tr>\n      <th>CA-2020-138520</th>\n      <td>2020-04-08</td>\n      <td>Jeremy Lonsdale</td>\n      <td>New York City</td>\n      <td>Furniture</td>\n      <td>FUR-BO-10002268</td>\n      <td>388.704</td>\n      <td>-4.8588</td>\n    </tr>\n  </tbody>\n</table>\n</div>",
       "datasetInfos": [],
       "metadata": {},
       "removedWidgets": [],
       "textData": null,
       "type": "htmlSandbox"
      }
     },
     "output_type": "display_data"
    }
   ],
   "source": [
    "df.set_index('order_id', inplace=True)\n",
    "df.loc[['CA-2019-115742','CA-2020-111682','CA-2019-149587','US-2020-150147','CA-2020-138520']]\n",
    "# df.reset_index(inplace=True)"
   ]
  },
  {
   "cell_type": "markdown",
   "metadata": {
    "application/vnd.databricks.v1+cell": {
     "cellMetadata": {},
     "inputWidgets": {},
     "nuid": "43c9a921-2833-47dc-b95c-00ebf68944bc",
     "showTitle": false,
     "title": ""
    }
   },
   "source": []
  },
  {
   "cell_type": "markdown",
   "metadata": {
    "application/vnd.databricks.v1+cell": {
     "cellMetadata": {},
     "inputWidgets": {},
     "nuid": "46e40a4d-a93f-4b1c-9b88-450dfe539bf0",
     "showTitle": false,
     "title": ""
    }
   },
   "source": []
  },
  {
   "cell_type": "markdown",
   "metadata": {
    "application/vnd.databricks.v1+cell": {
     "cellMetadata": {},
     "inputWidgets": {},
     "nuid": "284354d8-5eae-48ad-ab1e-d44d17b5affc",
     "showTitle": false,
     "title": ""
    }
   },
   "source": [
    "#### 7. for the previous question display columns order id, order date , sales and category columns in the given order"
   ]
  },
  {
   "cell_type": "code",
   "execution_count": 0,
   "metadata": {
    "application/vnd.databricks.v1+cell": {
     "cellMetadata": {
      "byteLimit": 2048000,
      "rowLimit": 10000
     },
     "inputWidgets": {},
     "nuid": "319ae30d-64c0-40ce-81fe-ba9d71a30a47",
     "showTitle": false,
     "title": ""
    }
   },
   "outputs": [
    {
     "output_type": "display_data",
     "data": {
      "text/html": [
       "<div>\n",
       "<style scoped>\n",
       "    .dataframe tbody tr th:only-of-type {\n",
       "        vertical-align: middle;\n",
       "    }\n",
       "\n",
       "    .dataframe tbody tr th {\n",
       "        vertical-align: top;\n",
       "    }\n",
       "\n",
       "    .dataframe thead th {\n",
       "        text-align: right;\n",
       "    }\n",
       "</style>\n",
       "<table border=\"1\" class=\"dataframe\">\n",
       "  <thead>\n",
       "    <tr style=\"text-align: right;\">\n",
       "      <th></th>\n",
       "      <th>order_date</th>\n",
       "      <th>sales</th>\n",
       "      <th>category</th>\n",
       "    </tr>\n",
       "    <tr>\n",
       "      <th>order_id</th>\n",
       "      <th></th>\n",
       "      <th></th>\n",
       "      <th></th>\n",
       "    </tr>\n",
       "  </thead>\n",
       "  <tbody>\n",
       "    <tr>\n",
       "      <th>CA-2019-115742</th>\n",
       "      <td>2019-04-18</td>\n",
       "      <td>89.990</td>\n",
       "      <td>Furniture</td>\n",
       "    </tr>\n",
       "    <tr>\n",
       "      <th>CA-2020-111682</th>\n",
       "      <td>2020-06-17</td>\n",
       "      <td>319.410</td>\n",
       "      <td>Furniture</td>\n",
       "    </tr>\n",
       "    <tr>\n",
       "      <th>CA-2019-149587</th>\n",
       "      <td>2019-01-31</td>\n",
       "      <td>53.340</td>\n",
       "      <td>Furniture</td>\n",
       "    </tr>\n",
       "    <tr>\n",
       "      <th>US-2020-150147</th>\n",
       "      <td>2020-04-25</td>\n",
       "      <td>20.724</td>\n",
       "      <td>Office Supplies</td>\n",
       "    </tr>\n",
       "    <tr>\n",
       "      <th>CA-2020-138520</th>\n",
       "      <td>2020-04-08</td>\n",
       "      <td>388.704</td>\n",
       "      <td>Furniture</td>\n",
       "    </tr>\n",
       "  </tbody>\n",
       "</table>\n",
       "</div>"
      ]
     },
     "metadata": {
      "application/vnd.databricks.v1+output": {
       "addedWidgets": {},
       "arguments": {},
       "data": "<div>\n<style scoped>\n    .dataframe tbody tr th:only-of-type {\n        vertical-align: middle;\n    }\n\n    .dataframe tbody tr th {\n        vertical-align: top;\n    }\n\n    .dataframe thead th {\n        text-align: right;\n    }\n</style>\n<table border=\"1\" class=\"dataframe\">\n  <thead>\n    <tr style=\"text-align: right;\">\n      <th></th>\n      <th>order_date</th>\n      <th>sales</th>\n      <th>category</th>\n    </tr>\n    <tr>\n      <th>order_id</th>\n      <th></th>\n      <th></th>\n      <th></th>\n    </tr>\n  </thead>\n  <tbody>\n    <tr>\n      <th>CA-2019-115742</th>\n      <td>2019-04-18</td>\n      <td>89.990</td>\n      <td>Furniture</td>\n    </tr>\n    <tr>\n      <th>CA-2020-111682</th>\n      <td>2020-06-17</td>\n      <td>319.410</td>\n      <td>Furniture</td>\n    </tr>\n    <tr>\n      <th>CA-2019-149587</th>\n      <td>2019-01-31</td>\n      <td>53.340</td>\n      <td>Furniture</td>\n    </tr>\n    <tr>\n      <th>US-2020-150147</th>\n      <td>2020-04-25</td>\n      <td>20.724</td>\n      <td>Office Supplies</td>\n    </tr>\n    <tr>\n      <th>CA-2020-138520</th>\n      <td>2020-04-08</td>\n      <td>388.704</td>\n      <td>Furniture</td>\n    </tr>\n  </tbody>\n</table>\n</div>",
       "datasetInfos": [],
       "metadata": {},
       "removedWidgets": [],
       "textData": null,
       "type": "htmlSandbox"
      }
     },
     "output_type": "display_data"
    }
   ],
   "source": [
    "order_list = ['CA-2019-115742', 'CA-2020-111682', 'CA-2019-149587', 'US-2020-150147', 'CA-2020-138520']\n",
    "order_details = df.loc[order_list, ['order_date', 'sales', 'category']]\n",
    "order_details"
   ]
  },
  {
   "cell_type": "markdown",
   "metadata": {
    "application/vnd.databricks.v1+cell": {
     "cellMetadata": {},
     "inputWidgets": {},
     "nuid": "6cfc8db1-986a-4a3d-b610-3afcc27d6eeb",
     "showTitle": false,
     "title": ""
    }
   },
   "source": []
  },
  {
   "cell_type": "markdown",
   "metadata": {
    "application/vnd.databricks.v1+cell": {
     "cellMetadata": {},
     "inputWidgets": {},
     "nuid": "db291cd7-c24b-46d1-86e9-c6842376e17b",
     "showTitle": false,
     "title": ""
    }
   },
   "source": []
  },
  {
   "cell_type": "markdown",
   "metadata": {
    "application/vnd.databricks.v1+cell": {
     "cellMetadata": {},
     "inputWidgets": {},
     "nuid": "b2f5b545-39c1-44fc-be08-660eee6cd66c",
     "showTitle": false,
     "title": ""
    }
   },
   "source": [
    "#### 8. for the previous(6th) question display all the columns from order_date to city (as per the order in dataset)"
   ]
  },
  {
   "cell_type": "code",
   "execution_count": 0,
   "metadata": {
    "application/vnd.databricks.v1+cell": {
     "cellMetadata": {
      "byteLimit": 2048000,
      "rowLimit": 10000
     },
     "inputWidgets": {},
     "nuid": "9914abf3-344c-4f65-8851-546e8f87a612",
     "showTitle": false,
     "title": ""
    }
   },
   "outputs": [
    {
     "output_type": "display_data",
     "data": {
      "text/html": [
       "<div>\n",
       "<style scoped>\n",
       "    .dataframe tbody tr th:only-of-type {\n",
       "        vertical-align: middle;\n",
       "    }\n",
       "\n",
       "    .dataframe tbody tr th {\n",
       "        vertical-align: top;\n",
       "    }\n",
       "\n",
       "    .dataframe thead th {\n",
       "        text-align: right;\n",
       "    }\n",
       "</style>\n",
       "<table border=\"1\" class=\"dataframe\">\n",
       "  <thead>\n",
       "    <tr style=\"text-align: right;\">\n",
       "      <th></th>\n",
       "      <th>order_date</th>\n",
       "      <th>customer_name</th>\n",
       "      <th>city</th>\n",
       "    </tr>\n",
       "    <tr>\n",
       "      <th>order_id</th>\n",
       "      <th></th>\n",
       "      <th></th>\n",
       "      <th></th>\n",
       "    </tr>\n",
       "  </thead>\n",
       "  <tbody>\n",
       "    <tr>\n",
       "      <th>CA-2019-115742</th>\n",
       "      <td>2019-04-18</td>\n",
       "      <td>Darren Powers</td>\n",
       "      <td>New Albany</td>\n",
       "    </tr>\n",
       "    <tr>\n",
       "      <th>CA-2020-111682</th>\n",
       "      <td>2020-06-17</td>\n",
       "      <td>Ted Butterfield</td>\n",
       "      <td>Troy</td>\n",
       "    </tr>\n",
       "    <tr>\n",
       "      <th>CA-2019-149587</th>\n",
       "      <td>2019-01-31</td>\n",
       "      <td>Karl Braun</td>\n",
       "      <td>Minneapolis</td>\n",
       "    </tr>\n",
       "    <tr>\n",
       "      <th>US-2020-150147</th>\n",
       "      <td>2020-04-25</td>\n",
       "      <td>John Lucas</td>\n",
       "      <td>Philadelphia</td>\n",
       "    </tr>\n",
       "    <tr>\n",
       "      <th>CA-2020-138520</th>\n",
       "      <td>2020-04-08</td>\n",
       "      <td>Jeremy Lonsdale</td>\n",
       "      <td>New York City</td>\n",
       "    </tr>\n",
       "  </tbody>\n",
       "</table>\n",
       "</div>"
      ]
     },
     "metadata": {
      "application/vnd.databricks.v1+output": {
       "addedWidgets": {},
       "arguments": {},
       "data": "<div>\n<style scoped>\n    .dataframe tbody tr th:only-of-type {\n        vertical-align: middle;\n    }\n\n    .dataframe tbody tr th {\n        vertical-align: top;\n    }\n\n    .dataframe thead th {\n        text-align: right;\n    }\n</style>\n<table border=\"1\" class=\"dataframe\">\n  <thead>\n    <tr style=\"text-align: right;\">\n      <th></th>\n      <th>order_date</th>\n      <th>customer_name</th>\n      <th>city</th>\n    </tr>\n    <tr>\n      <th>order_id</th>\n      <th></th>\n      <th></th>\n      <th></th>\n    </tr>\n  </thead>\n  <tbody>\n    <tr>\n      <th>CA-2019-115742</th>\n      <td>2019-04-18</td>\n      <td>Darren Powers</td>\n      <td>New Albany</td>\n    </tr>\n    <tr>\n      <th>CA-2020-111682</th>\n      <td>2020-06-17</td>\n      <td>Ted Butterfield</td>\n      <td>Troy</td>\n    </tr>\n    <tr>\n      <th>CA-2019-149587</th>\n      <td>2019-01-31</td>\n      <td>Karl Braun</td>\n      <td>Minneapolis</td>\n    </tr>\n    <tr>\n      <th>US-2020-150147</th>\n      <td>2020-04-25</td>\n      <td>John Lucas</td>\n      <td>Philadelphia</td>\n    </tr>\n    <tr>\n      <th>CA-2020-138520</th>\n      <td>2020-04-08</td>\n      <td>Jeremy Lonsdale</td>\n      <td>New York City</td>\n    </tr>\n  </tbody>\n</table>\n</div>",
       "datasetInfos": [],
       "metadata": {},
       "removedWidgets": [],
       "textData": null,
       "type": "htmlSandbox"
      }
     },
     "output_type": "display_data"
    }
   ],
   "source": [
    "order_list = ['CA-2019-115742', 'CA-2020-111682', 'CA-2019-149587', 'US-2020-150147', 'CA-2020-138520']\n",
    "order_details1 = df.loc[order_list, 'order_date':'city']\n",
    "order_details1"
   ]
  },
  {
   "cell_type": "markdown",
   "metadata": {
    "application/vnd.databricks.v1+cell": {
     "cellMetadata": {},
     "inputWidgets": {},
     "nuid": "07f15e69-d87c-4afb-84f0-a5eaf261b84a",
     "showTitle": false,
     "title": ""
    }
   },
   "source": []
  },
  {
   "cell_type": "markdown",
   "metadata": {
    "application/vnd.databricks.v1+cell": {
     "cellMetadata": {},
     "inputWidgets": {},
     "nuid": "66b32368-a9cf-43ae-a349-2a39247006b5",
     "showTitle": false,
     "title": ""
    }
   },
   "source": []
  },
  {
   "cell_type": "markdown",
   "metadata": {
    "application/vnd.databricks.v1+cell": {
     "cellMetadata": {},
     "inputWidgets": {},
     "nuid": "364dd4ab-a4b7-4d27-8fdb-ad9883dcb616",
     "showTitle": false,
     "title": ""
    }
   },
   "source": [
    "#### 9. sort the index (order id) in descending order for the dataframe "
   ]
  },
  {
   "cell_type": "code",
   "execution_count": 0,
   "metadata": {
    "application/vnd.databricks.v1+cell": {
     "cellMetadata": {
      "byteLimit": 2048000,
      "rowLimit": 10000
     },
     "inputWidgets": {},
     "nuid": "0b2f3c85-b14e-4bbe-9567-c9043094c91e",
     "showTitle": false,
     "title": ""
    }
   },
   "outputs": [
    {
     "output_type": "display_data",
     "data": {
      "text/html": [
       "<div>\n",
       "<style scoped>\n",
       "    .dataframe tbody tr th:only-of-type {\n",
       "        vertical-align: middle;\n",
       "    }\n",
       "\n",
       "    .dataframe tbody tr th {\n",
       "        vertical-align: top;\n",
       "    }\n",
       "\n",
       "    .dataframe thead th {\n",
       "        text-align: right;\n",
       "    }\n",
       "</style>\n",
       "<table border=\"1\" class=\"dataframe\">\n",
       "  <thead>\n",
       "    <tr style=\"text-align: right;\">\n",
       "      <th></th>\n",
       "      <th>order_date</th>\n",
       "      <th>customer_name</th>\n",
       "      <th>city</th>\n",
       "      <th>category</th>\n",
       "      <th>product_id</th>\n",
       "      <th>sales</th>\n",
       "      <th>profit</th>\n",
       "    </tr>\n",
       "    <tr>\n",
       "      <th>order_id</th>\n",
       "      <th></th>\n",
       "      <th></th>\n",
       "      <th></th>\n",
       "      <th></th>\n",
       "      <th></th>\n",
       "      <th></th>\n",
       "      <th></th>\n",
       "    </tr>\n",
       "  </thead>\n",
       "  <tbody>\n",
       "    <tr>\n",
       "      <th>US-2021-169551</th>\n",
       "      <td>2021-07-07</td>\n",
       "      <td>Rob Lucas</td>\n",
       "      <td>Philadelphia</td>\n",
       "      <td>Furniture</td>\n",
       "      <td>FUR-BO-10001519</td>\n",
       "      <td>87.210</td>\n",
       "      <td>-45.3492</td>\n",
       "    </tr>\n",
       "    <tr>\n",
       "      <th>US-2021-169502</th>\n",
       "      <td>2021-08-28</td>\n",
       "      <td>Matthew Grinstein</td>\n",
       "      <td>Milwaukee</td>\n",
       "      <td>Office Supplies</td>\n",
       "      <td>OFF-AP-10001947</td>\n",
       "      <td>91.600</td>\n",
       "      <td>26.5640</td>\n",
       "    </tr>\n",
       "    <tr>\n",
       "      <th>US-2021-169488</th>\n",
       "      <td>2021-09-07</td>\n",
       "      <td>Allen Armold</td>\n",
       "      <td>Providence</td>\n",
       "      <td>Office Supplies</td>\n",
       "      <td>OFF-PA-10000157</td>\n",
       "      <td>39.960</td>\n",
       "      <td>18.7812</td>\n",
       "    </tr>\n",
       "    <tr>\n",
       "      <th>US-2021-169320</th>\n",
       "      <td>2021-07-23</td>\n",
       "      <td>Lena Hernandez</td>\n",
       "      <td>Elkhart</td>\n",
       "      <td>Office Supplies</td>\n",
       "      <td>OFF-AR-10003602</td>\n",
       "      <td>11.680</td>\n",
       "      <td>5.4896</td>\n",
       "    </tr>\n",
       "    <tr>\n",
       "      <th>US-2021-168802</th>\n",
       "      <td>2021-11-03</td>\n",
       "      <td>Jack O'Briant</td>\n",
       "      <td>Seattle</td>\n",
       "      <td>Office Supplies</td>\n",
       "      <td>OFF-BI-10002393</td>\n",
       "      <td>18.368</td>\n",
       "      <td>5.9696</td>\n",
       "    </tr>\n",
       "    <tr>\n",
       "      <th>...</th>\n",
       "      <td>...</td>\n",
       "      <td>...</td>\n",
       "      <td>...</td>\n",
       "      <td>...</td>\n",
       "      <td>...</td>\n",
       "      <td>...</td>\n",
       "      <td>...</td>\n",
       "    </tr>\n",
       "    <tr>\n",
       "      <th>CA-2018-100363</th>\n",
       "      <td>2018-04-08</td>\n",
       "      <td>Jim Mitchum</td>\n",
       "      <td>Glendale</td>\n",
       "      <td>Office Supplies</td>\n",
       "      <td>OFF-FA-10000611</td>\n",
       "      <td>2.368</td>\n",
       "      <td>0.8288</td>\n",
       "    </tr>\n",
       "    <tr>\n",
       "      <th>CA-2018-100328</th>\n",
       "      <td>2018-01-28</td>\n",
       "      <td>Jasper Cacioppo</td>\n",
       "      <td>New York City</td>\n",
       "      <td>Office Supplies</td>\n",
       "      <td>OFF-BI-10000343</td>\n",
       "      <td>3.928</td>\n",
       "      <td>1.3257</td>\n",
       "    </tr>\n",
       "    <tr>\n",
       "      <th>CA-2018-100293</th>\n",
       "      <td>2018-03-14</td>\n",
       "      <td>Neil Französisch</td>\n",
       "      <td>Jacksonville</td>\n",
       "      <td>Office Supplies</td>\n",
       "      <td>OFF-PA-10000176</td>\n",
       "      <td>91.056</td>\n",
       "      <td>31.8696</td>\n",
       "    </tr>\n",
       "    <tr>\n",
       "      <th>CA-2018-100090</th>\n",
       "      <td>2018-07-08</td>\n",
       "      <td>Ed Braxton</td>\n",
       "      <td>San Francisco</td>\n",
       "      <td>Furniture</td>\n",
       "      <td>FUR-TA-10003715</td>\n",
       "      <td>502.488</td>\n",
       "      <td>-87.9354</td>\n",
       "    </tr>\n",
       "    <tr>\n",
       "      <th>CA-2018-100006</th>\n",
       "      <td>2018-09-07</td>\n",
       "      <td>Dennis Kane</td>\n",
       "      <td>New York City</td>\n",
       "      <td>Technology</td>\n",
       "      <td>TEC-PH-10002075</td>\n",
       "      <td>377.970</td>\n",
       "      <td>109.6113</td>\n",
       "    </tr>\n",
       "  </tbody>\n",
       "</table>\n",
       "<p>5009 rows × 7 columns</p>\n",
       "</div>"
      ]
     },
     "metadata": {
      "application/vnd.databricks.v1+output": {
       "addedWidgets": {},
       "arguments": {},
       "data": "<div>\n<style scoped>\n    .dataframe tbody tr th:only-of-type {\n        vertical-align: middle;\n    }\n\n    .dataframe tbody tr th {\n        vertical-align: top;\n    }\n\n    .dataframe thead th {\n        text-align: right;\n    }\n</style>\n<table border=\"1\" class=\"dataframe\">\n  <thead>\n    <tr style=\"text-align: right;\">\n      <th></th>\n      <th>order_date</th>\n      <th>customer_name</th>\n      <th>city</th>\n      <th>category</th>\n      <th>product_id</th>\n      <th>sales</th>\n      <th>profit</th>\n    </tr>\n    <tr>\n      <th>order_id</th>\n      <th></th>\n      <th></th>\n      <th></th>\n      <th></th>\n      <th></th>\n      <th></th>\n      <th></th>\n    </tr>\n  </thead>\n  <tbody>\n    <tr>\n      <th>US-2021-169551</th>\n      <td>2021-07-07</td>\n      <td>Rob Lucas</td>\n      <td>Philadelphia</td>\n      <td>Furniture</td>\n      <td>FUR-BO-10001519</td>\n      <td>87.210</td>\n      <td>-45.3492</td>\n    </tr>\n    <tr>\n      <th>US-2021-169502</th>\n      <td>2021-08-28</td>\n      <td>Matthew Grinstein</td>\n      <td>Milwaukee</td>\n      <td>Office Supplies</td>\n      <td>OFF-AP-10001947</td>\n      <td>91.600</td>\n      <td>26.5640</td>\n    </tr>\n    <tr>\n      <th>US-2021-169488</th>\n      <td>2021-09-07</td>\n      <td>Allen Armold</td>\n      <td>Providence</td>\n      <td>Office Supplies</td>\n      <td>OFF-PA-10000157</td>\n      <td>39.960</td>\n      <td>18.7812</td>\n    </tr>\n    <tr>\n      <th>US-2021-169320</th>\n      <td>2021-07-23</td>\n      <td>Lena Hernandez</td>\n      <td>Elkhart</td>\n      <td>Office Supplies</td>\n      <td>OFF-AR-10003602</td>\n      <td>11.680</td>\n      <td>5.4896</td>\n    </tr>\n    <tr>\n      <th>US-2021-168802</th>\n      <td>2021-11-03</td>\n      <td>Jack O'Briant</td>\n      <td>Seattle</td>\n      <td>Office Supplies</td>\n      <td>OFF-BI-10002393</td>\n      <td>18.368</td>\n      <td>5.9696</td>\n    </tr>\n    <tr>\n      <th>...</th>\n      <td>...</td>\n      <td>...</td>\n      <td>...</td>\n      <td>...</td>\n      <td>...</td>\n      <td>...</td>\n      <td>...</td>\n    </tr>\n    <tr>\n      <th>CA-2018-100363</th>\n      <td>2018-04-08</td>\n      <td>Jim Mitchum</td>\n      <td>Glendale</td>\n      <td>Office Supplies</td>\n      <td>OFF-FA-10000611</td>\n      <td>2.368</td>\n      <td>0.8288</td>\n    </tr>\n    <tr>\n      <th>CA-2018-100328</th>\n      <td>2018-01-28</td>\n      <td>Jasper Cacioppo</td>\n      <td>New York City</td>\n      <td>Office Supplies</td>\n      <td>OFF-BI-10000343</td>\n      <td>3.928</td>\n      <td>1.3257</td>\n    </tr>\n    <tr>\n      <th>CA-2018-100293</th>\n      <td>2018-03-14</td>\n      <td>Neil Französisch</td>\n      <td>Jacksonville</td>\n      <td>Office Supplies</td>\n      <td>OFF-PA-10000176</td>\n      <td>91.056</td>\n      <td>31.8696</td>\n    </tr>\n    <tr>\n      <th>CA-2018-100090</th>\n      <td>2018-07-08</td>\n      <td>Ed Braxton</td>\n      <td>San Francisco</td>\n      <td>Furniture</td>\n      <td>FUR-TA-10003715</td>\n      <td>502.488</td>\n      <td>-87.9354</td>\n    </tr>\n    <tr>\n      <th>CA-2018-100006</th>\n      <td>2018-09-07</td>\n      <td>Dennis Kane</td>\n      <td>New York City</td>\n      <td>Technology</td>\n      <td>TEC-PH-10002075</td>\n      <td>377.970</td>\n      <td>109.6113</td>\n    </tr>\n  </tbody>\n</table>\n<p>5009 rows × 7 columns</p>\n</div>",
       "datasetInfos": [],
       "metadata": {},
       "removedWidgets": [],
       "textData": null,
       "type": "htmlSandbox"
      }
     },
     "output_type": "display_data"
    }
   ],
   "source": [
    "sort_df = df.sort_index(ascending=False)\n",
    "sort_df"
   ]
  },
  {
   "cell_type": "markdown",
   "metadata": {
    "application/vnd.databricks.v1+cell": {
     "cellMetadata": {},
     "inputWidgets": {},
     "nuid": "8d856a07-cf2d-4b93-aa1e-e022aa047f25",
     "showTitle": false,
     "title": ""
    }
   },
   "source": []
  },
  {
   "cell_type": "markdown",
   "metadata": {
    "application/vnd.databricks.v1+cell": {
     "cellMetadata": {},
     "inputWidgets": {},
     "nuid": "697146ad-0a7b-4bc8-9550-120df9d1e2f0",
     "showTitle": false,
     "title": ""
    }
   },
   "source": []
  },
  {
   "cell_type": "markdown",
   "metadata": {
    "application/vnd.databricks.v1+cell": {
     "cellMetadata": {},
     "inputWidgets": {},
     "nuid": "1ebc69d7-31a2-45c1-8454-9ef9ab12c8b0",
     "showTitle": false,
     "title": ""
    }
   },
   "source": [
    "#### 10. write the result of previous question into a csv file in your local machine\n"
   ]
  },
  {
   "cell_type": "code",
   "execution_count": 0,
   "metadata": {
    "application/vnd.databricks.v1+cell": {
     "cellMetadata": {
      "byteLimit": 2048000,
      "rowLimit": 10000
     },
     "inputWidgets": {},
     "nuid": "54f3009d-a9ed-4eb7-afd9-51082afd7212",
     "showTitle": false,
     "title": ""
    }
   },
   "outputs": [],
   "source": [
    "# Write DataFrame to CSV\n",
    "sort_df.to_csv('output.csv')"
   ]
  },
  {
   "cell_type": "code",
   "execution_count": 0,
   "metadata": {
    "application/vnd.databricks.v1+cell": {
     "cellMetadata": {
      "byteLimit": 2048000,
      "rowLimit": 10000
     },
     "inputWidgets": {},
     "nuid": "0e84f660-5e9d-419c-8796-d47c67b5bc69",
     "showTitle": false,
     "title": ""
    }
   },
   "outputs": [
    {
     "output_type": "display_data",
     "data": {
      "text/html": [
       "<style scoped>\n",
       "  .table-result-container {\n",
       "    max-height: 300px;\n",
       "    overflow: auto;\n",
       "  }\n",
       "  table, th, td {\n",
       "    border: 1px solid black;\n",
       "    border-collapse: collapse;\n",
       "  }\n",
       "  th, td {\n",
       "    padding: 5px;\n",
       "  }\n",
       "  th {\n",
       "    text-align: left;\n",
       "  }\n",
       "</style><div class='table-result-container'><table class='table-result'><thead style='background-color: white'><tr><th>path</th><th>name</th><th>size</th><th>modificationTime</th></tr></thead><tbody><tr><td>file:/databricks/driver/preload_class.lst</td><td>preload_class.lst</td><td>1306936</td><td>1724085013052</td></tr><tr><td>file:/databricks/driver/conf/</td><td>conf/</td><td>4096</td><td>1724085012400</td></tr><tr><td>file:/databricks/driver/hadoop_accessed_config.lst</td><td>hadoop_accessed_config.lst</td><td>2755</td><td>1724085013052</td></tr><tr><td>file:/databricks/driver/azure/</td><td>azure/</td><td>4096</td><td>1724085013056</td></tr><tr><td>file:/databricks/driver/ganglia/</td><td>ganglia/</td><td>4096</td><td>1724087702286</td></tr><tr><td>file:/databricks/driver/logs/</td><td>logs/</td><td>4096</td><td>1724088369677</td></tr><tr><td>file:/databricks/driver/orders.txt</td><td>orders.txt</td><td>475107</td><td>1724085807196</td></tr><tr><td>file:/databricks/driver/metastore_db/</td><td>metastore_db/</td><td>4096</td><td>1724085802840</td></tr><tr><td>file:/databricks/driver/eventlogs/</td><td>eventlogs/</td><td>4096</td><td>1724085464459</td></tr><tr><td>file:/databricks/driver/output.csv</td><td>output.csv</td><td>470281</td><td>1724088481147</td></tr></tbody></table></div>"
      ]
     },
     "metadata": {
      "application/vnd.databricks.v1+output": {
       "addedWidgets": {},
       "aggData": [],
       "aggError": "",
       "aggOverflow": false,
       "aggSchema": [],
       "aggSeriesLimitReached": false,
       "aggType": "",
       "arguments": {},
       "columnCustomDisplayInfos": {},
       "data": [
        [
         "file:/databricks/driver/preload_class.lst",
         "preload_class.lst",
         1306936,
         1724085013052
        ],
        [
         "file:/databricks/driver/conf/",
         "conf/",
         4096,
         1724085012400
        ],
        [
         "file:/databricks/driver/hadoop_accessed_config.lst",
         "hadoop_accessed_config.lst",
         2755,
         1724085013052
        ],
        [
         "file:/databricks/driver/azure/",
         "azure/",
         4096,
         1724085013056
        ],
        [
         "file:/databricks/driver/ganglia/",
         "ganglia/",
         4096,
         1724087702286
        ],
        [
         "file:/databricks/driver/logs/",
         "logs/",
         4096,
         1724088369677
        ],
        [
         "file:/databricks/driver/orders.txt",
         "orders.txt",
         475107,
         1724085807196
        ],
        [
         "file:/databricks/driver/metastore_db/",
         "metastore_db/",
         4096,
         1724085802840
        ],
        [
         "file:/databricks/driver/eventlogs/",
         "eventlogs/",
         4096,
         1724085464459
        ],
        [
         "file:/databricks/driver/output.csv",
         "output.csv",
         470281,
         1724088481147
        ]
       ],
       "datasetInfos": [],
       "dbfsResultPath": null,
       "isJsonSchema": true,
       "metadata": {
        "isDbfsCommandResult": false
       },
       "overflow": false,
       "plotOptions": {
        "customPlotOptions": {},
        "displayType": "table",
        "pivotAggregation": null,
        "pivotColumns": null,
        "xColumns": null,
        "yColumns": null
       },
       "removedWidgets": [],
       "schema": [
        {
         "metadata": "{}",
         "name": "path",
         "type": "\"string\""
        },
        {
         "metadata": "{}",
         "name": "name",
         "type": "\"string\""
        },
        {
         "metadata": "{}",
         "name": "size",
         "type": "\"long\""
        },
        {
         "metadata": "{}",
         "name": "modificationTime",
         "type": "\"long\""
        }
       ],
       "type": "table"
      }
     },
     "output_type": "display_data"
    }
   ],
   "source": [
    "%fs\n",
    "ls file:/databricks/driver/"
   ]
  },
  {
   "cell_type": "markdown",
   "metadata": {
    "application/vnd.databricks.v1+cell": {
     "cellMetadata": {},
     "inputWidgets": {},
     "nuid": "fa5abc2b-ee24-444c-98e4-1a3cd3620c21",
     "showTitle": false,
     "title": ""
    }
   },
   "source": []
  },
  {
   "cell_type": "markdown",
   "metadata": {
    "application/vnd.databricks.v1+cell": {
     "cellMetadata": {},
     "inputWidgets": {},
     "nuid": "7fd094c9-75df-4624-8af3-b848a2a46680",
     "showTitle": false,
     "title": ""
    }
   },
   "source": []
  },
  {
   "cell_type": "code",
   "execution_count": 0,
   "metadata": {
    "application/vnd.databricks.v1+cell": {
     "cellMetadata": {
      "byteLimit": 2048000,
      "rowLimit": 10000
     },
     "inputWidgets": {},
     "nuid": "da445737-2fd3-4895-bbda-ab71966130c6",
     "showTitle": false,
     "title": ""
    }
   },
   "outputs": [
    {
     "output_type": "stream",
     "name": "stdout",
     "output_type": "stream",
     "text": [
      "            order_id  order_date           customer_name               city         category       product_id       sales     profit\n0     CA-2018-100006  2018-09-07             Dennis Kane      New York City       Technology  TEC-PH-10002075    377.9700   109.6113\n1     CA-2018-100090  2018-07-08              Ed Braxton      San Francisco        Furniture  FUR-TA-10003715    502.4880   -87.9354\n2     CA-2018-100293  2018-03-14        Neil Französisch       Jacksonville  Office Supplies  OFF-PA-10000176     91.0560    31.8696\n3     CA-2018-100328  2018-01-28         Jasper Cacioppo      New York City  Office Supplies  OFF-BI-10000343      3.9280     1.3257\n4     CA-2018-100363  2018-04-08             Jim Mitchum           Glendale  Office Supplies  OFF-FA-10000611      2.3680     0.8288\n5     CA-2018-100391  2018-05-25           Barry Weirich      New York City  Office Supplies  OFF-PA-10001471     14.6200     6.7252\n6     CA-2018-100678  2018-04-18            Kunst Miller            Houston        Furniture  FUR-CH-10002602    317.0580   -18.1176\n7     CA-2018-100706  2018-12-16         Laurel Elliston        Springfield        Furniture  FUR-FU-10002268     29.4600     9.7218\n8     CA-2018-100762  2018-11-24              Nat Gilpin            Jackson  Office Supplies  OFF-AR-10000380    151.9200    45.5760\n9     CA-2018-100860  2018-03-26           Cindy Stewart             Pomona  Office Supplies  OFF-LA-10001982     18.7500     9.0000\n10    CA-2018-100867  2018-10-19       Eugene Hildebrand           Lakewood       Technology  TEC-PH-10004922    321.5520    20.0970\n11    CA-2018-100881  2018-03-28           Daniel Raglin        Albuquerque       Technology  TEC-PH-10003273    302.3760    22.6782\n12    CA-2018-100895  2018-06-02        Stewart Visinsky            Roswell  Office Supplies  OFF-AR-10004511      8.5600     2.6536\n13    CA-2018-100916  2018-10-21            Frank Hawley       Newport News        Furniture  FUR-TA-10004607    591.3200   112.3508\n14    CA-2018-100972  2018-11-19           Dennis Bolton     Salt Lake City  Office Supplies  OFF-PA-10000357    166.4400    79.8912\n15    CA-2018-101147  2018-12-02            Matt Collins            Chicago  Office Supplies  OFF-AP-10004249      2.3940    -6.3441\n16    CA-2018-101175  2018-12-09            Dario Medina               Mesa  Office Supplies  OFF-ST-10004950    100.7040    -1.2588\n17    CA-2018-101266  2018-08-27           Michael Moore        Springfield  Office Supplies  OFF-PA-10002986     13.3600     6.4128\n18    CA-2018-101364  2018-12-22       Tamara Willingham      New York City  Office Supplies  OFF-BI-10003984    296.7120   100.1403\n19    CA-2018-101392  2018-12-07              Ann Steele            Seattle  Office Supplies  OFF-ST-10000532    269.3600    70.0336\n20    CA-2018-101427  2018-12-26              Andy Yotov       Philadelphia  Office Supplies  OFF-AR-10002257      8.0160     1.1022\n21    CA-2018-101462  2018-04-20      Benjamin Patterson        Los Angeles        Furniture  FUR-FU-10000409     59.9200    27.5632\n22    CA-2018-101476  2018-09-12         Shirley Daniels       New Rochelle       Technology  TEC-MA-10000029     69.9900    30.0957\n23    CA-2018-101560  2018-11-28         Chris Selesnick           Columbia        Furniture  FUR-FU-10003773    397.6000    43.7360\n24    CA-2018-101602  2018-12-15           Mick Crebagga            El Paso        Furniture  FUR-CH-10004675    763.2800   -21.8080\n25    CA-2018-101770  2018-03-31              Karen Bern              Miami  Office Supplies  OFF-BI-10001097      1.8690    -1.3083\n26    CA-2018-101833  2018-11-17         Frank Gastineau      New York City  Office Supplies  OFF-PA-10003591     34.4400    17.2200\n27    CA-2018-101931  2018-10-28            Todd Sumrall        Los Angeles        Furniture  FUR-BO-10001337    616.9980   -36.2940\n28    CA-2018-102008  2018-09-30       Russell Applegate      New York City  Office Supplies  OFF-PA-10004092     48.9400    24.4700\n29    CA-2018-102085  2018-10-04             Joy Daniels            Seattle  Office Supplies  OFF-LA-10002475     29.2400    13.7428\n30    CA-2018-102274  2018-11-21           Dave Hallsten           Richmond  Office Supplies  OFF-AR-10002833      5.4600     1.4742\n31    CA-2018-102295  2018-11-24           Erica Hackney         Sacramento        Furniture  FUR-CH-10001714    120.7120   -18.1068\n32    CA-2018-102330  2018-12-29          Arianne Irving          Brentwood  Office Supplies  OFF-LA-10003923     88.8000    44.4000\n33    CA-2018-102645  2018-01-23           Ionia McGrath          Las Vegas  Office Supplies  OFF-PA-10001804     40.0800    19.2384\n34    CA-2018-102652  2018-04-06              Andy Yotov        Los Angeles        Furniture  FUR-FU-10000747     91.9600    15.6332\n35    CA-2018-102673  2018-11-01              Ken Heidel          Charlotte  Office Supplies  OFF-AR-10000634     10.2720     0.8988\n36    CA-2018-102869  2018-09-09            Logan Currie       Philadelphia        Furniture  FUR-FU-10002456     17.4720     5.0232\n37    CA-2018-102988  2018-04-05            Greg Maxwell         Alexandria  Office Supplies  OFF-AR-10000127     22.9600     6.6584\n38    CA-2018-103058  2018-07-23         Alejandro Grove      New York City       Technology  TEC-AC-10001314     99.9800     7.9984\n39    CA-2018-103086  2018-10-17           Evan Bailliet            Houston        Furniture  FUR-FU-10004586      5.3120    -1.5936\n40    CA-2018-103100  2018-12-20           Adrian Barton       Indianapolis  Office Supplies  OFF-BI-10004600   1103.9700   496.7865\n41    CA-2018-103191  2018-09-22             Vivek Grady            Chicago  Office Supplies  OFF-ST-10002574    331.5360   -82.8840\n42    CA-2018-103219  2018-11-09         Benjamin Farhat      New York City        Furniture  FUR-FU-10004091     56.5200    21.4776\n43    CA-2018-103310  2018-05-10           Greg Matthias           San Jose        Furniture  FUR-CH-10002320    256.7840    32.0980\n44    CA-2018-103317  2018-07-05              Don Miller         Palm Coast        Furniture  FUR-FU-10001591     19.5200     5.3680\n45    CA-2018-103331  2018-08-26              Karl Braun             Newark        Furniture  FUR-FU-10001731     10.6800     4.0584\n46    CA-2018-103366  2018-01-15           Erica Hackney            Roswell       Technology  TEC-AC-10003628    149.9500    65.9780\n47    CA-2018-103373  2018-05-18           Bruce Stewart          Cleveland       Technology  TEC-PH-10002885    779.7960  -168.9558\n48    CA-2018-103401  2018-11-21       Georgia Rosenberg      San Francisco  Office Supplies  OFF-PA-10003309     12.9600     6.2208\n49    CA-2018-103429  2018-05-30          Laurel Workman      New York City  Office Supplies  OFF-AP-10001005    235.9500    77.8635\n50    CA-2018-103492  2018-10-10          Craig Molinari         Huntsville  Office Supplies  OFF-BI-10004140      0.8980    -1.5715\n51    CA-2018-103527  2018-09-09            Chris Cortes            Chicago  Office Supplies  OFF-PA-10001622     10.8960     3.4050\n52    CA-2018-103590  2018-11-30         Jeremy Lonsdale       Mount Vernon  Office Supplies  OFF-EN-10004007     62.2800    29.2716\n53    CA-2018-103660  2018-08-25            Mitch Webber            Seattle       Technology  TEC-PH-10000895   1007.9440    75.5958\n54    CA-2018-103702  2018-09-12              Art Foster          Fairfield  Office Supplies  OFF-BI-10002429     63.9240   -46.8776\n55    CA-2018-103744  2018-02-23           Michael Grace            El Paso  Office Supplies  OFF-BI-10000320      4.4280    -6.8634\n56    CA-2018-103800  2018-01-03           Darren Powers            Houston  Office Supplies  OFF-PA-10000174     16.4480     5.5512\n57    CA-2018-103807  2018-12-02       Elizabeth Moffitt      Sandy Springs  Office Supplies  OFF-PA-10002195     15.2400     7.1628\n58    CA-2018-103849  2018-05-11           Paul Gonzalez         Fort Worth        Furniture  FUR-FU-10000723     66.1120   -84.2928\n59    CA-2018-103940  2018-09-17          Bradley Nguyen            Seattle        Furniture  FUR-FU-10004671     35.3400    13.4292\n60    CA-2018-103989  2018-03-19            Matt Connell           Lakeland        Furniture  FUR-FU-10002508     20.0160     5.5044\n61    CA-2018-104178  2018-08-25          Janet Molinari        Los Angeles        Furniture  FUR-FU-10000771      6.2800     2.6376\n62    CA-2018-104269  2018-03-01             Dave Brooks            Seattle        Furniture  FUR-CH-10004063    457.5680    51.4764\n63    CA-2018-104283  2018-06-27         Liz MacKendrick          Southaven        Furniture  FUR-TA-10001039     85.9800    22.3548\n64    CA-2018-104402  2018-06-17            Duane Benoit             Newark       Technology  TEC-MA-10000423     65.9700    31.0059\n65    CA-2018-104472  2018-06-02      Christine Kargatis               Orem        Furniture  FUR-FU-10000246     73.3200    21.9960\n66    CA-2018-104563  2018-03-07          Craig Molinari            Seattle        Furniture  FUR-CH-10002780    436.7040    21.8352\n67    CA-2018-104738  2018-12-30        Stefania Perrino             Laredo  Office Supplies  OFF-BI-10002160      2.2860    -3.6576\n68    CA-2018-104773  2018-12-08           Thomas Boland            Houston  Office Supplies  OFF-ST-10000777     60.4160     6.0416\n69    CA-2018-104780  2018-05-21         Bradley Talbott          San Diego  Office Supplies  OFF-AR-10003514     31.8400    10.5072\n70    CA-2018-104808  2018-02-04           Mark Haberlin          Escondido  Office Supplies  OFF-BI-10003676     17.2480     6.0368\n71    CA-2018-104829  2018-11-18              John Grady              Provo  Office Supplies  OFF-PA-10003016     21.9800     9.8910\n72    CA-2018-104976  2018-12-09             Cyma Kinney      San Francisco  Office Supplies  OFF-PA-10003845     34.6800    16.9932\n73    CA-2018-105165  2018-09-07              Sam Zeldin            Houston        Furniture  FUR-TA-10004154    200.7950   -22.9480\n74    CA-2018-105172  2018-04-04            Paul Knutson      San Francisco  Office Supplies  OFF-LA-10001641     18.9000     9.0720\n75    CA-2018-105249  2018-11-28           Duane Huffman      San Francisco        Furniture  FUR-BO-10000330    411.3320    -4.8392\n76    CA-2018-105270  2018-11-11          Arthur Prichep        Los Angeles        Furniture  FUR-CH-10000988    112.6480    11.2648\n77    CA-2018-105340  2018-11-22              Evan Henry           Pasadena  Office Supplies  OFF-BI-10001765      6.9280   -11.0848\n78    CA-2018-105417  2018-01-07        Vivek Sundaresam         Huntsville        Furniture  FUR-FU-10004864     76.7280   -53.7096\n79    CA-2018-105648  2018-03-03              Eva Jacobs          San Diego        Furniture  FUR-TA-10002958    626.3520   -23.4882\n80    CA-2018-105872  2018-05-30            James Galang      New York City  Office Supplies  OFF-BI-10003684     70.3680    26.3880\n81    CA-2018-105893  2018-11-11               Pete Kriz            Madison  Office Supplies  OFF-ST-10004186    665.8800    13.3176\n82    CA-2018-105984  2018-11-24         Muhammed Yedwab           Columbus        Furniture  FUR-CH-10000847    611.0580   -34.9176\n83    CA-2018-106054  2018-01-06           Jack O'Briant             Athens  Office Supplies  OFF-AR-10002399     12.7800     5.2398\n84    CA-2018-106229  2018-06-07            Nick Radford             Aurora        Furniture  FUR-TA-10002041    268.9350  -209.7693\n85    CA-2018-106264  2018-12-26            Clytie Kelty          San Diego        Furniture  FUR-FU-10001852      3.4800     1.1136\n86    CA-2018-106376  2018-12-05           Brendan Sweed            Gilbert  Office Supplies  OFF-AR-10002671   1113.0240   111.3024\n87    CA-2018-106439  2018-10-31            Greg Guthrie        Los Angeles        Furniture  FUR-CH-10003833    146.3520    -9.1470\n88    CA-2018-106572  2018-09-05              Nora Preis      Bowling Green  Office Supplies  OFF-ST-10000585    264.3200    19.8240\n89    CA-2018-106719  2018-08-24          Robert Barroso           Billings  Office Supplies  OFF-BI-10002799      8.2880     2.6936\n90    CA-2018-106726  2018-12-06          Roland Schwarz        Los Angeles  Office Supplies  OFF-ST-10001496   1261.3300   327.9458\n91    CA-2018-106803  2018-12-29            Debra Catini      Cottage Grove  Office Supplies  OFF-ST-10002444     24.5600     6.8768\n92    CA-2018-106810  2018-05-14         Anthony Johnson   Saint Petersburg        Furniture  FUR-FU-10004306    310.8800    23.3160\n93    CA-2018-106971  2018-09-02             Bryan Mills      Buffalo Grove       Technology  TEC-AC-10000844    475.9440    95.1888\n94    CA-2018-107139  2018-07-05           Dennis Pardue        Los Angeles  Office Supplies  OFF-BI-10001670    180.9600    67.8600\n95    CA-2018-107153  2018-09-28         George Zrebassa           Lawrence  Office Supplies  OFF-ST-10001321     46.2600    12.4902\n96    CA-2018-107181  2018-02-04       Deborah Brumfield          San Diego  Office Supplies  OFF-BI-10004230     82.8960    29.0136\n97    CA-2018-107398  2018-08-25           Brendan Sweed           Columbus  Office Supplies  OFF-BI-10001982      6.5280    -4.5696\n98    CA-2018-107454  2018-11-02             Roger Demir      New York City        Furniture  FUR-FU-10004018     89.3400    24.1218\n99    CA-2018-107524  2018-03-02           Kristina Nunn      New York City  Office Supplies  OFF-EN-10001990     11.3600     5.3392\n100   CA-2018-107573  2018-12-12            Philip Brown              Miami  Office Supplies  OFF-EN-10001099     23.4720     7.6284\n101   CA-2018-107594  2018-07-02           Eric Hoffmann         Plainfield  Office Supplies  OFF-AR-10000716      5.5800     2.1762\n102   CA-2018-107706  2018-02-14                Shui Tom            Houston  Office Supplies  OFF-PA-10000466     16.1760     6.0660\n103   CA-2018-107755  2018-02-07             Cyma Kinney             Linden       Technology  TEC-AC-10000710    115.3600    49.6048\n104   CA-2018-107769  2018-10-28              Bill Tyler        Garden City       Technology  TEC-PH-10001336    257.9800    74.8142\n105   CA-2018-107811  2018-04-29         Laura Armstrong            Memphis        Furniture  FUR-CH-10001394    561.5840    70.1980\n106   CA-2018-107818  2018-09-08              Marc Crier              Pasco        Furniture  FUR-CH-10000454    975.9200   121.9900\n107   CA-2018-107916  2018-08-24           Jennifer Patt          Oceanside        Furniture  FUR-FU-10004586     13.2800     6.3744\n108   CA-2018-108147  2018-06-08             Rick Duston         Long Beach  Office Supplies  OFF-BI-10003876     68.4800    25.6800\n109   CA-2018-108182  2018-02-06       Delfina Latchford         Romeoville  Office Supplies  OFF-BI-10001196      8.9520   -14.7708\n110   CA-2018-108189  2018-10-02              Erin Smith              Tempe  Office Supplies  OFF-EN-10004846     12.7680     4.6284\n111   CA-2018-108273  2018-12-16               Ed Jacobs         Huntsville        Furniture  FUR-FU-10002116     56.5680   -74.9526\n112   CA-2018-108609  2018-10-31          Anthony Jacobs             Lorain        Furniture  FUR-TA-10003954   1421.6640  -734.5264\n113   CA-2018-108707  2018-10-24             Daniel Byrd    Fort Lauderdale  Office Supplies  OFF-PA-10000788     10.3680     3.6288\n114   CA-2018-108861  2018-05-28         Magdelene Morse            Seattle  Office Supplies  OFF-BI-10003876    136.9600    51.3600\n115   CA-2018-108903  2018-10-03            Denny Ordway           Columbus  Office Supplies  OFF-AR-10004010     55.9840     4.1988\n116   CA-2018-109043  2018-08-15    Christine Sundaresam          Hollywood  Office Supplies  OFF-AP-10004708    152.2400    17.1270\n117   CA-2018-109127  2018-12-21            John Castell             Newark  Office Supplies  OFF-LA-10004409     17.2800     7.9488\n118   CA-2018-109134  2018-11-05              Deanra Eno        Los Angeles        Furniture  FUR-FU-10000320     20.0400     8.8176\n119   CA-2018-109218  2018-06-30          Anthony Rawles        Los Angeles  Office Supplies  OFF-AR-10001374     32.4000    10.3680\n120   CA-2018-109232  2018-01-13       Natalie DeCherney     Mount Pleasant        Furniture  FUR-CH-10000422    545.9400    87.3504\n121   CA-2018-109302  2018-08-12         Charles Sheldon           Lakewood  Office Supplies  OFF-BI-10002854    196.2100    98.1050\n122   CA-2018-109491  2018-02-20          Linda Cazamias           Richmond        Furniture  FUR-FU-10000221     20.3200     6.9088\n123   CA-2018-109680  2018-10-06        Victoria Pisteka       Indianapolis  Office Supplies  OFF-ST-10001932    386.3400    54.0876\n124   CA-2018-109855  2018-09-01          Lena Hernandez      New York City  Office Supplies  OFF-BI-10004716     23.7440     8.3104\n125   CA-2018-109890  2018-07-21         Patrick Gardner              Omaha       Technology  TEC-PH-10004100     35.9800    10.0744\n126   CA-2018-109897  2018-08-12             Ben Wallace      San Francisco        Furniture  FUR-FU-10002878     85.4400    31.6128\n127   CA-2018-109904  2018-07-14          Barbara Fisher      New York City  Office Supplies  OFF-AR-10004999     17.9400     4.4850\n128   CA-2018-109918  2018-09-07               Lisa Ryan        Santa Clara  Office Supplies  OFF-BI-10004308     83.9200    31.4700\n129   CA-2018-109932  2018-12-09        Victoria Pisteka        Brownsville  Office Supplies  OFF-PA-10001804     10.6880     3.7408\n130   CA-2018-110030  2018-12-06             Luke Foster            Houston        Furniture  FUR-FU-10002759     23.9760   -14.3856\n131   CA-2018-110065  2018-08-05        Stephanie Phelps      New York City  Office Supplies  OFF-AR-10004165     15.9600     7.0224\n132   CA-2018-110072  2018-10-22       Maureen Gastineau             Newark        Furniture  FUR-FU-10000521     93.8880    12.9096\n133   CA-2018-110100  2018-04-25          Lena Creighton         Wilmington       Technology  TEC-PH-10004531    302.3760    37.7970\n134   CA-2018-110184  2018-07-12              Ben Ferrer        Los Angeles  Office Supplies  OFF-ST-10000107    249.7500    44.9550\n135   CA-2018-110219  2018-05-05             Emily Burns        San Antonio        Furniture  FUR-CH-10001146    127.8690    -9.1335\n136   CA-2018-110352  2018-11-23            Emily Ducich            Houston  Office Supplies  OFF-LA-10003923     23.6800     8.8800\n137   CA-2018-110408  2018-10-18       Alan Schoenberger         Montgomery        Furniture  FUR-CH-10003774    545.8800    70.9644\n138   CA-2018-110422  2018-01-21        Tom Boeckenhauer              Miami        Furniture  FUR-FU-10001889     25.2480     4.1028\n139   CA-2018-110527  2018-08-09            Emily Ducich          San Diego  Office Supplies  OFF-LA-10000262     20.8800     9.6048\n140   CA-2018-110555  2018-04-11          Michelle Moray        Great Falls  Office Supplies  OFF-ST-10000876     87.0800    24.3824\n141   CA-2018-110611  2018-10-06             Joy Daniels       Philadelphia  Office Supplies  OFF-ST-10000642     83.9200   -13.6370\n142   CA-2018-110639  2018-08-23             Rick Hansen      New York City  Office Supplies  OFF-PA-10003936     25.9200    12.4416\n143   CA-2018-110786  2018-12-29         Anthony Johnson      San Francisco        Furniture  FUR-FU-10000550     24.9000     8.2170\n144   CA-2018-110849  2018-04-18                John Lee        Los Angeles  Office Supplies  OFF-AR-10000657     10.7500     3.5475\n145   CA-2018-111003  2018-06-01             Corey Roper           Lakewood  Office Supplies  OFF-AR-10002135    289.2000    83.8680\n146   CA-2018-111059  2018-02-03        Tom Boeckenhauer            Seattle  Office Supplies  OFF-BI-10002827     13.2720     4.3134\n147   CA-2018-111150  2018-12-31            Rob Williams           Columbia  Office Supplies  OFF-AR-10000034     29.6800    11.5752\n148   CA-2018-111157  2018-03-02           Nicole Hansen       Philadelphia  Office Supplies  OFF-PA-10000327      3.4240     1.0700\n149   CA-2018-111192  2018-07-30             Tom Stivers            Seattle        Furniture  FUR-BO-10002916   1367.8400   259.8896\n150   CA-2018-111360  2018-11-24             Alyssa Tate              Akron  Office Supplies  OFF-BI-10003350      5.7420    -4.5936\n151   CA-2018-111451  2018-12-26           Kelly Lampkin   Colorado Springs        Furniture  FUR-CH-10001891    230.3520    20.1558\n152   CA-2018-111500  2018-08-17               Don Jones        Little Rock  Office Supplies  OFF-BI-10000829     17.9600     8.2616\n153   CA-2018-111773  2018-06-29            Jim Karlsson      New York City  Office Supplies  OFF-BI-10000174     13.9200     4.8720\n154   CA-2018-111857  2018-04-23            Nathan Mautz      San Francisco  Office Supplies  OFF-PA-10001878     48.9100    22.9877\n155   CA-2018-111871  2018-03-18           Eileen Kiefer      San Francisco        Furniture  FUR-BO-10004218   1198.3300    70.4900\n156   CA-2018-111899  2018-05-04             Nat Carroll            Houston  Office Supplies  OFF-AR-10001725     37.8400     2.8380\n157   CA-2018-111934  2018-05-05        Giulietta Dortch          Arlington  Office Supplies  OFF-BI-10004364     11.8800     5.3460\n158   CA-2018-111962  2018-09-29           Evan Bailliet            Seattle  Office Supplies  OFF-BI-10001308     10.0480     3.1400\n159   CA-2018-112158  2018-12-02          David Philippe      New York City        Furniture  FUR-BO-10003272    883.9200  -110.4900\n160   CA-2018-112291  2018-04-03         Katrina Edelman        Los Angeles  Office Supplies  OFF-EN-10001415     11.1600     5.5800\n161   CA-2018-112326  2018-01-04           Phillina Ober         Naperville  Office Supplies  OFF-BI-10004094      3.5400    -5.4870\n162   CA-2018-112403  2018-03-31           Jas O'Carroll       Philadelphia  Office Supplies  OFF-BI-10003529      0.8520    -0.5964\n163   CA-2018-112718  2018-12-16             Kean Nguyen       Jacksonville  Office Supplies  OFF-BI-10000591      1.1670    -0.8558\n164   CA-2018-112837  2018-09-11          Liz Willingham             Oxnard        Furniture  FUR-FU-10004006    127.9500    21.7515\n165   CA-2018-112851  2018-09-17            Nick Radford        Chula Vista  Office Supplies  OFF-EN-10001453    182.9400    85.9818\n166   CA-2018-113047  2018-10-24          Arthur Prichep          Rock Hill  Office Supplies  OFF-FA-10002763     11.8500     3.7920\n167   CA-2018-113166  2018-12-24             Luke Foster              Miami  Office Supplies  OFF-PA-10001947      9.5680     3.4684\n168   CA-2018-113257  2018-12-16        Sean Christensen           Beaumont        Furniture  FUR-FU-10001706      8.6240    -2.5872\n169   CA-2018-113271  2018-07-09            Darrin Sayre      San Francisco        Furniture  FUR-BO-10004218    119.8330     7.0490\n170   CA-2018-113320  2018-12-12        Logan Haushalter            Oakland        Furniture  FUR-FU-10001706      9.2400     4.4352\n171   CA-2018-113362  2018-09-14            Astrea Jones          Rochester  Office Supplies  OFF-EN-10003845     11.0700     5.0922\n172   CA-2018-113383  2018-09-10         Sandra Flanagan            Clifton        Furniture  FUR-FU-10001986    254.9000    76.4700\n173   CA-2018-113579  2018-12-13        Katherine Ducich        Los Angeles  Office Supplies  OFF-PA-10001457     90.2400    41.5104\n174   CA-2018-113768  2018-05-13           Aaron Hawkins        Los Angeles        Furniture  FUR-CH-10002439    279.4560    20.9592\n175   CA-2018-113859  2018-09-13           Becky Castell             Odessa        Furniture  FUR-CH-10004698    340.1160    -9.7176\n176   CA-2018-113880  2018-03-01          Vicky Freymann           Elmhurst        Furniture  FUR-CH-10000863    634.1160  -172.1172\n177   CA-2018-113887  2018-04-05           Tracy Hopkins      New York City  Office Supplies  OFF-PA-10004071     55.4800    26.6304\n178   CA-2018-113929  2018-06-16     Chloris Kastensmidt          Hempstead  Office Supplies  OFF-AR-10003772     35.0000    10.5000\n179   CA-2018-113964  2018-09-23          Julie Prescott      New York City  Office Supplies  OFF-BI-10004654     18.4640     6.9240\n180   CA-2018-114125  2018-07-09             Gary Hansen        Los Angeles  Office Supplies  OFF-BI-10003291     41.9040    14.1426\n181   CA-2018-114181  2018-05-10              Art Foster       Philadelphia        Furniture  FUR-BO-10004467    349.9650  -216.9783\n182   CA-2018-114195  2018-11-01           Erin Ashbrook              Mason        Furniture  FUR-FU-10002253     68.7040    16.3172\n183   CA-2018-114251  2018-11-05           Maribeth Dona       Philadelphia        Furniture  FUR-FU-10001468    273.5680   -34.1960\n184   CA-2018-114314  2018-10-11         Dorothy Badders       Fayetteville        Furniture  FUR-FU-10002107      8.9200     3.9248\n185   CA-2018-114321  2018-08-20           Nick Crebassa            Hampton        Furniture  FUR-CH-10001797    500.2400   145.0696\n186   CA-2018-114335  2018-09-28            Xylona Preis          Hollywood        Furniture  FUR-FU-10000277    337.0880    16.8\n\n*** WARNING: max output size exceeded, skipping output. ***\n\n  US-2021-120390  2021-10-19           Tracy Hopkins         Burlington  Office Supplies  OFF-BI-10004995   1633.1880 -1306.5504\n4822  US-2021-120418  2021-06-11           Becky Castell             Peoria        Furniture  FUR-CH-10001394    280.7920    35.0990\n4823  US-2021-120607  2021-05-19            John Castell            Atlanta  Office Supplies  OFF-PA-10003129    195.6400    91.9508\n4824  US-2021-120649  2021-01-20            Jeremy Farry          Waterbury  Office Supplies  OFF-AR-10001545      3.5200     1.0208\n4825  US-2021-120908  2021-09-30          Barbara Fisher       Philadelphia  Office Supplies  OFF-LA-10004677     20.6640     6.9741\n4826  US-2021-121251  2021-03-26             Gary McGarr      New York City        Furniture  FUR-BO-10001918    257.5680   -28.9764\n4827  US-2021-122637  2021-09-03              Emily Phan            Chicago  Office Supplies  OFF-BI-10002429     42.6160   -68.1856\n4828  US-2021-122672  2021-11-04           Henry Goldwyn          Lancaster  Office Supplies  OFF-ST-10002344    194.3520   -43.7292\n4829  US-2021-122714  2021-12-07           Henry Goldwyn            Chicago  Office Supplies  OFF-BI-10001120   1889.9900 -2929.4845\n4830  US-2021-123204  2021-07-21         Cari Schnelling      New York City  Office Supplies  OFF-AP-10002287     17.4800     4.5448\n4831  US-2021-123281  2021-04-02            Jamie Frazer        Los Angeles        Furniture  FUR-FU-10003724     25.1100     6.5286\n4832  US-2021-123463  2021-12-23           Gary Zandusky      San Francisco  Office Supplies  OFF-AR-10001118     13.4800     5.9312\n4833  US-2021-123834  2021-07-21            Gene McClure              Pharr        Furniture  FUR-TA-10001676    124.4040   -21.3264\n4834  US-2021-123862  2021-01-07            Jamie Frazer         Long Beach  Office Supplies  OFF-FA-10003112      7.8900     3.5505\n4835  US-2021-124303  2021-07-06            Fred Hopkins       Philadelphia  Office Supplies  OFF-BI-10000343      2.9460    -2.2586\n4836  US-2021-124779  2021-09-08       Barry Französisch          Arlington        Furniture  FUR-CH-10003535    213.4300   -39.6370\n4837  US-2021-124821  2021-06-25          Anne McFarland            Seattle        Furniture  FUR-TA-10000688    871.4000   148.1380\n4838  US-2021-124926  2021-11-13           Maria Etezadi            Houston  Office Supplies  OFF-AP-10004868      9.3240   -24.7086\n4839  US-2021-124968  2021-09-08          Michelle Moray            Chicago        Furniture  FUR-TA-10004289    765.6250  -566.5625\n4840  US-2021-125213  2021-12-11               Nona Balk           Paterson  Office Supplies  OFF-FA-10001561      6.5400     2.1582\n4841  US-2021-125647  2021-09-23           Lena Cacioppo            Chicago  Office Supplies  OFF-AP-10000390     73.1760  -197.5752\n4842  US-2021-125717  2021-09-28            Darrin Sayre             Aurora        Furniture  FUR-FU-10001979     32.7760     3.2776\n4843  US-2021-125808  2021-11-12              Emily Phan        Los Angeles  Office Supplies  OFF-PA-10001846     11.5600     5.6644\n4844  US-2021-126053  2021-12-05          Carlos Soltero      New York City        Furniture  FUR-FU-10001934     41.9600    10.9096\n4845  US-2021-126060  2021-04-14          Dorothy Wardle       Fayetteville        Furniture  FUR-BO-10003433    198.2720   -32.2192\n4846  US-2021-126081  2021-06-29              Fred Chung           Mesquite  Office Supplies  OFF-PA-10003953      5.1840     1.8144\n4847  US-2021-126179  2021-07-03             Chuck Sachs           Columbus        Furniture  FUR-FU-10002554     23.9900     5.5177\n4848  US-2021-127292  2021-01-19           Raymond Messe         Burlington  Office Supplies  OFF-AP-10000828    542.9400   152.0232\n4849  US-2021-127341  2021-01-29            Clytie Kelty            Chicago  Office Supplies  OFF-BI-10001072     12.1280   -20.6176\n4850  US-2021-127719  2021-07-21       Tamara Willingham         Plainfield  Office Supplies  OFF-PA-10001934      6.4800     3.1752\n4851  US-2021-128118  2021-11-24         Maribeth Yedwab            Memphis  Office Supplies  OFF-BI-10000216     11.6730    -7.7820\n4852  US-2021-128398  2021-05-02       Elizabeth Moffitt        Los Angeles       Technology  TEC-AC-10001714    159.5600    59.0372\n4853  US-2021-128447  2021-11-10            Michael Chen              Pasco  Office Supplies  OFF-AP-10004540    400.8000   112.2240\n4854  US-2021-128832  2021-04-24        Linda Southworth         Providence       Technology  TEC-AC-10004855     69.9800     4.8986\n4855  US-2021-128951  2021-07-15         Ricardo Sperren            Suffolk        Furniture  FUR-TA-10004575    872.9400   157.1292\n4856  US-2021-129203  2021-04-17           Brendan Murry            Chicago  Office Supplies  OFF-ST-10001418    195.1360   -43.9056\n4857  US-2021-129224  2021-03-17              Ann Steele          Knoxville  Office Supplies  OFF-LA-10003190      4.6080     1.6704\n4858  US-2021-129441  2021-09-07         Jasper Cacioppo        Los Angeles        Furniture  FUR-FU-10000448     47.9400     2.3970\n4859  US-2021-129777  2021-07-03            Frank Merwin             Quincy  Office Supplies  OFF-PA-10001970     24.5600    11.5432\n4860  US-2021-130603  2021-09-30        Sample Company A          Arlington  Office Supplies  OFF-BI-10000301     11.6460   -17.4690\n4861  US-2021-130687  2021-09-07       Phillip Flathmann            Edmonds        Furniture  FUR-FU-10004053     80.9600    34.8128\n4862  US-2021-130953  2021-07-29            Roland Fjeld      Oklahoma City        Furniture  FUR-CH-10004626    302.6700    72.6408\n4863  US-2021-131583  2021-06-10             Carl Ludwig       Philadelphia  Office Supplies  OFF-PA-10000380     40.0320    15.0120\n4864  US-2021-131849  2021-06-06             Gary Hansen      San Francisco        Furniture  FUR-FU-10004164      4.9500     2.1780\n4865  US-2021-131961  2021-12-08               Max Jones       Philadelphia  Office Supplies  OFF-AR-10004441     13.2480     3.6432\n4866  US-2021-132031  2021-04-23          Parhena Norris        Clarksville        Furniture  FUR-BO-10001972    387.1360   -14.5176\n4867  US-2021-132059  2021-09-23          Arthur Prichep       Fort Collins        Furniture  FUR-BO-10001811    180.5880  -240.7840\n4868  US-2021-132206  2021-06-16         Michael Kennedy            Chicago  Office Supplies  OFF-BI-10000756      5.9360    -8.9040\n4869  US-2021-132220  2021-11-12               Don Jones              Tempe       Technology  TEC-AC-10004227     62.3520   -10.9116\n4870  US-2021-132297  2021-05-27           Dianna Wilson         Louisville  Office Supplies  OFF-BI-10003364     58.3400    28.0032\n4871  US-2021-132381  2021-08-22             Dean percer       Philadelphia        Furniture  FUR-TA-10002356    314.5320   -83.8752\n4872  US-2021-132444  2021-11-18        Christina DeMoss            Seattle  Office Supplies  OFF-BI-10001116      8.4480     2.9568\n4873  US-2021-132675  2021-09-24          Karen Ferguson      Sandy Springs  Office Supplies  OFF-AR-10000034     12.7200     4.9608\n4874  US-2021-132927  2021-12-09             Roger Demir       Philadelphia  Office Supplies  OFF-BI-10001116     11.0880    -8.1312\n4875  US-2021-133081  2021-03-11           Paul Van Hugh          Cambridge        Furniture  FUR-FU-10001379     26.7200    11.7568\n4876  US-2021-133200  2021-05-06         Dorothy Badders         Fort Worth        Furniture  FUR-BO-10001601    623.4648  -119.1918\n4877  US-2021-133312  2021-11-25         Bradley Drucker      San Francisco        Furniture  FUR-BO-10002213    359.4990   -29.6058\n4878  US-2021-133361  2021-05-14          Anthony Jacobs          Baltimore        Furniture  FUR-CH-10003298    261.9600    23.5764\n4879  US-2021-133781  2021-06-22            Dan Campbell              Miami  Office Supplies  OFF-EN-10004483     37.6080    12.6927\n4880  US-2021-134481  2021-08-27        Allen Rosenblatt           Franklin        Furniture  FUR-TA-10004915   1488.4240  -297.6848\n4881  US-2021-134642  2021-02-25             Scot Wooten         Greenville        Furniture  FUR-BO-10004709    231.9200     5.7980\n4882  US-2021-135013  2021-07-24             Harold Ryan   Huntington Beach       Technology  TEC-CO-10001449   2399.9600   839.9860\n4883  US-2021-135062  2021-08-31               Rob Lucas       Fayetteville  Office Supplies  OFF-PA-10000100    229.5440    83.2097\n4884  US-2021-135230  2021-09-01      Christine Kargatis            Seattle  Office Supplies  OFF-AR-10001166      7.5800     2.9562\n4885  US-2021-135503  2021-12-10          Justin Ellison   North Charleston        Furniture  FUR-FU-10002364     14.7600     4.2804\n4886  US-2021-135986  2021-06-20           Paul Gonzalez           Richmond  Office Supplies  OFF-PA-10001534     32.4000    15.5520\n4887  US-2021-136189  2021-12-07            Debra Catini           Richmond        Furniture  FUR-FU-10000175     82.3800    25.5378\n4888  US-2021-136679  2021-11-14            Xylona Preis           Pasadena  Office Supplies  OFF-AR-10003582     45.0400     4.5040\n4889  US-2021-136707  2021-11-12                 Jim Epp        Los Angeles  Office Supplies  OFF-BI-10003460     14.0160     4.9056\n4890  US-2021-136721  2021-04-08           Nicole Hansen           Oak Park        Furniture  FUR-FU-10004188    306.9000    79.7940\n4891  US-2021-136784  2021-04-30          Alan Dominguez      San Francisco  Office Supplies  OFF-PA-10000675    163.9600    80.3404\n4892  US-2021-136868  2021-10-06             Cyra Reiten      New York City  Office Supplies  OFF-PA-10002377     17.0400     7.6680\n4893  US-2021-137491  2021-11-19          Linda Cazamias         San Angelo        Furniture  FUR-CH-10004675    305.3120    -8.7232\n4894  US-2021-138086  2021-04-16            Jesus Ocampo      San Francisco  Office Supplies  OFF-AP-10000027     40.7400    12.2220\n4895  US-2021-139465  2021-08-27            Mathew Reese      New York City  Office Supplies  OFF-BI-10003910     37.0080    11.5650\n4896  US-2021-139577  2021-10-01           Tanja Norvell      San Francisco       Technology  TEC-AC-10004708    104.7500    21.9975\n4897  US-2021-139647  2021-05-11            Todd Sumrall            Phoenix        Furniture  FUR-BO-10004467    209.9790  -356.9643\n4898  US-2021-139955  2021-09-28       Charles McCrossin        Brownsville  Office Supplies  OFF-SU-10001935      1.7440    -0.3488\n4899  US-2021-139969  2021-11-19            Art Ferguson    College Station        Furniture  FUR-CH-10001973    233.0580   -53.2704\n4900  US-2021-140074  2021-03-23          Erin Creighton      New York City  Office Supplies  OFF-PA-10002741     25.6800    11.5560\n4901  US-2021-140312  2021-11-13            Ken Lonsdale             Dublin       Technology  TEC-PH-10003442     22.0000     1.3750\n4902  US-2021-140907  2021-12-10            Ben Peterman            Seattle  Office Supplies  OFF-AR-10000799     18.2400     5.2896\n4903  US-2021-141509  2021-09-29            Sonia Cooley        Los Angeles  Office Supplies  OFF-AR-10002067     99.2000    25.7920\n4904  US-2021-141558  2021-03-11           Marc Harrigan       Philadelphia        Furniture  FUR-TA-10004086    154.7640   -46.4292\n4905  US-2021-141677  2021-03-26        Heather Kirkland            Houston  Office Supplies  OFF-AP-10001205     87.1680  -226.6368\n4906  US-2021-141698  2021-04-15         Shirley Daniels            Houston  Office Supplies  OFF-PA-10001826     20.7360     7.2576\n4907  US-2021-141852  2021-11-09              Joel Eaton          Oceanside        Furniture  FUR-FU-10000023     47.1200    20.7328\n4908  US-2021-141943  2021-05-05          Darren Koutras      San Francisco  Office Supplies  OFF-EN-10003448     23.1600    11.5800\n4909  US-2021-142188  2021-09-11       Jennifer Ferguson            Seattle        Furniture  FUR-CH-10003199    177.5680     8.8784\n4910  US-2021-142573  2021-07-18            Maris LaWare            Phoenix        Furniture  FUR-CH-10000513    311.9760   -42.8967\n4911  US-2021-143028  2021-04-11        Sample Company A            Lubbock  Office Supplies  OFF-BI-10004738     11.3640   -17.0460\n4912  US-2021-143175  2021-08-03         George Ashbrook        Los Angeles  Office Supplies  OFF-ST-10003123     99.8700    23.9688\n4913  US-2021-143770  2021-03-20             Roger Demir         Middletown  Office Supplies  OFF-PA-10001125     61.9600    27.8820\n4914  US-2021-144582  2021-04-30            Tony Chapman           Danville  Office Supplies  OFF-BI-10001575     43.3720   -69.3952\n4915  US-2021-145366  2021-12-09       Christine Abelman         Cincinnati  Office Supplies  OFF-EN-10004386     57.5760    21.5910\n4916  US-2021-145597  2021-11-02            Greg Guthrie        Bloomington  Office Supplies  OFF-AR-10001958     54.3360     5.4336\n4917  US-2021-145863  2021-04-21            Resi Pölking            Houston  Office Supplies  OFF-BI-10002049      2.9340    -4.9878\n4918  US-2021-146213  2021-09-09            Matt Connell        Los Angeles       Technology  TEC-AC-10001114    159.9600    51.1872\n4919  US-2021-146416  2021-10-20          Justin Ellison           Woodland  Office Supplies  OFF-BI-10001787     20.9280     7.5864\n4920  US-2021-146822  2021-06-09             Anna Gayman              Salem  Office Supplies  OFF-PA-10000249     49.1200    23.0864\n4921  US-2021-146878  2021-09-21              Dan Lawera              Miami  Office Supplies  OFF-BI-10002794     12.2940    -8.6058\n4922  US-2021-146906  2021-03-13             Meg Tillman      New York City       Technology  TEC-PH-10001809    299.9000    74.9750\n4923  US-2021-147221  2021-12-02               Joy Smith            Houston        Furniture  FUR-FU-10004020      8.7520    -3.7196\n4924  US-2021-147655  2021-09-04          Aaron Smayling            Redmond  Office Supplies  OFF-BI-10002931     88.0740   -58.7160\n4925  US-2021-147669  2021-12-25         Susan Vittorini          Fairfield        Furniture  FUR-TA-10002645    273.0600  -104.6730\n4926  US-2021-147886  2021-03-28           Dave Hallsten          Fairfield        Furniture  FUR-FU-10001095     26.4800    10.0624\n4927  US-2021-147984  2021-01-28       Giulietta Baptist            Wichita  Office Supplies  OFF-PA-10000806    279.9000   137.1510\n4928  US-2021-147998  2021-05-19            Sue Ann Reed           San Jose  Office Supplies  OFF-BI-10002082    133.1200    49.9200\n4929  US-2021-148054  2021-10-06           Nick Zandusky           Meridian        Furniture  FUR-FU-10003247     41.9600     2.9372\n4930  US-2021-148362  2021-07-01          Karen Ferguson       Indianapolis  Office Supplies  OFF-BI-10003656    169.9900    78.1954\n4931  US-2021-148551  2021-01-12            David Bremer             Dallas  Office Supplies  OFF-BI-10000545    760.9800 -1141.4700\n4932  US-2021-148768  2021-11-30          Parhena Norris              Miami       Technology  TEC-PH-10002564     71.9760     8.9970\n4933  US-2021-148831  2021-10-13              Alan Hwang         Louisville  Office Supplies  OFF-ST-10002974    348.5600   104.5680\n4934  US-2021-148866  2021-09-19          Jessica Myrick      New York City  Office Supplies  OFF-PA-10004782     32.4000    15.5520\n4935  US-2021-149006  2021-12-06            Brad Norvell          Brentwood  Office Supplies  OFF-ST-10003221     10.6800     2.8836\n4936  US-2021-149510  2021-12-03            Matt Collins       Fayetteville  Office Supplies  OFF-AP-10002350     45.2160     4.5216\n4937  US-2021-150070  2021-09-07            Joseph Airdo            Modesto        Furniture  FUR-CH-10004860    161.5680   -28.2744\n4938  US-2021-150595  2021-05-22         Laurel Elliston            Chicago        Furniture  FUR-CH-10000513    181.9860   -54.5958\n4939  US-2021-150847  2021-04-30            Jeremy Farry           Columbus  Office Supplies  OFF-PA-10004451     10.3680     3.6288\n4940  US-2021-151127  2021-05-22               Rob Lucas        Los Angeles  Office Supplies  OFF-AR-10002445     49.5600    18.8328\n4941  US-2021-151316  2021-06-24          Matthew Clasen            Decatur  Office Supplies  OFF-BI-10004632    182.9940  -320.2395\n4942  US-2021-152002  2021-06-11        Dianna Vittorini        Los Angeles  Office Supplies  OFF-PA-10000357    122.9700    60.2553\n4943  US-2021-152366  2021-04-21         Shirley Jackson            Houston  Office Supplies  OFF-AP-10002684     97.2640  -243.1600\n4944  US-2021-152380  2021-11-19         Jonathan Howell            Chicago        Furniture  FUR-TA-10002533    219.0750  -131.4450\n4945  US-2021-152492  2021-07-06             Angele Hood              Miami        Furniture  FUR-CH-10000155    239.2400    23.9240\n4946  US-2021-152569  2021-05-15             Joy Daniels            Chicago  Office Supplies  OFF-PA-10001736     56.7040    19.1376\n4947  US-2021-152842  2021-07-16        Natalie Fritzler          Charlotte        Furniture  FUR-CH-10004218    242.3520    15.1470\n4948  US-2021-152898  2021-09-11       Cassandra Brandow           Richmond  Office Supplies  OFF-AP-10000027     67.9000    20.3700\n4949  US-2021-153255  2021-09-03           Joe Kamberova            Concord        Furniture  FUR-BO-10004218    239.6660    14.0980\n4950  US-2021-153633  2021-11-13           Toby Carlisle            Jupiter  Office Supplies  OFF-AR-10002335      2.0640     0.1548\n4951  US-2021-153948  2021-11-06            Frank Merwin      San Francisco  Office Supplies  OFF-LA-10000414     41.4000    19.8720\n4952  US-2021-154851  2021-03-30               Becky Pak          Lancaster  Office Supplies  OFF-BI-10001525      5.7150    -4.7625\n4953  US-2021-154872  2021-05-14           Darren Powers          Cleveland  Office Supplies  OFF-BI-10003007     58.1700   -46.5360\n4954  US-2021-155299  2021-06-08            Dorris liebe           Pasadena  Office Supplies  OFF-AP-10002203      1.6240    -4.4660\n4955  US-2021-155425  2021-11-10               Ann Blume             Tucson        Furniture  FUR-CH-10003312    899.1360  -146.1096\n4956  US-2021-155866  2021-11-17      Christopher Conant      New York City        Furniture  FUR-FU-10004091    187.7600    76.9816\n4957  US-2021-155999  2021-08-07              Jay Kimmel          San Diego  Office Supplies  OFF-BI-10000404     13.7600     4.6440\n4958  US-2021-156083  2021-11-04            James Lanier           Columbia  Office Supplies  OFF-PA-10001560      9.6640     3.2616\n4959  US-2021-156356  2021-04-16       Natalie DeCherney            Houston  Office Supplies  OFF-BI-10000632     26.0460   -44.2782\n4960  US-2021-156909  2021-07-16         Sandra Flanagan       Philadelphia        Furniture  FUR-CH-10002774     71.3720    -1.0196\n4961  US-2021-157224  2021-09-14               Joy Bell-        Los Angeles  Office Supplies  OFF-LA-10000121     56.7000    26.0820\n4962  US-2021-157896  2021-11-16        Christy Brittain      New York City  Office Supplies  OFF-PA-10004092    146.8200    73.4100\n4963  US-2021-158218  2021-05-12           Alyssa Crouse            Houston  Office Supplies  OFF-BI-10002133     34.2400   -53.0720\n4964  US-2021-158505  2021-07-21            Sarah Foster             Murray  Office Supplies  OFF-AR-10001044     25.9900     7.5371\n4965  US-2021-158512  2021-01-12           Dianna Arnett         Washington        Furniture  FUR-FU-10004973     37.6800    15.8256\n4966  US-2021-158526  2021-12-29        Katherine Hughes         Louisville        Furniture  FUR-CH-10001270    258.7500    77.6250\n4967  US-2021-158946  2021-11-18               Jane Waco           Lakewood  Office Supplies  OFF-AR-10001860     38.8640     7.7728\n4968  US-2021-159205  2021-03-31             Daniel Byrd          Henderson        Furniture  FUR-FU-10001591     61.0000    25.6200\n4969  US-2021-159562  2021-09-09               Joy Bell-          Roseville  Office Supplies  OFF-EN-10000461     17.4800     8.2156\n4970  US-2021-160143  2021-03-31           Henry Goldwyn        Los Angeles  Office Supplies  OFF-SU-10004231     29.7000     8.0190\n4971  US-2021-160465  2021-07-21              Sean Wendt          Cleveland  Office Supplies  OFF-BI-10001670     33.9300   -22.6200\n4972  US-2021-160759  2021-12-11          Arianne Irving       Philadelphia        Furniture  FUR-CH-10002961     63.6860    -9.0980\n4973  US-2021-160836  2021-09-11           Cindy Chapman            Houston        Furniture  FUR-TA-10002855    512.1900   -65.8530\n4974  US-2021-161193  2021-11-20          Brian Thompson             Newark        Furniture  FUR-FU-10000206      4.6560     1.5714\n4975  US-2021-161935  2021-07-14                John Lee           Columbus        Furniture  FUR-FU-10002937    396.9200   148.8450\n4976  US-2021-162068  2021-12-28          Pamela Coakley           Loveland  Office Supplies  OFF-BI-10002813      1.1880    -0.9900\n4977  US-2021-162124  2021-05-06            Jeremy Farry            Chicago       Technology  TEC-AC-10001990    191.9680    28.7952\n4978  US-2021-162208  2021-08-27        Stefania Perrino              Tampa  Office Supplies  OFF-EN-10004030      2.8960     0.9774\n4979  US-2021-162558  2021-10-02             Dean percer          Knoxville        Furniture  FUR-FU-10002364     11.8080     1.3284\n4980  US-2021-162670  2021-12-23          Monica Federle        Little Rock  Office Supplies  OFF-EN-10001453    182.9400    85.9818\n4981  US-2021-163195  2021-02-17      Lauren Leatherbury          Lafayette       Technology  TEC-PH-10003875     29.1600     8.4564\n4982  US-2021-163300  2021-09-15             Erica Smith        Los Angeles        Furniture  FUR-CH-10003396    184.7520   -20.7846\n4983  US-2021-163657  2021-09-02               Janet Lee        Los Angeles        Furniture  FUR-TA-10004607    236.5280    -2.9566\n4984  US-2021-163790  2021-11-02          Nancy Lomonaco           Danville        Furniture  FUR-FU-10002508     25.0200    10.5084\n4985  US-2021-164056  2021-04-29           Filia McAdams             Dublin        Furniture  FUR-TA-10001307   1048.3500   -69.8900\n4986  US-2021-164147  2021-02-02          Dorothy Wardle           Columbus  Office Supplies  OFF-FA-10002780     21.4560     6.9732\n4987  US-2021-165344  2021-11-13            Sean Braxton        Springfield  Office Supplies  OFF-BI-10003196     11.2200    -7.4800\n4988  US-2021-165358  2021-07-18             Seth Vernon       Philadelphia        Furniture  FUR-CH-10002647    198.7440   -14.1960\n4989  US-2021-165456  2021-11-30             Trudy Brown       Philadelphia        Furniture  FUR-CH-10003981   1079.3160   -15.4188\n4990  US-2021-165869  2021-07-31            Luke Schmidt          Milwaukee  Office Supplies  OFF-AP-10002472    155.8800    54.5580\n4991  US-2021-166037  2021-01-28            Craig Leslie      New York City       Technology  TEC-AC-10002800    449.9100   157.4685\n4992  US-2021-166233  2021-07-03          Michael Oakman       Jacksonville       Technology  TEC-AC-10002167     24.0000    -2.7000\n4993  US-2021-166324  2021-04-20              Brad Eason          Cleveland  Office Supplies  OFF-BI-10000174      8.7000    -6.3800\n4994  US-2021-166394  2021-09-04           Vivian Mathis             Nashua  Office Supplies  OFF-FA-10001843     14.8200     6.9654\n4995  US-2021-166611  2021-03-28             Cyma Kinney       Jacksonville  Office Supplies  OFF-BI-10001191     68.7420   -48.1194\n4996  US-2021-166688  2021-05-20             Rick Duston          Las Vegas  Office Supplies  OFF-AP-10000358     64.9000    18.8210\n4997  US-2021-167318  2021-07-26         George Zrebassa        Los Angeles        Furniture  FUR-CH-10000665    362.3520    45.2940\n4998  US-2021-167402  2021-01-13          Cathy Prescott        Springfield        Furniture  FUR-BO-10001608    212.9400    53.2350\n4999  US-2021-167570  2021-12-08             Emily Grady       Philadelphia        Furniture  FUR-CH-10003396    215.5440   -58.5048\n5000  US-2021-167920  2021-12-09                John Lee           Richmond  Office Supplies  OFF-AP-10000159    214.9000    62.3210\n5001  US-2021-168116  2021-11-04          Grant Thornton         Burlington  Office Supplies  OFF-AP-10002457    167.4400    14.6510\n5002  US-2021-168613  2021-10-08             Gary McGarr      New York City        Furniture  FUR-CH-10002372    145.7640     3.2392\n5003  US-2021-168690  2021-01-07           Thais Sissman       Ormond Beach  Office Supplies  OFF-BI-10000145      2.8080    -1.9656\n5004  US-2021-168802  2021-11-03           Jack O'Briant            Seattle  Office Supplies  OFF-BI-10002393     18.3680     5.9696\n5005  US-2021-169320  2021-07-23          Lena Hernandez            Elkhart  Office Supplies  OFF-AR-10003602     11.6800     5.4896\n5006  US-2021-169488  2021-09-07            Allen Armold         Providence  Office Supplies  OFF-PA-10000157     39.9600    18.7812\n5007  US-2021-169502  2021-08-28       Matthew Grinstein          Milwaukee  Office Supplies  OFF-AP-10001947     91.6000    26.5640\n5008  US-2021-169551  2021-07-07               Rob Lucas       Philadelphia        Furniture  FUR-BO-10001519     87.2100   -45.3492\n"
     ]
    }
   ],
   "source": [
    "# to print the whole df\n",
    "print(df.to_string())"
   ]
  }
 ],
 "metadata": {
  "application/vnd.databricks.v1+notebook": {
   "dashboards": [],
   "environmentMetadata": null,
   "language": "python",
   "notebookMetadata": {
    "mostRecentlyExecutedCommandWithImplicitDF": {
     "commandId": 3296036692629286,
     "dataframes": [
      "_sqldf"
     ]
    },
    "pythonIndentUnit": 4
   },
   "notebookName": "Day_8",
   "widgets": {}
  }
 },
 "nbformat": 4,
 "nbformat_minor": 0
}
