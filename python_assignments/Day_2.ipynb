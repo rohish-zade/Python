{
 "cells": [
  {
   "cell_type": "markdown",
   "metadata": {
    "application/vnd.databricks.v1+cell": {
     "cellMetadata": {},
     "inputWidgets": {},
     "nuid": "9e4ed3d3-a0ef-4823-ae24-81e72178fea8",
     "showTitle": false,
     "title": ""
    }
   },
   "source": [
    "###Lists in Python"
   ]
  },
  {
   "cell_type": "markdown",
   "metadata": {
    "application/vnd.databricks.v1+cell": {
     "cellMetadata": {},
     "inputWidgets": {},
     "nuid": "7b1fc710-062f-4785-8cf0-b40217feb262",
     "showTitle": false,
     "title": ""
    }
   },
   "source": [
    "#####1 - write a program which takes single input from user contaning first name,last name and age as comma separated value and display then in 3 lines in given format below.\n",
    "\n",
    "example user input : Rohish,Zade,27\n",
    "\n",
    "Output:\n",
    "- First name is Rohish\n",
    "- last name is Zade\n",
    "- Ankit is 27 years old\n",
    "\n",
    "note : do not hardcode name at any place"
   ]
  },
  {
   "cell_type": "code",
   "execution_count": 0,
   "metadata": {
    "application/vnd.databricks.v1+cell": {
     "cellMetadata": {
      "byteLimit": 2048000,
      "rowLimit": 10000
     },
     "inputWidgets": {},
     "nuid": "1c65790d-8761-4d6a-bf18-f36eadfc491c",
     "showTitle": false,
     "title": ""
    }
   },
   "outputs": [
    {
     "output_type": "display_data",
     "data": {
      "text/plain": [
       "Enter the first name, last name and age (comma-separated):  Rohish,Zade,27"
      ]
     },
     "metadata": {},
     "output_type": "display_data"
    },
    {
     "output_type": "stream",
     "name": "stdout",
     "output_type": "stream",
     "text": [
      "First name is Rohish\nLast name is Zade\nRohish is 27 years old\n"
     ]
    }
   ],
   "source": [
    "user_input = input(\"Enter the first name, last name and age (comma-separated): \")\n",
    "first_name, last_name, age = user_input.split(\",\")\n",
    "print(f\"First name is {first_name}\\nLast name is {last_name}\\nRohish is {age} years old\")\n",
    "\n",
    "#Note how we can assign each element of list to 3 different variables with direct assignment. The number of variables and and length of list should be same. this is also known as unpacking and it works with tuples as well \n",
    "\n",
    "# Alternatively we can do using indexing \n",
    "# input_list=user_input.split(',')\n",
    "# first_name = input_list[0]\n",
    "# last_name = input_list[1]\n",
    "# age = input_list[2]"
   ]
  },
  {
   "cell_type": "markdown",
   "metadata": {
    "application/vnd.databricks.v1+cell": {
     "cellMetadata": {},
     "inputWidgets": {},
     "nuid": "7147ada6-4561-401e-a1aa-011264014531",
     "showTitle": false,
     "title": ""
    }
   },
   "source": [
    "#####2- given 2 list as list1= [1,3,4] and list2 = [2,4,6]\n",
    "\n",
    "combined the 2 list and diplay the same without using extend method"
   ]
  },
  {
   "cell_type": "code",
   "execution_count": 0,
   "metadata": {
    "application/vnd.databricks.v1+cell": {
     "cellMetadata": {
      "byteLimit": 2048000,
      "rowLimit": 10000
     },
     "inputWidgets": {},
     "nuid": "c1ba20f5-ad4a-4cf7-9939-fcc85d7fb1e4",
     "showTitle": false,
     "title": ""
    }
   },
   "outputs": [
    {
     "output_type": "stream",
     "name": "stdout",
     "output_type": "stream",
     "text": [
      "[1, 3, 4, 2, 4, 6]\n"
     ]
    }
   ],
   "source": [
    "list1= [1,3,4]\n",
    "list2 = [2,4,6]\n",
    "\n",
    "list3 = list1 + list2\n",
    "print(list3)"
   ]
  },
  {
   "cell_type": "markdown",
   "metadata": {
    "application/vnd.databricks.v1+cell": {
     "cellMetadata": {},
     "inputWidgets": {},
     "nuid": "86aab4e0-12cc-4faf-ac6e-34a2102d6f90",
     "showTitle": false,
     "title": ""
    }
   },
   "source": [
    "#####3 - given a list list1=[1,2,3,4,5,6,7,8]\n",
    "diplay a new list which contains only odd position index values from above list."
   ]
  },
  {
   "cell_type": "code",
   "execution_count": 0,
   "metadata": {
    "application/vnd.databricks.v1+cell": {
     "cellMetadata": {
      "byteLimit": 2048000,
      "rowLimit": 10000
     },
     "inputWidgets": {},
     "nuid": "156ef69b-e098-4d9d-9302-bdacc93ed26d",
     "showTitle": false,
     "title": ""
    }
   },
   "outputs": [
    {
     "output_type": "stream",
     "name": "stdout",
     "output_type": "stream",
     "text": [
      "[2, 4, 6, 8]\n"
     ]
    }
   ],
   "source": [
    "list1=[1,2,3,4,5,6,7,8]\n",
    "\n",
    "odd_position_values = list1[1::2]\n",
    "print(odd_position_values)\n",
    "\n",
    "\n",
    "# solution 2: using loops \n",
    "# odd_position_values = []\n",
    "# for i in range(len(list1)):\n",
    "#     if i % 2 != 0:\n",
    "#         odd_position_values.append(list1[i])\n",
    "# print(\"New list with odd position values:\", odd_position_values)"
   ]
  },
  {
   "cell_type": "markdown",
   "metadata": {
    "application/vnd.databricks.v1+cell": {
     "cellMetadata": {},
     "inputWidgets": {},
     "nuid": "2373cd1e-1d53-4847-b1e8-c6491ce4b99e",
     "showTitle": false,
     "title": ""
    }
   },
   "source": [
    "#####4 - ipl= ['CSK','MI','KKR','LSG','PBKS']\n",
    "\n",
    "take a ipl team name as input from user and display a list of all elements from that name.\n",
    "\n",
    "example :\n",
    "- input : KKR\n",
    "- output : ['KKR','LSG','PBKS']"
   ]
  },
  {
   "cell_type": "code",
   "execution_count": 0,
   "metadata": {
    "application/vnd.databricks.v1+cell": {
     "cellMetadata": {
      "byteLimit": 2048000,
      "rowLimit": 10000
     },
     "inputWidgets": {},
     "nuid": "5ab3b118-369f-4242-aac9-9ce27efa8943",
     "showTitle": false,
     "title": ""
    }
   },
   "outputs": [
    {
     "output_type": "display_data",
     "data": {
      "text/plain": [
       "Enter your IPL team name from the list ['CSK','MI','KKR','LSG','PBKS']:  KKR"
      ]
     },
     "metadata": {},
     "output_type": "display_data"
    },
    {
     "output_type": "stream",
     "name": "stdout",
     "output_type": "stream",
     "text": [
      "['KKR', 'LSG', 'PBKS']\n"
     ]
    }
   ],
   "source": [
    "ipl= ['CSK','MI','KKR','LSG','PBKS']\n",
    "\n",
    "user_input = input(\"Enter your IPL team name from the list ['CSK','MI','KKR','LSG','PBKS']: \")\n",
    "\n",
    "output = ipl[ipl.index(user_input):]\n",
    "print(output)"
   ]
  },
  {
   "cell_type": "markdown",
   "metadata": {
    "application/vnd.databricks.v1+cell": {
     "cellMetadata": {},
     "inputWidgets": {},
     "nuid": "f3ac0cf0-0576-4c43-a893-6536a1eca6e3",
     "showTitle": false,
     "title": ""
    }
   },
   "source": [
    "#####5 - ipl= ['CSK','MI','KKR','LSG','PBKS']\n",
    "\n",
    "take a ipl team name as input from user and display a list of all elements except input one\n",
    "\n",
    "example : \n",
    "- input : KKR\n",
    "- output : ['CSK','MI','LSG','PBKS']"
   ]
  },
  {
   "cell_type": "code",
   "execution_count": 0,
   "metadata": {
    "application/vnd.databricks.v1+cell": {
     "cellMetadata": {
      "byteLimit": 2048000,
      "rowLimit": 10000
     },
     "inputWidgets": {},
     "nuid": "c94c1d84-7427-4150-a127-649e3974feed",
     "showTitle": false,
     "title": ""
    }
   },
   "outputs": [
    {
     "output_type": "display_data",
     "data": {
      "text/plain": [
       "Enter your IPL team name from the list ['CSK','MI','KKR','LSG','PBKS']:  KKR"
      ]
     },
     "metadata": {},
     "output_type": "display_data"
    },
    {
     "output_type": "stream",
     "name": "stdout",
     "output_type": "stream",
     "text": [
      "['CSK', 'MI', 'LSG', 'PBKS']\n"
     ]
    }
   ],
   "source": [
    "ipl= ['CSK','MI','KKR','LSG','PBKS']\n",
    "\n",
    "user_input = input(\"Enter your IPL team name from the list ['CSK','MI','KKR','LSG','PBKS']: \")\n",
    "\n",
    "ipl_teams = ipl.copy()\n",
    "ipl_teams.remove(user_input)\n",
    "\n",
    "print(ipl_teams)"
   ]
  },
  {
   "cell_type": "markdown",
   "metadata": {
    "application/vnd.databricks.v1+cell": {
     "cellMetadata": {},
     "inputWidgets": {},
     "nuid": "26b94f7f-245b-4203-b6f3-44661221a0cb",
     "showTitle": false,
     "title": ""
    }
   },
   "source": [
    "#####6 - ipl= ['CSK','MI','KKR','LSG','PBKS']\n",
    "take a user input contains 2 comma seprated values index,new_team . replace the index element of list with new value and display the same\n",
    "\n",
    "example : \n",
    "- input : 2,SRH\n",
    "- output : ['CSK','MI','SRH','LSG','PBKS']"
   ]
  },
  {
   "cell_type": "code",
   "execution_count": 0,
   "metadata": {
    "application/vnd.databricks.v1+cell": {
     "cellMetadata": {
      "byteLimit": 2048000,
      "rowLimit": 10000
     },
     "inputWidgets": {},
     "nuid": "8462ded6-bdeb-4191-97b4-613651324e04",
     "showTitle": false,
     "title": ""
    }
   },
   "outputs": [
    {
     "output_type": "display_data",
     "data": {
      "text/plain": [
       "Enter index and IPL team (comma separated):  2,SRH"
      ]
     },
     "metadata": {},
     "output_type": "display_data"
    },
    {
     "output_type": "stream",
     "name": "stdout",
     "output_type": "stream",
     "text": [
      "Updated list: ['CSK', 'MI', 'SRH', 'LSG', 'PBKS']\n"
     ]
    }
   ],
   "source": [
    "ipl= ['CSK','MI','KKR','LSG','PBKS']\n",
    "\n",
    "user_input = input(\"Enter index and IPL team (comma separated): \").split(\",\")\n",
    "\n",
    "index = int(user_input[0])\n",
    "team = user_input[1]\n",
    "ipl[index] = team\n",
    "\n",
    "print(\"Updated list:\", ipl)"
   ]
  },
  {
   "cell_type": "markdown",
   "metadata": {
    "application/vnd.databricks.v1+cell": {
     "cellMetadata": {},
     "inputWidgets": {},
     "nuid": "74c0dea1-28d9-462e-a2b3-a60a5ffeebbe",
     "showTitle": false,
     "title": ""
    }
   },
   "source": [
    "#####7 - ipl= ['CSK','MI','KKR','LSG','PBKS']\n",
    "take ipl team name as user input. display True if the team exists else display False."
   ]
  },
  {
   "cell_type": "code",
   "execution_count": 0,
   "metadata": {
    "application/vnd.databricks.v1+cell": {
     "cellMetadata": {
      "byteLimit": 2048000,
      "rowLimit": 10000
     },
     "inputWidgets": {},
     "nuid": "5be04ae2-8d94-417d-8c7f-c32bc4f79349",
     "showTitle": false,
     "title": ""
    }
   },
   "outputs": [
    {
     "output_type": "display_data",
     "data": {
      "text/plain": [
       "Enter IPL team name:  PCB"
      ]
     },
     "metadata": {},
     "output_type": "display_data"
    },
    {
     "output_type": "stream",
     "name": "stdout",
     "output_type": "stream",
     "text": [
      "False\n"
     ]
    }
   ],
   "source": [
    "ipl= ['CSK','MI','KKR','LSG','PBKS']\n",
    "\n",
    "team_name = input(\"Enter IPL team name: \")\n",
    "\n",
    "team_exists = team_name in ipl\n",
    "print(team_exists)"
   ]
  },
  {
   "cell_type": "markdown",
   "metadata": {
    "application/vnd.databricks.v1+cell": {
     "cellMetadata": {},
     "inputWidgets": {},
     "nuid": "bd7011f4-74f5-47d4-a0e8-8b7272120f13",
     "showTitle": false,
     "title": ""
    }
   },
   "source": [
    "#####8 - ipl= ['CSK','MI','KKR','LSG','PBKS']\n",
    "take a user input contains 2 comma seprated values index,new_team . Add the new value at that index in the list. \n",
    "Display the old list , new list,length of original and new list\n",
    "\n",
    "example : \n",
    "- input : 2,SRH\n",
    "\n",
    "output : \n",
    "- old list : ['CSK','MI','KKR','LSG','PBKS'] and length 5\n",
    "- new list : ['CSK','MI','SRH','KKR',LSG','PBKS'] and length 6"
   ]
  },
  {
   "cell_type": "code",
   "execution_count": 0,
   "metadata": {
    "application/vnd.databricks.v1+cell": {
     "cellMetadata": {
      "byteLimit": 2048000,
      "rowLimit": 10000
     },
     "inputWidgets": {},
     "nuid": "008d5a04-3600-48bf-81f9-2d3d10721e40",
     "showTitle": false,
     "title": ""
    }
   },
   "outputs": [
    {
     "output_type": "display_data",
     "data": {
      "text/plain": [
       "Enter index and IPL team (comma separated):  2,SRH"
      ]
     },
     "metadata": {},
     "output_type": "display_data"
    },
    {
     "output_type": "stream",
     "name": "stdout",
     "output_type": "stream",
     "text": [
      "old list : ['CSK', 'MI', 'KKR', 'LSG', 'PBKS'] and length 5\nnew list : ['CSK', 'MI', 'SRH', 'KKR', 'LSG', 'PBKS'] and length 6\n"
     ]
    }
   ],
   "source": [
    "ipl= ['CSK','MI','KKR','LSG','PBKS']\n",
    "\n",
    "index, team_name = input(\"Enter index and IPL team (comma separated): \").split(\",\")\n",
    "\n",
    "new_team = ipl.copy()\n",
    "new_team.insert(int(index),team_name)\n",
    "\n",
    "print(f\"old list : {ipl} and length {len(ipl)}\")\n",
    "print(f\"new list : {new_team} and length {len(new_team)}\")"
   ]
  }
 ],
 "metadata": {
  "application/vnd.databricks.v1+notebook": {
   "dashboards": [],
   "environmentMetadata": null,
   "language": "python",
   "notebookMetadata": {
    "pythonIndentUnit": 4
   },
   "notebookName": "Day_2",
   "widgets": {}
  }
 },
 "nbformat": 4,
 "nbformat_minor": 0
}
